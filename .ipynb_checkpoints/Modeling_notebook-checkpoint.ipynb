{
 "cells": [
  {
   "cell_type": "markdown",
   "metadata": {},
   "source": [
    "This notebook is strictly for modeling and keeping track of thechanges I make per model/ what changes improve the accuracy/reduces overfitting the most"
   ]
  },
  {
   "cell_type": "code",
   "execution_count": 1,
   "metadata": {},
   "outputs": [],
   "source": [
    "#imports \n",
    "import os, shutil\n",
    "import pandas as pd\n",
    "from sklearn.metrics import accuracy_score, recall_score\n",
    "import time\n",
    "import matplotlib.pyplot as plt\n",
    "import scipy\n",
    "import numpy as np\n",
    "from PIL import Image\n",
    "from scipy import ndimage\n",
    "from keras.preprocessing.image import ImageDataGenerator, array_to_img, img_to_array, load_img\n",
    "from keras import models\n",
    "from keras import layers\n",
    "from tensorflow.keras import regularizers\n",
    "import seaborn as sns\n",
    "import tensorflow as tf\n",
    "from keras.callbacks import EarlyStopping"
   ]
  },
  {
   "cell_type": "code",
   "execution_count": 2,
   "metadata": {},
   "outputs": [],
   "source": [
    "# strings of directories for the different data\n",
    "train_images_dir = 'C:/Users/User/Documents/Flatiron/Capstone/train_data/images'\n",
    "test_images_dir = 'C:/Users/User/Documents/Flatiron/Capstone/test_data/images'"
   ]
  },
  {
   "cell_type": "code",
   "execution_count": 3,
   "metadata": {},
   "outputs": [],
   "source": [
    "global_target_size = (64,64)\n",
    "global_batch_size = 32\n",
    "global_epochs = 75"
   ]
  },
  {
   "cell_type": "code",
   "execution_count": 4,
   "metadata": {},
   "outputs": [],
   "source": [
    "score_dictionary = {}"
   ]
  },
  {
   "cell_type": "code",
   "execution_count": 5,
   "metadata": {},
   "outputs": [],
   "source": [
    "train_val_generator = ImageDataGenerator(rescale=1./255,\n",
    "                                         validation_split = .25,horizontal_flip = True)"
   ]
  },
  {
   "cell_type": "code",
   "execution_count": 6,
   "metadata": {},
   "outputs": [
    {
     "name": "stdout",
     "output_type": "stream",
     "text": [
      "Found 2630 images belonging to 2 classes.\n"
     ]
    }
   ],
   "source": [
    "train_data = train_val_generator.flow_from_directory(train_images_dir,  \n",
    "                                                     target_size = global_target_size,\n",
    "                                                     subset='training',\n",
    "                                                     batch_size=global_batch_size,\n",
    "                                                     class_mode='binary',\n",
    "                                                    shuffle = True,\n",
    "                                                    seed = 100)"
   ]
  },
  {
   "cell_type": "code",
   "execution_count": 7,
   "metadata": {},
   "outputs": [
    {
     "name": "stdout",
     "output_type": "stream",
     "text": [
      "Found 876 images belonging to 2 classes.\n"
     ]
    }
   ],
   "source": [
    "val_data = train_val_generator.flow_from_directory(train_images_dir,\n",
    "       subset = 'validation',  \n",
    "       target_size = global_target_size,\n",
    "       batch_size=global_batch_size,\n",
    "       class_mode='binary',\n",
    "       seed = 100)"
   ]
  },
  {
   "cell_type": "code",
   "execution_count": 8,
   "metadata": {},
   "outputs": [
    {
     "name": "stdout",
     "output_type": "stream",
     "text": [
      "Found 809 images belonging to 2 classes.\n"
     ]
    }
   ],
   "source": [
    "test_generator = ImageDataGenerator(rescale=1./255)\n",
    "test_data = test_generator.flow_from_directory(\n",
    "        test_images_dir,  \n",
    "        target_size = global_target_size,\n",
    "        batch_size=global_batch_size,\n",
    "        class_mode='binary',\n",
    "        shuffle= False)"
   ]
  },
  {
   "cell_type": "markdown",
   "metadata": {},
   "source": [
    "Trying ONLY Guns, to see if this makes it easier on my model"
   ]
  },
  {
   "cell_type": "code",
   "execution_count": 9,
   "metadata": {},
   "outputs": [],
   "source": [
    "# strings of directories for the different data\n",
    "train_images_dir = 'C:/Users/User/Documents/Flatiron/Capstone/train_data_guns'"
   ]
  },
  {
   "cell_type": "code",
   "execution_count": 83,
   "metadata": {},
   "outputs": [],
   "source": [
    "global_target_size = (127,127)\n",
    "global_batch_size = 32\n",
    "global_epochs = 75"
   ]
  },
  {
   "cell_type": "code",
   "execution_count": 11,
   "metadata": {},
   "outputs": [],
   "source": [
    "train_val_generator = ImageDataGenerator(rescale=1./255,\n",
    "                                         validation_split = .25)"
   ]
  },
  {
   "cell_type": "code",
   "execution_count": 12,
   "metadata": {},
   "outputs": [
    {
     "name": "stdout",
     "output_type": "stream",
     "text": [
      "Found 1001 images belonging to 2 classes.\n"
     ]
    }
   ],
   "source": [
    "train_data = train_val_generator.flow_from_directory(train_images_dir,  \n",
    "                                                     target_size = global_target_size,\n",
    "                                                     subset='training',\n",
    "                                                     batch_size=global_batch_size,\n",
    "                                                     class_mode='binary',\n",
    "                                                    shuffle = True,\n",
    "                                                    seed = 100)"
   ]
  },
  {
   "cell_type": "code",
   "execution_count": 13,
   "metadata": {},
   "outputs": [
    {
     "name": "stdout",
     "output_type": "stream",
     "text": [
      "Found 332 images belonging to 2 classes.\n"
     ]
    }
   ],
   "source": [
    "val_data = train_val_generator.flow_from_directory(train_images_dir,\n",
    "       subset = 'validation',  \n",
    "       target_size = global_target_size,\n",
    "       batch_size=global_batch_size,\n",
    "       class_mode='binary',\n",
    "       seed = 100)"
   ]
  },
  {
   "cell_type": "code",
   "execution_count": 14,
   "metadata": {},
   "outputs": [],
   "source": [
    "early_stopping = EarlyStopping(monitor='val_acc', patience=5)"
   ]
  },
  {
   "cell_type": "markdown",
   "metadata": {},
   "source": [
    "### CNN 1 - Baseline"
   ]
  },
  {
   "cell_type": "markdown",
   "metadata": {},
   "source": [
    "The baseline model is comprised of \n",
    "\n",
    "stack 1 - 1 Conv2d layer with 32 nodes, relu activation, (3,3) kernel size, 1 max pooling later with (2,2) pool size\n",
    "\n",
    "stack 2 - 1 Conv2d layer with 32 nodes, relu activation, (4,4) kernel size, 1 max pooling layer with (2,2) pool size\n",
    "\n",
    "stack 3 - 1 Conv2D layer with 64 nodes, relu activation, (3,3) kernel size, 1 max pooling later with (2,2) pool size\n",
    "\n",
    "flattening layer - layer that flattens the tensor into a 1D array to be fed into the dense layers\n",
    "\n",
    "Dense Layer 1 - Dense layer with 64 nodes and relu activation \n",
    "\n",
    "Dense Layer 2 - output layer with sigmoid activation"
   ]
  },
  {
   "cell_type": "code",
   "execution_count": 15,
   "metadata": {},
   "outputs": [],
   "source": [
    "# baseline = models.Sequential()\n",
    "\n",
    "# # stack 1\n",
    "# baseline.add(layers.Conv2D(32, (3, 3), activation='relu',\n",
    "#                         input_shape=(global_target_size[0], global_target_size[0],  3)))\n",
    "# baseline.add(layers.MaxPooling2D((2, 2)))\n",
    "\n",
    "# # stack 2\n",
    "# baseline.add(layers.Conv2D(32, (4, 4), activation='relu'))\n",
    "# baseline.add(layers.MaxPooling2D((2, 2)))\n",
    "\n",
    "# # stack 3\n",
    "# baseline.add(layers.Conv2D(64, (3, 3), activation='relu'))\n",
    "# baseline.add(layers.MaxPooling2D((2, 2)))\n",
    "\n",
    "# # flattening layer\n",
    "# baseline.add(layers.Flatten())\n",
    "\n",
    "# # Dense Layer 1 \n",
    "# baseline.add(layers.Dense(64, activation='relu'))\n",
    "\n",
    "# # Dense Layer 2 // output layer\n",
    "# baseline.add(layers.Dense(1, activation='sigmoid'))\n",
    "\n",
    "\n",
    "# ## Compiling baseline \n",
    "# baseline.compile(loss='binary_crossentropy',\n",
    "#               optimizer=\"sgd\",\n",
    "#               metrics=['acc'])"
   ]
  },
  {
   "cell_type": "code",
   "execution_count": 16,
   "metadata": {},
   "outputs": [],
   "source": [
    "# baseline_history = baseline.fit(train_data,\n",
    "#                     epochs=global_epochs,\n",
    "#                     validation_data = val_data\n",
    "#                    )"
   ]
  },
  {
   "cell_type": "code",
   "execution_count": 17,
   "metadata": {},
   "outputs": [],
   "source": [
    "# baseline_train_results = baseline.evaluate(train_data)\n",
    "# baseline_train_results"
   ]
  },
  {
   "cell_type": "code",
   "execution_count": 18,
   "metadata": {},
   "outputs": [],
   "source": [
    "# baseline_val_results = baseline.evaluate(val_data)\n",
    "# baseline_val_results"
   ]
  },
  {
   "cell_type": "code",
   "execution_count": 19,
   "metadata": {},
   "outputs": [],
   "source": [
    "# score_dictionary['baseline'] =  (baseline_train_results,baseline_val_results)"
   ]
  },
  {
   "cell_type": "code",
   "execution_count": 20,
   "metadata": {},
   "outputs": [],
   "source": [
    "# # visualizing loss and accuracy per epoch\n",
    "# baseline_train_loss = baseline_history.history['loss']\n",
    "# baseline_train_acc = baseline_history.history['acc']\n",
    "# baseline_val_loss = baseline_history.history['val_loss']\n",
    "# baseline_val_acc = baseline_history.history['val_acc']\n",
    "\n",
    "\n",
    "# fig, (ax1, ax2) = plt.subplots(1, 2, figsize=(10, 5))\n",
    "\n",
    "# sns.lineplot(x=baseline_history.epoch, y=baseline_train_loss, ax=ax1, label='training loss')\n",
    "# sns.lineplot(x=baseline_history.epoch, y=baseline_train_acc, ax=ax2, label='training accuracy')\n",
    "\n",
    "# sns.lineplot(x=baseline_history.epoch, y=baseline_val_loss, ax=ax1, label='validation loss')\n",
    "# sns.lineplot(x=baseline_history.epoch, y=baseline_val_acc, ax=ax2, label='validation accuracy');"
   ]
  },
  {
   "cell_type": "markdown",
   "metadata": {},
   "source": [
    "### CNN Iteration 1"
   ]
  },
  {
   "cell_type": "markdown",
   "metadata": {},
   "source": [
    "In this iteration I will increase the number of dense/hidden layers and add some dropout"
   ]
  },
  {
   "cell_type": "markdown",
   "metadata": {},
   "source": [
    "CNN 1 Architecture\n",
    "\n",
    "Changes Made: \n",
    "- removed the third stack\n",
    "- added 2 dense layers and 2 dropout layers"
   ]
  },
  {
   "cell_type": "code",
   "execution_count": 21,
   "metadata": {},
   "outputs": [],
   "source": [
    "# model1 = models.Sequential()\n",
    "\n",
    "# # stack 1\n",
    "# model1.add(layers.Conv2D(32, (3, 3), activation='relu',\n",
    "#                         input_shape=(global_target_size[0], global_target_size[0],  3)))\n",
    "# model1.add(layers.MaxPooling2D((2, 2)))\n",
    "\n",
    "# # stack 2\n",
    "# model1.add(layers.Conv2D(32, (4, 4), activation='relu'))\n",
    "# model1.add(layers.MaxPooling2D((2, 2)))\n",
    "\n",
    "\n",
    "# # flattening layer\n",
    "# model1.add(layers.Flatten())\n",
    "\n",
    "# # Dense Layer 1 \n",
    "# model1.add(layers.Dense(32, activation='relu'))\n",
    "\n",
    "# # Dense Dropout layer 1 \n",
    "# model1.add(layers.Dropout(.25))\n",
    "\n",
    "# # Dense Layer 2 \n",
    "# model1.add(layers.Dense(64, activation='relu'))\n",
    "\n",
    "# # Dense Dropout Layer 2\n",
    "# model1.add(layers.Dropout(.5))\n",
    "\n",
    "# # Dense Layer 3\n",
    "# model1.add(layers.Dense(32, activation='relu'))\n",
    "\n",
    "# # Dense Layer 2 // output layer\n",
    "# model1.add(layers.Dense(1, activation='sigmoid'))\n",
    "\n",
    "\n",
    "# ## Compiling baseline \n",
    "# model1.compile(loss='binary_crossentropy',\n",
    "#               optimizer=\"sgd\",\n",
    "#               metrics=['acc'])"
   ]
  },
  {
   "cell_type": "code",
   "execution_count": 22,
   "metadata": {},
   "outputs": [],
   "source": [
    "# model1_history = model1.fit(train_data,\n",
    "#                     epochs=global_epochs,\n",
    "#                     validation_data = val_data\n",
    "#                    )"
   ]
  },
  {
   "cell_type": "code",
   "execution_count": 23,
   "metadata": {},
   "outputs": [],
   "source": [
    "# model_1_train_results = model1.evaluate(train_data)\n",
    "# model_1_train_results\n",
    "\n",
    "# model_1_val_results = model1.evaluate(val_data)\n",
    "# model_1_val_results"
   ]
  },
  {
   "cell_type": "code",
   "execution_count": 24,
   "metadata": {},
   "outputs": [],
   "source": [
    "# score_dictionary['model 1'] = (model_1_train_results,model_1_val_results)"
   ]
  },
  {
   "cell_type": "code",
   "execution_count": 25,
   "metadata": {},
   "outputs": [],
   "source": [
    "# # visualizing loss and accuracy per epoch\n",
    "# model1_train_loss = model1_history.history['loss']\n",
    "# model1_train_acc = model1_history.history['acc']\n",
    "# model1_val_loss = model1_history.history['val_loss']\n",
    "# model1_val_acc = model1_history.history['val_acc']\n",
    "\n",
    "\n",
    "# fig, (ax1, ax2) = plt.subplots(1, 2, figsize=(10, 5))\n",
    "\n",
    "# sns.lineplot(x=model1_history.epoch, y=model1_train_loss, ax=ax1, label='training loss')\n",
    "# sns.lineplot(x=model1_history.epoch, y=model1_train_acc, ax=ax2, label='training accuracy')\n",
    "\n",
    "# sns.lineplot(x=model1_history.epoch, y=model1_val_loss, ax=ax1, label='validation loss')\n",
    "# sns.lineplot(x=model1_history.epoch, y=model1_val_acc, ax=ax2, label='validation accuracy');"
   ]
  },
  {
   "cell_type": "markdown",
   "metadata": {},
   "source": [
    "### CNN Iteration 2"
   ]
  },
  {
   "cell_type": "markdown",
   "metadata": {},
   "source": [
    "In this iteration I will change the MaxPooling stride to (2,2) instead of the default of None"
   ]
  },
  {
   "cell_type": "markdown",
   "metadata": {},
   "source": [
    "### SHOULD TRY stride of 1,1 as well"
   ]
  },
  {
   "cell_type": "code",
   "execution_count": 26,
   "metadata": {},
   "outputs": [],
   "source": [
    "# model2 = models.Sequential()\n",
    "\n",
    "# # stack 1\n",
    "# model2.add(layers.Conv2D(32, (3, 3), activation='relu',\n",
    "#                         input_shape=(global_target_size[0], global_target_size[0],  3)))\n",
    "# model2.add(layers.MaxPooling2D((2, 2),\n",
    "#                         strides = (2,2)))\n",
    "\n",
    "# # stack 2\n",
    "# model2.add(layers.Conv2D(32, (4, 4), activation='relu',strides = (2,2)))\n",
    "# model2.add(layers.MaxPooling2D((2, 2),\n",
    "#                         strides = (2,2)))\n",
    "\n",
    "# # stack 3\n",
    "# model2.add(layers.Conv2D(64, (3, 3), activation='relu',strides = (2,2)))\n",
    "# model2.add(layers.MaxPooling2D((2, 2),\n",
    "#                         strides = (2,2)))\n",
    "\n",
    "# # flattening layer\n",
    "# model2.add(layers.Flatten())\n",
    "\n",
    "# # Dense Layer 1 \n",
    "# model2.add(layers.Dense(64, activation='relu'))\n",
    "\n",
    "# # Dense Layer 2 // output layer\n",
    "# model2.add(layers.Dense(1, activation='sigmoid'))\n",
    "\n",
    "\n",
    "# ## Compiling baseline \n",
    "# model2.compile(loss='binary_crossentropy',\n",
    "#               optimizer=\"sgd\",\n",
    "#               metrics=['acc'])"
   ]
  },
  {
   "cell_type": "code",
   "execution_count": 27,
   "metadata": {},
   "outputs": [],
   "source": [
    "# model2_history = model2.fit(train_data,\n",
    "#                     epochs=global_epochs,\n",
    "#                     validation_data = val_data\n",
    "#                    )"
   ]
  },
  {
   "cell_type": "code",
   "execution_count": 28,
   "metadata": {},
   "outputs": [],
   "source": [
    "# model_2_train_results = model2.evaluate(train_data)\n",
    "# model_2_train_results\n",
    "\n",
    "# model_2_val_results = model2.evaluate(val_data)\n",
    "# model_2_val_results"
   ]
  },
  {
   "cell_type": "code",
   "execution_count": 29,
   "metadata": {},
   "outputs": [],
   "source": [
    "# score_dictionary['model 2'] = (model_2_train_results,model_2_val_results)"
   ]
  },
  {
   "cell_type": "code",
   "execution_count": 30,
   "metadata": {},
   "outputs": [],
   "source": [
    "# # visualizing loss and accuracy per epoch\n",
    "# model2_train_loss = model2_history.history['loss']\n",
    "# model2_train_acc = model2_history.history['acc']\n",
    "# model2_val_loss = model2_history.history['val_loss']\n",
    "# model2_val_acc = model2_history.history['val_acc']\n",
    "\n",
    "\n",
    "# fig, (ax1, ax2) = plt.subplots(1, 2, figsize=(10, 5))\n",
    "\n",
    "# sns.lineplot(x=model2_history.epoch, y=model2_train_loss, ax=ax1, label='training loss')\n",
    "# sns.lineplot(x=model2_history.epoch, y=model2_train_acc, ax=ax2, label='training accuracy')\n",
    "\n",
    "# sns.lineplot(x=model2_history.epoch, y=model2_val_loss, ax=ax1, label='validation loss')\n",
    "# sns.lineplot(x=model2_history.epoch, y=model2_val_acc, ax=ax2, label='validation accuracy');"
   ]
  },
  {
   "cell_type": "markdown",
   "metadata": {},
   "source": [
    "### CNN Iteration 3"
   ]
  },
  {
   "cell_type": "markdown",
   "metadata": {},
   "source": [
    "In this iteration I will increase the amount of convolutional layers and decrease the amount of dense layers"
   ]
  },
  {
   "cell_type": "code",
   "execution_count": 31,
   "metadata": {},
   "outputs": [],
   "source": [
    "# model3 = models.Sequential()\n",
    "\n",
    "# # Stack 1\n",
    "# model3.add(layers.Conv2D(filters = 32,\n",
    "#                          kernel_size=(3,3),\n",
    "#                          activation='relu',\n",
    "#                          input_shape = (global_target_size[0],global_target_size[0], 3)\n",
    "#                         ))\n",
    "# model3.add(layers.MaxPooling2D(pool_size = (2, 2)))\n",
    "\n",
    "# # Stack 2\n",
    "# model3.add(layers.Conv2D(32, (4, 4), activation='relu'))\n",
    "# model3.add(layers.MaxPooling2D((2, 2)))\n",
    "\n",
    "# # Stack 3\n",
    "# model3.add(layers.Conv2D(64, (3, 3), activation='relu'))\n",
    "# model3.add(layers.MaxPooling2D((2, 2)))\n",
    "\n",
    "# # Stack 4\n",
    "# model3.add(layers.Conv2D(64, (3, 3), activation='relu'))\n",
    "# model3.add(layers.MaxPooling2D((2, 2)))\n",
    "\n",
    "# # Flattening layer\n",
    "# model3.add(layers.Flatten())\n",
    "\n",
    "# # Dense layer 1\n",
    "# model3.add(layers.Dense(64, activation='relu'))\n",
    "\n",
    "# # Dense layer 2 - output layer\n",
    "# model3.add(layers.Dense(1, activation='sigmoid'))\n",
    "\n",
    "# model3.compile(loss='binary_crossentropy',\n",
    "#               optimizer = 'adam',\n",
    "#               metrics=['acc'])"
   ]
  },
  {
   "cell_type": "code",
   "execution_count": 32,
   "metadata": {},
   "outputs": [],
   "source": [
    "# model3_history = model3.fit(train_data,\n",
    "#                     epochs=global_epochs,\n",
    "#                     validation_data = val_data\n",
    "#                    )"
   ]
  },
  {
   "cell_type": "code",
   "execution_count": 33,
   "metadata": {},
   "outputs": [],
   "source": [
    "# model_3_train_results = model3.evaluate(train_data)\n",
    "# model_3_train_results\n",
    "\n",
    "# model_3_val_results = model3.evaluate(val_data)\n",
    "# model_3_val_results"
   ]
  },
  {
   "cell_type": "code",
   "execution_count": 34,
   "metadata": {},
   "outputs": [],
   "source": [
    "# score_dictionary['model 3'] = (model_3_train_results,model_3_val_results)"
   ]
  },
  {
   "cell_type": "code",
   "execution_count": 35,
   "metadata": {},
   "outputs": [],
   "source": [
    "# # visualizing loss and accuracy per epoch\n",
    "# model3_train_loss = model3_history.history['loss']\n",
    "# model3_train_acc = model3_history.history['acc']\n",
    "# model3_val_loss = model3_history.history['val_loss']\n",
    "# model3_val_acc = model3_history.history['val_acc']\n",
    "\n",
    "\n",
    "# fig, (ax1, ax2) = plt.subplots(1, 2, figsize=(10, 5))\n",
    "\n",
    "# sns.lineplot(x=model3_history.epoch, y=model3_train_loss, ax=ax1, label='training loss')\n",
    "# sns.lineplot(x=model3_history.epoch, y=model3_train_acc, ax=ax2, label='training accuracy')\n",
    "\n",
    "# sns.lineplot(x=model3_history.epoch, y=model3_val_loss, ax=ax1, label='validation loss')\n",
    "# sns.lineplot(x=model3_history.epoch, y=model3_val_acc, ax=ax2, label='validation accuracy');"
   ]
  },
  {
   "cell_type": "markdown",
   "metadata": {},
   "source": [
    "### CNN Iteration 4"
   ]
  },
  {
   "cell_type": "markdown",
   "metadata": {},
   "source": [
    "Here I will increase upon iteration 3, by increasing the filter size of the CONV2d Layers"
   ]
  },
  {
   "cell_type": "code",
   "execution_count": 36,
   "metadata": {},
   "outputs": [],
   "source": [
    "# model4 = models.Sequential()\n",
    "\n",
    "# # Stack 1\n",
    "# model4.add(layers.Conv2D(filters = 64,\n",
    "#                          kernel_size=(3,3),\n",
    "#                          activation='relu',\n",
    "#                          input_shape = (global_target_size[0],global_target_size[0], 3)\n",
    "#                         ))\n",
    "# model4.add(layers.MaxPooling2D(pool_size = (2, 2)))\n",
    "\n",
    "# # Stack 2\n",
    "# model4.add(layers.Conv2D(64, (4, 4), activation='relu'))\n",
    "# model4.add(layers.MaxPooling2D((2, 2)))\n",
    "\n",
    "# # Stack 3\n",
    "# model4.add(layers.Conv2D(128, (3, 3), activation='relu'))\n",
    "# model4.add(layers.MaxPooling2D((2, 2)))\n",
    "\n",
    "# # Stack 4\n",
    "# model4.add(layers.Conv2D(128, (3, 3), activation='relu'))\n",
    "# model4.add(layers.MaxPooling2D((2, 2)))\n",
    "\n",
    "# # Flattening layer\n",
    "# model4.add(layers.Flatten())\n",
    "\n",
    "# # Dense layer 1\n",
    "# model4.add(layers.Dense(64, activation='relu'))\n",
    "\n",
    "# # Dense layer 2 - output layer\n",
    "# model4.add(layers.Dense(1, activation='sigmoid'))\n",
    "\n",
    "# model4.compile(loss='binary_crossentropy',\n",
    "#               optimizer = 'adam',\n",
    "#               metrics=['acc'])"
   ]
  },
  {
   "cell_type": "code",
   "execution_count": 37,
   "metadata": {},
   "outputs": [],
   "source": [
    "# model4_history = model4.fit(train_data,\n",
    "#                     epochs=global_epochs,\n",
    "#                     validation_data = val_data\n",
    "#                    )"
   ]
  },
  {
   "cell_type": "code",
   "execution_count": 38,
   "metadata": {},
   "outputs": [],
   "source": [
    "# model_4_train_results = model4.evaluate(train_data)\n",
    "# model_4_train_results\n",
    "\n",
    "# model_4_val_results = model4.evaluate(val_data)\n",
    "# model_4_val_results"
   ]
  },
  {
   "cell_type": "code",
   "execution_count": 39,
   "metadata": {},
   "outputs": [],
   "source": [
    "# score_dictionary['model 4'] = (model_4_train_results,model_4_val_results)"
   ]
  },
  {
   "cell_type": "code",
   "execution_count": 40,
   "metadata": {},
   "outputs": [],
   "source": [
    "# # visualizing loss and accuracy per epoch\n",
    "# model4_train_loss = model4_history.history['loss']\n",
    "# model4_train_acc = model4_history.history['acc']\n",
    "# model4_val_loss = model4_history.history['val_loss']\n",
    "# model4_val_acc = model4_history.history['val_acc']\n",
    "\n",
    "\n",
    "# fig, (ax1, ax2) = plt.subplots(1, 2, figsize=(10, 5))\n",
    "\n",
    "# sns.lineplot(x=model4_history.epoch, y=model4_train_loss, ax=ax1, label='training loss')\n",
    "# sns.lineplot(x=model4_history.epoch, y=model4_train_acc, ax=ax2, label='training accuracy')\n",
    "\n",
    "# sns.lineplot(x=model4_history.epoch, y=model4_val_loss, ax=ax1, label='validation loss')\n",
    "# sns.lineplot(x=model4_history.epoch, y=model4_val_acc, ax=ax2, label='validation accuracy');"
   ]
  },
  {
   "cell_type": "markdown",
   "metadata": {},
   "source": [
    "### CNN Iteration 5"
   ]
  },
  {
   "cell_type": "markdown",
   "metadata": {},
   "source": [
    "Here, I am taking model 3's architecture and tweaking it by adding more convolutional layers and also increasing the filter sizes by an order of 2"
   ]
  },
  {
   "cell_type": "code",
   "execution_count": 41,
   "metadata": {},
   "outputs": [],
   "source": [
    "model5 = models.Sequential()\n",
    "\n",
    "# Stack 1\n",
    "model5.add(layers.Conv2D(filters = 64,\n",
    "                         kernel_size=(3,3),\n",
    "                         activation='relu',\n",
    "                         input_shape = (global_target_size[0],global_target_size[0], 3),\n",
    "                         padding = 'same'\n",
    "                        ))\n",
    "model5.add(layers.MaxPooling2D(pool_size = (4,4),\n",
    "                         padding = 'same'))\n",
    "\n",
    "# Stack 2\n",
    "model5.add(layers.Conv2D(32, (3,3), activation='relu',padding = 'same'))\n",
    "model5.add(layers.MaxPooling2D((2, 2),\n",
    "                         padding = 'same'))\n",
    "\n",
    "# Stack 3\n",
    "model5.add(layers.Conv2D(64, (4,4), activation='relu'))\n",
    "model5.add(layers.MaxPooling2D((2, 2),\n",
    "                         padding = 'same'))\n",
    "\n",
    "# Stack 4\n",
    "model5.add(layers.Conv2D(128, (3,3), activation='relu',padding='same'))\n",
    "model5.add(layers.MaxPooling2D((2, 2),\n",
    "                         padding = 'same'))\n",
    "\n",
    "# Stack 5\n",
    "model5.add(layers.Conv2D(128, (4,4), activation='relu',padding = 'same'))\n",
    "model5.add(layers.MaxPooling2D((2, 2),\n",
    "                         padding = 'same'))\n",
    "\n",
    "# Stack 5\n",
    "model5.add(layers.Conv2D(256, (4,4), activation='relu',padding = 'same'))\n",
    "model5.add(layers.MaxPooling2D((2, 2),\n",
    "                         padding = 'same'))\n",
    "\n",
    "# Flattening layer\n",
    "model5.add(layers.Flatten())\n",
    "\n",
    "# Dense layer 1\n",
    "model5.add(layers.Dense(64, activation='relu'))\n",
    "\n",
    "# Dense layer 2 - output layer\n",
    "model5.add(layers.Dense(1, activation='sigmoid'))\n",
    "\n",
    "model5.compile(loss='binary_crossentropy',\n",
    "              optimizer = 'adam',\n",
    "              metrics=['acc'])"
   ]
  },
  {
   "cell_type": "code",
   "execution_count": 42,
   "metadata": {},
   "outputs": [
    {
     "name": "stdout",
     "output_type": "stream",
     "text": [
      "Epoch 1/50\n",
      "32/32 [==============================] - 46s 1s/step - loss: 0.6949 - acc: 0.5115 - val_loss: 0.6922 - val_acc: 0.6386\n",
      "Epoch 2/50\n",
      "32/32 [==============================] - 47s 1s/step - loss: 0.6853 - acc: 0.5574 - val_loss: 0.6364 - val_acc: 0.7470\n",
      "Epoch 3/50\n",
      "32/32 [==============================] - 49s 2s/step - loss: 0.6615 - acc: 0.6204 - val_loss: 0.6470 - val_acc: 0.6295\n",
      "Epoch 4/50\n",
      "32/32 [==============================] - 58s 2s/step - loss: 0.6280 - acc: 0.6803 - val_loss: 0.5754 - val_acc: 0.6717\n",
      "Epoch 5/50\n",
      "32/32 [==============================] - 49s 2s/step - loss: 0.6007 - acc: 0.6943 - val_loss: 0.6162 - val_acc: 0.6657\n",
      "Epoch 6/50\n",
      "32/32 [==============================] - 48s 2s/step - loss: 0.5313 - acc: 0.7283 - val_loss: 0.5728 - val_acc: 0.7199\n",
      "Epoch 7/50\n",
      "32/32 [==============================] - 46s 1s/step - loss: 0.5057 - acc: 0.7562 - val_loss: 0.5249 - val_acc: 0.7349\n",
      "Epoch 8/50\n",
      "32/32 [==============================] - 49s 2s/step - loss: 0.4302 - acc: 0.8112 - val_loss: 0.5160 - val_acc: 0.7470\n",
      "Epoch 9/50\n",
      "32/32 [==============================] - 45s 1s/step - loss: 0.3867 - acc: 0.8252 - val_loss: 0.4081 - val_acc: 0.8313\n",
      "Epoch 10/50\n",
      "32/32 [==============================] - 90s 3s/step - loss: 0.3096 - acc: 0.8741 - val_loss: 0.3761 - val_acc: 0.8343\n",
      "Epoch 11/50\n",
      "32/32 [==============================] - 47s 1s/step - loss: 0.2272 - acc: 0.9141 - val_loss: 0.5191 - val_acc: 0.7952\n",
      "Epoch 12/50\n",
      "32/32 [==============================] - 46s 1s/step - loss: 0.1669 - acc: 0.9351 - val_loss: 0.7392 - val_acc: 0.7801\n",
      "Epoch 13/50\n",
      "32/32 [==============================] - 46s 1s/step - loss: 0.1430 - acc: 0.9461 - val_loss: 0.5749 - val_acc: 0.8223\n",
      "Epoch 14/50\n",
      "32/32 [==============================] - 45s 1s/step - loss: 0.1088 - acc: 0.9590 - val_loss: 0.7079 - val_acc: 0.8193\n",
      "Epoch 15/50\n",
      "32/32 [==============================] - 50s 2s/step - loss: 0.0902 - acc: 0.9650 - val_loss: 0.7307 - val_acc: 0.8012\n",
      "Epoch 16/50\n",
      "32/32 [==============================] - 51s 2s/step - loss: 0.0530 - acc: 0.9810 - val_loss: 0.7253 - val_acc: 0.8253\n",
      "Epoch 17/50\n",
      "32/32 [==============================] - 52s 2s/step - loss: 0.0472 - acc: 0.9870 - val_loss: 0.8292 - val_acc: 0.8193\n",
      "Epoch 18/50\n",
      "32/32 [==============================] - 45s 1s/step - loss: 0.0483 - acc: 0.9800 - val_loss: 1.1957 - val_acc: 0.7801\n",
      "Epoch 19/50\n",
      "32/32 [==============================] - 45s 1s/step - loss: 0.0512 - acc: 0.9850 - val_loss: 0.8230 - val_acc: 0.8373\n",
      "Epoch 20/50\n",
      "32/32 [==============================] - 44s 1s/step - loss: 0.0557 - acc: 0.9790 - val_loss: 0.8201 - val_acc: 0.7952\n",
      "Epoch 21/50\n",
      "32/32 [==============================] - 45s 1s/step - loss: 0.0227 - acc: 0.9920 - val_loss: 0.9515 - val_acc: 0.8133\n",
      "Epoch 22/50\n",
      "32/32 [==============================] - 47s 1s/step - loss: 0.0046 - acc: 0.9980 - val_loss: 0.9659 - val_acc: 0.8163\n",
      "Epoch 23/50\n",
      "32/32 [==============================] - 45s 1s/step - loss: 0.0159 - acc: 0.9950 - val_loss: 1.2711 - val_acc: 0.8072\n",
      "Epoch 24/50\n",
      "32/32 [==============================] - 44s 1s/step - loss: 0.0261 - acc: 0.9920 - val_loss: 1.5352 - val_acc: 0.7470\n",
      "Epoch 25/50\n",
      "32/32 [==============================] - 45s 1s/step - loss: 0.0349 - acc: 0.9870 - val_loss: 0.9437 - val_acc: 0.7982\n",
      "Epoch 26/50\n",
      "32/32 [==============================] - 44s 1s/step - loss: 0.0378 - acc: 0.9890 - val_loss: 1.0355 - val_acc: 0.7831\n",
      "Epoch 27/50\n",
      "32/32 [==============================] - 45s 1s/step - loss: 0.0156 - acc: 0.9960 - val_loss: 0.9820 - val_acc: 0.7982\n",
      "Epoch 28/50\n",
      "32/32 [==============================] - 45s 1s/step - loss: 0.0069 - acc: 0.9970 - val_loss: 1.1434 - val_acc: 0.7952\n",
      "Epoch 29/50\n",
      "32/32 [==============================] - 44s 1s/step - loss: 0.0015 - acc: 1.0000 - val_loss: 1.1804 - val_acc: 0.8193\n",
      "Epoch 30/50\n",
      "32/32 [==============================] - 44s 1s/step - loss: 3.1895e-04 - acc: 1.0000 - val_loss: 1.1498 - val_acc: 0.8434\n",
      "Epoch 31/50\n",
      "32/32 [==============================] - 44s 1s/step - loss: 2.0533e-04 - acc: 1.0000 - val_loss: 1.2096 - val_acc: 0.8373\n",
      "Epoch 32/50\n",
      "32/32 [==============================] - 45s 1s/step - loss: 1.3353e-04 - acc: 1.0000 - val_loss: 1.2530 - val_acc: 0.8373\n",
      "Epoch 33/50\n",
      "32/32 [==============================] - 45s 1s/step - loss: 8.5236e-05 - acc: 1.0000 - val_loss: 1.3195 - val_acc: 0.8343\n",
      "Epoch 34/50\n",
      "32/32 [==============================] - 44s 1s/step - loss: 5.5158e-05 - acc: 1.0000 - val_loss: 1.3636 - val_acc: 0.8373\n",
      "Epoch 35/50\n",
      "32/32 [==============================] - 45s 1s/step - loss: 3.7893e-05 - acc: 1.0000 - val_loss: 1.3835 - val_acc: 0.8373\n",
      "Epoch 36/50\n",
      "32/32 [==============================] - 44s 1s/step - loss: 2.9095e-05 - acc: 1.0000 - val_loss: 1.3707 - val_acc: 0.8434\n",
      "Epoch 37/50\n",
      "32/32 [==============================] - 44s 1s/step - loss: 2.4651e-05 - acc: 1.0000 - val_loss: 1.4476 - val_acc: 0.8373\n",
      "Epoch 38/50\n",
      "32/32 [==============================] - 51s 2s/step - loss: 1.9458e-05 - acc: 1.0000 - val_loss: 1.4208 - val_acc: 0.8373\n",
      "Epoch 39/50\n",
      "32/32 [==============================] - 44s 1s/step - loss: 1.7061e-05 - acc: 1.0000 - val_loss: 1.4662 - val_acc: 0.8373\n",
      "Epoch 40/50\n",
      "32/32 [==============================] - 46s 1s/step - loss: 1.5129e-05 - acc: 1.0000 - val_loss: 1.4701 - val_acc: 0.8373\n",
      "Epoch 41/50\n",
      "32/32 [==============================] - 46s 1s/step - loss: 1.3459e-05 - acc: 1.0000 - val_loss: 1.4677 - val_acc: 0.8373\n",
      "Epoch 42/50\n",
      "32/32 [==============================] - 44s 1s/step - loss: 1.2298e-05 - acc: 1.0000 - val_loss: 1.4739 - val_acc: 0.8373\n",
      "Epoch 43/50\n",
      "32/32 [==============================] - 47s 1s/step - loss: 1.1337e-05 - acc: 1.0000 - val_loss: 1.4952 - val_acc: 0.8373\n",
      "Epoch 44/50\n",
      "32/32 [==============================] - 46s 1s/step - loss: 1.0608e-05 - acc: 1.0000 - val_loss: 1.5049 - val_acc: 0.8373\n",
      "Epoch 45/50\n",
      "32/32 [==============================] - 43s 1s/step - loss: 9.6489e-06 - acc: 1.0000 - val_loss: 1.5057 - val_acc: 0.8373\n",
      "Epoch 46/50\n",
      "32/32 [==============================] - 43s 1s/step - loss: 8.9957e-06 - acc: 1.0000 - val_loss: 1.5105 - val_acc: 0.8373\n",
      "Epoch 47/50\n",
      "32/32 [==============================] - 44s 1s/step - loss: 8.3912e-06 - acc: 1.0000 - val_loss: 1.4959 - val_acc: 0.8373\n",
      "Epoch 48/50\n",
      "32/32 [==============================] - 43s 1s/step - loss: 8.0244e-06 - acc: 1.0000 - val_loss: 1.5221 - val_acc: 0.8373\n",
      "Epoch 49/50\n",
      "32/32 [==============================] - 43s 1s/step - loss: 7.4813e-06 - acc: 1.0000 - val_loss: 1.5139 - val_acc: 0.8373\n",
      "Epoch 50/50\n",
      "32/32 [==============================] - 45s 1s/step - loss: 7.2739e-06 - acc: 1.0000 - val_loss: 1.5220 - val_acc: 0.8373\n"
     ]
    }
   ],
   "source": [
    "model5_history = model5.fit(train_data,\n",
    "                    epochs=global_epochs,\n",
    "                    validation_data = val_data\n",
    "                   )"
   ]
  },
  {
   "cell_type": "code",
   "execution_count": 43,
   "metadata": {},
   "outputs": [
    {
     "name": "stdout",
     "output_type": "stream",
     "text": [
      "32/32 [==============================] - 28s 884ms/step - loss: 6.6231e-06 - acc: 1.0000\n",
      "11/11 [==============================] - 6s 543ms/step - loss: 1.5220 - acc: 0.8373\n"
     ]
    },
    {
     "data": {
      "text/plain": [
       "[1.5219656229019165, 0.8373494148254395]"
      ]
     },
     "execution_count": 43,
     "metadata": {},
     "output_type": "execute_result"
    }
   ],
   "source": [
    "model_5_train_results = model5.evaluate(train_data)\n",
    "model_5_train_results\n",
    "\n",
    "model_5_val_results = model5.evaluate(val_data)\n",
    "model_5_val_results"
   ]
  },
  {
   "cell_type": "code",
   "execution_count": 46,
   "metadata": {},
   "outputs": [],
   "source": [
    "score_dictionary['model 5'] = (model_5_train_results,model_5_val_results)"
   ]
  },
  {
   "cell_type": "code",
   "execution_count": 47,
   "metadata": {},
   "outputs": [
    {
     "data": {
      "image/png": "[encoded data removed]",
      "text/plain": [
       "<Figure size 720x360 with 2 Axes>"
      ]
     },
     "metadata": {
      "needs_background": "light"
     },
     "output_type": "display_data"
    }
   ],
   "source": [
    "# visualizing loss and accuracy per epoch\n",
    "model5_train_loss = model5_history.history['loss']\n",
    "model5_train_acc = model5_history.history['acc']\n",
    "model5_val_loss = model5_history.history['val_loss']\n",
    "model5_val_acc = model5_history.history['val_acc']\n",
    "\n",
    "\n",
    "fig, (ax1, ax2) = plt.subplots(1, 2, figsize=(10, 5))\n",
    "\n",
    "sns.lineplot(x=model5_history.epoch, y=model5_train_loss, ax=ax1, label='training loss')\n",
    "sns.lineplot(x=model5_history.epoch, y=model5_train_acc, ax=ax2, label='training accuracy')\n",
    "\n",
    "sns.lineplot(x=model5_history.epoch, y=model5_val_loss, ax=ax1, label='validation loss')\n",
    "sns.lineplot(x=model5_history.epoch, y=model5_val_acc, ax=ax2, label='validation accuracy');"
   ]
  },
  {
   "cell_type": "markdown",
   "metadata": {},
   "source": [
    "### CNN ITERATION 6"
   ]
  },
  {
   "cell_type": "markdown",
   "metadata": {},
   "source": [
    "For this iteration I will be changing the learning rate to .01 - Will be training this on iteration 3"
   ]
  },
  {
   "cell_type": "code",
   "execution_count": 48,
   "metadata": {},
   "outputs": [],
   "source": [
    "# adam_opt_01 = tf.keras.optimizers.Adam(\n",
    "#     learning_rate=0.01)"
   ]
  },
  {
   "cell_type": "code",
   "execution_count": 49,
   "metadata": {},
   "outputs": [],
   "source": [
    "# model6 = models.Sequential()\n",
    "\n",
    "# # Stack 1\n",
    "# model6.add(layers.Conv2D(filters = 32,\n",
    "#                          kernel_size=(3,3),\n",
    "#                          activation='relu',\n",
    "#                          input_shape = (global_target_size[0],global_target_size[0], 3)\n",
    "#                         ))\n",
    "# model6.add(layers.MaxPooling2D(pool_size = (2, 2)))\n",
    "\n",
    "# # Stack 2\n",
    "# model6.add(layers.Conv2D(32, (4, 4), activation='relu'))\n",
    "# model6.add(layers.MaxPooling2D((2, 2)))\n",
    "\n",
    "# # Stack 3\n",
    "# model6.add(layers.Conv2D(64, (3, 3), activation='relu'))\n",
    "# model6.add(layers.MaxPooling2D((2, 2)))\n",
    "\n",
    "# # Stack 4\n",
    "# model6.add(layers.Conv2D(64, (3, 3), activation='relu'))\n",
    "# model6.add(layers.MaxPooling2D((2, 2)))\n",
    "\n",
    "# # Flattening layer\n",
    "# model6.add(layers.Flatten())\n",
    "\n",
    "# # Dense layer 1\n",
    "# model6.add(layers.Dense(64, activation='relu'))\n",
    "\n",
    "# # Dense layer 2 - output layer\n",
    "# model6.add(layers.Dense(1, activation='sigmoid'))\n",
    "\n",
    "# model6.compile(loss='binary_crossentropy',\n",
    "#               optimizer = adam_opt_01,\n",
    "#               metrics=['acc'])"
   ]
  },
  {
   "cell_type": "code",
   "execution_count": 50,
   "metadata": {},
   "outputs": [],
   "source": [
    "# model6_history = model6.fit(train_data,\n",
    "#                     epochs=global_epochs,\n",
    "#                     validation_data = val_data\n",
    "#                    )"
   ]
  },
  {
   "cell_type": "code",
   "execution_count": 51,
   "metadata": {},
   "outputs": [],
   "source": [
    "# model_6_train_results = model6.evaluate(train_data)\n",
    "# model_6_train_results\n",
    "\n",
    "# model_6_val_results = model6.evaluate(val_data)\n",
    "# model_6_val_results"
   ]
  },
  {
   "cell_type": "code",
   "execution_count": 52,
   "metadata": {},
   "outputs": [],
   "source": [
    "# score_dictionary['model 6'] = (model_6_train_results,model_6_val_results)"
   ]
  },
  {
   "cell_type": "code",
   "execution_count": 53,
   "metadata": {},
   "outputs": [],
   "source": [
    "# # visualizing loss and accuracy per epoch\n",
    "# model6_train_loss = model6_history.history['loss']\n",
    "# model6_train_acc = model6_history.history['acc']\n",
    "# model6_val_loss = model6_history.history['val_loss']\n",
    "# model6_val_acc = model6_history.history['val_acc']\n",
    "\n",
    "\n",
    "# fig, (ax1, ax2) = plt.subplots(1, 2, figsize=(10, 5))\n",
    "\n",
    "# sns.lineplot(x=model6_history.epoch, y=model6_train_loss, ax=ax1, label='training loss')\n",
    "# sns.lineplot(x=model6_history.epoch, y=model6_train_acc, ax=ax2, label='training accuracy')\n",
    "\n",
    "# sns.lineplot(x=model6_history.epoch, y=model6_val_loss, ax=ax1, label='validation loss')\n",
    "# sns.lineplot(x=model6_history.epoch, y=model6_val_acc, ax=ax2, label='validation accuracy');"
   ]
  },
  {
   "cell_type": "markdown",
   "metadata": {},
   "source": [
    "### CNN ITERATION 7"
   ]
  },
  {
   "cell_type": "markdown",
   "metadata": {},
   "source": [
    "For this iteration, I am using the same architecture as model 3, but I am using a learning rate for the adam optimizer of .0001"
   ]
  },
  {
   "cell_type": "code",
   "execution_count": 54,
   "metadata": {},
   "outputs": [],
   "source": [
    "# adam_opt_0001 = tf.keras.optimizers.Adam(\n",
    "#     learning_rate=0.0001)"
   ]
  },
  {
   "cell_type": "code",
   "execution_count": 55,
   "metadata": {},
   "outputs": [],
   "source": [
    "# model7 = models.Sequential()\n",
    "\n",
    "# # Stack 1\n",
    "# model7.add(layers.Conv2D(filters = 32,\n",
    "#                          kernel_size=(3,3),\n",
    "#                          activation='relu',\n",
    "#                          input_shape = (global_target_size[0],global_target_size[0], 3)\n",
    "#                         ))\n",
    "# model7.add(layers.MaxPooling2D(pool_size = (2, 2)))\n",
    "\n",
    "# # Stack 2\n",
    "# model7.add(layers.Conv2D(32, (4, 4), activation='relu'))\n",
    "# model7.add(layers.MaxPooling2D((2, 2)))\n",
    "\n",
    "# # Stack 3\n",
    "# model7.add(layers.Conv2D(64, (3, 3), activation='relu'))\n",
    "# model7.add(layers.MaxPooling2D((2, 2)))\n",
    "\n",
    "# # Stack 4\n",
    "# model7.add(layers.Conv2D(64, (3, 3), activation='relu'))\n",
    "# model7.add(layers.MaxPooling2D((2, 2)))\n",
    "\n",
    "# # Flattening layer\n",
    "# model7.add(layers.Flatten())\n",
    "\n",
    "# # Dense layer 1\n",
    "# model7.add(layers.Dense(64, activation='relu'))\n",
    "\n",
    "# # Dense layer 2 - output layer\n",
    "# model7.add(layers.Dense(1, activation='sigmoid'))\n",
    "\n",
    "# model7.compile(loss='binary_crossentropy',\n",
    "#               optimizer = adam_opt_0001,\n",
    "#               metrics=['acc'])"
   ]
  },
  {
   "cell_type": "code",
   "execution_count": 56,
   "metadata": {},
   "outputs": [],
   "source": [
    "# model7_history = model7.fit(train_data,\n",
    "#                     epochs=global_epochs,\n",
    "#                     validation_data = val_data\n",
    "#                    )"
   ]
  },
  {
   "cell_type": "code",
   "execution_count": 57,
   "metadata": {},
   "outputs": [],
   "source": [
    "# model_7_train_results = model7.evaluate(train_data)\n",
    "# model_7_train_results\n",
    "\n",
    "# model_7_val_results = model7.evaluate(val_data)\n",
    "# model_7_val_results"
   ]
  },
  {
   "cell_type": "code",
   "execution_count": 58,
   "metadata": {},
   "outputs": [],
   "source": [
    "# score_dictionary['model 7'] = (model_7_train_results,model_7_val_results)"
   ]
  },
  {
   "cell_type": "code",
   "execution_count": 59,
   "metadata": {},
   "outputs": [],
   "source": [
    "# # visualizing loss and accuracy per epoch\n",
    "# model7_train_loss = model7_history.history['loss']\n",
    "# model7_train_acc = model7_history.history['acc']\n",
    "# model7_val_loss = model7_history.history['val_loss']\n",
    "# model7_val_acc = model7_history.history['val_acc']\n",
    "\n",
    "\n",
    "# fig, (ax1, ax2) = plt.subplots(1, 2, figsize=(10, 5))\n",
    "\n",
    "# sns.lineplot(x=model7_history.epoch, y=model7_train_loss, ax=ax1, label='training loss')\n",
    "# sns.lineplot(x=model7_history.epoch, y=model7_train_acc, ax=ax2, label='training accuracy')\n",
    "\n",
    "# sns.lineplot(x=model7_history.epoch, y=model7_val_loss, ax=ax1, label='validation loss')\n",
    "# sns.lineplot(x=model7_history.epoch, y=model7_val_acc, ax=ax2, label='validation accuracy');"
   ]
  },
  {
   "cell_type": "markdown",
   "metadata": {},
   "source": [
    "### CNN ITERATION 8"
   ]
  },
  {
   "cell_type": "markdown",
   "metadata": {},
   "source": [
    "for this iteration, I will be using model 3's architecture and adding kernel regulizers to all the conv2d layers with an aggression level of .01"
   ]
  },
  {
   "cell_type": "code",
   "execution_count": 60,
   "metadata": {},
   "outputs": [],
   "source": [
    "# model8 = models.Sequential()\n",
    "\n",
    "# # Stack 1\n",
    "# model8.add(layers.Conv2D(filters = 32,\n",
    "#                          kernel_size=(3,3),\n",
    "#                          activation='relu',\n",
    "#                          input_shape = (global_target_size[0],global_target_size[0], 3),\n",
    "#                          kernel_regularizer = regularizers.L2(0.01)\n",
    "#                         ))\n",
    "# model8.add(layers.MaxPooling2D(pool_size = (2, 2)))\n",
    "\n",
    "# # Stack 2\n",
    "# model8.add(layers.Conv2D(32, (4, 4), activation='relu',kernel_regularizer = regularizers.L2(0.01)))\n",
    "# model8.add(layers.MaxPooling2D((2, 2)))\n",
    "\n",
    "# # Stack 3\n",
    "# model8.add(layers.Conv2D(64, (3, 3), activation='relu',kernel_regularizer = regularizers.L2(0.01)))\n",
    "# model8.add(layers.MaxPooling2D((2, 2)))\n",
    "\n",
    "# # Stack 4\n",
    "# model8.add(layers.Conv2D(64, (3, 3), activation='relu',kernel_regularizer = regularizers.L2(0.01)))\n",
    "# model8.add(layers.MaxPooling2D((2, 2)))\n",
    "\n",
    "# # Flattening layer\n",
    "# model8.add(layers.Flatten())\n",
    "\n",
    "# # Dense layer 1\n",
    "# model8.add(layers.Dense(64, activation='relu',kernel_regularizer = regularizers.L2(0.01)))\n",
    "\n",
    "# # Dense layer 2 - output layer\n",
    "# model8.add(layers.Dense(1, activation='sigmoid'))\n",
    "\n",
    "# model8.compile(loss='binary_crossentropy',\n",
    "#               optimizer = 'adam',\n",
    "#               metrics=['acc'])"
   ]
  },
  {
   "cell_type": "code",
   "execution_count": 61,
   "metadata": {},
   "outputs": [],
   "source": [
    "# model8_history = model8.fit(train_data,\n",
    "#                     epochs=global_epochs,\n",
    "#                     validation_data = val_data\n",
    "#                    )"
   ]
  },
  {
   "cell_type": "code",
   "execution_count": 62,
   "metadata": {},
   "outputs": [],
   "source": [
    "# model_8_train_results = model8.evaluate(train_data)\n",
    "# model_8_train_results\n",
    "\n",
    "# model_8_val_results = model8.evaluate(val_data)\n",
    "# model_8_val_results"
   ]
  },
  {
   "cell_type": "code",
   "execution_count": 63,
   "metadata": {},
   "outputs": [],
   "source": [
    "# score_dictionary['model 8'] = (model_8_train_results,model_8_val_results)"
   ]
  },
  {
   "cell_type": "code",
   "execution_count": 64,
   "metadata": {},
   "outputs": [],
   "source": [
    "# # visualizing loss and accuracy per epoch\n",
    "# model8_train_loss = model8_history.history['loss']\n",
    "# model8_train_acc = model8_history.history['acc']\n",
    "# model8_val_loss = model8_history.history['val_loss']\n",
    "# model8_val_acc = model8_history.history['val_acc']\n",
    "\n",
    "\n",
    "# fig, (ax1, ax2) = plt.subplots(1, 2, figsize=(10, 5))\n",
    "\n",
    "# sns.lineplot(x=model8_history.epoch, y=model8_train_loss, ax=ax1, label='training loss')\n",
    "# sns.lineplot(x=model8_history.epoch, y=model8_train_acc, ax=ax2, label='training accuracy')\n",
    "\n",
    "# sns.lineplot(x=model8_history.epoch, y=model8_val_loss, ax=ax1, label='validation loss')\n",
    "# sns.lineplot(x=model8_history.epoch, y=model8_val_acc, ax=ax2, label='validation accuracy');"
   ]
  },
  {
   "cell_type": "markdown",
   "metadata": {},
   "source": [
    "### CNN ITERATION 9 "
   ]
  },
  {
   "cell_type": "markdown",
   "metadata": {},
   "source": [
    " not implementing yet, but would like to try adding extra and seperate activation layers"
   ]
  },
  {
   "cell_type": "markdown",
   "metadata": {},
   "source": [
    "### CNN ITERATION 10"
   ]
  },
  {
   "cell_type": "markdown",
   "metadata": {},
   "source": [
    "Reusing model 1 architecture, try changing the kernel initializer in the conv2D layer to 'glorot_uniform'"
   ]
  },
  {
   "cell_type": "code",
   "execution_count": 65,
   "metadata": {},
   "outputs": [],
   "source": [
    "# model10 = models.Sequential()\n",
    "\n",
    "# # stack 1\n",
    "# model10.add(layers.Conv2D(32, (3, 3), activation='relu',\n",
    "#                         input_shape=(global_target_size[0], global_target_size[0],  3),\n",
    "#                           kernel_initializer='glorot_uniform'))\n",
    "# model10.add(layers.MaxPooling2D((2, 2)))\n",
    "\n",
    "# # stack 2\n",
    "# model10.add(layers.Conv2D(32, (4, 4), activation='relu',\n",
    "#                           kernel_initializer='glorot_uniform'))\n",
    "# model10.add(layers.MaxPooling2D((2, 2)))\n",
    "\n",
    "\n",
    "# # flattening layer\n",
    "# model10.add(layers.Flatten())\n",
    "\n",
    "# # Dense Layer 1 \n",
    "# model10.add(layers.Dense(32, activation='relu'))\n",
    "\n",
    "# # Dense Dropout layer 1 \n",
    "# model10.add(layers.Dropout(.25))\n",
    "\n",
    "# # Dense Layer 2 \n",
    "# model10.add(layers.Dense(64, activation='relu'))\n",
    "\n",
    "# # Dense Dropout Layer 2\n",
    "# model10.add(layers.Dropout(.5))\n",
    "\n",
    "# # Dense Layer 3\n",
    "# model10.add(layers.Dense(32, activation='relu'))\n",
    "\n",
    "# # Dense Layer 2 // output layer\n",
    "# model10.add(layers.Dense(1, activation='sigmoid'))\n",
    "\n",
    "\n",
    "# ## Compiling baseline \n",
    "# model10.compile(loss='binary_crossentropy',\n",
    "#               optimizer=\"adam\",\n",
    "#               metrics=['acc'])"
   ]
  },
  {
   "cell_type": "code",
   "execution_count": 66,
   "metadata": {},
   "outputs": [],
   "source": [
    "# model10_history = model10.fit(train_data,\n",
    "#                     epochs=global_epochs,\n",
    "#                     validation_data = val_data\n",
    "#                    )"
   ]
  },
  {
   "cell_type": "code",
   "execution_count": 67,
   "metadata": {},
   "outputs": [],
   "source": [
    "# model_10_train_results = model10.evaluate(train_data)\n",
    "# model_10_train_results\n",
    "\n",
    "# model_10_val_results = model10.evaluate(val_data)\n",
    "# model_10_val_results"
   ]
  },
  {
   "cell_type": "code",
   "execution_count": 68,
   "metadata": {},
   "outputs": [],
   "source": [
    "# score_dictionary['model 10'] = (model_10_train_results,model_10_val_results)"
   ]
  },
  {
   "cell_type": "code",
   "execution_count": 69,
   "metadata": {},
   "outputs": [],
   "source": [
    "# # visualizing loss and accuracy per epoch\n",
    "# model10_train_loss = model10_history.history['loss']\n",
    "# model10_train_acc = model10_history.history['acc']\n",
    "# model10_val_loss = model10_history.history['val_loss']\n",
    "# model10_val_acc = model10_history.history['val_acc']\n",
    "\n",
    "\n",
    "# fig, (ax1, ax2) = plt.subplots(1, 2, figsize=(10, 5))\n",
    "\n",
    "# sns.lineplot(x=model10_history.epoch, y=model10_train_loss, ax=ax1, label='training loss')\n",
    "# sns.lineplot(x=model10_history.epoch, y=model10_train_acc, ax=ax2, label='training accuracy')\n",
    "\n",
    "# sns.lineplot(x=model10_history.epoch, y=model10_val_loss, ax=ax1, label='validation loss')\n",
    "# sns.lineplot(x=model10_history.epoch, y=model10_val_acc, ax=ax2, label='validation accuracy');"
   ]
  },
  {
   "cell_type": "markdown",
   "metadata": {},
   "source": [
    "### CNN ITERATION 11 "
   ]
  },
  {
   "cell_type": "markdown",
   "metadata": {},
   "source": [
    "I am taking model 1's architecture and making this change:\n",
    "I am trying going deeper instead of wider, so adding more dense layers and removing some of the convolutional layer"
   ]
  },
  {
   "cell_type": "code",
   "execution_count": 70,
   "metadata": {},
   "outputs": [],
   "source": [
    "# model11 = models.Sequential()\n",
    "\n",
    "# # stack 1\n",
    "# model11.add(layers.Conv2D(32, (3, 3), activation='relu',\n",
    "#                         input_shape=(global_target_size[0], global_target_size[0],  3)))\n",
    "# model11.add(layers.MaxPooling2D((2, 2)))\n",
    "\n",
    "# # stack 2\n",
    "# model11.add(layers.Conv2D(64, (4, 4), activation='relu'))\n",
    "# model11.add(layers.MaxPooling2D((2, 2)))\n",
    "\n",
    "# # stack 3\n",
    "# model11.add(layers.Conv2D(64, (4, 4), activation='relu'))\n",
    "# model11.add(layers.MaxPooling2D((2, 2)))\n",
    "\n",
    "\n",
    "\n",
    "# # flattening layer\n",
    "# model11.add(layers.Flatten())\n",
    "\n",
    "# # Dense Layer 1 \n",
    "# model11.add(layers.Dense(64, activation='relu'))\n",
    "\n",
    "# # Dense Dropout layer 1 \n",
    "# model11.add(layers.Dropout(.1))\n",
    "\n",
    "# # Dense Layer 2 \n",
    "# model11.add(layers.Dense(64, activation='relu'))\n",
    "\n",
    "# # Dense Dropout Layer 2\n",
    "# model11.add(layers.Dropout(.25))\n",
    "\n",
    "# # Dense Layer 3 \n",
    "# model11.add(layers.Dense(64, activation='relu'))\n",
    "\n",
    "# # Dense Dropout Layer 3\n",
    "# model11.add(layers.Dropout(.5))\n",
    "\n",
    "# # Dense Layer 4\n",
    "# model11.add(layers.Dense(32, activation='relu'))\n",
    "\n",
    "# # Dense Layer 5 // output layer\n",
    "# model11.add(layers.Dense(1, activation='sigmoid'))\n",
    "\n",
    "\n",
    "# ## Compiling baseline \n",
    "# model11.compile(loss='binary_crossentropy',\n",
    "#               optimizer=\"adam\",\n",
    "#               metrics=['acc'])"
   ]
  },
  {
   "cell_type": "code",
   "execution_count": 71,
   "metadata": {},
   "outputs": [],
   "source": [
    "# model11_history = model11.fit(train_data,\n",
    "#                     epochs=global_epochs,\n",
    "#                     validation_data = val_data\n",
    "#                    )"
   ]
  },
  {
   "cell_type": "code",
   "execution_count": 72,
   "metadata": {},
   "outputs": [],
   "source": [
    "# model_11_train_results = model11.evaluate(train_data)\n",
    "# model_11_train_results\n",
    "\n",
    "# model_11_val_results = model11.evaluate(val_data)\n",
    "# model_11_val_results"
   ]
  },
  {
   "cell_type": "code",
   "execution_count": 73,
   "metadata": {},
   "outputs": [],
   "source": [
    "# score_dictionary['model 11'] = (model_11_train_results,model_11_val_results)"
   ]
  },
  {
   "cell_type": "code",
   "execution_count": 74,
   "metadata": {},
   "outputs": [],
   "source": [
    "# # visualizing loss and accuracy per epoch\n",
    "# model11_train_loss = model11_history.history['loss']\n",
    "# model11_train_acc = model11_history.history['acc']\n",
    "# model11_val_loss = model11_history.history['val_loss']\n",
    "# model11_val_acc = model11_history.history['val_acc']\n",
    "\n",
    "\n",
    "# fig, (ax1, ax2) = plt.subplots(1, 2, figsize=(10, 5))\n",
    "\n",
    "# sns.lineplot(x=model11_history.epoch, y=model11_train_loss, ax=ax1, label='training loss')\n",
    "# sns.lineplot(x=model11_history.epoch, y=model11_train_acc, ax=ax2, label='training accuracy')\n",
    "\n",
    "# sns.lineplot(x=model11_history.epoch, y=model11_val_loss, ax=ax1, label='validation loss')\n",
    "# sns.lineplot(x=model11_history.epoch, y=model11_val_acc, ax=ax2, label='validation accuracy');"
   ]
  },
  {
   "cell_type": "markdown",
   "metadata": {},
   "source": [
    "### CNN Model 12"
   ]
  },
  {
   "cell_type": "markdown",
   "metadata": {},
   "source": [
    "I have concluded that model 5 is my best so far. Model 5 got a validation accuracy of 84. For this iteration, I will use model 5's architecture and I will use  dropoout layers in between my convolutional layers to see if this reduces overfitting. "
   ]
  },
  {
   "cell_type": "code",
   "execution_count": 75,
   "metadata": {},
   "outputs": [],
   "source": [
    "model12 = models.Sequential()\n",
    "\n",
    "# Stack 1\n",
    "model12.add(layers.Conv2D(filters = 64,\n",
    "                         kernel_size=(3,3),\n",
    "                         activation='relu',\n",
    "                         input_shape = (global_target_size[0],global_target_size[0], 3),\n",
    "                         padding = 'same'\n",
    "                        ))\n",
    "model12.add(layers.MaxPooling2D(pool_size = (4,4),\n",
    "                         padding = 'same'))\n",
    "\n",
    "# Stack 2\n",
    "model12.add(layers.Conv2D(32, (3,3), activation='relu',padding = 'same'))\n",
    "model12.add(layers.MaxPooling2D((2, 2),\n",
    "                         padding = 'same'))\n",
    "\n",
    "\n",
    "\n",
    "# Stack 3\n",
    "model12.add(layers.Conv2D(64, (4,4), activation='relu'))\n",
    "model12.add(layers.MaxPooling2D((2, 2),\n",
    "                         padding = 'same'))\n",
    "# Dropout Layer 1\n",
    "model12.add(layers.Dropout(.1))\n",
    "\n",
    "# Stack 4\n",
    "model12.add(layers.Conv2D(128, (3,3), activation='relu',padding='same'))\n",
    "model12.add(layers.MaxPooling2D((2, 2),\n",
    "                         padding = 'same'))\n",
    "\n",
    "# Dropout Layer 2\n",
    "model12.add(layers.Dropout(.25))\n",
    "\n",
    "# Stack 5\n",
    "model12.add(layers.Conv2D(128, (4,4), activation='relu',padding = 'same'))\n",
    "model12.add(layers.MaxPooling2D((2, 2),\n",
    "                         padding = 'same'))\n",
    "# Dropout Layer 2\n",
    "model12.add(layers.Dropout(.4))\n",
    "\n",
    "# Stack 5\n",
    "model12.add(layers.Conv2D(256, (4,4), activation='relu',padding = 'same'))\n",
    "model12.add(layers.MaxPooling2D((2, 2),\n",
    "                         padding = 'same'))\n",
    "\n",
    "\n",
    "# Flattening layer\n",
    "model12.add(layers.Flatten())\n",
    "\n",
    "# Dense layer 1\n",
    "model12.add(layers.Dense(64, activation='relu'))\n",
    "\n",
    "# Dense layer 2 - output layer\n",
    "model12.add(layers.Dense(1, activation='sigmoid'))\n",
    "\n",
    "model12.compile(loss='binary_crossentropy',\n",
    "              optimizer = 'adam',\n",
    "              metrics=['acc'])"
   ]
  },
  {
   "cell_type": "code",
   "execution_count": 76,
   "metadata": {},
   "outputs": [
    {
     "name": "stdout",
     "output_type": "stream",
     "text": [
      "Model: \"sequential_1\"\n",
      "_________________________________________________________________\n",
      "Layer (type)                 Output Shape              Param #   \n",
      "=================================================================\n",
      "conv2d_6 (Conv2D)            (None, 127, 127, 64)      1792      \n",
      "_________________________________________________________________\n",
      "max_pooling2d_6 (MaxPooling2 (None, 32, 32, 64)        0         \n",
      "_________________________________________________________________\n",
      "conv2d_7 (Conv2D)            (None, 32, 32, 32)        18464     \n",
      "_________________________________________________________________\n",
      "max_pooling2d_7 (MaxPooling2 (None, 16, 16, 32)        0         \n",
      "_________________________________________________________________\n",
      "conv2d_8 (Conv2D)            (None, 13, 13, 64)        32832     \n",
      "_________________________________________________________________\n",
      "max_pooling2d_8 (MaxPooling2 (None, 7, 7, 64)          0         \n",
      "_________________________________________________________________\n",
      "dropout (Dropout)            (None, 7, 7, 64)          0         \n",
      "_________________________________________________________________\n",
      "conv2d_9 (Conv2D)            (None, 7, 7, 128)         73856     \n",
      "_________________________________________________________________\n",
      "max_pooling2d_9 (MaxPooling2 (None, 4, 4, 128)         0         \n",
      "_________________________________________________________________\n",
      "dropout_1 (Dropout)          (None, 4, 4, 128)         0         \n",
      "_________________________________________________________________\n",
      "conv2d_10 (Conv2D)           (None, 4, 4, 128)         262272    \n",
      "_________________________________________________________________\n",
      "max_pooling2d_10 (MaxPooling (None, 2, 2, 128)         0         \n",
      "_________________________________________________________________\n",
      "dropout_2 (Dropout)          (None, 2, 2, 128)         0         \n",
      "_________________________________________________________________\n",
      "conv2d_11 (Conv2D)           (None, 2, 2, 256)         524544    \n",
      "_________________________________________________________________\n",
      "max_pooling2d_11 (MaxPooling (None, 1, 1, 256)         0         \n",
      "_________________________________________________________________\n",
      "flatten_1 (Flatten)          (None, 256)               0         \n",
      "_________________________________________________________________\n",
      "dense_2 (Dense)              (None, 64)                16448     \n",
      "_________________________________________________________________\n",
      "dense_3 (Dense)              (None, 1)                 65        \n",
      "=================================================================\n",
      "Total params: 930,273\n",
      "Trainable params: 930,273\n",
      "Non-trainable params: 0\n",
      "_________________________________________________________________\n"
     ]
    }
   ],
   "source": [
    "model12.summary()"
   ]
  },
  {
   "cell_type": "code",
   "execution_count": 77,
   "metadata": {},
   "outputs": [
    {
     "name": "stdout",
     "output_type": "stream",
     "text": [
      "Epoch 1/50\n",
      "32/32 [==============================] - 46s 1s/step - loss: 0.6947 - acc: 0.5085 - val_loss: 0.6931 - val_acc: 0.5090\n",
      "Epoch 2/50\n",
      "32/32 [==============================] - 44s 1s/step - loss: 0.6933 - acc: 0.5085 - val_loss: 0.6930 - val_acc: 0.5090\n",
      "Epoch 3/50\n",
      "32/32 [==============================] - 44s 1s/step - loss: 0.6935 - acc: 0.5085 - val_loss: 0.6930 - val_acc: 0.5090\n",
      "Epoch 4/50\n",
      "32/32 [==============================] - 43s 1s/step - loss: 0.6930 - acc: 0.5085 - val_loss: 0.6930 - val_acc: 0.5090\n",
      "Epoch 5/50\n",
      "32/32 [==============================] - 44s 1s/step - loss: 0.6931 - acc: 0.5085 - val_loss: 0.6930 - val_acc: 0.5090\n",
      "Epoch 6/50\n",
      "32/32 [==============================] - 44s 1s/step - loss: 0.6932 - acc: 0.5085 - val_loss: 0.6930 - val_acc: 0.5090\n",
      "Epoch 7/50\n",
      "32/32 [==============================] - 44s 1s/step - loss: 0.6931 - acc: 0.5085 - val_loss: 0.6930 - val_acc: 0.5090\n",
      "Epoch 8/50\n",
      "32/32 [==============================] - 44s 1s/step - loss: 0.6931 - acc: 0.5085 - val_loss: 0.6930 - val_acc: 0.5090\n",
      "Epoch 9/50\n",
      "32/32 [==============================] - 44s 1s/step - loss: 0.6930 - acc: 0.5085 - val_loss: 0.6929 - val_acc: 0.5090\n",
      "Epoch 10/50\n",
      "32/32 [==============================] - 44s 1s/step - loss: 0.6931 - acc: 0.5085 - val_loss: 0.6929 - val_acc: 0.5090\n",
      "Epoch 11/50\n",
      "32/32 [==============================] - 44s 1s/step - loss: 0.6991 - acc: 0.5145 - val_loss: 0.6624 - val_acc: 0.6596\n",
      "Epoch 12/50\n",
      "32/32 [==============================] - 44s 1s/step - loss: 0.6928 - acc: 0.5115 - val_loss: 0.6927 - val_acc: 0.5090\n",
      "Epoch 13/50\n",
      "32/32 [==============================] - 47s 1s/step - loss: 0.6929 - acc: 0.5085 - val_loss: 0.6928 - val_acc: 0.5090\n",
      "Epoch 14/50\n",
      "32/32 [==============================] - 44s 1s/step - loss: 0.6933 - acc: 0.5085 - val_loss: 0.6930 - val_acc: 0.5090\n",
      "Epoch 15/50\n",
      "32/32 [==============================] - 45s 1s/step - loss: 0.6924 - acc: 0.5085 - val_loss: 0.6893 - val_acc: 0.5090\n",
      "Epoch 16/50\n",
      "32/32 [==============================] - 45s 1s/step - loss: 0.6541 - acc: 0.6094 - val_loss: 0.6134 - val_acc: 0.6717\n",
      "Epoch 17/50\n",
      "32/32 [==============================] - 44s 1s/step - loss: 0.6717 - acc: 0.5744 - val_loss: 0.6612 - val_acc: 0.6476\n",
      "Epoch 18/50\n",
      "32/32 [==============================] - 45s 1s/step - loss: 0.6493 - acc: 0.6004 - val_loss: 0.5976 - val_acc: 0.6837\n",
      "Epoch 19/50\n",
      "32/32 [==============================] - 45s 1s/step - loss: 0.6521 - acc: 0.6064 - val_loss: 0.6322 - val_acc: 0.7681\n",
      "Epoch 20/50\n",
      "32/32 [==============================] - 45s 1s/step - loss: 0.6395 - acc: 0.6354 - val_loss: 0.4438 - val_acc: 0.7982\n",
      "Epoch 21/50\n",
      "32/32 [==============================] - 44s 1s/step - loss: 0.5754 - acc: 0.6933 - val_loss: 0.4587 - val_acc: 0.8133\n",
      "Epoch 22/50\n",
      "32/32 [==============================] - 44s 1s/step - loss: 0.5566 - acc: 0.7093 - val_loss: 0.5070 - val_acc: 0.7861\n",
      "Epoch 23/50\n",
      "32/32 [==============================] - 43s 1s/step - loss: 0.5007 - acc: 0.7582 - val_loss: 0.4208 - val_acc: 0.7590\n",
      "Epoch 24/50\n",
      "32/32 [==============================] - 44s 1s/step - loss: 0.4448 - acc: 0.7792 - val_loss: 0.4245 - val_acc: 0.7771\n",
      "Epoch 25/50\n",
      "32/32 [==============================] - 43s 1s/step - loss: 0.4057 - acc: 0.8022 - val_loss: 0.3380 - val_acc: 0.8614\n",
      "Epoch 26/50\n",
      "32/32 [==============================] - 44s 1s/step - loss: 0.3492 - acc: 0.8362 - val_loss: 0.3655 - val_acc: 0.8313\n",
      "Epoch 27/50\n",
      "32/32 [==============================] - 44s 1s/step - loss: 0.3128 - acc: 0.8551 - val_loss: 0.3784 - val_acc: 0.8133\n",
      "Epoch 28/50\n",
      "32/32 [==============================] - 44s 1s/step - loss: 0.3069 - acc: 0.8651 - val_loss: 0.3938 - val_acc: 0.8373\n",
      "Epoch 29/50\n",
      "32/32 [==============================] - 43s 1s/step - loss: 0.2159 - acc: 0.9071 - val_loss: 0.3226 - val_acc: 0.8614\n",
      "Epoch 30/50\n",
      "32/32 [==============================] - 43s 1s/step - loss: 0.2046 - acc: 0.9141 - val_loss: 0.5189 - val_acc: 0.8133\n",
      "Epoch 31/50\n",
      "32/32 [==============================] - 44s 1s/step - loss: 0.1874 - acc: 0.9241 - val_loss: 0.4064 - val_acc: 0.8434\n",
      "Epoch 32/50\n",
      "32/32 [==============================] - 43s 1s/step - loss: 0.1625 - acc: 0.9391 - val_loss: 0.4094 - val_acc: 0.8675\n",
      "Epoch 33/50\n",
      "32/32 [==============================] - 43s 1s/step - loss: 0.1399 - acc: 0.9481 - val_loss: 0.4368 - val_acc: 0.8404\n",
      "Epoch 34/50\n",
      "32/32 [==============================] - 43s 1s/step - loss: 0.1416 - acc: 0.9540 - val_loss: 0.5380 - val_acc: 0.8163\n",
      "Epoch 35/50\n",
      "32/32 [==============================] - 46s 1s/step - loss: 0.0967 - acc: 0.9620 - val_loss: 0.5563 - val_acc: 0.8434\n",
      "Epoch 36/50\n",
      "32/32 [==============================] - 43s 1s/step - loss: 0.0766 - acc: 0.9750 - val_loss: 0.9764 - val_acc: 0.7741\n",
      "Epoch 37/50\n",
      "32/32 [==============================] - 43s 1s/step - loss: 0.0927 - acc: 0.9740 - val_loss: 0.4919 - val_acc: 0.8434\n",
      "Epoch 38/50\n",
      "32/32 [==============================] - 43s 1s/step - loss: 0.0574 - acc: 0.9780 - val_loss: 0.6266 - val_acc: 0.8343\n",
      "Epoch 39/50\n",
      "32/32 [==============================] - 44s 1s/step - loss: 0.0598 - acc: 0.9810 - val_loss: 0.6741 - val_acc: 0.8042\n",
      "Epoch 40/50\n",
      "32/32 [==============================] - 43s 1s/step - loss: 0.0433 - acc: 0.9830 - val_loss: 0.7141 - val_acc: 0.8373\n",
      "Epoch 41/50\n",
      "32/32 [==============================] - 44s 1s/step - loss: 0.0316 - acc: 0.9890 - val_loss: 0.8793 - val_acc: 0.8283\n",
      "Epoch 42/50\n",
      "32/32 [==============================] - 45s 1s/step - loss: 0.0654 - acc: 0.9800 - val_loss: 0.6891 - val_acc: 0.8464\n",
      "Epoch 43/50\n",
      "32/32 [==============================] - 44s 1s/step - loss: 0.0815 - acc: 0.9700 - val_loss: 0.7035 - val_acc: 0.7861\n",
      "Epoch 44/50\n",
      "32/32 [==============================] - 43s 1s/step - loss: 0.0680 - acc: 0.9770 - val_loss: 0.6157 - val_acc: 0.8373\n",
      "Epoch 45/50\n",
      "32/32 [==============================] - 43s 1s/step - loss: 0.0347 - acc: 0.9900 - val_loss: 0.6953 - val_acc: 0.8193\n",
      "Epoch 46/50\n",
      "32/32 [==============================] - 44s 1s/step - loss: 0.0844 - acc: 0.9760 - val_loss: 1.0068 - val_acc: 0.7801\n",
      "Epoch 47/50\n",
      "32/32 [==============================] - 44s 1s/step - loss: 0.1799 - acc: 0.9341 - val_loss: 0.6425 - val_acc: 0.7982\n",
      "Epoch 48/50\n",
      "32/32 [==============================] - 43s 1s/step - loss: 0.0482 - acc: 0.9810 - val_loss: 0.6065 - val_acc: 0.8343\n",
      "Epoch 49/50\n",
      "32/32 [==============================] - 44s 1s/step - loss: 0.0310 - acc: 0.9890 - val_loss: 0.8462 - val_acc: 0.8343\n",
      "Epoch 50/50\n",
      "32/32 [==============================] - 44s 1s/step - loss: 0.0281 - acc: 0.9900 - val_loss: 0.7599 - val_acc: 0.8163\n"
     ]
    }
   ],
   "source": [
    "model12_history = model12.fit(train_data,\n",
    "                    epochs=global_epochs,\n",
    "                    validation_data = val_data\n",
    "                   )"
   ]
  },
  {
   "cell_type": "code",
   "execution_count": 78,
   "metadata": {},
   "outputs": [
    {
     "name": "stdout",
     "output_type": "stream",
     "text": [
      "32/32 [==============================] - 29s 902ms/step - loss: 0.0061 - acc: 1.0000\n",
      "11/11 [==============================] - 6s 581ms/step - loss: 0.7599 - acc: 0.8163\n"
     ]
    },
    {
     "data": {
      "text/plain": [
       "[0.7598930597305298, 0.8162650465965271]"
      ]
     },
     "execution_count": 78,
     "metadata": {},
     "output_type": "execute_result"
    }
   ],
   "source": [
    "model_12_train_results = model12.evaluate(train_data)\n",
    "model_12_train_results\n",
    "\n",
    "model_12_val_results = model12.evaluate(val_data)\n",
    "model_12_val_results"
   ]
  },
  {
   "cell_type": "code",
   "execution_count": 79,
   "metadata": {},
   "outputs": [],
   "source": [
    "score_dictionary['model 12'] = (model_12_train_results,model_12_val_results)"
   ]
  },
  {
   "cell_type": "code",
   "execution_count": 84,
   "metadata": {},
   "outputs": [
    {
     "data": {
      "image/png": "[encoded data removed]",
      "text/plain": [
       "<Figure size 720x360 with 2 Axes>"
      ]
     },
     "metadata": {
      "needs_background": "light"
     },
     "output_type": "display_data"
    }
   ],
   "source": [
    "# visualizing loss and accuracy per epoch\n",
    "model12_train_loss = model12_history.history['loss']\n",
    "model12_train_acc = model12_history.history['acc']\n",
    "model12_val_loss = model12_history.history['val_loss']\n",
    "model12_val_acc = model12_history.history['val_acc']\n",
    "\n",
    "\n",
    "fig, (ax1, ax2) = plt.subplots(1, 2, figsize=(10, 5))\n",
    "\n",
    "sns.lineplot(x=model12_history.epoch, y=model12_train_loss, ax=ax1, label='training loss')\n",
    "sns.lineplot(x=model12_history.epoch, y=model12_train_acc, ax=ax2, label='training accuracy')\n",
    "\n",
    "sns.lineplot(x=model12_history.epoch, y=model12_val_loss, ax=ax1, label='validation loss')\n",
    "sns.lineplot(x=model12_history.epoch, y=model12_val_acc, ax=ax2, label='validation accuracy');"
   ]
  },
  {
   "cell_type": "markdown",
   "metadata": {},
   "source": [
    "### CNN MODEL 13"
   ]
  },
  {
   "cell_type": "markdown",
   "metadata": {},
   "source": [
    "For this iteration, I will add more dropout layers and also increase the intensity, I will be adapting iteration 12's architecture"
   ]
  },
  {
   "cell_type": "code",
   "execution_count": 85,
   "metadata": {},
   "outputs": [],
   "source": [
    "model13 = models.Sequential()\n",
    "\n",
    "# Stack 1\n",
    "model13.add(layers.Conv2D(filters = 64,\n",
    "                         kernel_size=(3,3),\n",
    "                         activation='relu',\n",
    "                         input_shape = (global_target_size[0],global_target_size[0], 3),\n",
    "                         padding = 'same'\n",
    "                        ))\n",
    "model13.add(layers.MaxPooling2D(pool_size = (4,4),\n",
    "                         padding = 'same'))\n",
    "\n",
    "# Dropout Layer 1\n",
    "model13.add(layers.Dropout(.1))\n",
    "\n",
    "# Stack 2\n",
    "model13.add(layers.Conv2D(32, (3,3), activation='relu',padding = 'same'))\n",
    "model13.add(layers.MaxPooling2D((2, 2),\n",
    "                         padding = 'same'))\n",
    "\n",
    "# Dropout Layer 2\n",
    "model13.add(layers.Dropout(.15))\n",
    "\n",
    "# Stack 3\n",
    "model13.add(layers.Conv2D(64, (4,4), activation='relu'))\n",
    "model13.add(layers.MaxPooling2D((2, 2),\n",
    "                         padding = 'same'))\n",
    "# Dropout Layer 3\n",
    "model13.add(layers.Dropout(.2))\n",
    "\n",
    "# Stack 4\n",
    "model13.add(layers.Conv2D(128, (3,3), activation='relu',padding='same'))\n",
    "model13.add(layers.MaxPooling2D((2, 2),\n",
    "                         padding = 'same'))\n",
    "\n",
    "# Dropout Layer 4\n",
    "model13.add(layers.Dropout(.3))\n",
    "\n",
    "# Stack 5\n",
    "model13.add(layers.Conv2D(128, (4,4), activation='relu',padding = 'same'))\n",
    "model13.add(layers.MaxPooling2D((2, 2),\n",
    "                         padding = 'same'))\n",
    "# Dropout Layer 5\n",
    "model13.add(layers.Dropout(.4))\n",
    "\n",
    "# Stack 5\n",
    "model13.add(layers.Conv2D(256, (4,4), activation='relu',padding = 'same'))\n",
    "model13.add(layers.MaxPooling2D((2, 2),\n",
    "                         padding = 'same'))\n",
    "\n",
    "# Dropout Layer 6\n",
    "model13.add(layers.Dropout(.5))\n",
    "\n",
    "\n",
    "# Flattening layer\n",
    "model13.add(layers.Flatten())\n",
    "\n",
    "# Dense layer 1\n",
    "model13.add(layers.Dense(64, activation='relu'))\n",
    "\n",
    "# Dense layer 2 - output layer\n",
    "model13.add(layers.Dense(1, activation='sigmoid'))\n",
    "\n",
    "model13.compile(loss='binary_crossentropy',\n",
    "              optimizer = 'adam',\n",
    "              metrics=['acc'])"
   ]
  },
  {
   "cell_type": "code",
   "execution_count": 86,
   "metadata": {},
   "outputs": [
    {
     "name": "stdout",
     "output_type": "stream",
     "text": [
      "Model: \"sequential_3\"\n",
      "_________________________________________________________________\n",
      "Layer (type)                 Output Shape              Param #   \n",
      "=================================================================\n",
      "conv2d_18 (Conv2D)           (None, 127, 127, 64)      1792      \n",
      "_________________________________________________________________\n",
      "max_pooling2d_18 (MaxPooling (None, 32, 32, 64)        0         \n",
      "_________________________________________________________________\n",
      "dropout_9 (Dropout)          (None, 32, 32, 64)        0         \n",
      "_________________________________________________________________\n",
      "conv2d_19 (Conv2D)           (None, 32, 32, 32)        18464     \n",
      "_________________________________________________________________\n",
      "max_pooling2d_19 (MaxPooling (None, 16, 16, 32)        0         \n",
      "_________________________________________________________________\n",
      "dropout_10 (Dropout)         (None, 16, 16, 32)        0         \n",
      "_________________________________________________________________\n",
      "conv2d_20 (Conv2D)           (None, 13, 13, 64)        32832     \n",
      "_________________________________________________________________\n",
      "max_pooling2d_20 (MaxPooling (None, 7, 7, 64)          0         \n",
      "_________________________________________________________________\n",
      "dropout_11 (Dropout)         (None, 7, 7, 64)          0         \n",
      "_________________________________________________________________\n",
      "conv2d_21 (Conv2D)           (None, 7, 7, 128)         73856     \n",
      "_________________________________________________________________\n",
      "max_pooling2d_21 (MaxPooling (None, 4, 4, 128)         0         \n",
      "_________________________________________________________________\n",
      "dropout_12 (Dropout)         (None, 4, 4, 128)         0         \n",
      "_________________________________________________________________\n",
      "conv2d_22 (Conv2D)           (None, 4, 4, 128)         262272    \n",
      "_________________________________________________________________\n",
      "max_pooling2d_22 (MaxPooling (None, 2, 2, 128)         0         \n",
      "_________________________________________________________________\n",
      "dropout_13 (Dropout)         (None, 2, 2, 128)         0         \n",
      "_________________________________________________________________\n",
      "conv2d_23 (Conv2D)           (None, 2, 2, 256)         524544    \n",
      "_________________________________________________________________\n",
      "max_pooling2d_23 (MaxPooling (None, 1, 1, 256)         0         \n",
      "_________________________________________________________________\n",
      "dropout_14 (Dropout)         (None, 1, 1, 256)         0         \n",
      "_________________________________________________________________\n",
      "flatten_3 (Flatten)          (None, 256)               0         \n",
      "_________________________________________________________________\n",
      "dense_6 (Dense)              (None, 64)                16448     \n",
      "_________________________________________________________________\n",
      "dense_7 (Dense)              (None, 1)                 65        \n",
      "=================================================================\n",
      "Total params: 930,273\n",
      "Trainable params: 930,273\n",
      "Non-trainable params: 0\n",
      "_________________________________________________________________\n"
     ]
    }
   ],
   "source": [
    "model13.summary()"
   ]
  },
  {
   "cell_type": "code",
   "execution_count": 87,
   "metadata": {},
   "outputs": [
    {
     "name": "stdout",
     "output_type": "stream",
     "text": [
      "Epoch 1/75\n",
      "32/32 [==============================] - 47s 1s/step - loss: 0.6952 - acc: 0.5005 - val_loss: 0.6938 - val_acc: 0.5090\n",
      "Epoch 2/75\n",
      "32/32 [==============================] - 47s 1s/step - loss: 0.6940 - acc: 0.5025 - val_loss: 0.6930 - val_acc: 0.5090\n",
      "Epoch 3/75\n",
      "32/32 [==============================] - 49s 2s/step - loss: 0.6934 - acc: 0.5155 - val_loss: 0.6929 - val_acc: 0.5090\n",
      "Epoch 4/75\n",
      "32/32 [==============================] - 45s 1s/step - loss: 0.6931 - acc: 0.5075 - val_loss: 0.6928 - val_acc: 0.5090\n",
      "Epoch 5/75\n",
      "32/32 [==============================] - 45s 1s/step - loss: 0.6941 - acc: 0.4975 - val_loss: 0.6908 - val_acc: 0.5663\n",
      "Epoch 6/75\n",
      "32/32 [==============================] - 44s 1s/step - loss: 0.6757 - acc: 0.5734 - val_loss: 0.6330 - val_acc: 0.6627\n",
      "Epoch 7/75\n",
      "32/32 [==============================] - 45s 1s/step - loss: 0.6639 - acc: 0.6004 - val_loss: 0.6288 - val_acc: 0.6807\n",
      "Epoch 8/75\n",
      "32/32 [==============================] - 44s 1s/step - loss: 0.6729 - acc: 0.6024 - val_loss: 0.6471 - val_acc: 0.6536\n",
      "Epoch 9/75\n",
      "32/32 [==============================] - 44s 1s/step - loss: 0.6401 - acc: 0.6214 - val_loss: 0.5361 - val_acc: 0.7801\n",
      "Epoch 10/75\n",
      "32/32 [==============================] - 45s 1s/step - loss: 0.6120 - acc: 0.6643 - val_loss: 0.4653 - val_acc: 0.8223\n",
      "Epoch 11/75\n",
      "32/32 [==============================] - 46s 1s/step - loss: 0.5729 - acc: 0.7053 - val_loss: 0.5040 - val_acc: 0.7349\n",
      "Epoch 12/75\n",
      "32/32 [==============================] - 46s 1s/step - loss: 0.5433 - acc: 0.7363 - val_loss: 0.4343 - val_acc: 0.8434\n",
      "Epoch 13/75\n",
      "32/32 [==============================] - 45s 1s/step - loss: 0.5125 - acc: 0.7582 - val_loss: 0.5093 - val_acc: 0.7771\n",
      "Epoch 14/75\n",
      "32/32 [==============================] - 45s 1s/step - loss: 0.4926 - acc: 0.7622 - val_loss: 0.4029 - val_acc: 0.8494\n",
      "Epoch 15/75\n",
      "32/32 [==============================] - 45s 1s/step - loss: 0.4450 - acc: 0.7882 - val_loss: 0.4410 - val_acc: 0.8102\n",
      "Epoch 16/75\n",
      "32/32 [==============================] - 52s 2s/step - loss: 0.4381 - acc: 0.7992 - val_loss: 0.3628 - val_acc: 0.8464\n",
      "Epoch 17/75\n",
      "32/32 [==============================] - 45s 1s/step - loss: 0.4124 - acc: 0.8152 - val_loss: 0.4849 - val_acc: 0.7801\n",
      "Epoch 18/75\n",
      "32/32 [==============================] - 45s 1s/step - loss: 0.3869 - acc: 0.8392 - val_loss: 0.3652 - val_acc: 0.8434\n",
      "Epoch 19/75\n",
      "32/32 [==============================] - 45s 1s/step - loss: 0.3969 - acc: 0.8322 - val_loss: 0.4270 - val_acc: 0.8072\n",
      "Epoch 20/75\n",
      "32/32 [==============================] - 45s 1s/step - loss: 0.3590 - acc: 0.8521 - val_loss: 0.5164 - val_acc: 0.7440\n",
      "Epoch 21/75\n",
      "32/32 [==============================] - 45s 1s/step - loss: 0.3457 - acc: 0.8482 - val_loss: 0.5960 - val_acc: 0.7590\n",
      "Epoch 22/75\n",
      "32/32 [==============================] - 45s 1s/step - loss: 0.3131 - acc: 0.8621 - val_loss: 0.3628 - val_acc: 0.8524\n",
      "Epoch 23/75\n",
      "32/32 [==============================] - 44s 1s/step - loss: 0.2714 - acc: 0.8911 - val_loss: 0.4166 - val_acc: 0.8193\n",
      "Epoch 24/75\n",
      "32/32 [==============================] - 44s 1s/step - loss: 0.2391 - acc: 0.9071 - val_loss: 0.4352 - val_acc: 0.8223\n",
      "Epoch 25/75\n",
      "32/32 [==============================] - 44s 1s/step - loss: 0.2425 - acc: 0.9131 - val_loss: 0.4445 - val_acc: 0.8133\n",
      "Epoch 26/75\n",
      "32/32 [==============================] - 44s 1s/step - loss: 0.2661 - acc: 0.8831 - val_loss: 0.4254 - val_acc: 0.8163\n",
      "Epoch 27/75\n",
      "32/32 [==============================] - 46s 1s/step - loss: 0.2398 - acc: 0.9101 - val_loss: 0.4906 - val_acc: 0.8042\n",
      "Epoch 28/75\n",
      "32/32 [==============================] - 45s 1s/step - loss: 0.1831 - acc: 0.9271 - val_loss: 0.5004 - val_acc: 0.8343\n",
      "Epoch 29/75\n",
      "32/32 [==============================] - 45s 1s/step - loss: 0.2129 - acc: 0.9131 - val_loss: 0.4246 - val_acc: 0.8193\n",
      "Epoch 30/75\n",
      "32/32 [==============================] - 45s 1s/step - loss: 0.1957 - acc: 0.9211 - val_loss: 0.5037 - val_acc: 0.8554\n",
      "Epoch 31/75\n",
      "32/32 [==============================] - 44s 1s/step - loss: 0.1951 - acc: 0.9191 - val_loss: 0.5371 - val_acc: 0.8012\n",
      "Epoch 32/75\n",
      "32/32 [==============================] - 44s 1s/step - loss: 0.1714 - acc: 0.9351 - val_loss: 0.5149 - val_acc: 0.8133\n",
      "Epoch 33/75\n",
      "32/32 [==============================] - 45s 1s/step - loss: 0.1766 - acc: 0.9291 - val_loss: 0.4627 - val_acc: 0.8193\n",
      "Epoch 34/75\n",
      "32/32 [==============================] - 48s 2s/step - loss: 0.1499 - acc: 0.9421 - val_loss: 0.4442 - val_acc: 0.8404\n",
      "Epoch 35/75\n",
      "32/32 [==============================] - 52s 2s/step - loss: 0.1568 - acc: 0.9421 - val_loss: 0.5913 - val_acc: 0.7892\n",
      "Epoch 36/75\n",
      "32/32 [==============================] - 46s 1s/step - loss: 0.1084 - acc: 0.9650 - val_loss: 0.7782 - val_acc: 0.7922\n",
      "Epoch 37/75\n",
      "32/32 [==============================] - 47s 1s/step - loss: 0.1417 - acc: 0.9570 - val_loss: 0.4637 - val_acc: 0.8343\n",
      "Epoch 38/75\n",
      "32/32 [==============================] - 47s 1s/step - loss: 0.1303 - acc: 0.9560 - val_loss: 0.6798 - val_acc: 0.8163\n",
      "Epoch 39/75\n",
      "32/32 [==============================] - 46s 1s/step - loss: 0.1426 - acc: 0.9540 - val_loss: 0.5742 - val_acc: 0.8313\n",
      "Epoch 40/75\n",
      "32/32 [==============================] - 52s 2s/step - loss: 0.1024 - acc: 0.9610 - val_loss: 0.7905 - val_acc: 0.7831\n",
      "Epoch 41/75\n",
      "32/32 [==============================] - 48s 2s/step - loss: 0.1111 - acc: 0.9560 - val_loss: 0.5470 - val_acc: 0.8193\n",
      "Epoch 42/75\n",
      "32/32 [==============================] - 47s 1s/step - loss: 0.0876 - acc: 0.9700 - val_loss: 0.7167 - val_acc: 0.8163\n",
      "Epoch 43/75\n",
      "32/32 [==============================] - 45s 1s/step - loss: 0.1013 - acc: 0.9650 - val_loss: 0.6274 - val_acc: 0.8102\n",
      "Epoch 44/75\n",
      "32/32 [==============================] - 47s 1s/step - loss: 0.0806 - acc: 0.9700 - val_loss: 0.6344 - val_acc: 0.8343\n",
      "Epoch 45/75\n",
      "32/32 [==============================] - 46s 1s/step - loss: 0.0881 - acc: 0.9720 - val_loss: 0.7551 - val_acc: 0.7922\n",
      "Epoch 46/75\n",
      "32/32 [==============================] - 47s 1s/step - loss: 0.1086 - acc: 0.9610 - val_loss: 0.6472 - val_acc: 0.8133\n",
      "Epoch 47/75\n",
      "32/32 [==============================] - 45s 1s/step - loss: 0.0876 - acc: 0.9750 - val_loss: 0.5552 - val_acc: 0.8494\n",
      "Epoch 48/75\n",
      "32/32 [==============================] - 45s 1s/step - loss: 0.0970 - acc: 0.9690 - val_loss: 0.6178 - val_acc: 0.8193\n",
      "Epoch 49/75\n",
      "32/32 [==============================] - 44s 1s/step - loss: 0.0913 - acc: 0.9670 - val_loss: 1.0699 - val_acc: 0.7259\n",
      "Epoch 50/75\n",
      "32/32 [==============================] - 44s 1s/step - loss: 0.0997 - acc: 0.9610 - val_loss: 0.5965 - val_acc: 0.8133\n",
      "Epoch 51/75\n",
      "32/32 [==============================] - 44s 1s/step - loss: 0.0610 - acc: 0.9820 - val_loss: 0.4995 - val_acc: 0.8675\n",
      "Epoch 52/75\n",
      "32/32 [==============================] - 46s 1s/step - loss: 0.0734 - acc: 0.9770 - val_loss: 0.9478 - val_acc: 0.7651\n",
      "Epoch 53/75\n",
      "32/32 [==============================] - 47s 1s/step - loss: 0.0699 - acc: 0.9760 - val_loss: 0.5790 - val_acc: 0.8404\n",
      "Epoch 54/75\n",
      "32/32 [==============================] - 46s 1s/step - loss: 0.0671 - acc: 0.9800 - val_loss: 0.7167 - val_acc: 0.8072\n",
      "Epoch 55/75\n",
      "32/32 [==============================] - 46s 1s/step - loss: 0.0358 - acc: 0.9910 - val_loss: 1.1818 - val_acc: 0.7681\n",
      "Epoch 56/75\n",
      "32/32 [==============================] - 46s 1s/step - loss: 0.0564 - acc: 0.9770 - val_loss: 0.7637 - val_acc: 0.8313\n",
      "Epoch 57/75\n",
      "32/32 [==============================] - 46s 1s/step - loss: 0.0476 - acc: 0.9850 - val_loss: 0.8280 - val_acc: 0.8072\n",
      "Epoch 58/75\n",
      "32/32 [==============================] - 52s 2s/step - loss: 0.0630 - acc: 0.9770 - val_loss: 0.9308 - val_acc: 0.7560\n",
      "Epoch 59/75\n",
      "32/32 [==============================] - 47s 1s/step - loss: 0.0716 - acc: 0.9700 - val_loss: 0.7881 - val_acc: 0.7892\n",
      "Epoch 60/75\n",
      "32/32 [==============================] - 46s 1s/step - loss: 0.0631 - acc: 0.9790 - val_loss: 0.8669 - val_acc: 0.8072\n",
      "Epoch 61/75\n",
      "32/32 [==============================] - 46s 1s/step - loss: 0.0660 - acc: 0.9780 - val_loss: 0.7464 - val_acc: 0.7892\n",
      "Epoch 62/75\n",
      "32/32 [==============================] - 45s 1s/step - loss: 0.0633 - acc: 0.9780 - val_loss: 0.6012 - val_acc: 0.8404\n",
      "Epoch 63/75\n"
     ]
    },
    {
     "name": "stdout",
     "output_type": "stream",
     "text": [
      "32/32 [==============================] - 46s 1s/step - loss: 0.0561 - acc: 0.9770 - val_loss: 0.5965 - val_acc: 0.8554\n",
      "Epoch 64/75\n",
      "32/32 [==============================] - 47s 1s/step - loss: 0.0492 - acc: 0.9830 - val_loss: 0.5903 - val_acc: 0.8283\n",
      "Epoch 65/75\n",
      "32/32 [==============================] - 47s 1s/step - loss: 0.0595 - acc: 0.9780 - val_loss: 0.8800 - val_acc: 0.8012\n",
      "Epoch 66/75\n",
      "32/32 [==============================] - 47s 1s/step - loss: 0.0608 - acc: 0.9770 - val_loss: 0.6083 - val_acc: 0.8313\n",
      "Epoch 67/75\n",
      "32/32 [==============================] - 50s 2s/step - loss: 0.0514 - acc: 0.9810 - val_loss: 0.5768 - val_acc: 0.8283\n",
      "Epoch 68/75\n",
      "32/32 [==============================] - 51s 2s/step - loss: 0.0660 - acc: 0.9790 - val_loss: 0.7121 - val_acc: 0.7892\n",
      "Epoch 69/75\n",
      "32/32 [==============================] - 52s 2s/step - loss: 0.0568 - acc: 0.9860 - val_loss: 0.6915 - val_acc: 0.8133\n",
      "Epoch 70/75\n",
      "32/32 [==============================] - 47s 1s/step - loss: 0.0268 - acc: 0.9910 - val_loss: 0.7950 - val_acc: 0.8042\n",
      "Epoch 71/75\n",
      "32/32 [==============================] - 45s 1s/step - loss: 0.0364 - acc: 0.9890 - val_loss: 0.9064 - val_acc: 0.8223\n",
      "Epoch 72/75\n",
      "32/32 [==============================] - 45s 1s/step - loss: 0.0436 - acc: 0.9840 - val_loss: 0.9332 - val_acc: 0.8012\n",
      "Epoch 73/75\n",
      "32/32 [==============================] - 45s 1s/step - loss: 0.0573 - acc: 0.9790 - val_loss: 0.8271 - val_acc: 0.7982\n",
      "Epoch 74/75\n",
      "32/32 [==============================] - 47s 1s/step - loss: 0.0645 - acc: 0.9770 - val_loss: 0.6888 - val_acc: 0.7892\n",
      "Epoch 75/75\n",
      "32/32 [==============================] - 45s 1s/step - loss: 0.0426 - acc: 0.9890 - val_loss: 0.7114 - val_acc: 0.8223\n"
     ]
    }
   ],
   "source": [
    "model13_history = model13.fit(train_data,\n",
    "                    epochs=global_epochs,\n",
    "                    validation_data = val_data\n",
    "                   )"
   ]
  },
  {
   "cell_type": "code",
   "execution_count": 88,
   "metadata": {},
   "outputs": [
    {
     "name": "stdout",
     "output_type": "stream",
     "text": [
      "32/32 [==============================] - 28s 883ms/step - loss: 0.0042 - acc: 1.0000\n",
      "11/11 [==============================] - 6s 542ms/step - loss: 0.7114 - acc: 0.8223\n"
     ]
    },
    {
     "data": {
      "text/plain": [
       "[0.7113529443740845, 0.8222891688346863]"
      ]
     },
     "execution_count": 88,
     "metadata": {},
     "output_type": "execute_result"
    }
   ],
   "source": [
    "model_13_train_results = model13.evaluate(train_data)\n",
    "model_13_train_results\n",
    "\n",
    "model_13_val_results = model13.evaluate(val_data)\n",
    "model_13_val_results"
   ]
  },
  {
   "cell_type": "code",
   "execution_count": 89,
   "metadata": {},
   "outputs": [],
   "source": [
    "score_dictionary['model 13'] = (model_13_train_results,model_13_val_results)"
   ]
  },
  {
   "cell_type": "code",
   "execution_count": 90,
   "metadata": {},
   "outputs": [
    {
     "data": {
      "image/png": "[encoded data removed]",
      "text/plain": [
       "<Figure size 720x360 with 2 Axes>"
      ]
     },
     "metadata": {
      "needs_background": "light"
     },
     "output_type": "display_data"
    }
   ],
   "source": [
    "# visualizing loss and accuracy per epoch\n",
    "model13_train_loss = model13_history.history['loss']\n",
    "model13_train_acc = model13_history.history['acc']\n",
    "model13_val_loss = model13_history.history['val_loss']\n",
    "model13_val_acc = model13_history.history['val_acc']\n",
    "\n",
    "\n",
    "fig, (ax1, ax2) = plt.subplots(1, 2, figsize=(10, 5))\n",
    "\n",
    "sns.lineplot(x=model13_history.epoch, y=model13_train_loss, ax=ax1, label='training loss')\n",
    "sns.lineplot(x=model13_history.epoch, y=model13_train_acc, ax=ax2, label='training accuracy')\n",
    "\n",
    "sns.lineplot(x=model13_history.epoch, y=model13_val_loss, ax=ax1, label='validation loss')\n",
    "sns.lineplot(x=model13_history.epoch, y=model13_val_acc, ax=ax2, label='validation accuracy');"
   ]
  },
  {
   "cell_type": "markdown",
   "metadata": {},
   "source": [
    "### CNN Model 14"
   ]
  },
  {
   "cell_type": "markdown",
   "metadata": {},
   "source": [
    "If model 12 doesn't have enough reducing of overfitting, I will add L2 kernel regulizers to the convolutional layers of the last model. So there will be dropout layers AND kernel regulizers."
   ]
  },
  {
   "cell_type": "code",
   "execution_count": null,
   "metadata": {},
   "outputs": [],
   "source": []
  }
 ],
 "metadata": {
  "kernelspec": {
   "display_name": "Python (learn-env)",
   "language": "python",
   "name": "learn-env"
  },
  "language_info": {
   "codemirror_mode": {
    "name": "ipython",
    "version": 3
   },
   "file_extension": ".py",
   "mimetype": "text/x-python",
   "name": "python",
   "nbconvert_exporter": "python",
   "pygments_lexer": "ipython3",
   "version": "3.8.5"
  }
 },
 "nbformat": 4,
 "nbformat_minor": 4
}
