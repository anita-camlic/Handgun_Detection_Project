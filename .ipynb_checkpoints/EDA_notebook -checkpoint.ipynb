{
 "cells": [
  {
   "cell_type": "markdown",
   "metadata": {},
   "source": [
    "# EDA Notebook"
   ]
  },
  {
   "cell_type": "markdown",
   "metadata": {},
   "source": [
    "This notebook is used for exploratory data analysis"
   ]
  },
  {
   "cell_type": "code",
   "execution_count": 32,
   "metadata": {},
   "outputs": [],
   "source": [
    "#imports \n",
    "import os, shutil\n",
    "import pandas as pd\n",
    "from sklearn.metrics import accuracy_score, recall_score\n",
    "import time\n",
    "import matplotlib.pyplot as plt\n",
    "import scipy\n",
    "import numpy as np\n",
    "from PIL import Image\n",
    "from scipy import ndimage\n",
    "from keras.preprocessing.image import ImageDataGenerator, array_to_img, img_to_array, load_img"
   ]
  },
  {
   "cell_type": "code",
   "execution_count": 33,
   "metadata": {},
   "outputs": [],
   "source": [
    "train_images_dir = 'C:/Users/User/Documents/Flatiron/Capstone/train_data/images'\n",
    "test_images_dir = 'C:/Users/User/Documents/Flatiron/Capstone/test_data/images'\n",
    "\n",
    "#train_images_dir_0 = 'C:/Users/User/Documents/Flatiron/Capstone/train_data/images/0'\n",
    "#train_images_dir_1 = 'C:/Users/User/Documents/Flatiron/Capstone/train_data/images/1'"
   ]
  },
  {
   "cell_type": "markdown",
   "metadata": {},
   "source": [
    "#### Prepping data for modeling"
   ]
  },
  {
   "cell_type": "markdown",
   "metadata": {},
   "source": [
    "#### Image Generator Object"
   ]
  },
  {
   "cell_type": "markdown",
   "metadata": {},
   "source": [
    "#### Training and Validation set creation"
   ]
  },
  {
   "cell_type": "code",
   "execution_count": 34,
   "metadata": {},
   "outputs": [
    {
     "name": "stdout",
     "output_type": "stream",
     "text": [
      "Found 2455 images belonging to 2 classes.\n"
     ]
    }
   ],
   "source": [
    "# Batch size here means how many \n",
    "#of the images do we want our model to be trained on\n",
    "train_val_generator = ImageDataGenerator(rescale=1./255,\n",
    "                                     validation_split = .30)\n",
    "train_data = train_val_generator.flow_from_directory(\n",
    "        train_images_dir,  \n",
    "        target_size = (128,128),\n",
    "        subset='training',\n",
    "        batch_size=32,\n",
    "        class_mode='binary')"
   ]
  },
  {
   "cell_type": "code",
   "execution_count": 35,
   "metadata": {},
   "outputs": [
    {
     "name": "stdout",
     "output_type": "stream",
     "text": [
      "Found 1051 images belonging to 2 classes.\n"
     ]
    }
   ],
   "source": [
    "val_data = train_val_generator.flow_from_directory(train_images_dir,\n",
    "       subset = 'validation',  \n",
    "       target_size = (128,128),\n",
    "       batch_size=32,\n",
    "       class_mode='binary')"
   ]
  },
  {
   "cell_type": "code",
   "execution_count": 36,
   "metadata": {},
   "outputs": [],
   "source": [
    "train_images, train_labels = next(train_data)"
   ]
  },
  {
   "cell_type": "code",
   "execution_count": 37,
   "metadata": {},
   "outputs": [],
   "source": [
    "val_images, val_labels = next(val_data)"
   ]
  },
  {
   "cell_type": "code",
   "execution_count": 38,
   "metadata": {},
   "outputs": [
    {
     "data": {
      "text/plain": [
       "(32, 128, 128, 3)"
      ]
     },
     "execution_count": 38,
     "metadata": {},
     "output_type": "execute_result"
    }
   ],
   "source": [
    "train_images.shape"
   ]
  },
  {
   "cell_type": "code",
   "execution_count": 39,
   "metadata": {},
   "outputs": [
    {
     "data": {
      "text/plain": [
       "(32,)"
      ]
     },
     "execution_count": 39,
     "metadata": {},
     "output_type": "execute_result"
    }
   ],
   "source": [
    "train_labels.shape"
   ]
  },
  {
   "cell_type": "code",
   "execution_count": 40,
   "metadata": {},
   "outputs": [
    {
     "data": {
      "text/plain": [
       "(32, 128, 128, 3)"
      ]
     },
     "execution_count": 40,
     "metadata": {},
     "output_type": "execute_result"
    }
   ],
   "source": [
    "val_images.shape"
   ]
  },
  {
   "cell_type": "code",
   "execution_count": 41,
   "metadata": {},
   "outputs": [
    {
     "data": {
      "text/plain": [
       "(32,)"
      ]
     },
     "execution_count": 41,
     "metadata": {},
     "output_type": "execute_result"
    }
   ],
   "source": [
    "val_labels.shape"
   ]
  },
  {
   "cell_type": "code",
   "execution_count": 42,
   "metadata": {},
   "outputs": [],
   "source": [
    "# reshaping the y values to be modeled\n",
    "y_train = np.asarray(train_labels).astype('float32').reshape((-1,1))\n",
    "y_val = np.asarray(val_labels).astype('float32').reshape((-1,1))"
   ]
  },
  {
   "cell_type": "markdown",
   "metadata": {},
   "source": [
    "### Test Set Creation"
   ]
  },
  {
   "cell_type": "code",
   "execution_count": 43,
   "metadata": {},
   "outputs": [
    {
     "name": "stdout",
     "output_type": "stream",
     "text": [
      "Found 809 images belonging to 2 classes.\n"
     ]
    }
   ],
   "source": [
    "test_generator = ImageDataGenerator(rescale=1./255)\n",
    "test_data = test_generator.flow_from_directory(\n",
    "        test_images_dir,  \n",
    "        target_size = (128,128),\n",
    "        batch_size=32,\n",
    "        class_mode='binary',\n",
    "        shuffle= False)"
   ]
  },
  {
   "cell_type": "code",
   "execution_count": 44,
   "metadata": {},
   "outputs": [],
   "source": [
    "test_images, test_labels = next(test_data)"
   ]
  },
  {
   "cell_type": "code",
   "execution_count": 45,
   "metadata": {},
   "outputs": [],
   "source": [
    "y_test = np.asarray(test_labels).astype('float32').reshape((-1,1))\n"
   ]
  },
  {
   "cell_type": "markdown",
   "metadata": {},
   "source": [
    "#### Reshaping for normal neural network (flattening)"
   ]
  },
  {
   "cell_type": "code",
   "execution_count": 17,
   "metadata": {},
   "outputs": [],
   "source": [
    "train_img_nn = train_images.reshape(train_images.shape[0], -1)"
   ]
  },
  {
   "cell_type": "code",
   "execution_count": 18,
   "metadata": {},
   "outputs": [],
   "source": [
    "val_img_nn = val_images.reshape(val_images.shape[0], -1)"
   ]
  },
  {
   "cell_type": "code",
   "execution_count": 19,
   "metadata": {},
   "outputs": [],
   "source": [
    "y_train_nn = np.asarray(train_labels).astype('float32').reshape((-1,1))\n",
    "y_val_nn = np.asarray(val_labels).astype('float32').reshape((-1,1))\n"
   ]
  },
  {
   "cell_type": "code",
   "execution_count": 20,
   "metadata": {},
   "outputs": [
    {
     "name": "stdout",
     "output_type": "stream",
     "text": [
      "(250, 49152)\n",
      "(250, 1)\n",
      "(250, 49152)\n",
      "(250, 1)\n"
     ]
    }
   ],
   "source": [
    "print(train_img_nn.shape)\n",
    "print(y_train_nn.shape)\n",
    "print(val_img_nn.shape)\n",
    "print(y_val_nn.shape)"
   ]
  },
  {
   "cell_type": "markdown",
   "metadata": {},
   "source": [
    "### Baseline"
   ]
  },
  {
   "cell_type": "code",
   "execution_count": 21,
   "metadata": {},
   "outputs": [],
   "source": [
    "# Build a baseline fully connected model\n",
    "from keras import models\n",
    "from keras import layers\n",
    "\n",
    "model = models.Sequential()\n",
    "model.add(layers.Dense(20, activation='relu', input_shape=(49152,))) # 2 hidden layers\n",
    "model.add(layers.Dense(7, activation='relu'))\n",
    "model.add(layers.Dense(5, activation='relu'))\n",
    "model.add(layers.Dense(1, activation='sigmoid'))"
   ]
  },
  {
   "cell_type": "code",
   "execution_count": 25,
   "metadata": {},
   "outputs": [
    {
     "name": "stdout",
     "output_type": "stream",
     "text": [
      "Epoch 1/150\n",
      "5/5 [==============================] - 0s 50ms/step - loss: 0.1569 - accuracy: 0.9480 - val_loss: 1.1090 - val_accuracy: 0.4480\n",
      "Epoch 2/150\n",
      "5/5 [==============================] - 0s 22ms/step - loss: 0.4494 - accuracy: 0.8400 - val_loss: 0.9352 - val_accuracy: 0.5760\n",
      "Epoch 3/150\n",
      "5/5 [==============================] - 0s 23ms/step - loss: 0.3209 - accuracy: 0.8560 - val_loss: 0.8229 - val_accuracy: 0.5600\n",
      "Epoch 4/150\n",
      "5/5 [==============================] - 0s 23ms/step - loss: 0.1579 - accuracy: 0.9640 - val_loss: 1.5060 - val_accuracy: 0.6320\n",
      "Epoch 5/150\n",
      "5/5 [==============================] - 0s 24ms/step - loss: 0.3816 - accuracy: 0.8400 - val_loss: 0.9260 - val_accuracy: 0.5680\n",
      "Epoch 6/150\n",
      "5/5 [==============================] - 0s 22ms/step - loss: 0.1344 - accuracy: 0.9600 - val_loss: 1.2448 - val_accuracy: 0.5560\n",
      "Epoch 7/150\n",
      "5/5 [==============================] - 0s 23ms/step - loss: 0.1073 - accuracy: 0.9800 - val_loss: 1.2263 - val_accuracy: 0.5360\n",
      "Epoch 8/150\n",
      "5/5 [==============================] - 0s 23ms/step - loss: 0.4586 - accuracy: 0.8520 - val_loss: 1.4261 - val_accuracy: 0.6480\n",
      "Epoch 9/150\n",
      "5/5 [==============================] - 0s 24ms/step - loss: 0.4120 - accuracy: 0.7920 - val_loss: 1.1487 - val_accuracy: 0.5880\n",
      "Epoch 10/150\n",
      "5/5 [==============================] - 0s 25ms/step - loss: 0.1669 - accuracy: 0.9440 - val_loss: 0.9045 - val_accuracy: 0.5520\n",
      "Epoch 11/150\n",
      "5/5 [==============================] - 0s 23ms/step - loss: 0.3394 - accuracy: 0.8480 - val_loss: 1.3198 - val_accuracy: 0.6280\n",
      "Epoch 12/150\n",
      "5/5 [==============================] - 0s 22ms/step - loss: 0.2167 - accuracy: 0.9000 - val_loss: 1.2067 - val_accuracy: 0.5560\n",
      "Epoch 13/150\n",
      "5/5 [==============================] - 0s 23ms/step - loss: 0.2750 - accuracy: 0.8680 - val_loss: 1.0043 - val_accuracy: 0.4480\n",
      "Epoch 14/150\n",
      "5/5 [==============================] - 0s 22ms/step - loss: 0.2968 - accuracy: 0.8720 - val_loss: 0.9119 - val_accuracy: 0.5280\n",
      "Epoch 15/150\n",
      "5/5 [==============================] - 0s 23ms/step - loss: 0.2308 - accuracy: 0.8920 - val_loss: 1.0792 - val_accuracy: 0.5680\n",
      "Epoch 16/150\n",
      "5/5 [==============================] - 0s 23ms/step - loss: 0.1261 - accuracy: 0.9520 - val_loss: 1.1233 - val_accuracy: 0.5800\n",
      "Epoch 17/150\n",
      "5/5 [==============================] - 0s 24ms/step - loss: 0.0976 - accuracy: 0.9760 - val_loss: 1.3064 - val_accuracy: 0.5680\n",
      "Epoch 18/150\n",
      "5/5 [==============================] - 0s 24ms/step - loss: 0.4307 - accuracy: 0.8280 - val_loss: 0.9254 - val_accuracy: 0.5920\n",
      "Epoch 19/150\n",
      "5/5 [==============================] - 0s 25ms/step - loss: 0.1218 - accuracy: 0.9720 - val_loss: 1.1341 - val_accuracy: 0.5400\n",
      "Epoch 20/150\n",
      "5/5 [==============================] - 0s 22ms/step - loss: 0.0916 - accuracy: 0.9880 - val_loss: 1.2344 - val_accuracy: 0.5600\n",
      "Epoch 21/150\n",
      "5/5 [==============================] - 0s 24ms/step - loss: 0.2443 - accuracy: 0.8880 - val_loss: 1.2811 - val_accuracy: 0.4080\n",
      "Epoch 22/150\n",
      "5/5 [==============================] - 0s 24ms/step - loss: 0.4775 - accuracy: 0.7960 - val_loss: 1.0295 - val_accuracy: 0.5720\n",
      "Epoch 23/150\n",
      "5/5 [==============================] - 0s 30ms/step - loss: 0.5310 - accuracy: 0.8040 - val_loss: 0.8892 - val_accuracy: 0.5760\n",
      "Epoch 24/150\n",
      "5/5 [==============================] - 0s 25ms/step - loss: 0.1642 - accuracy: 0.9640 - val_loss: 1.0606 - val_accuracy: 0.5720\n",
      "Epoch 25/150\n",
      "5/5 [==============================] - 0s 23ms/step - loss: 0.1062 - accuracy: 0.9800 - val_loss: 1.2431 - val_accuracy: 0.5480\n",
      "Epoch 26/150\n",
      "5/5 [==============================] - 0s 25ms/step - loss: 0.3846 - accuracy: 0.8320 - val_loss: 0.8883 - val_accuracy: 0.5280\n",
      "Epoch 27/150\n",
      "5/5 [==============================] - 0s 22ms/step - loss: 0.1215 - accuracy: 0.9840 - val_loss: 1.2914 - val_accuracy: 0.5600\n",
      "Epoch 28/150\n",
      "5/5 [==============================] - 0s 23ms/step - loss: 0.4177 - accuracy: 0.8120 - val_loss: 0.8897 - val_accuracy: 0.5120\n",
      "Epoch 29/150\n",
      "5/5 [==============================] - 0s 24ms/step - loss: 0.1310 - accuracy: 0.9760 - val_loss: 0.9556 - val_accuracy: 0.5640\n",
      "Epoch 30/150\n",
      "5/5 [==============================] - 0s 23ms/step - loss: 0.3138 - accuracy: 0.8480 - val_loss: 1.1556 - val_accuracy: 0.5720\n",
      "Epoch 31/150\n",
      "5/5 [==============================] - 0s 26ms/step - loss: 0.2389 - accuracy: 0.8800 - val_loss: 1.0667 - val_accuracy: 0.4800\n",
      "Epoch 32/150\n",
      "5/5 [==============================] - 0s 31ms/step - loss: 0.1120 - accuracy: 0.9640 - val_loss: 1.1556 - val_accuracy: 0.5200\n",
      "Epoch 33/150\n",
      "5/5 [==============================] - 0s 36ms/step - loss: 0.1041 - accuracy: 0.9640 - val_loss: 1.5021 - val_accuracy: 0.5920\n",
      "Epoch 34/150\n",
      "5/5 [==============================] - 0s 26ms/step - loss: 0.2724 - accuracy: 0.8800 - val_loss: 1.0698 - val_accuracy: 0.5280\n",
      "Epoch 35/150\n",
      "5/5 [==============================] - 0s 24ms/step - loss: 0.0769 - accuracy: 0.9880 - val_loss: 1.2491 - val_accuracy: 0.5280\n",
      "Epoch 36/150\n",
      "5/5 [==============================] - 0s 29ms/step - loss: 0.0664 - accuracy: 0.9880 - val_loss: 1.3253 - val_accuracy: 0.5200\n",
      "Epoch 37/150\n",
      "5/5 [==============================] - 0s 29ms/step - loss: 0.0568 - accuracy: 0.9920 - val_loss: 1.4995 - val_accuracy: 0.5560\n",
      "Epoch 38/150\n",
      "5/5 [==============================] - 0s 31ms/step - loss: 0.2128 - accuracy: 0.9080 - val_loss: 1.4069 - val_accuracy: 0.4240\n",
      "Epoch 39/150\n",
      "5/5 [==============================] - 0s 29ms/step - loss: 0.1450 - accuracy: 0.9440 - val_loss: 1.1989 - val_accuracy: 0.5760\n",
      "Epoch 40/150\n",
      "5/5 [==============================] - 0s 27ms/step - loss: 0.1192 - accuracy: 0.9520 - val_loss: 1.7575 - val_accuracy: 0.6080\n",
      "Epoch 41/150\n",
      "5/5 [==============================] - 0s 22ms/step - loss: 0.3216 - accuracy: 0.8600 - val_loss: 1.0102 - val_accuracy: 0.5240\n",
      "Epoch 42/150\n",
      "5/5 [==============================] - 0s 23ms/step - loss: 0.1110 - accuracy: 0.9680 - val_loss: 1.5029 - val_accuracy: 0.5800\n",
      "Epoch 43/150\n",
      "5/5 [==============================] - 0s 24ms/step - loss: 0.1534 - accuracy: 0.9360 - val_loss: 1.4633 - val_accuracy: 0.5600\n",
      "Epoch 44/150\n",
      "5/5 [==============================] - 0s 24ms/step - loss: 0.0619 - accuracy: 0.9800 - val_loss: 1.2422 - val_accuracy: 0.4760\n",
      "Epoch 45/150\n",
      "5/5 [==============================] - 0s 24ms/step - loss: 0.1374 - accuracy: 0.9440 - val_loss: 1.2091 - val_accuracy: 0.5680\n",
      "Epoch 46/150\n",
      "5/5 [==============================] - 0s 24ms/step - loss: 0.0616 - accuracy: 0.9920 - val_loss: 1.4562 - val_accuracy: 0.5520\n",
      "Epoch 47/150\n",
      "5/5 [==============================] - 0s 22ms/step - loss: 0.0482 - accuracy: 0.9920 - val_loss: 1.5110 - val_accuracy: 0.5760\n",
      "Epoch 48/150\n",
      "5/5 [==============================] - 0s 24ms/step - loss: 0.0452 - accuracy: 0.9920 - val_loss: 1.5471 - val_accuracy: 0.5680\n",
      "Epoch 49/150\n",
      "5/5 [==============================] - 0s 24ms/step - loss: 0.0478 - accuracy: 0.9920 - val_loss: 1.5417 - val_accuracy: 0.5600\n",
      "Epoch 50/150\n",
      "5/5 [==============================] - 0s 25ms/step - loss: 0.0474 - accuracy: 0.9920 - val_loss: 1.4113 - val_accuracy: 0.5280\n",
      "Epoch 51/150\n",
      "5/5 [==============================] - 0s 23ms/step - loss: 0.0738 - accuracy: 0.9720 - val_loss: 1.4778 - val_accuracy: 0.5480\n",
      "Epoch 52/150\n",
      "5/5 [==============================] - 0s 23ms/step - loss: 0.1451 - accuracy: 0.9320 - val_loss: 1.7093 - val_accuracy: 0.4000\n",
      "Epoch 53/150\n",
      "5/5 [==============================] - 0s 27ms/step - loss: 0.7219 - accuracy: 0.8000 - val_loss: 0.9318 - val_accuracy: 0.5600\n",
      "Epoch 54/150\n",
      "5/5 [==============================] - 0s 21ms/step - loss: 0.1480 - accuracy: 0.9880 - val_loss: 1.1688 - val_accuracy: 0.5560\n",
      "Epoch 55/150\n",
      "5/5 [==============================] - 0s 21ms/step - loss: 0.0631 - accuracy: 0.9880 - val_loss: 1.2554 - val_accuracy: 0.5400\n",
      "Epoch 56/150\n",
      "5/5 [==============================] - 0s 21ms/step - loss: 0.0525 - accuracy: 0.9880 - val_loss: 1.4602 - val_accuracy: 0.5680\n",
      "Epoch 57/150\n",
      "5/5 [==============================] - 0s 22ms/step - loss: 0.0438 - accuracy: 0.9880 - val_loss: 1.4664 - val_accuracy: 0.5240\n",
      "Epoch 58/150\n",
      "5/5 [==============================] - 0s 22ms/step - loss: 0.0383 - accuracy: 0.9920 - val_loss: 1.6814 - val_accuracy: 0.5800\n",
      "Epoch 59/150\n"
     ]
    },
    {
     "name": "stdout",
     "output_type": "stream",
     "text": [
      "5/5 [==============================] - 0s 22ms/step - loss: 0.0807 - accuracy: 0.9720 - val_loss: 1.4175 - val_accuracy: 0.5320\n",
      "Epoch 60/150\n",
      "5/5 [==============================] - 0s 21ms/step - loss: 0.0423 - accuracy: 0.9920 - val_loss: 1.6381 - val_accuracy: 0.5680\n",
      "Epoch 61/150\n",
      "5/5 [==============================] - 0s 23ms/step - loss: 0.0328 - accuracy: 0.9920 - val_loss: 1.6263 - val_accuracy: 0.5600\n",
      "Epoch 62/150\n",
      "5/5 [==============================] - 0s 21ms/step - loss: 0.0308 - accuracy: 0.9960 - val_loss: 1.6594 - val_accuracy: 0.5640\n",
      "Epoch 63/150\n",
      "5/5 [==============================] - 0s 20ms/step - loss: 0.0525 - accuracy: 0.9840 - val_loss: 1.4105 - val_accuracy: 0.4800\n",
      "Epoch 64/150\n",
      "5/5 [==============================] - 0s 22ms/step - loss: 0.0440 - accuracy: 0.9880 - val_loss: 1.6032 - val_accuracy: 0.5560\n",
      "Epoch 65/150\n",
      "5/5 [==============================] - 0s 21ms/step - loss: 0.0352 - accuracy: 0.9920 - val_loss: 1.5023 - val_accuracy: 0.5400\n",
      "Epoch 66/150\n",
      "5/5 [==============================] - 0s 21ms/step - loss: 0.0287 - accuracy: 0.9960 - val_loss: 1.7000 - val_accuracy: 0.5760\n",
      "Epoch 67/150\n",
      "5/5 [==============================] - 0s 25ms/step - loss: 0.0261 - accuracy: 0.9960 - val_loss: 1.7401 - val_accuracy: 0.5760\n",
      "Epoch 68/150\n",
      "5/5 [==============================] - 0s 22ms/step - loss: 0.0267 - accuracy: 0.9920 - val_loss: 1.6828 - val_accuracy: 0.5440\n",
      "Epoch 69/150\n",
      "5/5 [==============================] - 0s 23ms/step - loss: 0.0242 - accuracy: 0.9960 - val_loss: 1.6758 - val_accuracy: 0.5480\n",
      "Epoch 70/150\n",
      "5/5 [==============================] - 0s 27ms/step - loss: 0.0234 - accuracy: 0.9960 - val_loss: 1.7450 - val_accuracy: 0.5480\n",
      "Epoch 71/150\n",
      "5/5 [==============================] - 0s 28ms/step - loss: 0.0243 - accuracy: 0.9960 - val_loss: 1.7660 - val_accuracy: 0.5440\n",
      "Epoch 72/150\n",
      "5/5 [==============================] - 0s 29ms/step - loss: 0.0234 - accuracy: 0.9960 - val_loss: 1.7447 - val_accuracy: 0.5320\n",
      "Epoch 73/150\n",
      "5/5 [==============================] - 0s 23ms/step - loss: 0.0220 - accuracy: 0.9960 - val_loss: 1.8719 - val_accuracy: 0.5680\n",
      "Epoch 74/150\n",
      "5/5 [==============================] - 0s 24ms/step - loss: 0.0227 - accuracy: 0.9960 - val_loss: 1.8092 - val_accuracy: 0.5480\n",
      "Epoch 75/150\n",
      "5/5 [==============================] - 0s 32ms/step - loss: 0.0217 - accuracy: 0.9960 - val_loss: 1.8135 - val_accuracy: 0.5560\n",
      "Epoch 76/150\n",
      "5/5 [==============================] - 0s 25ms/step - loss: 0.0211 - accuracy: 0.9960 - val_loss: 1.9067 - val_accuracy: 0.5760\n",
      "Epoch 77/150\n",
      "5/5 [==============================] - 0s 20ms/step - loss: 0.0207 - accuracy: 0.9960 - val_loss: 1.8328 - val_accuracy: 0.5480\n",
      "Epoch 78/150\n",
      "5/5 [==============================] - 0s 21ms/step - loss: 0.0200 - accuracy: 0.9920 - val_loss: 1.8197 - val_accuracy: 0.5480\n",
      "Epoch 79/150\n",
      "5/5 [==============================] - 0s 30ms/step - loss: 0.0197 - accuracy: 0.9960 - val_loss: 1.8264 - val_accuracy: 0.5440\n",
      "Epoch 80/150\n",
      "5/5 [==============================] - 0s 27ms/step - loss: 0.0190 - accuracy: 0.9960 - val_loss: 1.9280 - val_accuracy: 0.5480\n",
      "Epoch 81/150\n",
      "5/5 [==============================] - 0s 28ms/step - loss: 0.0190 - accuracy: 0.9960 - val_loss: 2.0334 - val_accuracy: 0.5800\n",
      "Epoch 82/150\n",
      "5/5 [==============================] - 0s 26ms/step - loss: 0.0228 - accuracy: 0.9920 - val_loss: 1.8876 - val_accuracy: 0.5600\n",
      "Epoch 83/150\n",
      "5/5 [==============================] - 0s 27ms/step - loss: 0.0194 - accuracy: 0.9960 - val_loss: 1.8815 - val_accuracy: 0.5480\n",
      "Epoch 84/150\n",
      "5/5 [==============================] - 0s 22ms/step - loss: 0.0187 - accuracy: 0.9960 - val_loss: 1.8764 - val_accuracy: 0.5400\n",
      "Epoch 85/150\n",
      "5/5 [==============================] - 0s 22ms/step - loss: 0.0178 - accuracy: 0.9960 - val_loss: 1.9097 - val_accuracy: 0.5600\n",
      "Epoch 86/150\n",
      "5/5 [==============================] - 0s 22ms/step - loss: 0.0173 - accuracy: 0.9960 - val_loss: 1.9224 - val_accuracy: 0.5560\n",
      "Epoch 87/150\n",
      "5/5 [==============================] - 0s 25ms/step - loss: 0.0175 - accuracy: 0.9960 - val_loss: 1.9108 - val_accuracy: 0.5400\n",
      "Epoch 88/150\n",
      "5/5 [==============================] - 0s 31ms/step - loss: 0.0166 - accuracy: 0.9960 - val_loss: 1.9878 - val_accuracy: 0.5560\n",
      "Epoch 89/150\n",
      "5/5 [==============================] - 0s 24ms/step - loss: 0.0165 - accuracy: 0.9960 - val_loss: 1.9225 - val_accuracy: 0.5320\n",
      "Epoch 90/150\n",
      "5/5 [==============================] - 0s 21ms/step - loss: 0.0164 - accuracy: 0.9960 - val_loss: 1.9092 - val_accuracy: 0.5320\n",
      "Epoch 91/150\n",
      "5/5 [==============================] - 0s 21ms/step - loss: 0.0164 - accuracy: 0.9960 - val_loss: 1.9452 - val_accuracy: 0.5360\n",
      "Epoch 92/150\n",
      "5/5 [==============================] - 0s 22ms/step - loss: 0.0157 - accuracy: 0.9960 - val_loss: 1.9900 - val_accuracy: 0.5520\n",
      "Epoch 93/150\n",
      "5/5 [==============================] - 0s 22ms/step - loss: 0.0156 - accuracy: 0.9960 - val_loss: 2.0062 - val_accuracy: 0.5520\n",
      "Epoch 94/150\n",
      "5/5 [==============================] - 0s 23ms/step - loss: 0.0153 - accuracy: 0.9960 - val_loss: 2.0257 - val_accuracy: 0.5560\n",
      "Epoch 95/150\n",
      "5/5 [==============================] - 0s 23ms/step - loss: 0.0151 - accuracy: 0.9960 - val_loss: 2.0134 - val_accuracy: 0.5480\n",
      "Epoch 96/150\n",
      "5/5 [==============================] - 0s 30ms/step - loss: 0.0153 - accuracy: 0.9920 - val_loss: 2.0129 - val_accuracy: 0.5480\n",
      "Epoch 97/150\n",
      "5/5 [==============================] - 0s 26ms/step - loss: 0.0149 - accuracy: 0.9960 - val_loss: 2.0235 - val_accuracy: 0.5360\n",
      "Epoch 98/150\n",
      "5/5 [==============================] - 0s 21ms/step - loss: 0.0149 - accuracy: 0.9960 - val_loss: 2.0193 - val_accuracy: 0.5480\n",
      "Epoch 99/150\n",
      "5/5 [==============================] - 0s 22ms/step - loss: 0.0145 - accuracy: 0.9960 - val_loss: 2.0790 - val_accuracy: 0.5440\n",
      "Epoch 100/150\n",
      "5/5 [==============================] - 0s 22ms/step - loss: 0.0146 - accuracy: 0.9960 - val_loss: 2.0498 - val_accuracy: 0.5480\n",
      "Epoch 101/150\n",
      "5/5 [==============================] - 0s 22ms/step - loss: 0.0142 - accuracy: 0.9960 - val_loss: 2.0139 - val_accuracy: 0.5320\n",
      "Epoch 102/150\n",
      "5/5 [==============================] - 0s 22ms/step - loss: 0.0147 - accuracy: 0.9920 - val_loss: 2.0209 - val_accuracy: 0.5320\n",
      "Epoch 103/150\n",
      "5/5 [==============================] - 0s 24ms/step - loss: 0.0140 - accuracy: 0.9960 - val_loss: 2.0751 - val_accuracy: 0.5480\n",
      "Epoch 104/150\n",
      "5/5 [==============================] - 0s 31ms/step - loss: 0.0138 - accuracy: 0.9960 - val_loss: 2.0432 - val_accuracy: 0.5320\n",
      "Epoch 105/150\n",
      "5/5 [==============================] - 0s 31ms/step - loss: 0.0138 - accuracy: 0.9960 - val_loss: 2.1435 - val_accuracy: 0.5440\n",
      "Epoch 106/150\n",
      "5/5 [==============================] - 0s 26ms/step - loss: 0.0138 - accuracy: 0.9960 - val_loss: 2.0907 - val_accuracy: 0.5320\n",
      "Epoch 107/150\n",
      "5/5 [==============================] - 0s 24ms/step - loss: 0.0134 - accuracy: 0.9960 - val_loss: 2.1057 - val_accuracy: 0.5480\n",
      "Epoch 108/150\n",
      "5/5 [==============================] - 0s 23ms/step - loss: 0.0132 - accuracy: 0.9960 - val_loss: 2.1360 - val_accuracy: 0.5440\n",
      "Epoch 109/150\n",
      "5/5 [==============================] - 0s 24ms/step - loss: 0.0131 - accuracy: 0.9960 - val_loss: 2.1842 - val_accuracy: 0.5400\n",
      "Epoch 110/150\n",
      "5/5 [==============================] - 0s 25ms/step - loss: 0.0132 - accuracy: 0.9960 - val_loss: 2.1934 - val_accuracy: 0.5600\n",
      "Epoch 111/150\n",
      "5/5 [==============================] - 0s 24ms/step - loss: 0.0130 - accuracy: 0.9960 - val_loss: 2.1554 - val_accuracy: 0.5400\n",
      "Epoch 112/150\n",
      "5/5 [==============================] - 0s 21ms/step - loss: 0.0126 - accuracy: 0.9960 - val_loss: 2.1151 - val_accuracy: 0.5400\n",
      "Epoch 113/150\n",
      "5/5 [==============================] - 0s 23ms/step - loss: 0.0127 - accuracy: 0.9960 - val_loss: 2.1530 - val_accuracy: 0.5400\n",
      "Epoch 114/150\n",
      "5/5 [==============================] - 0s 22ms/step - loss: 0.0125 - accuracy: 0.9960 - val_loss: 2.1973 - val_accuracy: 0.5440\n",
      "Epoch 115/150\n",
      "5/5 [==============================] - 0s 23ms/step - loss: 0.0125 - accuracy: 0.9960 - val_loss: 2.2292 - val_accuracy: 0.5480\n",
      "Epoch 116/150\n",
      "5/5 [==============================] - 0s 23ms/step - loss: 0.0124 - accuracy: 0.9960 - val_loss: 2.1912 - val_accuracy: 0.5400\n",
      "Epoch 117/150\n"
     ]
    },
    {
     "name": "stdout",
     "output_type": "stream",
     "text": [
      "5/5 [==============================] - 0s 27ms/step - loss: 0.0122 - accuracy: 0.9960 - val_loss: 2.1561 - val_accuracy: 0.5440\n",
      "Epoch 118/150\n",
      "5/5 [==============================] - 0s 24ms/step - loss: 0.0121 - accuracy: 0.9960 - val_loss: 2.2418 - val_accuracy: 0.5440\n",
      "Epoch 119/150\n",
      "5/5 [==============================] - 0s 22ms/step - loss: 0.0120 - accuracy: 0.9960 - val_loss: 2.1175 - val_accuracy: 0.5280\n",
      "Epoch 120/150\n",
      "5/5 [==============================] - 0s 23ms/step - loss: 0.0120 - accuracy: 0.9960 - val_loss: 2.2188 - val_accuracy: 0.5400\n",
      "Epoch 121/150\n",
      "5/5 [==============================] - 0s 34ms/step - loss: 0.0120 - accuracy: 0.9960 - val_loss: 2.2208 - val_accuracy: 0.5400\n",
      "Epoch 122/150\n",
      "5/5 [==============================] - 0s 23ms/step - loss: 0.0117 - accuracy: 0.9960 - val_loss: 2.1927 - val_accuracy: 0.5320\n",
      "Epoch 123/150\n",
      "5/5 [==============================] - 0s 22ms/step - loss: 0.0117 - accuracy: 0.9960 - val_loss: 2.2273 - val_accuracy: 0.5400\n",
      "Epoch 124/150\n",
      "5/5 [==============================] - 0s 23ms/step - loss: 0.0117 - accuracy: 0.9960 - val_loss: 2.2281 - val_accuracy: 0.5400\n",
      "Epoch 125/150\n",
      "5/5 [==============================] - 0s 33ms/step - loss: 0.0115 - accuracy: 1.0000 - val_loss: 2.2468 - val_accuracy: 0.5400\n",
      "Epoch 126/150\n",
      "5/5 [==============================] - 0s 27ms/step - loss: 0.0117 - accuracy: 0.9960 - val_loss: 2.2624 - val_accuracy: 0.5440\n",
      "Epoch 127/150\n",
      "5/5 [==============================] - 0s 22ms/step - loss: 0.0115 - accuracy: 0.9960 - val_loss: 2.2312 - val_accuracy: 0.5440\n",
      "Epoch 128/150\n",
      "5/5 [==============================] - 0s 22ms/step - loss: 0.0115 - accuracy: 1.0000 - val_loss: 2.1929 - val_accuracy: 0.5280\n",
      "Epoch 129/150\n",
      "5/5 [==============================] - 0s 24ms/step - loss: 0.0113 - accuracy: 1.0000 - val_loss: 2.2269 - val_accuracy: 0.5400\n",
      "Epoch 130/150\n",
      "5/5 [==============================] - 0s 22ms/step - loss: 0.0111 - accuracy: 1.0000 - val_loss: 2.2544 - val_accuracy: 0.5400\n",
      "Epoch 131/150\n",
      "5/5 [==============================] - 0s 22ms/step - loss: 0.0111 - accuracy: 1.0000 - val_loss: 2.2521 - val_accuracy: 0.5400\n",
      "Epoch 132/150\n",
      "5/5 [==============================] - 0s 25ms/step - loss: 0.0110 - accuracy: 1.0000 - val_loss: 2.2547 - val_accuracy: 0.5440\n",
      "Epoch 133/150\n",
      "5/5 [==============================] - 0s 21ms/step - loss: 0.0109 - accuracy: 1.0000 - val_loss: 2.2568 - val_accuracy: 0.5320\n",
      "Epoch 134/150\n",
      "5/5 [==============================] - 0s 22ms/step - loss: 0.0111 - accuracy: 1.0000 - val_loss: 2.2997 - val_accuracy: 0.5400\n",
      "Epoch 135/150\n",
      "5/5 [==============================] - 0s 23ms/step - loss: 0.0108 - accuracy: 1.0000 - val_loss: 2.2503 - val_accuracy: 0.5320\n",
      "Epoch 136/150\n",
      "5/5 [==============================] - 0s 23ms/step - loss: 0.0108 - accuracy: 1.0000 - val_loss: 2.2739 - val_accuracy: 0.5400\n",
      "Epoch 137/150\n",
      "5/5 [==============================] - 0s 22ms/step - loss: 0.0108 - accuracy: 1.0000 - val_loss: 2.3103 - val_accuracy: 0.5400\n",
      "Epoch 138/150\n",
      "5/5 [==============================] - 0s 22ms/step - loss: 0.0106 - accuracy: 1.0000 - val_loss: 2.2407 - val_accuracy: 0.5320\n",
      "Epoch 139/150\n",
      "5/5 [==============================] - 0s 22ms/step - loss: 0.0107 - accuracy: 1.0000 - val_loss: 2.3136 - val_accuracy: 0.5400\n",
      "Epoch 140/150\n",
      "5/5 [==============================] - 0s 24ms/step - loss: 0.0107 - accuracy: 1.0000 - val_loss: 2.3282 - val_accuracy: 0.5400\n",
      "Epoch 141/150\n",
      "5/5 [==============================] - 0s 21ms/step - loss: 0.0104 - accuracy: 1.0000 - val_loss: 2.2991 - val_accuracy: 0.5400\n",
      "Epoch 142/150\n",
      "5/5 [==============================] - 0s 21ms/step - loss: 0.0105 - accuracy: 0.9960 - val_loss: 2.2446 - val_accuracy: 0.5280\n",
      "Epoch 143/150\n",
      "5/5 [==============================] - 0s 21ms/step - loss: 0.0107 - accuracy: 1.0000 - val_loss: 2.2613 - val_accuracy: 0.5320\n",
      "Epoch 144/150\n",
      "5/5 [==============================] - 0s 22ms/step - loss: 0.0104 - accuracy: 1.0000 - val_loss: 2.3075 - val_accuracy: 0.5400\n",
      "Epoch 145/150\n",
      "5/5 [==============================] - 0s 22ms/step - loss: 0.0103 - accuracy: 1.0000 - val_loss: 2.3429 - val_accuracy: 0.5400\n",
      "Epoch 146/150\n",
      "5/5 [==============================] - 0s 22ms/step - loss: 0.0102 - accuracy: 1.0000 - val_loss: 2.3583 - val_accuracy: 0.5400\n",
      "Epoch 147/150\n",
      "5/5 [==============================] - 0s 21ms/step - loss: 0.0101 - accuracy: 1.0000 - val_loss: 2.3502 - val_accuracy: 0.5400\n",
      "Epoch 148/150\n",
      "5/5 [==============================] - 0s 22ms/step - loss: 0.0100 - accuracy: 1.0000 - val_loss: 2.3119 - val_accuracy: 0.5440\n",
      "Epoch 149/150\n",
      "5/5 [==============================] - 0s 21ms/step - loss: 0.0100 - accuracy: 1.0000 - val_loss: 2.3558 - val_accuracy: 0.5400\n",
      "Epoch 150/150\n",
      "5/5 [==============================] - 0s 21ms/step - loss: 0.0100 - accuracy: 1.0000 - val_loss: 2.3325 - val_accuracy: 0.5400\n"
     ]
    }
   ],
   "source": [
    "model.compile(optimizer='sgd',\n",
    "              loss='binary_crossentropy',\n",
    "              metrics=['accuracy'])\n",
    "\n",
    "histoire = model.fit(train_img_nn,\n",
    "                    y_train_nn,\n",
    "                    epochs=150,\n",
    "                     batch_size=50,\n",
    "                     validation_data = (val_img_nn,y_val_nn))"
   ]
  },
  {
   "cell_type": "code",
   "execution_count": 26,
   "metadata": {},
   "outputs": [
    {
     "name": "stdout",
     "output_type": "stream",
     "text": [
      "8/8 [==============================] - 0s 7ms/step - loss: 2.3325 - accuracy: 0.5400\n"
     ]
    }
   ],
   "source": [
    "results_val = model.evaluate(val_img_nn,y_val_nn)"
   ]
  },
  {
   "cell_type": "code",
   "execution_count": 27,
   "metadata": {},
   "outputs": [
    {
     "data": {
      "text/plain": [
       "[2.3325207233428955, 0.5400000214576721]"
      ]
     },
     "execution_count": 27,
     "metadata": {},
     "output_type": "execute_result"
    }
   ],
   "source": [
    "results_val"
   ]
  },
  {
   "cell_type": "code",
   "execution_count": 28,
   "metadata": {},
   "outputs": [
    {
     "name": "stdout",
     "output_type": "stream",
     "text": [
      "8/8 [==============================] - 0s 4ms/step - loss: 0.0099 - accuracy: 1.0000\n"
     ]
    },
    {
     "data": {
      "text/plain": [
       "[0.00990371871739626, 1.0]"
      ]
     },
     "execution_count": 28,
     "metadata": {},
     "output_type": "execute_result"
    }
   ],
   "source": [
    "results_train = model.evaluate(train_img_nn,\n",
    "                    y_train_nn)\n",
    "results_train"
   ]
  },
  {
   "cell_type": "markdown",
   "metadata": {},
   "source": [
    "### Model Iterations"
   ]
  },
  {
   "cell_type": "markdown",
   "metadata": {},
   "source": [
    "#### CNN 1"
   ]
  },
  {
   "cell_type": "markdown",
   "metadata": {},
   "source": [
    "Description: Running with default parameters"
   ]
  },
  {
   "cell_type": "code",
   "execution_count": 46,
   "metadata": {},
   "outputs": [],
   "source": [
    "model = models.Sequential()\n",
    "model.add(layers.Conv2D(32, (3, 3), activation='relu',\n",
    "                        ))\n",
    "model.add(layers.MaxPooling2D((2, 2)))\n",
    "\n",
    "model.add(layers.Conv2D(32, (4, 4), activation='relu'))\n",
    "model.add(layers.MaxPooling2D((2, 2)))\n",
    "\n",
    "model.add(layers.Conv2D(64, (3, 3), activation='relu'))\n",
    "model.add(layers.MaxPooling2D((2, 2)))\n",
    "\n",
    "model.add(layers.Flatten())\n",
    "model.add(layers.Dense(64, activation='relu'))\n",
    "model.add(layers.Dense(1, activation='sigmoid'))\n",
    "\n",
    "model.compile(loss='binary_crossentropy',\n",
    "              optimizer=\"sgd\",\n",
    "              metrics=['acc'])"
   ]
  },
  {
   "cell_type": "code",
   "execution_count": 48,
   "metadata": {},
   "outputs": [
    {
     "name": "stdout",
     "output_type": "stream",
     "text": [
      "Epoch 1/40\n",
      "1/1 [==============================] - 0s 192ms/step - loss: 0.6287 - acc: 0.8125 - val_loss: 0.6784 - val_acc: 0.5000\n",
      "Epoch 2/40\n",
      "1/1 [==============================] - 0s 148ms/step - loss: 0.6255 - acc: 0.8125 - val_loss: 0.6774 - val_acc: 0.5000\n",
      "Epoch 3/40\n",
      "1/1 [==============================] - 0s 156ms/step - loss: 0.6222 - acc: 0.8125 - val_loss: 0.6774 - val_acc: 0.5000\n",
      "Epoch 4/40\n",
      "1/1 [==============================] - 0s 170ms/step - loss: 0.6184 - acc: 0.8125 - val_loss: 0.6768 - val_acc: 0.5000\n",
      "Epoch 5/40\n",
      "1/1 [==============================] - 0s 146ms/step - loss: 0.6144 - acc: 0.8438 - val_loss: 0.6762 - val_acc: 0.5000\n",
      "Epoch 6/40\n",
      "1/1 [==============================] - 0s 154ms/step - loss: 0.6105 - acc: 0.8438 - val_loss: 0.6754 - val_acc: 0.5000\n",
      "Epoch 7/40\n",
      "1/1 [==============================] - 0s 157ms/step - loss: 0.6066 - acc: 0.8438 - val_loss: 0.6747 - val_acc: 0.5000\n",
      "Epoch 8/40\n",
      "1/1 [==============================] - 0s 139ms/step - loss: 0.6026 - acc: 0.8438 - val_loss: 0.6740 - val_acc: 0.5000\n",
      "Epoch 9/40\n",
      "1/1 [==============================] - 0s 155ms/step - loss: 0.5982 - acc: 0.8438 - val_loss: 0.6733 - val_acc: 0.5000\n",
      "Epoch 10/40\n",
      "1/1 [==============================] - 0s 155ms/step - loss: 0.5938 - acc: 0.8438 - val_loss: 0.6721 - val_acc: 0.5000\n",
      "Epoch 11/40\n",
      "1/1 [==============================] - 0s 156ms/step - loss: 0.5892 - acc: 0.8438 - val_loss: 0.6718 - val_acc: 0.5000\n",
      "Epoch 12/40\n",
      "1/1 [==============================] - 0s 156ms/step - loss: 0.5847 - acc: 0.8438 - val_loss: 0.6708 - val_acc: 0.5000\n",
      "Epoch 13/40\n",
      "1/1 [==============================] - 0s 158ms/step - loss: 0.5798 - acc: 0.8438 - val_loss: 0.6696 - val_acc: 0.5000\n",
      "Epoch 14/40\n",
      "1/1 [==============================] - 0s 170ms/step - loss: 0.5749 - acc: 0.8750 - val_loss: 0.6694 - val_acc: 0.5000\n",
      "Epoch 15/40\n",
      "1/1 [==============================] - 0s 171ms/step - loss: 0.5695 - acc: 0.8438 - val_loss: 0.6681 - val_acc: 0.5312\n",
      "Epoch 16/40\n",
      "1/1 [==============================] - 0s 157ms/step - loss: 0.5643 - acc: 0.8750 - val_loss: 0.6679 - val_acc: 0.5000\n",
      "Epoch 17/40\n",
      "1/1 [==============================] - 0s 155ms/step - loss: 0.5587 - acc: 0.8750 - val_loss: 0.6673 - val_acc: 0.5312\n",
      "Epoch 18/40\n",
      "1/1 [==============================] - 0s 156ms/step - loss: 0.5528 - acc: 0.8750 - val_loss: 0.6659 - val_acc: 0.5000\n",
      "Epoch 19/40\n",
      "1/1 [==============================] - 0s 156ms/step - loss: 0.5468 - acc: 0.8750 - val_loss: 0.6658 - val_acc: 0.5000\n",
      "Epoch 20/40\n",
      "1/1 [==============================] - 0s 155ms/step - loss: 0.5409 - acc: 0.8750 - val_loss: 0.6652 - val_acc: 0.5312\n",
      "Epoch 21/40\n",
      "1/1 [==============================] - 0s 157ms/step - loss: 0.5344 - acc: 0.8750 - val_loss: 0.6645 - val_acc: 0.4688\n",
      "Epoch 22/40\n",
      "1/1 [==============================] - 0s 188ms/step - loss: 0.5284 - acc: 0.8750 - val_loss: 0.6645 - val_acc: 0.5312\n",
      "Epoch 23/40\n",
      "1/1 [==============================] - 0s 159ms/step - loss: 0.5219 - acc: 0.8750 - val_loss: 0.6629 - val_acc: 0.5312\n",
      "Epoch 24/40\n",
      "1/1 [==============================] - 0s 164ms/step - loss: 0.5154 - acc: 0.8750 - val_loss: 0.6634 - val_acc: 0.5312\n",
      "Epoch 25/40\n",
      "1/1 [==============================] - 0s 164ms/step - loss: 0.5082 - acc: 0.8750 - val_loss: 0.6623 - val_acc: 0.4688\n",
      "Epoch 26/40\n",
      "1/1 [==============================] - 0s 163ms/step - loss: 0.5024 - acc: 0.8750 - val_loss: 0.6626 - val_acc: 0.5000\n",
      "Epoch 27/40\n",
      "1/1 [==============================] - 0s 146ms/step - loss: 0.4948 - acc: 0.8750 - val_loss: 0.6625 - val_acc: 0.4688\n",
      "Epoch 28/40\n",
      "1/1 [==============================] - 0s 174ms/step - loss: 0.4878 - acc: 0.8750 - val_loss: 0.6637 - val_acc: 0.4688\n",
      "Epoch 29/40\n",
      "1/1 [==============================] - 0s 169ms/step - loss: 0.4810 - acc: 0.8750 - val_loss: 0.6654 - val_acc: 0.5312\n",
      "Epoch 30/40\n",
      "1/1 [==============================] - 0s 165ms/step - loss: 0.4742 - acc: 0.8750 - val_loss: 0.6725 - val_acc: 0.5000\n",
      "Epoch 31/40\n",
      "1/1 [==============================] - 0s 170ms/step - loss: 0.4779 - acc: 0.8750 - val_loss: 0.7003 - val_acc: 0.5312\n",
      "Epoch 32/40\n",
      "1/1 [==============================] - 0s 158ms/step - loss: 0.5071 - acc: 0.7500 - val_loss: 0.7776 - val_acc: 0.6250\n",
      "Epoch 33/40\n",
      "1/1 [==============================] - 0s 155ms/step - loss: 0.6041 - acc: 0.6562 - val_loss: 0.8983 - val_acc: 0.6250\n",
      "Epoch 34/40\n",
      "1/1 [==============================] - 0s 157ms/step - loss: 0.7899 - acc: 0.5625 - val_loss: 0.7438 - val_acc: 0.5938\n",
      "Epoch 35/40\n",
      "1/1 [==============================] - 0s 174ms/step - loss: 0.5976 - acc: 0.6562 - val_loss: 0.7025 - val_acc: 0.5938\n",
      "Epoch 36/40\n",
      "1/1 [==============================] - 0s 164ms/step - loss: 0.5503 - acc: 0.6562 - val_loss: 0.6679 - val_acc: 0.5312\n",
      "Epoch 37/40\n",
      "1/1 [==============================] - 0s 157ms/step - loss: 0.5025 - acc: 0.8125 - val_loss: 0.6672 - val_acc: 0.5312\n",
      "Epoch 38/40\n",
      "1/1 [==============================] - 0s 175ms/step - loss: 0.4885 - acc: 0.7812 - val_loss: 0.6680 - val_acc: 0.5312\n",
      "Epoch 39/40\n",
      "1/1 [==============================] - 0s 164ms/step - loss: 0.4771 - acc: 0.8125 - val_loss: 0.6781 - val_acc: 0.5312\n",
      "Epoch 40/40\n",
      "1/1 [==============================] - 0s 173ms/step - loss: 0.4738 - acc: 0.7812 - val_loss: 0.6858 - val_acc: 0.6250\n"
     ]
    }
   ],
   "source": [
    "history = model.fit(train_images,\n",
    "                    y_train,\n",
    "                    epochs=40,\n",
    "                    use_multiprocessing=True,\n",
    "                    validation_data = (val_images,y_val)\n",
    "                   )"
   ]
  },
  {
   "cell_type": "code",
   "execution_count": 49,
   "metadata": {},
   "outputs": [
    {
     "name": "stdout",
     "output_type": "stream",
     "text": [
      "Model: \"sequential_2\"\n",
      "_________________________________________________________________\n",
      "Layer (type)                 Output Shape              Param #   \n",
      "=================================================================\n",
      "conv2d_3 (Conv2D)            (32, 126, 126, 32)        896       \n",
      "_________________________________________________________________\n",
      "max_pooling2d_3 (MaxPooling2 (32, 63, 63, 32)          0         \n",
      "_________________________________________________________________\n",
      "conv2d_4 (Conv2D)            (32, 60, 60, 32)          16416     \n",
      "_________________________________________________________________\n",
      "max_pooling2d_4 (MaxPooling2 (32, 30, 30, 32)          0         \n",
      "_________________________________________________________________\n",
      "conv2d_5 (Conv2D)            (32, 28, 28, 64)          18496     \n",
      "_________________________________________________________________\n",
      "max_pooling2d_5 (MaxPooling2 (32, 14, 14, 64)          0         \n",
      "_________________________________________________________________\n",
      "flatten_1 (Flatten)          (32, 12544)               0         \n",
      "_________________________________________________________________\n",
      "dense_6 (Dense)              (32, 64)                  802880    \n",
      "_________________________________________________________________\n",
      "dense_7 (Dense)              (32, 1)                   65        \n",
      "=================================================================\n",
      "Total params: 838,753\n",
      "Trainable params: 838,753\n",
      "Non-trainable params: 0\n",
      "_________________________________________________________________\n"
     ]
    }
   ],
   "source": [
    "model.summary()"
   ]
  },
  {
   "cell_type": "code",
   "execution_count": 50,
   "metadata": {},
   "outputs": [
    {
     "name": "stdout",
     "output_type": "stream",
     "text": [
      "1/1 [==============================] - 0s 3ms/step - loss: 0.4790 - acc: 0.8125\n"
     ]
    },
    {
     "data": {
      "text/plain": [
       "[0.47895336151123047, 0.8125]"
      ]
     },
     "execution_count": 50,
     "metadata": {},
     "output_type": "execute_result"
    }
   ],
   "source": [
    "results_train_1 = model.evaluate(train_images,y_train)\n",
    "results_train_1"
   ]
  },
  {
   "cell_type": "code",
   "execution_count": 51,
   "metadata": {},
   "outputs": [
    {
     "name": "stdout",
     "output_type": "stream",
     "text": [
      "1/1 [==============================] - 0s 0s/step - loss: 0.6858 - acc: 0.6250\n"
     ]
    },
    {
     "data": {
      "text/plain": [
       "[0.6857905387878418, 0.625]"
      ]
     },
     "execution_count": 51,
     "metadata": {},
     "output_type": "execute_result"
    }
   ],
   "source": [
    "results_val_1 = model.evaluate(val_images, y_val)\n",
    "results_val_1"
   ]
  },
  {
   "cell_type": "code",
   "execution_count": null,
   "metadata": {},
   "outputs": [],
   "source": []
  },
  {
   "cell_type": "code",
   "execution_count": null,
   "metadata": {},
   "outputs": [],
   "source": []
  },
  {
   "cell_type": "code",
   "execution_count": null,
   "metadata": {},
   "outputs": [],
   "source": []
  }
 ],
 "metadata": {
  "kernelspec": {
   "display_name": "Python (learn-env)",
   "language": "python",
   "name": "learn-env"
  },
  "language_info": {
   "codemirror_mode": {
    "name": "ipython",
    "version": 3
   },
   "file_extension": ".py",
   "mimetype": "text/x-python",
   "name": "python",
   "nbconvert_exporter": "python",
   "pygments_lexer": "ipython3",
   "version": "3.8.5"
  }
 },
 "nbformat": 4,
 "nbformat_minor": 4
}
