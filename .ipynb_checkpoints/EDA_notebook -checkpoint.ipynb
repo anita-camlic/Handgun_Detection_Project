{
 "cells": [
  {
   "cell_type": "markdown",
   "metadata": {},
   "source": [
    "# EDA Notebook"
   ]
  },
  {
   "cell_type": "markdown",
   "metadata": {},
   "source": [
    "This notebook is used for exploratory data analysis"
   ]
  },
  {
   "cell_type": "code",
   "execution_count": 1,
   "metadata": {},
   "outputs": [],
   "source": [
    "#imports \n",
    "import os, shutil\n",
    "import pandas as pd\n",
    "from sklearn.metrics import accuracy_score, recall_score\n",
    "import time\n",
    "import matplotlib.pyplot as plt\n",
    "import scipy\n",
    "import numpy as np\n",
    "from PIL import Image\n",
    "from scipy import ndimage\n",
    "from keras.preprocessing.image import ImageDataGenerator, array_to_img, img_to_array, load_img"
   ]
  },
  {
   "cell_type": "code",
   "execution_count": 2,
   "metadata": {},
   "outputs": [],
   "source": [
    "train_images_dir = 'C:/Users/User/Documents/Flatiron/Capstone/train_data/images'\n",
    "test_images_dir = 'C:/Users/User/Documents/Flatiron/Capstone/test_data/images'\n",
    "\n",
    "#train_images_dir_0 = 'C:/Users/User/Documents/Flatiron/Capstone/train_data/images/0'\n",
    "#train_images_dir_1 = 'C:/Users/User/Documents/Flatiron/Capstone/train_data/images/1'"
   ]
  },
  {
   "cell_type": "markdown",
   "metadata": {},
   "source": [
    "#### Prepping data for modeling"
   ]
  },
  {
   "cell_type": "markdown",
   "metadata": {},
   "source": [
    "#### Image Generator Object"
   ]
  },
  {
   "cell_type": "markdown",
   "metadata": {},
   "source": [
    "#### Training and Validation set creation"
   ]
  },
  {
   "cell_type": "code",
   "execution_count": 3,
   "metadata": {},
   "outputs": [],
   "source": [
    "global_target_size = (256,256)\n",
    "global_batch_size = 50"
   ]
  },
  {
   "cell_type": "code",
   "execution_count": 4,
   "metadata": {},
   "outputs": [
    {
     "name": "stdout",
     "output_type": "stream",
     "text": [
      "Found 2455 images belonging to 2 classes.\n"
     ]
    }
   ],
   "source": [
    "# Batch size here means how many \n",
    "#of the images do we want our model to be trained on\n",
    "train_val_generator = ImageDataGenerator(rescale=1./255,\n",
    "                                     validation_split = .30)\n",
    "train_data = train_val_generator.flow_from_directory(\n",
    "        train_images_dir,  \n",
    "        target_size = global_target_size,\n",
    "        subset='training',\n",
    "        batch_size=global_batch_size,\n",
    "        class_mode='binary')"
   ]
  },
  {
   "cell_type": "code",
   "execution_count": 5,
   "metadata": {},
   "outputs": [
    {
     "name": "stdout",
     "output_type": "stream",
     "text": [
      "Found 1051 images belonging to 2 classes.\n"
     ]
    }
   ],
   "source": [
    "val_data = train_val_generator.flow_from_directory(train_images_dir,\n",
    "       subset = 'validation',  \n",
    "       target_size = global_target_size,\n",
    "       batch_size=global_batch_size,\n",
    "       class_mode='binary')"
   ]
  },
  {
   "cell_type": "code",
   "execution_count": 6,
   "metadata": {},
   "outputs": [],
   "source": [
    "train_images, train_labels = next(train_data)"
   ]
  },
  {
   "cell_type": "code",
   "execution_count": 7,
   "metadata": {},
   "outputs": [],
   "source": [
    "val_images, val_labels = next(val_data)"
   ]
  },
  {
   "cell_type": "code",
   "execution_count": 8,
   "metadata": {},
   "outputs": [
    {
     "data": {
      "text/plain": [
       "(50, 256, 256, 3)"
      ]
     },
     "execution_count": 8,
     "metadata": {},
     "output_type": "execute_result"
    }
   ],
   "source": [
    "train_images.shape"
   ]
  },
  {
   "cell_type": "code",
   "execution_count": 9,
   "metadata": {},
   "outputs": [
    {
     "data": {
      "text/plain": [
       "(50,)"
      ]
     },
     "execution_count": 9,
     "metadata": {},
     "output_type": "execute_result"
    }
   ],
   "source": [
    "train_labels.shape"
   ]
  },
  {
   "cell_type": "code",
   "execution_count": 10,
   "metadata": {},
   "outputs": [
    {
     "data": {
      "text/plain": [
       "(50, 256, 256, 3)"
      ]
     },
     "execution_count": 10,
     "metadata": {},
     "output_type": "execute_result"
    }
   ],
   "source": [
    "val_images.shape"
   ]
  },
  {
   "cell_type": "code",
   "execution_count": 11,
   "metadata": {},
   "outputs": [
    {
     "data": {
      "text/plain": [
       "(50,)"
      ]
     },
     "execution_count": 11,
     "metadata": {},
     "output_type": "execute_result"
    }
   ],
   "source": [
    "val_labels.shape"
   ]
  },
  {
   "cell_type": "code",
   "execution_count": 12,
   "metadata": {},
   "outputs": [],
   "source": [
    "# reshaping the y values to be modeled\n",
    "y_train = np.asarray(train_labels).astype('float32').reshape((-1,1))\n",
    "y_val = np.asarray(val_labels).astype('float32').reshape((-1,1))"
   ]
  },
  {
   "cell_type": "markdown",
   "metadata": {},
   "source": [
    "### Test Set Creation"
   ]
  },
  {
   "cell_type": "code",
   "execution_count": 13,
   "metadata": {},
   "outputs": [
    {
     "name": "stdout",
     "output_type": "stream",
     "text": [
      "Found 809 images belonging to 2 classes.\n"
     ]
    }
   ],
   "source": [
    "test_generator = ImageDataGenerator(rescale=1./255)\n",
    "test_data = test_generator.flow_from_directory(\n",
    "        test_images_dir,  \n",
    "        target_size = global_target_size,\n",
    "        batch_size=global_batch_size,\n",
    "        class_mode='binary',\n",
    "        shuffle= False)"
   ]
  },
  {
   "cell_type": "code",
   "execution_count": 14,
   "metadata": {},
   "outputs": [],
   "source": [
    "test_images, test_labels = next(test_data)"
   ]
  },
  {
   "cell_type": "code",
   "execution_count": 15,
   "metadata": {},
   "outputs": [],
   "source": [
    "y_test = np.asarray(test_labels).astype('float32').reshape((-1,1))\n"
   ]
  },
  {
   "cell_type": "markdown",
   "metadata": {},
   "source": [
    "#### Reshaping for normal neural network (flattening)"
   ]
  },
  {
   "cell_type": "code",
   "execution_count": 16,
   "metadata": {},
   "outputs": [],
   "source": [
    "train_img_nn = train_images.reshape(train_images.shape[0], -1)"
   ]
  },
  {
   "cell_type": "code",
   "execution_count": 17,
   "metadata": {},
   "outputs": [],
   "source": [
    "val_img_nn = val_images.reshape(val_images.shape[0], -1)"
   ]
  },
  {
   "cell_type": "code",
   "execution_count": 18,
   "metadata": {},
   "outputs": [],
   "source": [
    "y_train_nn = np.asarray(train_labels).astype('float32').reshape((-1,1))\n",
    "y_val_nn = np.asarray(val_labels).astype('float32').reshape((-1,1))\n"
   ]
  },
  {
   "cell_type": "code",
   "execution_count": 19,
   "metadata": {},
   "outputs": [
    {
     "name": "stdout",
     "output_type": "stream",
     "text": [
      "(50, 196608)\n",
      "(50, 1)\n",
      "(50, 196608)\n",
      "(50, 1)\n"
     ]
    }
   ],
   "source": [
    "print(train_img_nn.shape)\n",
    "print(y_train_nn.shape)\n",
    "print(val_img_nn.shape)\n",
    "print(y_val_nn.shape)"
   ]
  },
  {
   "cell_type": "code",
   "execution_count": 20,
   "metadata": {
    "scrolled": true
   },
   "outputs": [
    {
     "data": {
      "text/plain": [
       "(196608,)"
      ]
     },
     "execution_count": 20,
     "metadata": {},
     "output_type": "execute_result"
    }
   ],
   "source": [
    "GLOBAL_input_shape_baseline = (train_img_nn.shape[1],)\n",
    "GLOBAL_input_shape_baseline "
   ]
  },
  {
   "cell_type": "markdown",
   "metadata": {},
   "source": [
    "### Baseline"
   ]
  },
  {
   "cell_type": "code",
   "execution_count": 21,
   "metadata": {},
   "outputs": [],
   "source": [
    "# Build a baseline fully connected model\n",
    "from keras import models\n",
    "from keras import layers\n",
    "\n",
    "model = models.Sequential()\n",
    "model.add(layers.Dense(20, activation='relu', input_shape=GLOBAL_input_shape_baseline)) # 2 hidden layers\n",
    "model.add(layers.Dense(7, activation='relu'))\n",
    "model.add(layers.Dense(5, activation='relu'))\n",
    "model.add(layers.Dense(1, activation='sigmoid'))"
   ]
  },
  {
   "cell_type": "code",
   "execution_count": 22,
   "metadata": {},
   "outputs": [
    {
     "name": "stdout",
     "output_type": "stream",
     "text": [
      "Epoch 1/150\n",
      "5/5 [==============================] - 0s 90ms/step - loss: 0.8633 - accuracy: 0.4600 - val_loss: 0.8480 - val_accuracy: 0.6600\n",
      "Epoch 2/150\n",
      "5/5 [==============================] - 0s 26ms/step - loss: 0.7468 - accuracy: 0.4400 - val_loss: 0.9149 - val_accuracy: 0.6400\n",
      "Epoch 3/150\n",
      "5/5 [==============================] - 0s 30ms/step - loss: 0.6284 - accuracy: 0.5800 - val_loss: 0.6940 - val_accuracy: 0.3800\n",
      "Epoch 4/150\n",
      "5/5 [==============================] - 0s 25ms/step - loss: 0.5874 - accuracy: 0.5800 - val_loss: 0.6968 - val_accuracy: 0.3600\n",
      "Epoch 5/150\n",
      "5/5 [==============================] - 0s 27ms/step - loss: 0.5719 - accuracy: 0.6800 - val_loss: 2.1318 - val_accuracy: 0.6600\n",
      "Epoch 6/150\n",
      "5/5 [==============================] - 0s 30ms/step - loss: 0.7492 - accuracy: 0.4400 - val_loss: 0.6884 - val_accuracy: 0.6600\n",
      "Epoch 7/150\n",
      "5/5 [==============================] - 0s 32ms/step - loss: 0.6888 - accuracy: 0.6600 - val_loss: 0.6862 - val_accuracy: 0.6600\n",
      "Epoch 8/150\n",
      "5/5 [==============================] - 0s 32ms/step - loss: 0.6868 - accuracy: 0.6800 - val_loss: 0.6857 - val_accuracy: 0.6600\n",
      "Epoch 9/150\n",
      "5/5 [==============================] - 0s 26ms/step - loss: 0.6854 - accuracy: 0.6800 - val_loss: 0.6849 - val_accuracy: 0.6600\n",
      "Epoch 10/150\n",
      "5/5 [==============================] - 0s 32ms/step - loss: 0.6845 - accuracy: 0.6800 - val_loss: 0.6839 - val_accuracy: 0.6600\n",
      "Epoch 11/150\n",
      "5/5 [==============================] - 0s 29ms/step - loss: 0.6819 - accuracy: 0.7000 - val_loss: 0.6828 - val_accuracy: 0.6600\n",
      "Epoch 12/150\n",
      "5/5 [==============================] - 0s 33ms/step - loss: 0.6837 - accuracy: 0.6800 - val_loss: 0.6823 - val_accuracy: 0.6600\n",
      "Epoch 13/150\n",
      "5/5 [==============================] - 0s 29ms/step - loss: 0.6800 - accuracy: 0.6800 - val_loss: 0.6825 - val_accuracy: 0.6600\n",
      "Epoch 14/150\n",
      "5/5 [==============================] - 0s 27ms/step - loss: 0.6749 - accuracy: 0.8000 - val_loss: 0.6829 - val_accuracy: 0.6400\n",
      "Epoch 15/150\n",
      "5/5 [==============================] - 0s 26ms/step - loss: 0.6715 - accuracy: 0.7200 - val_loss: 0.6848 - val_accuracy: 0.6200\n",
      "Epoch 16/150\n",
      "5/5 [==============================] - 0s 26ms/step - loss: 0.5859 - accuracy: 0.7200 - val_loss: 0.6963 - val_accuracy: 0.3600\n",
      "Epoch 17/150\n",
      "5/5 [==============================] - 0s 26ms/step - loss: 0.6732 - accuracy: 0.5200 - val_loss: 0.7420 - val_accuracy: 0.6600\n",
      "Epoch 18/150\n",
      "5/5 [==============================] - 0s 25ms/step - loss: 0.6838 - accuracy: 0.6800 - val_loss: 0.6873 - val_accuracy: 0.5800\n",
      "Epoch 19/150\n",
      "5/5 [==============================] - 0s 32ms/step - loss: 0.6839 - accuracy: 0.7200 - val_loss: 0.6773 - val_accuracy: 0.6600\n",
      "Epoch 20/150\n",
      "5/5 [==============================] - 0s 24ms/step - loss: 0.6738 - accuracy: 0.6800 - val_loss: 0.6739 - val_accuracy: 0.6600\n",
      "Epoch 21/150\n",
      "5/5 [==============================] - 0s 27ms/step - loss: 0.6698 - accuracy: 0.6800 - val_loss: 0.6716 - val_accuracy: 0.6600\n",
      "Epoch 22/150\n",
      "5/5 [==============================] - 0s 24ms/step - loss: 0.6727 - accuracy: 0.6800 - val_loss: 0.6706 - val_accuracy: 0.6600\n",
      "Epoch 23/150\n",
      "5/5 [==============================] - 0s 26ms/step - loss: 0.6662 - accuracy: 0.6800 - val_loss: 0.6696 - val_accuracy: 0.6600\n",
      "Epoch 24/150\n",
      "5/5 [==============================] - 0s 29ms/step - loss: 0.6635 - accuracy: 0.6800 - val_loss: 0.6694 - val_accuracy: 0.6600\n",
      "Epoch 25/150\n",
      "5/5 [==============================] - 0s 35ms/step - loss: 0.6669 - accuracy: 0.6800 - val_loss: 0.6671 - val_accuracy: 0.6600\n",
      "Epoch 26/150\n",
      "5/5 [==============================] - 0s 33ms/step - loss: 0.6244 - accuracy: 0.6800 - val_loss: 0.7017 - val_accuracy: 0.6600\n",
      "Epoch 27/150\n",
      "5/5 [==============================] - 0s 27ms/step - loss: 0.6409 - accuracy: 0.6800 - val_loss: 0.6725 - val_accuracy: 0.7600\n",
      "Epoch 28/150\n",
      "5/5 [==============================] - 0s 26ms/step - loss: 0.5665 - accuracy: 0.7400 - val_loss: 0.7002 - val_accuracy: 0.6600\n",
      "Epoch 29/150\n",
      "5/5 [==============================] - 0s 26ms/step - loss: 0.6252 - accuracy: 0.6000 - val_loss: 0.6743 - val_accuracy: 0.6600\n",
      "Epoch 30/150\n",
      "5/5 [==============================] - 0s 30ms/step - loss: 0.6638 - accuracy: 0.6400 - val_loss: 0.6762 - val_accuracy: 0.7800\n",
      "Epoch 31/150\n",
      "5/5 [==============================] - 0s 25ms/step - loss: 0.5996 - accuracy: 0.8000 - val_loss: 0.6759 - val_accuracy: 0.4600\n",
      "Epoch 32/150\n",
      "5/5 [==============================] - 0s 27ms/step - loss: 0.6558 - accuracy: 0.6400 - val_loss: 0.6736 - val_accuracy: 0.7400\n",
      "Epoch 33/150\n",
      "5/5 [==============================] - 0s 25ms/step - loss: 0.5644 - accuracy: 0.8200 - val_loss: 0.7381 - val_accuracy: 0.6000\n",
      "Epoch 34/150\n",
      "5/5 [==============================] - 0s 25ms/step - loss: 0.5585 - accuracy: 0.7000 - val_loss: 0.6711 - val_accuracy: 0.8000\n",
      "Epoch 35/150\n",
      "5/5 [==============================] - 0s 27ms/step - loss: 0.5628 - accuracy: 0.6400 - val_loss: 0.7234 - val_accuracy: 0.6600\n",
      "Epoch 36/150\n",
      "5/5 [==============================] - 0s 28ms/step - loss: 0.5774 - accuracy: 0.7400 - val_loss: 0.6927 - val_accuracy: 0.5600\n",
      "Epoch 37/150\n",
      "5/5 [==============================] - 0s 25ms/step - loss: 0.4769 - accuracy: 0.8000 - val_loss: 0.6863 - val_accuracy: 0.5200\n",
      "Epoch 38/150\n",
      "5/5 [==============================] - 0s 26ms/step - loss: 0.5212 - accuracy: 0.7600 - val_loss: 0.6993 - val_accuracy: 0.4400\n",
      "Epoch 39/150\n",
      "5/5 [==============================] - 0s 28ms/step - loss: 0.4494 - accuracy: 0.8200 - val_loss: 0.8974 - val_accuracy: 0.5600\n",
      "Epoch 40/150\n",
      "5/5 [==============================] - 0s 27ms/step - loss: 0.3725 - accuracy: 0.9000 - val_loss: 0.8627 - val_accuracy: 0.5400\n",
      "Epoch 41/150\n",
      "5/5 [==============================] - 0s 27ms/step - loss: 0.8180 - accuracy: 0.7000 - val_loss: 0.7209 - val_accuracy: 0.6600\n",
      "Epoch 42/150\n",
      "5/5 [==============================] - 0s 26ms/step - loss: 0.6670 - accuracy: 0.6800 - val_loss: 0.8751 - val_accuracy: 0.6600\n",
      "Epoch 43/150\n",
      "5/5 [==============================] - 0s 29ms/step - loss: 0.6371 - accuracy: 0.6800 - val_loss: 0.6716 - val_accuracy: 0.7400\n",
      "Epoch 44/150\n",
      "5/5 [==============================] - 0s 28ms/step - loss: 0.5885 - accuracy: 0.6600 - val_loss: 0.8050 - val_accuracy: 0.6600\n",
      "Epoch 45/150\n",
      "5/5 [==============================] - 0s 28ms/step - loss: 0.6175 - accuracy: 0.6800 - val_loss: 0.7955 - val_accuracy: 0.6600\n",
      "Epoch 46/150\n",
      "5/5 [==============================] - 0s 27ms/step - loss: 0.5629 - accuracy: 0.6800 - val_loss: 0.7588 - val_accuracy: 0.6600\n",
      "Epoch 47/150\n",
      "5/5 [==============================] - 0s 37ms/step - loss: 0.5768 - accuracy: 0.6800 - val_loss: 0.7799 - val_accuracy: 0.6600\n",
      "Epoch 48/150\n",
      "5/5 [==============================] - 0s 28ms/step - loss: 0.5307 - accuracy: 0.6800 - val_loss: 0.7679 - val_accuracy: 0.6600\n",
      "Epoch 49/150\n",
      "5/5 [==============================] - 0s 27ms/step - loss: 0.5353 - accuracy: 0.6800 - val_loss: 0.7588 - val_accuracy: 0.6600\n",
      "Epoch 50/150\n",
      "5/5 [==============================] - 0s 26ms/step - loss: 0.5154 - accuracy: 0.6800 - val_loss: 0.7620 - val_accuracy: 0.6600\n",
      "Epoch 51/150\n",
      "5/5 [==============================] - 0s 29ms/step - loss: 0.4756 - accuracy: 0.6800 - val_loss: 0.8832 - val_accuracy: 0.6600\n",
      "Epoch 52/150\n",
      "5/5 [==============================] - 0s 39ms/step - loss: 0.5048 - accuracy: 0.6800 - val_loss: 0.7857 - val_accuracy: 0.6600\n",
      "Epoch 53/150\n",
      "5/5 [==============================] - 0s 30ms/step - loss: 0.4443 - accuracy: 0.6800 - val_loss: 0.8314 - val_accuracy: 0.6600\n",
      "Epoch 54/150\n",
      "5/5 [==============================] - 0s 23ms/step - loss: 0.4532 - accuracy: 0.6800 - val_loss: 0.8610 - val_accuracy: 0.6600\n",
      "Epoch 55/150\n",
      "5/5 [==============================] - 0s 23ms/step - loss: 0.4294 - accuracy: 0.6800 - val_loss: 0.6812 - val_accuracy: 0.6600\n",
      "Epoch 56/150\n",
      "5/5 [==============================] - 0s 27ms/step - loss: 0.4131 - accuracy: 0.6800 - val_loss: 0.8158 - val_accuracy: 0.6600\n",
      "Epoch 57/150\n",
      "5/5 [==============================] - 0s 26ms/step - loss: 0.3703 - accuracy: 0.6800 - val_loss: 0.8125 - val_accuracy: 0.6600\n",
      "Epoch 58/150\n",
      "5/5 [==============================] - 0s 37ms/step - loss: 0.3248 - accuracy: 0.6800 - val_loss: 1.1068 - val_accuracy: 0.6600\n",
      "Epoch 59/150\n"
     ]
    },
    {
     "name": "stdout",
     "output_type": "stream",
     "text": [
      "5/5 [==============================] - 0s 25ms/step - loss: 0.3592 - accuracy: 0.6800 - val_loss: 0.6949 - val_accuracy: 0.6600\n",
      "Epoch 60/150\n",
      "5/5 [==============================] - 0s 25ms/step - loss: 0.3925 - accuracy: 0.6800 - val_loss: 0.7381 - val_accuracy: 0.6600\n",
      "Epoch 61/150\n",
      "5/5 [==============================] - 0s 37ms/step - loss: 0.3878 - accuracy: 0.6800 - val_loss: 0.8628 - val_accuracy: 0.6600\n",
      "Epoch 62/150\n",
      "5/5 [==============================] - 0s 25ms/step - loss: 0.5155 - accuracy: 0.6800 - val_loss: 0.6698 - val_accuracy: 0.6600\n",
      "Epoch 63/150\n",
      "5/5 [==============================] - 0s 35ms/step - loss: 0.5251 - accuracy: 0.6800 - val_loss: 1.2008 - val_accuracy: 0.6600\n",
      "Epoch 64/150\n",
      "5/5 [==============================] - 0s 37ms/step - loss: 0.4400 - accuracy: 0.6800 - val_loss: 0.6911 - val_accuracy: 0.6600\n",
      "Epoch 65/150\n",
      "5/5 [==============================] - 0s 27ms/step - loss: 0.3882 - accuracy: 0.6800 - val_loss: 2.1078 - val_accuracy: 0.6600\n",
      "Epoch 66/150\n",
      "5/5 [==============================] - 0s 29ms/step - loss: 0.3796 - accuracy: 0.6800 - val_loss: 0.9920 - val_accuracy: 0.6600\n",
      "Epoch 67/150\n",
      "5/5 [==============================] - 0s 32ms/step - loss: 0.3157 - accuracy: 0.6800 - val_loss: 1.2999 - val_accuracy: 0.6600\n",
      "Epoch 68/150\n",
      "5/5 [==============================] - 0s 31ms/step - loss: 0.3629 - accuracy: 0.6800 - val_loss: 1.9099 - val_accuracy: 0.6600\n",
      "Epoch 69/150\n",
      "5/5 [==============================] - 0s 31ms/step - loss: 0.3477 - accuracy: 0.6800 - val_loss: 1.4464 - val_accuracy: 0.6600\n",
      "Epoch 70/150\n",
      "5/5 [==============================] - 0s 25ms/step - loss: 0.5343 - accuracy: 0.6800 - val_loss: 0.7268 - val_accuracy: 0.6600\n",
      "Epoch 71/150\n",
      "5/5 [==============================] - 0s 25ms/step - loss: 0.3672 - accuracy: 0.6800 - val_loss: 0.7111 - val_accuracy: 0.6600\n",
      "Epoch 72/150\n",
      "5/5 [==============================] - 0s 33ms/step - loss: 0.3649 - accuracy: 0.6800 - val_loss: 1.3872 - val_accuracy: 0.6600\n",
      "Epoch 73/150\n",
      "5/5 [==============================] - 0s 30ms/step - loss: 0.2652 - accuracy: 0.6800 - val_loss: 1.4087 - val_accuracy: 0.6600\n",
      "Epoch 74/150\n",
      "5/5 [==============================] - 0s 26ms/step - loss: 0.2585 - accuracy: 0.6800 - val_loss: 1.1542 - val_accuracy: 0.6600\n",
      "Epoch 75/150\n",
      "5/5 [==============================] - 0s 24ms/step - loss: 0.2543 - accuracy: 0.6800 - val_loss: 1.3225 - val_accuracy: 0.6600\n",
      "Epoch 76/150\n",
      "5/5 [==============================] - 0s 28ms/step - loss: 0.2449 - accuracy: 0.6800 - val_loss: 1.8113 - val_accuracy: 0.6600\n",
      "Epoch 77/150\n",
      "5/5 [==============================] - 0s 32ms/step - loss: 0.3053 - accuracy: 0.6800 - val_loss: 1.4510 - val_accuracy: 0.6600\n",
      "Epoch 78/150\n",
      "5/5 [==============================] - 0s 32ms/step - loss: 0.2480 - accuracy: 0.6800 - val_loss: 1.5996 - val_accuracy: 0.6600\n",
      "Epoch 79/150\n",
      "5/5 [==============================] - 0s 27ms/step - loss: 0.2872 - accuracy: 0.6800 - val_loss: 1.3563 - val_accuracy: 0.6600\n",
      "Epoch 80/150\n",
      "5/5 [==============================] - 0s 25ms/step - loss: 0.2371 - accuracy: 0.6800 - val_loss: 1.8139 - val_accuracy: 0.6600\n",
      "Epoch 81/150\n",
      "5/5 [==============================] - 0s 25ms/step - loss: 0.2739 - accuracy: 0.6800 - val_loss: 1.7540 - val_accuracy: 0.6600\n",
      "Epoch 82/150\n",
      "5/5 [==============================] - 0s 30ms/step - loss: 0.2342 - accuracy: 0.6800 - val_loss: 1.4602 - val_accuracy: 0.6600\n",
      "Epoch 83/150\n",
      "5/5 [==============================] - 0s 31ms/step - loss: 0.2324 - accuracy: 0.6800 - val_loss: 1.8691 - val_accuracy: 0.6600\n",
      "Epoch 84/150\n",
      "5/5 [==============================] - 0s 32ms/step - loss: 0.2259 - accuracy: 0.6800 - val_loss: 2.0563 - val_accuracy: 0.6200\n",
      "Epoch 85/150\n",
      "5/5 [==============================] - 0s 26ms/step - loss: 0.2257 - accuracy: 0.9800 - val_loss: 1.8543 - val_accuracy: 0.6000\n",
      "Epoch 86/150\n",
      "5/5 [==============================] - 0s 24ms/step - loss: 0.2234 - accuracy: 1.0000 - val_loss: 2.0526 - val_accuracy: 0.6200\n",
      "Epoch 87/150\n",
      "5/5 [==============================] - 0s 31ms/step - loss: 0.3599 - accuracy: 0.8400 - val_loss: 1.8015 - val_accuracy: 0.5800\n",
      "Epoch 88/150\n",
      "5/5 [==============================] - 0s 30ms/step - loss: 0.2419 - accuracy: 0.9200 - val_loss: 0.7501 - val_accuracy: 0.3400\n",
      "Epoch 89/150\n",
      "5/5 [==============================] - 0s 25ms/step - loss: 0.2825 - accuracy: 0.9600 - val_loss: 1.8063 - val_accuracy: 0.5600\n",
      "Epoch 90/150\n",
      "5/5 [==============================] - 0s 27ms/step - loss: 0.2189 - accuracy: 1.0000 - val_loss: 1.9797 - val_accuracy: 0.6000\n",
      "Epoch 91/150\n",
      "5/5 [==============================] - 0s 30ms/step - loss: 0.2168 - accuracy: 1.0000 - val_loss: 2.1047 - val_accuracy: 0.6000\n",
      "Epoch 92/150\n",
      "5/5 [==============================] - 0s 29ms/step - loss: 0.2224 - accuracy: 0.9800 - val_loss: 1.8293 - val_accuracy: 0.5600\n",
      "Epoch 93/150\n",
      "5/5 [==============================] - 0s 26ms/step - loss: 0.2150 - accuracy: 1.0000 - val_loss: 1.9966 - val_accuracy: 0.5800\n",
      "Epoch 94/150\n",
      "5/5 [==============================] - 0s 23ms/step - loss: 0.2131 - accuracy: 1.0000 - val_loss: 2.1147 - val_accuracy: 0.6200\n",
      "Epoch 95/150\n",
      "5/5 [==============================] - 0s 26ms/step - loss: 0.2187 - accuracy: 0.9800 - val_loss: 1.7177 - val_accuracy: 0.5400\n",
      "Epoch 96/150\n",
      "5/5 [==============================] - 0s 26ms/step - loss: 0.2120 - accuracy: 1.0000 - val_loss: 1.9376 - val_accuracy: 0.5800\n",
      "Epoch 97/150\n",
      "5/5 [==============================] - 0s 26ms/step - loss: 0.2097 - accuracy: 1.0000 - val_loss: 2.0698 - val_accuracy: 0.5800\n",
      "Epoch 98/150\n",
      "5/5 [==============================] - 0s 24ms/step - loss: 0.2082 - accuracy: 1.0000 - val_loss: 2.1706 - val_accuracy: 0.6000\n",
      "Epoch 99/150\n",
      "5/5 [==============================] - 0s 25ms/step - loss: 0.2084 - accuracy: 0.9800 - val_loss: 1.4051 - val_accuracy: 0.4400\n",
      "Epoch 100/150\n",
      "5/5 [==============================] - 0s 24ms/step - loss: 0.2096 - accuracy: 1.0000 - val_loss: 1.8830 - val_accuracy: 0.5400\n",
      "Epoch 101/150\n",
      "5/5 [==============================] - 0s 25ms/step - loss: 0.2054 - accuracy: 1.0000 - val_loss: 2.0321 - val_accuracy: 0.6000\n",
      "Epoch 102/150\n",
      "5/5 [==============================] - 0s 27ms/step - loss: 0.2037 - accuracy: 1.0000 - val_loss: 2.1415 - val_accuracy: 0.6000\n",
      "Epoch 103/150\n",
      "5/5 [==============================] - 0s 33ms/step - loss: 0.2023 - accuracy: 1.0000 - val_loss: 2.2288 - val_accuracy: 0.6000\n",
      "Epoch 104/150\n",
      "5/5 [==============================] - 0s 31ms/step - loss: 0.2011 - accuracy: 1.0000 - val_loss: 2.3013 - val_accuracy: 0.6200\n",
      "Epoch 105/150\n",
      "5/5 [==============================] - 0s 37ms/step - loss: 0.1998 - accuracy: 1.0000 - val_loss: 2.3648 - val_accuracy: 0.6200\n",
      "Epoch 106/150\n",
      "5/5 [==============================] - 0s 30ms/step - loss: 0.2018 - accuracy: 1.0000 - val_loss: 1.8354 - val_accuracy: 0.5400\n",
      "Epoch 107/150\n",
      "5/5 [==============================] - 0s 27ms/step - loss: 0.1989 - accuracy: 1.0000 - val_loss: 2.0061 - val_accuracy: 0.5800\n",
      "Epoch 108/150\n",
      "5/5 [==============================] - 0s 31ms/step - loss: 0.1972 - accuracy: 1.0000 - val_loss: 2.1194 - val_accuracy: 0.5600\n",
      "Epoch 109/150\n",
      "5/5 [==============================] - 0s 31ms/step - loss: 0.1958 - accuracy: 1.0000 - val_loss: 2.2084 - val_accuracy: 0.6000\n",
      "Epoch 110/150\n",
      "5/5 [==============================] - 0s 28ms/step - loss: 0.1946 - accuracy: 1.0000 - val_loss: 2.2833 - val_accuracy: 0.6000\n",
      "Epoch 111/150\n",
      "5/5 [==============================] - 0s 29ms/step - loss: 0.1937 - accuracy: 1.0000 - val_loss: 1.4714 - val_accuracy: 0.4400\n",
      "Epoch 112/150\n",
      "5/5 [==============================] - 0s 31ms/step - loss: 0.1961 - accuracy: 1.0000 - val_loss: 1.8470 - val_accuracy: 0.5400\n",
      "Epoch 113/150\n",
      "5/5 [==============================] - 0s 28ms/step - loss: 0.1925 - accuracy: 1.0000 - val_loss: 2.0052 - val_accuracy: 0.5800\n",
      "Epoch 114/150\n",
      "5/5 [==============================] - 0s 27ms/step - loss: 0.1909 - accuracy: 1.0000 - val_loss: 2.1166 - val_accuracy: 0.5800\n",
      "Epoch 115/150\n",
      "5/5 [==============================] - 0s 32ms/step - loss: 0.1896 - accuracy: 1.0000 - val_loss: 2.2068 - val_accuracy: 0.5800\n",
      "Epoch 116/150\n",
      "5/5 [==============================] - 0s 29ms/step - loss: 0.1885 - accuracy: 1.0000 - val_loss: 2.2786 - val_accuracy: 0.6000\n",
      "Epoch 117/150\n"
     ]
    },
    {
     "name": "stdout",
     "output_type": "stream",
     "text": [
      "5/5 [==============================] - 0s 30ms/step - loss: 0.1873 - accuracy: 1.0000 - val_loss: 2.3424 - val_accuracy: 0.6000\n",
      "Epoch 118/150\n",
      "5/5 [==============================] - 0s 31ms/step - loss: 0.1901 - accuracy: 1.0000 - val_loss: 1.9401 - val_accuracy: 0.5400\n",
      "Epoch 119/150\n",
      "5/5 [==============================] - 0s 29ms/step - loss: 0.1862 - accuracy: 1.0000 - val_loss: 2.0740 - val_accuracy: 0.5600\n",
      "Epoch 120/150\n",
      "5/5 [==============================] - 0s 30ms/step - loss: 0.1848 - accuracy: 1.0000 - val_loss: 2.1740 - val_accuracy: 0.5600\n",
      "Epoch 121/150\n",
      "5/5 [==============================] - 0s 33ms/step - loss: 0.1836 - accuracy: 1.0000 - val_loss: 2.2566 - val_accuracy: 0.5800\n",
      "Epoch 122/150\n",
      "5/5 [==============================] - 0s 29ms/step - loss: 0.1826 - accuracy: 1.0000 - val_loss: 2.3263 - val_accuracy: 0.6000\n",
      "Epoch 123/150\n",
      "5/5 [==============================] - 0s 28ms/step - loss: 0.1815 - accuracy: 1.0000 - val_loss: 2.3873 - val_accuracy: 0.6000\n",
      "Epoch 124/150\n",
      "5/5 [==============================] - 0s 31ms/step - loss: 0.2112 - accuracy: 0.9800 - val_loss: 1.6492 - val_accuracy: 0.5200\n",
      "Epoch 125/150\n",
      "5/5 [==============================] - 0s 30ms/step - loss: 0.1817 - accuracy: 1.0000 - val_loss: 1.8906 - val_accuracy: 0.5200\n",
      "Epoch 126/150\n",
      "5/5 [==============================] - 0s 30ms/step - loss: 0.1797 - accuracy: 1.0000 - val_loss: 2.0311 - val_accuracy: 0.5400\n",
      "Epoch 127/150\n",
      "5/5 [==============================] - 0s 30ms/step - loss: 0.1783 - accuracy: 1.0000 - val_loss: 2.1315 - val_accuracy: 0.5600\n",
      "Epoch 128/150\n",
      "5/5 [==============================] - 0s 28ms/step - loss: 0.1772 - accuracy: 1.0000 - val_loss: 2.2140 - val_accuracy: 0.5400\n",
      "Epoch 129/150\n",
      "5/5 [==============================] - 0s 26ms/step - loss: 0.1761 - accuracy: 1.0000 - val_loss: 2.2837 - val_accuracy: 0.5800\n",
      "Epoch 130/150\n",
      "5/5 [==============================] - 0s 34ms/step - loss: 0.1751 - accuracy: 1.0000 - val_loss: 2.3423 - val_accuracy: 0.5800\n",
      "Epoch 131/150\n",
      "5/5 [==============================] - 0s 28ms/step - loss: 0.1742 - accuracy: 1.0000 - val_loss: 2.3943 - val_accuracy: 0.6000\n",
      "Epoch 132/150\n",
      "5/5 [==============================] - 0s 24ms/step - loss: 0.1732 - accuracy: 1.0000 - val_loss: 2.4408 - val_accuracy: 0.6000\n",
      "Epoch 133/150\n",
      "5/5 [==============================] - 0s 24ms/step - loss: 0.1723 - accuracy: 1.0000 - val_loss: 2.4841 - val_accuracy: 0.6000\n",
      "Epoch 134/150\n",
      "5/5 [==============================] - 0s 25ms/step - loss: 0.1728 - accuracy: 1.0000 - val_loss: 1.9871 - val_accuracy: 0.5200\n",
      "Epoch 135/150\n",
      "5/5 [==============================] - 0s 25ms/step - loss: 0.1713 - accuracy: 1.0000 - val_loss: 2.1031 - val_accuracy: 0.5600\n",
      "Epoch 136/150\n",
      "5/5 [==============================] - 0s 27ms/step - loss: 0.1701 - accuracy: 1.0000 - val_loss: 2.1899 - val_accuracy: 0.5600\n",
      "Epoch 137/150\n",
      "5/5 [==============================] - 0s 26ms/step - loss: 0.1691 - accuracy: 1.0000 - val_loss: 2.2643 - val_accuracy: 0.5400\n",
      "Epoch 138/150\n",
      "5/5 [==============================] - 0s 29ms/step - loss: 0.1681 - accuracy: 1.0000 - val_loss: 2.3271 - val_accuracy: 0.5800\n",
      "Epoch 139/150\n",
      "5/5 [==============================] - 0s 41ms/step - loss: 0.1672 - accuracy: 1.0000 - val_loss: 2.3814 - val_accuracy: 0.5800\n",
      "Epoch 140/150\n",
      "5/5 [==============================] - 0s 28ms/step - loss: 0.1663 - accuracy: 1.0000 - val_loss: 2.4297 - val_accuracy: 0.6000\n",
      "Epoch 141/150\n",
      "5/5 [==============================] - 0s 27ms/step - loss: 0.1655 - accuracy: 1.0000 - val_loss: 2.4739 - val_accuracy: 0.6000\n",
      "Epoch 142/150\n",
      "5/5 [==============================] - 0s 29ms/step - loss: 0.1646 - accuracy: 1.0000 - val_loss: 2.5146 - val_accuracy: 0.6000\n",
      "Epoch 143/150\n",
      "5/5 [==============================] - 0s 35ms/step - loss: 0.1637 - accuracy: 1.0000 - val_loss: 2.5523 - val_accuracy: 0.6000\n",
      "Epoch 144/150\n",
      "5/5 [==============================] - 0s 29ms/step - loss: 0.1637 - accuracy: 1.0000 - val_loss: 1.6202 - val_accuracy: 0.4600\n",
      "Epoch 145/150\n",
      "5/5 [==============================] - 0s 29ms/step - loss: 0.1646 - accuracy: 1.0000 - val_loss: 1.9527 - val_accuracy: 0.5000\n",
      "Epoch 146/150\n",
      "5/5 [==============================] - 0s 26ms/step - loss: 0.1623 - accuracy: 1.0000 - val_loss: 2.0864 - val_accuracy: 0.5200\n",
      "Epoch 147/150\n",
      "5/5 [==============================] - 0s 26ms/step - loss: 0.1611 - accuracy: 1.0000 - val_loss: 2.1768 - val_accuracy: 0.5600\n",
      "Epoch 148/150\n",
      "5/5 [==============================] - 0s 26ms/step - loss: 0.1601 - accuracy: 1.0000 - val_loss: 2.2518 - val_accuracy: 0.5600\n",
      "Epoch 149/150\n",
      "5/5 [==============================] - 0s 29ms/step - loss: 0.1592 - accuracy: 1.0000 - val_loss: 2.3173 - val_accuracy: 0.5600\n",
      "Epoch 150/150\n",
      "5/5 [==============================] - 0s 30ms/step - loss: 0.1584 - accuracy: 1.0000 - val_loss: 2.3722 - val_accuracy: 0.5600\n"
     ]
    }
   ],
   "source": [
    "model.compile(optimizer='sgd',\n",
    "              loss='binary_crossentropy',\n",
    "              metrics=['accuracy'])\n",
    "\n",
    "histoire = model.fit(train_img_nn,\n",
    "                    y_train_nn,\n",
    "                    epochs=150,\n",
    "                     batch_size=10,\n",
    "                     validation_data = (val_img_nn,y_val_nn))"
   ]
  },
  {
   "cell_type": "code",
   "execution_count": 23,
   "metadata": {},
   "outputs": [
    {
     "name": "stdout",
     "output_type": "stream",
     "text": [
      "2/2 [==============================] - 0s 7ms/step - loss: 2.3722 - accuracy: 0.5600\n"
     ]
    }
   ],
   "source": [
    "results_val = model.evaluate(val_img_nn,y_val_nn)"
   ]
  },
  {
   "cell_type": "code",
   "execution_count": 24,
   "metadata": {},
   "outputs": [
    {
     "data": {
      "text/plain": [
       "[2.3721840381622314, 0.5600000023841858]"
      ]
     },
     "execution_count": 24,
     "metadata": {},
     "output_type": "execute_result"
    }
   ],
   "source": [
    "results_val"
   ]
  },
  {
   "cell_type": "code",
   "execution_count": 25,
   "metadata": {},
   "outputs": [
    {
     "name": "stdout",
     "output_type": "stream",
     "text": [
      "2/2 [==============================] - 0s 6ms/step - loss: 0.1579 - accuracy: 1.0000\n"
     ]
    },
    {
     "data": {
      "text/plain": [
       "[0.1578574925661087, 1.0]"
      ]
     },
     "execution_count": 25,
     "metadata": {},
     "output_type": "execute_result"
    }
   ],
   "source": [
    "results_train = model.evaluate(train_img_nn,\n",
    "                    y_train_nn)\n",
    "results_train"
   ]
  },
  {
   "cell_type": "markdown",
   "metadata": {},
   "source": [
    "### Model Iterations"
   ]
  },
  {
   "cell_type": "markdown",
   "metadata": {},
   "source": [
    "#### CNN 1"
   ]
  },
  {
   "cell_type": "markdown",
   "metadata": {},
   "source": [
    "Description: Running with default parameters"
   ]
  },
  {
   "cell_type": "code",
   "execution_count": 26,
   "metadata": {},
   "outputs": [],
   "source": [
    "model = models.Sequential()\n",
    "model.add(layers.Conv2D(32, (3, 3), activation='relu',\n",
    "                        ))\n",
    "model.add(layers.MaxPooling2D((2, 2)))\n",
    "\n",
    "model.add(layers.Conv2D(32, (4, 4), activation='relu'))\n",
    "model.add(layers.MaxPooling2D((2, 2)))\n",
    "\n",
    "model.add(layers.Conv2D(64, (3, 3), activation='relu'))\n",
    "model.add(layers.MaxPooling2D((2, 2)))\n",
    "\n",
    "model.add(layers.Flatten())\n",
    "model.add(layers.Dense(64, activation='relu'))\n",
    "model.add(layers.Dense(1, activation='sigmoid'))\n",
    "\n",
    "model.compile(loss='binary_crossentropy',\n",
    "              optimizer = \"adam\",\n",
    "              metrics=['acc'])"
   ]
  },
  {
   "cell_type": "code",
   "execution_count": 27,
   "metadata": {},
   "outputs": [
    {
     "name": "stdout",
     "output_type": "stream",
     "text": [
      "Epoch 1/20\n",
      "10/10 [==============================] - 5s 526ms/step - loss: 0.7592 - acc: 0.5600 - val_loss: 0.6940 - val_acc: 0.4400\n",
      "Epoch 2/20\n",
      "10/10 [==============================] - 5s 480ms/step - loss: 0.6540 - acc: 0.6800 - val_loss: 0.6710 - val_acc: 0.6600\n",
      "Epoch 3/20\n",
      "10/10 [==============================] - 5s 460ms/step - loss: 0.5546 - acc: 0.6800 - val_loss: 0.7442 - val_acc: 0.5000\n",
      "Epoch 4/20\n",
      "10/10 [==============================] - 5s 474ms/step - loss: 0.3435 - acc: 0.9400 - val_loss: 1.4720 - val_acc: 0.6600\n",
      "Epoch 5/20\n",
      "10/10 [==============================] - 5s 503ms/step - loss: 0.1571 - acc: 0.9200 - val_loss: 1.8165 - val_acc: 0.6000\n",
      "Epoch 6/20\n",
      "10/10 [==============================] - 5s 497ms/step - loss: 0.1151 - acc: 0.9200 - val_loss: 1.5829 - val_acc: 0.6200\n",
      "Epoch 7/20\n",
      "10/10 [==============================] - 5s 471ms/step - loss: 0.0362 - acc: 1.0000 - val_loss: 1.9284 - val_acc: 0.4800\n",
      "Epoch 8/20\n",
      "10/10 [==============================] - 5s 476ms/step - loss: 0.0120 - acc: 1.0000 - val_loss: 2.5557 - val_acc: 0.5200\n",
      "Epoch 9/20\n",
      "10/10 [==============================] - 5s 474ms/step - loss: 0.0168 - acc: 1.0000 - val_loss: 3.6167 - val_acc: 0.6600\n",
      "Epoch 10/20\n",
      "10/10 [==============================] - 5s 481ms/step - loss: 0.0711 - acc: 0.9600 - val_loss: 4.1569 - val_acc: 0.2800\n",
      "Epoch 11/20\n",
      "10/10 [==============================] - 5s 478ms/step - loss: 0.0189 - acc: 0.9800 - val_loss: 2.8149 - val_acc: 0.6000\n",
      "Epoch 12/20\n",
      "10/10 [==============================] - 5s 468ms/step - loss: 0.0028 - acc: 1.0000 - val_loss: 3.3101 - val_acc: 0.5000\n",
      "Epoch 13/20\n",
      "10/10 [==============================] - 5s 476ms/step - loss: 8.2812e-04 - acc: 1.0000 - val_loss: 4.0588 - val_acc: 0.4800\n",
      "Epoch 14/20\n",
      "10/10 [==============================] - 5s 486ms/step - loss: 7.2788e-04 - acc: 1.0000 - val_loss: 4.5411 - val_acc: 0.4800\n",
      "Epoch 15/20\n",
      "10/10 [==============================] - 5s 520ms/step - loss: 2.9074e-04 - acc: 1.0000 - val_loss: 4.7400 - val_acc: 0.4800\n",
      "Epoch 16/20\n",
      "10/10 [==============================] - 5s 525ms/step - loss: 1.4144e-04 - acc: 1.0000 - val_loss: 4.8820 - val_acc: 0.5000\n",
      "Epoch 17/20\n",
      "10/10 [==============================] - 5s 548ms/step - loss: 9.8765e-05 - acc: 1.0000 - val_loss: 4.9838 - val_acc: 0.5000\n",
      "Epoch 18/20\n",
      "10/10 [==============================] - 5s 501ms/step - loss: 7.5628e-05 - acc: 1.0000 - val_loss: 5.0769 - val_acc: 0.5000\n",
      "Epoch 19/20\n",
      "10/10 [==============================] - 5s 494ms/step - loss: 6.0454e-05 - acc: 1.0000 - val_loss: 5.1503 - val_acc: 0.5000\n",
      "Epoch 20/20\n",
      "10/10 [==============================] - 5s 495ms/step - loss: 5.0421e-05 - acc: 1.0000 - val_loss: 5.2256 - val_acc: 0.5000\n"
     ]
    }
   ],
   "source": [
    "history = model.fit(train_images,\n",
    "                    y_train,\n",
    "                    epochs=20,\n",
    "                    batch_size = 5,\n",
    "                    use_multiprocessing=True,\n",
    "                    validation_data = (val_images,y_val)\n",
    "                   )"
   ]
  },
  {
   "cell_type": "code",
   "execution_count": 28,
   "metadata": {},
   "outputs": [
    {
     "name": "stdout",
     "output_type": "stream",
     "text": [
      "Model: \"sequential_1\"\n",
      "_________________________________________________________________\n",
      "Layer (type)                 Output Shape              Param #   \n",
      "=================================================================\n",
      "conv2d (Conv2D)              (5, 254, 254, 32)         896       \n",
      "_________________________________________________________________\n",
      "max_pooling2d (MaxPooling2D) (5, 127, 127, 32)         0         \n",
      "_________________________________________________________________\n",
      "conv2d_1 (Conv2D)            (5, 124, 124, 32)         16416     \n",
      "_________________________________________________________________\n",
      "max_pooling2d_1 (MaxPooling2 (5, 62, 62, 32)           0         \n",
      "_________________________________________________________________\n",
      "conv2d_2 (Conv2D)            (5, 60, 60, 64)           18496     \n",
      "_________________________________________________________________\n",
      "max_pooling2d_2 (MaxPooling2 (5, 30, 30, 64)           0         \n",
      "_________________________________________________________________\n",
      "flatten (Flatten)            (5, 57600)                0         \n",
      "_________________________________________________________________\n",
      "dense_4 (Dense)              (5, 64)                   3686464   \n",
      "_________________________________________________________________\n",
      "dense_5 (Dense)              (5, 1)                    65        \n",
      "=================================================================\n",
      "Total params: 3,722,337\n",
      "Trainable params: 3,722,337\n",
      "Non-trainable params: 0\n",
      "_________________________________________________________________\n"
     ]
    }
   ],
   "source": [
    "model.summary()"
   ]
  },
  {
   "cell_type": "code",
   "execution_count": 29,
   "metadata": {},
   "outputs": [
    {
     "name": "stdout",
     "output_type": "stream",
     "text": [
      "2/2 [==============================] - 0s 163ms/step - loss: 4.6420e-05 - acc: 1.0000\n"
     ]
    },
    {
     "data": {
      "text/plain": [
       "[4.6419823775067925e-05, 1.0]"
      ]
     },
     "execution_count": 29,
     "metadata": {},
     "output_type": "execute_result"
    }
   ],
   "source": [
    "results_train_1 = model.evaluate(train_images,y_train)\n",
    "results_train_1"
   ]
  },
  {
   "cell_type": "code",
   "execution_count": 30,
   "metadata": {},
   "outputs": [
    {
     "name": "stdout",
     "output_type": "stream",
     "text": [
      "2/2 [==============================] - 0s 196ms/step - loss: 5.2256 - acc: 0.5000\n"
     ]
    },
    {
     "data": {
      "text/plain": [
       "[5.225588321685791, 0.5]"
      ]
     },
     "execution_count": 30,
     "metadata": {},
     "output_type": "execute_result"
    }
   ],
   "source": [
    "results_val_1 = model.evaluate(val_images, y_val)\n",
    "results_val_1"
   ]
  },
  {
   "cell_type": "markdown",
   "metadata": {},
   "source": [
    "CNN 1 Train: loss: 4.6420e-05 - acc: 1.0000\n",
    "CNN 1 Validation: loss: 5.2256 - acc: 0.5000\n",
    "Highly overfit"
   ]
  },
  {
   "cell_type": "markdown",
   "metadata": {},
   "source": [
    "### CNN 2"
   ]
  },
  {
   "cell_type": "markdown",
   "metadata": {},
   "source": [
    "my goal with this next model is to reduce overfitting"
   ]
  },
  {
   "cell_type": "code",
   "execution_count": null,
   "metadata": {},
   "outputs": [],
   "source": []
  }
 ],
 "metadata": {
  "kernelspec": {
   "display_name": "Python (learn-env)",
   "language": "python",
   "name": "learn-env"
  },
  "language_info": {
   "codemirror_mode": {
    "name": "ipython",
    "version": 3
   },
   "file_extension": ".py",
   "mimetype": "text/x-python",
   "name": "python",
   "nbconvert_exporter": "python",
   "pygments_lexer": "ipython3",
   "version": "3.8.5"
  }
 },
 "nbformat": 4,
 "nbformat_minor": 4
}
