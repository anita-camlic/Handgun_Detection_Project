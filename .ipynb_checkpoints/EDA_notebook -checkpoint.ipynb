{
 "cells": [
  {
   "cell_type": "markdown",
   "metadata": {},
   "source": [
    "# EDA Notebook"
   ]
  },
  {
   "cell_type": "markdown",
   "metadata": {},
   "source": [
    "This notebook is used for exploratory data analysis"
   ]
  },
  {
   "cell_type": "code",
   "execution_count": 1,
   "metadata": {},
   "outputs": [],
   "source": [
    "#imports \n",
    "import os, shutil\n",
    "import pandas as pd\n",
    "from sklearn.metrics import accuracy_score, recall_score\n",
    "import time\n",
    "import matplotlib.pyplot as plt\n",
    "import scipy\n",
    "import numpy as np\n",
    "from PIL import Image\n",
    "from scipy import ndimage\n",
    "from keras.preprocessing.image import ImageDataGenerator, array_to_img, img_to_array, load_img"
   ]
  },
  {
   "cell_type": "code",
   "execution_count": 2,
   "metadata": {},
   "outputs": [],
   "source": [
    "train_images_dir = 'C:/Users/User/Documents/Flatiron/Capstone/train_data/images'\n",
    "test_images_dir = 'C:/Users/User/Documents/Flatiron/Capstone/test_data/images'\n",
    "\n",
    "#train_images_dir_0 = 'C:/Users/User/Documents/Flatiron/Capstone/train_data/images/0'\n",
    "#train_images_dir_1 = 'C:/Users/User/Documents/Flatiron/Capstone/train_data/images/1'"
   ]
  },
  {
   "cell_type": "markdown",
   "metadata": {},
   "source": [
    "#### Prepping data for modeling"
   ]
  },
  {
   "cell_type": "markdown",
   "metadata": {},
   "source": [
    "#### Image Generator Object"
   ]
  },
  {
   "cell_type": "markdown",
   "metadata": {},
   "source": [
    "#### Training and Validation set creation"
   ]
  },
  {
   "cell_type": "code",
   "execution_count": 3,
   "metadata": {},
   "outputs": [
    {
     "name": "stdout",
     "output_type": "stream",
     "text": [
      "Found 3474 images belonging to 2 classes.\n"
     ]
    }
   ],
   "source": [
    "# Batch size here means how many \n",
    "#of the images do we want our model to be trained on\n",
    "train_val_generator = ImageDataGenerator(rescale=1./255,\n",
    "                                     validation_split = .30)\n",
    "train_data = train_val_generator.flow_from_directory(\n",
    "        train_images_dir,  \n",
    "        target_size = (128,128),\n",
    "        subset='training',\n",
    "        batch_size=32,\n",
    "        class_mode='binary')"
   ]
  },
  {
   "cell_type": "code",
   "execution_count": 4,
   "metadata": {},
   "outputs": [
    {
     "name": "stdout",
     "output_type": "stream",
     "text": [
      "Found 1488 images belonging to 2 classes.\n"
     ]
    }
   ],
   "source": [
    "val_data = train_val_generator.flow_from_directory(train_images_dir,\n",
    "       subset = 'validation',  \n",
    "       target_size = (128,128),\n",
    "       batch_size=32,\n",
    "       class_mode='binary')"
   ]
  },
  {
   "cell_type": "code",
   "execution_count": 5,
   "metadata": {},
   "outputs": [],
   "source": [
    "train_images, train_labels = next(train_data)"
   ]
  },
  {
   "cell_type": "code",
   "execution_count": 6,
   "metadata": {},
   "outputs": [],
   "source": [
    "val_images, val_labels = next(val_data)"
   ]
  },
  {
   "cell_type": "code",
   "execution_count": 7,
   "metadata": {},
   "outputs": [
    {
     "data": {
      "text/plain": [
       "(32, 128, 128, 3)"
      ]
     },
     "execution_count": 7,
     "metadata": {},
     "output_type": "execute_result"
    }
   ],
   "source": [
    "train_images.shape"
   ]
  },
  {
   "cell_type": "code",
   "execution_count": 8,
   "metadata": {},
   "outputs": [
    {
     "data": {
      "text/plain": [
       "(32,)"
      ]
     },
     "execution_count": 8,
     "metadata": {},
     "output_type": "execute_result"
    }
   ],
   "source": [
    "train_labels.shape"
   ]
  },
  {
   "cell_type": "code",
   "execution_count": 9,
   "metadata": {},
   "outputs": [
    {
     "data": {
      "text/plain": [
       "(32, 128, 128, 3)"
      ]
     },
     "execution_count": 9,
     "metadata": {},
     "output_type": "execute_result"
    }
   ],
   "source": [
    "val_images.shape"
   ]
  },
  {
   "cell_type": "code",
   "execution_count": 10,
   "metadata": {},
   "outputs": [
    {
     "data": {
      "text/plain": [
       "(32,)"
      ]
     },
     "execution_count": 10,
     "metadata": {},
     "output_type": "execute_result"
    }
   ],
   "source": [
    "val_labels.shape"
   ]
  },
  {
   "cell_type": "code",
   "execution_count": 11,
   "metadata": {},
   "outputs": [],
   "source": [
    "# reshaping the y values to be modeled\n",
    "y_train = np.asarray(train_labels).astype('float32').reshape((-1,1))\n",
    "y_val = np.asarray(val_labels).astype('float32').reshape((-1,1))"
   ]
  },
  {
   "cell_type": "markdown",
   "metadata": {},
   "source": [
    "### Test Set Creation"
   ]
  },
  {
   "cell_type": "code",
   "execution_count": 12,
   "metadata": {},
   "outputs": [
    {
     "name": "stdout",
     "output_type": "stream",
     "text": [
      "Found 857 images belonging to 2 classes.\n"
     ]
    }
   ],
   "source": [
    "test_generator = ImageDataGenerator(rescale=1./255)\n",
    "test_data = test_generator.flow_from_directory(\n",
    "        test_images_dir,  \n",
    "        target_size = (128,128),\n",
    "        batch_size=32,\n",
    "        class_mode='binary',\n",
    "        shuffle= False)"
   ]
  },
  {
   "cell_type": "code",
   "execution_count": 13,
   "metadata": {},
   "outputs": [],
   "source": [
    "test_images, test_labels = next(test_data)"
   ]
  },
  {
   "cell_type": "code",
   "execution_count": 14,
   "metadata": {},
   "outputs": [],
   "source": [
    "y_test = np.asarray(test_labels).astype('float32').reshape((-1,1))\n"
   ]
  },
  {
   "cell_type": "markdown",
   "metadata": {},
   "source": [
    "#### Reshaping for normal neural network (flattening)"
   ]
  },
  {
   "cell_type": "code",
   "execution_count": 15,
   "metadata": {},
   "outputs": [],
   "source": [
    "train_img_nn = train_images.reshape(train_images.shape[0], -1)"
   ]
  },
  {
   "cell_type": "code",
   "execution_count": 16,
   "metadata": {},
   "outputs": [],
   "source": [
    "val_img_nn = val_images.reshape(val_images.shape[0], -1)"
   ]
  },
  {
   "cell_type": "code",
   "execution_count": 17,
   "metadata": {},
   "outputs": [],
   "source": [
    "y_train_nn = np.asarray(train_labels).astype('float32').reshape((-1,1))\n",
    "y_val_nn = np.asarray(val_labels).astype('float32').reshape((-1,1))\n"
   ]
  },
  {
   "cell_type": "code",
   "execution_count": 18,
   "metadata": {},
   "outputs": [
    {
     "name": "stdout",
     "output_type": "stream",
     "text": [
      "(32, 49152)\n",
      "(32, 1)\n",
      "(32, 49152)\n",
      "(32, 1)\n"
     ]
    }
   ],
   "source": [
    "print(train_img_nn.shape)\n",
    "print(y_train_nn.shape)\n",
    "print(val_img_nn.shape)\n",
    "print(y_val_nn.shape)"
   ]
  },
  {
   "cell_type": "markdown",
   "metadata": {},
   "source": [
    "### Baseline"
   ]
  },
  {
   "cell_type": "code",
   "execution_count": 19,
   "metadata": {},
   "outputs": [],
   "source": [
    "# Build a baseline fully connected model\n",
    "from keras import models\n",
    "from keras import layers\n",
    "\n",
    "model = models.Sequential()\n",
    "model.add(layers.Dense(20, activation='relu', input_shape=(49152,))) # 2 hidden layers\n",
    "model.add(layers.Dense(7, activation='relu'))\n",
    "model.add(layers.Dense(5, activation='relu'))\n",
    "model.add(layers.Dense(1, activation='sigmoid'))"
   ]
  },
  {
   "cell_type": "code",
   "execution_count": 20,
   "metadata": {},
   "outputs": [
    {
     "name": "stdout",
     "output_type": "stream",
     "text": [
      "Epoch 1/15\n",
      "1/1 [==============================] - 0s 331ms/step - loss: 0.7479 - accuracy: 0.3125 - val_loss: 0.7676 - val_accuracy: 0.6875\n",
      "Epoch 2/15\n",
      "1/1 [==============================] - 0s 28ms/step - loss: 0.6561 - accuracy: 0.6562 - val_loss: 0.6728 - val_accuracy: 0.5625\n",
      "Epoch 3/15\n",
      "1/1 [==============================] - 0s 30ms/step - loss: 0.5989 - accuracy: 0.9062 - val_loss: 0.8102 - val_accuracy: 0.6875\n",
      "Epoch 4/15\n",
      "1/1 [==============================] - 0s 33ms/step - loss: 0.6475 - accuracy: 0.6562 - val_loss: 0.6661 - val_accuracy: 0.6875\n",
      "Epoch 5/15\n",
      "1/1 [==============================] - 0s 28ms/step - loss: 0.5323 - accuracy: 0.7188 - val_loss: 0.6746 - val_accuracy: 0.6562\n",
      "Epoch 6/15\n",
      "1/1 [==============================] - 0s 31ms/step - loss: 0.4796 - accuracy: 0.7188 - val_loss: 0.6612 - val_accuracy: 0.5000\n",
      "Epoch 7/15\n",
      "1/1 [==============================] - 0s 30ms/step - loss: 0.5000 - accuracy: 0.9375 - val_loss: 1.2560 - val_accuracy: 0.6875\n",
      "Epoch 8/15\n",
      "1/1 [==============================] - 0s 32ms/step - loss: 0.9467 - accuracy: 0.6562 - val_loss: 0.6708 - val_accuracy: 0.6250\n",
      "Epoch 9/15\n",
      "1/1 [==============================] - 0s 28ms/step - loss: 0.5079 - accuracy: 0.7500 - val_loss: 0.7310 - val_accuracy: 0.6562\n",
      "Epoch 10/15\n",
      "1/1 [==============================] - 0s 34ms/step - loss: 0.4347 - accuracy: 0.7188 - val_loss: 0.8227 - val_accuracy: 0.3438\n",
      "Epoch 11/15\n",
      "1/1 [==============================] - 0s 31ms/step - loss: 0.8165 - accuracy: 0.4375 - val_loss: 0.8305 - val_accuracy: 0.6875\n",
      "Epoch 12/15\n",
      "1/1 [==============================] - 0s 27ms/step - loss: 0.5377 - accuracy: 0.6875 - val_loss: 0.6711 - val_accuracy: 0.5312\n",
      "Epoch 13/15\n",
      "1/1 [==============================] - 0s 32ms/step - loss: 0.5202 - accuracy: 0.9062 - val_loss: 0.8588 - val_accuracy: 0.6875\n",
      "Epoch 14/15\n",
      "1/1 [==============================] - 0s 28ms/step - loss: 0.5653 - accuracy: 0.6875 - val_loss: 0.6726 - val_accuracy: 0.5312\n",
      "Epoch 15/15\n",
      "1/1 [==============================] - 0s 32ms/step - loss: 0.3976 - accuracy: 0.9688 - val_loss: 0.7486 - val_accuracy: 0.5938\n"
     ]
    }
   ],
   "source": [
    "model.compile(optimizer='sgd',\n",
    "              loss='binary_crossentropy',\n",
    "              metrics=['accuracy'])\n",
    "\n",
    "histoire = model.fit(train_img_nn,\n",
    "                    y_train_nn,\n",
    "                    epochs=15,\n",
    "                     validation_data = (val_img_nn,y_val_nn))"
   ]
  },
  {
   "cell_type": "code",
   "execution_count": 21,
   "metadata": {},
   "outputs": [
    {
     "name": "stdout",
     "output_type": "stream",
     "text": [
      "1/1 [==============================] - 0s 3ms/step - loss: 0.7486 - accuracy: 0.5938\n"
     ]
    }
   ],
   "source": [
    "results_val = model.evaluate(val_img_nn,y_val_nn)"
   ]
  },
  {
   "cell_type": "code",
   "execution_count": 22,
   "metadata": {},
   "outputs": [
    {
     "data": {
      "text/plain": [
       "[0.748617947101593, 0.59375]"
      ]
     },
     "execution_count": 22,
     "metadata": {},
     "output_type": "execute_result"
    }
   ],
   "source": [
    "results_val"
   ]
  },
  {
   "cell_type": "code",
   "execution_count": 23,
   "metadata": {},
   "outputs": [
    {
     "name": "stdout",
     "output_type": "stream",
     "text": [
      "1/1 [==============================] - 0s 3ms/step - loss: 0.4065 - accuracy: 0.7500\n"
     ]
    },
    {
     "data": {
      "text/plain": [
       "[0.40654969215393066, 0.75]"
      ]
     },
     "execution_count": 23,
     "metadata": {},
     "output_type": "execute_result"
    }
   ],
   "source": [
    "results_train = model.evaluate(train_img_nn,\n",
    "                    y_train_nn)\n",
    "results_train"
   ]
  },
  {
   "cell_type": "markdown",
   "metadata": {},
   "source": [
    "### Model Iterations"
   ]
  },
  {
   "cell_type": "markdown",
   "metadata": {},
   "source": [
    "#### CNN 1"
   ]
  },
  {
   "cell_type": "markdown",
   "metadata": {},
   "source": [
    "Description: Running with default parameters"
   ]
  },
  {
   "cell_type": "code",
   "execution_count": 24,
   "metadata": {},
   "outputs": [],
   "source": [
    "model = models.Sequential()\n",
    "model.add(layers.Conv2D(32, (3, 3), activation='relu',\n",
    "                        ))\n",
    "model.add(layers.MaxPooling2D((2, 2)))\n",
    "\n",
    "model.add(layers.Conv2D(32, (4, 4), activation='relu'))\n",
    "model.add(layers.MaxPooling2D((2, 2)))\n",
    "\n",
    "model.add(layers.Conv2D(64, (3, 3), activation='relu'))\n",
    "model.add(layers.MaxPooling2D((2, 2)))\n",
    "\n",
    "model.add(layers.Flatten())\n",
    "model.add(layers.Dense(64, activation='relu'))\n",
    "model.add(layers.Dense(1, activation='sigmoid'))\n",
    "\n",
    "model.compile(loss='binary_crossentropy',\n",
    "              optimizer=\"sgd\",\n",
    "              metrics=['acc'])"
   ]
  },
  {
   "cell_type": "code",
   "execution_count": 25,
   "metadata": {},
   "outputs": [
    {
     "name": "stdout",
     "output_type": "stream",
     "text": [
      "Epoch 1/15\n",
      "1/1 [==============================] - 0s 331ms/step - loss: 0.6865 - acc: 0.6562 - val_loss: 0.6754 - val_acc: 0.6875\n",
      "Epoch 2/15\n",
      "1/1 [==============================] - 0s 157ms/step - loss: 0.6634 - acc: 0.6562 - val_loss: 0.6655 - val_acc: 0.6875\n",
      "Epoch 3/15\n",
      "1/1 [==============================] - 0s 150ms/step - loss: 0.6490 - acc: 0.6562 - val_loss: 0.6597 - val_acc: 0.6875\n",
      "Epoch 4/15\n",
      "1/1 [==============================] - 0s 154ms/step - loss: 0.6381 - acc: 0.6562 - val_loss: 0.6558 - val_acc: 0.6875\n",
      "Epoch 5/15\n",
      "1/1 [==============================] - 0s 153ms/step - loss: 0.6299 - acc: 0.6562 - val_loss: 0.6539 - val_acc: 0.6875\n",
      "Epoch 6/15\n",
      "1/1 [==============================] - 0s 158ms/step - loss: 0.6236 - acc: 0.6562 - val_loss: 0.6528 - val_acc: 0.6875\n",
      "Epoch 7/15\n",
      "1/1 [==============================] - 0s 151ms/step - loss: 0.6186 - acc: 0.6562 - val_loss: 0.6524 - val_acc: 0.6875\n",
      "Epoch 8/15\n",
      "1/1 [==============================] - 0s 154ms/step - loss: 0.6144 - acc: 0.6562 - val_loss: 0.6525 - val_acc: 0.6875\n",
      "Epoch 9/15\n",
      "1/1 [==============================] - 0s 157ms/step - loss: 0.6106 - acc: 0.6562 - val_loss: 0.6527 - val_acc: 0.6875\n",
      "Epoch 10/15\n",
      "1/1 [==============================] - 0s 158ms/step - loss: 0.6071 - acc: 0.6562 - val_loss: 0.6533 - val_acc: 0.6875\n",
      "Epoch 11/15\n",
      "1/1 [==============================] - 0s 156ms/step - loss: 0.6037 - acc: 0.6562 - val_loss: 0.6538 - val_acc: 0.6875\n",
      "Epoch 12/15\n",
      "1/1 [==============================] - 0s 155ms/step - loss: 0.6003 - acc: 0.6562 - val_loss: 0.6545 - val_acc: 0.6875\n",
      "Epoch 13/15\n",
      "1/1 [==============================] - 0s 154ms/step - loss: 0.5968 - acc: 0.6562 - val_loss: 0.6553 - val_acc: 0.6875\n",
      "Epoch 14/15\n",
      "1/1 [==============================] - 0s 151ms/step - loss: 0.5933 - acc: 0.6562 - val_loss: 0.6559 - val_acc: 0.6875\n",
      "Epoch 15/15\n",
      "1/1 [==============================] - 0s 156ms/step - loss: 0.5898 - acc: 0.6562 - val_loss: 0.6568 - val_acc: 0.6875\n"
     ]
    }
   ],
   "source": [
    "history = model.fit(train_images,\n",
    "                    y_train,\n",
    "                    epochs=15,\n",
    "                    use_multiprocessing=True,\n",
    "                    validation_data = (val_images,y_val)\n",
    "                   )"
   ]
  },
  {
   "cell_type": "code",
   "execution_count": 26,
   "metadata": {},
   "outputs": [
    {
     "name": "stdout",
     "output_type": "stream",
     "text": [
      "Model: \"sequential_1\"\n",
      "_________________________________________________________________\n",
      "Layer (type)                 Output Shape              Param #   \n",
      "=================================================================\n",
      "conv2d (Conv2D)              (32, 126, 126, 32)        896       \n",
      "_________________________________________________________________\n",
      "max_pooling2d (MaxPooling2D) (32, 63, 63, 32)          0         \n",
      "_________________________________________________________________\n",
      "conv2d_1 (Conv2D)            (32, 60, 60, 32)          16416     \n",
      "_________________________________________________________________\n",
      "max_pooling2d_1 (MaxPooling2 (32, 30, 30, 32)          0         \n",
      "_________________________________________________________________\n",
      "conv2d_2 (Conv2D)            (32, 28, 28, 64)          18496     \n",
      "_________________________________________________________________\n",
      "max_pooling2d_2 (MaxPooling2 (32, 14, 14, 64)          0         \n",
      "_________________________________________________________________\n",
      "flatten (Flatten)            (32, 12544)               0         \n",
      "_________________________________________________________________\n",
      "dense_4 (Dense)              (32, 64)                  802880    \n",
      "_________________________________________________________________\n",
      "dense_5 (Dense)              (32, 1)                   65        \n",
      "=================================================================\n",
      "Total params: 838,753\n",
      "Trainable params: 838,753\n",
      "Non-trainable params: 0\n",
      "_________________________________________________________________\n"
     ]
    }
   ],
   "source": [
    "model.summary()"
   ]
  },
  {
   "cell_type": "code",
   "execution_count": 27,
   "metadata": {},
   "outputs": [
    {
     "name": "stdout",
     "output_type": "stream",
     "text": [
      "1/1 [==============================] - 0s 2ms/step - loss: 0.5862 - acc: 0.6562\n"
     ]
    },
    {
     "data": {
      "text/plain": [
       "[0.5862481594085693, 0.65625]"
      ]
     },
     "execution_count": 27,
     "metadata": {},
     "output_type": "execute_result"
    }
   ],
   "source": [
    "results_train_1 = model.evaluate(train_images,y_train)\n",
    "results_train_1"
   ]
  },
  {
   "cell_type": "code",
   "execution_count": 28,
   "metadata": {},
   "outputs": [
    {
     "name": "stdout",
     "output_type": "stream",
     "text": [
      "1/1 [==============================] - 0s 3ms/step - loss: 0.6568 - acc: 0.6875\n"
     ]
    },
    {
     "data": {
      "text/plain": [
       "[0.6568219661712646, 0.6875]"
      ]
     },
     "execution_count": 28,
     "metadata": {},
     "output_type": "execute_result"
    }
   ],
   "source": [
    "results_val_1 = model.evaluate(val_images, y_val)\n",
    "results_val_1"
   ]
  },
  {
   "cell_type": "code",
   "execution_count": null,
   "metadata": {},
   "outputs": [],
   "source": []
  },
  {
   "cell_type": "code",
   "execution_count": null,
   "metadata": {},
   "outputs": [],
   "source": []
  },
  {
   "cell_type": "code",
   "execution_count": null,
   "metadata": {},
   "outputs": [],
   "source": []
  }
 ],
 "metadata": {
  "kernelspec": {
   "display_name": "Python (learn-env)",
   "language": "python",
   "name": "learn-env"
  },
  "language_info": {
   "codemirror_mode": {
    "name": "ipython",
    "version": 3
   },
   "file_extension": ".py",
   "mimetype": "text/x-python",
   "name": "python",
   "nbconvert_exporter": "python",
   "pygments_lexer": "ipython3",
   "version": "3.8.5"
  }
 },
 "nbformat": 4,
 "nbformat_minor": 4
}
