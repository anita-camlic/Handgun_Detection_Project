{
 "cells": [
  {
   "cell_type": "markdown",
   "metadata": {},
   "source": [
    "This notebook is strictly for modeling and keeping track of thechanges I make per model/ what changes improve the accuracy/reduces overfitting the most"
   ]
  },
  {
   "cell_type": "code",
   "execution_count": 26,
   "metadata": {},
   "outputs": [],
   "source": [
    "#imports \n",
    "import os, shutil\n",
    "import pandas as pd\n",
    "from sklearn.metrics import accuracy_score, recall_score\n",
    "import time\n",
    "import matplotlib.pyplot as plt\n",
    "import scipy\n",
    "import numpy as np\n",
    "from PIL import Image\n",
    "from scipy import ndimage\n",
    "from keras.preprocessing.image import ImageDataGenerator, array_to_img, img_to_array, load_img\n",
    "from keras import models\n",
    "from keras import layers\n",
    "from tensorflow.keras import regularizers\n",
    "import seaborn as sns"
   ]
  },
  {
   "cell_type": "code",
   "execution_count": 2,
   "metadata": {},
   "outputs": [],
   "source": [
    "# strings of directories for the different data\n",
    "train_images_dir = 'C:/Users/User/Documents/Flatiron/Capstone/train_data/images'\n",
    "test_images_dir = 'C:/Users/User/Documents/Flatiron/Capstone/test_data/images'"
   ]
  },
  {
   "cell_type": "code",
   "execution_count": 3,
   "metadata": {},
   "outputs": [],
   "source": [
    "global_target_size = (64,64)\n",
    "global_batch_size = 32\n",
    "global_epochs = 40"
   ]
  },
  {
   "cell_type": "code",
   "execution_count": 20,
   "metadata": {},
   "outputs": [],
   "source": [
    "score_dictionary = {}"
   ]
  },
  {
   "cell_type": "code",
   "execution_count": 10,
   "metadata": {},
   "outputs": [],
   "source": [
    "train_val_generator = ImageDataGenerator(rescale=1./255,\n",
    "                                         validation_split = .25)"
   ]
  },
  {
   "cell_type": "code",
   "execution_count": 11,
   "metadata": {},
   "outputs": [
    {
     "name": "stdout",
     "output_type": "stream",
     "text": [
      "Found 2630 images belonging to 2 classes.\n"
     ]
    }
   ],
   "source": [
    "train_data = train_val_generator.flow_from_directory(train_images_dir,  \n",
    "                                                     target_size = global_target_size,\n",
    "                                                     subset='training',\n",
    "                                                     batch_size=global_batch_size,\n",
    "                                                     class_mode='binary',\n",
    "                                                    shuffle = True,\n",
    "                                                    seed = 100)"
   ]
  },
  {
   "cell_type": "code",
   "execution_count": 12,
   "metadata": {},
   "outputs": [
    {
     "name": "stdout",
     "output_type": "stream",
     "text": [
      "Found 876 images belonging to 2 classes.\n"
     ]
    }
   ],
   "source": [
    "val_data = train_val_generator.flow_from_directory(train_images_dir,\n",
    "       subset = 'validation',  \n",
    "       target_size = global_target_size,\n",
    "       batch_size=global_batch_size,\n",
    "       class_mode='binary',\n",
    "       seed = 100)"
   ]
  },
  {
   "cell_type": "code",
   "execution_count": 13,
   "metadata": {},
   "outputs": [
    {
     "name": "stdout",
     "output_type": "stream",
     "text": [
      "Found 809 images belonging to 2 classes.\n"
     ]
    }
   ],
   "source": [
    "test_generator = ImageDataGenerator(rescale=1./255)\n",
    "test_data = test_generator.flow_from_directory(\n",
    "        test_images_dir,  \n",
    "        target_size = global_target_size,\n",
    "        batch_size=global_batch_size,\n",
    "        class_mode='binary',\n",
    "        shuffle= False)"
   ]
  },
  {
   "cell_type": "markdown",
   "metadata": {},
   "source": [
    "### CNN 1 - Baseline"
   ]
  },
  {
   "cell_type": "markdown",
   "metadata": {},
   "source": [
    "The baseline model is comprised of \n",
    "\n",
    "stack 1 - 1 Conv2d layer with 32 nodes, relu activation, (3,3) kernel size, 1 max pooling later with (2,2) pool size\n",
    "\n",
    "stack 2 - 1 Conv2d layer with 32 nodes, relu activation, (4,4) kernel size, 1 max pooling layer with (2,2) pool size\n",
    "\n",
    "stack 3 - 1 Conv2D layer with 64 nodes, relu activation, (3,3) kernel size, 1 max pooling later with (2,2) pool size\n",
    "\n",
    "flattening layer - layer that flattens the tensor into a 1D array to be fed into the dense layers\n",
    "\n",
    "Dense Layer 1 - Dense layer with 64 nodes and relu activation \n",
    "\n",
    "Dense Layer 2 - output layer with sigmoid activation"
   ]
  },
  {
   "cell_type": "code",
   "execution_count": 24,
   "metadata": {},
   "outputs": [],
   "source": [
    "baseline = models.Sequential()\n",
    "\n",
    "# stack 1\n",
    "baseline.add(layers.Conv2D(32, (3, 3), activation='relu',\n",
    "                        input_shape=(global_target_size[0], global_target_size[0],  3)))\n",
    "baseline.add(layers.MaxPooling2D((2, 2)))\n",
    "\n",
    "# stack 2\n",
    "baseline.add(layers.Conv2D(32, (4, 4), activation='relu'))\n",
    "baseline.add(layers.MaxPooling2D((2, 2)))\n",
    "\n",
    "# stack 3\n",
    "baseline.add(layers.Conv2D(64, (3, 3), activation='relu'))\n",
    "baseline.add(layers.MaxPooling2D((2, 2)))\n",
    "\n",
    "# flattening layer\n",
    "baseline.add(layers.Flatten())\n",
    "\n",
    "# Dense Layer 1 \n",
    "baseline.add(layers.Dense(64, activation='relu'))\n",
    "\n",
    "# Dense Layer 2 // output layer\n",
    "baseline.add(layers.Dense(1, activation='sigmoid'))\n",
    "\n",
    "\n",
    "## Compiling baseline \n",
    "baseline.compile(loss='binary_crossentropy',\n",
    "              optimizer=\"sgd\",\n",
    "              metrics=['acc'])"
   ]
  },
  {
   "cell_type": "code",
   "execution_count": 25,
   "metadata": {},
   "outputs": [
    {
     "name": "stdout",
     "output_type": "stream",
     "text": [
      "Epoch 1/30\n",
      "83/83 [==============================] - 100s 1s/step - loss: 0.6509 - acc: 0.6548 - val_loss: 0.6727 - val_acc: 0.6575\n",
      "Epoch 2/30\n",
      "83/83 [==============================] - 90s 1s/step - loss: 0.6357 - acc: 0.6574 - val_loss: 0.6669 - val_acc: 0.6575\n",
      "Epoch 3/30\n",
      "83/83 [==============================] - 91s 1s/step - loss: 0.6284 - acc: 0.6570 - val_loss: 0.6752 - val_acc: 0.6575\n",
      "Epoch 4/30\n",
      "83/83 [==============================] - 89s 1s/step - loss: 0.6135 - acc: 0.6578 - val_loss: 0.6709 - val_acc: 0.6347\n",
      "Epoch 5/30\n",
      "83/83 [==============================] - 101s 1s/step - loss: 0.5999 - acc: 0.6745 - val_loss: 0.6803 - val_acc: 0.6210\n",
      "Epoch 6/30\n",
      "83/83 [==============================] - 91s 1s/step - loss: 0.6006 - acc: 0.6684 - val_loss: 0.6899 - val_acc: 0.6301\n",
      "Epoch 7/30\n",
      "83/83 [==============================] - 92s 1s/step - loss: 0.5881 - acc: 0.6643 - val_loss: 0.6844 - val_acc: 0.5537\n",
      "Epoch 8/30\n",
      "83/83 [==============================] - 95s 1s/step - loss: 0.5804 - acc: 0.6829 - val_loss: 0.6740 - val_acc: 0.5856\n",
      "Epoch 9/30\n",
      "83/83 [==============================] - 91s 1s/step - loss: 0.5744 - acc: 0.6837 - val_loss: 0.6908 - val_acc: 0.5594\n",
      "Epoch 10/30\n",
      "83/83 [==============================] - 92s 1s/step - loss: 0.5692 - acc: 0.6970 - val_loss: 0.6684 - val_acc: 0.6301\n",
      "Epoch 11/30\n",
      "83/83 [==============================] - 92s 1s/step - loss: 0.5542 - acc: 0.7141 - val_loss: 0.6443 - val_acc: 0.6096\n",
      "Epoch 12/30\n",
      "83/83 [==============================] - 95s 1s/step - loss: 0.5462 - acc: 0.7049 - val_loss: 0.6458 - val_acc: 0.6473\n",
      "Epoch 13/30\n",
      "83/83 [==============================] - 92s 1s/step - loss: 0.5459 - acc: 0.7103 - val_loss: 0.6279 - val_acc: 0.6370\n",
      "Epoch 14/30\n",
      "83/83 [==============================] - 94s 1s/step - loss: 0.5301 - acc: 0.7323 - val_loss: 0.6149 - val_acc: 0.6632\n",
      "Epoch 15/30\n",
      "83/83 [==============================] - 93s 1s/step - loss: 0.5167 - acc: 0.7335 - val_loss: 0.6381 - val_acc: 0.5970\n",
      "Epoch 16/30\n",
      "83/83 [==============================] - 94s 1s/step - loss: 0.5160 - acc: 0.7293 - val_loss: 0.6456 - val_acc: 0.6553\n",
      "Epoch 17/30\n",
      "83/83 [==============================] - 100s 1s/step - loss: 0.4993 - acc: 0.7479 - val_loss: 0.6522 - val_acc: 0.6495\n",
      "Epoch 18/30\n",
      "83/83 [==============================] - 93s 1s/step - loss: 0.4969 - acc: 0.7452 - val_loss: 0.6082 - val_acc: 0.6712\n",
      "Epoch 19/30\n",
      "83/83 [==============================] - 95s 1s/step - loss: 0.4813 - acc: 0.7624 - val_loss: 0.6637 - val_acc: 0.6667\n",
      "Epoch 20/30\n",
      "83/83 [==============================] - 92s 1s/step - loss: 0.4763 - acc: 0.7734 - val_loss: 0.6262 - val_acc: 0.6758\n",
      "Epoch 21/30\n",
      "83/83 [==============================] - 92s 1s/step - loss: 0.4587 - acc: 0.7795 - val_loss: 0.6216 - val_acc: 0.6838\n",
      "Epoch 22/30\n",
      "83/83 [==============================] - 94s 1s/step - loss: 0.4514 - acc: 0.7875 - val_loss: 0.6166 - val_acc: 0.6655\n",
      "Epoch 23/30\n",
      "83/83 [==============================] - 89s 1s/step - loss: 0.4423 - acc: 0.7981 - val_loss: 0.6076 - val_acc: 0.7021\n",
      "Epoch 24/30\n",
      "83/83 [==============================] - 89s 1s/step - loss: 0.4290 - acc: 0.7992 - val_loss: 0.6198 - val_acc: 0.6758\n",
      "Epoch 25/30\n",
      "83/83 [==============================] - 105s 1s/step - loss: 0.4172 - acc: 0.8163 - val_loss: 0.6198 - val_acc: 0.7043\n",
      "Epoch 26/30\n",
      "83/83 [==============================] - 96s 1s/step - loss: 0.4069 - acc: 0.8175 - val_loss: 0.6229 - val_acc: 0.6998\n",
      "Epoch 27/30\n",
      "83/83 [==============================] - 92s 1s/step - loss: 0.3992 - acc: 0.8194 - val_loss: 0.5883 - val_acc: 0.7260\n",
      "Epoch 28/30\n",
      "83/83 [==============================] - 94s 1s/step - loss: 0.3902 - acc: 0.8304 - val_loss: 0.6046 - val_acc: 0.6769\n",
      "Epoch 29/30\n",
      "83/83 [==============================] - 93s 1s/step - loss: 0.3805 - acc: 0.8357 - val_loss: 0.7431 - val_acc: 0.6861\n",
      "Epoch 30/30\n",
      "83/83 [==============================] - 89s 1s/step - loss: 0.3733 - acc: 0.8346 - val_loss: 0.6176 - val_acc: 0.6918\n"
     ]
    }
   ],
   "source": [
    "baseline_history = baseline.fit(train_data,\n",
    "                    epochs=global_epochs,\n",
    "                    validation_data = val_data\n",
    "                   )"
   ]
  },
  {
   "cell_type": "code",
   "execution_count": 27,
   "metadata": {},
   "outputs": [
    {
     "name": "stdout",
     "output_type": "stream",
     "text": [
      "83/83 [==============================] - 65s 781ms/step - loss: 0.3540 - acc: 0.8582\n"
     ]
    },
    {
     "data": {
      "text/plain": [
       "[0.35399508476257324, 0.8581749200820923]"
      ]
     },
     "execution_count": 27,
     "metadata": {},
     "output_type": "execute_result"
    }
   ],
   "source": [
    "baseline_train_results = baseline.evaluate(train_data)\n",
    "baseline_train_results"
   ]
  },
  {
   "cell_type": "code",
   "execution_count": 28,
   "metadata": {},
   "outputs": [
    {
     "name": "stdout",
     "output_type": "stream",
     "text": [
      "28/28 [==============================] - 16s 589ms/step - loss: 0.6176 - acc: 0.6918\n"
     ]
    },
    {
     "data": {
      "text/plain": [
       "[0.617581844329834, 0.6917808055877686]"
      ]
     },
     "execution_count": 28,
     "metadata": {},
     "output_type": "execute_result"
    }
   ],
   "source": [
    "baseline_val_results = baseline.evaluate(val_data)\n",
    "baseline_val_results"
   ]
  },
  {
   "cell_type": "code",
   "execution_count": 31,
   "metadata": {},
   "outputs": [],
   "source": [
    "score_dictionary['baseline'] =  (baseline_train_results,baseline_val_results)"
   ]
  },
  {
   "cell_type": "code",
   "execution_count": 35,
   "metadata": {},
   "outputs": [
    {
     "data": {
      "image/png": "[encoded data removed]",
      "text/plain": [
       "<Figure size 720x360 with 2 Axes>"
      ]
     },
     "metadata": {
      "needs_background": "light"
     },
     "output_type": "display_data"
    }
   ],
   "source": [
    "# visualizing loss and accuracy per epoch\n",
    "baseline_train_loss = baseline_history.history['loss']\n",
    "baseline_train_acc = baseline_history.history['acc']\n",
    "baseline_val_loss = baseline_history.history['val_loss']\n",
    "baseline_val_acc = baseline_history.history['val_acc']\n",
    "\n",
    "\n",
    "fig, (ax1, ax2) = plt.subplots(1, 2, figsize=(10, 5))\n",
    "\n",
    "sns.lineplot(x=baseline_history.epoch, y=baseline_train_loss, ax=ax1, label='training loss')\n",
    "sns.lineplot(x=baseline_history.epoch, y=baseline_train_acc, ax=ax2, label='training accuracy')\n",
    "\n",
    "sns.lineplot(x=baseline_history.epoch, y=baseline_val_loss, ax=ax1, label='validation loss')\n",
    "sns.lineplot(x=baseline_history.epoch, y=baseline_val_acc, ax=ax2, label='validation accuracy');"
   ]
  },
  {
   "cell_type": "markdown",
   "metadata": {},
   "source": [
    "### CNN Iteration 1"
   ]
  },
  {
   "cell_type": "markdown",
   "metadata": {},
   "source": [
    "In this iteration I will increase the number of dense/hidden layers and add some dropout"
   ]
  },
  {
   "cell_type": "markdown",
   "metadata": {},
   "source": [
    "CNN 1 Architecture\n",
    "\n",
    "Changes Made: \n",
    "- removed the third stack\n",
    "- added 2 dense layers and 2 dropout layers"
   ]
  },
  {
   "cell_type": "code",
   "execution_count": null,
   "metadata": {},
   "outputs": [],
   "source": [
    "model1 = models.Sequential()\n",
    "\n",
    "# stack 1\n",
    "model1.add(layers.Conv2D(32, (3, 3), activation='relu',\n",
    "                        input_shape=(global_target_size[0], global_target_size[0],  3)))\n",
    "model1.add(layers.MaxPooling2D((2, 2)))\n",
    "\n",
    "# stack 2\n",
    "model1.add(layers.Conv2D(32, (4, 4), activation='relu'))\n",
    "model1.add(layers.MaxPooling2D((2, 2)))\n",
    "\n",
    "\n",
    "# flattening layer\n",
    "model1.add(layers.Flatten())\n",
    "\n",
    "# Dense Layer 1 \n",
    "model1.add(layers.Dense(32, activation='relu'))\n",
    "\n",
    "# Dense Dropout layer 1 \n",
    "model1.add(layers.Dropout(.25))\n",
    "\n",
    "# Dense Layer 2 \n",
    "model1.add(layers.Dense(64, activation='relu'))\n",
    "\n",
    "# Dense Dropout Layer 2\n",
    "model1.add(layers.Dropout(.5))\n",
    "\n",
    "# Dense Layer 3\n",
    "model1.add(layers.Dense(32, activation='relu'))\n",
    "\n",
    "# Dense Layer 2 // output layer\n",
    "model1.add(layers.Dense(1, activation='sigmoid'))\n",
    "\n",
    "\n",
    "## Compiling baseline \n",
    "model1.compile(loss='binary_crossentropy',\n",
    "              optimizer=\"sgd\",\n",
    "              metrics=['acc'])"
   ]
  },
  {
   "cell_type": "code",
   "execution_count": null,
   "metadata": {},
   "outputs": [],
   "source": [
    "model1_history = model1.fit(train_data,\n",
    "                    epochs=global_epochs,\n",
    "                    validation_data = val_data\n",
    "                   )"
   ]
  },
  {
   "cell_type": "code",
   "execution_count": null,
   "metadata": {},
   "outputs": [],
   "source": [
    "model_1_train_results = model1.evaluate(train_data)\n",
    "model_1_train_results\n",
    "\n",
    "model_1_val_results = model1.evaluate(val_data)\n",
    "model_1_val_results"
   ]
  },
  {
   "cell_type": "code",
   "execution_count": null,
   "metadata": {},
   "outputs": [],
   "source": [
    "score_dictionary['model 1'] = (model_1_train_results,model_1_val_results)"
   ]
  },
  {
   "cell_type": "code",
   "execution_count": null,
   "metadata": {},
   "outputs": [],
   "source": [
    "# visualizing loss and accuracy per epoch\n",
    "model1_train_loss = model1_history.history['loss']\n",
    "model1_train_acc = model1_history.history['acc']\n",
    "model1_val_loss = model1_history.history['val_loss']\n",
    "model1_val_acc = model1_history.history['val_acc']\n",
    "\n",
    "\n",
    "fig, (ax1, ax2) = plt.subplots(1, 2, figsize=(10, 5))\n",
    "\n",
    "sns.lineplot(x=model1_history.epoch, y=model1_train_loss, ax=ax1, label='training loss')\n",
    "sns.lineplot(x=model1_history.epoch, y=model1_train_acc, ax=ax2, label='training accuracy')\n",
    "\n",
    "sns.lineplot(x=model1_history.epoch, y=model1_val_loss, ax=ax1, label='validation loss')\n",
    "sns.lineplot(x=model1_history.epoch, y=model1_val_acc, ax=ax2, label='validation accuracy');"
   ]
  },
  {
   "cell_type": "markdown",
   "metadata": {},
   "source": [
    "### CNN Iteration 2"
   ]
  },
  {
   "cell_type": "markdown",
   "metadata": {},
   "source": [
    "In this iteration I will change the Conv2D stride to (2,2) instead of the default of (1,1)"
   ]
  },
  {
   "cell_type": "code",
   "execution_count": null,
   "metadata": {},
   "outputs": [],
   "source": [
    "model2 = models.Sequential()\n",
    "\n",
    "# stack 1\n",
    "model2.add(layers.Conv2D(32, (3, 3), activation='relu',\n",
    "                        input_shape=(global_target_size[0], global_target_size[0],  3),\n",
    "                        strides = (2,2)))\n",
    "model2.add(layers.MaxPooling2D((2, 2)))\n",
    "\n",
    "# stack 2\n",
    "model2.add(layers.Conv2D(32, (4, 4), activation='relu',strides = (2,2)))\n",
    "model2.add(layers.MaxPooling2D((2, 2)))\n",
    "\n",
    "# stack 3\n",
    "model2.add(layers.Conv2D(64, (3, 3), activation='relu',strides = (2,2)))\n",
    "model2.add(layers.MaxPooling2D((2, 2)))\n",
    "\n",
    "# flattening layer\n",
    "model2.add(layers.Flatten())\n",
    "\n",
    "# Dense Layer 1 \n",
    "model2.add(layers.Dense(64, activation='relu'))\n",
    "\n",
    "# Dense Layer 2 // output layer\n",
    "model2.add(layers.Dense(1, activation='sigmoid'))\n",
    "\n",
    "\n",
    "## Compiling baseline \n",
    "model2.compile(loss='binary_crossentropy',\n",
    "              optimizer=\"sgd\",\n",
    "              metrics=['acc'])"
   ]
  },
  {
   "cell_type": "code",
   "execution_count": null,
   "metadata": {},
   "outputs": [],
   "source": [
    "model2_history = model2.fit(train_data,\n",
    "                    epochs=global_epochs,\n",
    "                    validation_data = val_data\n",
    "                   )"
   ]
  },
  {
   "cell_type": "code",
   "execution_count": null,
   "metadata": {},
   "outputs": [],
   "source": [
    "model_2_train_results = model2.evaluate(train_data)\n",
    "model_2_train_results\n",
    "\n",
    "model_2_val_results = model2.evaluate(val_data)\n",
    "model_2_val_results"
   ]
  },
  {
   "cell_type": "code",
   "execution_count": null,
   "metadata": {},
   "outputs": [],
   "source": [
    "score_dictionary['model 2'] = (model_2_train_results,model_2_val_results)"
   ]
  },
  {
   "cell_type": "code",
   "execution_count": null,
   "metadata": {},
   "outputs": [],
   "source": [
    "# visualizing loss and accuracy per epoch\n",
    "model2_train_loss = model2_history.history['loss']\n",
    "model2_train_acc = model2_history.history['acc']\n",
    "model2_val_loss = model2_history.history['val_loss']\n",
    "model2_val_acc = model2_history.history['val_acc']\n",
    "\n",
    "\n",
    "fig, (ax1, ax2) = plt.subplots(1, 2, figsize=(10, 5))\n",
    "\n",
    "sns.lineplot(x=model2_history.epoch, y=model2_train_loss, ax=ax1, label='training loss')\n",
    "sns.lineplot(x=model2_history.epoch, y=model2_train_acc, ax=ax2, label='training accuracy')\n",
    "\n",
    "sns.lineplot(x=model2_history.epoch, y=model2_val_loss, ax=ax1, label='validation loss')\n",
    "sns.lineplot(x=model2_history.epoch, y=model2_val_acc, ax=ax2, label='validation accuracy');"
   ]
  },
  {
   "cell_type": "markdown",
   "metadata": {},
   "source": [
    "### CNN Iteration 3"
   ]
  },
  {
   "cell_type": "markdown",
   "metadata": {},
   "source": [
    "In this iteration I will increase the amount of convolutional layers and decrease the amount of dense layers"
   ]
  },
  {
   "cell_type": "code",
   "execution_count": null,
   "metadata": {},
   "outputs": [],
   "source": [
    "model3 = models.Sequential()\n",
    "\n",
    "# Stack 1\n",
    "model3.add(layers.Conv2D(filters = 32,\n",
    "                         kernel_size=(3,3),\n",
    "                         activation='relu',\n",
    "                         input_shape = (global_target_size[0],global_target_size[0], 3)\n",
    "                        ))\n",
    "model3.add(layers.MaxPooling2D(pool_size = (2, 2)))\n",
    "\n",
    "# Stack 2\n",
    "model3.add(layers.Conv2D(32, (4, 4), activation='relu'))\n",
    "model3.add(layers.MaxPooling2D((2, 2)))\n",
    "\n",
    "# Stack 3\n",
    "model3.add(layers.Conv2D(64, (3, 3), activation='relu'))\n",
    "model3.add(layers.MaxPooling2D((2, 2)))\n",
    "\n",
    "# Stack 4\n",
    "model3.add(layers.Conv2D(64, (3, 3), activation='relu'))\n",
    "model3.add(layers.MaxPooling2D((2, 2)))\n",
    "\n",
    "# Flattening layer\n",
    "model3.add(layers.Flatten())\n",
    "\n",
    "# Dense layer 1\n",
    "model3.add(layers.Dense(64, activation='relu'))\n",
    "\n",
    "# Dense layer 2 - output layer\n",
    "model3.add(layers.Dense(1, activation='sigmoid'))\n",
    "\n",
    "model3.compile(loss='binary_crossentropy',\n",
    "              optimizer = 'adam',\n",
    "              metrics=['acc'])"
   ]
  },
  {
   "cell_type": "code",
   "execution_count": null,
   "metadata": {},
   "outputs": [],
   "source": [
    "model3_history = model3.fit(train_data,\n",
    "                    epochs=global_epochs,\n",
    "                    validation_data = val_data\n",
    "                   )"
   ]
  },
  {
   "cell_type": "code",
   "execution_count": null,
   "metadata": {},
   "outputs": [],
   "source": [
    "model_3_train_results = model3.evaluate(train_data)\n",
    "model_3_train_results\n",
    "\n",
    "model_3_val_results = model3.evaluate(val_data)\n",
    "model_3_val_results"
   ]
  },
  {
   "cell_type": "code",
   "execution_count": null,
   "metadata": {},
   "outputs": [],
   "source": [
    "score_dictionary['model 3'] = (model_3_train_results,model_3_val_results)"
   ]
  },
  {
   "cell_type": "code",
   "execution_count": null,
   "metadata": {},
   "outputs": [],
   "source": [
    "# visualizing loss and accuracy per epoch\n",
    "model3_train_loss = model3_history.history['loss']\n",
    "model3_train_acc = model3_history.history['acc']\n",
    "model3_val_loss = model3_history.history['val_loss']\n",
    "model3_val_acc = model3_history.history['val_acc']\n",
    "\n",
    "\n",
    "fig, (ax1, ax2) = plt.subplots(1, 2, figsize=(10, 5))\n",
    "\n",
    "sns.lineplot(x=model3_history.epoch, y=model3_train_loss, ax=ax1, label='training loss')\n",
    "sns.lineplot(x=model3_history.epoch, y=model3_train_acc, ax=ax2, label='training accuracy')\n",
    "\n",
    "sns.lineplot(x=model3_history.epoch, y=model3_val_loss, ax=ax1, label='validation loss')\n",
    "sns.lineplot(x=model3_history.epoch, y=model3_val_acc, ax=ax2, label='validation accuracy');"
   ]
  }
 ],
 "metadata": {
  "kernelspec": {
   "display_name": "Python (learn-env)",
   "language": "python",
   "name": "learn-env"
  },
  "language_info": {
   "codemirror_mode": {
    "name": "ipython",
    "version": 3
   },
   "file_extension": ".py",
   "mimetype": "text/x-python",
   "name": "python",
   "nbconvert_exporter": "python",
   "pygments_lexer": "ipython3",
   "version": "3.8.5"
  }
 },
 "nbformat": 4,
 "nbformat_minor": 4
}
