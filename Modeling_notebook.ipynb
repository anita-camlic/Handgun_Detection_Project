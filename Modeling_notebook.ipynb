{
 "cells": [
  {
   "cell_type": "markdown",
   "metadata": {},
   "source": [
    "This notebook is strictly for modeling and keeping track of thechanges I make per model/ what changes improve the accuracy/reduces overfitting the most"
   ]
  },
  {
   "cell_type": "code",
   "execution_count": 1,
   "metadata": {},
   "outputs": [],
   "source": [
    "#imports \n",
    "import os, shutil\n",
    "import pandas as pd\n",
    "from sklearn.metrics import accuracy_score, recall_score\n",
    "import time\n",
    "import matplotlib.pyplot as plt\n",
    "import scipy\n",
    "import numpy as np\n",
    "from PIL import Image\n",
    "from scipy import ndimage\n",
    "from keras.preprocessing.image import ImageDataGenerator, array_to_img, img_to_array, load_img\n",
    "from keras import models\n",
    "from keras import layers\n",
    "from tensorflow.keras import regularizers\n",
    "import seaborn as sns\n",
    "import tensorflow as tf\n",
    "from keras.callbacks import EarlyStopping"
   ]
  },
  {
   "cell_type": "code",
   "execution_count": 2,
   "metadata": {},
   "outputs": [],
   "source": [
    "# strings of directories for the different data\n",
    "train_images_dir = 'C:/Users/User/Documents/Flatiron/Capstone/train_data/images'\n",
    "test_images_dir = 'C:/Users/User/Documents/Flatiron/Capstone/test_data/images'"
   ]
  },
  {
   "cell_type": "code",
   "execution_count": 3,
   "metadata": {},
   "outputs": [],
   "source": [
    "global_target_size = (64,64)\n",
    "global_batch_size = 32\n",
    "global_epochs = 100"
   ]
  },
  {
   "cell_type": "code",
   "execution_count": 4,
   "metadata": {},
   "outputs": [],
   "source": [
    "score_dictionary = {}"
   ]
  },
  {
   "cell_type": "code",
   "execution_count": 5,
   "metadata": {},
   "outputs": [],
   "source": [
    "train_val_generator = ImageDataGenerator(rescale=1./255,\n",
    "                                         validation_split = .25,horizontal_flip = True)"
   ]
  },
  {
   "cell_type": "code",
   "execution_count": 6,
   "metadata": {},
   "outputs": [
    {
     "name": "stdout",
     "output_type": "stream",
     "text": [
      "Found 2630 images belonging to 2 classes.\n"
     ]
    }
   ],
   "source": [
    "train_data = train_val_generator.flow_from_directory(train_images_dir,  \n",
    "                                                     target_size = global_target_size,\n",
    "                                                     subset='training',\n",
    "                                                     batch_size=global_batch_size,\n",
    "                                                     class_mode='binary',\n",
    "                                                    shuffle = True,\n",
    "                                                    seed = 100)"
   ]
  },
  {
   "cell_type": "code",
   "execution_count": 7,
   "metadata": {},
   "outputs": [
    {
     "name": "stdout",
     "output_type": "stream",
     "text": [
      "Found 876 images belonging to 2 classes.\n"
     ]
    }
   ],
   "source": [
    "val_data = train_val_generator.flow_from_directory(train_images_dir,\n",
    "       subset = 'validation',  \n",
    "       target_size = global_target_size,\n",
    "       batch_size=global_batch_size,\n",
    "       class_mode='binary',\n",
    "       seed = 100)"
   ]
  },
  {
   "cell_type": "code",
   "execution_count": 8,
   "metadata": {},
   "outputs": [
    {
     "name": "stdout",
     "output_type": "stream",
     "text": [
      "Found 809 images belonging to 2 classes.\n"
     ]
    }
   ],
   "source": [
    "test_generator = ImageDataGenerator(rescale=1./255)\n",
    "test_data = test_generator.flow_from_directory(\n",
    "        test_images_dir,  \n",
    "        target_size = global_target_size,\n",
    "        batch_size=global_batch_size,\n",
    "        class_mode='binary',\n",
    "        shuffle= False)"
   ]
  },
  {
   "cell_type": "markdown",
   "metadata": {},
   "source": [
    "Trying ONLY Guns, to see if this makes it easier on my model"
   ]
  },
  {
   "cell_type": "code",
   "execution_count": 9,
   "metadata": {},
   "outputs": [],
   "source": [
    "# strings of directories for the different data\n",
    "train_images_dir = 'C:/Users/User/Documents/Flatiron/Capstone/train_data_guns'"
   ]
  },
  {
   "cell_type": "code",
   "execution_count": 10,
   "metadata": {},
   "outputs": [],
   "source": [
    "global_target_size = (127,127)\n",
    "global_batch_size = 32\n",
    "global_epochs = 100"
   ]
  },
  {
   "cell_type": "code",
   "execution_count": 11,
   "metadata": {},
   "outputs": [],
   "source": [
    "train_val_generator = ImageDataGenerator(rescale=1./255,\n",
    "                                         validation_split = .25)"
   ]
  },
  {
   "cell_type": "code",
   "execution_count": 12,
   "metadata": {},
   "outputs": [
    {
     "name": "stdout",
     "output_type": "stream",
     "text": [
      "Found 974 images belonging to 2 classes.\n"
     ]
    }
   ],
   "source": [
    "train_data = train_val_generator.flow_from_directory(train_images_dir,  \n",
    "                                                     target_size = global_target_size,\n",
    "                                                     subset='training',\n",
    "                                                     batch_size=global_batch_size,\n",
    "                                                     class_mode='binary',\n",
    "                                                    shuffle = True,\n",
    "                                                    seed = 100)"
   ]
  },
  {
   "cell_type": "code",
   "execution_count": 13,
   "metadata": {},
   "outputs": [
    {
     "name": "stdout",
     "output_type": "stream",
     "text": [
      "Found 323 images belonging to 2 classes.\n"
     ]
    }
   ],
   "source": [
    "val_data = train_val_generator.flow_from_directory(train_images_dir,\n",
    "       subset = 'validation',  \n",
    "       target_size = global_target_size,\n",
    "       batch_size=global_batch_size,\n",
    "       class_mode='binary',\n",
    "       seed = 100)"
   ]
  },
  {
   "cell_type": "code",
   "execution_count": 14,
   "metadata": {},
   "outputs": [],
   "source": [
    "early_stopping = EarlyStopping(monitor='val_acc', patience=5)"
   ]
  },
  {
   "cell_type": "markdown",
   "metadata": {},
   "source": [
    "### CNN 1 - Baseline"
   ]
  },
  {
   "cell_type": "markdown",
   "metadata": {},
   "source": [
    "The baseline model is comprised of \n",
    "\n",
    "stack 1 - 1 Conv2d layer with 32 nodes, relu activation, (3,3) kernel size, 1 max pooling later with (2,2) pool size\n",
    "\n",
    "stack 2 - 1 Conv2d layer with 32 nodes, relu activation, (4,4) kernel size, 1 max pooling layer with (2,2) pool size\n",
    "\n",
    "stack 3 - 1 Conv2D layer with 64 nodes, relu activation, (3,3) kernel size, 1 max pooling later with (2,2) pool size\n",
    "\n",
    "flattening layer - layer that flattens the tensor into a 1D array to be fed into the dense layers\n",
    "\n",
    "Dense Layer 1 - Dense layer with 64 nodes and relu activation \n",
    "\n",
    "Dense Layer 2 - output layer with sigmoid activation"
   ]
  },
  {
   "cell_type": "code",
   "execution_count": 15,
   "metadata": {},
   "outputs": [],
   "source": [
    "# baseline = models.Sequential()\n",
    "\n",
    "# # stack 1\n",
    "# baseline.add(layers.Conv2D(32, (3, 3), activation='relu',\n",
    "#                         input_shape=(global_target_size[0], global_target_size[0],  3)))\n",
    "# baseline.add(layers.MaxPooling2D((2, 2)))\n",
    "\n",
    "# # stack 2\n",
    "# baseline.add(layers.Conv2D(32, (4, 4), activation='relu'))\n",
    "# baseline.add(layers.MaxPooling2D((2, 2)))\n",
    "\n",
    "# # stack 3\n",
    "# baseline.add(layers.Conv2D(64, (3, 3), activation='relu'))\n",
    "# baseline.add(layers.MaxPooling2D((2, 2)))\n",
    "\n",
    "# # flattening layer\n",
    "# baseline.add(layers.Flatten())\n",
    "\n",
    "# # Dense Layer 1 \n",
    "# baseline.add(layers.Dense(64, activation='relu'))\n",
    "\n",
    "# # Dense Layer 2 // output layer\n",
    "# baseline.add(layers.Dense(1, activation='sigmoid'))\n",
    "\n",
    "\n",
    "# ## Compiling baseline \n",
    "# baseline.compile(loss='binary_crossentropy',\n",
    "#               optimizer=\"sgd\",\n",
    "#               metrics=['acc'])"
   ]
  },
  {
   "cell_type": "code",
   "execution_count": 16,
   "metadata": {},
   "outputs": [],
   "source": [
    "# baseline_history = baseline.fit(train_data,\n",
    "#                     epochs=global_epochs,\n",
    "#                     validation_data = val_data\n",
    "#                    )"
   ]
  },
  {
   "cell_type": "code",
   "execution_count": 17,
   "metadata": {},
   "outputs": [],
   "source": [
    "# baseline_train_results = baseline.evaluate(train_data)\n",
    "# baseline_train_results"
   ]
  },
  {
   "cell_type": "code",
   "execution_count": 18,
   "metadata": {},
   "outputs": [],
   "source": [
    "# baseline_val_results = baseline.evaluate(val_data)\n",
    "# baseline_val_results"
   ]
  },
  {
   "cell_type": "code",
   "execution_count": 19,
   "metadata": {},
   "outputs": [],
   "source": [
    "# score_dictionary['baseline'] =  (baseline_train_results,baseline_val_results)"
   ]
  },
  {
   "cell_type": "code",
   "execution_count": 20,
   "metadata": {},
   "outputs": [],
   "source": [
    "# # visualizing loss and accuracy per epoch\n",
    "# baseline_train_loss = baseline_history.history['loss']\n",
    "# baseline_train_acc = baseline_history.history['acc']\n",
    "# baseline_val_loss = baseline_history.history['val_loss']\n",
    "# baseline_val_acc = baseline_history.history['val_acc']\n",
    "\n",
    "\n",
    "# fig, (ax1, ax2) = plt.subplots(1, 2, figsize=(10, 5))\n",
    "\n",
    "# sns.lineplot(x=baseline_history.epoch, y=baseline_train_loss, ax=ax1, label='training loss')\n",
    "# sns.lineplot(x=baseline_history.epoch, y=baseline_train_acc, ax=ax2, label='training accuracy')\n",
    "\n",
    "# sns.lineplot(x=baseline_history.epoch, y=baseline_val_loss, ax=ax1, label='validation loss')\n",
    "# sns.lineplot(x=baseline_history.epoch, y=baseline_val_acc, ax=ax2, label='validation accuracy');"
   ]
  },
  {
   "cell_type": "markdown",
   "metadata": {},
   "source": [
    "### CNN Iteration 1"
   ]
  },
  {
   "cell_type": "markdown",
   "metadata": {},
   "source": [
    "In this iteration I will increase the number of dense/hidden layers and add some dropout"
   ]
  },
  {
   "cell_type": "markdown",
   "metadata": {},
   "source": [
    "CNN 1 Architecture\n",
    "\n",
    "Changes Made: \n",
    "- removed the third stack\n",
    "- added 2 dense layers and 2 dropout layers"
   ]
  },
  {
   "cell_type": "code",
   "execution_count": 21,
   "metadata": {},
   "outputs": [],
   "source": [
    "# model1 = models.Sequential()\n",
    "\n",
    "# # stack 1\n",
    "# model1.add(layers.Conv2D(32, (3, 3), activation='relu',\n",
    "#                         input_shape=(global_target_size[0], global_target_size[0],  3)))\n",
    "# model1.add(layers.MaxPooling2D((2, 2)))\n",
    "\n",
    "# # stack 2\n",
    "# model1.add(layers.Conv2D(32, (4, 4), activation='relu'))\n",
    "# model1.add(layers.MaxPooling2D((2, 2)))\n",
    "\n",
    "\n",
    "# # flattening layer\n",
    "# model1.add(layers.Flatten())\n",
    "\n",
    "# # Dense Layer 1 \n",
    "# model1.add(layers.Dense(32, activation='relu'))\n",
    "\n",
    "# # Dense Dropout layer 1 \n",
    "# model1.add(layers.Dropout(.25))\n",
    "\n",
    "# # Dense Layer 2 \n",
    "# model1.add(layers.Dense(64, activation='relu'))\n",
    "\n",
    "# # Dense Dropout Layer 2\n",
    "# model1.add(layers.Dropout(.5))\n",
    "\n",
    "# # Dense Layer 3\n",
    "# model1.add(layers.Dense(32, activation='relu'))\n",
    "\n",
    "# # Dense Layer 2 // output layer\n",
    "# model1.add(layers.Dense(1, activation='sigmoid'))\n",
    "\n",
    "\n",
    "# ## Compiling baseline \n",
    "# model1.compile(loss='binary_crossentropy',\n",
    "#               optimizer=\"sgd\",\n",
    "#               metrics=['acc'])"
   ]
  },
  {
   "cell_type": "code",
   "execution_count": 22,
   "metadata": {},
   "outputs": [],
   "source": [
    "# model1_history = model1.fit(train_data,\n",
    "#                     epochs=global_epochs,\n",
    "#                     validation_data = val_data\n",
    "#                    )"
   ]
  },
  {
   "cell_type": "code",
   "execution_count": 23,
   "metadata": {},
   "outputs": [],
   "source": [
    "# model_1_train_results = model1.evaluate(train_data)\n",
    "# model_1_train_results\n",
    "\n",
    "# model_1_val_results = model1.evaluate(val_data)\n",
    "# model_1_val_results"
   ]
  },
  {
   "cell_type": "code",
   "execution_count": 24,
   "metadata": {},
   "outputs": [],
   "source": [
    "# score_dictionary['model 1'] = (model_1_train_results,model_1_val_results)"
   ]
  },
  {
   "cell_type": "code",
   "execution_count": 25,
   "metadata": {},
   "outputs": [],
   "source": [
    "# # visualizing loss and accuracy per epoch\n",
    "# model1_train_loss = model1_history.history['loss']\n",
    "# model1_train_acc = model1_history.history['acc']\n",
    "# model1_val_loss = model1_history.history['val_loss']\n",
    "# model1_val_acc = model1_history.history['val_acc']\n",
    "\n",
    "\n",
    "# fig, (ax1, ax2) = plt.subplots(1, 2, figsize=(10, 5))\n",
    "\n",
    "# sns.lineplot(x=model1_history.epoch, y=model1_train_loss, ax=ax1, label='training loss')\n",
    "# sns.lineplot(x=model1_history.epoch, y=model1_train_acc, ax=ax2, label='training accuracy')\n",
    "\n",
    "# sns.lineplot(x=model1_history.epoch, y=model1_val_loss, ax=ax1, label='validation loss')\n",
    "# sns.lineplot(x=model1_history.epoch, y=model1_val_acc, ax=ax2, label='validation accuracy');"
   ]
  },
  {
   "cell_type": "markdown",
   "metadata": {},
   "source": [
    "### CNN Iteration 2"
   ]
  },
  {
   "cell_type": "markdown",
   "metadata": {},
   "source": [
    "In this iteration I will change the MaxPooling stride to (2,2) instead of the default of None"
   ]
  },
  {
   "cell_type": "markdown",
   "metadata": {},
   "source": [
    "### SHOULD TRY stride of 1,1 as well"
   ]
  },
  {
   "cell_type": "code",
   "execution_count": 26,
   "metadata": {},
   "outputs": [],
   "source": [
    "# model2 = models.Sequential()\n",
    "\n",
    "# # stack 1\n",
    "# model2.add(layers.Conv2D(32, (3, 3), activation='relu',\n",
    "#                         input_shape=(global_target_size[0], global_target_size[0],  3)))\n",
    "# model2.add(layers.MaxPooling2D((2, 2),\n",
    "#                         strides = (2,2)))\n",
    "\n",
    "# # stack 2\n",
    "# model2.add(layers.Conv2D(32, (4, 4), activation='relu',strides = (2,2)))\n",
    "# model2.add(layers.MaxPooling2D((2, 2),\n",
    "#                         strides = (2,2)))\n",
    "\n",
    "# # stack 3\n",
    "# model2.add(layers.Conv2D(64, (3, 3), activation='relu',strides = (2,2)))\n",
    "# model2.add(layers.MaxPooling2D((2, 2),\n",
    "#                         strides = (2,2)))\n",
    "\n",
    "# # flattening layer\n",
    "# model2.add(layers.Flatten())\n",
    "\n",
    "# # Dense Layer 1 \n",
    "# model2.add(layers.Dense(64, activation='relu'))\n",
    "\n",
    "# # Dense Layer 2 // output layer\n",
    "# model2.add(layers.Dense(1, activation='sigmoid'))\n",
    "\n",
    "\n",
    "# ## Compiling baseline \n",
    "# model2.compile(loss='binary_crossentropy',\n",
    "#               optimizer=\"sgd\",\n",
    "#               metrics=['acc'])"
   ]
  },
  {
   "cell_type": "code",
   "execution_count": 27,
   "metadata": {},
   "outputs": [],
   "source": [
    "# model2_history = model2.fit(train_data,\n",
    "#                     epochs=global_epochs,\n",
    "#                     validation_data = val_data\n",
    "#                    )"
   ]
  },
  {
   "cell_type": "code",
   "execution_count": 28,
   "metadata": {},
   "outputs": [],
   "source": [
    "# model_2_train_results = model2.evaluate(train_data)\n",
    "# model_2_train_results\n",
    "\n",
    "# model_2_val_results = model2.evaluate(val_data)\n",
    "# model_2_val_results"
   ]
  },
  {
   "cell_type": "code",
   "execution_count": 29,
   "metadata": {},
   "outputs": [],
   "source": [
    "# score_dictionary['model 2'] = (model_2_train_results,model_2_val_results)"
   ]
  },
  {
   "cell_type": "code",
   "execution_count": 30,
   "metadata": {},
   "outputs": [],
   "source": [
    "# # visualizing loss and accuracy per epoch\n",
    "# model2_train_loss = model2_history.history['loss']\n",
    "# model2_train_acc = model2_history.history['acc']\n",
    "# model2_val_loss = model2_history.history['val_loss']\n",
    "# model2_val_acc = model2_history.history['val_acc']\n",
    "\n",
    "\n",
    "# fig, (ax1, ax2) = plt.subplots(1, 2, figsize=(10, 5))\n",
    "\n",
    "# sns.lineplot(x=model2_history.epoch, y=model2_train_loss, ax=ax1, label='training loss')\n",
    "# sns.lineplot(x=model2_history.epoch, y=model2_train_acc, ax=ax2, label='training accuracy')\n",
    "\n",
    "# sns.lineplot(x=model2_history.epoch, y=model2_val_loss, ax=ax1, label='validation loss')\n",
    "# sns.lineplot(x=model2_history.epoch, y=model2_val_acc, ax=ax2, label='validation accuracy');"
   ]
  },
  {
   "cell_type": "markdown",
   "metadata": {},
   "source": [
    "### CNN Iteration 3"
   ]
  },
  {
   "cell_type": "markdown",
   "metadata": {},
   "source": [
    "In this iteration I will increase the amount of convolutional layers and decrease the amount of dense layers"
   ]
  },
  {
   "cell_type": "code",
   "execution_count": 31,
   "metadata": {},
   "outputs": [],
   "source": [
    "# model3 = models.Sequential()\n",
    "\n",
    "# # Stack 1\n",
    "# model3.add(layers.Conv2D(filters = 32,\n",
    "#                          kernel_size=(3,3),\n",
    "#                          activation='relu',\n",
    "#                          input_shape = (global_target_size[0],global_target_size[0], 3)\n",
    "#                         ))\n",
    "# model3.add(layers.MaxPooling2D(pool_size = (2, 2)))\n",
    "\n",
    "# # Stack 2\n",
    "# model3.add(layers.Conv2D(32, (4, 4), activation='relu'))\n",
    "# model3.add(layers.MaxPooling2D((2, 2)))\n",
    "\n",
    "# # Stack 3\n",
    "# model3.add(layers.Conv2D(64, (3, 3), activation='relu'))\n",
    "# model3.add(layers.MaxPooling2D((2, 2)))\n",
    "\n",
    "# # Stack 4\n",
    "# model3.add(layers.Conv2D(64, (3, 3), activation='relu'))\n",
    "# model3.add(layers.MaxPooling2D((2, 2)))\n",
    "\n",
    "# # Flattening layer\n",
    "# model3.add(layers.Flatten())\n",
    "\n",
    "# # Dense layer 1\n",
    "# model3.add(layers.Dense(64, activation='relu'))\n",
    "\n",
    "# # Dense layer 2 - output layer\n",
    "# model3.add(layers.Dense(1, activation='sigmoid'))\n",
    "\n",
    "# model3.compile(loss='binary_crossentropy',\n",
    "#               optimizer = 'adam',\n",
    "#               metrics=['acc'])"
   ]
  },
  {
   "cell_type": "code",
   "execution_count": 32,
   "metadata": {},
   "outputs": [],
   "source": [
    "# model3_history = model3.fit(train_data,\n",
    "#                     epochs=global_epochs,\n",
    "#                     validation_data = val_data\n",
    "#                    )"
   ]
  },
  {
   "cell_type": "code",
   "execution_count": 33,
   "metadata": {},
   "outputs": [],
   "source": [
    "# model_3_train_results = model3.evaluate(train_data)\n",
    "# model_3_train_results\n",
    "\n",
    "# model_3_val_results = model3.evaluate(val_data)\n",
    "# model_3_val_results"
   ]
  },
  {
   "cell_type": "code",
   "execution_count": 34,
   "metadata": {},
   "outputs": [],
   "source": [
    "# score_dictionary['model 3'] = (model_3_train_results,model_3_val_results)"
   ]
  },
  {
   "cell_type": "code",
   "execution_count": 35,
   "metadata": {},
   "outputs": [],
   "source": [
    "# # visualizing loss and accuracy per epoch\n",
    "# model3_train_loss = model3_history.history['loss']\n",
    "# model3_train_acc = model3_history.history['acc']\n",
    "# model3_val_loss = model3_history.history['val_loss']\n",
    "# model3_val_acc = model3_history.history['val_acc']\n",
    "\n",
    "\n",
    "# fig, (ax1, ax2) = plt.subplots(1, 2, figsize=(10, 5))\n",
    "\n",
    "# sns.lineplot(x=model3_history.epoch, y=model3_train_loss, ax=ax1, label='training loss')\n",
    "# sns.lineplot(x=model3_history.epoch, y=model3_train_acc, ax=ax2, label='training accuracy')\n",
    "\n",
    "# sns.lineplot(x=model3_history.epoch, y=model3_val_loss, ax=ax1, label='validation loss')\n",
    "# sns.lineplot(x=model3_history.epoch, y=model3_val_acc, ax=ax2, label='validation accuracy');"
   ]
  },
  {
   "cell_type": "markdown",
   "metadata": {},
   "source": [
    "### CNN Iteration 4"
   ]
  },
  {
   "cell_type": "markdown",
   "metadata": {},
   "source": [
    "Here I will increase upon iteration 3, by increasing the filter size of the CONV2d Layers"
   ]
  },
  {
   "cell_type": "code",
   "execution_count": 36,
   "metadata": {},
   "outputs": [],
   "source": [
    "# model4 = models.Sequential()\n",
    "\n",
    "# # Stack 1\n",
    "# model4.add(layers.Conv2D(filters = 64,\n",
    "#                          kernel_size=(3,3),\n",
    "#                          activation='relu',\n",
    "#                          input_shape = (global_target_size[0],global_target_size[0], 3)\n",
    "#                         ))\n",
    "# model4.add(layers.MaxPooling2D(pool_size = (2, 2)))\n",
    "\n",
    "# # Stack 2\n",
    "# model4.add(layers.Conv2D(64, (4, 4), activation='relu'))\n",
    "# model4.add(layers.MaxPooling2D((2, 2)))\n",
    "\n",
    "# # Stack 3\n",
    "# model4.add(layers.Conv2D(128, (3, 3), activation='relu'))\n",
    "# model4.add(layers.MaxPooling2D((2, 2)))\n",
    "\n",
    "# # Stack 4\n",
    "# model4.add(layers.Conv2D(128, (3, 3), activation='relu'))\n",
    "# model4.add(layers.MaxPooling2D((2, 2)))\n",
    "\n",
    "# # Flattening layer\n",
    "# model4.add(layers.Flatten())\n",
    "\n",
    "# # Dense layer 1\n",
    "# model4.add(layers.Dense(64, activation='relu'))\n",
    "\n",
    "# # Dense layer 2 - output layer\n",
    "# model4.add(layers.Dense(1, activation='sigmoid'))\n",
    "\n",
    "# model4.compile(loss='binary_crossentropy',\n",
    "#               optimizer = 'adam',\n",
    "#               metrics=['acc'])"
   ]
  },
  {
   "cell_type": "code",
   "execution_count": 37,
   "metadata": {},
   "outputs": [],
   "source": [
    "# model4_history = model4.fit(train_data,\n",
    "#                     epochs=global_epochs,\n",
    "#                     validation_data = val_data\n",
    "#                    )"
   ]
  },
  {
   "cell_type": "code",
   "execution_count": 38,
   "metadata": {},
   "outputs": [],
   "source": [
    "# model_4_train_results = model4.evaluate(train_data)\n",
    "# model_4_train_results\n",
    "\n",
    "# model_4_val_results = model4.evaluate(val_data)\n",
    "# model_4_val_results"
   ]
  },
  {
   "cell_type": "code",
   "execution_count": 39,
   "metadata": {},
   "outputs": [],
   "source": [
    "# score_dictionary['model 4'] = (model_4_train_results,model_4_val_results)"
   ]
  },
  {
   "cell_type": "code",
   "execution_count": 40,
   "metadata": {},
   "outputs": [],
   "source": [
    "# # visualizing loss and accuracy per epoch\n",
    "# model4_train_loss = model4_history.history['loss']\n",
    "# model4_train_acc = model4_history.history['acc']\n",
    "# model4_val_loss = model4_history.history['val_loss']\n",
    "# model4_val_acc = model4_history.history['val_acc']\n",
    "\n",
    "\n",
    "# fig, (ax1, ax2) = plt.subplots(1, 2, figsize=(10, 5))\n",
    "\n",
    "# sns.lineplot(x=model4_history.epoch, y=model4_train_loss, ax=ax1, label='training loss')\n",
    "# sns.lineplot(x=model4_history.epoch, y=model4_train_acc, ax=ax2, label='training accuracy')\n",
    "\n",
    "# sns.lineplot(x=model4_history.epoch, y=model4_val_loss, ax=ax1, label='validation loss')\n",
    "# sns.lineplot(x=model4_history.epoch, y=model4_val_acc, ax=ax2, label='validation accuracy');"
   ]
  },
  {
   "cell_type": "markdown",
   "metadata": {},
   "source": [
    "### CNN Iteration 5"
   ]
  },
  {
   "cell_type": "markdown",
   "metadata": {},
   "source": [
    "Here, I am taking model 3's architecture and tweaking it by adding more convolutional layers and also increasing the filter sizes by an order of 2"
   ]
  },
  {
   "cell_type": "code",
   "execution_count": 41,
   "metadata": {},
   "outputs": [],
   "source": [
    "model5 = models.Sequential()\n",
    "\n",
    "# Stack 1\n",
    "model5.add(layers.Conv2D(filters = 64,\n",
    "                         kernel_size=(3,3),\n",
    "                         activation='relu',\n",
    "                         input_shape = (global_target_size[0],global_target_size[0], 3),\n",
    "                         padding = 'same'\n",
    "                        ))\n",
    "model5.add(layers.MaxPooling2D(pool_size = (4,4),\n",
    "                         padding = 'same'))\n",
    "\n",
    "# Stack 2\n",
    "model5.add(layers.Conv2D(32, (3,3), activation='relu',padding = 'same'))\n",
    "model5.add(layers.MaxPooling2D((2, 2),\n",
    "                         padding = 'same'))\n",
    "\n",
    "# Stack 3\n",
    "model5.add(layers.Conv2D(64, (4,4), activation='relu'))\n",
    "model5.add(layers.MaxPooling2D((2, 2),\n",
    "                         padding = 'same'))\n",
    "\n",
    "# Stack 4\n",
    "model5.add(layers.Conv2D(128, (3,3), activation='relu',padding='same'))\n",
    "model5.add(layers.MaxPooling2D((2, 2),\n",
    "                         padding = 'same'))\n",
    "\n",
    "# Stack 5\n",
    "model5.add(layers.Conv2D(128, (4,4), activation='relu',padding = 'same'))\n",
    "model5.add(layers.MaxPooling2D((2, 2),\n",
    "                         padding = 'same'))\n",
    "\n",
    "# Stack 5\n",
    "model5.add(layers.Conv2D(256, (4,4), activation='relu',padding = 'same'))\n",
    "model5.add(layers.MaxPooling2D((2, 2),\n",
    "                         padding = 'same'))\n",
    "\n",
    "# Flattening layer\n",
    "model5.add(layers.Flatten())\n",
    "\n",
    "# Dense layer 1\n",
    "model5.add(layers.Dense(64, activation='relu'))\n",
    "\n",
    "# Dense layer 2 - output layer\n",
    "model5.add(layers.Dense(1, activation='sigmoid'))\n",
    "\n",
    "model5.compile(loss='binary_crossentropy',\n",
    "              optimizer = 'adam',\n",
    "              metrics=['acc'])"
   ]
  },
  {
   "cell_type": "code",
   "execution_count": 42,
   "metadata": {},
   "outputs": [
    {
     "name": "stdout",
     "output_type": "stream",
     "text": [
      "Epoch 1/100\n",
      "31/31 [==============================] - 50s 2s/step - loss: 0.6930 - acc: 0.5236 - val_loss: 0.6922 - val_acc: 0.4768\n",
      "Epoch 2/100\n",
      "31/31 [==============================] - 48s 2s/step - loss: 0.6927 - acc: 0.5226 - val_loss: 0.6801 - val_acc: 0.7245\n",
      "Epoch 3/100\n",
      "31/31 [==============================] - 50s 2s/step - loss: 0.6890 - acc: 0.5493 - val_loss: 0.6920 - val_acc: 0.5232\n",
      "Epoch 4/100\n",
      "31/31 [==============================] - 47s 2s/step - loss: 0.6920 - acc: 0.5226 - val_loss: 0.6888 - val_acc: 0.5232\n",
      "Epoch 5/100\n",
      "31/31 [==============================] - 46s 1s/step - loss: 0.6916 - acc: 0.5195 - val_loss: 0.6885 - val_acc: 0.5232\n",
      "Epoch 6/100\n",
      "31/31 [==============================] - 44s 1s/step - loss: 0.6704 - acc: 0.5996 - val_loss: 0.6098 - val_acc: 0.7152\n",
      "Epoch 7/100\n",
      "31/31 [==============================] - 50s 2s/step - loss: 0.5860 - acc: 0.6930 - val_loss: 0.4722 - val_acc: 0.7926\n",
      "Epoch 8/100\n",
      "31/31 [==============================] - 47s 2s/step - loss: 0.5343 - acc: 0.7526 - val_loss: 0.4802 - val_acc: 0.7895\n",
      "Epoch 9/100\n",
      "31/31 [==============================] - 48s 2s/step - loss: 0.4725 - acc: 0.7741 - val_loss: 0.4633 - val_acc: 0.8235\n",
      "Epoch 10/100\n",
      "31/31 [==============================] - 59s 2s/step - loss: 0.4439 - acc: 0.7998 - val_loss: 0.4745 - val_acc: 0.7802\n",
      "Epoch 11/100\n",
      "31/31 [==============================] - 52s 2s/step - loss: 0.3941 - acc: 0.8214 - val_loss: 0.4073 - val_acc: 0.8266\n",
      "Epoch 12/100\n",
      "31/31 [==============================] - 49s 2s/step - loss: 0.3490 - acc: 0.8552 - val_loss: 0.4101 - val_acc: 0.8142\n",
      "Epoch 13/100\n",
      "31/31 [==============================] - 46s 1s/step - loss: 0.2847 - acc: 0.8789 - val_loss: 0.4481 - val_acc: 0.8235\n",
      "Epoch 14/100\n",
      "31/31 [==============================] - 48s 2s/step - loss: 0.2418 - acc: 0.9055 - val_loss: 0.4710 - val_acc: 0.8173\n",
      "Epoch 15/100\n",
      "31/31 [==============================] - 47s 2s/step - loss: 0.1869 - acc: 0.9189 - val_loss: 0.7264 - val_acc: 0.7895\n",
      "Epoch 16/100\n",
      "31/31 [==============================] - 43s 1s/step - loss: 0.1984 - acc: 0.9189 - val_loss: 0.5521 - val_acc: 0.7864\n",
      "Epoch 17/100\n",
      "31/31 [==============================] - 43s 1s/step - loss: 0.1072 - acc: 0.9589 - val_loss: 0.7761 - val_acc: 0.7957\n",
      "Epoch 18/100\n",
      "31/31 [==============================] - 43s 1s/step - loss: 0.0975 - acc: 0.9538 - val_loss: 0.6674 - val_acc: 0.8142\n",
      "Epoch 19/100\n",
      "31/31 [==============================] - 43s 1s/step - loss: 0.0389 - acc: 0.9897 - val_loss: 0.8272 - val_acc: 0.8142\n",
      "Epoch 20/100\n",
      "31/31 [==============================] - 45s 1s/step - loss: 0.0218 - acc: 0.9938 - val_loss: 1.1390 - val_acc: 0.7957\n",
      "Epoch 21/100\n",
      "31/31 [==============================] - 50s 2s/step - loss: 0.0414 - acc: 0.9795 - val_loss: 1.0891 - val_acc: 0.7616\n",
      "Epoch 22/100\n",
      "31/31 [==============================] - 48s 2s/step - loss: 0.0716 - acc: 0.9754 - val_loss: 0.8220 - val_acc: 0.8328\n",
      "Epoch 23/100\n",
      "31/31 [==============================] - 47s 2s/step - loss: 0.0449 - acc: 0.9805 - val_loss: 0.8502 - val_acc: 0.8111\n",
      "Epoch 24/100\n",
      "31/31 [==============================] - 46s 1s/step - loss: 0.0276 - acc: 0.9908 - val_loss: 1.0211 - val_acc: 0.8390\n",
      "Epoch 25/100\n",
      "31/31 [==============================] - 48s 2s/step - loss: 0.0044 - acc: 0.9990 - val_loss: 1.0783 - val_acc: 0.8390\n",
      "Epoch 26/100\n",
      "31/31 [==============================] - 51s 2s/step - loss: 8.1643e-04 - acc: 1.0000 - val_loss: 1.1892 - val_acc: 0.8390\n",
      "Epoch 27/100\n",
      "31/31 [==============================] - 59s 2s/step - loss: 4.2148e-04 - acc: 1.0000 - val_loss: 1.2002 - val_acc: 0.8421\n",
      "Epoch 28/100\n",
      "31/31 [==============================] - 58s 2s/step - loss: 2.8430e-04 - acc: 1.0000 - val_loss: 1.2225 - val_acc: 0.8421\n",
      "Epoch 29/100\n",
      "31/31 [==============================] - 55s 2s/step - loss: 2.2877e-04 - acc: 1.0000 - val_loss: 1.2536 - val_acc: 0.8452\n",
      "Epoch 30/100\n",
      "31/31 [==============================] - 49s 2s/step - loss: 1.9064e-04 - acc: 1.0000 - val_loss: 1.2732 - val_acc: 0.8452\n",
      "Epoch 31/100\n",
      "31/31 [==============================] - 48s 2s/step - loss: 1.6407e-04 - acc: 1.0000 - val_loss: 1.2865 - val_acc: 0.8452\n",
      "Epoch 32/100\n",
      "31/31 [==============================] - 52s 2s/step - loss: 1.4316e-04 - acc: 1.0000 - val_loss: 1.3076 - val_acc: 0.8452\n",
      "Epoch 33/100\n",
      "31/31 [==============================] - 46s 1s/step - loss: 1.2599e-04 - acc: 1.0000 - val_loss: 1.3241 - val_acc: 0.8452\n",
      "Epoch 34/100\n",
      "31/31 [==============================] - 44s 1s/step - loss: 1.1262e-04 - acc: 1.0000 - val_loss: 1.3390 - val_acc: 0.8452\n",
      "Epoch 35/100\n",
      "31/31 [==============================] - 43s 1s/step - loss: 1.0188e-04 - acc: 1.0000 - val_loss: 1.3498 - val_acc: 0.8514\n",
      "Epoch 36/100\n",
      "31/31 [==============================] - 49s 2s/step - loss: 9.0921e-05 - acc: 1.0000 - val_loss: 1.3649 - val_acc: 0.8452\n",
      "Epoch 37/100\n",
      "31/31 [==============================] - 51s 2s/step - loss: 8.3686e-05 - acc: 1.0000 - val_loss: 1.3784 - val_acc: 0.8514\n",
      "Epoch 38/100\n",
      "31/31 [==============================] - 43s 1s/step - loss: 7.6220e-05 - acc: 1.0000 - val_loss: 1.3926 - val_acc: 0.8452\n",
      "Epoch 39/100\n",
      "31/31 [==============================] - 42s 1s/step - loss: 7.0264e-05 - acc: 1.0000 - val_loss: 1.4002 - val_acc: 0.8514\n",
      "Epoch 40/100\n",
      "31/31 [==============================] - 43s 1s/step - loss: 6.4518e-05 - acc: 1.0000 - val_loss: 1.4112 - val_acc: 0.8483\n",
      "Epoch 41/100\n",
      "31/31 [==============================] - 45s 1s/step - loss: 6.0152e-05 - acc: 1.0000 - val_loss: 1.4191 - val_acc: 0.8514\n",
      "Epoch 42/100\n",
      "31/31 [==============================] - 43s 1s/step - loss: 5.5638e-05 - acc: 1.0000 - val_loss: 1.4282 - val_acc: 0.8483\n",
      "Epoch 43/100\n",
      "31/31 [==============================] - 43s 1s/step - loss: 5.1817e-05 - acc: 1.0000 - val_loss: 1.4385 - val_acc: 0.8483\n",
      "Epoch 44/100\n",
      "31/31 [==============================] - 44s 1s/step - loss: 4.8416e-05 - acc: 1.0000 - val_loss: 1.4469 - val_acc: 0.8483\n",
      "Epoch 45/100\n",
      "31/31 [==============================] - 43s 1s/step - loss: 4.5377e-05 - acc: 1.0000 - val_loss: 1.4555 - val_acc: 0.8483\n",
      "Epoch 46/100\n",
      "31/31 [==============================] - 43s 1s/step - loss: 4.2671e-05 - acc: 1.0000 - val_loss: 1.4621 - val_acc: 0.8483\n",
      "Epoch 47/100\n",
      "31/31 [==============================] - 43s 1s/step - loss: 4.0241e-05 - acc: 1.0000 - val_loss: 1.4736 - val_acc: 0.8483\n",
      "Epoch 48/100\n",
      "31/31 [==============================] - 43s 1s/step - loss: 3.7753e-05 - acc: 1.0000 - val_loss: 1.4788 - val_acc: 0.8483\n",
      "Epoch 49/100\n",
      "31/31 [==============================] - 44s 1s/step - loss: 3.5462e-05 - acc: 1.0000 - val_loss: 1.4843 - val_acc: 0.8483\n",
      "Epoch 50/100\n",
      "31/31 [==============================] - 48s 2s/step - loss: 3.3540e-05 - acc: 1.0000 - val_loss: 1.4926 - val_acc: 0.8483\n",
      "Epoch 51/100\n",
      "31/31 [==============================] - 45s 1s/step - loss: 3.1798e-05 - acc: 1.0000 - val_loss: 1.4987 - val_acc: 0.8483\n",
      "Epoch 52/100\n",
      "31/31 [==============================] - 44s 1s/step - loss: 3.0239e-05 - acc: 1.0000 - val_loss: 1.5060 - val_acc: 0.8483\n",
      "Epoch 53/100\n",
      "31/31 [==============================] - 46s 1s/step - loss: 2.8698e-05 - acc: 1.0000 - val_loss: 1.5105 - val_acc: 0.8483\n",
      "Epoch 54/100\n",
      "31/31 [==============================] - 44s 1s/step - loss: 2.7356e-05 - acc: 1.0000 - val_loss: 1.5163 - val_acc: 0.8483\n",
      "Epoch 55/100\n",
      "31/31 [==============================] - 45s 1s/step - loss: 2.6109e-05 - acc: 1.0000 - val_loss: 1.5253 - val_acc: 0.8483\n",
      "Epoch 56/100\n",
      "31/31 [==============================] - 43s 1s/step - loss: 2.4873e-05 - acc: 1.0000 - val_loss: 1.5301 - val_acc: 0.8483\n",
      "Epoch 57/100\n",
      "31/31 [==============================] - 48s 2s/step - loss: 2.3703e-05 - acc: 1.0000 - val_loss: 1.5354 - val_acc: 0.8483\n",
      "Epoch 58/100\n",
      "31/31 [==============================] - 45s 1s/step - loss: 2.2623e-05 - acc: 1.0000 - val_loss: 1.5414 - val_acc: 0.8483\n",
      "Epoch 59/100\n",
      "31/31 [==============================] - 49s 2s/step - loss: 2.1668e-05 - acc: 1.0000 - val_loss: 1.5466 - val_acc: 0.8483\n",
      "Epoch 60/100\n",
      "31/31 [==============================] - 52s 2s/step - loss: 2.0708e-05 - acc: 1.0000 - val_loss: 1.5524 - val_acc: 0.8483\n",
      "Epoch 61/100\n",
      "31/31 [==============================] - 53s 2s/step - loss: 1.9816e-05 - acc: 1.0000 - val_loss: 1.5578 - val_acc: 0.8483\n",
      "Epoch 62/100\n"
     ]
    },
    {
     "name": "stdout",
     "output_type": "stream",
     "text": [
      "31/31 [==============================] - 55s 2s/step - loss: 1.9002e-05 - acc: 1.0000 - val_loss: 1.5636 - val_acc: 0.8483\n",
      "Epoch 63/100\n",
      "31/31 [==============================] - 53s 2s/step - loss: 1.8233e-05 - acc: 1.0000 - val_loss: 1.5668 - val_acc: 0.8483\n",
      "Epoch 64/100\n",
      "31/31 [==============================] - 52s 2s/step - loss: 1.7485e-05 - acc: 1.0000 - val_loss: 1.5716 - val_acc: 0.8483\n",
      "Epoch 65/100\n",
      "31/31 [==============================] - 52s 2s/step - loss: 1.6843e-05 - acc: 1.0000 - val_loss: 1.5760 - val_acc: 0.8483\n",
      "Epoch 66/100\n",
      "31/31 [==============================] - 52s 2s/step - loss: 1.6155e-05 - acc: 1.0000 - val_loss: 1.5828 - val_acc: 0.8483\n",
      "Epoch 67/100\n",
      "31/31 [==============================] - 51s 2s/step - loss: 1.5541e-05 - acc: 1.0000 - val_loss: 1.5868 - val_acc: 0.8483\n",
      "Epoch 68/100\n",
      "31/31 [==============================] - 52s 2s/step - loss: 1.4953e-05 - acc: 1.0000 - val_loss: 1.5927 - val_acc: 0.8483\n",
      "Epoch 69/100\n",
      "31/31 [==============================] - 52s 2s/step - loss: 1.4394e-05 - acc: 1.0000 - val_loss: 1.5962 - val_acc: 0.8483\n",
      "Epoch 70/100\n",
      "31/31 [==============================] - 58s 2s/step - loss: 1.3853e-05 - acc: 1.0000 - val_loss: 1.5998 - val_acc: 0.8483\n",
      "Epoch 71/100\n",
      "31/31 [==============================] - 53s 2s/step - loss: 1.3382e-05 - acc: 1.0000 - val_loss: 1.6035 - val_acc: 0.8483\n",
      "Epoch 72/100\n",
      "31/31 [==============================] - 64s 2s/step - loss: 1.2896e-05 - acc: 1.0000 - val_loss: 1.6095 - val_acc: 0.8483\n",
      "Epoch 73/100\n",
      "31/31 [==============================] - 54s 2s/step - loss: 1.2426e-05 - acc: 1.0000 - val_loss: 1.6135 - val_acc: 0.8483\n",
      "Epoch 74/100\n",
      "31/31 [==============================] - 51s 2s/step - loss: 1.2008e-05 - acc: 1.0000 - val_loss: 1.6179 - val_acc: 0.8483\n",
      "Epoch 75/100\n",
      "31/31 [==============================] - 63s 2s/step - loss: 1.1594e-05 - acc: 1.0000 - val_loss: 1.6225 - val_acc: 0.8483\n",
      "Epoch 76/100\n",
      "31/31 [==============================] - 54s 2s/step - loss: 1.1202e-05 - acc: 1.0000 - val_loss: 1.6270 - val_acc: 0.8483\n",
      "Epoch 77/100\n",
      "31/31 [==============================] - 51s 2s/step - loss: 1.0805e-05 - acc: 1.0000 - val_loss: 1.6313 - val_acc: 0.8483\n",
      "Epoch 78/100\n",
      "31/31 [==============================] - 56s 2s/step - loss: 1.0430e-05 - acc: 1.0000 - val_loss: 1.6359 - val_acc: 0.8483\n",
      "Epoch 79/100\n",
      "31/31 [==============================] - 52s 2s/step - loss: 1.0095e-05 - acc: 1.0000 - val_loss: 1.6405 - val_acc: 0.8483\n",
      "Epoch 80/100\n",
      "31/31 [==============================] - 51s 2s/step - loss: 9.7899e-06 - acc: 1.0000 - val_loss: 1.6423 - val_acc: 0.8483\n",
      "Epoch 81/100\n",
      "31/31 [==============================] - 51s 2s/step - loss: 9.4313e-06 - acc: 1.0000 - val_loss: 1.6471 - val_acc: 0.8483\n",
      "Epoch 82/100\n",
      "31/31 [==============================] - 55s 2s/step - loss: 9.1293e-06 - acc: 1.0000 - val_loss: 1.6516 - val_acc: 0.8483\n",
      "Epoch 83/100\n",
      "31/31 [==============================] - 51s 2s/step - loss: 8.8589e-06 - acc: 1.0000 - val_loss: 1.6570 - val_acc: 0.8483\n",
      "Epoch 84/100\n",
      "31/31 [==============================] - 51s 2s/step - loss: 8.5548e-06 - acc: 1.0000 - val_loss: 1.6591 - val_acc: 0.8483\n",
      "Epoch 85/100\n",
      "31/31 [==============================] - 51s 2s/step - loss: 8.2900e-06 - acc: 1.0000 - val_loss: 1.6623 - val_acc: 0.8452\n",
      "Epoch 86/100\n",
      "31/31 [==============================] - 51s 2s/step - loss: 8.0307e-06 - acc: 1.0000 - val_loss: 1.6655 - val_acc: 0.8452\n",
      "Epoch 87/100\n",
      "31/31 [==============================] - 55s 2s/step - loss: 7.8101e-06 - acc: 1.0000 - val_loss: 1.6711 - val_acc: 0.8452\n",
      "Epoch 88/100\n",
      "31/31 [==============================] - 57s 2s/step - loss: 7.5625e-06 - acc: 1.0000 - val_loss: 1.6732 - val_acc: 0.8452\n",
      "Epoch 89/100\n",
      "31/31 [==============================] - 54s 2s/step - loss: 7.3340e-06 - acc: 1.0000 - val_loss: 1.6768 - val_acc: 0.8452\n",
      "Epoch 90/100\n",
      "31/31 [==============================] - 53s 2s/step - loss: 7.1191e-06 - acc: 1.0000 - val_loss: 1.6814 - val_acc: 0.8452\n",
      "Epoch 91/100\n",
      "31/31 [==============================] - 53s 2s/step - loss: 6.9014e-06 - acc: 1.0000 - val_loss: 1.6854 - val_acc: 0.8452\n",
      "Epoch 92/100\n",
      "31/31 [==============================] - 53s 2s/step - loss: 6.7043e-06 - acc: 1.0000 - val_loss: 1.6891 - val_acc: 0.8452\n",
      "Epoch 93/100\n",
      "31/31 [==============================] - 52s 2s/step - loss: 6.5161e-06 - acc: 1.0000 - val_loss: 1.6916 - val_acc: 0.8452\n",
      "Epoch 94/100\n",
      "31/31 [==============================] - 52s 2s/step - loss: 6.3222e-06 - acc: 1.0000 - val_loss: 1.6962 - val_acc: 0.8452\n",
      "Epoch 95/100\n",
      "31/31 [==============================] - 53s 2s/step - loss: 6.1447e-06 - acc: 1.0000 - val_loss: 1.7011 - val_acc: 0.8452\n",
      "Epoch 96/100\n",
      "31/31 [==============================] - 52s 2s/step - loss: 5.9600e-06 - acc: 1.0000 - val_loss: 1.7025 - val_acc: 0.8452\n",
      "Epoch 97/100\n",
      "31/31 [==============================] - 52s 2s/step - loss: 5.8152e-06 - acc: 1.0000 - val_loss: 1.7053 - val_acc: 0.8452\n",
      "Epoch 98/100\n",
      "31/31 [==============================] - 51s 2s/step - loss: 5.6299e-06 - acc: 1.0000 - val_loss: 1.7106 - val_acc: 0.8452\n",
      "Epoch 99/100\n",
      "31/31 [==============================] - 46s 1s/step - loss: 5.4753e-06 - acc: 1.0000 - val_loss: 1.7135 - val_acc: 0.8452\n",
      "Epoch 100/100\n",
      "31/31 [==============================] - 44s 1s/step - loss: 5.3263e-06 - acc: 1.0000 - val_loss: 1.7158 - val_acc: 0.8452\n"
     ]
    }
   ],
   "source": [
    "model5_history = model5.fit(train_data,\n",
    "                    epochs=global_epochs,\n",
    "                    validation_data = val_data\n",
    "                   )"
   ]
  },
  {
   "cell_type": "code",
   "execution_count": 43,
   "metadata": {},
   "outputs": [
    {
     "name": "stdout",
     "output_type": "stream",
     "text": [
      "31/31 [==============================] - 28s 892ms/step - loss: 5.2194e-06 - acc: 1.0000\n",
      "11/11 [==============================] - 6s 550ms/step - loss: 1.7158 - acc: 0.8452\n"
     ]
    },
    {
     "data": {
      "text/plain": [
       "[1.7158452272415161, 0.8452012538909912]"
      ]
     },
     "execution_count": 43,
     "metadata": {},
     "output_type": "execute_result"
    }
   ],
   "source": [
    "model_5_train_results = model5.evaluate(train_data)\n",
    "model_5_train_results\n",
    "\n",
    "model_5_val_results = model5.evaluate(val_data)\n",
    "model_5_val_results"
   ]
  },
  {
   "cell_type": "code",
   "execution_count": 44,
   "metadata": {},
   "outputs": [],
   "source": [
    "score_dictionary['model 5'] = (model_5_train_results,model_5_val_results)"
   ]
  },
  {
   "cell_type": "code",
   "execution_count": 45,
   "metadata": {},
   "outputs": [
    {
     "data": {
      "image/png": "[encoded data removed]",
      "text/plain": [
       "<Figure size 720x360 with 2 Axes>"
      ]
     },
     "metadata": {
      "needs_background": "light"
     },
     "output_type": "display_data"
    }
   ],
   "source": [
    "# visualizing loss and accuracy per epoch\n",
    "model5_train_loss = model5_history.history['loss']\n",
    "model5_train_acc = model5_history.history['acc']\n",
    "model5_val_loss = model5_history.history['val_loss']\n",
    "model5_val_acc = model5_history.history['val_acc']\n",
    "\n",
    "\n",
    "fig, (ax1, ax2) = plt.subplots(1, 2, figsize=(10, 5))\n",
    "\n",
    "sns.lineplot(x=model5_history.epoch, y=model5_train_loss, ax=ax1, label='training loss')\n",
    "sns.lineplot(x=model5_history.epoch, y=model5_train_acc, ax=ax2, label='training accuracy')\n",
    "\n",
    "sns.lineplot(x=model5_history.epoch, y=model5_val_loss, ax=ax1, label='validation loss')\n",
    "sns.lineplot(x=model5_history.epoch, y=model5_val_acc, ax=ax2, label='validation accuracy');"
   ]
  },
  {
   "cell_type": "markdown",
   "metadata": {},
   "source": [
    "### CNN ITERATION 6"
   ]
  },
  {
   "cell_type": "markdown",
   "metadata": {},
   "source": [
    "For this iteration I will be changing the learning rate to .01 - Will be training this on iteration 3"
   ]
  },
  {
   "cell_type": "code",
   "execution_count": 46,
   "metadata": {},
   "outputs": [],
   "source": [
    "# adam_opt_01 = tf.keras.optimizers.Adam(\n",
    "#     learning_rate=0.01)"
   ]
  },
  {
   "cell_type": "code",
   "execution_count": 47,
   "metadata": {},
   "outputs": [],
   "source": [
    "# model6 = models.Sequential()\n",
    "\n",
    "# # Stack 1\n",
    "# model6.add(layers.Conv2D(filters = 32,\n",
    "#                          kernel_size=(3,3),\n",
    "#                          activation='relu',\n",
    "#                          input_shape = (global_target_size[0],global_target_size[0], 3)\n",
    "#                         ))\n",
    "# model6.add(layers.MaxPooling2D(pool_size = (2, 2)))\n",
    "\n",
    "# # Stack 2\n",
    "# model6.add(layers.Conv2D(32, (4, 4), activation='relu'))\n",
    "# model6.add(layers.MaxPooling2D((2, 2)))\n",
    "\n",
    "# # Stack 3\n",
    "# model6.add(layers.Conv2D(64, (3, 3), activation='relu'))\n",
    "# model6.add(layers.MaxPooling2D((2, 2)))\n",
    "\n",
    "# # Stack 4\n",
    "# model6.add(layers.Conv2D(64, (3, 3), activation='relu'))\n",
    "# model6.add(layers.MaxPooling2D((2, 2)))\n",
    "\n",
    "# # Flattening layer\n",
    "# model6.add(layers.Flatten())\n",
    "\n",
    "# # Dense layer 1\n",
    "# model6.add(layers.Dense(64, activation='relu'))\n",
    "\n",
    "# # Dense layer 2 - output layer\n",
    "# model6.add(layers.Dense(1, activation='sigmoid'))\n",
    "\n",
    "# model6.compile(loss='binary_crossentropy',\n",
    "#               optimizer = adam_opt_01,\n",
    "#               metrics=['acc'])"
   ]
  },
  {
   "cell_type": "code",
   "execution_count": 48,
   "metadata": {},
   "outputs": [],
   "source": [
    "# model6_history = model6.fit(train_data,\n",
    "#                     epochs=global_epochs,\n",
    "#                     validation_data = val_data\n",
    "#                    )"
   ]
  },
  {
   "cell_type": "code",
   "execution_count": 49,
   "metadata": {},
   "outputs": [],
   "source": [
    "# model_6_train_results = model6.evaluate(train_data)\n",
    "# model_6_train_results\n",
    "\n",
    "# model_6_val_results = model6.evaluate(val_data)\n",
    "# model_6_val_results"
   ]
  },
  {
   "cell_type": "code",
   "execution_count": 50,
   "metadata": {},
   "outputs": [],
   "source": [
    "# score_dictionary['model 6'] = (model_6_train_results,model_6_val_results)"
   ]
  },
  {
   "cell_type": "code",
   "execution_count": 51,
   "metadata": {},
   "outputs": [],
   "source": [
    "# # visualizing loss and accuracy per epoch\n",
    "# model6_train_loss = model6_history.history['loss']\n",
    "# model6_train_acc = model6_history.history['acc']\n",
    "# model6_val_loss = model6_history.history['val_loss']\n",
    "# model6_val_acc = model6_history.history['val_acc']\n",
    "\n",
    "\n",
    "# fig, (ax1, ax2) = plt.subplots(1, 2, figsize=(10, 5))\n",
    "\n",
    "# sns.lineplot(x=model6_history.epoch, y=model6_train_loss, ax=ax1, label='training loss')\n",
    "# sns.lineplot(x=model6_history.epoch, y=model6_train_acc, ax=ax2, label='training accuracy')\n",
    "\n",
    "# sns.lineplot(x=model6_history.epoch, y=model6_val_loss, ax=ax1, label='validation loss')\n",
    "# sns.lineplot(x=model6_history.epoch, y=model6_val_acc, ax=ax2, label='validation accuracy');"
   ]
  },
  {
   "cell_type": "markdown",
   "metadata": {},
   "source": [
    "### CNN ITERATION 7"
   ]
  },
  {
   "cell_type": "markdown",
   "metadata": {},
   "source": [
    "For this iteration, I am using the same architecture as model 3, but I am using a learning rate for the adam optimizer of .0001"
   ]
  },
  {
   "cell_type": "code",
   "execution_count": 52,
   "metadata": {},
   "outputs": [],
   "source": [
    "# adam_opt_0001 = tf.keras.optimizers.Adam(\n",
    "#     learning_rate=0.0001)"
   ]
  },
  {
   "cell_type": "code",
   "execution_count": 53,
   "metadata": {},
   "outputs": [],
   "source": [
    "# model7 = models.Sequential()\n",
    "\n",
    "# # Stack 1\n",
    "# model7.add(layers.Conv2D(filters = 32,\n",
    "#                          kernel_size=(3,3),\n",
    "#                          activation='relu',\n",
    "#                          input_shape = (global_target_size[0],global_target_size[0], 3)\n",
    "#                         ))\n",
    "# model7.add(layers.MaxPooling2D(pool_size = (2, 2)))\n",
    "\n",
    "# # Stack 2\n",
    "# model7.add(layers.Conv2D(32, (4, 4), activation='relu'))\n",
    "# model7.add(layers.MaxPooling2D((2, 2)))\n",
    "\n",
    "# # Stack 3\n",
    "# model7.add(layers.Conv2D(64, (3, 3), activation='relu'))\n",
    "# model7.add(layers.MaxPooling2D((2, 2)))\n",
    "\n",
    "# # Stack 4\n",
    "# model7.add(layers.Conv2D(64, (3, 3), activation='relu'))\n",
    "# model7.add(layers.MaxPooling2D((2, 2)))\n",
    "\n",
    "# # Flattening layer\n",
    "# model7.add(layers.Flatten())\n",
    "\n",
    "# # Dense layer 1\n",
    "# model7.add(layers.Dense(64, activation='relu'))\n",
    "\n",
    "# # Dense layer 2 - output layer\n",
    "# model7.add(layers.Dense(1, activation='sigmoid'))\n",
    "\n",
    "# model7.compile(loss='binary_crossentropy',\n",
    "#               optimizer = adam_opt_0001,\n",
    "#               metrics=['acc'])"
   ]
  },
  {
   "cell_type": "code",
   "execution_count": 54,
   "metadata": {},
   "outputs": [],
   "source": [
    "# model7_history = model7.fit(train_data,\n",
    "#                     epochs=global_epochs,\n",
    "#                     validation_data = val_data\n",
    "#                    )"
   ]
  },
  {
   "cell_type": "code",
   "execution_count": 55,
   "metadata": {},
   "outputs": [],
   "source": [
    "# model_7_train_results = model7.evaluate(train_data)\n",
    "# model_7_train_results\n",
    "\n",
    "# model_7_val_results = model7.evaluate(val_data)\n",
    "# model_7_val_results"
   ]
  },
  {
   "cell_type": "code",
   "execution_count": 56,
   "metadata": {},
   "outputs": [],
   "source": [
    "# score_dictionary['model 7'] = (model_7_train_results,model_7_val_results)"
   ]
  },
  {
   "cell_type": "code",
   "execution_count": 57,
   "metadata": {},
   "outputs": [],
   "source": [
    "# # visualizing loss and accuracy per epoch\n",
    "# model7_train_loss = model7_history.history['loss']\n",
    "# model7_train_acc = model7_history.history['acc']\n",
    "# model7_val_loss = model7_history.history['val_loss']\n",
    "# model7_val_acc = model7_history.history['val_acc']\n",
    "\n",
    "\n",
    "# fig, (ax1, ax2) = plt.subplots(1, 2, figsize=(10, 5))\n",
    "\n",
    "# sns.lineplot(x=model7_history.epoch, y=model7_train_loss, ax=ax1, label='training loss')\n",
    "# sns.lineplot(x=model7_history.epoch, y=model7_train_acc, ax=ax2, label='training accuracy')\n",
    "\n",
    "# sns.lineplot(x=model7_history.epoch, y=model7_val_loss, ax=ax1, label='validation loss')\n",
    "# sns.lineplot(x=model7_history.epoch, y=model7_val_acc, ax=ax2, label='validation accuracy');"
   ]
  },
  {
   "cell_type": "markdown",
   "metadata": {},
   "source": [
    "### CNN ITERATION 8"
   ]
  },
  {
   "cell_type": "markdown",
   "metadata": {},
   "source": [
    "for this iteration, I will be using model 3's architecture and adding kernel regulizers to all the conv2d layers with an aggression level of .01"
   ]
  },
  {
   "cell_type": "code",
   "execution_count": 58,
   "metadata": {},
   "outputs": [],
   "source": [
    "# model8 = models.Sequential()\n",
    "\n",
    "# # Stack 1\n",
    "# model8.add(layers.Conv2D(filters = 32,\n",
    "#                          kernel_size=(3,3),\n",
    "#                          activation='relu',\n",
    "#                          input_shape = (global_target_size[0],global_target_size[0], 3),\n",
    "#                          kernel_regularizer = regularizers.L2(0.01)\n",
    "#                         ))\n",
    "# model8.add(layers.MaxPooling2D(pool_size = (2, 2)))\n",
    "\n",
    "# # Stack 2\n",
    "# model8.add(layers.Conv2D(32, (4, 4), activation='relu',kernel_regularizer = regularizers.L2(0.01)))\n",
    "# model8.add(layers.MaxPooling2D((2, 2)))\n",
    "\n",
    "# # Stack 3\n",
    "# model8.add(layers.Conv2D(64, (3, 3), activation='relu',kernel_regularizer = regularizers.L2(0.01)))\n",
    "# model8.add(layers.MaxPooling2D((2, 2)))\n",
    "\n",
    "# # Stack 4\n",
    "# model8.add(layers.Conv2D(64, (3, 3), activation='relu',kernel_regularizer = regularizers.L2(0.01)))\n",
    "# model8.add(layers.MaxPooling2D((2, 2)))\n",
    "\n",
    "# # Flattening layer\n",
    "# model8.add(layers.Flatten())\n",
    "\n",
    "# # Dense layer 1\n",
    "# model8.add(layers.Dense(64, activation='relu',kernel_regularizer = regularizers.L2(0.01)))\n",
    "\n",
    "# # Dense layer 2 - output layer\n",
    "# model8.add(layers.Dense(1, activation='sigmoid'))\n",
    "\n",
    "# model8.compile(loss='binary_crossentropy',\n",
    "#               optimizer = 'adam',\n",
    "#               metrics=['acc'])"
   ]
  },
  {
   "cell_type": "code",
   "execution_count": 59,
   "metadata": {},
   "outputs": [],
   "source": [
    "# model8_history = model8.fit(train_data,\n",
    "#                     epochs=global_epochs,\n",
    "#                     validation_data = val_data\n",
    "#                    )"
   ]
  },
  {
   "cell_type": "code",
   "execution_count": 60,
   "metadata": {},
   "outputs": [],
   "source": [
    "# model_8_train_results = model8.evaluate(train_data)\n",
    "# model_8_train_results\n",
    "\n",
    "# model_8_val_results = model8.evaluate(val_data)\n",
    "# model_8_val_results"
   ]
  },
  {
   "cell_type": "code",
   "execution_count": 61,
   "metadata": {},
   "outputs": [],
   "source": [
    "# score_dictionary['model 8'] = (model_8_train_results,model_8_val_results)"
   ]
  },
  {
   "cell_type": "code",
   "execution_count": 62,
   "metadata": {},
   "outputs": [],
   "source": [
    "# # visualizing loss and accuracy per epoch\n",
    "# model8_train_loss = model8_history.history['loss']\n",
    "# model8_train_acc = model8_history.history['acc']\n",
    "# model8_val_loss = model8_history.history['val_loss']\n",
    "# model8_val_acc = model8_history.history['val_acc']\n",
    "\n",
    "\n",
    "# fig, (ax1, ax2) = plt.subplots(1, 2, figsize=(10, 5))\n",
    "\n",
    "# sns.lineplot(x=model8_history.epoch, y=model8_train_loss, ax=ax1, label='training loss')\n",
    "# sns.lineplot(x=model8_history.epoch, y=model8_train_acc, ax=ax2, label='training accuracy')\n",
    "\n",
    "# sns.lineplot(x=model8_history.epoch, y=model8_val_loss, ax=ax1, label='validation loss')\n",
    "# sns.lineplot(x=model8_history.epoch, y=model8_val_acc, ax=ax2, label='validation accuracy');"
   ]
  },
  {
   "cell_type": "markdown",
   "metadata": {},
   "source": [
    "### CNN ITERATION 9 "
   ]
  },
  {
   "cell_type": "markdown",
   "metadata": {},
   "source": [
    " not implementing yet, but would like to try adding extra and seperate activation layers"
   ]
  },
  {
   "cell_type": "markdown",
   "metadata": {},
   "source": [
    "### CNN ITERATION 10"
   ]
  },
  {
   "cell_type": "markdown",
   "metadata": {},
   "source": [
    "Reusing model 1 architecture, try changing the kernel initializer in the conv2D layer to 'glorot_uniform'"
   ]
  },
  {
   "cell_type": "code",
   "execution_count": 63,
   "metadata": {},
   "outputs": [],
   "source": [
    "# model10 = models.Sequential()\n",
    "\n",
    "# # stack 1\n",
    "# model10.add(layers.Conv2D(32, (3, 3), activation='relu',\n",
    "#                         input_shape=(global_target_size[0], global_target_size[0],  3),\n",
    "#                           kernel_initializer='glorot_uniform'))\n",
    "# model10.add(layers.MaxPooling2D((2, 2)))\n",
    "\n",
    "# # stack 2\n",
    "# model10.add(layers.Conv2D(32, (4, 4), activation='relu',\n",
    "#                           kernel_initializer='glorot_uniform'))\n",
    "# model10.add(layers.MaxPooling2D((2, 2)))\n",
    "\n",
    "\n",
    "# # flattening layer\n",
    "# model10.add(layers.Flatten())\n",
    "\n",
    "# # Dense Layer 1 \n",
    "# model10.add(layers.Dense(32, activation='relu'))\n",
    "\n",
    "# # Dense Dropout layer 1 \n",
    "# model10.add(layers.Dropout(.25))\n",
    "\n",
    "# # Dense Layer 2 \n",
    "# model10.add(layers.Dense(64, activation='relu'))\n",
    "\n",
    "# # Dense Dropout Layer 2\n",
    "# model10.add(layers.Dropout(.5))\n",
    "\n",
    "# # Dense Layer 3\n",
    "# model10.add(layers.Dense(32, activation='relu'))\n",
    "\n",
    "# # Dense Layer 2 // output layer\n",
    "# model10.add(layers.Dense(1, activation='sigmoid'))\n",
    "\n",
    "\n",
    "# ## Compiling baseline \n",
    "# model10.compile(loss='binary_crossentropy',\n",
    "#               optimizer=\"adam\",\n",
    "#               metrics=['acc'])"
   ]
  },
  {
   "cell_type": "code",
   "execution_count": 64,
   "metadata": {},
   "outputs": [],
   "source": [
    "# model10_history = model10.fit(train_data,\n",
    "#                     epochs=global_epochs,\n",
    "#                     validation_data = val_data\n",
    "#                    )"
   ]
  },
  {
   "cell_type": "code",
   "execution_count": 65,
   "metadata": {},
   "outputs": [],
   "source": [
    "# model_10_train_results = model10.evaluate(train_data)\n",
    "# model_10_train_results\n",
    "\n",
    "# model_10_val_results = model10.evaluate(val_data)\n",
    "# model_10_val_results"
   ]
  },
  {
   "cell_type": "code",
   "execution_count": 66,
   "metadata": {},
   "outputs": [],
   "source": [
    "# score_dictionary['model 10'] = (model_10_train_results,model_10_val_results)"
   ]
  },
  {
   "cell_type": "code",
   "execution_count": 67,
   "metadata": {},
   "outputs": [],
   "source": [
    "# # visualizing loss and accuracy per epoch\n",
    "# model10_train_loss = model10_history.history['loss']\n",
    "# model10_train_acc = model10_history.history['acc']\n",
    "# model10_val_loss = model10_history.history['val_loss']\n",
    "# model10_val_acc = model10_history.history['val_acc']\n",
    "\n",
    "\n",
    "# fig, (ax1, ax2) = plt.subplots(1, 2, figsize=(10, 5))\n",
    "\n",
    "# sns.lineplot(x=model10_history.epoch, y=model10_train_loss, ax=ax1, label='training loss')\n",
    "# sns.lineplot(x=model10_history.epoch, y=model10_train_acc, ax=ax2, label='training accuracy')\n",
    "\n",
    "# sns.lineplot(x=model10_history.epoch, y=model10_val_loss, ax=ax1, label='validation loss')\n",
    "# sns.lineplot(x=model10_history.epoch, y=model10_val_acc, ax=ax2, label='validation accuracy');"
   ]
  },
  {
   "cell_type": "markdown",
   "metadata": {},
   "source": [
    "### CNN ITERATION 11 "
   ]
  },
  {
   "cell_type": "markdown",
   "metadata": {},
   "source": [
    "I am taking model 1's architecture and making this change:\n",
    "I am trying going deeper instead of wider, so adding more dense layers and removing some of the convolutional layer"
   ]
  },
  {
   "cell_type": "code",
   "execution_count": 68,
   "metadata": {},
   "outputs": [],
   "source": [
    "# model11 = models.Sequential()\n",
    "\n",
    "# # stack 1\n",
    "# model11.add(layers.Conv2D(32, (3, 3), activation='relu',\n",
    "#                         input_shape=(global_target_size[0], global_target_size[0],  3)))\n",
    "# model11.add(layers.MaxPooling2D((2, 2)))\n",
    "\n",
    "# # stack 2\n",
    "# model11.add(layers.Conv2D(64, (4, 4), activation='relu'))\n",
    "# model11.add(layers.MaxPooling2D((2, 2)))\n",
    "\n",
    "# # stack 3\n",
    "# model11.add(layers.Conv2D(64, (4, 4), activation='relu'))\n",
    "# model11.add(layers.MaxPooling2D((2, 2)))\n",
    "\n",
    "\n",
    "\n",
    "# # flattening layer\n",
    "# model11.add(layers.Flatten())\n",
    "\n",
    "# # Dense Layer 1 \n",
    "# model11.add(layers.Dense(64, activation='relu'))\n",
    "\n",
    "# # Dense Dropout layer 1 \n",
    "# model11.add(layers.Dropout(.1))\n",
    "\n",
    "# # Dense Layer 2 \n",
    "# model11.add(layers.Dense(64, activation='relu'))\n",
    "\n",
    "# # Dense Dropout Layer 2\n",
    "# model11.add(layers.Dropout(.25))\n",
    "\n",
    "# # Dense Layer 3 \n",
    "# model11.add(layers.Dense(64, activation='relu'))\n",
    "\n",
    "# # Dense Dropout Layer 3\n",
    "# model11.add(layers.Dropout(.5))\n",
    "\n",
    "# # Dense Layer 4\n",
    "# model11.add(layers.Dense(32, activation='relu'))\n",
    "\n",
    "# # Dense Layer 5 // output layer\n",
    "# model11.add(layers.Dense(1, activation='sigmoid'))\n",
    "\n",
    "\n",
    "# ## Compiling baseline \n",
    "# model11.compile(loss='binary_crossentropy',\n",
    "#               optimizer=\"adam\",\n",
    "#               metrics=['acc'])"
   ]
  },
  {
   "cell_type": "code",
   "execution_count": 69,
   "metadata": {},
   "outputs": [],
   "source": [
    "# model11_history = model11.fit(train_data,\n",
    "#                     epochs=global_epochs,\n",
    "#                     validation_data = val_data\n",
    "#                    )"
   ]
  },
  {
   "cell_type": "code",
   "execution_count": 70,
   "metadata": {},
   "outputs": [],
   "source": [
    "# model_11_train_results = model11.evaluate(train_data)\n",
    "# model_11_train_results\n",
    "\n",
    "# model_11_val_results = model11.evaluate(val_data)\n",
    "# model_11_val_results"
   ]
  },
  {
   "cell_type": "code",
   "execution_count": 71,
   "metadata": {},
   "outputs": [],
   "source": [
    "# score_dictionary['model 11'] = (model_11_train_results,model_11_val_results)"
   ]
  },
  {
   "cell_type": "code",
   "execution_count": 72,
   "metadata": {},
   "outputs": [],
   "source": [
    "# # visualizing loss and accuracy per epoch\n",
    "# model11_train_loss = model11_history.history['loss']\n",
    "# model11_train_acc = model11_history.history['acc']\n",
    "# model11_val_loss = model11_history.history['val_loss']\n",
    "# model11_val_acc = model11_history.history['val_acc']\n",
    "\n",
    "\n",
    "# fig, (ax1, ax2) = plt.subplots(1, 2, figsize=(10, 5))\n",
    "\n",
    "# sns.lineplot(x=model11_history.epoch, y=model11_train_loss, ax=ax1, label='training loss')\n",
    "# sns.lineplot(x=model11_history.epoch, y=model11_train_acc, ax=ax2, label='training accuracy')\n",
    "\n",
    "# sns.lineplot(x=model11_history.epoch, y=model11_val_loss, ax=ax1, label='validation loss')\n",
    "# sns.lineplot(x=model11_history.epoch, y=model11_val_acc, ax=ax2, label='validation accuracy');"
   ]
  },
  {
   "cell_type": "markdown",
   "metadata": {},
   "source": [
    "### CNN Model 12"
   ]
  },
  {
   "cell_type": "markdown",
   "metadata": {},
   "source": [
    "I have concluded that model 5 is my best so far. Model 5 got a validation accuracy of 84. For this iteration, I will use model 5's architecture and I will use  dropoout layers in between my convolutional layers to see if this reduces overfitting. "
   ]
  },
  {
   "cell_type": "code",
   "execution_count": 73,
   "metadata": {},
   "outputs": [],
   "source": [
    "model12 = models.Sequential()\n",
    "\n",
    "# Stack 1\n",
    "model12.add(layers.Conv2D(filters = 64,\n",
    "                         kernel_size=(3,3),\n",
    "                         activation='relu',\n",
    "                         input_shape = (global_target_size[0],global_target_size[0], 3),\n",
    "                         padding = 'same'\n",
    "                        ))\n",
    "model12.add(layers.MaxPooling2D(pool_size = (4,4),\n",
    "                         padding = 'same'))\n",
    "\n",
    "# Stack 2\n",
    "model12.add(layers.Conv2D(32, (3,3), activation='relu',padding = 'same'))\n",
    "model12.add(layers.MaxPooling2D((2, 2),\n",
    "                         padding = 'same'))\n",
    "\n",
    "\n",
    "\n",
    "# Stack 3\n",
    "model12.add(layers.Conv2D(64, (4,4), activation='relu'))\n",
    "model12.add(layers.MaxPooling2D((2, 2),\n",
    "                         padding = 'same'))\n",
    "# Dropout Layer 1\n",
    "model12.add(layers.Dropout(.1))\n",
    "\n",
    "# Stack 4\n",
    "model12.add(layers.Conv2D(128, (3,3), activation='relu',padding='same'))\n",
    "model12.add(layers.MaxPooling2D((2, 2),\n",
    "                         padding = 'same'))\n",
    "\n",
    "# Dropout Layer 2\n",
    "model12.add(layers.Dropout(.25))\n",
    "\n",
    "# Stack 5\n",
    "model12.add(layers.Conv2D(128, (4,4), activation='relu',padding = 'same'))\n",
    "model12.add(layers.MaxPooling2D((2, 2),\n",
    "                         padding = 'same'))\n",
    "# Dropout Layer 2\n",
    "model12.add(layers.Dropout(.4))\n",
    "\n",
    "# Stack 5\n",
    "model12.add(layers.Conv2D(256, (4,4), activation='relu',padding = 'same'))\n",
    "model12.add(layers.MaxPooling2D((2, 2),\n",
    "                         padding = 'same'))\n",
    "\n",
    "\n",
    "# Flattening layer\n",
    "model12.add(layers.Flatten())\n",
    "\n",
    "# Dense layer 1\n",
    "model12.add(layers.Dense(64, activation='relu'))\n",
    "\n",
    "# Dense layer 2 - output layer\n",
    "model12.add(layers.Dense(1, activation='sigmoid'))\n",
    "\n",
    "model12.compile(loss='binary_crossentropy',\n",
    "              optimizer = 'adam',\n",
    "              metrics=['acc'])"
   ]
  },
  {
   "cell_type": "code",
   "execution_count": 74,
   "metadata": {},
   "outputs": [
    {
     "name": "stdout",
     "output_type": "stream",
     "text": [
      "Model: \"sequential_1\"\n",
      "_________________________________________________________________\n",
      "Layer (type)                 Output Shape              Param #   \n",
      "=================================================================\n",
      "conv2d_6 (Conv2D)            (None, 127, 127, 64)      1792      \n",
      "_________________________________________________________________\n",
      "max_pooling2d_6 (MaxPooling2 (None, 32, 32, 64)        0         \n",
      "_________________________________________________________________\n",
      "conv2d_7 (Conv2D)            (None, 32, 32, 32)        18464     \n",
      "_________________________________________________________________\n",
      "max_pooling2d_7 (MaxPooling2 (None, 16, 16, 32)        0         \n",
      "_________________________________________________________________\n",
      "conv2d_8 (Conv2D)            (None, 13, 13, 64)        32832     \n",
      "_________________________________________________________________\n",
      "max_pooling2d_8 (MaxPooling2 (None, 7, 7, 64)          0         \n",
      "_________________________________________________________________\n",
      "dropout (Dropout)            (None, 7, 7, 64)          0         \n",
      "_________________________________________________________________\n",
      "conv2d_9 (Conv2D)            (None, 7, 7, 128)         73856     \n",
      "_________________________________________________________________\n",
      "max_pooling2d_9 (MaxPooling2 (None, 4, 4, 128)         0         \n",
      "_________________________________________________________________\n",
      "dropout_1 (Dropout)          (None, 4, 4, 128)         0         \n",
      "_________________________________________________________________\n",
      "conv2d_10 (Conv2D)           (None, 4, 4, 128)         262272    \n",
      "_________________________________________________________________\n",
      "max_pooling2d_10 (MaxPooling (None, 2, 2, 128)         0         \n",
      "_________________________________________________________________\n",
      "dropout_2 (Dropout)          (None, 2, 2, 128)         0         \n",
      "_________________________________________________________________\n",
      "conv2d_11 (Conv2D)           (None, 2, 2, 256)         524544    \n",
      "_________________________________________________________________\n",
      "max_pooling2d_11 (MaxPooling (None, 1, 1, 256)         0         \n",
      "_________________________________________________________________\n",
      "flatten_1 (Flatten)          (None, 256)               0         \n",
      "_________________________________________________________________\n",
      "dense_2 (Dense)              (None, 64)                16448     \n",
      "_________________________________________________________________\n",
      "dense_3 (Dense)              (None, 1)                 65        \n",
      "=================================================================\n",
      "Total params: 930,273\n",
      "Trainable params: 930,273\n",
      "Non-trainable params: 0\n",
      "_________________________________________________________________\n"
     ]
    }
   ],
   "source": [
    "model12.summary()"
   ]
  },
  {
   "cell_type": "code",
   "execution_count": 75,
   "metadata": {},
   "outputs": [
    {
     "name": "stdout",
     "output_type": "stream",
     "text": [
      "Epoch 1/100\n",
      "31/31 [==============================] - 44s 1s/step - loss: 0.6945 - acc: 0.4897 - val_loss: 0.6929 - val_acc: 0.5387\n",
      "Epoch 2/100\n",
      "31/31 [==============================] - 43s 1s/step - loss: 0.6928 - acc: 0.5267 - val_loss: 0.6906 - val_acc: 0.5263\n",
      "Epoch 3/100\n",
      "31/31 [==============================] - 44s 1s/step - loss: 0.6882 - acc: 0.5647 - val_loss: 0.6561 - val_acc: 0.6935\n",
      "Epoch 4/100\n",
      "31/31 [==============================] - 45s 1s/step - loss: 0.6636 - acc: 0.6150 - val_loss: 0.6382 - val_acc: 0.6223\n",
      "Epoch 5/100\n",
      "31/31 [==============================] - 46s 1s/step - loss: 0.6437 - acc: 0.6314 - val_loss: 0.5746 - val_acc: 0.7864\n",
      "Epoch 6/100\n",
      "31/31 [==============================] - 45s 1s/step - loss: 0.6053 - acc: 0.6807 - val_loss: 0.5200 - val_acc: 0.7430\n",
      "Epoch 7/100\n",
      "31/31 [==============================] - 43s 1s/step - loss: 0.5898 - acc: 0.6920 - val_loss: 0.4809 - val_acc: 0.7864\n",
      "Epoch 8/100\n",
      "31/31 [==============================] - 42s 1s/step - loss: 0.5301 - acc: 0.7413 - val_loss: 0.4610 - val_acc: 0.7740\n",
      "Epoch 9/100\n",
      "31/31 [==============================] - 44s 1s/step - loss: 0.5179 - acc: 0.7598 - val_loss: 0.4365 - val_acc: 0.8019\n",
      "Epoch 10/100\n",
      "31/31 [==============================] - 42s 1s/step - loss: 0.4482 - acc: 0.7957 - val_loss: 0.4228 - val_acc: 0.7957\n",
      "Epoch 11/100\n",
      "31/31 [==============================] - 44s 1s/step - loss: 0.4165 - acc: 0.8070 - val_loss: 0.3922 - val_acc: 0.8142\n",
      "Epoch 12/100\n",
      "31/31 [==============================] - 43s 1s/step - loss: 0.3606 - acc: 0.8450 - val_loss: 0.3513 - val_acc: 0.8452\n",
      "Epoch 13/100\n",
      "31/31 [==============================] - 46s 1s/step - loss: 0.3130 - acc: 0.8573 - val_loss: 0.4023 - val_acc: 0.8111\n",
      "Epoch 14/100\n",
      "31/31 [==============================] - 44s 1s/step - loss: 0.2982 - acc: 0.8686 - val_loss: 0.3144 - val_acc: 0.8483\n",
      "Epoch 15/100\n",
      "31/31 [==============================] - 44s 1s/step - loss: 0.2298 - acc: 0.9004 - val_loss: 0.3916 - val_acc: 0.8266\n",
      "Epoch 16/100\n",
      "31/31 [==============================] - 43s 1s/step - loss: 0.1917 - acc: 0.9322 - val_loss: 0.4633 - val_acc: 0.8080\n",
      "Epoch 17/100\n",
      "31/31 [==============================] - 44s 1s/step - loss: 0.1610 - acc: 0.9394 - val_loss: 0.4125 - val_acc: 0.8483\n",
      "Epoch 18/100\n",
      "31/31 [==============================] - 43s 1s/step - loss: 0.1530 - acc: 0.9405 - val_loss: 0.3989 - val_acc: 0.8514\n",
      "Epoch 19/100\n",
      "31/31 [==============================] - 43s 1s/step - loss: 0.0919 - acc: 0.9589 - val_loss: 0.6080 - val_acc: 0.8111\n",
      "Epoch 20/100\n",
      "31/31 [==============================] - 43s 1s/step - loss: 0.0962 - acc: 0.9651 - val_loss: 0.3595 - val_acc: 0.8978\n",
      "Epoch 21/100\n",
      "31/31 [==============================] - 45s 1s/step - loss: 0.0770 - acc: 0.9754 - val_loss: 0.4626 - val_acc: 0.8669\n",
      "Epoch 22/100\n",
      "31/31 [==============================] - 43s 1s/step - loss: 0.0706 - acc: 0.9774 - val_loss: 0.4423 - val_acc: 0.8700\n",
      "Epoch 23/100\n",
      "31/31 [==============================] - 48s 2s/step - loss: 0.0987 - acc: 0.9682 - val_loss: 0.3747 - val_acc: 0.8854\n",
      "Epoch 24/100\n",
      "31/31 [==============================] - 43s 1s/step - loss: 0.0749 - acc: 0.9692 - val_loss: 0.4576 - val_acc: 0.8607\n",
      "Epoch 25/100\n",
      "31/31 [==============================] - 43s 1s/step - loss: 0.0447 - acc: 0.9836 - val_loss: 0.6791 - val_acc: 0.8359\n",
      "Epoch 26/100\n",
      "31/31 [==============================] - 42s 1s/step - loss: 0.0366 - acc: 0.9825 - val_loss: 0.9602 - val_acc: 0.8142\n",
      "Epoch 27/100\n",
      "31/31 [==============================] - 42s 1s/step - loss: 0.1455 - acc: 0.9538 - val_loss: 0.4068 - val_acc: 0.8607\n",
      "Epoch 28/100\n",
      "31/31 [==============================] - 42s 1s/step - loss: 0.0658 - acc: 0.9795 - val_loss: 0.5162 - val_acc: 0.8607\n",
      "Epoch 29/100\n",
      "31/31 [==============================] - 45s 1s/step - loss: 0.0463 - acc: 0.9846 - val_loss: 0.5057 - val_acc: 0.8452\n",
      "Epoch 30/100\n",
      "31/31 [==============================] - 42s 1s/step - loss: 0.0474 - acc: 0.9856 - val_loss: 0.5123 - val_acc: 0.8576\n",
      "Epoch 31/100\n",
      "31/31 [==============================] - 43s 1s/step - loss: 0.0185 - acc: 0.9959 - val_loss: 0.5508 - val_acc: 0.8638\n",
      "Epoch 32/100\n",
      "31/31 [==============================] - 43s 1s/step - loss: 0.0232 - acc: 0.9908 - val_loss: 0.8842 - val_acc: 0.8111\n",
      "Epoch 33/100\n",
      "31/31 [==============================] - 42s 1s/step - loss: 0.0235 - acc: 0.9887 - val_loss: 0.5944 - val_acc: 0.8607\n",
      "Epoch 34/100\n",
      "31/31 [==============================] - 43s 1s/step - loss: 0.0525 - acc: 0.9846 - val_loss: 0.4836 - val_acc: 0.8669\n",
      "Epoch 35/100\n",
      "31/31 [==============================] - 42s 1s/step - loss: 0.0495 - acc: 0.9784 - val_loss: 0.5840 - val_acc: 0.8452\n",
      "Epoch 36/100\n",
      "31/31 [==============================] - 42s 1s/step - loss: 0.0379 - acc: 0.9908 - val_loss: 0.6136 - val_acc: 0.8390\n",
      "Epoch 37/100\n",
      "31/31 [==============================] - 43s 1s/step - loss: 0.0169 - acc: 0.9938 - val_loss: 0.8120 - val_acc: 0.8111\n",
      "Epoch 38/100\n",
      "31/31 [==============================] - 42s 1s/step - loss: 0.0470 - acc: 0.9887 - val_loss: 0.5729 - val_acc: 0.8421\n",
      "Epoch 39/100\n",
      "31/31 [==============================] - 42s 1s/step - loss: 0.0262 - acc: 0.9918 - val_loss: 0.8872 - val_acc: 0.8111\n",
      "Epoch 40/100\n",
      "31/31 [==============================] - 42s 1s/step - loss: 0.0423 - acc: 0.9856 - val_loss: 0.6701 - val_acc: 0.8173\n",
      "Epoch 41/100\n",
      "31/31 [==============================] - 43s 1s/step - loss: 0.0088 - acc: 0.9979 - val_loss: 0.7522 - val_acc: 0.8235\n",
      "Epoch 42/100\n",
      "31/31 [==============================] - 43s 1s/step - loss: 0.0090 - acc: 0.9969 - val_loss: 0.7065 - val_acc: 0.8607\n",
      "Epoch 43/100\n",
      "31/31 [==============================] - 42s 1s/step - loss: 0.0299 - acc: 0.9846 - val_loss: 1.0494 - val_acc: 0.7709\n",
      "Epoch 44/100\n",
      "31/31 [==============================] - 42s 1s/step - loss: 0.0470 - acc: 0.9897 - val_loss: 0.7110 - val_acc: 0.8297\n",
      "Epoch 45/100\n",
      "31/31 [==============================] - 43s 1s/step - loss: 0.0085 - acc: 0.9979 - val_loss: 0.7703 - val_acc: 0.8483\n",
      "Epoch 46/100\n",
      "31/31 [==============================] - 43s 1s/step - loss: 0.0086 - acc: 0.9979 - val_loss: 0.7740 - val_acc: 0.8452\n",
      "Epoch 47/100\n",
      "31/31 [==============================] - 43s 1s/step - loss: 0.0161 - acc: 0.9938 - val_loss: 0.8519 - val_acc: 0.8204\n",
      "Epoch 48/100\n",
      "31/31 [==============================] - 43s 1s/step - loss: 0.0160 - acc: 0.9969 - val_loss: 0.7694 - val_acc: 0.8576\n",
      "Epoch 49/100\n",
      "31/31 [==============================] - 42s 1s/step - loss: 0.0065 - acc: 0.9990 - val_loss: 1.1611 - val_acc: 0.8080\n",
      "Epoch 50/100\n",
      "31/31 [==============================] - 43s 1s/step - loss: 0.0333 - acc: 0.9938 - val_loss: 0.5718 - val_acc: 0.8545\n",
      "Epoch 51/100\n",
      "31/31 [==============================] - 43s 1s/step - loss: 0.0078 - acc: 0.9990 - val_loss: 0.7152 - val_acc: 0.8545\n",
      "Epoch 52/100\n",
      "31/31 [==============================] - 43s 1s/step - loss: 0.0012 - acc: 1.0000 - val_loss: 0.8037 - val_acc: 0.8483\n",
      "Epoch 53/100\n",
      "31/31 [==============================] - 43s 1s/step - loss: 3.5870e-04 - acc: 1.0000 - val_loss: 0.8687 - val_acc: 0.8483\n",
      "Epoch 54/100\n",
      "31/31 [==============================] - 42s 1s/step - loss: 7.4670e-04 - acc: 1.0000 - val_loss: 0.8535 - val_acc: 0.8514\n",
      "Epoch 55/100\n",
      "31/31 [==============================] - 43s 1s/step - loss: 1.7669e-04 - acc: 1.0000 - val_loss: 1.0030 - val_acc: 0.8607\n",
      "Epoch 56/100\n",
      "31/31 [==============================] - 43s 1s/step - loss: 1.9304e-04 - acc: 1.0000 - val_loss: 0.9459 - val_acc: 0.8483\n",
      "Epoch 57/100\n",
      "31/31 [==============================] - 42s 1s/step - loss: 5.5020e-04 - acc: 1.0000 - val_loss: 1.0523 - val_acc: 0.8452\n",
      "Epoch 58/100\n",
      "31/31 [==============================] - 43s 1s/step - loss: 1.2080e-04 - acc: 1.0000 - val_loss: 0.9882 - val_acc: 0.8483\n",
      "Epoch 59/100\n",
      "31/31 [==============================] - 43s 1s/step - loss: 2.3401e-04 - acc: 1.0000 - val_loss: 1.0439 - val_acc: 0.8483\n",
      "Epoch 60/100\n",
      "31/31 [==============================] - 42s 1s/step - loss: 2.4917e-04 - acc: 1.0000 - val_loss: 0.9830 - val_acc: 0.8390\n",
      "Epoch 61/100\n",
      "31/31 [==============================] - 43s 1s/step - loss: 1.4043e-04 - acc: 1.0000 - val_loss: 0.9448 - val_acc: 0.8514\n",
      "Epoch 62/100\n",
      "31/31 [==============================] - 42s 1s/step - loss: 5.2055e-05 - acc: 1.0000 - val_loss: 0.9906 - val_acc: 0.8483\n"
     ]
    },
    {
     "name": "stdout",
     "output_type": "stream",
     "text": [
      "Epoch 63/100\n",
      "31/31 [==============================] - 43s 1s/step - loss: 0.0313 - acc: 0.9969 - val_loss: 1.3522 - val_acc: 0.7833\n",
      "Epoch 64/100\n",
      "31/31 [==============================] - 42s 1s/step - loss: 0.0464 - acc: 0.9867 - val_loss: 0.7654 - val_acc: 0.8204\n",
      "Epoch 65/100\n",
      "31/31 [==============================] - 43s 1s/step - loss: 0.0232 - acc: 0.9918 - val_loss: 0.5734 - val_acc: 0.8638\n",
      "Epoch 66/100\n",
      "31/31 [==============================] - 42s 1s/step - loss: 0.0176 - acc: 0.9938 - val_loss: 0.8991 - val_acc: 0.7988\n",
      "Epoch 67/100\n",
      "31/31 [==============================] - 42s 1s/step - loss: 0.0121 - acc: 0.9959 - val_loss: 1.1195 - val_acc: 0.7709\n",
      "Epoch 68/100\n",
      "31/31 [==============================] - 42s 1s/step - loss: 0.0093 - acc: 0.9959 - val_loss: 0.9335 - val_acc: 0.8297\n",
      "Epoch 69/100\n",
      "31/31 [==============================] - 43s 1s/step - loss: 0.0039 - acc: 0.9990 - val_loss: 1.9002 - val_acc: 0.7492\n",
      "Epoch 70/100\n",
      "31/31 [==============================] - 43s 1s/step - loss: 0.0469 - acc: 0.9825 - val_loss: 0.6720 - val_acc: 0.8421\n",
      "Epoch 71/100\n",
      "31/31 [==============================] - 42s 1s/step - loss: 0.0174 - acc: 0.9949 - val_loss: 0.5936 - val_acc: 0.8545\n",
      "Epoch 72/100\n",
      "31/31 [==============================] - 43s 1s/step - loss: 0.0161 - acc: 0.9959 - val_loss: 0.9325 - val_acc: 0.8235\n",
      "Epoch 73/100\n",
      "31/31 [==============================] - 43s 1s/step - loss: 0.0100 - acc: 0.9969 - val_loss: 0.8084 - val_acc: 0.8545\n",
      "Epoch 74/100\n",
      "31/31 [==============================] - 42s 1s/step - loss: 0.0158 - acc: 0.9949 - val_loss: 0.7248 - val_acc: 0.8390\n",
      "Epoch 75/100\n",
      "31/31 [==============================] - 43s 1s/step - loss: 0.0069 - acc: 0.9979 - val_loss: 0.7988 - val_acc: 0.8607\n",
      "Epoch 76/100\n",
      "31/31 [==============================] - 43s 1s/step - loss: 0.0075 - acc: 0.9969 - val_loss: 0.7912 - val_acc: 0.8328\n",
      "Epoch 77/100\n",
      "31/31 [==============================] - 43s 1s/step - loss: 0.0175 - acc: 0.9928 - val_loss: 0.8643 - val_acc: 0.8328\n",
      "Epoch 78/100\n",
      "31/31 [==============================] - 43s 1s/step - loss: 0.0317 - acc: 0.9938 - val_loss: 0.7477 - val_acc: 0.8328\n",
      "Epoch 79/100\n",
      "31/31 [==============================] - 42s 1s/step - loss: 0.0241 - acc: 0.9887 - val_loss: 0.8154 - val_acc: 0.8483\n",
      "Epoch 80/100\n",
      "31/31 [==============================] - 42s 1s/step - loss: 0.0344 - acc: 0.9908 - val_loss: 0.5843 - val_acc: 0.8762\n",
      "Epoch 81/100\n",
      "31/31 [==============================] - 43s 1s/step - loss: 0.0152 - acc: 0.9938 - val_loss: 0.9764 - val_acc: 0.7988\n",
      "Epoch 82/100\n",
      "31/31 [==============================] - 42s 1s/step - loss: 0.0111 - acc: 0.9969 - val_loss: 0.8430 - val_acc: 0.8328\n",
      "Epoch 83/100\n",
      "31/31 [==============================] - 42s 1s/step - loss: 0.0160 - acc: 0.9949 - val_loss: 1.0624 - val_acc: 0.7926\n",
      "Epoch 84/100\n",
      "31/31 [==============================] - 43s 1s/step - loss: 0.0142 - acc: 0.9969 - val_loss: 0.6567 - val_acc: 0.8669\n",
      "Epoch 85/100\n",
      "31/31 [==============================] - 44s 1s/step - loss: 0.0021 - acc: 1.0000 - val_loss: 0.8143 - val_acc: 0.8576\n",
      "Epoch 86/100\n",
      "31/31 [==============================] - 43s 1s/step - loss: 5.5216e-04 - acc: 1.0000 - val_loss: 0.8001 - val_acc: 0.8762\n",
      "Epoch 87/100\n",
      "31/31 [==============================] - 43s 1s/step - loss: 5.9094e-04 - acc: 1.0000 - val_loss: 1.0336 - val_acc: 0.8390\n",
      "Epoch 88/100\n",
      "31/31 [==============================] - 43s 1s/step - loss: 2.8195e-04 - acc: 1.0000 - val_loss: 0.8877 - val_acc: 0.8793\n",
      "Epoch 89/100\n",
      "31/31 [==============================] - 44s 1s/step - loss: 2.3859e-04 - acc: 1.0000 - val_loss: 0.9178 - val_acc: 0.8793\n",
      "Epoch 90/100\n",
      "31/31 [==============================] - 43s 1s/step - loss: 2.1430e-04 - acc: 1.0000 - val_loss: 0.9124 - val_acc: 0.8793\n",
      "Epoch 91/100\n",
      "31/31 [==============================] - 43s 1s/step - loss: 2.0931e-04 - acc: 1.0000 - val_loss: 0.9231 - val_acc: 0.8731\n",
      "Epoch 92/100\n",
      "31/31 [==============================] - 42s 1s/step - loss: 0.0017 - acc: 0.9990 - val_loss: 0.8593 - val_acc: 0.8793\n",
      "Epoch 93/100\n",
      "31/31 [==============================] - 42s 1s/step - loss: 5.8651e-04 - acc: 1.0000 - val_loss: 0.8734 - val_acc: 0.8793\n",
      "Epoch 94/100\n",
      "31/31 [==============================] - 42s 1s/step - loss: 0.0015 - acc: 1.0000 - val_loss: 0.9318 - val_acc: 0.8824\n",
      "Epoch 95/100\n",
      "31/31 [==============================] - 43s 1s/step - loss: 1.3731e-04 - acc: 1.0000 - val_loss: 0.9428 - val_acc: 0.8793\n",
      "Epoch 96/100\n",
      "31/31 [==============================] - 43s 1s/step - loss: 5.0005e-04 - acc: 1.0000 - val_loss: 1.0042 - val_acc: 0.8762\n",
      "Epoch 97/100\n",
      "31/31 [==============================] - 43s 1s/step - loss: 4.3972e-04 - acc: 1.0000 - val_loss: 1.2326 - val_acc: 0.8421\n",
      "Epoch 98/100\n",
      "31/31 [==============================] - 42s 1s/step - loss: 1.4834e-04 - acc: 1.0000 - val_loss: 1.2639 - val_acc: 0.8390\n",
      "Epoch 99/100\n",
      "31/31 [==============================] - 42s 1s/step - loss: 1.3256e-04 - acc: 1.0000 - val_loss: 1.2187 - val_acc: 0.8483\n",
      "Epoch 100/100\n",
      "31/31 [==============================] - 42s 1s/step - loss: 0.0484 - acc: 0.9897 - val_loss: 0.8750 - val_acc: 0.8452\n"
     ]
    }
   ],
   "source": [
    "model12_history = model12.fit(train_data,\n",
    "                    epochs=global_epochs,\n",
    "                    validation_data = val_data\n",
    "                   )"
   ]
  },
  {
   "cell_type": "code",
   "execution_count": 76,
   "metadata": {},
   "outputs": [
    {
     "name": "stdout",
     "output_type": "stream",
     "text": [
      "31/31 [==============================] - 28s 896ms/step - loss: 0.0136 - acc: 0.9949\n",
      "11/11 [==============================] - 6s 544ms/step - loss: 0.8750 - acc: 0.8452\n"
     ]
    },
    {
     "data": {
      "text/plain": [
       "[0.8749893307685852, 0.8452012538909912]"
      ]
     },
     "execution_count": 76,
     "metadata": {},
     "output_type": "execute_result"
    }
   ],
   "source": [
    "model_12_train_results = model12.evaluate(train_data)\n",
    "model_12_train_results\n",
    "\n",
    "model_12_val_results = model12.evaluate(val_data)\n",
    "model_12_val_results"
   ]
  },
  {
   "cell_type": "code",
   "execution_count": 77,
   "metadata": {},
   "outputs": [],
   "source": [
    "score_dictionary['model 12'] = (model_12_train_results,model_12_val_results)"
   ]
  },
  {
   "cell_type": "code",
   "execution_count": 78,
   "metadata": {},
   "outputs": [
    {
     "data": {
      "image/png": "[encoded data removed]",
      "text/plain": [
       "<Figure size 720x360 with 2 Axes>"
      ]
     },
     "metadata": {
      "needs_background": "light"
     },
     "output_type": "display_data"
    }
   ],
   "source": [
    "# visualizing loss and accuracy per epoch\n",
    "model12_train_loss = model12_history.history['loss']\n",
    "model12_train_acc = model12_history.history['acc']\n",
    "model12_val_loss = model12_history.history['val_loss']\n",
    "model12_val_acc = model12_history.history['val_acc']\n",
    "\n",
    "\n",
    "fig, (ax1, ax2) = plt.subplots(1, 2, figsize=(10, 5))\n",
    "\n",
    "sns.lineplot(x=model12_history.epoch, y=model12_train_loss, ax=ax1, label='training loss')\n",
    "sns.lineplot(x=model12_history.epoch, y=model12_train_acc, ax=ax2, label='training accuracy')\n",
    "\n",
    "sns.lineplot(x=model12_history.epoch, y=model12_val_loss, ax=ax1, label='validation loss')\n",
    "sns.lineplot(x=model12_history.epoch, y=model12_val_acc, ax=ax2, label='validation accuracy');"
   ]
  },
  {
   "cell_type": "markdown",
   "metadata": {},
   "source": [
    "### CNN MODEL 13"
   ]
  },
  {
   "cell_type": "markdown",
   "metadata": {},
   "source": [
    "For this iteration, I will add more dropout layers and also increase the intensity, I will be adapting iteration 12's architecture"
   ]
  },
  {
   "cell_type": "code",
   "execution_count": 79,
   "metadata": {},
   "outputs": [],
   "source": [
    "model13 = models.Sequential()\n",
    "\n",
    "# Stack 1\n",
    "model13.add(layers.Conv2D(filters = 64,\n",
    "                         kernel_size=(3,3),\n",
    "                         activation='relu',\n",
    "                         input_shape = (global_target_size[0],global_target_size[0], 3),\n",
    "                         padding = 'same'\n",
    "                        ))\n",
    "model13.add(layers.MaxPooling2D(pool_size = (4,4),\n",
    "                         padding = 'same'))\n",
    "\n",
    "# Dropout Layer 1\n",
    "model13.add(layers.Dropout(.1))\n",
    "\n",
    "# Stack 2\n",
    "model13.add(layers.Conv2D(32, (3,3), activation='relu',padding = 'same'))\n",
    "model13.add(layers.MaxPooling2D((2, 2),\n",
    "                         padding = 'same'))\n",
    "\n",
    "# Dropout Layer 2\n",
    "model13.add(layers.Dropout(.15))\n",
    "\n",
    "# Stack 3\n",
    "model13.add(layers.Conv2D(64, (4,4), activation='relu'))\n",
    "model13.add(layers.MaxPooling2D((2, 2),\n",
    "                         padding = 'same'))\n",
    "# Dropout Layer 3\n",
    "model13.add(layers.Dropout(.2))\n",
    "\n",
    "# Stack 4\n",
    "model13.add(layers.Conv2D(128, (3,3), activation='relu',padding='same'))\n",
    "model13.add(layers.MaxPooling2D((2, 2),\n",
    "                         padding = 'same'))\n",
    "\n",
    "# Dropout Layer 4\n",
    "model13.add(layers.Dropout(.3))\n",
    "\n",
    "# Stack 5\n",
    "model13.add(layers.Conv2D(128, (4,4), activation='relu',padding = 'same'))\n",
    "model13.add(layers.MaxPooling2D((2, 2),\n",
    "                         padding = 'same'))\n",
    "# Dropout Layer 5\n",
    "model13.add(layers.Dropout(.4))\n",
    "\n",
    "# Stack 5\n",
    "model13.add(layers.Conv2D(256, (4,4), activation='relu',padding = 'same'))\n",
    "model13.add(layers.MaxPooling2D((2, 2),\n",
    "                         padding = 'same'))\n",
    "\n",
    "# Dropout Layer 6\n",
    "model13.add(layers.Dropout(.5))\n",
    "\n",
    "\n",
    "# Flattening layer\n",
    "model13.add(layers.Flatten())\n",
    "\n",
    "# Dense layer 1\n",
    "model13.add(layers.Dense(64, activation='relu'))\n",
    "\n",
    "# Dense layer 2 - output layer\n",
    "model13.add(layers.Dense(1, activation='sigmoid'))\n",
    "\n",
    "model13.compile(loss='binary_crossentropy',\n",
    "              optimizer = 'adam',\n",
    "              metrics=['acc'])"
   ]
  },
  {
   "cell_type": "code",
   "execution_count": 80,
   "metadata": {},
   "outputs": [
    {
     "name": "stdout",
     "output_type": "stream",
     "text": [
      "Model: \"sequential_2\"\n",
      "_________________________________________________________________\n",
      "Layer (type)                 Output Shape              Param #   \n",
      "=================================================================\n",
      "conv2d_12 (Conv2D)           (None, 127, 127, 64)      1792      \n",
      "_________________________________________________________________\n",
      "max_pooling2d_12 (MaxPooling (None, 32, 32, 64)        0         \n",
      "_________________________________________________________________\n",
      "dropout_3 (Dropout)          (None, 32, 32, 64)        0         \n",
      "_________________________________________________________________\n",
      "conv2d_13 (Conv2D)           (None, 32, 32, 32)        18464     \n",
      "_________________________________________________________________\n",
      "max_pooling2d_13 (MaxPooling (None, 16, 16, 32)        0         \n",
      "_________________________________________________________________\n",
      "dropout_4 (Dropout)          (None, 16, 16, 32)        0         \n",
      "_________________________________________________________________\n",
      "conv2d_14 (Conv2D)           (None, 13, 13, 64)        32832     \n",
      "_________________________________________________________________\n",
      "max_pooling2d_14 (MaxPooling (None, 7, 7, 64)          0         \n",
      "_________________________________________________________________\n",
      "dropout_5 (Dropout)          (None, 7, 7, 64)          0         \n",
      "_________________________________________________________________\n",
      "conv2d_15 (Conv2D)           (None, 7, 7, 128)         73856     \n",
      "_________________________________________________________________\n",
      "max_pooling2d_15 (MaxPooling (None, 4, 4, 128)         0         \n",
      "_________________________________________________________________\n",
      "dropout_6 (Dropout)          (None, 4, 4, 128)         0         \n",
      "_________________________________________________________________\n",
      "conv2d_16 (Conv2D)           (None, 4, 4, 128)         262272    \n",
      "_________________________________________________________________\n",
      "max_pooling2d_16 (MaxPooling (None, 2, 2, 128)         0         \n",
      "_________________________________________________________________\n",
      "dropout_7 (Dropout)          (None, 2, 2, 128)         0         \n",
      "_________________________________________________________________\n",
      "conv2d_17 (Conv2D)           (None, 2, 2, 256)         524544    \n",
      "_________________________________________________________________\n",
      "max_pooling2d_17 (MaxPooling (None, 1, 1, 256)         0         \n",
      "_________________________________________________________________\n",
      "dropout_8 (Dropout)          (None, 1, 1, 256)         0         \n",
      "_________________________________________________________________\n",
      "flatten_2 (Flatten)          (None, 256)               0         \n",
      "_________________________________________________________________\n",
      "dense_4 (Dense)              (None, 64)                16448     \n",
      "_________________________________________________________________\n",
      "dense_5 (Dense)              (None, 1)                 65        \n",
      "=================================================================\n",
      "Total params: 930,273\n",
      "Trainable params: 930,273\n",
      "Non-trainable params: 0\n",
      "_________________________________________________________________\n"
     ]
    }
   ],
   "source": [
    "model13.summary()"
   ]
  },
  {
   "cell_type": "code",
   "execution_count": 81,
   "metadata": {},
   "outputs": [
    {
     "name": "stdout",
     "output_type": "stream",
     "text": [
      "Epoch 1/100\n",
      "31/31 [==============================] - 45s 1s/step - loss: 0.6960 - acc: 0.5123 - val_loss: 0.6923 - val_acc: 0.5232\n",
      "Epoch 2/100\n",
      "31/31 [==============================] - 43s 1s/step - loss: 0.6933 - acc: 0.5216 - val_loss: 0.6922 - val_acc: 0.5232\n",
      "Epoch 3/100\n",
      "31/31 [==============================] - 44s 1s/step - loss: 0.6920 - acc: 0.5226 - val_loss: 0.6920 - val_acc: 0.5232\n",
      "Epoch 4/100\n",
      "31/31 [==============================] - 44s 1s/step - loss: 0.6900 - acc: 0.5267 - val_loss: 0.6872 - val_acc: 0.6440\n",
      "Epoch 5/100\n",
      "31/31 [==============================] - 44s 1s/step - loss: 0.6922 - acc: 0.5503 - val_loss: 0.6492 - val_acc: 0.6347\n",
      "Epoch 6/100\n",
      "31/31 [==============================] - 44s 1s/step - loss: 0.6664 - acc: 0.6222 - val_loss: 0.5636 - val_acc: 0.7988\n",
      "Epoch 7/100\n",
      "31/31 [==============================] - 43s 1s/step - loss: 0.6054 - acc: 0.6838 - val_loss: 0.5513 - val_acc: 0.8235\n",
      "Epoch 8/100\n",
      "31/31 [==============================] - 43s 1s/step - loss: 0.5763 - acc: 0.7177 - val_loss: 0.4854 - val_acc: 0.8359\n",
      "Epoch 9/100\n",
      "31/31 [==============================] - 43s 1s/step - loss: 0.5318 - acc: 0.7536 - val_loss: 0.4280 - val_acc: 0.8235\n",
      "Epoch 10/100\n",
      "31/31 [==============================] - 44s 1s/step - loss: 0.4921 - acc: 0.7608 - val_loss: 0.4231 - val_acc: 0.8607\n",
      "Epoch 11/100\n",
      "31/31 [==============================] - 43s 1s/step - loss: 0.4593 - acc: 0.7988 - val_loss: 0.3964 - val_acc: 0.8514\n",
      "Epoch 12/100\n",
      "31/31 [==============================] - 44s 1s/step - loss: 0.4389 - acc: 0.7906 - val_loss: 0.3669 - val_acc: 0.8421\n",
      "Epoch 13/100\n",
      "31/31 [==============================] - 43s 1s/step - loss: 0.4278 - acc: 0.8039 - val_loss: 0.4202 - val_acc: 0.8204\n",
      "Epoch 14/100\n",
      "31/31 [==============================] - 43s 1s/step - loss: 0.3673 - acc: 0.8306 - val_loss: 0.3919 - val_acc: 0.8266\n",
      "Epoch 15/100\n",
      "31/31 [==============================] - 43s 1s/step - loss: 0.3547 - acc: 0.8419 - val_loss: 0.4054 - val_acc: 0.8111\n",
      "Epoch 16/100\n",
      "31/31 [==============================] - 44s 1s/step - loss: 0.3039 - acc: 0.8676 - val_loss: 0.4928 - val_acc: 0.7802\n",
      "Epoch 17/100\n",
      "31/31 [==============================] - 43s 1s/step - loss: 0.3347 - acc: 0.8419 - val_loss: 0.3984 - val_acc: 0.8359\n",
      "Epoch 18/100\n",
      "31/31 [==============================] - 43s 1s/step - loss: 0.2732 - acc: 0.8768 - val_loss: 0.4408 - val_acc: 0.8173\n",
      "Epoch 19/100\n",
      "31/31 [==============================] - 44s 1s/step - loss: 0.2723 - acc: 0.8778 - val_loss: 0.3910 - val_acc: 0.8328\n",
      "Epoch 20/100\n",
      "31/31 [==============================] - 53s 2s/step - loss: 0.2566 - acc: 0.8819 - val_loss: 0.4378 - val_acc: 0.8235\n",
      "Epoch 21/100\n",
      "31/31 [==============================] - 46s 1s/step - loss: 0.2147 - acc: 0.9189 - val_loss: 0.4662 - val_acc: 0.8019\n",
      "Epoch 22/100\n",
      "31/31 [==============================] - 43s 1s/step - loss: 0.2012 - acc: 0.9209 - val_loss: 0.4230 - val_acc: 0.8297\n",
      "Epoch 23/100\n",
      "31/31 [==============================] - 47s 2s/step - loss: 0.1866 - acc: 0.9230 - val_loss: 0.5093 - val_acc: 0.8297\n",
      "Epoch 24/100\n",
      "31/31 [==============================] - 46s 1s/step - loss: 0.1888 - acc: 0.9220 - val_loss: 0.4698 - val_acc: 0.8050\n",
      "Epoch 25/100\n",
      "31/31 [==============================] - 58s 2s/step - loss: 0.1738 - acc: 0.9363 - val_loss: 0.5613 - val_acc: 0.7895\n",
      "Epoch 26/100\n",
      "31/31 [==============================] - 49s 2s/step - loss: 0.1210 - acc: 0.9538 - val_loss: 0.7039 - val_acc: 0.7740\n",
      "Epoch 27/100\n",
      "31/31 [==============================] - 45s 1s/step - loss: 0.1828 - acc: 0.9271 - val_loss: 0.4705 - val_acc: 0.8483\n",
      "Epoch 28/100\n",
      "31/31 [==============================] - 45s 1s/step - loss: 0.1555 - acc: 0.9363 - val_loss: 0.4618 - val_acc: 0.8142\n",
      "Epoch 29/100\n",
      "31/31 [==============================] - 45s 1s/step - loss: 0.1842 - acc: 0.9240 - val_loss: 0.4406 - val_acc: 0.8173\n",
      "Epoch 30/100\n",
      "31/31 [==============================] - 48s 2s/step - loss: 0.1346 - acc: 0.9559 - val_loss: 0.4459 - val_acc: 0.8731\n",
      "Epoch 31/100\n",
      "31/31 [==============================] - 45s 1s/step - loss: 0.1020 - acc: 0.9528 - val_loss: 0.5078 - val_acc: 0.8359\n",
      "Epoch 32/100\n",
      "31/31 [==============================] - 45s 1s/step - loss: 0.0952 - acc: 0.9671 - val_loss: 0.5093 - val_acc: 0.8700\n",
      "Epoch 33/100\n",
      "31/31 [==============================] - 45s 1s/step - loss: 0.1213 - acc: 0.9517 - val_loss: 0.4881 - val_acc: 0.8700\n",
      "Epoch 34/100\n",
      "31/31 [==============================] - 45s 1s/step - loss: 0.1166 - acc: 0.9548 - val_loss: 0.4997 - val_acc: 0.8483\n",
      "Epoch 35/100\n",
      "31/31 [==============================] - 45s 1s/step - loss: 0.0814 - acc: 0.9651 - val_loss: 0.6071 - val_acc: 0.8235\n",
      "Epoch 36/100\n",
      "31/31 [==============================] - 45s 1s/step - loss: 0.0787 - acc: 0.9723 - val_loss: 0.6909 - val_acc: 0.8266\n",
      "Epoch 37/100\n",
      "31/31 [==============================] - 45s 1s/step - loss: 0.1159 - acc: 0.9610 - val_loss: 0.5411 - val_acc: 0.8328\n",
      "Epoch 38/100\n",
      "31/31 [==============================] - 45s 1s/step - loss: 0.0811 - acc: 0.9733 - val_loss: 0.4876 - val_acc: 0.8638\n",
      "Epoch 39/100\n",
      "31/31 [==============================] - 45s 1s/step - loss: 0.0741 - acc: 0.9723 - val_loss: 0.5539 - val_acc: 0.8204\n",
      "Epoch 40/100\n",
      "31/31 [==============================] - 45s 1s/step - loss: 0.0554 - acc: 0.9764 - val_loss: 0.7413 - val_acc: 0.8328\n",
      "Epoch 41/100\n",
      "31/31 [==============================] - 45s 1s/step - loss: 0.0836 - acc: 0.9671 - val_loss: 0.4445 - val_acc: 0.8483\n",
      "Epoch 42/100\n",
      "31/31 [==============================] - 45s 1s/step - loss: 0.0409 - acc: 0.9836 - val_loss: 0.4854 - val_acc: 0.8607\n",
      "Epoch 43/100\n",
      "31/31 [==============================] - 45s 1s/step - loss: 0.0604 - acc: 0.9805 - val_loss: 0.6621 - val_acc: 0.8235\n",
      "Epoch 44/100\n",
      "31/31 [==============================] - 45s 1s/step - loss: 0.1063 - acc: 0.9589 - val_loss: 0.5021 - val_acc: 0.8390\n",
      "Epoch 45/100\n",
      "31/31 [==============================] - 45s 1s/step - loss: 0.0711 - acc: 0.9702 - val_loss: 0.6340 - val_acc: 0.8390\n",
      "Epoch 46/100\n",
      "31/31 [==============================] - 44s 1s/step - loss: 0.0458 - acc: 0.9856 - val_loss: 0.7150 - val_acc: 0.8359\n",
      "Epoch 47/100\n",
      "31/31 [==============================] - 44s 1s/step - loss: 0.0375 - acc: 0.9856 - val_loss: 0.5686 - val_acc: 0.8854\n",
      "Epoch 48/100\n",
      "31/31 [==============================] - 44s 1s/step - loss: 0.0754 - acc: 0.9764 - val_loss: 0.4125 - val_acc: 0.8421\n",
      "Epoch 49/100\n",
      "31/31 [==============================] - 45s 1s/step - loss: 0.0496 - acc: 0.9825 - val_loss: 0.6214 - val_acc: 0.8452\n",
      "Epoch 50/100\n",
      "31/31 [==============================] - 54s 2s/step - loss: 0.0425 - acc: 0.9867 - val_loss: 0.5944 - val_acc: 0.8204\n",
      "Epoch 51/100\n",
      "31/31 [==============================] - 50s 2s/step - loss: 0.0396 - acc: 0.9877 - val_loss: 0.5780 - val_acc: 0.8514\n",
      "Epoch 52/100\n",
      "31/31 [==============================] - 53s 2s/step - loss: 0.0459 - acc: 0.9825 - val_loss: 0.6864 - val_acc: 0.8421\n",
      "Epoch 53/100\n",
      "31/31 [==============================] - 49s 2s/step - loss: 0.0781 - acc: 0.9774 - val_loss: 0.6748 - val_acc: 0.8142\n",
      "Epoch 54/100\n",
      "31/31 [==============================] - 60s 2s/step - loss: 0.0799 - acc: 0.9774 - val_loss: 0.4768 - val_acc: 0.8421\n",
      "Epoch 55/100\n",
      "31/31 [==============================] - 47s 2s/step - loss: 0.0493 - acc: 0.9805 - val_loss: 0.6221 - val_acc: 0.8390\n",
      "Epoch 56/100\n",
      "31/31 [==============================] - 47s 2s/step - loss: 0.0295 - acc: 0.9877 - val_loss: 0.7349 - val_acc: 0.8204\n",
      "Epoch 57/100\n",
      "31/31 [==============================] - 47s 2s/step - loss: 0.0383 - acc: 0.9846 - val_loss: 0.6132 - val_acc: 0.8452\n",
      "Epoch 58/100\n",
      "31/31 [==============================] - 45s 1s/step - loss: 0.0413 - acc: 0.9877 - val_loss: 0.5670 - val_acc: 0.8390\n",
      "Epoch 59/100\n",
      "31/31 [==============================] - 44s 1s/step - loss: 0.0222 - acc: 0.9949 - val_loss: 0.5951 - val_acc: 0.8669\n",
      "Epoch 60/100\n",
      "31/31 [==============================] - 47s 2s/step - loss: 0.0524 - acc: 0.9805 - val_loss: 0.6207 - val_acc: 0.8359\n",
      "Epoch 61/100\n",
      "31/31 [==============================] - 43s 1s/step - loss: 0.0571 - acc: 0.9795 - val_loss: 0.6438 - val_acc: 0.8080\n",
      "Epoch 62/100\n",
      "31/31 [==============================] - 45s 1s/step - loss: 0.0428 - acc: 0.9856 - val_loss: 0.5658 - val_acc: 0.8452\n",
      "Epoch 63/100\n"
     ]
    },
    {
     "name": "stdout",
     "output_type": "stream",
     "text": [
      "31/31 [==============================] - 44s 1s/step - loss: 0.0454 - acc: 0.9825 - val_loss: 0.4782 - val_acc: 0.8731\n",
      "Epoch 64/100\n",
      "31/31 [==============================] - 44s 1s/step - loss: 0.0598 - acc: 0.9795 - val_loss: 0.6533 - val_acc: 0.8297\n",
      "Epoch 65/100\n",
      "31/31 [==============================] - 43s 1s/step - loss: 0.0363 - acc: 0.9846 - val_loss: 0.5673 - val_acc: 0.8576\n",
      "Epoch 66/100\n",
      "31/31 [==============================] - 43s 1s/step - loss: 0.0270 - acc: 0.9887 - val_loss: 0.6688 - val_acc: 0.8576\n",
      "Epoch 67/100\n",
      "31/31 [==============================] - 44s 1s/step - loss: 0.0206 - acc: 0.9918 - val_loss: 0.6846 - val_acc: 0.8421\n",
      "Epoch 68/100\n",
      "31/31 [==============================] - 44s 1s/step - loss: 0.0097 - acc: 0.9979 - val_loss: 0.7948 - val_acc: 0.8483\n",
      "Epoch 69/100\n",
      "31/31 [==============================] - 44s 1s/step - loss: 0.0222 - acc: 0.9938 - val_loss: 0.9993 - val_acc: 0.8483\n",
      "Epoch 70/100\n",
      "31/31 [==============================] - 43s 1s/step - loss: 0.0530 - acc: 0.9805 - val_loss: 0.5782 - val_acc: 0.8390\n",
      "Epoch 71/100\n",
      "31/31 [==============================] - 44s 1s/step - loss: 0.0425 - acc: 0.9887 - val_loss: 0.6590 - val_acc: 0.8421\n",
      "Epoch 72/100\n",
      "31/31 [==============================] - 43s 1s/step - loss: 0.0508 - acc: 0.9846 - val_loss: 0.6284 - val_acc: 0.8328\n",
      "Epoch 73/100\n",
      "31/31 [==============================] - 44s 1s/step - loss: 0.0406 - acc: 0.9877 - val_loss: 0.6479 - val_acc: 0.8328\n",
      "Epoch 74/100\n",
      "31/31 [==============================] - 44s 1s/step - loss: 0.0818 - acc: 0.9713 - val_loss: 0.7184 - val_acc: 0.8359\n",
      "Epoch 75/100\n",
      "31/31 [==============================] - 44s 1s/step - loss: 0.0292 - acc: 0.9918 - val_loss: 0.5290 - val_acc: 0.8576\n",
      "Epoch 76/100\n",
      "31/31 [==============================] - 43s 1s/step - loss: 0.0169 - acc: 0.9949 - val_loss: 0.6514 - val_acc: 0.8514\n",
      "Epoch 77/100\n",
      "31/31 [==============================] - 44s 1s/step - loss: 0.0160 - acc: 0.9959 - val_loss: 0.7322 - val_acc: 0.8514\n",
      "Epoch 78/100\n",
      "31/31 [==============================] - 46s 1s/step - loss: 0.0267 - acc: 0.9908 - val_loss: 0.6841 - val_acc: 0.8483\n",
      "Epoch 79/100\n",
      "31/31 [==============================] - 44s 1s/step - loss: 0.0492 - acc: 0.9795 - val_loss: 0.6298 - val_acc: 0.8452\n",
      "Epoch 80/100\n",
      "31/31 [==============================] - 43s 1s/step - loss: 0.0303 - acc: 0.9897 - val_loss: 0.5854 - val_acc: 0.8576\n",
      "Epoch 81/100\n",
      "31/31 [==============================] - 43s 1s/step - loss: 0.0150 - acc: 0.9959 - val_loss: 0.6948 - val_acc: 0.8700\n",
      "Epoch 82/100\n",
      "31/31 [==============================] - 43s 1s/step - loss: 0.1009 - acc: 0.9795 - val_loss: 0.5069 - val_acc: 0.8297\n",
      "Epoch 83/100\n",
      "31/31 [==============================] - 44s 1s/step - loss: 0.0650 - acc: 0.9815 - val_loss: 0.5154 - val_acc: 0.8514\n",
      "Epoch 84/100\n",
      "31/31 [==============================] - 43s 1s/step - loss: 0.0451 - acc: 0.9846 - val_loss: 0.4709 - val_acc: 0.8824\n",
      "Epoch 85/100\n",
      "31/31 [==============================] - 44s 1s/step - loss: 0.0154 - acc: 0.9949 - val_loss: 0.6183 - val_acc: 0.8669\n",
      "Epoch 86/100\n",
      "31/31 [==============================] - 44s 1s/step - loss: 0.0258 - acc: 0.9887 - val_loss: 0.6278 - val_acc: 0.8607\n",
      "Epoch 87/100\n",
      "31/31 [==============================] - 43s 1s/step - loss: 0.0346 - acc: 0.9887 - val_loss: 0.5298 - val_acc: 0.8669\n",
      "Epoch 88/100\n",
      "31/31 [==============================] - 46s 1s/step - loss: 0.0494 - acc: 0.9877 - val_loss: 0.5467 - val_acc: 0.8514\n",
      "Epoch 89/100\n",
      "31/31 [==============================] - 44s 1s/step - loss: 0.0221 - acc: 0.9918 - val_loss: 0.6110 - val_acc: 0.8483\n",
      "Epoch 90/100\n",
      "31/31 [==============================] - 44s 1s/step - loss: 0.0146 - acc: 0.9938 - val_loss: 0.7805 - val_acc: 0.8297\n",
      "Epoch 91/100\n",
      "31/31 [==============================] - 44s 1s/step - loss: 0.0159 - acc: 0.9949 - val_loss: 0.6638 - val_acc: 0.8638\n",
      "Epoch 92/100\n",
      "31/31 [==============================] - 46s 1s/step - loss: 0.0165 - acc: 0.9969 - val_loss: 0.6281 - val_acc: 0.8885\n",
      "Epoch 93/100\n",
      "31/31 [==============================] - 44s 1s/step - loss: 0.0219 - acc: 0.9928 - val_loss: 0.6404 - val_acc: 0.8607\n",
      "Epoch 94/100\n",
      "31/31 [==============================] - 44s 1s/step - loss: 0.0216 - acc: 0.9918 - val_loss: 0.6199 - val_acc: 0.8700\n",
      "Epoch 95/100\n",
      "31/31 [==============================] - 43s 1s/step - loss: 0.0447 - acc: 0.9867 - val_loss: 0.7508 - val_acc: 0.8173\n",
      "Epoch 96/100\n",
      "31/31 [==============================] - 46s 1s/step - loss: 0.0112 - acc: 0.9959 - val_loss: 0.6889 - val_acc: 0.8421\n",
      "Epoch 97/100\n",
      "31/31 [==============================] - 44s 1s/step - loss: 0.0065 - acc: 0.9979 - val_loss: 0.8345 - val_acc: 0.8266\n",
      "Epoch 98/100\n",
      "31/31 [==============================] - 44s 1s/step - loss: 0.0302 - acc: 0.9897 - val_loss: 0.6415 - val_acc: 0.8700\n",
      "Epoch 99/100\n",
      "31/31 [==============================] - 43s 1s/step - loss: 0.0473 - acc: 0.9887 - val_loss: 0.5137 - val_acc: 0.8266\n",
      "Epoch 100/100\n",
      "31/31 [==============================] - 44s 1s/step - loss: 0.0180 - acc: 0.9959 - val_loss: 0.5777 - val_acc: 0.8545\n"
     ]
    }
   ],
   "source": [
    "model13_history = model13.fit(train_data,\n",
    "                    epochs=global_epochs,\n",
    "                    validation_data = val_data\n",
    "                   )"
   ]
  },
  {
   "cell_type": "code",
   "execution_count": 82,
   "metadata": {},
   "outputs": [
    {
     "name": "stdout",
     "output_type": "stream",
     "text": [
      "31/31 [==============================] - 28s 904ms/step - loss: 8.6144e-04 - acc: 1.0000\n",
      "11/11 [==============================] - 6s 529ms/step - loss: 0.5777 - acc: 0.8545\n"
     ]
    },
    {
     "data": {
      "text/plain": [
       "[0.5777469277381897, 0.8544891476631165]"
      ]
     },
     "execution_count": 82,
     "metadata": {},
     "output_type": "execute_result"
    }
   ],
   "source": [
    "model_13_train_results = model13.evaluate(train_data)\n",
    "model_13_train_results\n",
    "\n",
    "model_13_val_results = model13.evaluate(val_data)\n",
    "model_13_val_results"
   ]
  },
  {
   "cell_type": "code",
   "execution_count": 83,
   "metadata": {},
   "outputs": [],
   "source": [
    "score_dictionary['model 13'] = (model_13_train_results,model_13_val_results)"
   ]
  },
  {
   "cell_type": "code",
   "execution_count": 84,
   "metadata": {},
   "outputs": [
    {
     "data": {
      "image/png": "[encoded data removed]",
      "text/plain": [
       "<Figure size 720x360 with 2 Axes>"
      ]
     },
     "metadata": {
      "needs_background": "light"
     },
     "output_type": "display_data"
    }
   ],
   "source": [
    "# visualizing loss and accuracy per epoch\n",
    "model13_train_loss = model13_history.history['loss']\n",
    "model13_train_acc = model13_history.history['acc']\n",
    "model13_val_loss = model13_history.history['val_loss']\n",
    "model13_val_acc = model13_history.history['val_acc']\n",
    "\n",
    "\n",
    "fig, (ax1, ax2) = plt.subplots(1, 2, figsize=(10, 5))\n",
    "\n",
    "sns.lineplot(x=model13_history.epoch, y=model13_train_loss, ax=ax1, label='training loss')\n",
    "sns.lineplot(x=model13_history.epoch, y=model13_train_acc, ax=ax2, label='training accuracy')\n",
    "\n",
    "sns.lineplot(x=model13_history.epoch, y=model13_val_loss, ax=ax1, label='validation loss')\n",
    "sns.lineplot(x=model13_history.epoch, y=model13_val_acc, ax=ax2, label='validation accuracy');"
   ]
  },
  {
   "cell_type": "markdown",
   "metadata": {},
   "source": [
    "### CNN MODEL 14"
   ]
  },
  {
   "cell_type": "markdown",
   "metadata": {},
   "source": [
    "For this model, I am adding more dropout, adapting from CNN model 13"
   ]
  },
  {
   "cell_type": "code",
   "execution_count": 85,
   "metadata": {},
   "outputs": [],
   "source": [
    "model14 = models.Sequential()\n",
    "\n",
    "# Stack 1\n",
    "model14.add(layers.Conv2D(filters = 64,\n",
    "                         kernel_size=(3,3),\n",
    "                         activation='relu',\n",
    "                         input_shape = (global_target_size[0],global_target_size[0], 3),\n",
    "                         padding = 'same'\n",
    "                        ))\n",
    "model14.add(layers.MaxPooling2D(pool_size = (4,4),\n",
    "                         padding = 'same'))\n",
    "\n",
    "# Dropout Layer 1\n",
    "model14.add(layers.Dropout(.25))\n",
    "\n",
    "# Stack 2\n",
    "model14.add(layers.Conv2D(32, (3,3), activation='relu',padding = 'same'))\n",
    "model14.add(layers.MaxPooling2D((2, 2),\n",
    "                         padding = 'same'))\n",
    "\n",
    "# Dropout Layer 2\n",
    "model14.add(layers.Dropout(.3))\n",
    "\n",
    "# Stack 3\n",
    "model14.add(layers.Conv2D(64, (4,4), activation='relu'))\n",
    "model14.add(layers.MaxPooling2D((2, 2),\n",
    "                         padding = 'same'))\n",
    "# Dropout Layer 3\n",
    "model14.add(layers.Dropout(.3))\n",
    "\n",
    "# Stack 4\n",
    "model14.add(layers.Conv2D(128, (3,3), activation='relu',padding='same'))\n",
    "model14.add(layers.MaxPooling2D((2, 2),\n",
    "                         padding = 'same'))\n",
    "\n",
    "# Dropout Layer 4\n",
    "model14.add(layers.Dropout(.35))\n",
    "\n",
    "# Stack 5\n",
    "model14.add(layers.Conv2D(128, (4,4), activation='relu',padding = 'same'))\n",
    "model14.add(layers.MaxPooling2D((2, 2),\n",
    "                         padding = 'same'))\n",
    "# Dropout Layer 5\n",
    "model14.add(layers.Dropout(.5))\n",
    "\n",
    "# Stack 5\n",
    "model14.add(layers.Conv2D(256, (4,4), activation='relu',padding = 'same'))\n",
    "model14.add(layers.MaxPooling2D((2, 2),\n",
    "                         padding = 'same'))\n",
    "\n",
    "# Dropout Layer 6\n",
    "model14.add(layers.Dropout(.5))\n",
    "\n",
    "\n",
    "# Flattening layer\n",
    "model14.add(layers.Flatten())\n",
    "\n",
    "# Dense layer 1\n",
    "model14.add(layers.Dense(64, activation='relu'))\n",
    "\n",
    "# Dense layer 2 - output layer\n",
    "model14.add(layers.Dense(1, activation='sigmoid'))\n",
    "\n",
    "model14.compile(loss='binary_crossentropy',\n",
    "              optimizer = 'adam',\n",
    "              metrics=['acc'])"
   ]
  },
  {
   "cell_type": "code",
   "execution_count": 86,
   "metadata": {},
   "outputs": [
    {
     "name": "stdout",
     "output_type": "stream",
     "text": [
      "Model: \"sequential_3\"\n",
      "_________________________________________________________________\n",
      "Layer (type)                 Output Shape              Param #   \n",
      "=================================================================\n",
      "conv2d_18 (Conv2D)           (None, 127, 127, 64)      1792      \n",
      "_________________________________________________________________\n",
      "max_pooling2d_18 (MaxPooling (None, 32, 32, 64)        0         \n",
      "_________________________________________________________________\n",
      "dropout_9 (Dropout)          (None, 32, 32, 64)        0         \n",
      "_________________________________________________________________\n",
      "conv2d_19 (Conv2D)           (None, 32, 32, 32)        18464     \n",
      "_________________________________________________________________\n",
      "max_pooling2d_19 (MaxPooling (None, 16, 16, 32)        0         \n",
      "_________________________________________________________________\n",
      "dropout_10 (Dropout)         (None, 16, 16, 32)        0         \n",
      "_________________________________________________________________\n",
      "conv2d_20 (Conv2D)           (None, 13, 13, 64)        32832     \n",
      "_________________________________________________________________\n",
      "max_pooling2d_20 (MaxPooling (None, 7, 7, 64)          0         \n",
      "_________________________________________________________________\n",
      "dropout_11 (Dropout)         (None, 7, 7, 64)          0         \n",
      "_________________________________________________________________\n",
      "conv2d_21 (Conv2D)           (None, 7, 7, 128)         73856     \n",
      "_________________________________________________________________\n",
      "max_pooling2d_21 (MaxPooling (None, 4, 4, 128)         0         \n",
      "_________________________________________________________________\n",
      "dropout_12 (Dropout)         (None, 4, 4, 128)         0         \n",
      "_________________________________________________________________\n",
      "conv2d_22 (Conv2D)           (None, 4, 4, 128)         262272    \n",
      "_________________________________________________________________\n",
      "max_pooling2d_22 (MaxPooling (None, 2, 2, 128)         0         \n",
      "_________________________________________________________________\n",
      "dropout_13 (Dropout)         (None, 2, 2, 128)         0         \n",
      "_________________________________________________________________\n",
      "conv2d_23 (Conv2D)           (None, 2, 2, 256)         524544    \n",
      "_________________________________________________________________\n",
      "max_pooling2d_23 (MaxPooling (None, 1, 1, 256)         0         \n",
      "_________________________________________________________________\n",
      "dropout_14 (Dropout)         (None, 1, 1, 256)         0         \n",
      "_________________________________________________________________\n",
      "flatten_3 (Flatten)          (None, 256)               0         \n",
      "_________________________________________________________________\n",
      "dense_6 (Dense)              (None, 64)                16448     \n",
      "_________________________________________________________________\n",
      "dense_7 (Dense)              (None, 1)                 65        \n",
      "=================================================================\n",
      "Total params: 930,273\n",
      "Trainable params: 930,273\n",
      "Non-trainable params: 0\n",
      "_________________________________________________________________\n"
     ]
    }
   ],
   "source": [
    "model14.summary()"
   ]
  },
  {
   "cell_type": "code",
   "execution_count": 87,
   "metadata": {},
   "outputs": [
    {
     "name": "stdout",
     "output_type": "stream",
     "text": [
      "Epoch 1/100\n",
      "31/31 [==============================] - 45s 1s/step - loss: 0.6959 - acc: 0.4959 - val_loss: 0.6929 - val_acc: 0.5232\n",
      "Epoch 2/100\n",
      "31/31 [==============================] - 44s 1s/step - loss: 0.6915 - acc: 0.5072 - val_loss: 0.6913 - val_acc: 0.5232\n",
      "Epoch 3/100\n",
      "31/31 [==============================] - 44s 1s/step - loss: 0.6933 - acc: 0.5051 - val_loss: 0.6922 - val_acc: 0.5232\n",
      "Epoch 4/100\n",
      "31/31 [==============================] - 44s 1s/step - loss: 0.6923 - acc: 0.5154 - val_loss: 0.6826 - val_acc: 0.6471\n",
      "Epoch 5/100\n",
      "31/31 [==============================] - 44s 1s/step - loss: 0.6823 - acc: 0.5873 - val_loss: 0.6828 - val_acc: 0.5573\n",
      "Epoch 6/100\n",
      "31/31 [==============================] - 44s 1s/step - loss: 0.6531 - acc: 0.6211 - val_loss: 0.5774 - val_acc: 0.7926\n",
      "Epoch 7/100\n",
      "31/31 [==============================] - 46s 1s/step - loss: 0.6000 - acc: 0.6930 - val_loss: 0.4699 - val_acc: 0.7895\n",
      "Epoch 8/100\n",
      "31/31 [==============================] - 44s 1s/step - loss: 0.6178 - acc: 0.6663 - val_loss: 0.5567 - val_acc: 0.7307\n",
      "Epoch 9/100\n",
      "31/31 [==============================] - 43s 1s/step - loss: 0.5681 - acc: 0.7033 - val_loss: 0.4620 - val_acc: 0.8204\n",
      "Epoch 10/100\n",
      "31/31 [==============================] - 44s 1s/step - loss: 0.5376 - acc: 0.7464 - val_loss: 0.4236 - val_acc: 0.8669\n",
      "Epoch 11/100\n",
      "31/31 [==============================] - 48s 2s/step - loss: 0.5078 - acc: 0.7536 - val_loss: 0.3526 - val_acc: 0.8762\n",
      "Epoch 12/100\n",
      "31/31 [==============================] - 44s 1s/step - loss: 0.4758 - acc: 0.7844 - val_loss: 0.3654 - val_acc: 0.8916\n",
      "Epoch 13/100\n",
      "31/31 [==============================] - 43s 1s/step - loss: 0.4588 - acc: 0.7649 - val_loss: 0.4674 - val_acc: 0.7802\n",
      "Epoch 14/100\n",
      "31/31 [==============================] - 43s 1s/step - loss: 0.3949 - acc: 0.8357 - val_loss: 0.3544 - val_acc: 0.8576\n",
      "Epoch 15/100\n",
      "31/31 [==============================] - 51s 2s/step - loss: 0.3849 - acc: 0.8255 - val_loss: 0.3359 - val_acc: 0.8700\n",
      "Epoch 16/100\n",
      "31/31 [==============================] - 43s 1s/step - loss: 0.3827 - acc: 0.8450 - val_loss: 0.3518 - val_acc: 0.8421\n",
      "Epoch 17/100\n",
      "31/31 [==============================] - 44s 1s/step - loss: 0.3394 - acc: 0.8460 - val_loss: 0.4858 - val_acc: 0.7864\n",
      "Epoch 18/100\n",
      "31/31 [==============================] - 43s 1s/step - loss: 0.3514 - acc: 0.8501 - val_loss: 0.3568 - val_acc: 0.8328\n",
      "Epoch 19/100\n",
      "31/31 [==============================] - 44s 1s/step - loss: 0.2787 - acc: 0.8830 - val_loss: 0.3318 - val_acc: 0.8607\n",
      "Epoch 20/100\n",
      "31/31 [==============================] - 44s 1s/step - loss: 0.3132 - acc: 0.8583 - val_loss: 0.3674 - val_acc: 0.8483\n",
      "Epoch 21/100\n",
      "31/31 [==============================] - 44s 1s/step - loss: 0.2535 - acc: 0.8922 - val_loss: 0.3700 - val_acc: 0.8638\n",
      "Epoch 22/100\n",
      "31/31 [==============================] - 43s 1s/step - loss: 0.2431 - acc: 0.8994 - val_loss: 0.3695 - val_acc: 0.8359\n",
      "Epoch 23/100\n",
      "31/31 [==============================] - 43s 1s/step - loss: 0.2771 - acc: 0.8778 - val_loss: 0.4184 - val_acc: 0.8019\n",
      "Epoch 24/100\n",
      "31/31 [==============================] - 44s 1s/step - loss: 0.3127 - acc: 0.8747 - val_loss: 0.3550 - val_acc: 0.8514\n",
      "Epoch 25/100\n",
      "31/31 [==============================] - 44s 1s/step - loss: 0.2368 - acc: 0.9086 - val_loss: 0.3872 - val_acc: 0.8235\n",
      "Epoch 26/100\n",
      "31/31 [==============================] - 44s 1s/step - loss: 0.2279 - acc: 0.9055 - val_loss: 0.3227 - val_acc: 0.8669\n",
      "Epoch 27/100\n",
      "31/31 [==============================] - 45s 1s/step - loss: 0.1972 - acc: 0.9220 - val_loss: 0.3291 - val_acc: 0.8669\n",
      "Epoch 28/100\n",
      "31/31 [==============================] - 45s 1s/step - loss: 0.1788 - acc: 0.9281 - val_loss: 0.3977 - val_acc: 0.8235\n",
      "Epoch 29/100\n",
      "31/31 [==============================] - 43s 1s/step - loss: 0.1805 - acc: 0.9281 - val_loss: 0.4315 - val_acc: 0.8204\n",
      "Epoch 30/100\n",
      "31/31 [==============================] - 44s 1s/step - loss: 0.1698 - acc: 0.9333 - val_loss: 0.3845 - val_acc: 0.8545\n",
      "Epoch 31/100\n",
      "31/31 [==============================] - 43s 1s/step - loss: 0.1418 - acc: 0.9384 - val_loss: 0.4038 - val_acc: 0.8483\n",
      "Epoch 32/100\n",
      "31/31 [==============================] - 44s 1s/step - loss: 0.1352 - acc: 0.9517 - val_loss: 0.4181 - val_acc: 0.8514\n",
      "Epoch 33/100\n",
      "31/31 [==============================] - 44s 1s/step - loss: 0.1559 - acc: 0.9353 - val_loss: 0.3833 - val_acc: 0.8483\n",
      "Epoch 34/100\n",
      "31/31 [==============================] - 43s 1s/step - loss: 0.1136 - acc: 0.9620 - val_loss: 0.4169 - val_acc: 0.8483\n",
      "Epoch 35/100\n",
      "31/31 [==============================] - 44s 1s/step - loss: 0.1093 - acc: 0.9620 - val_loss: 0.4116 - val_acc: 0.8359\n",
      "Epoch 36/100\n",
      "31/31 [==============================] - 58s 2s/step - loss: 0.1349 - acc: 0.9579 - val_loss: 0.3832 - val_acc: 0.8700\n",
      "Epoch 37/100\n",
      "31/31 [==============================] - 44s 1s/step - loss: 0.1388 - acc: 0.9517 - val_loss: 0.4465 - val_acc: 0.8111\n",
      "Epoch 38/100\n",
      "31/31 [==============================] - 45s 1s/step - loss: 0.1091 - acc: 0.9620 - val_loss: 0.3959 - val_acc: 0.8576\n",
      "Epoch 39/100\n",
      "31/31 [==============================] - 45s 1s/step - loss: 0.1208 - acc: 0.9600 - val_loss: 0.3479 - val_acc: 0.8514\n",
      "Epoch 40/100\n",
      "31/31 [==============================] - 43s 1s/step - loss: 0.1343 - acc: 0.9487 - val_loss: 0.4034 - val_acc: 0.8700\n",
      "Epoch 41/100\n",
      "31/31 [==============================] - 44s 1s/step - loss: 0.1090 - acc: 0.9548 - val_loss: 0.3826 - val_acc: 0.8545\n",
      "Epoch 42/100\n",
      "31/31 [==============================] - 43s 1s/step - loss: 0.0971 - acc: 0.9702 - val_loss: 0.3446 - val_acc: 0.8638\n",
      "Epoch 43/100\n",
      "31/31 [==============================] - 44s 1s/step - loss: 0.0748 - acc: 0.9764 - val_loss: 0.4929 - val_acc: 0.8328\n",
      "Epoch 44/100\n",
      "31/31 [==============================] - 44s 1s/step - loss: 0.1019 - acc: 0.9630 - val_loss: 0.3949 - val_acc: 0.8607\n",
      "Epoch 45/100\n",
      "31/31 [==============================] - 43s 1s/step - loss: 0.0814 - acc: 0.9702 - val_loss: 0.4452 - val_acc: 0.8390\n",
      "Epoch 46/100\n",
      "31/31 [==============================] - 44s 1s/step - loss: 0.0790 - acc: 0.9743 - val_loss: 0.4494 - val_acc: 0.8576\n",
      "Epoch 47/100\n",
      "31/31 [==============================] - 44s 1s/step - loss: 0.0842 - acc: 0.9671 - val_loss: 0.4066 - val_acc: 0.8328\n",
      "Epoch 48/100\n",
      "31/31 [==============================] - 43s 1s/step - loss: 0.0882 - acc: 0.9589 - val_loss: 0.4267 - val_acc: 0.8297\n",
      "Epoch 49/100\n",
      "31/31 [==============================] - 44s 1s/step - loss: 0.0762 - acc: 0.9774 - val_loss: 0.5207 - val_acc: 0.8204\n",
      "Epoch 50/100\n",
      "31/31 [==============================] - 43s 1s/step - loss: 0.0875 - acc: 0.9723 - val_loss: 0.4479 - val_acc: 0.8421\n",
      "Epoch 51/100\n",
      "31/31 [==============================] - 44s 1s/step - loss: 0.0615 - acc: 0.9815 - val_loss: 0.3992 - val_acc: 0.8762\n",
      "Epoch 52/100\n",
      "31/31 [==============================] - 44s 1s/step - loss: 0.0492 - acc: 0.9825 - val_loss: 0.5016 - val_acc: 0.8235\n",
      "Epoch 53/100\n",
      "31/31 [==============================] - 43s 1s/step - loss: 0.0442 - acc: 0.9805 - val_loss: 0.4269 - val_acc: 0.8793\n",
      "Epoch 54/100\n",
      "31/31 [==============================] - 44s 1s/step - loss: 0.0673 - acc: 0.9743 - val_loss: 0.4867 - val_acc: 0.8700\n",
      "Epoch 55/100\n",
      "31/31 [==============================] - 44s 1s/step - loss: 0.1185 - acc: 0.9610 - val_loss: 0.4283 - val_acc: 0.8483\n",
      "Epoch 56/100\n",
      "31/31 [==============================] - 45s 1s/step - loss: 0.1104 - acc: 0.9600 - val_loss: 0.4148 - val_acc: 0.8452\n",
      "Epoch 57/100\n",
      "31/31 [==============================] - 43s 1s/step - loss: 0.0699 - acc: 0.9743 - val_loss: 0.4758 - val_acc: 0.8483\n",
      "Epoch 58/100\n",
      "31/31 [==============================] - 43s 1s/step - loss: 0.0639 - acc: 0.9795 - val_loss: 0.4182 - val_acc: 0.8483\n",
      "Epoch 59/100\n",
      "31/31 [==============================] - 43s 1s/step - loss: 0.0413 - acc: 0.9825 - val_loss: 0.4722 - val_acc: 0.8297\n",
      "Epoch 60/100\n",
      "31/31 [==============================] - 44s 1s/step - loss: 0.0428 - acc: 0.9825 - val_loss: 0.5467 - val_acc: 0.8421\n",
      "Epoch 61/100\n",
      "31/31 [==============================] - 43s 1s/step - loss: 0.0679 - acc: 0.9764 - val_loss: 0.4748 - val_acc: 0.8545\n",
      "Epoch 62/100\n",
      "31/31 [==============================] - 45s 1s/step - loss: 0.0526 - acc: 0.9825 - val_loss: 0.5160 - val_acc: 0.8390\n",
      "Epoch 63/100\n"
     ]
    },
    {
     "name": "stdout",
     "output_type": "stream",
     "text": [
      "31/31 [==============================] - 43s 1s/step - loss: 0.0621 - acc: 0.9754 - val_loss: 0.3931 - val_acc: 0.8638\n",
      "Epoch 64/100\n",
      "31/31 [==============================] - 44s 1s/step - loss: 0.0671 - acc: 0.9764 - val_loss: 0.3782 - val_acc: 0.8762\n",
      "Epoch 65/100\n",
      "31/31 [==============================] - 43s 1s/step - loss: 0.0559 - acc: 0.9805 - val_loss: 0.4421 - val_acc: 0.8638\n",
      "Epoch 66/100\n",
      "31/31 [==============================] - 43s 1s/step - loss: 0.0432 - acc: 0.9846 - val_loss: 0.4099 - val_acc: 0.8545\n",
      "Epoch 67/100\n",
      "31/31 [==============================] - 44s 1s/step - loss: 0.0720 - acc: 0.9764 - val_loss: 0.5853 - val_acc: 0.8173\n",
      "Epoch 68/100\n",
      "31/31 [==============================] - 44s 1s/step - loss: 0.0648 - acc: 0.9764 - val_loss: 0.4284 - val_acc: 0.8607\n",
      "Epoch 69/100\n",
      "31/31 [==============================] - 43s 1s/step - loss: 0.0571 - acc: 0.9805 - val_loss: 0.5061 - val_acc: 0.8235\n",
      "Epoch 70/100\n",
      "31/31 [==============================] - 43s 1s/step - loss: 0.0350 - acc: 0.9887 - val_loss: 0.5469 - val_acc: 0.8050\n",
      "Epoch 71/100\n",
      "31/31 [==============================] - 44s 1s/step - loss: 0.0469 - acc: 0.9846 - val_loss: 0.5531 - val_acc: 0.8359\n",
      "Epoch 72/100\n",
      "31/31 [==============================] - 44s 1s/step - loss: 0.0465 - acc: 0.9867 - val_loss: 0.5160 - val_acc: 0.8483\n",
      "Epoch 73/100\n",
      "31/31 [==============================] - 44s 1s/step - loss: 0.0419 - acc: 0.9815 - val_loss: 0.3810 - val_acc: 0.8731\n",
      "Epoch 74/100\n",
      "31/31 [==============================] - 44s 1s/step - loss: 0.0591 - acc: 0.9784 - val_loss: 0.4611 - val_acc: 0.8328\n",
      "Epoch 75/100\n",
      "31/31 [==============================] - 43s 1s/step - loss: 0.0307 - acc: 0.9877 - val_loss: 0.5520 - val_acc: 0.8545\n",
      "Epoch 76/100\n",
      "31/31 [==============================] - 43s 1s/step - loss: 0.0382 - acc: 0.9846 - val_loss: 0.5160 - val_acc: 0.8235\n",
      "Epoch 77/100\n",
      "31/31 [==============================] - 44s 1s/step - loss: 0.0514 - acc: 0.9805 - val_loss: 0.4953 - val_acc: 0.8638\n",
      "Epoch 78/100\n",
      "31/31 [==============================] - 43s 1s/step - loss: 0.0419 - acc: 0.9877 - val_loss: 0.4407 - val_acc: 0.8638\n",
      "Epoch 79/100\n",
      "31/31 [==============================] - 44s 1s/step - loss: 0.0245 - acc: 0.9897 - val_loss: 0.4714 - val_acc: 0.8514\n",
      "Epoch 80/100\n",
      "31/31 [==============================] - 44s 1s/step - loss: 0.0584 - acc: 0.9846 - val_loss: 0.5190 - val_acc: 0.8297\n",
      "Epoch 81/100\n",
      "31/31 [==============================] - 45s 1s/step - loss: 0.0440 - acc: 0.9887 - val_loss: 0.5182 - val_acc: 0.8173\n",
      "Epoch 82/100\n",
      "31/31 [==============================] - 44s 1s/step - loss: 0.0408 - acc: 0.9877 - val_loss: 0.5050 - val_acc: 0.8452\n",
      "Epoch 83/100\n",
      "31/31 [==============================] - 43s 1s/step - loss: 0.0249 - acc: 0.9949 - val_loss: 0.5734 - val_acc: 0.8266\n",
      "Epoch 84/100\n",
      "31/31 [==============================] - 43s 1s/step - loss: 0.0155 - acc: 0.9949 - val_loss: 0.5845 - val_acc: 0.8421\n",
      "Epoch 85/100\n",
      "31/31 [==============================] - 44s 1s/step - loss: 0.0414 - acc: 0.9877 - val_loss: 0.6314 - val_acc: 0.8545\n",
      "Epoch 86/100\n",
      "31/31 [==============================] - 44s 1s/step - loss: 0.1082 - acc: 0.9671 - val_loss: 0.3888 - val_acc: 0.8669\n",
      "Epoch 87/100\n",
      "31/31 [==============================] - 44s 1s/step - loss: 0.0433 - acc: 0.9825 - val_loss: 0.5071 - val_acc: 0.8390\n",
      "Epoch 88/100\n",
      "31/31 [==============================] - 44s 1s/step - loss: 0.0558 - acc: 0.9764 - val_loss: 0.5544 - val_acc: 0.8328\n",
      "Epoch 89/100\n",
      "31/31 [==============================] - 43s 1s/step - loss: 0.0211 - acc: 0.9908 - val_loss: 0.6688 - val_acc: 0.8390\n",
      "Epoch 90/100\n",
      "31/31 [==============================] - 43s 1s/step - loss: 0.0279 - acc: 0.9908 - val_loss: 0.5812 - val_acc: 0.8421\n",
      "Epoch 91/100\n",
      "31/31 [==============================] - 43s 1s/step - loss: 0.0672 - acc: 0.9867 - val_loss: 0.5428 - val_acc: 0.8390\n",
      "Epoch 92/100\n",
      "31/31 [==============================] - 43s 1s/step - loss: 0.0268 - acc: 0.9887 - val_loss: 0.5341 - val_acc: 0.8483\n",
      "Epoch 93/100\n",
      "31/31 [==============================] - 43s 1s/step - loss: 0.0168 - acc: 0.9928 - val_loss: 0.6900 - val_acc: 0.8359\n",
      "Epoch 94/100\n",
      "31/31 [==============================] - 44s 1s/step - loss: 0.0383 - acc: 0.9877 - val_loss: 0.6250 - val_acc: 0.8266\n",
      "Epoch 95/100\n",
      "31/31 [==============================] - 43s 1s/step - loss: 0.0292 - acc: 0.9908 - val_loss: 0.7269 - val_acc: 0.8390\n",
      "Epoch 96/100\n",
      "31/31 [==============================] - 43s 1s/step - loss: 0.0212 - acc: 0.9897 - val_loss: 0.5607 - val_acc: 0.8421\n",
      "Epoch 97/100\n",
      "31/31 [==============================] - 43s 1s/step - loss: 0.0402 - acc: 0.9846 - val_loss: 0.4772 - val_acc: 0.8731\n",
      "Epoch 98/100\n",
      "31/31 [==============================] - 43s 1s/step - loss: 0.0227 - acc: 0.9928 - val_loss: 0.6428 - val_acc: 0.8421\n",
      "Epoch 99/100\n",
      "31/31 [==============================] - 43s 1s/step - loss: 0.0281 - acc: 0.9928 - val_loss: 0.5966 - val_acc: 0.8390\n",
      "Epoch 100/100\n",
      "31/31 [==============================] - 43s 1s/step - loss: 0.0323 - acc: 0.9897 - val_loss: 0.6055 - val_acc: 0.8607\n"
     ]
    }
   ],
   "source": [
    "model14_history = model14.fit(train_data,\n",
    "                    epochs=global_epochs,\n",
    "                    validation_data = val_data\n",
    "                   )"
   ]
  },
  {
   "cell_type": "code",
   "execution_count": 88,
   "metadata": {},
   "outputs": [
    {
     "name": "stdout",
     "output_type": "stream",
     "text": [
      "31/31 [==============================] - 28s 890ms/step - loss: 7.2308e-04 - acc: 1.0000\n",
      "11/11 [==============================] - 6s 556ms/step - loss: 0.6055 - acc: 0.8607\n"
     ]
    },
    {
     "data": {
      "text/plain": [
       "[0.6054670214653015, 0.8606811165809631]"
      ]
     },
     "execution_count": 88,
     "metadata": {},
     "output_type": "execute_result"
    }
   ],
   "source": [
    "model_14_train_results = model14.evaluate(train_data)\n",
    "model_14_train_results\n",
    "\n",
    "model_14_val_results = model14.evaluate(val_data)\n",
    "model_14_val_results"
   ]
  },
  {
   "cell_type": "code",
   "execution_count": 89,
   "metadata": {},
   "outputs": [],
   "source": [
    "score_dictionary['model 14'] = (model_14_train_results, model_14_val_results)"
   ]
  },
  {
   "cell_type": "code",
   "execution_count": 90,
   "metadata": {},
   "outputs": [
    {
     "data": {
      "image/png": "[encoded data removed]",
      "text/plain": [
       "<Figure size 720x360 with 2 Axes>"
      ]
     },
     "metadata": {
      "needs_background": "light"
     },
     "output_type": "display_data"
    }
   ],
   "source": [
    "# visualizing loss and accuracy per epoch\n",
    "model14_train_loss = model14_history.history['loss']\n",
    "model14_train_acc = model14_history.history['acc']\n",
    "model14_val_loss = model14_history.history['val_loss']\n",
    "model14_val_acc = model14_history.history['val_acc']\n",
    "\n",
    "\n",
    "fig, (ax1, ax2) = plt.subplots(1, 2, figsize=(10, 5))\n",
    "\n",
    "sns.lineplot(x=model14_history.epoch, y=model14_train_loss, ax=ax1, label='training loss')\n",
    "sns.lineplot(x=model14_history.epoch, y=model14_train_acc, ax=ax2, label='training accuracy')\n",
    "\n",
    "sns.lineplot(x=model14_history.epoch, y=model14_val_loss, ax=ax1, label='validation loss')\n",
    "sns.lineplot(x=model14_history.epoch, y=model14_val_acc, ax=ax2, label='validation accuracy');"
   ]
  },
  {
   "cell_type": "markdown",
   "metadata": {},
   "source": [
    "### CNN Model 15"
   ]
  },
  {
   "cell_type": "markdown",
   "metadata": {},
   "source": [
    "If model 12 doesn't have enough reducing of overfitting, I will add L2 kernel regulizers to the convolutional layers of model 12. So there will be dropout layers AND kernel regulizers."
   ]
  },
  {
   "cell_type": "code",
   "execution_count": 91,
   "metadata": {},
   "outputs": [],
   "source": [
    "model15 = models.Sequential()\n",
    "\n",
    "# Stack 1\n",
    "model15.add(layers.Conv2D(filters = 64,\n",
    "                         kernel_size=(3,3),\n",
    "                         activation='relu',\n",
    "                         input_shape = (global_target_size[0],global_target_size[0], 3),\n",
    "                         padding = 'same',\n",
    "                          kernel_regularizer = tf.keras.regularizers.L2(0.01)\n",
    "                        ))\n",
    "model15.add(layers.MaxPooling2D(pool_size = (4,4),\n",
    "                         padding = 'same'))\n",
    "\n",
    "# Stack 2\n",
    "model15.add(layers.Conv2D(32, (3,3), activation='relu',padding = 'same',\n",
    "                          kernel_regularizer = tf.keras.regularizers.L2(0.01)))\n",
    "model15.add(layers.MaxPooling2D((2, 2),\n",
    "                         padding = 'same'))\n",
    "\n",
    "\n",
    "\n",
    "# Stack 3\n",
    "model15.add(layers.Conv2D(64, (4,4), activation='relu',\n",
    "                          kernel_regularizer = tf.keras.regularizers.L2(0.01)))\n",
    "model15.add(layers.MaxPooling2D((2, 2),\n",
    "                         padding = 'same'))\n",
    "# Dropout Layer 1\n",
    "model15.add(layers.Dropout(.1))\n",
    "\n",
    "# Stack 4\n",
    "model15.add(layers.Conv2D(128, (3,3), activation='relu',padding='same',\n",
    "                          kernel_regularizer = tf.keras.regularizers.L2(0.01)))\n",
    "model15.add(layers.MaxPooling2D((2, 2),\n",
    "                         padding = 'same'))\n",
    "\n",
    "# Dropout Layer 2\n",
    "model15.add(layers.Dropout(.25))\n",
    "\n",
    "# Stack 5\n",
    "model15.add(layers.Conv2D(128, (4,4), activation='relu',padding = 'same',\n",
    "                          kernel_regularizer = tf.keras.regularizers.L2(0.01)))\n",
    "model15.add(layers.MaxPooling2D((2, 2),\n",
    "                         padding = 'same'))\n",
    "# Dropout Layer 2\n",
    "model15.add(layers.Dropout(.4))\n",
    "\n",
    "# Stack 5\n",
    "model15.add(layers.Conv2D(256, (4,4), activation='relu',padding = 'same',\n",
    "                          kernel_regularizer = tf.keras.regularizers.L2(0.01)))\n",
    "model15.add(layers.MaxPooling2D((2, 2),\n",
    "                         padding = 'same'))\n",
    "\n",
    "\n",
    "# Flattening layer\n",
    "model15.add(layers.Flatten())\n",
    "\n",
    "# Dense layer 1\n",
    "model15.add(layers.Dense(64, activation='relu'))\n",
    "\n",
    "# Dense layer 2 - output layer\n",
    "model15.add(layers.Dense(1, activation='sigmoid'))\n",
    "\n",
    "model15.compile(loss='binary_crossentropy',\n",
    "              optimizer = 'adam',\n",
    "              metrics=['acc'])"
   ]
  },
  {
   "cell_type": "code",
   "execution_count": 92,
   "metadata": {},
   "outputs": [
    {
     "name": "stdout",
     "output_type": "stream",
     "text": [
      "Epoch 1/100\n",
      "31/31 [==============================] - 44s 1s/step - loss: 2.5310 - acc: 0.5164 - val_loss: 1.1002 - val_acc: 0.5232\n",
      "Epoch 2/100\n",
      "31/31 [==============================] - 42s 1s/step - loss: 0.8655 - acc: 0.5226 - val_loss: 0.7419 - val_acc: 0.5232\n",
      "Epoch 3/100\n",
      "31/31 [==============================] - 42s 1s/step - loss: 0.7145 - acc: 0.5226 - val_loss: 0.6988 - val_acc: 0.5232\n",
      "Epoch 4/100\n",
      "31/31 [==============================] - 42s 1s/step - loss: 0.6961 - acc: 0.5226 - val_loss: 0.6935 - val_acc: 0.5232\n",
      "Epoch 5/100\n",
      "31/31 [==============================] - 42s 1s/step - loss: 0.6929 - acc: 0.5226 - val_loss: 0.6924 - val_acc: 0.5232\n",
      "Epoch 6/100\n",
      "31/31 [==============================] - 42s 1s/step - loss: 0.6925 - acc: 0.5226 - val_loss: 0.6922 - val_acc: 0.5232\n",
      "Epoch 7/100\n",
      "31/31 [==============================] - 43s 1s/step - loss: 0.6923 - acc: 0.5226 - val_loss: 0.6921 - val_acc: 0.5232\n",
      "Epoch 8/100\n",
      "31/31 [==============================] - 42s 1s/step - loss: 0.6924 - acc: 0.5226 - val_loss: 0.6921 - val_acc: 0.5232\n",
      "Epoch 9/100\n",
      "31/31 [==============================] - 43s 1s/step - loss: 0.6926 - acc: 0.5226 - val_loss: 0.6921 - val_acc: 0.5232\n",
      "Epoch 10/100\n",
      "31/31 [==============================] - 42s 1s/step - loss: 0.6923 - acc: 0.5226 - val_loss: 0.6922 - val_acc: 0.5232\n",
      "Epoch 11/100\n",
      "31/31 [==============================] - 42s 1s/step - loss: 0.6923 - acc: 0.5226 - val_loss: 0.6922 - val_acc: 0.5232\n",
      "Epoch 12/100\n",
      "31/31 [==============================] - 42s 1s/step - loss: 0.6924 - acc: 0.5226 - val_loss: 0.6921 - val_acc: 0.5232\n",
      "Epoch 13/100\n",
      "31/31 [==============================] - 43s 1s/step - loss: 0.6923 - acc: 0.5226 - val_loss: 0.6921 - val_acc: 0.5232\n",
      "Epoch 14/100\n",
      "31/31 [==============================] - 42s 1s/step - loss: 0.6923 - acc: 0.5226 - val_loss: 0.6921 - val_acc: 0.5232\n",
      "Epoch 15/100\n",
      "31/31 [==============================] - 43s 1s/step - loss: 0.6923 - acc: 0.5226 - val_loss: 0.6921 - val_acc: 0.5232\n",
      "Epoch 16/100\n",
      "31/31 [==============================] - 42s 1s/step - loss: 0.6925 - acc: 0.5226 - val_loss: 0.6921 - val_acc: 0.5232\n",
      "Epoch 17/100\n",
      "31/31 [==============================] - 42s 1s/step - loss: 0.6923 - acc: 0.5226 - val_loss: 0.6921 - val_acc: 0.5232\n",
      "Epoch 18/100\n",
      "31/31 [==============================] - 43s 1s/step - loss: 0.6923 - acc: 0.5226 - val_loss: 0.6921 - val_acc: 0.5232\n",
      "Epoch 19/100\n",
      "31/31 [==============================] - 43s 1s/step - loss: 0.6923 - acc: 0.5226 - val_loss: 0.6921 - val_acc: 0.5232\n",
      "Epoch 20/100\n",
      "31/31 [==============================] - 42s 1s/step - loss: 0.6922 - acc: 0.5226 - val_loss: 0.6921 - val_acc: 0.5232\n",
      "Epoch 21/100\n",
      "31/31 [==============================] - 42s 1s/step - loss: 0.6922 - acc: 0.5226 - val_loss: 0.6921 - val_acc: 0.5232\n",
      "Epoch 22/100\n",
      "31/31 [==============================] - 42s 1s/step - loss: 0.6922 - acc: 0.5226 - val_loss: 0.6921 - val_acc: 0.5232\n",
      "Epoch 23/100\n",
      "31/31 [==============================] - 42s 1s/step - loss: 0.6924 - acc: 0.5226 - val_loss: 0.6921 - val_acc: 0.5232\n",
      "Epoch 24/100\n",
      "31/31 [==============================] - 42s 1s/step - loss: 0.6922 - acc: 0.5226 - val_loss: 0.6921 - val_acc: 0.5232\n",
      "Epoch 25/100\n",
      "31/31 [==============================] - 45s 1s/step - loss: 0.6922 - acc: 0.5226 - val_loss: 0.6921 - val_acc: 0.5232\n",
      "Epoch 26/100\n",
      "31/31 [==============================] - 42s 1s/step - loss: 0.6923 - acc: 0.5226 - val_loss: 0.6921 - val_acc: 0.5232\n",
      "Epoch 27/100\n",
      "31/31 [==============================] - 42s 1s/step - loss: 0.6923 - acc: 0.5226 - val_loss: 0.6921 - val_acc: 0.5232\n",
      "Epoch 28/100\n",
      "31/31 [==============================] - 42s 1s/step - loss: 0.6924 - acc: 0.5226 - val_loss: 0.6921 - val_acc: 0.5232\n",
      "Epoch 29/100\n",
      "31/31 [==============================] - 42s 1s/step - loss: 0.6922 - acc: 0.5226 - val_loss: 0.6921 - val_acc: 0.5232\n",
      "Epoch 30/100\n",
      "31/31 [==============================] - 42s 1s/step - loss: 0.6924 - acc: 0.5226 - val_loss: 0.6921 - val_acc: 0.5232\n",
      "Epoch 31/100\n",
      "31/31 [==============================] - 42s 1s/step - loss: 0.6924 - acc: 0.5226 - val_loss: 0.6921 - val_acc: 0.5232\n",
      "Epoch 32/100\n",
      "31/31 [==============================] - 43s 1s/step - loss: 0.6923 - acc: 0.5226 - val_loss: 0.6921 - val_acc: 0.5232\n",
      "Epoch 33/100\n",
      "31/31 [==============================] - 42s 1s/step - loss: 0.6923 - acc: 0.5226 - val_loss: 0.6921 - val_acc: 0.5232\n",
      "Epoch 34/100\n",
      "31/31 [==============================] - 42s 1s/step - loss: 0.6923 - acc: 0.5226 - val_loss: 0.6921 - val_acc: 0.5232\n",
      "Epoch 35/100\n",
      "31/31 [==============================] - 42s 1s/step - loss: 0.6923 - acc: 0.5226 - val_loss: 0.6921 - val_acc: 0.5232\n",
      "Epoch 36/100\n",
      "31/31 [==============================] - 42s 1s/step - loss: 0.6923 - acc: 0.5226 - val_loss: 0.6921 - val_acc: 0.5232\n",
      "Epoch 37/100\n",
      "31/31 [==============================] - 42s 1s/step - loss: 0.6922 - acc: 0.5226 - val_loss: 0.6921 - val_acc: 0.5232\n",
      "Epoch 38/100\n",
      "31/31 [==============================] - 42s 1s/step - loss: 0.6922 - acc: 0.5226 - val_loss: 0.6921 - val_acc: 0.5232\n",
      "Epoch 39/100\n",
      "31/31 [==============================] - 42s 1s/step - loss: 0.6923 - acc: 0.5226 - val_loss: 0.6921 - val_acc: 0.5232\n",
      "Epoch 40/100\n",
      "31/31 [==============================] - 42s 1s/step - loss: 0.6922 - acc: 0.5226 - val_loss: 0.6921 - val_acc: 0.5232\n",
      "Epoch 41/100\n",
      "31/31 [==============================] - 42s 1s/step - loss: 0.6922 - acc: 0.5226 - val_loss: 0.6921 - val_acc: 0.5232\n",
      "Epoch 42/100\n",
      "31/31 [==============================] - 42s 1s/step - loss: 0.6923 - acc: 0.5226 - val_loss: 0.6921 - val_acc: 0.5232\n",
      "Epoch 43/100\n",
      "31/31 [==============================] - 42s 1s/step - loss: 0.6923 - acc: 0.5226 - val_loss: 0.6921 - val_acc: 0.5232\n",
      "Epoch 44/100\n",
      "31/31 [==============================] - 42s 1s/step - loss: 0.6923 - acc: 0.5226 - val_loss: 0.6921 - val_acc: 0.5232\n",
      "Epoch 45/100\n",
      "31/31 [==============================] - 42s 1s/step - loss: 0.6923 - acc: 0.5226 - val_loss: 0.6921 - val_acc: 0.5232\n",
      "Epoch 46/100\n",
      "31/31 [==============================] - 42s 1s/step - loss: 0.6922 - acc: 0.5226 - val_loss: 0.6921 - val_acc: 0.5232\n",
      "Epoch 47/100\n",
      "31/31 [==============================] - 43s 1s/step - loss: 0.6922 - acc: 0.5226 - val_loss: 0.6921 - val_acc: 0.5232\n",
      "Epoch 48/100\n",
      "31/31 [==============================] - 43s 1s/step - loss: 0.6922 - acc: 0.5226 - val_loss: 0.6921 - val_acc: 0.5232\n",
      "Epoch 49/100\n",
      "31/31 [==============================] - 43s 1s/step - loss: 0.6922 - acc: 0.5226 - val_loss: 0.6921 - val_acc: 0.5232\n",
      "Epoch 50/100\n",
      "31/31 [==============================] - 42s 1s/step - loss: 0.6923 - acc: 0.5226 - val_loss: 0.6921 - val_acc: 0.5232\n",
      "Epoch 51/100\n",
      "31/31 [==============================] - 42s 1s/step - loss: 0.6922 - acc: 0.5226 - val_loss: 0.6921 - val_acc: 0.5232\n",
      "Epoch 52/100\n",
      "31/31 [==============================] - 42s 1s/step - loss: 0.6922 - acc: 0.5226 - val_loss: 0.6921 - val_acc: 0.5232\n",
      "Epoch 53/100\n",
      "31/31 [==============================] - 42s 1s/step - loss: 0.6923 - acc: 0.5226 - val_loss: 0.6921 - val_acc: 0.5232\n",
      "Epoch 54/100\n",
      "31/31 [==============================] - 43s 1s/step - loss: 0.6922 - acc: 0.5226 - val_loss: 0.6921 - val_acc: 0.5232\n",
      "Epoch 55/100\n",
      "31/31 [==============================] - 42s 1s/step - loss: 0.6922 - acc: 0.5226 - val_loss: 0.6921 - val_acc: 0.5232\n",
      "Epoch 56/100\n",
      "31/31 [==============================] - 42s 1s/step - loss: 0.6923 - acc: 0.5226 - val_loss: 0.6921 - val_acc: 0.5232\n",
      "Epoch 57/100\n",
      "31/31 [==============================] - 42s 1s/step - loss: 0.6923 - acc: 0.5226 - val_loss: 0.6921 - val_acc: 0.5232\n",
      "Epoch 58/100\n",
      "31/31 [==============================] - 43s 1s/step - loss: 0.6924 - acc: 0.5226 - val_loss: 0.6921 - val_acc: 0.5232\n",
      "Epoch 59/100\n",
      "31/31 [==============================] - 42s 1s/step - loss: 0.6924 - acc: 0.5226 - val_loss: 0.6921 - val_acc: 0.5232\n",
      "Epoch 60/100\n",
      "31/31 [==============================] - 42s 1s/step - loss: 0.6924 - acc: 0.5226 - val_loss: 0.6921 - val_acc: 0.5232\n",
      "Epoch 61/100\n",
      "31/31 [==============================] - 42s 1s/step - loss: 0.6925 - acc: 0.5226 - val_loss: 0.6921 - val_acc: 0.5232\n",
      "Epoch 62/100\n",
      "31/31 [==============================] - 42s 1s/step - loss: 0.6923 - acc: 0.5226 - val_loss: 0.6921 - val_acc: 0.5232\n",
      "Epoch 63/100\n"
     ]
    },
    {
     "name": "stdout",
     "output_type": "stream",
     "text": [
      "31/31 [==============================] - 42s 1s/step - loss: 0.6922 - acc: 0.5226 - val_loss: 0.6921 - val_acc: 0.5232\n",
      "Epoch 64/100\n",
      "31/31 [==============================] - 42s 1s/step - loss: 0.6922 - acc: 0.5226 - val_loss: 0.6921 - val_acc: 0.5232\n",
      "Epoch 65/100\n",
      "31/31 [==============================] - 42s 1s/step - loss: 0.6923 - acc: 0.5226 - val_loss: 0.6921 - val_acc: 0.5232\n",
      "Epoch 66/100\n",
      "31/31 [==============================] - 42s 1s/step - loss: 0.6922 - acc: 0.5226 - val_loss: 0.6921 - val_acc: 0.5232\n",
      "Epoch 67/100\n",
      "31/31 [==============================] - 42s 1s/step - loss: 0.6923 - acc: 0.5226 - val_loss: 0.6921 - val_acc: 0.5232\n",
      "Epoch 68/100\n",
      "31/31 [==============================] - 42s 1s/step - loss: 0.6923 - acc: 0.5226 - val_loss: 0.6921 - val_acc: 0.5232\n",
      "Epoch 69/100\n",
      "31/31 [==============================] - 43s 1s/step - loss: 0.6925 - acc: 0.5226 - val_loss: 0.6921 - val_acc: 0.5232\n",
      "Epoch 70/100\n",
      "31/31 [==============================] - 42s 1s/step - loss: 0.6922 - acc: 0.5226 - val_loss: 0.6921 - val_acc: 0.5232\n",
      "Epoch 71/100\n",
      "31/31 [==============================] - 42s 1s/step - loss: 0.6922 - acc: 0.5226 - val_loss: 0.6921 - val_acc: 0.5232\n",
      "Epoch 72/100\n",
      "31/31 [==============================] - 42s 1s/step - loss: 0.6923 - acc: 0.5226 - val_loss: 0.6921 - val_acc: 0.5232\n",
      "Epoch 73/100\n",
      "31/31 [==============================] - 43s 1s/step - loss: 0.6921 - acc: 0.5226 - val_loss: 0.6921 - val_acc: 0.5232\n",
      "Epoch 74/100\n",
      "31/31 [==============================] - 42s 1s/step - loss: 0.6922 - acc: 0.5226 - val_loss: 0.6921 - val_acc: 0.5232\n",
      "Epoch 75/100\n",
      "31/31 [==============================] - 42s 1s/step - loss: 0.6922 - acc: 0.5226 - val_loss: 0.6921 - val_acc: 0.5232\n",
      "Epoch 76/100\n",
      "31/31 [==============================] - 42s 1s/step - loss: 0.6922 - acc: 0.5226 - val_loss: 0.6921 - val_acc: 0.5232\n",
      "Epoch 77/100\n",
      "31/31 [==============================] - 42s 1s/step - loss: 0.6922 - acc: 0.5226 - val_loss: 0.6921 - val_acc: 0.5232\n",
      "Epoch 78/100\n",
      "31/31 [==============================] - 42s 1s/step - loss: 0.6926 - acc: 0.5226 - val_loss: 0.6921 - val_acc: 0.5232\n",
      "Epoch 79/100\n",
      "31/31 [==============================] - 42s 1s/step - loss: 0.6922 - acc: 0.5226 - val_loss: 0.6921 - val_acc: 0.5232\n",
      "Epoch 80/100\n",
      "31/31 [==============================] - 43s 1s/step - loss: 0.6922 - acc: 0.5226 - val_loss: 0.6921 - val_acc: 0.5232\n",
      "Epoch 81/100\n",
      "31/31 [==============================] - 43s 1s/step - loss: 0.6922 - acc: 0.5226 - val_loss: 0.6921 - val_acc: 0.5232\n",
      "Epoch 82/100\n",
      "31/31 [==============================] - 42s 1s/step - loss: 0.6922 - acc: 0.5226 - val_loss: 0.6921 - val_acc: 0.5232\n",
      "Epoch 83/100\n",
      "31/31 [==============================] - 42s 1s/step - loss: 0.6922 - acc: 0.5226 - val_loss: 0.6921 - val_acc: 0.5232\n",
      "Epoch 84/100\n",
      "31/31 [==============================] - 42s 1s/step - loss: 0.6922 - acc: 0.5226 - val_loss: 0.6921 - val_acc: 0.5232\n",
      "Epoch 85/100\n",
      "31/31 [==============================] - 42s 1s/step - loss: 0.6922 - acc: 0.5226 - val_loss: 0.6921 - val_acc: 0.5232\n",
      "Epoch 86/100\n",
      "31/31 [==============================] - 42s 1s/step - loss: 0.6922 - acc: 0.5226 - val_loss: 0.6921 - val_acc: 0.5232\n",
      "Epoch 87/100\n",
      "31/31 [==============================] - 42s 1s/step - loss: 0.6922 - acc: 0.5226 - val_loss: 0.6921 - val_acc: 0.5232\n",
      "Epoch 88/100\n",
      "31/31 [==============================] - 42s 1s/step - loss: 0.6923 - acc: 0.5226 - val_loss: 0.6921 - val_acc: 0.5232\n",
      "Epoch 89/100\n",
      "31/31 [==============================] - 42s 1s/step - loss: 0.6923 - acc: 0.5226 - val_loss: 0.6921 - val_acc: 0.5232\n",
      "Epoch 90/100\n",
      "31/31 [==============================] - 42s 1s/step - loss: 0.6924 - acc: 0.5226 - val_loss: 0.6921 - val_acc: 0.5232\n",
      "Epoch 91/100\n",
      "31/31 [==============================] - 42s 1s/step - loss: 0.6923 - acc: 0.5226 - val_loss: 0.6921 - val_acc: 0.5232\n",
      "Epoch 92/100\n",
      "31/31 [==============================] - 42s 1s/step - loss: 0.6922 - acc: 0.5226 - val_loss: 0.6921 - val_acc: 0.5232\n",
      "Epoch 93/100\n",
      "31/31 [==============================] - 42s 1s/step - loss: 0.6922 - acc: 0.5226 - val_loss: 0.6921 - val_acc: 0.5232\n",
      "Epoch 94/100\n",
      "31/31 [==============================] - 42s 1s/step - loss: 0.6923 - acc: 0.5226 - val_loss: 0.6921 - val_acc: 0.5232\n",
      "Epoch 95/100\n",
      "31/31 [==============================] - 42s 1s/step - loss: 0.6922 - acc: 0.5226 - val_loss: 0.6921 - val_acc: 0.5232\n",
      "Epoch 96/100\n",
      "31/31 [==============================] - 42s 1s/step - loss: 0.6922 - acc: 0.5226 - val_loss: 0.6921 - val_acc: 0.5232\n",
      "Epoch 97/100\n",
      "31/31 [==============================] - 42s 1s/step - loss: 0.6922 - acc: 0.5226 - val_loss: 0.6921 - val_acc: 0.5232\n",
      "Epoch 98/100\n",
      "31/31 [==============================] - 43s 1s/step - loss: 0.6923 - acc: 0.5226 - val_loss: 0.6921 - val_acc: 0.5232\n",
      "Epoch 99/100\n",
      "31/31 [==============================] - 42s 1s/step - loss: 0.6922 - acc: 0.5226 - val_loss: 0.6921 - val_acc: 0.5232\n",
      "Epoch 100/100\n",
      "31/31 [==============================] - 42s 1s/step - loss: 0.6924 - acc: 0.5226 - val_loss: 0.6921 - val_acc: 0.5232\n"
     ]
    }
   ],
   "source": [
    "model15_history = model15.fit(train_data,\n",
    "                    epochs=global_epochs,\n",
    "                    validation_data = val_data\n",
    "                   )"
   ]
  },
  {
   "cell_type": "code",
   "execution_count": 93,
   "metadata": {},
   "outputs": [
    {
     "name": "stdout",
     "output_type": "stream",
     "text": [
      "31/31 [==============================] - 28s 888ms/step - loss: 0.6921 - acc: 0.5226\n",
      "11/11 [==============================] - 6s 534ms/step - loss: 0.6921 - acc: 0.5232\n"
     ]
    },
    {
     "data": {
      "text/plain": [
       "[0.6920685768127441, 0.5232198238372803]"
      ]
     },
     "execution_count": 93,
     "metadata": {},
     "output_type": "execute_result"
    }
   ],
   "source": [
    "model_15_train_results = model15.evaluate(train_data)\n",
    "model_15_train_results\n",
    "\n",
    "model_15_val_results = model15.evaluate(val_data)\n",
    "model_15_val_results"
   ]
  },
  {
   "cell_type": "code",
   "execution_count": 94,
   "metadata": {},
   "outputs": [],
   "source": [
    "score_dictionary['model 15'] = (model_15_train_results, model_15_val_results)"
   ]
  },
  {
   "cell_type": "code",
   "execution_count": 95,
   "metadata": {},
   "outputs": [
    {
     "data": {
      "image/png": "[encoded data removed]",
      "text/plain": [
       "<Figure size 720x360 with 2 Axes>"
      ]
     },
     "metadata": {
      "needs_background": "light"
     },
     "output_type": "display_data"
    }
   ],
   "source": [
    "# visualizing loss and accuracy per epoch\n",
    "model15_train_loss = model15_history.history['loss']\n",
    "model15_train_acc = model15_history.history['acc']\n",
    "model15_val_loss = model15_history.history['val_loss']\n",
    "model15_val_acc = model15_history.history['val_acc']\n",
    "\n",
    "\n",
    "fig, (ax1, ax2) = plt.subplots(1, 2, figsize=(10, 5))\n",
    "\n",
    "sns.lineplot(x=model15_history.epoch, y=model15_train_loss, ax=ax1, label='training loss')\n",
    "sns.lineplot(x=model15_history.epoch, y=model15_train_acc, ax=ax2, label='training accuracy')\n",
    "\n",
    "sns.lineplot(x=model15_history.epoch, y=model15_val_loss, ax=ax1, label='validation loss')\n",
    "sns.lineplot(x=model15_history.epoch, y=model15_val_acc, ax=ax2, label='validation accuracy');"
   ]
  }
 ],
 "metadata": {
  "kernelspec": {
   "display_name": "Python (learn-env)",
   "language": "python",
   "name": "learn-env"
  },
  "language_info": {
   "codemirror_mode": {
    "name": "ipython",
    "version": 3
   },
   "file_extension": ".py",
   "mimetype": "text/x-python",
   "name": "python",
   "nbconvert_exporter": "python",
   "pygments_lexer": "ipython3",
   "version": "3.8.5"
  }
 },
 "nbformat": 4,
 "nbformat_minor": 4
}
