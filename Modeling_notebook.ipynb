{
 "cells": [
  {
   "cell_type": "markdown",
   "metadata": {},
   "source": [
    "This notebook is strictly for modeling and keeping track of thechanges I make per model/ what changes improve the accuracy/reduces overfitting the most"
   ]
  },
  {
   "cell_type": "code",
   "execution_count": 1,
   "metadata": {},
   "outputs": [],
   "source": [
    "#imports \n",
    "import os, shutil\n",
    "import pandas as pd\n",
    "from sklearn.metrics import accuracy_score, recall_score\n",
    "import time\n",
    "import matplotlib.pyplot as plt\n",
    "import scipy\n",
    "import numpy as np\n",
    "from PIL import Image\n",
    "from scipy import ndimage\n",
    "from keras.preprocessing.image import ImageDataGenerator, array_to_img, img_to_array, load_img\n",
    "from keras import models\n",
    "from keras import layers\n",
    "from tensorflow.keras import regularizers\n",
    "import seaborn as sns\n",
    "import tensorflow as tf\n",
    "from keras.callbacks import EarlyStopping"
   ]
  },
  {
   "cell_type": "code",
   "execution_count": 2,
   "metadata": {},
   "outputs": [],
   "source": [
    "# # strings of directories for the different data\n",
    "# train_images_dir = 'C:/Users/User/Documents/Flatiron/Capstone/train_data/images'\n",
    "# test_images_dir = 'C:/Users/User/Documents/Flatiron/Capstone/test_data/images'"
   ]
  },
  {
   "cell_type": "code",
   "execution_count": 3,
   "metadata": {},
   "outputs": [],
   "source": [
    "# global_target_size = (64,64)\n",
    "# global_batch_size = 32\n",
    "# global_epochs = 100"
   ]
  },
  {
   "cell_type": "code",
   "execution_count": 4,
   "metadata": {},
   "outputs": [],
   "source": [
    "score_dictionary = {}"
   ]
  },
  {
   "cell_type": "code",
   "execution_count": 5,
   "metadata": {},
   "outputs": [],
   "source": [
    "# train_val_generator = ImageDataGenerator(rescale=1./255,\n",
    "#                                          validation_split = .25,horizontal_flip = True)"
   ]
  },
  {
   "cell_type": "code",
   "execution_count": 6,
   "metadata": {},
   "outputs": [],
   "source": [
    "# train_data = train_val_generator.flow_from_directory(train_images_dir,  \n",
    "#                                                      target_size = global_target_size,\n",
    "#                                                      subset='training',\n",
    "#                                                      batch_size=global_batch_size,\n",
    "#                                                      class_mode='binary',\n",
    "#                                                     shuffle = True,\n",
    "#                                                     seed = 100)"
   ]
  },
  {
   "cell_type": "code",
   "execution_count": 7,
   "metadata": {},
   "outputs": [],
   "source": [
    "# val_data = train_val_generator.flow_from_directory(train_images_dir,\n",
    "#        subset = 'validation',  \n",
    "#        target_size = global_target_size,\n",
    "#        batch_size=global_batch_size,\n",
    "#        class_mode='binary',\n",
    "#        seed = 100)"
   ]
  },
  {
   "cell_type": "code",
   "execution_count": 8,
   "metadata": {},
   "outputs": [],
   "source": [
    "# test_generator = ImageDataGenerator(rescale=1./255)\n",
    "# test_data = test_generator.flow_from_directory(\n",
    "#         test_images_dir,  \n",
    "#         target_size = global_target_size,\n",
    "#         batch_size=global_batch_size,\n",
    "#         class_mode='binary',\n",
    "#         shuffle= False)"
   ]
  },
  {
   "cell_type": "markdown",
   "metadata": {},
   "source": [
    "Trying ONLY Guns, to see if this makes it easier on my model"
   ]
  },
  {
   "cell_type": "code",
   "execution_count": 9,
   "metadata": {},
   "outputs": [],
   "source": [
    "# strings of directories for the different data\n",
    "train_images_dir = 'C:/Users/User/Documents/Flatiron/Capstone/train_data_guns'\n",
    "test_images_dir = 'C:/Users/User/Documents/Flatiron/Capstone/test_data_guns'"
   ]
  },
  {
   "cell_type": "code",
   "execution_count": 10,
   "metadata": {},
   "outputs": [],
   "source": [
    "global_target_size = (127,127)\n",
    "global_batch_size = 32\n",
    "global_epochs = 50"
   ]
  },
  {
   "cell_type": "code",
   "execution_count": 11,
   "metadata": {},
   "outputs": [],
   "source": [
    "train_val_generator = ImageDataGenerator(rescale=1./255,\n",
    "                                         validation_split = .25)"
   ]
  },
  {
   "cell_type": "code",
   "execution_count": 12,
   "metadata": {},
   "outputs": [
    {
     "name": "stdout",
     "output_type": "stream",
     "text": [
      "Found 974 images belonging to 2 classes.\n"
     ]
    }
   ],
   "source": [
    "train_data = train_val_generator.flow_from_directory(train_images_dir,  \n",
    "                                                     target_size = global_target_size,\n",
    "                                                     subset='training',\n",
    "                                                     batch_size=global_batch_size,\n",
    "                                                     class_mode='binary',\n",
    "                                                    shuffle = True,\n",
    "                                                    seed = 100)"
   ]
  },
  {
   "cell_type": "code",
   "execution_count": 13,
   "metadata": {},
   "outputs": [
    {
     "name": "stdout",
     "output_type": "stream",
     "text": [
      "Found 323 images belonging to 2 classes.\n"
     ]
    }
   ],
   "source": [
    "val_data = train_val_generator.flow_from_directory(train_images_dir,\n",
    "       subset = 'validation',  \n",
    "       target_size = global_target_size,\n",
    "       batch_size=global_batch_size,\n",
    "       class_mode='binary',\n",
    "       seed = 100)"
   ]
  },
  {
   "cell_type": "code",
   "execution_count": 124,
   "metadata": {},
   "outputs": [
    {
     "name": "stdout",
     "output_type": "stream",
     "text": [
      "Found 243 images belonging to 2 classes.\n"
     ]
    }
   ],
   "source": [
    "test_generator = ImageDataGenerator(rescale=1./255)\n",
    "test_data = test_generator.flow_from_directory(\n",
    "        test_images_dir,  \n",
    "        target_size = global_target_size,\n",
    "        batch_size=global_batch_size,\n",
    "        class_mode='binary',\n",
    "        shuffle= False)"
   ]
  },
  {
   "cell_type": "markdown",
   "metadata": {},
   "source": [
    "### CNN 1 - Baseline"
   ]
  },
  {
   "cell_type": "markdown",
   "metadata": {},
   "source": [
    "The baseline model is comprised of \n",
    "\n",
    "stack 1 - 1 Conv2d layer with 32 nodes, relu activation, (3,3) kernel size, 1 max pooling later with (2,2) pool size\n",
    "\n",
    "stack 2 - 1 Conv2d layer with 32 nodes, relu activation, (4,4) kernel size, 1 max pooling layer with (2,2) pool size\n",
    "\n",
    "stack 3 - 1 Conv2D layer with 64 nodes, relu activation, (3,3) kernel size, 1 max pooling later with (2,2) pool size\n",
    "\n",
    "flattening layer - layer that flattens the tensor into a 1D array to be fed into the dense layers\n",
    "\n",
    "Dense Layer 1 - Dense layer with 64 nodes and relu activation \n",
    "\n",
    "Dense Layer 2 - output layer with sigmoid activation"
   ]
  },
  {
   "cell_type": "code",
   "execution_count": 15,
   "metadata": {},
   "outputs": [],
   "source": [
    "# baseline = models.Sequential()\n",
    "\n",
    "# # stack 1\n",
    "# baseline.add(layers.Conv2D(32, (3, 3), activation='relu',\n",
    "#                         input_shape=(global_target_size[0], global_target_size[0],  3)))\n",
    "# baseline.add(layers.MaxPooling2D((2, 2)))\n",
    "\n",
    "# # stack 2\n",
    "# baseline.add(layers.Conv2D(32, (4, 4), activation='relu'))\n",
    "# baseline.add(layers.MaxPooling2D((2, 2)))\n",
    "\n",
    "# # stack 3\n",
    "# baseline.add(layers.Conv2D(64, (3, 3), activation='relu'))\n",
    "# baseline.add(layers.MaxPooling2D((2, 2)))\n",
    "\n",
    "# # flattening layer\n",
    "# baseline.add(layers.Flatten())\n",
    "\n",
    "# # Dense Layer 1 \n",
    "# baseline.add(layers.Dense(64, activation='relu'))\n",
    "\n",
    "# # Dense Layer 2 // output layer\n",
    "# baseline.add(layers.Dense(1, activation='sigmoid'))\n",
    "\n",
    "\n",
    "# ## Compiling baseline \n",
    "# baseline.compile(loss='binary_crossentropy',\n",
    "#               optimizer=\"sgd\",\n",
    "#               metrics=['acc'])"
   ]
  },
  {
   "cell_type": "code",
   "execution_count": 16,
   "metadata": {},
   "outputs": [],
   "source": [
    "# baseline_history = baseline.fit(train_data,\n",
    "#                     epochs=global_epochs,\n",
    "#                     validation_data = val_data\n",
    "#                    )"
   ]
  },
  {
   "cell_type": "code",
   "execution_count": 17,
   "metadata": {},
   "outputs": [],
   "source": [
    "# baseline_train_results = baseline.evaluate(train_data)\n",
    "# baseline_train_results"
   ]
  },
  {
   "cell_type": "code",
   "execution_count": 18,
   "metadata": {},
   "outputs": [],
   "source": [
    "# baseline_val_results = baseline.evaluate(val_data)\n",
    "# baseline_val_results"
   ]
  },
  {
   "cell_type": "code",
   "execution_count": 19,
   "metadata": {},
   "outputs": [],
   "source": [
    "# score_dictionary['baseline'] =  (baseline_train_results,baseline_val_results)"
   ]
  },
  {
   "cell_type": "code",
   "execution_count": 20,
   "metadata": {},
   "outputs": [],
   "source": [
    "# # visualizing loss and accuracy per epoch\n",
    "# baseline_train_loss = baseline_history.history['loss']\n",
    "# baseline_train_acc = baseline_history.history['acc']\n",
    "# baseline_val_loss = baseline_history.history['val_loss']\n",
    "# baseline_val_acc = baseline_history.history['val_acc']\n",
    "\n",
    "\n",
    "# fig, (ax1, ax2) = plt.subplots(1, 2, figsize=(10, 5))\n",
    "\n",
    "# sns.lineplot(x=baseline_history.epoch, y=baseline_train_loss, ax=ax1, label='training loss')\n",
    "# sns.lineplot(x=baseline_history.epoch, y=baseline_train_acc, ax=ax2, label='training accuracy')\n",
    "\n",
    "# sns.lineplot(x=baseline_history.epoch, y=baseline_val_loss, ax=ax1, label='validation loss')\n",
    "# sns.lineplot(x=baseline_history.epoch, y=baseline_val_acc, ax=ax2, label='validation accuracy');"
   ]
  },
  {
   "cell_type": "markdown",
   "metadata": {},
   "source": [
    "### CNN Iteration 1"
   ]
  },
  {
   "cell_type": "markdown",
   "metadata": {},
   "source": [
    "In this iteration I will increase the number of dense/hidden layers and add some dropout"
   ]
  },
  {
   "cell_type": "markdown",
   "metadata": {},
   "source": [
    "CNN 1 Architecture\n",
    "\n",
    "Changes Made: \n",
    "- removed the third stack\n",
    "- added 2 dense layers and 2 dropout layers"
   ]
  },
  {
   "cell_type": "code",
   "execution_count": 21,
   "metadata": {},
   "outputs": [],
   "source": [
    "# model1 = models.Sequential()\n",
    "\n",
    "# # stack 1\n",
    "# model1.add(layers.Conv2D(32, (3, 3), activation='relu',\n",
    "#                         input_shape=(global_target_size[0], global_target_size[0],  3)))\n",
    "# model1.add(layers.MaxPooling2D((2, 2)))\n",
    "\n",
    "# # stack 2\n",
    "# model1.add(layers.Conv2D(32, (4, 4), activation='relu'))\n",
    "# model1.add(layers.MaxPooling2D((2, 2)))\n",
    "\n",
    "\n",
    "# # flattening layer\n",
    "# model1.add(layers.Flatten())\n",
    "\n",
    "# # Dense Layer 1 \n",
    "# model1.add(layers.Dense(32, activation='relu'))\n",
    "\n",
    "# # Dense Dropout layer 1 \n",
    "# model1.add(layers.Dropout(.25))\n",
    "\n",
    "# # Dense Layer 2 \n",
    "# model1.add(layers.Dense(64, activation='relu'))\n",
    "\n",
    "# # Dense Dropout Layer 2\n",
    "# model1.add(layers.Dropout(.5))\n",
    "\n",
    "# # Dense Layer 3\n",
    "# model1.add(layers.Dense(32, activation='relu'))\n",
    "\n",
    "# # Dense Layer 2 // output layer\n",
    "# model1.add(layers.Dense(1, activation='sigmoid'))\n",
    "\n",
    "\n",
    "# ## Compiling baseline \n",
    "# model1.compile(loss='binary_crossentropy',\n",
    "#               optimizer=\"sgd\",\n",
    "#               metrics=['acc'])"
   ]
  },
  {
   "cell_type": "code",
   "execution_count": 22,
   "metadata": {},
   "outputs": [],
   "source": [
    "# model1_history = model1.fit(train_data,\n",
    "#                     epochs=global_epochs,\n",
    "#                     validation_data = val_data\n",
    "#                    )"
   ]
  },
  {
   "cell_type": "code",
   "execution_count": 23,
   "metadata": {},
   "outputs": [],
   "source": [
    "# model_1_train_results = model1.evaluate(train_data)\n",
    "# model_1_train_results\n",
    "\n",
    "# model_1_val_results = model1.evaluate(val_data)\n",
    "# model_1_val_results"
   ]
  },
  {
   "cell_type": "code",
   "execution_count": 24,
   "metadata": {},
   "outputs": [],
   "source": [
    "# score_dictionary['model 1'] = (model_1_train_results,model_1_val_results)"
   ]
  },
  {
   "cell_type": "code",
   "execution_count": 25,
   "metadata": {},
   "outputs": [],
   "source": [
    "# # visualizing loss and accuracy per epoch\n",
    "# model1_train_loss = model1_history.history['loss']\n",
    "# model1_train_acc = model1_history.history['acc']\n",
    "# model1_val_loss = model1_history.history['val_loss']\n",
    "# model1_val_acc = model1_history.history['val_acc']\n",
    "\n",
    "\n",
    "# fig, (ax1, ax2) = plt.subplots(1, 2, figsize=(10, 5))\n",
    "\n",
    "# sns.lineplot(x=model1_history.epoch, y=model1_train_loss, ax=ax1, label='training loss')\n",
    "# sns.lineplot(x=model1_history.epoch, y=model1_train_acc, ax=ax2, label='training accuracy')\n",
    "\n",
    "# sns.lineplot(x=model1_history.epoch, y=model1_val_loss, ax=ax1, label='validation loss')\n",
    "# sns.lineplot(x=model1_history.epoch, y=model1_val_acc, ax=ax2, label='validation accuracy');"
   ]
  },
  {
   "cell_type": "markdown",
   "metadata": {},
   "source": [
    "### CNN Iteration 2"
   ]
  },
  {
   "cell_type": "markdown",
   "metadata": {},
   "source": [
    "In this iteration I will change the MaxPooling stride to (2,2) instead of the default of None"
   ]
  },
  {
   "cell_type": "markdown",
   "metadata": {},
   "source": [
    "### SHOULD TRY stride of 1,1 as well"
   ]
  },
  {
   "cell_type": "code",
   "execution_count": 26,
   "metadata": {},
   "outputs": [],
   "source": [
    "# model2 = models.Sequential()\n",
    "\n",
    "# # stack 1\n",
    "# model2.add(layers.Conv2D(32, (3, 3), activation='relu',\n",
    "#                         input_shape=(global_target_size[0], global_target_size[0],  3)))\n",
    "# model2.add(layers.MaxPooling2D((2, 2),\n",
    "#                         strides = (2,2)))\n",
    "\n",
    "# # stack 2\n",
    "# model2.add(layers.Conv2D(32, (4, 4), activation='relu',strides = (2,2)))\n",
    "# model2.add(layers.MaxPooling2D((2, 2),\n",
    "#                         strides = (2,2)))\n",
    "\n",
    "# # stack 3\n",
    "# model2.add(layers.Conv2D(64, (3, 3), activation='relu',strides = (2,2)))\n",
    "# model2.add(layers.MaxPooling2D((2, 2),\n",
    "#                         strides = (2,2)))\n",
    "\n",
    "# # flattening layer\n",
    "# model2.add(layers.Flatten())\n",
    "\n",
    "# # Dense Layer 1 \n",
    "# model2.add(layers.Dense(64, activation='relu'))\n",
    "\n",
    "# # Dense Layer 2 // output layer\n",
    "# model2.add(layers.Dense(1, activation='sigmoid'))\n",
    "\n",
    "\n",
    "# ## Compiling baseline \n",
    "# model2.compile(loss='binary_crossentropy',\n",
    "#               optimizer=\"sgd\",\n",
    "#               metrics=['acc'])"
   ]
  },
  {
   "cell_type": "code",
   "execution_count": 27,
   "metadata": {},
   "outputs": [],
   "source": [
    "# model2_history = model2.fit(train_data,\n",
    "#                     epochs=global_epochs,\n",
    "#                     validation_data = val_data\n",
    "#                    )"
   ]
  },
  {
   "cell_type": "code",
   "execution_count": 28,
   "metadata": {},
   "outputs": [],
   "source": [
    "# model_2_train_results = model2.evaluate(train_data)\n",
    "# model_2_train_results\n",
    "\n",
    "# model_2_val_results = model2.evaluate(val_data)\n",
    "# model_2_val_results"
   ]
  },
  {
   "cell_type": "code",
   "execution_count": 29,
   "metadata": {},
   "outputs": [],
   "source": [
    "# score_dictionary['model 2'] = (model_2_train_results,model_2_val_results)"
   ]
  },
  {
   "cell_type": "code",
   "execution_count": 30,
   "metadata": {},
   "outputs": [],
   "source": [
    "# # visualizing loss and accuracy per epoch\n",
    "# model2_train_loss = model2_history.history['loss']\n",
    "# model2_train_acc = model2_history.history['acc']\n",
    "# model2_val_loss = model2_history.history['val_loss']\n",
    "# model2_val_acc = model2_history.history['val_acc']\n",
    "\n",
    "\n",
    "# fig, (ax1, ax2) = plt.subplots(1, 2, figsize=(10, 5))\n",
    "\n",
    "# sns.lineplot(x=model2_history.epoch, y=model2_train_loss, ax=ax1, label='training loss')\n",
    "# sns.lineplot(x=model2_history.epoch, y=model2_train_acc, ax=ax2, label='training accuracy')\n",
    "\n",
    "# sns.lineplot(x=model2_history.epoch, y=model2_val_loss, ax=ax1, label='validation loss')\n",
    "# sns.lineplot(x=model2_history.epoch, y=model2_val_acc, ax=ax2, label='validation accuracy');"
   ]
  },
  {
   "cell_type": "markdown",
   "metadata": {},
   "source": [
    "### CNN Iteration 3"
   ]
  },
  {
   "cell_type": "markdown",
   "metadata": {},
   "source": [
    "In this iteration I will increase the amount of convolutional layers and decrease the amount of dense layers"
   ]
  },
  {
   "cell_type": "code",
   "execution_count": 31,
   "metadata": {},
   "outputs": [],
   "source": [
    "# model3 = models.Sequential()\n",
    "\n",
    "# # Stack 1\n",
    "# model3.add(layers.Conv2D(filters = 32,\n",
    "#                          kernel_size=(3,3),\n",
    "#                          activation='relu',\n",
    "#                          input_shape = (global_target_size[0],global_target_size[0], 3)\n",
    "#                         ))\n",
    "# model3.add(layers.MaxPooling2D(pool_size = (2, 2)))\n",
    "\n",
    "# # Stack 2\n",
    "# model3.add(layers.Conv2D(32, (4, 4), activation='relu'))\n",
    "# model3.add(layers.MaxPooling2D((2, 2)))\n",
    "\n",
    "# # Stack 3\n",
    "# model3.add(layers.Conv2D(64, (3, 3), activation='relu'))\n",
    "# model3.add(layers.MaxPooling2D((2, 2)))\n",
    "\n",
    "# # Stack 4\n",
    "# model3.add(layers.Conv2D(64, (3, 3), activation='relu'))\n",
    "# model3.add(layers.MaxPooling2D((2, 2)))\n",
    "\n",
    "# # Flattening layer\n",
    "# model3.add(layers.Flatten())\n",
    "\n",
    "# # Dense layer 1\n",
    "# model3.add(layers.Dense(64, activation='relu'))\n",
    "\n",
    "# # Dense layer 2 - output layer\n",
    "# model3.add(layers.Dense(1, activation='sigmoid'))\n",
    "\n",
    "# model3.compile(loss='binary_crossentropy',\n",
    "#               optimizer = 'adam',\n",
    "#               metrics=['acc'])"
   ]
  },
  {
   "cell_type": "code",
   "execution_count": 32,
   "metadata": {},
   "outputs": [],
   "source": [
    "# model3_history = model3.fit(train_data,\n",
    "#                     epochs=global_epochs,\n",
    "#                     validation_data = val_data\n",
    "#                    )"
   ]
  },
  {
   "cell_type": "code",
   "execution_count": 33,
   "metadata": {},
   "outputs": [],
   "source": [
    "# model_3_train_results = model3.evaluate(train_data)\n",
    "# model_3_train_results\n",
    "\n",
    "# model_3_val_results = model3.evaluate(val_data)\n",
    "# model_3_val_results"
   ]
  },
  {
   "cell_type": "code",
   "execution_count": 34,
   "metadata": {},
   "outputs": [],
   "source": [
    "# score_dictionary['model 3'] = (model_3_train_results,model_3_val_results)"
   ]
  },
  {
   "cell_type": "code",
   "execution_count": 35,
   "metadata": {},
   "outputs": [],
   "source": [
    "# # visualizing loss and accuracy per epoch\n",
    "# model3_train_loss = model3_history.history['loss']\n",
    "# model3_train_acc = model3_history.history['acc']\n",
    "# model3_val_loss = model3_history.history['val_loss']\n",
    "# model3_val_acc = model3_history.history['val_acc']\n",
    "\n",
    "\n",
    "# fig, (ax1, ax2) = plt.subplots(1, 2, figsize=(10, 5))\n",
    "\n",
    "# sns.lineplot(x=model3_history.epoch, y=model3_train_loss, ax=ax1, label='training loss')\n",
    "# sns.lineplot(x=model3_history.epoch, y=model3_train_acc, ax=ax2, label='training accuracy')\n",
    "\n",
    "# sns.lineplot(x=model3_history.epoch, y=model3_val_loss, ax=ax1, label='validation loss')\n",
    "# sns.lineplot(x=model3_history.epoch, y=model3_val_acc, ax=ax2, label='validation accuracy');"
   ]
  },
  {
   "cell_type": "markdown",
   "metadata": {},
   "source": [
    "### CNN Iteration 4"
   ]
  },
  {
   "cell_type": "markdown",
   "metadata": {},
   "source": [
    "Here I will increase upon iteration 3, by increasing the filter size of the CONV2d Layers"
   ]
  },
  {
   "cell_type": "code",
   "execution_count": 36,
   "metadata": {},
   "outputs": [],
   "source": [
    "# model4 = models.Sequential()\n",
    "\n",
    "# # Stack 1\n",
    "# model4.add(layers.Conv2D(filters = 64,\n",
    "#                          kernel_size=(3,3),\n",
    "#                          activation='relu',\n",
    "#                          input_shape = (global_target_size[0],global_target_size[0], 3)\n",
    "#                         ))\n",
    "# model4.add(layers.MaxPooling2D(pool_size = (2, 2)))\n",
    "\n",
    "# # Stack 2\n",
    "# model4.add(layers.Conv2D(64, (4, 4), activation='relu'))\n",
    "# model4.add(layers.MaxPooling2D((2, 2)))\n",
    "\n",
    "# # Stack 3\n",
    "# model4.add(layers.Conv2D(128, (3, 3), activation='relu'))\n",
    "# model4.add(layers.MaxPooling2D((2, 2)))\n",
    "\n",
    "# # Stack 4\n",
    "# model4.add(layers.Conv2D(128, (3, 3), activation='relu'))\n",
    "# model4.add(layers.MaxPooling2D((2, 2)))\n",
    "\n",
    "# # Flattening layer\n",
    "# model4.add(layers.Flatten())\n",
    "\n",
    "# # Dense layer 1\n",
    "# model4.add(layers.Dense(64, activation='relu'))\n",
    "\n",
    "# # Dense layer 2 - output layer\n",
    "# model4.add(layers.Dense(1, activation='sigmoid'))\n",
    "\n",
    "# model4.compile(loss='binary_crossentropy',\n",
    "#               optimizer = 'adam',\n",
    "#               metrics=['acc'])"
   ]
  },
  {
   "cell_type": "code",
   "execution_count": 37,
   "metadata": {},
   "outputs": [],
   "source": [
    "# model4_history = model4.fit(train_data,\n",
    "#                     epochs=global_epochs,\n",
    "#                     validation_data = val_data\n",
    "#                    )"
   ]
  },
  {
   "cell_type": "code",
   "execution_count": 38,
   "metadata": {},
   "outputs": [],
   "source": [
    "# model_4_train_results = model4.evaluate(train_data)\n",
    "# model_4_train_results\n",
    "\n",
    "# model_4_val_results = model4.evaluate(val_data)\n",
    "# model_4_val_results"
   ]
  },
  {
   "cell_type": "code",
   "execution_count": 39,
   "metadata": {},
   "outputs": [],
   "source": [
    "# score_dictionary['model 4'] = (model_4_train_results,model_4_val_results)"
   ]
  },
  {
   "cell_type": "code",
   "execution_count": 40,
   "metadata": {},
   "outputs": [],
   "source": [
    "# # visualizing loss and accuracy per epoch\n",
    "# model4_train_loss = model4_history.history['loss']\n",
    "# model4_train_acc = model4_history.history['acc']\n",
    "# model4_val_loss = model4_history.history['val_loss']\n",
    "# model4_val_acc = model4_history.history['val_acc']\n",
    "\n",
    "\n",
    "# fig, (ax1, ax2) = plt.subplots(1, 2, figsize=(10, 5))\n",
    "\n",
    "# sns.lineplot(x=model4_history.epoch, y=model4_train_loss, ax=ax1, label='training loss')\n",
    "# sns.lineplot(x=model4_history.epoch, y=model4_train_acc, ax=ax2, label='training accuracy')\n",
    "\n",
    "# sns.lineplot(x=model4_history.epoch, y=model4_val_loss, ax=ax1, label='validation loss')\n",
    "# sns.lineplot(x=model4_history.epoch, y=model4_val_acc, ax=ax2, label='validation accuracy');"
   ]
  },
  {
   "cell_type": "markdown",
   "metadata": {},
   "source": [
    "### CNN Iteration 5"
   ]
  },
  {
   "cell_type": "markdown",
   "metadata": {},
   "source": [
    "Here, I am taking model 3's architecture and tweaking it by adding more convolutional layers and also increasing the filter sizes by an order of 2"
   ]
  },
  {
   "cell_type": "code",
   "execution_count": 41,
   "metadata": {},
   "outputs": [],
   "source": [
    "model5 = models.Sequential()\n",
    "\n",
    "# Stack 1\n",
    "model5.add(layers.Conv2D(filters = 64,\n",
    "                         kernel_size=(3,3),\n",
    "                         activation='relu',\n",
    "                         input_shape = (global_target_size[0],global_target_size[0], 3),\n",
    "                         padding = 'same'\n",
    "                        ))\n",
    "model5.add(layers.MaxPooling2D(pool_size = (4,4),\n",
    "                         padding = 'same'))\n",
    "\n",
    "# Stack 2\n",
    "model5.add(layers.Conv2D(32, (3,3), activation='relu',padding = 'same'))\n",
    "model5.add(layers.MaxPooling2D((2, 2),\n",
    "                         padding = 'same'))\n",
    "\n",
    "# Stack 3\n",
    "model5.add(layers.Conv2D(64, (4,4), activation='relu'))\n",
    "model5.add(layers.MaxPooling2D((2, 2),\n",
    "                         padding = 'same'))\n",
    "\n",
    "# Stack 4\n",
    "model5.add(layers.Conv2D(128, (3,3), activation='relu',padding='same'))\n",
    "model5.add(layers.MaxPooling2D((2, 2),\n",
    "                         padding = 'same'))\n",
    "\n",
    "# Stack 5\n",
    "model5.add(layers.Conv2D(128, (4,4), activation='relu',padding = 'same'))\n",
    "model5.add(layers.MaxPooling2D((2, 2),\n",
    "                         padding = 'same'))\n",
    "\n",
    "# Stack 5\n",
    "model5.add(layers.Conv2D(256, (4,4), activation='relu',padding = 'same'))\n",
    "model5.add(layers.MaxPooling2D((2, 2),\n",
    "                         padding = 'same'))\n",
    "\n",
    "# Flattening layer\n",
    "model5.add(layers.Flatten())\n",
    "\n",
    "# Dense layer 1\n",
    "model5.add(layers.Dense(64, activation='relu'))\n",
    "\n",
    "# Dense layer 2 - output layer\n",
    "model5.add(layers.Dense(1, activation='sigmoid'))\n",
    "\n",
    "model5.compile(loss='binary_crossentropy',\n",
    "              optimizer = 'adam',\n",
    "              metrics=['acc'])"
   ]
  },
  {
   "cell_type": "code",
   "execution_count": 42,
   "metadata": {},
   "outputs": [
    {
     "name": "stdout",
     "output_type": "stream",
     "text": [
      "Epoch 1/50\n",
      "31/31 [==============================] - 43s 1s/step - loss: 0.6945 - acc: 0.5205 - val_loss: 0.6923 - val_acc: 0.5232\n",
      "Epoch 2/50\n",
      "31/31 [==============================] - 43s 1s/step - loss: 0.6925 - acc: 0.5226 - val_loss: 0.6893 - val_acc: 0.5232\n",
      "Epoch 3/50\n",
      "31/31 [==============================] - 45s 1s/step - loss: 0.6890 - acc: 0.5359 - val_loss: 0.6548 - val_acc: 0.5975\n",
      "Epoch 4/50\n",
      "31/31 [==============================] - 42s 1s/step - loss: 0.6572 - acc: 0.6078 - val_loss: 0.5599 - val_acc: 0.7028\n",
      "Epoch 5/50\n",
      "31/31 [==============================] - 42s 1s/step - loss: 0.5886 - acc: 0.6910 - val_loss: 0.4816 - val_acc: 0.8173\n",
      "Epoch 6/50\n",
      "31/31 [==============================] - 43s 1s/step - loss: 0.5204 - acc: 0.7474 - val_loss: 0.4276 - val_acc: 0.8204\n",
      "Epoch 7/50\n",
      "31/31 [==============================] - 42s 1s/step - loss: 0.4794 - acc: 0.7793 - val_loss: 0.5236 - val_acc: 0.7585\n",
      "Epoch 8/50\n",
      "31/31 [==============================] - 42s 1s/step - loss: 0.4427 - acc: 0.7906 - val_loss: 0.5139 - val_acc: 0.7492\n",
      "Epoch 9/50\n",
      "31/31 [==============================] - 43s 1s/step - loss: 0.3657 - acc: 0.8429 - val_loss: 0.5003 - val_acc: 0.7214\n",
      "Epoch 10/50\n",
      "31/31 [==============================] - 43s 1s/step - loss: 0.3369 - acc: 0.8593 - val_loss: 0.5830 - val_acc: 0.7616\n",
      "Epoch 11/50\n",
      "31/31 [==============================] - 42s 1s/step - loss: 0.2807 - acc: 0.8860 - val_loss: 0.3882 - val_acc: 0.8173\n",
      "Epoch 12/50\n",
      "31/31 [==============================] - 42s 1s/step - loss: 0.2142 - acc: 0.9127 - val_loss: 0.4698 - val_acc: 0.7895\n",
      "Epoch 13/50\n",
      "31/31 [==============================] - 42s 1s/step - loss: 0.1711 - acc: 0.9363 - val_loss: 0.4504 - val_acc: 0.8266\n",
      "Epoch 14/50\n",
      "31/31 [==============================] - 43s 1s/step - loss: 0.0955 - acc: 0.9682 - val_loss: 0.7825 - val_acc: 0.7740\n",
      "Epoch 15/50\n",
      "31/31 [==============================] - 42s 1s/step - loss: 0.0909 - acc: 0.9682 - val_loss: 0.6650 - val_acc: 0.8111\n",
      "Epoch 16/50\n",
      "31/31 [==============================] - 42s 1s/step - loss: 0.1108 - acc: 0.9559 - val_loss: 0.5082 - val_acc: 0.8204\n",
      "Epoch 17/50\n",
      "31/31 [==============================] - 43s 1s/step - loss: 0.0541 - acc: 0.9795 - val_loss: 0.8254 - val_acc: 0.8266\n",
      "Epoch 18/50\n",
      "31/31 [==============================] - 42s 1s/step - loss: 0.0354 - acc: 0.9867 - val_loss: 0.6932 - val_acc: 0.8390\n",
      "Epoch 19/50\n",
      "31/31 [==============================] - 42s 1s/step - loss: 0.0710 - acc: 0.9733 - val_loss: 0.7699 - val_acc: 0.8050\n",
      "Epoch 20/50\n",
      "31/31 [==============================] - 42s 1s/step - loss: 0.0640 - acc: 0.9774 - val_loss: 0.7587 - val_acc: 0.7988\n",
      "Epoch 21/50\n",
      "31/31 [==============================] - 42s 1s/step - loss: 0.0466 - acc: 0.9856 - val_loss: 0.8778 - val_acc: 0.8019\n",
      "Epoch 22/50\n",
      "31/31 [==============================] - 43s 1s/step - loss: 0.0167 - acc: 0.9959 - val_loss: 0.9444 - val_acc: 0.8142\n",
      "Epoch 23/50\n",
      "31/31 [==============================] - 42s 1s/step - loss: 0.0059 - acc: 0.9990 - val_loss: 1.1504 - val_acc: 0.8080\n",
      "Epoch 24/50\n",
      "31/31 [==============================] - 43s 1s/step - loss: 0.0010 - acc: 1.0000 - val_loss: 1.0776 - val_acc: 0.8266\n",
      "Epoch 25/50\n",
      "31/31 [==============================] - 42s 1s/step - loss: 4.7890e-04 - acc: 1.0000 - val_loss: 1.1123 - val_acc: 0.8235\n",
      "Epoch 26/50\n",
      "31/31 [==============================] - 42s 1s/step - loss: 2.8898e-04 - acc: 1.0000 - val_loss: 1.1518 - val_acc: 0.8142\n",
      "Epoch 27/50\n",
      "31/31 [==============================] - 42s 1s/step - loss: 2.2970e-04 - acc: 1.0000 - val_loss: 1.1713 - val_acc: 0.8173\n",
      "Epoch 28/50\n",
      "31/31 [==============================] - 42s 1s/step - loss: 1.8656e-04 - acc: 1.0000 - val_loss: 1.1854 - val_acc: 0.8173\n",
      "Epoch 29/50\n",
      "31/31 [==============================] - 44s 1s/step - loss: 1.5768e-04 - acc: 1.0000 - val_loss: 1.2013 - val_acc: 0.8173\n",
      "Epoch 30/50\n",
      "31/31 [==============================] - 43s 1s/step - loss: 1.3545e-04 - acc: 1.0000 - val_loss: 1.2168 - val_acc: 0.8173\n",
      "Epoch 31/50\n",
      "31/31 [==============================] - 42s 1s/step - loss: 1.1840e-04 - acc: 1.0000 - val_loss: 1.2290 - val_acc: 0.8173\n",
      "Epoch 32/50\n",
      "31/31 [==============================] - 42s 1s/step - loss: 1.0487e-04 - acc: 1.0000 - val_loss: 1.2402 - val_acc: 0.8173\n",
      "Epoch 33/50\n",
      "31/31 [==============================] - 42s 1s/step - loss: 9.3565e-05 - acc: 1.0000 - val_loss: 1.2546 - val_acc: 0.8173\n",
      "Epoch 34/50\n",
      "31/31 [==============================] - 42s 1s/step - loss: 8.3668e-05 - acc: 1.0000 - val_loss: 1.2643 - val_acc: 0.8173\n",
      "Epoch 35/50\n",
      "31/31 [==============================] - 43s 1s/step - loss: 7.5831e-05 - acc: 1.0000 - val_loss: 1.2935 - val_acc: 0.8173\n",
      "Epoch 36/50\n",
      "31/31 [==============================] - 42s 1s/step - loss: 5.5424e-05 - acc: 1.0000 - val_loss: 1.4630 - val_acc: 0.8173\n",
      "Epoch 37/50\n",
      "31/31 [==============================] - 42s 1s/step - loss: 3.8732e-05 - acc: 1.0000 - val_loss: 1.5986 - val_acc: 0.8142\n",
      "Epoch 38/50\n",
      "31/31 [==============================] - 42s 1s/step - loss: 3.2253e-05 - acc: 1.0000 - val_loss: 1.6586 - val_acc: 0.8142\n",
      "Epoch 39/50\n",
      "31/31 [==============================] - 42s 1s/step - loss: 2.7830e-05 - acc: 1.0000 - val_loss: 1.7050 - val_acc: 0.8142\n",
      "Epoch 40/50\n",
      "31/31 [==============================] - 43s 1s/step - loss: 2.4692e-05 - acc: 1.0000 - val_loss: 1.7411 - val_acc: 0.8142\n",
      "Epoch 41/50\n",
      "31/31 [==============================] - 43s 1s/step - loss: 2.2506e-05 - acc: 1.0000 - val_loss: 1.7845 - val_acc: 0.8142\n",
      "Epoch 42/50\n",
      "31/31 [==============================] - 42s 1s/step - loss: 2.0384e-05 - acc: 1.0000 - val_loss: 1.8150 - val_acc: 0.8142\n",
      "Epoch 43/50\n",
      "31/31 [==============================] - 42s 1s/step - loss: 1.8664e-05 - acc: 1.0000 - val_loss: 1.8445 - val_acc: 0.8142\n",
      "Epoch 44/50\n",
      "31/31 [==============================] - 42s 1s/step - loss: 1.7331e-05 - acc: 1.0000 - val_loss: 1.8716 - val_acc: 0.8142\n",
      "Epoch 45/50\n",
      "31/31 [==============================] - 42s 1s/step - loss: 1.6055e-05 - acc: 1.0000 - val_loss: 1.8948 - val_acc: 0.8142\n",
      "Epoch 46/50\n",
      "31/31 [==============================] - 42s 1s/step - loss: 1.5101e-05 - acc: 1.0000 - val_loss: 1.9197 - val_acc: 0.8142\n",
      "Epoch 47/50\n",
      "31/31 [==============================] - 42s 1s/step - loss: 1.4095e-05 - acc: 1.0000 - val_loss: 1.9459 - val_acc: 0.8142\n",
      "Epoch 48/50\n",
      "31/31 [==============================] - 42s 1s/step - loss: 1.3248e-05 - acc: 1.0000 - val_loss: 1.9610 - val_acc: 0.8142\n",
      "Epoch 49/50\n",
      "31/31 [==============================] - 42s 1s/step - loss: 1.2457e-05 - acc: 1.0000 - val_loss: 1.9818 - val_acc: 0.8142\n",
      "Epoch 50/50\n",
      "31/31 [==============================] - 42s 1s/step - loss: 1.1770e-05 - acc: 1.0000 - val_loss: 1.9987 - val_acc: 0.8142\n"
     ]
    }
   ],
   "source": [
    "model5_history = model5.fit(train_data,\n",
    "                    epochs=global_epochs,\n",
    "                    validation_data = val_data\n",
    "                   )"
   ]
  },
  {
   "cell_type": "code",
   "execution_count": 43,
   "metadata": {},
   "outputs": [
    {
     "name": "stdout",
     "output_type": "stream",
     "text": [
      "31/31 [==============================] - 28s 892ms/step - loss: 1.1382e-05 - acc: 1.0000\n",
      "11/11 [==============================] - 6s 524ms/step - loss: 1.9987 - acc: 0.8142\n"
     ]
    },
    {
     "data": {
      "text/plain": [
       "[1.998702049255371, 0.8142414689064026]"
      ]
     },
     "execution_count": 43,
     "metadata": {},
     "output_type": "execute_result"
    }
   ],
   "source": [
    "model_5_train_results = model5.evaluate(train_data)\n",
    "model_5_train_results\n",
    "\n",
    "model_5_val_results = model5.evaluate(val_data)\n",
    "model_5_val_results"
   ]
  },
  {
   "cell_type": "code",
   "execution_count": 44,
   "metadata": {},
   "outputs": [],
   "source": [
    "score_dictionary['model 5'] = (model_5_train_results,model_5_val_results)"
   ]
  },
  {
   "cell_type": "code",
   "execution_count": 45,
   "metadata": {},
   "outputs": [
    {
     "data": {
      "image/png": "[encoded data removed]",
      "text/plain": [
       "<Figure size 720x360 with 2 Axes>"
      ]
     },
     "metadata": {
      "needs_background": "light"
     },
     "output_type": "display_data"
    }
   ],
   "source": [
    "# visualizing loss and accuracy per epoch\n",
    "model5_train_loss = model5_history.history['loss']\n",
    "model5_train_acc = model5_history.history['acc']\n",
    "model5_val_loss = model5_history.history['val_loss']\n",
    "model5_val_acc = model5_history.history['val_acc']\n",
    "\n",
    "\n",
    "fig, (ax1, ax2) = plt.subplots(1, 2, figsize=(10, 5))\n",
    "\n",
    "sns.lineplot(x=model5_history.epoch, y=model5_train_loss, ax=ax1, label='training loss')\n",
    "sns.lineplot(x=model5_history.epoch, y=model5_train_acc, ax=ax2, label='training accuracy')\n",
    "\n",
    "sns.lineplot(x=model5_history.epoch, y=model5_val_loss, ax=ax1, label='validation loss')\n",
    "sns.lineplot(x=model5_history.epoch, y=model5_val_acc, ax=ax2, label='validation accuracy');"
   ]
  },
  {
   "cell_type": "markdown",
   "metadata": {},
   "source": [
    "### CNN ITERATION 6"
   ]
  },
  {
   "cell_type": "markdown",
   "metadata": {},
   "source": [
    "For this iteration I will be changing the learning rate to .01 - Will be training this on iteration 3"
   ]
  },
  {
   "cell_type": "code",
   "execution_count": 46,
   "metadata": {},
   "outputs": [],
   "source": [
    "# adam_opt_01 = tf.keras.optimizers.Adam(\n",
    "#     learning_rate=0.01)"
   ]
  },
  {
   "cell_type": "code",
   "execution_count": 47,
   "metadata": {},
   "outputs": [],
   "source": [
    "# model6 = models.Sequential()\n",
    "\n",
    "# # Stack 1\n",
    "# model6.add(layers.Conv2D(filters = 32,\n",
    "#                          kernel_size=(3,3),\n",
    "#                          activation='relu',\n",
    "#                          input_shape = (global_target_size[0],global_target_size[0], 3)\n",
    "#                         ))\n",
    "# model6.add(layers.MaxPooling2D(pool_size = (2, 2)))\n",
    "\n",
    "# # Stack 2\n",
    "# model6.add(layers.Conv2D(32, (4, 4), activation='relu'))\n",
    "# model6.add(layers.MaxPooling2D((2, 2)))\n",
    "\n",
    "# # Stack 3\n",
    "# model6.add(layers.Conv2D(64, (3, 3), activation='relu'))\n",
    "# model6.add(layers.MaxPooling2D((2, 2)))\n",
    "\n",
    "# # Stack 4\n",
    "# model6.add(layers.Conv2D(64, (3, 3), activation='relu'))\n",
    "# model6.add(layers.MaxPooling2D((2, 2)))\n",
    "\n",
    "# # Flattening layer\n",
    "# model6.add(layers.Flatten())\n",
    "\n",
    "# # Dense layer 1\n",
    "# model6.add(layers.Dense(64, activation='relu'))\n",
    "\n",
    "# # Dense layer 2 - output layer\n",
    "# model6.add(layers.Dense(1, activation='sigmoid'))\n",
    "\n",
    "# model6.compile(loss='binary_crossentropy',\n",
    "#               optimizer = adam_opt_01,\n",
    "#               metrics=['acc'])"
   ]
  },
  {
   "cell_type": "code",
   "execution_count": 48,
   "metadata": {},
   "outputs": [],
   "source": [
    "# model6_history = model6.fit(train_data,\n",
    "#                     epochs=global_epochs,\n",
    "#                     validation_data = val_data\n",
    "#                    )"
   ]
  },
  {
   "cell_type": "code",
   "execution_count": 49,
   "metadata": {},
   "outputs": [],
   "source": [
    "# model_6_train_results = model6.evaluate(train_data)\n",
    "# model_6_train_results\n",
    "\n",
    "# model_6_val_results = model6.evaluate(val_data)\n",
    "# model_6_val_results"
   ]
  },
  {
   "cell_type": "code",
   "execution_count": 50,
   "metadata": {},
   "outputs": [],
   "source": [
    "# score_dictionary['model 6'] = (model_6_train_results,model_6_val_results)"
   ]
  },
  {
   "cell_type": "code",
   "execution_count": 51,
   "metadata": {},
   "outputs": [],
   "source": [
    "# # visualizing loss and accuracy per epoch\n",
    "# model6_train_loss = model6_history.history['loss']\n",
    "# model6_train_acc = model6_history.history['acc']\n",
    "# model6_val_loss = model6_history.history['val_loss']\n",
    "# model6_val_acc = model6_history.history['val_acc']\n",
    "\n",
    "\n",
    "# fig, (ax1, ax2) = plt.subplots(1, 2, figsize=(10, 5))\n",
    "\n",
    "# sns.lineplot(x=model6_history.epoch, y=model6_train_loss, ax=ax1, label='training loss')\n",
    "# sns.lineplot(x=model6_history.epoch, y=model6_train_acc, ax=ax2, label='training accuracy')\n",
    "\n",
    "# sns.lineplot(x=model6_history.epoch, y=model6_val_loss, ax=ax1, label='validation loss')\n",
    "# sns.lineplot(x=model6_history.epoch, y=model6_val_acc, ax=ax2, label='validation accuracy');"
   ]
  },
  {
   "cell_type": "markdown",
   "metadata": {},
   "source": [
    "### CNN ITERATION 7"
   ]
  },
  {
   "cell_type": "markdown",
   "metadata": {},
   "source": [
    "For this iteration, I am using the same architecture as model 3, but I am using a learning rate for the adam optimizer of .0001"
   ]
  },
  {
   "cell_type": "code",
   "execution_count": 52,
   "metadata": {},
   "outputs": [],
   "source": [
    "# adam_opt_0001 = tf.keras.optimizers.Adam(\n",
    "#     learning_rate=0.0001)"
   ]
  },
  {
   "cell_type": "code",
   "execution_count": 53,
   "metadata": {},
   "outputs": [],
   "source": [
    "# model7 = models.Sequential()\n",
    "\n",
    "# # Stack 1\n",
    "# model7.add(layers.Conv2D(filters = 32,\n",
    "#                          kernel_size=(3,3),\n",
    "#                          activation='relu',\n",
    "#                          input_shape = (global_target_size[0],global_target_size[0], 3)\n",
    "#                         ))\n",
    "# model7.add(layers.MaxPooling2D(pool_size = (2, 2)))\n",
    "\n",
    "# # Stack 2\n",
    "# model7.add(layers.Conv2D(32, (4, 4), activation='relu'))\n",
    "# model7.add(layers.MaxPooling2D((2, 2)))\n",
    "\n",
    "# # Stack 3\n",
    "# model7.add(layers.Conv2D(64, (3, 3), activation='relu'))\n",
    "# model7.add(layers.MaxPooling2D((2, 2)))\n",
    "\n",
    "# # Stack 4\n",
    "# model7.add(layers.Conv2D(64, (3, 3), activation='relu'))\n",
    "# model7.add(layers.MaxPooling2D((2, 2)))\n",
    "\n",
    "# # Flattening layer\n",
    "# model7.add(layers.Flatten())\n",
    "\n",
    "# # Dense layer 1\n",
    "# model7.add(layers.Dense(64, activation='relu'))\n",
    "\n",
    "# # Dense layer 2 - output layer\n",
    "# model7.add(layers.Dense(1, activation='sigmoid'))\n",
    "\n",
    "# model7.compile(loss='binary_crossentropy',\n",
    "#               optimizer = adam_opt_0001,\n",
    "#               metrics=['acc'])"
   ]
  },
  {
   "cell_type": "code",
   "execution_count": 54,
   "metadata": {},
   "outputs": [],
   "source": [
    "# model7_history = model7.fit(train_data,\n",
    "#                     epochs=global_epochs,\n",
    "#                     validation_data = val_data\n",
    "#                    )"
   ]
  },
  {
   "cell_type": "code",
   "execution_count": 55,
   "metadata": {},
   "outputs": [],
   "source": [
    "# model_7_train_results = model7.evaluate(train_data)\n",
    "# model_7_train_results\n",
    "\n",
    "# model_7_val_results = model7.evaluate(val_data)\n",
    "# model_7_val_results"
   ]
  },
  {
   "cell_type": "code",
   "execution_count": 56,
   "metadata": {},
   "outputs": [],
   "source": [
    "# score_dictionary['model 7'] = (model_7_train_results,model_7_val_results)"
   ]
  },
  {
   "cell_type": "code",
   "execution_count": 57,
   "metadata": {},
   "outputs": [],
   "source": [
    "# # visualizing loss and accuracy per epoch\n",
    "# model7_train_loss = model7_history.history['loss']\n",
    "# model7_train_acc = model7_history.history['acc']\n",
    "# model7_val_loss = model7_history.history['val_loss']\n",
    "# model7_val_acc = model7_history.history['val_acc']\n",
    "\n",
    "\n",
    "# fig, (ax1, ax2) = plt.subplots(1, 2, figsize=(10, 5))\n",
    "\n",
    "# sns.lineplot(x=model7_history.epoch, y=model7_train_loss, ax=ax1, label='training loss')\n",
    "# sns.lineplot(x=model7_history.epoch, y=model7_train_acc, ax=ax2, label='training accuracy')\n",
    "\n",
    "# sns.lineplot(x=model7_history.epoch, y=model7_val_loss, ax=ax1, label='validation loss')\n",
    "# sns.lineplot(x=model7_history.epoch, y=model7_val_acc, ax=ax2, label='validation accuracy');"
   ]
  },
  {
   "cell_type": "markdown",
   "metadata": {},
   "source": [
    "### CNN ITERATION 8"
   ]
  },
  {
   "cell_type": "markdown",
   "metadata": {},
   "source": [
    "for this iteration, I will be using model 3's architecture and adding kernel regulizers to all the conv2d layers with an aggression level of .01"
   ]
  },
  {
   "cell_type": "code",
   "execution_count": 58,
   "metadata": {},
   "outputs": [],
   "source": [
    "# model8 = models.Sequential()\n",
    "\n",
    "# # Stack 1\n",
    "# model8.add(layers.Conv2D(filters = 32,\n",
    "#                          kernel_size=(3,3),\n",
    "#                          activation='relu',\n",
    "#                          input_shape = (global_target_size[0],global_target_size[0], 3),\n",
    "#                          kernel_regularizer = regularizers.L2(0.01)\n",
    "#                         ))\n",
    "# model8.add(layers.MaxPooling2D(pool_size = (2, 2)))\n",
    "\n",
    "# # Stack 2\n",
    "# model8.add(layers.Conv2D(32, (4, 4), activation='relu',kernel_regularizer = regularizers.L2(0.01)))\n",
    "# model8.add(layers.MaxPooling2D((2, 2)))\n",
    "\n",
    "# # Stack 3\n",
    "# model8.add(layers.Conv2D(64, (3, 3), activation='relu',kernel_regularizer = regularizers.L2(0.01)))\n",
    "# model8.add(layers.MaxPooling2D((2, 2)))\n",
    "\n",
    "# # Stack 4\n",
    "# model8.add(layers.Conv2D(64, (3, 3), activation='relu',kernel_regularizer = regularizers.L2(0.01)))\n",
    "# model8.add(layers.MaxPooling2D((2, 2)))\n",
    "\n",
    "# # Flattening layer\n",
    "# model8.add(layers.Flatten())\n",
    "\n",
    "# # Dense layer 1\n",
    "# model8.add(layers.Dense(64, activation='relu',kernel_regularizer = regularizers.L2(0.01)))\n",
    "\n",
    "# # Dense layer 2 - output layer\n",
    "# model8.add(layers.Dense(1, activation='sigmoid'))\n",
    "\n",
    "# model8.compile(loss='binary_crossentropy',\n",
    "#               optimizer = 'adam',\n",
    "#               metrics=['acc'])"
   ]
  },
  {
   "cell_type": "code",
   "execution_count": 59,
   "metadata": {},
   "outputs": [],
   "source": [
    "# model8_history = model8.fit(train_data,\n",
    "#                     epochs=global_epochs,\n",
    "#                     validation_data = val_data\n",
    "#                    )"
   ]
  },
  {
   "cell_type": "code",
   "execution_count": 60,
   "metadata": {},
   "outputs": [],
   "source": [
    "# model_8_train_results = model8.evaluate(train_data)\n",
    "# model_8_train_results\n",
    "\n",
    "# model_8_val_results = model8.evaluate(val_data)\n",
    "# model_8_val_results"
   ]
  },
  {
   "cell_type": "code",
   "execution_count": 61,
   "metadata": {},
   "outputs": [],
   "source": [
    "# score_dictionary['model 8'] = (model_8_train_results,model_8_val_results)"
   ]
  },
  {
   "cell_type": "code",
   "execution_count": 62,
   "metadata": {},
   "outputs": [],
   "source": [
    "# # visualizing loss and accuracy per epoch\n",
    "# model8_train_loss = model8_history.history['loss']\n",
    "# model8_train_acc = model8_history.history['acc']\n",
    "# model8_val_loss = model8_history.history['val_loss']\n",
    "# model8_val_acc = model8_history.history['val_acc']\n",
    "\n",
    "\n",
    "# fig, (ax1, ax2) = plt.subplots(1, 2, figsize=(10, 5))\n",
    "\n",
    "# sns.lineplot(x=model8_history.epoch, y=model8_train_loss, ax=ax1, label='training loss')\n",
    "# sns.lineplot(x=model8_history.epoch, y=model8_train_acc, ax=ax2, label='training accuracy')\n",
    "\n",
    "# sns.lineplot(x=model8_history.epoch, y=model8_val_loss, ax=ax1, label='validation loss')\n",
    "# sns.lineplot(x=model8_history.epoch, y=model8_val_acc, ax=ax2, label='validation accuracy');"
   ]
  },
  {
   "cell_type": "markdown",
   "metadata": {},
   "source": [
    "### CNN ITERATION 9 "
   ]
  },
  {
   "cell_type": "markdown",
   "metadata": {},
   "source": [
    " not implementing yet, but would like to try adding extra and seperate activation layers"
   ]
  },
  {
   "cell_type": "markdown",
   "metadata": {},
   "source": [
    "### CNN ITERATION 10"
   ]
  },
  {
   "cell_type": "markdown",
   "metadata": {},
   "source": [
    "Reusing model 1 architecture, try changing the kernel initializer in the conv2D layer to 'glorot_uniform'"
   ]
  },
  {
   "cell_type": "code",
   "execution_count": 63,
   "metadata": {},
   "outputs": [],
   "source": [
    "# model10 = models.Sequential()\n",
    "\n",
    "# # stack 1\n",
    "# model10.add(layers.Conv2D(32, (3, 3), activation='relu',\n",
    "#                         input_shape=(global_target_size[0], global_target_size[0],  3),\n",
    "#                           kernel_initializer='glorot_uniform'))\n",
    "# model10.add(layers.MaxPooling2D((2, 2)))\n",
    "\n",
    "# # stack 2\n",
    "# model10.add(layers.Conv2D(32, (4, 4), activation='relu',\n",
    "#                           kernel_initializer='glorot_uniform'))\n",
    "# model10.add(layers.MaxPooling2D((2, 2)))\n",
    "\n",
    "\n",
    "# # flattening layer\n",
    "# model10.add(layers.Flatten())\n",
    "\n",
    "# # Dense Layer 1 \n",
    "# model10.add(layers.Dense(32, activation='relu'))\n",
    "\n",
    "# # Dense Dropout layer 1 \n",
    "# model10.add(layers.Dropout(.25))\n",
    "\n",
    "# # Dense Layer 2 \n",
    "# model10.add(layers.Dense(64, activation='relu'))\n",
    "\n",
    "# # Dense Dropout Layer 2\n",
    "# model10.add(layers.Dropout(.5))\n",
    "\n",
    "# # Dense Layer 3\n",
    "# model10.add(layers.Dense(32, activation='relu'))\n",
    "\n",
    "# # Dense Layer 2 // output layer\n",
    "# model10.add(layers.Dense(1, activation='sigmoid'))\n",
    "\n",
    "\n",
    "# ## Compiling baseline \n",
    "# model10.compile(loss='binary_crossentropy',\n",
    "#               optimizer=\"adam\",\n",
    "#               metrics=['acc'])"
   ]
  },
  {
   "cell_type": "code",
   "execution_count": 64,
   "metadata": {},
   "outputs": [],
   "source": [
    "# model10_history = model10.fit(train_data,\n",
    "#                     epochs=global_epochs,\n",
    "#                     validation_data = val_data\n",
    "#                    )"
   ]
  },
  {
   "cell_type": "code",
   "execution_count": 65,
   "metadata": {},
   "outputs": [],
   "source": [
    "# model_10_train_results = model10.evaluate(train_data)\n",
    "# model_10_train_results\n",
    "\n",
    "# model_10_val_results = model10.evaluate(val_data)\n",
    "# model_10_val_results"
   ]
  },
  {
   "cell_type": "code",
   "execution_count": 66,
   "metadata": {},
   "outputs": [],
   "source": [
    "# score_dictionary['model 10'] = (model_10_train_results,model_10_val_results)"
   ]
  },
  {
   "cell_type": "code",
   "execution_count": 67,
   "metadata": {},
   "outputs": [],
   "source": [
    "# # visualizing loss and accuracy per epoch\n",
    "# model10_train_loss = model10_history.history['loss']\n",
    "# model10_train_acc = model10_history.history['acc']\n",
    "# model10_val_loss = model10_history.history['val_loss']\n",
    "# model10_val_acc = model10_history.history['val_acc']\n",
    "\n",
    "\n",
    "# fig, (ax1, ax2) = plt.subplots(1, 2, figsize=(10, 5))\n",
    "\n",
    "# sns.lineplot(x=model10_history.epoch, y=model10_train_loss, ax=ax1, label='training loss')\n",
    "# sns.lineplot(x=model10_history.epoch, y=model10_train_acc, ax=ax2, label='training accuracy')\n",
    "\n",
    "# sns.lineplot(x=model10_history.epoch, y=model10_val_loss, ax=ax1, label='validation loss')\n",
    "# sns.lineplot(x=model10_history.epoch, y=model10_val_acc, ax=ax2, label='validation accuracy');"
   ]
  },
  {
   "cell_type": "markdown",
   "metadata": {},
   "source": [
    "### CNN ITERATION 11 "
   ]
  },
  {
   "cell_type": "markdown",
   "metadata": {},
   "source": [
    "I am taking model 1's architecture and making this change:\n",
    "I am trying going deeper instead of wider, so adding more dense layers and removing some of the convolutional layer"
   ]
  },
  {
   "cell_type": "code",
   "execution_count": 68,
   "metadata": {},
   "outputs": [],
   "source": [
    "# model11 = models.Sequential()\n",
    "\n",
    "# # stack 1\n",
    "# model11.add(layers.Conv2D(32, (3, 3), activation='relu',\n",
    "#                         input_shape=(global_target_size[0], global_target_size[0],  3)))\n",
    "# model11.add(layers.MaxPooling2D((2, 2)))\n",
    "\n",
    "# # stack 2\n",
    "# model11.add(layers.Conv2D(64, (4, 4), activation='relu'))\n",
    "# model11.add(layers.MaxPooling2D((2, 2)))\n",
    "\n",
    "# # stack 3\n",
    "# model11.add(layers.Conv2D(64, (4, 4), activation='relu'))\n",
    "# model11.add(layers.MaxPooling2D((2, 2)))\n",
    "\n",
    "\n",
    "\n",
    "# # flattening layer\n",
    "# model11.add(layers.Flatten())\n",
    "\n",
    "# # Dense Layer 1 \n",
    "# model11.add(layers.Dense(64, activation='relu'))\n",
    "\n",
    "# # Dense Dropout layer 1 \n",
    "# model11.add(layers.Dropout(.1))\n",
    "\n",
    "# # Dense Layer 2 \n",
    "# model11.add(layers.Dense(64, activation='relu'))\n",
    "\n",
    "# # Dense Dropout Layer 2\n",
    "# model11.add(layers.Dropout(.25))\n",
    "\n",
    "# # Dense Layer 3 \n",
    "# model11.add(layers.Dense(64, activation='relu'))\n",
    "\n",
    "# # Dense Dropout Layer 3\n",
    "# model11.add(layers.Dropout(.5))\n",
    "\n",
    "# # Dense Layer 4\n",
    "# model11.add(layers.Dense(32, activation='relu'))\n",
    "\n",
    "# # Dense Layer 5 // output layer\n",
    "# model11.add(layers.Dense(1, activation='sigmoid'))\n",
    "\n",
    "\n",
    "# ## Compiling baseline \n",
    "# model11.compile(loss='binary_crossentropy',\n",
    "#               optimizer=\"adam\",\n",
    "#               metrics=['acc'])"
   ]
  },
  {
   "cell_type": "code",
   "execution_count": 69,
   "metadata": {},
   "outputs": [],
   "source": [
    "# model11_history = model11.fit(train_data,\n",
    "#                     epochs=global_epochs,\n",
    "#                     validation_data = val_data\n",
    "#                    )"
   ]
  },
  {
   "cell_type": "code",
   "execution_count": 70,
   "metadata": {},
   "outputs": [],
   "source": [
    "# model_11_train_results = model11.evaluate(train_data)\n",
    "# model_11_train_results\n",
    "\n",
    "# model_11_val_results = model11.evaluate(val_data)\n",
    "# model_11_val_results"
   ]
  },
  {
   "cell_type": "code",
   "execution_count": 71,
   "metadata": {},
   "outputs": [],
   "source": [
    "# score_dictionary['model 11'] = (model_11_train_results,model_11_val_results)"
   ]
  },
  {
   "cell_type": "code",
   "execution_count": 72,
   "metadata": {},
   "outputs": [],
   "source": [
    "# # visualizing loss and accuracy per epoch\n",
    "# model11_train_loss = model11_history.history['loss']\n",
    "# model11_train_acc = model11_history.history['acc']\n",
    "# model11_val_loss = model11_history.history['val_loss']\n",
    "# model11_val_acc = model11_history.history['val_acc']\n",
    "\n",
    "\n",
    "# fig, (ax1, ax2) = plt.subplots(1, 2, figsize=(10, 5))\n",
    "\n",
    "# sns.lineplot(x=model11_history.epoch, y=model11_train_loss, ax=ax1, label='training loss')\n",
    "# sns.lineplot(x=model11_history.epoch, y=model11_train_acc, ax=ax2, label='training accuracy')\n",
    "\n",
    "# sns.lineplot(x=model11_history.epoch, y=model11_val_loss, ax=ax1, label='validation loss')\n",
    "# sns.lineplot(x=model11_history.epoch, y=model11_val_acc, ax=ax2, label='validation accuracy');"
   ]
  },
  {
   "cell_type": "markdown",
   "metadata": {},
   "source": [
    "### CNN Model 12"
   ]
  },
  {
   "cell_type": "markdown",
   "metadata": {},
   "source": [
    "I have concluded that model 5 is my best so far. Model 5 got a validation accuracy of 84. For this iteration, I will use model 5's architecture and I will use  dropoout layers in between my convolutional layers to see if this reduces overfitting. "
   ]
  },
  {
   "cell_type": "code",
   "execution_count": 73,
   "metadata": {},
   "outputs": [],
   "source": [
    "# model12 = models.Sequential()\n",
    "\n",
    "# # Stack 1\n",
    "# model12.add(layers.Conv2D(filters = 64,\n",
    "#                          kernel_size=(3,3),\n",
    "#                          activation='relu',\n",
    "#                          input_shape = (global_target_size[0],global_target_size[0], 3),\n",
    "#                          padding = 'same'\n",
    "#                         ))\n",
    "# model12.add(layers.MaxPooling2D(pool_size = (4,4),\n",
    "#                          padding = 'same'))\n",
    "\n",
    "# # Stack 2\n",
    "# model12.add(layers.Conv2D(32, (3,3), activation='relu',padding = 'same'))\n",
    "# model12.add(layers.MaxPooling2D((2, 2),\n",
    "#                          padding = 'same'))\n",
    "\n",
    "\n",
    "\n",
    "# # Stack 3\n",
    "# model12.add(layers.Conv2D(64, (4,4), activation='relu'))\n",
    "# model12.add(layers.MaxPooling2D((2, 2),\n",
    "#                          padding = 'same'))\n",
    "# # Dropout Layer 1\n",
    "# model12.add(layers.Dropout(.1))\n",
    "\n",
    "# # Stack 4\n",
    "# model12.add(layers.Conv2D(128, (3,3), activation='relu',padding='same'))\n",
    "# model12.add(layers.MaxPooling2D((2, 2),\n",
    "#                          padding = 'same'))\n",
    "\n",
    "# # Dropout Layer 2\n",
    "# model12.add(layers.Dropout(.25))\n",
    "\n",
    "# # Stack 5\n",
    "# model12.add(layers.Conv2D(128, (4,4), activation='relu',padding = 'same'))\n",
    "# model12.add(layers.MaxPooling2D((2, 2),\n",
    "#                          padding = 'same'))\n",
    "# # Dropout Layer 2\n",
    "# model12.add(layers.Dropout(.4))\n",
    "\n",
    "# # Stack 5\n",
    "# model12.add(layers.Conv2D(256, (4,4), activation='relu',padding = 'same'))\n",
    "# model12.add(layers.MaxPooling2D((2, 2),\n",
    "#                          padding = 'same'))\n",
    "\n",
    "\n",
    "# # Flattening layer\n",
    "# model12.add(layers.Flatten())\n",
    "\n",
    "# # Dense layer 1\n",
    "# model12.add(layers.Dense(64, activation='relu'))\n",
    "\n",
    "# # Dense layer 2 - output layer\n",
    "# model12.add(layers.Dense(1, activation='sigmoid'))\n",
    "\n",
    "# model12.compile(loss='binary_crossentropy',\n",
    "#               optimizer = 'adam',\n",
    "#               metrics=['acc'])"
   ]
  },
  {
   "cell_type": "code",
   "execution_count": 74,
   "metadata": {},
   "outputs": [],
   "source": [
    "# model12.summary()"
   ]
  },
  {
   "cell_type": "code",
   "execution_count": 75,
   "metadata": {},
   "outputs": [],
   "source": [
    "# model12_history = model12.fit(train_data,\n",
    "#                     epochs=global_epochs,\n",
    "#                     validation_data = val_data\n",
    "#                    )"
   ]
  },
  {
   "cell_type": "code",
   "execution_count": 76,
   "metadata": {},
   "outputs": [],
   "source": [
    "# model_12_train_results = model12.evaluate(train_data)\n",
    "# model_12_train_results\n",
    "\n",
    "# model_12_val_results = model12.evaluate(val_data)\n",
    "# model_12_val_results"
   ]
  },
  {
   "cell_type": "code",
   "execution_count": 77,
   "metadata": {},
   "outputs": [],
   "source": [
    "# score_dictionary['model 12'] = (model_12_train_results,model_12_val_results)"
   ]
  },
  {
   "cell_type": "code",
   "execution_count": 78,
   "metadata": {},
   "outputs": [],
   "source": [
    "# # visualizing loss and accuracy per epoch\n",
    "# model12_train_loss = model12_history.history['loss']\n",
    "# model12_train_acc = model12_history.history['acc']\n",
    "# model12_val_loss = model12_history.history['val_loss']\n",
    "# model12_val_acc = model12_history.history['val_acc']\n",
    "\n",
    "\n",
    "# fig, (ax1, ax2) = plt.subplots(1, 2, figsize=(10, 5))\n",
    "\n",
    "# sns.lineplot(x=model12_history.epoch, y=model12_train_loss, ax=ax1, label='training loss')\n",
    "# sns.lineplot(x=model12_history.epoch, y=model12_train_acc, ax=ax2, label='training accuracy')\n",
    "\n",
    "# sns.lineplot(x=model12_history.epoch, y=model12_val_loss, ax=ax1, label='validation loss')\n",
    "# sns.lineplot(x=model12_history.epoch, y=model12_val_acc, ax=ax2, label='validation accuracy');"
   ]
  },
  {
   "cell_type": "markdown",
   "metadata": {},
   "source": [
    "### CNN MODEL 13"
   ]
  },
  {
   "cell_type": "markdown",
   "metadata": {},
   "source": [
    "For this iteration, I will add more dropout layers and also increase the intensity, I will be adapting iteration 12's architecture"
   ]
  },
  {
   "cell_type": "code",
   "execution_count": 79,
   "metadata": {},
   "outputs": [],
   "source": [
    "# model13 = models.Sequential()\n",
    "\n",
    "# # Stack 1\n",
    "# model13.add(layers.Conv2D(filters = 64,\n",
    "#                          kernel_size=(3,3),\n",
    "#                          activation='relu',\n",
    "#                          input_shape = (global_target_size[0],global_target_size[0], 3),\n",
    "#                          padding = 'same'\n",
    "#                         ))\n",
    "# model13.add(layers.MaxPooling2D(pool_size = (4,4),\n",
    "#                          padding = 'same'))\n",
    "\n",
    "# # Dropout Layer 1\n",
    "# model13.add(layers.Dropout(.1))\n",
    "\n",
    "# # Stack 2\n",
    "# model13.add(layers.Conv2D(32, (3,3), activation='relu',padding = 'same'))\n",
    "# model13.add(layers.MaxPooling2D((2, 2),\n",
    "#                          padding = 'same'))\n",
    "\n",
    "# # Dropout Layer 2\n",
    "# model13.add(layers.Dropout(.15))\n",
    "\n",
    "# # Stack 3\n",
    "# model13.add(layers.Conv2D(64, (4,4), activation='relu'))\n",
    "# model13.add(layers.MaxPooling2D((2, 2),\n",
    "#                          padding = 'same'))\n",
    "# # Dropout Layer 3\n",
    "# model13.add(layers.Dropout(.2))\n",
    "\n",
    "# # Stack 4\n",
    "# model13.add(layers.Conv2D(128, (3,3), activation='relu',padding='same'))\n",
    "# model13.add(layers.MaxPooling2D((2, 2),\n",
    "#                          padding = 'same'))\n",
    "\n",
    "# # Dropout Layer 4\n",
    "# model13.add(layers.Dropout(.3))\n",
    "\n",
    "# # Stack 5\n",
    "# model13.add(layers.Conv2D(128, (4,4), activation='relu',padding = 'same'))\n",
    "# model13.add(layers.MaxPooling2D((2, 2),\n",
    "#                          padding = 'same'))\n",
    "# # Dropout Layer 5\n",
    "# model13.add(layers.Dropout(.4))\n",
    "\n",
    "# # Stack 5\n",
    "# model13.add(layers.Conv2D(256, (4,4), activation='relu',padding = 'same'))\n",
    "# model13.add(layers.MaxPooling2D((2, 2),\n",
    "#                          padding = 'same'))\n",
    "\n",
    "# # Dropout Layer 6\n",
    "# model13.add(layers.Dropout(.5))\n",
    "\n",
    "\n",
    "# # Flattening layer\n",
    "# model13.add(layers.Flatten())\n",
    "\n",
    "# # Dense layer 1\n",
    "# model13.add(layers.Dense(64, activation='relu'))\n",
    "\n",
    "# # Dense layer 2 - output layer\n",
    "# model13.add(layers.Dense(1, activation='sigmoid'))\n",
    "\n",
    "# model13.compile(loss='binary_crossentropy',\n",
    "#               optimizer = 'adam',\n",
    "#               metrics=['acc'])"
   ]
  },
  {
   "cell_type": "code",
   "execution_count": 80,
   "metadata": {},
   "outputs": [
    {
     "name": "stdout",
     "output_type": "stream",
     "text": [
      "Model: \"sequential_1\"\n",
      "_________________________________________________________________\n",
      "Layer (type)                 Output Shape              Param #   \n",
      "=================================================================\n",
      "conv2d_6 (Conv2D)            (None, 127, 127, 64)      1792      \n",
      "_________________________________________________________________\n",
      "max_pooling2d_6 (MaxPooling2 (None, 32, 32, 64)        0         \n",
      "_________________________________________________________________\n",
      "dropout (Dropout)            (None, 32, 32, 64)        0         \n",
      "_________________________________________________________________\n",
      "conv2d_7 (Conv2D)            (None, 32, 32, 32)        18464     \n",
      "_________________________________________________________________\n",
      "max_pooling2d_7 (MaxPooling2 (None, 16, 16, 32)        0         \n",
      "_________________________________________________________________\n",
      "dropout_1 (Dropout)          (None, 16, 16, 32)        0         \n",
      "_________________________________________________________________\n",
      "conv2d_8 (Conv2D)            (None, 13, 13, 64)        32832     \n",
      "_________________________________________________________________\n",
      "max_pooling2d_8 (MaxPooling2 (None, 7, 7, 64)          0         \n",
      "_________________________________________________________________\n",
      "dropout_2 (Dropout)          (None, 7, 7, 64)          0         \n",
      "_________________________________________________________________\n",
      "conv2d_9 (Conv2D)            (None, 7, 7, 128)         73856     \n",
      "_________________________________________________________________\n",
      "max_pooling2d_9 (MaxPooling2 (None, 4, 4, 128)         0         \n",
      "_________________________________________________________________\n",
      "dropout_3 (Dropout)          (None, 4, 4, 128)         0         \n",
      "_________________________________________________________________\n",
      "conv2d_10 (Conv2D)           (None, 4, 4, 128)         262272    \n",
      "_________________________________________________________________\n",
      "max_pooling2d_10 (MaxPooling (None, 2, 2, 128)         0         \n",
      "_________________________________________________________________\n",
      "dropout_4 (Dropout)          (None, 2, 2, 128)         0         \n",
      "_________________________________________________________________\n",
      "conv2d_11 (Conv2D)           (None, 2, 2, 256)         524544    \n",
      "_________________________________________________________________\n",
      "max_pooling2d_11 (MaxPooling (None, 1, 1, 256)         0         \n",
      "_________________________________________________________________\n",
      "dropout_5 (Dropout)          (None, 1, 1, 256)         0         \n",
      "_________________________________________________________________\n",
      "flatten_1 (Flatten)          (None, 256)               0         \n",
      "_________________________________________________________________\n",
      "dense_2 (Dense)              (None, 64)                16448     \n",
      "_________________________________________________________________\n",
      "dense_3 (Dense)              (None, 1)                 65        \n",
      "=================================================================\n",
      "Total params: 930,273\n",
      "Trainable params: 930,273\n",
      "Non-trainable params: 0\n",
      "_________________________________________________________________\n"
     ]
    }
   ],
   "source": [
    "# model13.summary()"
   ]
  },
  {
   "cell_type": "code",
   "execution_count": 81,
   "metadata": {},
   "outputs": [
    {
     "name": "stdout",
     "output_type": "stream",
     "text": [
      "Epoch 1/50\n",
      "31/31 [==============================] - 44s 1s/step - loss: 0.6938 - acc: 0.5021 - val_loss: 0.6931 - val_acc: 0.4768\n",
      "Epoch 2/50\n",
      "31/31 [==============================] - 43s 1s/step - loss: 0.6934 - acc: 0.5092 - val_loss: 0.6923 - val_acc: 0.5232\n",
      "Epoch 3/50\n",
      "31/31 [==============================] - 43s 1s/step - loss: 0.6898 - acc: 0.5339 - val_loss: 0.6461 - val_acc: 0.7926\n",
      "Epoch 4/50\n",
      "31/31 [==============================] - 49s 2s/step - loss: 0.6685 - acc: 0.6068 - val_loss: 0.5990 - val_acc: 0.7399\n",
      "Epoch 5/50\n",
      "31/31 [==============================] - 43s 1s/step - loss: 0.6365 - acc: 0.6386 - val_loss: 0.5752 - val_acc: 0.7152\n",
      "Epoch 6/50\n",
      "31/31 [==============================] - 44s 1s/step - loss: 0.6297 - acc: 0.6745 - val_loss: 0.6914 - val_acc: 0.6099\n",
      "Epoch 7/50\n",
      "31/31 [==============================] - 44s 1s/step - loss: 0.6247 - acc: 0.6581 - val_loss: 0.5448 - val_acc: 0.7678\n",
      "Epoch 8/50\n",
      "31/31 [==============================] - 44s 1s/step - loss: 0.5819 - acc: 0.7033 - val_loss: 0.5311 - val_acc: 0.7616\n",
      "Epoch 9/50\n",
      "31/31 [==============================] - 43s 1s/step - loss: 0.5408 - acc: 0.7474 - val_loss: 0.5845 - val_acc: 0.6749\n",
      "Epoch 10/50\n",
      "31/31 [==============================] - 44s 1s/step - loss: 0.5110 - acc: 0.7536 - val_loss: 0.5017 - val_acc: 0.7307\n",
      "Epoch 11/50\n",
      "31/31 [==============================] - 44s 1s/step - loss: 0.4913 - acc: 0.7752 - val_loss: 0.6753 - val_acc: 0.6347\n",
      "Epoch 12/50\n",
      "31/31 [==============================] - 44s 1s/step - loss: 0.4538 - acc: 0.8018 - val_loss: 0.4764 - val_acc: 0.7864\n",
      "Epoch 13/50\n",
      "31/31 [==============================] - 57s 2s/step - loss: 0.4193 - acc: 0.8080 - val_loss: 0.4168 - val_acc: 0.8080\n",
      "Epoch 14/50\n",
      "31/31 [==============================] - 56s 2s/step - loss: 0.3788 - acc: 0.8357 - val_loss: 0.3559 - val_acc: 0.8607\n",
      "Epoch 15/50\n",
      "31/31 [==============================] - 49s 2s/step - loss: 0.3580 - acc: 0.8491 - val_loss: 0.4819 - val_acc: 0.7616\n",
      "Epoch 16/50\n",
      "31/31 [==============================] - 49s 2s/step - loss: 0.3947 - acc: 0.8275 - val_loss: 0.3837 - val_acc: 0.8297\n",
      "Epoch 17/50\n",
      "31/31 [==============================] - 49s 2s/step - loss: 0.3032 - acc: 0.8665 - val_loss: 0.4470 - val_acc: 0.7988\n",
      "Epoch 18/50\n",
      "31/31 [==============================] - 49s 2s/step - loss: 0.2818 - acc: 0.8799 - val_loss: 0.3297 - val_acc: 0.8731\n",
      "Epoch 19/50\n",
      "31/31 [==============================] - 52s 2s/step - loss: 0.2833 - acc: 0.8768 - val_loss: 0.5191 - val_acc: 0.7802\n",
      "Epoch 20/50\n",
      "31/31 [==============================] - 50s 2s/step - loss: 0.2554 - acc: 0.8891 - val_loss: 0.3943 - val_acc: 0.8235\n",
      "Epoch 21/50\n",
      "31/31 [==============================] - 47s 2s/step - loss: 0.2850 - acc: 0.8871 - val_loss: 0.3837 - val_acc: 0.8328\n",
      "Epoch 22/50\n",
      "31/31 [==============================] - 47s 2s/step - loss: 0.2574 - acc: 0.8871 - val_loss: 0.5357 - val_acc: 0.7864\n",
      "Epoch 23/50\n",
      "31/31 [==============================] - 44s 1s/step - loss: 0.1876 - acc: 0.9209 - val_loss: 0.4707 - val_acc: 0.7957\n",
      "Epoch 24/50\n",
      "31/31 [==============================] - 45s 1s/step - loss: 0.1943 - acc: 0.9230 - val_loss: 0.3896 - val_acc: 0.8359\n",
      "Epoch 25/50\n",
      "31/31 [==============================] - 47s 2s/step - loss: 0.1694 - acc: 0.9292 - val_loss: 0.6068 - val_acc: 0.7678\n",
      "Epoch 26/50\n",
      "31/31 [==============================] - 59s 2s/step - loss: 0.1561 - acc: 0.9405 - val_loss: 0.4863 - val_acc: 0.7926\n",
      "Epoch 27/50\n",
      "31/31 [==============================] - 47s 2s/step - loss: 0.1462 - acc: 0.9425 - val_loss: 0.4067 - val_acc: 0.8111\n",
      "Epoch 28/50\n",
      "31/31 [==============================] - 46s 1s/step - loss: 0.1432 - acc: 0.9548 - val_loss: 0.6354 - val_acc: 0.7895\n",
      "Epoch 29/50\n",
      "31/31 [==============================] - 46s 1s/step - loss: 0.1493 - acc: 0.9425 - val_loss: 0.5630 - val_acc: 0.7802\n",
      "Epoch 30/50\n",
      "31/31 [==============================] - 46s 1s/step - loss: 0.1176 - acc: 0.9589 - val_loss: 0.5775 - val_acc: 0.8142\n",
      "Epoch 31/50\n",
      "31/31 [==============================] - 48s 2s/step - loss: 0.1325 - acc: 0.9487 - val_loss: 0.5231 - val_acc: 0.8019\n",
      "Epoch 32/50\n",
      "31/31 [==============================] - 46s 1s/step - loss: 0.0946 - acc: 0.9620 - val_loss: 0.5345 - val_acc: 0.8173\n",
      "Epoch 33/50\n",
      "31/31 [==============================] - 46s 1s/step - loss: 0.0739 - acc: 0.9784 - val_loss: 0.5560 - val_acc: 0.8173\n",
      "Epoch 34/50\n",
      "31/31 [==============================] - 46s 1s/step - loss: 0.1014 - acc: 0.9651 - val_loss: 0.4981 - val_acc: 0.8111\n",
      "Epoch 35/50\n",
      "31/31 [==============================] - 46s 1s/step - loss: 0.1124 - acc: 0.9620 - val_loss: 0.6079 - val_acc: 0.8080\n",
      "Epoch 36/50\n",
      "31/31 [==============================] - 46s 1s/step - loss: 0.0960 - acc: 0.9702 - val_loss: 0.5323 - val_acc: 0.8235\n",
      "Epoch 37/50\n",
      "31/31 [==============================] - 48s 2s/step - loss: 0.0707 - acc: 0.9754 - val_loss: 0.6336 - val_acc: 0.8111\n",
      "Epoch 38/50\n",
      "31/31 [==============================] - 56s 2s/step - loss: 0.1020 - acc: 0.9600 - val_loss: 0.5851 - val_acc: 0.8050\n",
      "Epoch 39/50\n",
      "31/31 [==============================] - 46s 1s/step - loss: 0.0812 - acc: 0.9774 - val_loss: 0.5178 - val_acc: 0.8266\n",
      "Epoch 40/50\n",
      "31/31 [==============================] - 46s 1s/step - loss: 0.0676 - acc: 0.9784 - val_loss: 0.6267 - val_acc: 0.8173\n",
      "Epoch 41/50\n",
      "31/31 [==============================] - 46s 1s/step - loss: 0.0761 - acc: 0.9702 - val_loss: 1.1212 - val_acc: 0.7368\n",
      "Epoch 42/50\n",
      "31/31 [==============================] - 46s 1s/step - loss: 0.1426 - acc: 0.9466 - val_loss: 0.4674 - val_acc: 0.8204\n",
      "Epoch 43/50\n",
      "31/31 [==============================] - 46s 1s/step - loss: 0.0576 - acc: 0.9754 - val_loss: 0.6260 - val_acc: 0.8080\n",
      "Epoch 44/50\n",
      "31/31 [==============================] - 50s 2s/step - loss: 0.0751 - acc: 0.9713 - val_loss: 0.6362 - val_acc: 0.8111\n",
      "Epoch 45/50\n",
      "31/31 [==============================] - 46s 1s/step - loss: 0.0526 - acc: 0.9764 - val_loss: 0.5947 - val_acc: 0.8173\n",
      "Epoch 46/50\n",
      "31/31 [==============================] - 46s 1s/step - loss: 0.0570 - acc: 0.9764 - val_loss: 0.6542 - val_acc: 0.8142\n",
      "Epoch 47/50\n",
      "31/31 [==============================] - 47s 2s/step - loss: 0.0349 - acc: 0.9867 - val_loss: 0.6543 - val_acc: 0.8173\n",
      "Epoch 48/50\n",
      "31/31 [==============================] - 46s 1s/step - loss: 0.0594 - acc: 0.9836 - val_loss: 0.5922 - val_acc: 0.8390\n",
      "Epoch 49/50\n",
      "31/31 [==============================] - 46s 1s/step - loss: 0.1363 - acc: 0.9620 - val_loss: 0.4049 - val_acc: 0.8390\n",
      "Epoch 50/50\n",
      "31/31 [==============================] - 50s 2s/step - loss: 0.0500 - acc: 0.9815 - val_loss: 0.6131 - val_acc: 0.8204\n"
     ]
    }
   ],
   "source": [
    "# model13_history = model13.fit(train_data,\n",
    "#                     epochs=global_epochs,\n",
    "#                     validation_data = val_data\n",
    "#                    )"
   ]
  },
  {
   "cell_type": "code",
   "execution_count": 82,
   "metadata": {},
   "outputs": [
    {
     "name": "stdout",
     "output_type": "stream",
     "text": [
      "31/31 [==============================] - 31s 1s/step - loss: 0.0095 - acc: 0.9969\n",
      "11/11 [==============================] - 7s 674ms/step - loss: 0.6131 - acc: 0.8204\n"
     ]
    },
    {
     "data": {
      "text/plain": [
       "[0.6130943298339844, 0.8204334378242493]"
      ]
     },
     "execution_count": 82,
     "metadata": {},
     "output_type": "execute_result"
    }
   ],
   "source": [
    "# model_13_train_results = model13.evaluate(train_data)\n",
    "# model_13_train_results\n",
    "\n",
    "# model_13_val_results = model13.evaluate(val_data)\n",
    "# model_13_val_results"
   ]
  },
  {
   "cell_type": "code",
   "execution_count": 83,
   "metadata": {},
   "outputs": [],
   "source": [
    "# score_dictionary['model 13'] = (model_13_train_results,model_13_val_results)"
   ]
  },
  {
   "cell_type": "code",
   "execution_count": 84,
   "metadata": {},
   "outputs": [
    {
     "data": {
      "image/png": "[encoded data removed]",
      "text/plain": [
       "<Figure size 720x360 with 2 Axes>"
      ]
     },
     "metadata": {
      "needs_background": "light"
     },
     "output_type": "display_data"
    }
   ],
   "source": [
    "# # visualizing loss and accuracy per epoch\n",
    "# model13_train_loss = model13_history.history['loss']\n",
    "# model13_train_acc = model13_history.history['acc']\n",
    "# model13_val_loss = model13_history.history['val_loss']\n",
    "# model13_val_acc = model13_history.history['val_acc']\n",
    "\n",
    "\n",
    "# fig, (ax1, ax2) = plt.subplots(1, 2, figsize=(10, 5))\n",
    "\n",
    "# sns.lineplot(x=model13_history.epoch, y=model13_train_loss, ax=ax1, label='training loss')\n",
    "# sns.lineplot(x=model13_history.epoch, y=model13_train_acc, ax=ax2, label='training accuracy')\n",
    "\n",
    "# sns.lineplot(x=model13_history.epoch, y=model13_val_loss, ax=ax1, label='validation loss')\n",
    "# sns.lineplot(x=model13_history.epoch, y=model13_val_acc, ax=ax2, label='validation accuracy');"
   ]
  },
  {
   "cell_type": "markdown",
   "metadata": {},
   "source": [
    "### CNN MODEL 14"
   ]
  },
  {
   "cell_type": "markdown",
   "metadata": {},
   "source": [
    "For this model, I am adding more dropout, adapting from CNN model 13"
   ]
  },
  {
   "cell_type": "code",
   "execution_count": 85,
   "metadata": {},
   "outputs": [],
   "source": [
    "# model14 = models.Sequential()\n",
    "\n",
    "# # Stack 1\n",
    "# model14.add(layers.Conv2D(filters = 64,\n",
    "#                          kernel_size=(3,3),\n",
    "#                          activation='relu',\n",
    "#                          input_shape = (global_target_size[0],global_target_size[0], 3),\n",
    "#                          padding = 'same'\n",
    "#                         ))\n",
    "# model14.add(layers.MaxPooling2D(pool_size = (4,4),\n",
    "#                          padding = 'same'))\n",
    "\n",
    "# # Dropout Layer 1\n",
    "# model14.add(layers.Dropout(.1))\n",
    "\n",
    "# # Stack 2\n",
    "# model14.add(layers.Conv2D(32, (3,3), activation='relu',padding = 'same'))\n",
    "# model14.add(layers.MaxPooling2D((2, 2),\n",
    "#                          padding = 'same'))\n",
    "\n",
    "# # Dropout Layer 2\n",
    "# model14.add(layers.Dropout(.1))\n",
    "\n",
    "# # Stack 3\n",
    "# model14.add(layers.Conv2D(64, (4,4), activation='relu'))\n",
    "# model14.add(layers.MaxPooling2D((2, 2),\n",
    "#                          padding = 'same'))\n",
    "# # Dropout Layer 3\n",
    "# model14.add(layers.Dropout(.25))\n",
    "\n",
    "# # Stack 4\n",
    "# model14.add(layers.Conv2D(128, (3,3), activation='relu',padding='same'))\n",
    "# model14.add(layers.MaxPooling2D((2, 2),\n",
    "#                          padding = 'same'))\n",
    "\n",
    "# # Dropout Layer 4\n",
    "# model14.add(layers.Dropout(.3))\n",
    "\n",
    "# # Stack 5\n",
    "# model14.add(layers.Conv2D(128, (4,4), activation='relu',padding = 'same'))\n",
    "# model14.add(layers.MaxPooling2D((2, 2),\n",
    "#                          padding = 'same'))\n",
    "# # Dropout Layer 5\n",
    "# model14.add(layers.Dropout(.4))\n",
    "\n",
    "# # Stack 5\n",
    "# model14.add(layers.Conv2D(256, (4,4), activation='relu',padding = 'same'))\n",
    "# model14.add(layers.MaxPooling2D((2, 2),\n",
    "#                          padding = 'same'))\n",
    "\n",
    "# # Dropout Layer 6\n",
    "# model14.add(layers.Dropout(.5))\n",
    "\n",
    "\n",
    "# # Flattening layer\n",
    "# model14.add(layers.Flatten())\n",
    "\n",
    "# # Dense layer 1\n",
    "# model14.add(layers.Dense(64, activation='relu'))\n",
    "\n",
    "# # Dense layer 2 - output layer\n",
    "# model14.add(layers.Dense(1, activation='sigmoid'))\n",
    "\n",
    "# model14.compile(loss='binary_crossentropy',\n",
    "#               optimizer = 'adam',\n",
    "#               metrics=['acc'])"
   ]
  },
  {
   "cell_type": "code",
   "execution_count": 86,
   "metadata": {},
   "outputs": [],
   "source": [
    "# model14.summary()"
   ]
  },
  {
   "cell_type": "code",
   "execution_count": 87,
   "metadata": {},
   "outputs": [],
   "source": [
    "# model14_history = model14.fit(train_data,\n",
    "#                     epochs=global_epochs,\n",
    "#                     validation_data = val_data\n",
    "#                    )"
   ]
  },
  {
   "cell_type": "code",
   "execution_count": 88,
   "metadata": {},
   "outputs": [],
   "source": [
    "# model_14_train_results = model14.evaluate(train_data)\n",
    "# model_14_train_results\n",
    "\n",
    "# model_14_val_results = model14.evaluate(val_data)\n",
    "# model_14_val_results"
   ]
  },
  {
   "cell_type": "code",
   "execution_count": 89,
   "metadata": {},
   "outputs": [],
   "source": [
    "# score_dictionary['model 14'] = (model_14_train_results, model_14_val_results)"
   ]
  },
  {
   "cell_type": "code",
   "execution_count": 90,
   "metadata": {},
   "outputs": [],
   "source": [
    "# # visualizing loss and accuracy per epoch\n",
    "# model14_train_loss = model14_history.history['loss']\n",
    "# model14_train_acc = model14_history.history['acc']\n",
    "# model14_val_loss = model14_history.history['val_loss']\n",
    "# model14_val_acc = model14_history.history['val_acc']\n",
    "\n",
    "\n",
    "# fig, (ax1, ax2) = plt.subplots(1, 2, figsize=(10, 5))\n",
    "\n",
    "# sns.lineplot(x=model14_history.epoch, y=model14_train_loss, ax=ax1, label='training loss')\n",
    "# sns.lineplot(x=model14_history.epoch, y=model14_train_acc, ax=ax2, label='training accuracy')\n",
    "\n",
    "# sns.lineplot(x=model14_history.epoch, y=model14_val_loss, ax=ax1, label='validation loss')\n",
    "# sns.lineplot(x=model14_history.epoch, y=model14_val_acc, ax=ax2, label='validation accuracy');"
   ]
  },
  {
   "cell_type": "markdown",
   "metadata": {},
   "source": [
    "### CNN Model 15"
   ]
  },
  {
   "cell_type": "markdown",
   "metadata": {},
   "source": [
    "If model 12 doesn't have enough reducing of overfitting, I will add L2 kernel regulizers to the convolutional layers of model 12. So there will be dropout layers AND kernel regulizers."
   ]
  },
  {
   "cell_type": "code",
   "execution_count": 91,
   "metadata": {},
   "outputs": [],
   "source": [
    "# model15 = models.Sequential()\n",
    "\n",
    "# # Stack 1\n",
    "# model15.add(layers.Conv2D(filters = 64,\n",
    "#                          kernel_size=(3,3),\n",
    "#                          activation='relu',\n",
    "#                          input_shape = (global_target_size[0],global_target_size[0], 3),\n",
    "#                          padding = 'same',\n",
    "#                           kernel_regularizer = tf.keras.regularizers.L2(0.01)\n",
    "#                         ))\n",
    "# model15.add(layers.MaxPooling2D(pool_size = (4,4),\n",
    "#                          padding = 'same'))\n",
    "\n",
    "# # Stack 2\n",
    "# model15.add(layers.Conv2D(32, (3,3), activation='relu',padding = 'same',\n",
    "#                           kernel_regularizer = tf.keras.regularizers.L2(0.01)))\n",
    "# model15.add(layers.MaxPooling2D((2, 2),\n",
    "#                          padding = 'same'))\n",
    "\n",
    "\n",
    "\n",
    "# # Stack 3\n",
    "# model15.add(layers.Conv2D(64, (4,4), activation='relu',\n",
    "#                           kernel_regularizer = tf.keras.regularizers.L2(0.01)))\n",
    "# model15.add(layers.MaxPooling2D((2, 2),\n",
    "#                          padding = 'same'))\n",
    "# # Dropout Layer 1\n",
    "# model15.add(layers.Dropout(.1))\n",
    "\n",
    "# # Stack 4\n",
    "# model15.add(layers.Conv2D(128, (3,3), activation='relu',padding='same',\n",
    "#                           kernel_regularizer = tf.keras.regularizers.L2(0.01)))\n",
    "# model15.add(layers.MaxPooling2D((2, 2),\n",
    "#                          padding = 'same'))\n",
    "\n",
    "# # Dropout Layer 2\n",
    "# model15.add(layers.Dropout(.25))\n",
    "\n",
    "# # Stack 5\n",
    "# model15.add(layers.Conv2D(128, (4,4), activation='relu',padding = 'same',\n",
    "#                           kernel_regularizer = tf.keras.regularizers.L2(0.01)))\n",
    "# model15.add(layers.MaxPooling2D((2, 2),\n",
    "#                          padding = 'same'))\n",
    "# # Dropout Layer 2\n",
    "# model15.add(layers.Dropout(.4))\n",
    "\n",
    "# # Stack 5\n",
    "# model15.add(layers.Conv2D(256, (4,4), activation='relu',padding = 'same',\n",
    "#                           kernel_regularizer = tf.keras.regularizers.L2(0.01)))\n",
    "# model15.add(layers.MaxPooling2D((2, 2),\n",
    "#                          padding = 'same'))\n",
    "\n",
    "\n",
    "# # Flattening layer\n",
    "# model15.add(layers.Flatten())\n",
    "\n",
    "# # Dense layer 1\n",
    "# model15.add(layers.Dense(64, activation='relu'))\n",
    "\n",
    "# # Dense layer 2 - output layer\n",
    "# model15.add(layers.Dense(1, activation='sigmoid'))\n",
    "\n",
    "# model15.compile(loss='binary_crossentropy',\n",
    "#               optimizer = 'adam',\n",
    "#               metrics=['acc'])"
   ]
  },
  {
   "cell_type": "code",
   "execution_count": 92,
   "metadata": {},
   "outputs": [],
   "source": [
    "# model15_history = model15.fit(train_data,\n",
    "#                     epochs=global_epochs,\n",
    "#                     validation_data = val_data\n",
    "#                    )"
   ]
  },
  {
   "cell_type": "code",
   "execution_count": 93,
   "metadata": {},
   "outputs": [],
   "source": [
    "# model_15_train_results = model15.evaluate(train_data)\n",
    "# model_15_train_results\n",
    "\n",
    "# model_15_val_results = model15.evaluate(val_data)\n",
    "# model_15_val_results"
   ]
  },
  {
   "cell_type": "code",
   "execution_count": 94,
   "metadata": {},
   "outputs": [],
   "source": [
    "# score_dictionary['model 15'] = (model_15_train_results, model_15_val_results)"
   ]
  },
  {
   "cell_type": "code",
   "execution_count": 95,
   "metadata": {},
   "outputs": [],
   "source": [
    "# # visualizing loss and accuracy per epoch\n",
    "# model15_train_loss = model15_history.history['loss']\n",
    "# model15_train_acc = model15_history.history['acc']\n",
    "# model15_val_loss = model15_history.history['val_loss']\n",
    "# model15_val_acc = model15_history.history['val_acc']\n",
    "\n",
    "\n",
    "# fig, (ax1, ax2) = plt.subplots(1, 2, figsize=(10, 5))\n",
    "\n",
    "# sns.lineplot(x=model15_history.epoch, y=model15_train_loss, ax=ax1, label='training loss')\n",
    "# sns.lineplot(x=model15_history.epoch, y=model15_train_acc, ax=ax2, label='training accuracy')\n",
    "\n",
    "# sns.lineplot(x=model15_history.epoch, y=model15_val_loss, ax=ax1, label='validation loss')\n",
    "# sns.lineplot(x=model15_history.epoch, y=model15_val_acc, ax=ax2, label='validation accuracy');"
   ]
  },
  {
   "cell_type": "markdown",
   "metadata": {},
   "source": [
    "### CNN MODEL 16"
   ]
  },
  {
   "cell_type": "markdown",
   "metadata": {},
   "source": [
    "For this model, I will be experminting with activation functions. For this one, I will be trying the swish function.\n",
    "I am reusing model 14's architecture since it gave me the highest validation score during training so far"
   ]
  },
  {
   "cell_type": "code",
   "execution_count": 96,
   "metadata": {},
   "outputs": [],
   "source": [
    "# model16 = models.Sequential() \n",
    "\n",
    "# # Stack 1\n",
    "# model16.add(layers.Conv2D(filters = 64,\n",
    "#                          kernel_size=(3,3),\n",
    "#                          activation='swish',\n",
    "#                          input_shape = (global_target_size[0],global_target_size[0], 3),\n",
    "#                          padding = 'same'\n",
    "#                         ))\n",
    "# model16.add(layers.MaxPooling2D(pool_size = (4,4),\n",
    "#                          padding = 'same'))\n",
    "\n",
    "# # Dropout Layer 1\n",
    "# model16.add(layers.Dropout(.25))\n",
    "\n",
    "# # Stack 2\n",
    "# model16.add(layers.Conv2D(32, (3,3), activation='swish',padding = 'same'))\n",
    "# model16.add(layers.MaxPooling2D((2, 2),\n",
    "#                          padding = 'same'))\n",
    "\n",
    "# # Dropout Layer 2\n",
    "# model16.add(layers.Dropout(.3))\n",
    "\n",
    "# # Stack 3\n",
    "# model16.add(layers.Conv2D(64, (4,4), activation='swish'))\n",
    "# model16.add(layers.MaxPooling2D((2, 2),\n",
    "#                          padding = 'same'))\n",
    "# # Dropout Layer 3\n",
    "# model16.add(layers.Dropout(.3))\n",
    "\n",
    "# # Stack 4\n",
    "# model16.add(layers.Conv2D(128, (3,3), activation='swish',padding='same'))\n",
    "# model16.add(layers.MaxPooling2D((2, 2),\n",
    "#                          padding = 'same'))\n",
    "\n",
    "# # Dropout Layer 4\n",
    "# model16.add(layers.Dropout(.35))\n",
    "\n",
    "# # Stack 5\n",
    "# model16.add(layers.Conv2D(128, (4,4), activation='swish',padding = 'same'))\n",
    "# model16.add(layers.MaxPooling2D((2, 2),\n",
    "#                          padding = 'same'))\n",
    "# # Dropout Layer 5\n",
    "# model16.add(layers.Dropout(.5))\n",
    "\n",
    "# # Stack 5\n",
    "# model16.add(layers.Conv2D(256, (4,4), activation='swish',padding = 'same'))\n",
    "# model16.add(layers.MaxPooling2D((2, 2),\n",
    "#                          padding = 'same'))\n",
    "\n",
    "# # Dropout Layer 6\n",
    "# model16.add(layers.Dropout(.5))\n",
    "\n",
    "\n",
    "# # Flattening layer\n",
    "# model16.add(layers.Flatten())\n",
    "\n",
    "# # Dense layer 1\n",
    "# model16.add(layers.Dense(64, activation='swish'))\n",
    "\n",
    "# # Dense layer 2 - output layer\n",
    "# model16.add(layers.Dense(1, activation='sigmoid'))\n",
    "\n",
    "# model16.compile(loss='binary_crossentropy',\n",
    "#               optimizer = 'adam',\n",
    "#               metrics=['acc'])"
   ]
  },
  {
   "cell_type": "code",
   "execution_count": 97,
   "metadata": {},
   "outputs": [],
   "source": [
    "# model16_history = model16.fit(train_data,\n",
    "#                     epochs=global_epochs,\n",
    "#                     validation_data = val_data\n",
    "#                    )"
   ]
  },
  {
   "cell_type": "code",
   "execution_count": 98,
   "metadata": {},
   "outputs": [],
   "source": [
    "# model_16_train_results = model16.evaluate(train_data)\n",
    "# model_16_train_results\n",
    "\n",
    "# model_16_val_results = model16.evaluate(val_data)\n",
    "# model_16_val_results"
   ]
  },
  {
   "cell_type": "code",
   "execution_count": 99,
   "metadata": {},
   "outputs": [],
   "source": [
    "# score_dictionary['model 16'] = (model_16_train_results, model_16_val_results)"
   ]
  },
  {
   "cell_type": "code",
   "execution_count": 100,
   "metadata": {},
   "outputs": [],
   "source": [
    "# # visualizing loss and accuracy per epoch\n",
    "# model16_train_loss = model16_history.history['loss']\n",
    "# model16_train_acc = model16_history.history['acc']\n",
    "# model16_val_loss = model16_history.history['val_loss']\n",
    "# model16_val_acc = model16_history.history['val_acc']\n",
    "\n",
    "\n",
    "# fig, (ax1, ax2) = plt.subplots(1, 2, figsize=(10, 5))\n",
    "\n",
    "# sns.lineplot(x=model16_history.epoch, y=model16_train_loss, ax=ax1, label='training loss')\n",
    "# sns.lineplot(x=model16_history.epoch, y=model16_train_acc, ax=ax2, label='training accuracy')\n",
    "\n",
    "# sns.lineplot(x=model16_history.epoch, y=model16_val_loss, ax=ax1, label='validation loss')\n",
    "# sns.lineplot(x=model16_history.epoch, y=model16_val_acc, ax=ax2, label='validation accuracy');"
   ]
  },
  {
   "cell_type": "markdown",
   "metadata": {},
   "source": [
    "### CNN Model 17 "
   ]
  },
  {
   "cell_type": "markdown",
   "metadata": {},
   "source": [
    "For this model, I am making one last attempt at reducing overfitting.\n",
    "\n",
    "I am creating a new ImageDataGenerator Object that augments the training data, but not the validation data in hopes that adding more augmented data will help train the model to pick up on patterns in the image as opposed to just memorizing the images in the test set.\n",
    "\n",
    "We will be testing this on model 14's architecture to see if it makes a difference."
   ]
  },
  {
   "cell_type": "code",
   "execution_count": 101,
   "metadata": {},
   "outputs": [],
   "source": [
    "# train_generator_aug = ImageDataGenerator(rescale=1./255,\n",
    "#                                          validation_split = .25,\n",
    "#                                         horizontal_flip = True,\n",
    "#                                         zoom_range=0.5,\n",
    "#                                         )"
   ]
  },
  {
   "cell_type": "code",
   "execution_count": 102,
   "metadata": {},
   "outputs": [],
   "source": [
    "# val_generator_aug = ImageDataGenerator(rescale=1./255,\n",
    "#                                          validation_split = .25)"
   ]
  },
  {
   "cell_type": "code",
   "execution_count": 103,
   "metadata": {},
   "outputs": [],
   "source": [
    "# train_data_aug = train_generator_aug.flow_from_directory(train_images_dir,  \n",
    "#                                                      target_size = global_target_size,\n",
    "#                                                      subset='training',\n",
    "#                                                      batch_size=global_batch_size,\n",
    "#                                                      class_mode='binary',\n",
    "#                                                     shuffle = True,\n",
    "#                                                     seed = 42)"
   ]
  },
  {
   "cell_type": "code",
   "execution_count": 104,
   "metadata": {},
   "outputs": [],
   "source": [
    "# val_data_aug = val_generator_aug.flow_from_directory(train_images_dir,  \n",
    "#                                                      target_size = global_target_size,\n",
    "#                                                      subset='validation',\n",
    "#                                                      batch_size=global_batch_size,\n",
    "#                                                      class_mode='binary',\n",
    "#                                                     shuffle = True,\n",
    "#                                                     seed = 42)"
   ]
  },
  {
   "cell_type": "code",
   "execution_count": 105,
   "metadata": {},
   "outputs": [],
   "source": [
    "# model17 = models.Sequential()\n",
    "\n",
    "# # Stack 1\n",
    "# model17.add(layers.Conv2D(filters = 64,\n",
    "#                          kernel_size=(3,3),\n",
    "#                          activation='relu',\n",
    "#                          input_shape = (global_target_size[0],global_target_size[0], 3),\n",
    "#                          padding = 'same'\n",
    "#                         ))\n",
    "# model17.add(layers.MaxPooling2D(pool_size = (4,4),\n",
    "#                          padding = 'same'))\n",
    "\n",
    "# # Dropout Layer 1\n",
    "# model17.add(layers.Dropout(.25))\n",
    "\n",
    "# # Stack 2\n",
    "# model17.add(layers.Conv2D(32, (3,3), activation='relu',padding = 'same'))\n",
    "# model17.add(layers.MaxPooling2D((2, 2),\n",
    "#                          padding = 'same'))\n",
    "\n",
    "# # Dropout Layer 2\n",
    "# model17.add(layers.Dropout(.3))\n",
    "\n",
    "# # Stack 3\n",
    "# model17.add(layers.Conv2D(64, (4,4), activation='relu'))\n",
    "# model17.add(layers.MaxPooling2D((2, 2),\n",
    "#                          padding = 'same'))\n",
    "# # Dropout Layer 3\n",
    "# model17.add(layers.Dropout(.3))\n",
    "\n",
    "# # Stack 4\n",
    "# model17.add(layers.Conv2D(128, (3,3), activation='relu',padding='same'))\n",
    "# model17.add(layers.MaxPooling2D((2, 2),\n",
    "#                          padding = 'same'))\n",
    "\n",
    "# # Dropout Layer 4\n",
    "# model17.add(layers.Dropout(.35))\n",
    "\n",
    "# # Stack 5\n",
    "# model17.add(layers.Conv2D(128, (4,4), activation='relu',padding = 'same'))\n",
    "# model17.add(layers.MaxPooling2D((2, 2),\n",
    "#                          padding = 'same'))\n",
    "# # Dropout Layer 5\n",
    "# model17.add(layers.Dropout(.5))\n",
    "\n",
    "# # Stack 5\n",
    "# model17.add(layers.Conv2D(256, (4,4), activation='relu',padding = 'same'))\n",
    "# model17.add(layers.MaxPooling2D((2, 2),\n",
    "#                          padding = 'same'))\n",
    "\n",
    "# # Dropout Layer 6\n",
    "# model17.add(layers.Dropout(.5))\n",
    "\n",
    "\n",
    "# # Flattening layer\n",
    "# model17.add(layers.Flatten())\n",
    "\n",
    "# # Dense layer 1\n",
    "# model17.add(layers.Dense(64, activation='relu'))\n",
    "\n",
    "# # Dense layer 2 - output layer\n",
    "# model17.add(layers.Dense(1, activation='sigmoid'))\n",
    "\n",
    "# model17.compile(loss='binary_crossentropy',\n",
    "#               optimizer = 'adam',\n",
    "#               metrics=['acc'])"
   ]
  },
  {
   "cell_type": "code",
   "execution_count": 106,
   "metadata": {},
   "outputs": [],
   "source": [
    "# model17_history = model17.fit(train_data_aug,\n",
    "#                     epochs=global_epochs,\n",
    "#                     validation_data = val_data_aug\n",
    "#                    )"
   ]
  },
  {
   "cell_type": "code",
   "execution_count": 107,
   "metadata": {},
   "outputs": [],
   "source": [
    "# model_17_train_results = model17.evaluate(train_data_aug)\n",
    "# model_17_train_results\n",
    "\n",
    "# model_17_val_results = model17.evaluate(val_data_aug)\n",
    "# model_17_val_results"
   ]
  },
  {
   "cell_type": "code",
   "execution_count": 108,
   "metadata": {},
   "outputs": [],
   "source": [
    "# score_dictionary['model 17'] = (model_17_train_results, model_17_val_results)"
   ]
  },
  {
   "cell_type": "code",
   "execution_count": 109,
   "metadata": {},
   "outputs": [],
   "source": [
    "# # visualizing loss and accuracy per epoch\n",
    "# model17_train_loss = model17_history.history['loss']\n",
    "# model17_train_acc = model17_history.history['acc']\n",
    "# model17_val_loss = model17_history.history['val_loss']\n",
    "# model17_val_acc = model17_history.history['val_acc']\n",
    "\n",
    "\n",
    "# fig, (ax1, ax2) = plt.subplots(1, 2, figsize=(10, 5))\n",
    "\n",
    "# sns.lineplot(x=model17_history.epoch, y=model17_train_loss, ax=ax1, label='training loss')\n",
    "# sns.lineplot(x=model17_history.epoch, y=model17_train_acc, ax=ax2, label='training accuracy')\n",
    "\n",
    "# sns.lineplot(x=model17_history.epoch, y=model17_val_loss, ax=ax1, label='validation loss')\n",
    "# sns.lineplot(x=model17_history.epoch, y=model17_val_acc, ax=ax2, label='validation accuracy');"
   ]
  },
  {
   "cell_type": "markdown",
   "metadata": {},
   "source": [
    "### CNN 18 "
   ]
  },
  {
   "cell_type": "markdown",
   "metadata": {},
   "source": [
    "This is my last try at reducing overfitting. I'm adding dropout between every convolututional layer. I am reusing CNN 5's Architecture."
   ]
  },
  {
   "cell_type": "code",
   "execution_count": 110,
   "metadata": {},
   "outputs": [],
   "source": [
    "model18 = models.Sequential()\n",
    "\n",
    "# Stack 1\n",
    "model18.add(layers.Conv2D(filters = 64,\n",
    "                         kernel_size=(3,3),\n",
    "                         activation='relu',\n",
    "                         input_shape = (global_target_size[0],global_target_size[0], 3),\n",
    "                         padding = 'same'\n",
    "                        ))\n",
    "model18.add(layers.MaxPooling2D(pool_size = (4,4),\n",
    "                         padding = 'same'))\n",
    "\n",
    "# Dropout Layer 1\n",
    "model18.add(layers.Dropout(0.1))\n",
    "\n",
    "# Stack 2\n",
    "model18.add(layers.Conv2D(32, (3,3), activation='relu',padding = 'same'))\n",
    "model18.add(layers.MaxPooling2D((2, 2),\n",
    "                         padding = 'same'))\n",
    "\n",
    "# Dropout Layer 2\n",
    "model18.add(layers.Dropout(0.1))\n",
    "\n",
    "# Stack 3\n",
    "model18.add(layers.Conv2D(64, (4,4), activation='relu'))\n",
    "model18.add(layers.MaxPooling2D((2, 2),\n",
    "                         padding = 'same'))\n",
    "\n",
    "# Stack 4\n",
    "model18.add(layers.Conv2D(128, (3,3), activation='relu',padding='same'))\n",
    "model18.add(layers.MaxPooling2D((2, 2),\n",
    "                                padding = 'same'))\n",
    "\n",
    "# Dropout Layer 3\n",
    "model18.add(layers.Dropout(0.1))\n",
    "\n",
    "# Stack 5\n",
    "model18.add(layers.Conv2D(128, (4,4), activation='relu',padding = 'same'))\n",
    "model18.add(layers.MaxPooling2D((2, 2),\n",
    "                         padding = 'same'))\n",
    "\n",
    "# Dropout Layer 4\n",
    "model18.add(layers.Dropout(0.1))\n",
    "\n",
    "# Stack 5\n",
    "model18.add(layers.Conv2D(256, (4,4), activation='relu',padding = 'same'))\n",
    "model18.add(layers.MaxPooling2D((2, 2),\n",
    "                         padding = 'same'))\n",
    "\n",
    "# Flattening layer\n",
    "model18.add(layers.Flatten())\n",
    "\n",
    "# Dense layer 1\n",
    "model18.add(layers.Dense(64, activation='relu'))\n",
    "\n",
    "# Dense layer 2 - output layer\n",
    "model18.add(layers.Dense(1, activation='sigmoid'))\n",
    "\n",
    "model18.compile(loss='binary_crossentropy',\n",
    "              optimizer = 'adam',\n",
    "              metrics=['acc'])"
   ]
  },
  {
   "cell_type": "code",
   "execution_count": 111,
   "metadata": {},
   "outputs": [
    {
     "name": "stdout",
     "output_type": "stream",
     "text": [
      "Epoch 1/50\n",
      "31/31 [==============================] - 52s 2s/step - loss: 0.6941 - acc: 0.5144 - val_loss: 0.6924 - val_acc: 0.5232\n",
      "Epoch 2/50\n",
      "31/31 [==============================] - 50s 2s/step - loss: 0.6939 - acc: 0.5226 - val_loss: 0.6929 - val_acc: 0.5232\n",
      "Epoch 3/50\n",
      "31/31 [==============================] - 52s 2s/step - loss: 0.6926 - acc: 0.5195 - val_loss: 0.6923 - val_acc: 0.5232\n",
      "Epoch 4/50\n",
      "31/31 [==============================] - 58s 2s/step - loss: 0.6834 - acc: 0.5729 - val_loss: 0.6146 - val_acc: 0.6904\n",
      "Epoch 5/50\n",
      "31/31 [==============================] - 48s 2s/step - loss: 0.6931 - acc: 0.5277 - val_loss: 0.6923 - val_acc: 0.5232\n",
      "Epoch 6/50\n",
      "31/31 [==============================] - 48s 2s/step - loss: 0.6929 - acc: 0.5175 - val_loss: 0.6920 - val_acc: 0.5232\n",
      "Epoch 7/50\n",
      "31/31 [==============================] - 46s 1s/step - loss: 0.6900 - acc: 0.5390 - val_loss: 0.6789 - val_acc: 0.6316\n",
      "Epoch 8/50\n",
      "31/31 [==============================] - 56s 2s/step - loss: 0.6601 - acc: 0.6150 - val_loss: 0.6875 - val_acc: 0.5666\n",
      "Epoch 9/50\n",
      "31/31 [==============================] - 46s 1s/step - loss: 0.6720 - acc: 0.6140 - val_loss: 0.6340 - val_acc: 0.7059\n",
      "Epoch 10/50\n",
      "31/31 [==============================] - 44s 1s/step - loss: 0.5986 - acc: 0.6971 - val_loss: 0.6012 - val_acc: 0.6687\n",
      "Epoch 11/50\n",
      "31/31 [==============================] - 46s 1s/step - loss: 0.5493 - acc: 0.7259 - val_loss: 0.3887 - val_acc: 0.8483\n",
      "Epoch 12/50\n",
      "31/31 [==============================] - 52s 2s/step - loss: 0.4905 - acc: 0.7762 - val_loss: 0.5126 - val_acc: 0.8019\n",
      "Epoch 13/50\n",
      "31/31 [==============================] - 47s 2s/step - loss: 0.4959 - acc: 0.7834 - val_loss: 0.4929 - val_acc: 0.7988\n",
      "Epoch 14/50\n",
      "31/31 [==============================] - 49s 2s/step - loss: 0.4615 - acc: 0.8018 - val_loss: 0.3898 - val_acc: 0.8545\n",
      "Epoch 15/50\n",
      "31/31 [==============================] - 47s 2s/step - loss: 0.4264 - acc: 0.8172 - val_loss: 0.4258 - val_acc: 0.8142\n",
      "Epoch 16/50\n",
      "31/31 [==============================] - 50s 2s/step - loss: 0.3671 - acc: 0.8347 - val_loss: 0.3635 - val_acc: 0.8483\n",
      "Epoch 17/50\n",
      "31/31 [==============================] - 50s 2s/step - loss: 0.3330 - acc: 0.8583 - val_loss: 0.4247 - val_acc: 0.8328\n",
      "Epoch 18/50\n",
      "31/31 [==============================] - 48s 2s/step - loss: 0.3281 - acc: 0.8645 - val_loss: 0.4859 - val_acc: 0.7771\n",
      "Epoch 19/50\n",
      "31/31 [==============================] - 49s 2s/step - loss: 0.2779 - acc: 0.8789 - val_loss: 0.4135 - val_acc: 0.8297\n",
      "Epoch 20/50\n",
      "31/31 [==============================] - 44s 1s/step - loss: 0.2220 - acc: 0.9014 - val_loss: 0.6213 - val_acc: 0.7430\n",
      "Epoch 21/50\n",
      "31/31 [==============================] - 44s 1s/step - loss: 0.2069 - acc: 0.9158 - val_loss: 0.4639 - val_acc: 0.8359\n",
      "Epoch 22/50\n",
      "31/31 [==============================] - 47s 2s/step - loss: 0.1824 - acc: 0.9199 - val_loss: 0.3849 - val_acc: 0.8421\n",
      "Epoch 23/50\n",
      "31/31 [==============================] - 53s 2s/step - loss: 0.1656 - acc: 0.9425 - val_loss: 0.4437 - val_acc: 0.8328\n",
      "Epoch 24/50\n",
      "31/31 [==============================] - 48s 2s/step - loss: 0.1023 - acc: 0.9630 - val_loss: 0.4421 - val_acc: 0.8576\n",
      "Epoch 25/50\n",
      "31/31 [==============================] - 55s 2s/step - loss: 0.0624 - acc: 0.9764 - val_loss: 0.5804 - val_acc: 0.8328\n",
      "Epoch 26/50\n",
      "31/31 [==============================] - 48s 2s/step - loss: 0.1190 - acc: 0.9487 - val_loss: 0.4693 - val_acc: 0.8421\n",
      "Epoch 27/50\n",
      "31/31 [==============================] - 51s 2s/step - loss: 0.0723 - acc: 0.9743 - val_loss: 0.5735 - val_acc: 0.8266\n",
      "Epoch 28/50\n",
      "31/31 [==============================] - 47s 2s/step - loss: 0.0696 - acc: 0.9733 - val_loss: 0.6155 - val_acc: 0.8545\n",
      "Epoch 29/50\n",
      "31/31 [==============================] - 46s 1s/step - loss: 0.0441 - acc: 0.9836 - val_loss: 0.5200 - val_acc: 0.8545\n",
      "Epoch 30/50\n",
      "31/31 [==============================] - 51s 2s/step - loss: 0.0643 - acc: 0.9733 - val_loss: 0.8452 - val_acc: 0.8297\n",
      "Epoch 31/50\n",
      "31/31 [==============================] - 48s 2s/step - loss: 0.0436 - acc: 0.9815 - val_loss: 0.6698 - val_acc: 0.8638\n",
      "Epoch 32/50\n",
      "31/31 [==============================] - 50s 2s/step - loss: 0.0443 - acc: 0.9867 - val_loss: 0.7409 - val_acc: 0.8328\n",
      "Epoch 33/50\n",
      "31/31 [==============================] - 49s 2s/step - loss: 0.0415 - acc: 0.9856 - val_loss: 0.7178 - val_acc: 0.8421\n",
      "Epoch 34/50\n",
      "31/31 [==============================] - 51s 2s/step - loss: 0.0459 - acc: 0.9877 - val_loss: 0.5808 - val_acc: 0.8700\n",
      "Epoch 35/50\n",
      "31/31 [==============================] - 53s 2s/step - loss: 0.0397 - acc: 0.9867 - val_loss: 0.6597 - val_acc: 0.8235\n",
      "Epoch 36/50\n",
      "31/31 [==============================] - 53s 2s/step - loss: 0.0482 - acc: 0.9867 - val_loss: 0.6255 - val_acc: 0.8514\n",
      "Epoch 37/50\n",
      "31/31 [==============================] - 48s 2s/step - loss: 0.0964 - acc: 0.9641 - val_loss: 0.4531 - val_acc: 0.8483\n",
      "Epoch 38/50\n",
      "31/31 [==============================] - 48s 2s/step - loss: 0.0238 - acc: 0.9918 - val_loss: 0.5560 - val_acc: 0.8514\n",
      "Epoch 39/50\n",
      "31/31 [==============================] - 48s 2s/step - loss: 0.0091 - acc: 0.9979 - val_loss: 0.5796 - val_acc: 0.8669\n",
      "Epoch 40/50\n",
      "31/31 [==============================] - 48s 2s/step - loss: 0.0083 - acc: 0.9979 - val_loss: 0.5854 - val_acc: 0.8700\n",
      "Epoch 41/50\n",
      "31/31 [==============================] - 50s 2s/step - loss: 0.0026 - acc: 1.0000 - val_loss: 0.7198 - val_acc: 0.8700\n",
      "Epoch 42/50\n",
      "31/31 [==============================] - 48s 2s/step - loss: 0.0018 - acc: 1.0000 - val_loss: 0.8090 - val_acc: 0.8638\n",
      "Epoch 43/50\n",
      "31/31 [==============================] - 48s 2s/step - loss: 0.0021 - acc: 1.0000 - val_loss: 0.7827 - val_acc: 0.8762\n",
      "Epoch 44/50\n",
      "31/31 [==============================] - 48s 2s/step - loss: 9.9779e-04 - acc: 1.0000 - val_loss: 0.8329 - val_acc: 0.8576\n",
      "Epoch 45/50\n",
      "31/31 [==============================] - 48s 2s/step - loss: 0.0366 - acc: 0.9825 - val_loss: 1.2560 - val_acc: 0.7771\n",
      "Epoch 46/50\n",
      "31/31 [==============================] - 49s 2s/step - loss: 0.0879 - acc: 0.9733 - val_loss: 0.5548 - val_acc: 0.8483\n",
      "Epoch 47/50\n",
      "31/31 [==============================] - 51s 2s/step - loss: 0.0191 - acc: 0.9949 - val_loss: 0.6924 - val_acc: 0.8328\n",
      "Epoch 48/50\n",
      "31/31 [==============================] - 44s 1s/step - loss: 0.0098 - acc: 0.9949 - val_loss: 0.6764 - val_acc: 0.8638\n",
      "Epoch 49/50\n",
      "31/31 [==============================] - 44s 1s/step - loss: 0.0159 - acc: 0.9949 - val_loss: 0.8677 - val_acc: 0.8421\n",
      "Epoch 50/50\n",
      "31/31 [==============================] - 44s 1s/step - loss: 0.0076 - acc: 0.9979 - val_loss: 0.7237 - val_acc: 0.8607\n"
     ]
    }
   ],
   "source": [
    "model18_history = model18.fit(train_data,\n",
    "                    epochs=global_epochs,\n",
    "                    validation_data = val_data\n",
    "                   )"
   ]
  },
  {
   "cell_type": "code",
   "execution_count": 112,
   "metadata": {},
   "outputs": [
    {
     "name": "stdout",
     "output_type": "stream",
     "text": [
      "31/31 [==============================] - 27s 885ms/step - loss: 6.5831e-04 - acc: 1.0000\n",
      "11/11 [==============================] - 6s 549ms/step - loss: 0.7237 - acc: 0.8607\n"
     ]
    },
    {
     "data": {
      "text/plain": [
       "[0.7237470149993896, 0.8606811165809631]"
      ]
     },
     "execution_count": 112,
     "metadata": {},
     "output_type": "execute_result"
    }
   ],
   "source": [
    "model_18_train_results = model18.evaluate(train_data)\n",
    "model_18_train_results\n",
    "\n",
    "model_18_val_results = model18.evaluate(val_data)\n",
    "model_18_val_results"
   ]
  },
  {
   "cell_type": "code",
   "execution_count": 113,
   "metadata": {},
   "outputs": [],
   "source": [
    "score_dictionary['model 18'] = (model_18_train_results, model_18_val_results)"
   ]
  },
  {
   "cell_type": "code",
   "execution_count": 114,
   "metadata": {},
   "outputs": [
    {
     "data": {
      "image/png": "[encoded data removed]",
      "text/plain": [
       "<Figure size 720x360 with 2 Axes>"
      ]
     },
     "metadata": {
      "needs_background": "light"
     },
     "output_type": "display_data"
    }
   ],
   "source": [
    "# visualizing loss and accuracy per epoch\n",
    "model18_train_loss = model18_history.history['loss']\n",
    "model18_train_acc = model18_history.history['acc']\n",
    "model18_val_loss = model18_history.history['val_loss']\n",
    "model18_val_acc = model18_history.history['val_acc']\n",
    "\n",
    "\n",
    "fig, (ax1, ax2) = plt.subplots(1, 2, figsize=(10, 5))\n",
    "\n",
    "sns.lineplot(x=model18_history.epoch, y=model18_train_loss, ax=ax1, label='training loss')\n",
    "sns.lineplot(x=model18_history.epoch, y=model18_train_acc, ax=ax2, label='training accuracy')\n",
    "\n",
    "sns.lineplot(x=model18_history.epoch, y=model18_val_loss, ax=ax1, label='validation loss')\n",
    "sns.lineplot(x=model18_history.epoch, y=model18_val_acc, ax=ax2, label='validation accuracy');"
   ]
  },
  {
   "cell_type": "code",
   "execution_count": 118,
   "metadata": {},
   "outputs": [
    {
     "name": "stdout",
     "output_type": "stream",
     "text": [
      "model 5 ([1.1381879630789626e-05, 1.0], [1.998702049255371, 0.8142414689064026])\n",
      "model 13 ([0.009485256858170033, 0.9969199299812317], [0.6130943298339844, 0.8204334378242493])\n",
      "model 18 ([0.0006583101931028068, 1.0], [0.7237470149993896, 0.8606811165809631])\n"
     ]
    }
   ],
   "source": [
    "for key,value in score_dictionary.items():\n",
    "    print(key, value)"
   ]
  },
  {
   "cell_type": "markdown",
   "metadata": {},
   "source": [
    "Choosing model 18 as the final model...for now... for mvp submission."
   ]
  },
  {
   "cell_type": "markdown",
   "metadata": {},
   "source": [
    "### EVALUATION"
   ]
  },
  {
   "cell_type": "code",
   "execution_count": 125,
   "metadata": {},
   "outputs": [
    {
     "name": "stdout",
     "output_type": "stream",
     "text": [
      "8/8 [==============================] - 8s 984ms/step - loss: 1.5233 - acc: 0.7778\n"
     ]
    },
    {
     "data": {
      "text/plain": [
       "[1.523308515548706, 0.7777777910232544]"
      ]
     },
     "execution_count": 125,
     "metadata": {},
     "output_type": "execute_result"
    }
   ],
   "source": [
    "model18.evaluate(test_data)"
   ]
  },
  {
   "cell_type": "code",
   "execution_count": null,
   "metadata": {},
   "outputs": [],
   "source": []
  }
 ],
 "metadata": {
  "kernelspec": {
   "display_name": "Python (learn-env)",
   "language": "python",
   "name": "learn-env"
  },
  "language_info": {
   "codemirror_mode": {
    "name": "ipython",
    "version": 3
   },
   "file_extension": ".py",
   "mimetype": "text/x-python",
   "name": "python",
   "nbconvert_exporter": "python",
   "pygments_lexer": "ipython3",
   "version": "3.8.5"
  }
 },
 "nbformat": 4,
 "nbformat_minor": 4
}
