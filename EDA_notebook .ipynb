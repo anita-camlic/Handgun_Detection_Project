{
 "cells": [
  {
   "cell_type": "markdown",
   "metadata": {},
   "source": [
    "# EDA Notebook"
   ]
  },
  {
   "cell_type": "markdown",
   "metadata": {},
   "source": [
    "This notebook is used for exploratory data analysis"
   ]
  },
  {
   "cell_type": "code",
   "execution_count": 1,
   "metadata": {},
   "outputs": [],
   "source": [
    "#imports \n",
    "import os, shutil\n",
    "import pandas as pd\n",
    "from sklearn.metrics import accuracy_score, recall_score\n",
    "import time\n",
    "import matplotlib.pyplot as plt\n",
    "import scipy\n",
    "import numpy as np\n",
    "from PIL import Image\n",
    "from scipy import ndimage\n",
    "from keras.preprocessing.image import ImageDataGenerator, array_to_img, img_to_array, load_img"
   ]
  },
  {
   "cell_type": "code",
   "execution_count": 2,
   "metadata": {},
   "outputs": [],
   "source": [
    "train_images_dir = 'C:/Users/User/Documents/Flatiron/Capstone/train_data/images'\n",
    "test_images_dir = 'C:/Users/User/Documents/Flatiron/Capstone/test_data/images'\n",
    "\n",
    "#train_images_dir_0 = 'C:/Users/User/Documents/Flatiron/Capstone/train_data/images/0'\n",
    "#train_images_dir_1 = 'C:/Users/User/Documents/Flatiron/Capstone/train_data/images/1'"
   ]
  },
  {
   "cell_type": "markdown",
   "metadata": {},
   "source": [
    "#### Prepping data for modeling"
   ]
  },
  {
   "cell_type": "markdown",
   "metadata": {},
   "source": [
    "#### Image Generator Object"
   ]
  },
  {
   "cell_type": "markdown",
   "metadata": {},
   "source": [
    "#### Training and Validation set creation"
   ]
  },
  {
   "cell_type": "code",
   "execution_count": 3,
   "metadata": {},
   "outputs": [],
   "source": [
    "global_target_size = (128,128)\n",
    "global_batch_size = 32"
   ]
  },
  {
   "cell_type": "code",
   "execution_count": 4,
   "metadata": {},
   "outputs": [
    {
     "name": "stdout",
     "output_type": "stream",
     "text": [
      "Found 3156 images belonging to 2 classes.\n"
     ]
    }
   ],
   "source": [
    "# Batch size here means how many \n",
    "#of the images do we want our model to be trained on\n",
    "train_val_generator = ImageDataGenerator(rescale=1./255,\n",
    "                                         validation_split = .10)\n",
    "train_data = train_val_generator.flow_from_directory(train_images_dir,  \n",
    "                                                     target_size = global_target_size,\n",
    "                                                     subset='training',\n",
    "                                                     batch_size=global_batch_size,\n",
    "                                                     class_mode='binary')"
   ]
  },
  {
   "cell_type": "code",
   "execution_count": 5,
   "metadata": {},
   "outputs": [
    {
     "name": "stdout",
     "output_type": "stream",
     "text": [
      "Found 350 images belonging to 2 classes.\n"
     ]
    }
   ],
   "source": [
    "val_data = train_val_generator.flow_from_directory(train_images_dir,\n",
    "       subset = 'validation',  \n",
    "       target_size = global_target_size,\n",
    "       batch_size=global_batch_size,\n",
    "       class_mode='binary')"
   ]
  },
  {
   "cell_type": "code",
   "execution_count": 6,
   "metadata": {},
   "outputs": [],
   "source": [
    "train_images, train_labels = next(train_data)"
   ]
  },
  {
   "cell_type": "code",
   "execution_count": 7,
   "metadata": {},
   "outputs": [],
   "source": [
    "val_images, val_labels = next(val_data)"
   ]
  },
  {
   "cell_type": "code",
   "execution_count": 8,
   "metadata": {},
   "outputs": [
    {
     "data": {
      "text/plain": [
       "(32, 128, 128, 3)"
      ]
     },
     "execution_count": 8,
     "metadata": {},
     "output_type": "execute_result"
    }
   ],
   "source": [
    "train_images.shape"
   ]
  },
  {
   "cell_type": "code",
   "execution_count": 9,
   "metadata": {},
   "outputs": [
    {
     "data": {
      "text/plain": [
       "(32,)"
      ]
     },
     "execution_count": 9,
     "metadata": {},
     "output_type": "execute_result"
    }
   ],
   "source": [
    "train_labels.shape"
   ]
  },
  {
   "cell_type": "code",
   "execution_count": 10,
   "metadata": {},
   "outputs": [
    {
     "data": {
      "text/plain": [
       "(32, 128, 128, 3)"
      ]
     },
     "execution_count": 10,
     "metadata": {},
     "output_type": "execute_result"
    }
   ],
   "source": [
    "val_images.shape"
   ]
  },
  {
   "cell_type": "code",
   "execution_count": 11,
   "metadata": {},
   "outputs": [
    {
     "data": {
      "text/plain": [
       "(32,)"
      ]
     },
     "execution_count": 11,
     "metadata": {},
     "output_type": "execute_result"
    }
   ],
   "source": [
    "val_labels.shape"
   ]
  },
  {
   "cell_type": "code",
   "execution_count": 12,
   "metadata": {},
   "outputs": [],
   "source": [
    "# reshaping the y values to be modeled\n",
    "y_train = np.asarray(train_labels).astype('float32').reshape((-1,1))\n",
    "y_val = np.asarray(val_labels).astype('float32').reshape((-1,1))"
   ]
  },
  {
   "cell_type": "markdown",
   "metadata": {},
   "source": [
    "### Test Set Creation"
   ]
  },
  {
   "cell_type": "code",
   "execution_count": 13,
   "metadata": {},
   "outputs": [
    {
     "name": "stdout",
     "output_type": "stream",
     "text": [
      "Found 809 images belonging to 2 classes.\n"
     ]
    }
   ],
   "source": [
    "test_generator = ImageDataGenerator(rescale=1./255)\n",
    "test_data = test_generator.flow_from_directory(\n",
    "        test_images_dir,  \n",
    "        target_size = global_target_size,\n",
    "        batch_size=global_batch_size,\n",
    "        class_mode='binary',\n",
    "        shuffle= False)"
   ]
  },
  {
   "cell_type": "code",
   "execution_count": 14,
   "metadata": {},
   "outputs": [],
   "source": [
    "test_images, test_labels = next(test_data)"
   ]
  },
  {
   "cell_type": "code",
   "execution_count": 15,
   "metadata": {},
   "outputs": [],
   "source": [
    "y_test = np.asarray(test_labels).astype('float32').reshape((-1,1))\n"
   ]
  },
  {
   "cell_type": "markdown",
   "metadata": {},
   "source": [
    "#### Reshaping for normal neural network (flattening)"
   ]
  },
  {
   "cell_type": "code",
   "execution_count": 16,
   "metadata": {},
   "outputs": [],
   "source": [
    "train_img_nn = train_images.reshape(train_images.shape[0], -1)"
   ]
  },
  {
   "cell_type": "code",
   "execution_count": 17,
   "metadata": {},
   "outputs": [],
   "source": [
    "val_img_nn = val_images.reshape(val_images.shape[0], -1)"
   ]
  },
  {
   "cell_type": "code",
   "execution_count": 18,
   "metadata": {},
   "outputs": [],
   "source": [
    "y_train_nn = np.asarray(train_labels).astype('float32').reshape((-1,1))\n",
    "y_val_nn = np.asarray(val_labels).astype('float32').reshape((-1,1))\n"
   ]
  },
  {
   "cell_type": "code",
   "execution_count": 19,
   "metadata": {},
   "outputs": [
    {
     "name": "stdout",
     "output_type": "stream",
     "text": [
      "(32, 49152)\n",
      "(32, 1)\n",
      "(32, 49152)\n",
      "(32, 1)\n"
     ]
    }
   ],
   "source": [
    "print(train_img_nn.shape)\n",
    "print(y_train_nn.shape)\n",
    "print(val_img_nn.shape)\n",
    "print(y_val_nn.shape)"
   ]
  },
  {
   "cell_type": "code",
   "execution_count": 20,
   "metadata": {
    "scrolled": true
   },
   "outputs": [
    {
     "data": {
      "text/plain": [
       "(49152,)"
      ]
     },
     "execution_count": 20,
     "metadata": {},
     "output_type": "execute_result"
    }
   ],
   "source": [
    "GLOBAL_input_shape_baseline = (train_img_nn.shape[1],)\n",
    "GLOBAL_input_shape_baseline "
   ]
  },
  {
   "cell_type": "markdown",
   "metadata": {},
   "source": [
    "### Baseline"
   ]
  },
  {
   "cell_type": "code",
   "execution_count": 21,
   "metadata": {},
   "outputs": [],
   "source": [
    "# Build a baseline fully connected model\n",
    "from keras import models\n",
    "from keras import layers\n",
    "\n",
    "model = models.Sequential()\n",
    "model.add(layers.Dense(20, activation='relu', input_shape=GLOBAL_input_shape_baseline)) # 2 hidden layers\n",
    "model.add(layers.Dense(7, activation='relu'))\n",
    "model.add(layers.Dense(5, activation='relu'))\n",
    "model.add(layers.Dense(1, activation='sigmoid'))"
   ]
  },
  {
   "cell_type": "code",
   "execution_count": 22,
   "metadata": {},
   "outputs": [
    {
     "name": "stdout",
     "output_type": "stream",
     "text": [
      "Epoch 1/150\n",
      "4/4 [==============================] - 0s 122ms/step - loss: 0.6668 - accuracy: 0.7500 - val_loss: 0.6909 - val_accuracy: 0.5938\n",
      "Epoch 2/150\n",
      "4/4 [==============================] - 0s 18ms/step - loss: 0.6957 - accuracy: 0.5312 - val_loss: 0.6888 - val_accuracy: 0.6875\n",
      "Epoch 3/150\n",
      "4/4 [==============================] - 0s 17ms/step - loss: 0.6917 - accuracy: 0.6250 - val_loss: 0.6956 - val_accuracy: 0.5625\n",
      "Epoch 4/150\n",
      "4/4 [==============================] - 0s 17ms/step - loss: 0.6628 - accuracy: 0.6562 - val_loss: 0.6930 - val_accuracy: 0.5625\n",
      "Epoch 5/150\n",
      "4/4 [==============================] - 0s 18ms/step - loss: 0.6698 - accuracy: 0.6562 - val_loss: 0.6922 - val_accuracy: 0.5625\n",
      "Epoch 6/150\n",
      "4/4 [==============================] - 0s 25ms/step - loss: 0.6799 - accuracy: 0.6562 - val_loss: 0.7044 - val_accuracy: 0.5625\n",
      "Epoch 7/150\n",
      "4/4 [==============================] - 0s 17ms/step - loss: 0.6645 - accuracy: 0.6562 - val_loss: 0.7211 - val_accuracy: 0.5625\n",
      "Epoch 8/150\n",
      "4/4 [==============================] - 0s 18ms/step - loss: 0.6669 - accuracy: 0.6562 - val_loss: 0.6985 - val_accuracy: 0.5625\n",
      "Epoch 9/150\n",
      "4/4 [==============================] - 0s 17ms/step - loss: 0.6677 - accuracy: 0.6562 - val_loss: 0.7014 - val_accuracy: 0.5625\n",
      "Epoch 10/150\n",
      "4/4 [==============================] - 0s 18ms/step - loss: 0.6591 - accuracy: 0.6562 - val_loss: 0.7230 - val_accuracy: 0.5625\n",
      "Epoch 11/150\n",
      "4/4 [==============================] - 0s 29ms/step - loss: 0.6633 - accuracy: 0.6562 - val_loss: 0.7559 - val_accuracy: 0.5625\n",
      "Epoch 12/150\n",
      "4/4 [==============================] - 0s 17ms/step - loss: 0.6575 - accuracy: 0.6562 - val_loss: 0.7037 - val_accuracy: 0.5625\n",
      "Epoch 13/150\n",
      "4/4 [==============================] - 0s 16ms/step - loss: 0.6488 - accuracy: 0.6562 - val_loss: 0.6985 - val_accuracy: 0.5625\n",
      "Epoch 14/150\n",
      "4/4 [==============================] - 0s 15ms/step - loss: 0.6447 - accuracy: 0.6562 - val_loss: 0.7046 - val_accuracy: 0.5625\n",
      "Epoch 15/150\n",
      "4/4 [==============================] - 0s 18ms/step - loss: 0.6185 - accuracy: 0.6875 - val_loss: 0.7925 - val_accuracy: 0.5625\n",
      "Epoch 16/150\n",
      "4/4 [==============================] - 0s 17ms/step - loss: 0.6371 - accuracy: 0.6562 - val_loss: 0.7166 - val_accuracy: 0.5625\n",
      "Epoch 17/150\n",
      "4/4 [==============================] - 0s 21ms/step - loss: 0.6174 - accuracy: 0.6562 - val_loss: 0.7738 - val_accuracy: 0.5625\n",
      "Epoch 18/150\n",
      "4/4 [==============================] - 0s 23ms/step - loss: 0.6076 - accuracy: 0.6562 - val_loss: 0.6984 - val_accuracy: 0.5625\n",
      "Epoch 19/150\n",
      "4/4 [==============================] - 0s 16ms/step - loss: 0.5977 - accuracy: 0.6562 - val_loss: 0.8573 - val_accuracy: 0.5625\n",
      "Epoch 20/150\n",
      "4/4 [==============================] - 0s 18ms/step - loss: 0.6378 - accuracy: 0.6562 - val_loss: 0.6768 - val_accuracy: 0.6562\n",
      "Epoch 21/150\n",
      "4/4 [==============================] - 0s 18ms/step - loss: 0.6181 - accuracy: 0.6250 - val_loss: 0.6871 - val_accuracy: 0.5625\n",
      "Epoch 22/150\n",
      "4/4 [==============================] - 0s 19ms/step - loss: 0.6000 - accuracy: 0.7188 - val_loss: 0.6803 - val_accuracy: 0.6250\n",
      "Epoch 23/150\n",
      "4/4 [==============================] - 0s 20ms/step - loss: 0.5881 - accuracy: 0.7500 - val_loss: 0.7317 - val_accuracy: 0.5625\n",
      "Epoch 24/150\n",
      "4/4 [==============================] - 0s 16ms/step - loss: 0.5406 - accuracy: 0.7500 - val_loss: 0.7418 - val_accuracy: 0.5625\n",
      "Epoch 25/150\n",
      "4/4 [==============================] - 0s 19ms/step - loss: 0.5378 - accuracy: 0.6875 - val_loss: 0.7068 - val_accuracy: 0.4062\n",
      "Epoch 26/150\n",
      "4/4 [==============================] - 0s 19ms/step - loss: 0.6473 - accuracy: 0.6562 - val_loss: 0.6651 - val_accuracy: 0.6250\n",
      "Epoch 27/150\n",
      "4/4 [==============================] - 0s 15ms/step - loss: 0.5264 - accuracy: 0.8438 - val_loss: 0.6536 - val_accuracy: 0.7188\n",
      "Epoch 28/150\n",
      "4/4 [==============================] - 0s 17ms/step - loss: 0.5271 - accuracy: 0.7812 - val_loss: 0.7130 - val_accuracy: 0.5625\n",
      "Epoch 29/150\n",
      "4/4 [==============================] - 0s 19ms/step - loss: 0.4895 - accuracy: 0.7500 - val_loss: 0.6993 - val_accuracy: 0.5000\n",
      "Epoch 30/150\n",
      "4/4 [==============================] - 0s 20ms/step - loss: 0.6856 - accuracy: 0.6250 - val_loss: 0.6764 - val_accuracy: 0.5312\n",
      "Epoch 31/150\n",
      "4/4 [==============================] - 0s 18ms/step - loss: 0.4816 - accuracy: 0.8125 - val_loss: 0.6774 - val_accuracy: 0.6250\n",
      "Epoch 32/150\n",
      "4/4 [==============================] - 0s 16ms/step - loss: 0.5269 - accuracy: 0.7188 - val_loss: 0.8779 - val_accuracy: 0.5625\n",
      "Epoch 33/150\n",
      "4/4 [==============================] - 0s 14ms/step - loss: 0.5290 - accuracy: 0.7188 - val_loss: 0.6733 - val_accuracy: 0.5625\n",
      "Epoch 34/150\n",
      "4/4 [==============================] - 0s 18ms/step - loss: 0.5080 - accuracy: 0.7812 - val_loss: 0.7555 - val_accuracy: 0.5938\n",
      "Epoch 35/150\n",
      "4/4 [==============================] - 0s 18ms/step - loss: 0.4161 - accuracy: 0.8438 - val_loss: 1.0898 - val_accuracy: 0.5625\n",
      "Epoch 36/150\n",
      "4/4 [==============================] - 0s 17ms/step - loss: 0.4382 - accuracy: 0.8125 - val_loss: 2.1957 - val_accuracy: 0.5625\n",
      "Epoch 37/150\n",
      "4/4 [==============================] - 0s 17ms/step - loss: 0.9801 - accuracy: 0.6562 - val_loss: 0.6628 - val_accuracy: 0.6562\n",
      "Epoch 38/150\n",
      "4/4 [==============================] - 0s 17ms/step - loss: 0.4354 - accuracy: 0.8750 - val_loss: 0.6685 - val_accuracy: 0.6250\n",
      "Epoch 39/150\n",
      "4/4 [==============================] - 0s 18ms/step - loss: 0.4081 - accuracy: 0.8750 - val_loss: 0.6708 - val_accuracy: 0.5938\n",
      "Epoch 40/150\n",
      "4/4 [==============================] - 0s 19ms/step - loss: 0.3768 - accuracy: 0.8750 - val_loss: 0.8307 - val_accuracy: 0.5625\n",
      "Epoch 41/150\n",
      "4/4 [==============================] - 0s 19ms/step - loss: 0.3689 - accuracy: 0.8438 - val_loss: 0.9715 - val_accuracy: 0.5625\n",
      "Epoch 42/150\n",
      "4/4 [==============================] - 0s 19ms/step - loss: 0.3981 - accuracy: 0.8438 - val_loss: 0.8656 - val_accuracy: 0.5625\n",
      "Epoch 43/150\n",
      "4/4 [==============================] - 0s 19ms/step - loss: 0.3891 - accuracy: 0.8125 - val_loss: 1.3636 - val_accuracy: 0.5625\n",
      "Epoch 44/150\n",
      "4/4 [==============================] - 0s 47ms/step - loss: 0.4497 - accuracy: 0.8125 - val_loss: 0.6645 - val_accuracy: 0.5938\n",
      "Epoch 45/150\n",
      "4/4 [==============================] - 0s 22ms/step - loss: 0.3444 - accuracy: 0.9062 - val_loss: 1.0077 - val_accuracy: 0.4375\n",
      "Epoch 46/150\n",
      "4/4 [==============================] - 0s 16ms/step - loss: 1.0294 - accuracy: 0.4062 - val_loss: 0.6912 - val_accuracy: 0.4062\n",
      "Epoch 47/150\n",
      "4/4 [==============================] - 0s 21ms/step - loss: 0.6611 - accuracy: 0.5625 - val_loss: 0.6831 - val_accuracy: 0.5312\n",
      "Epoch 48/150\n",
      "4/4 [==============================] - 0s 17ms/step - loss: 0.5323 - accuracy: 0.6875 - val_loss: 0.7119 - val_accuracy: 0.4375\n",
      "Epoch 49/150\n",
      "4/4 [==============================] - 0s 19ms/step - loss: 0.4504 - accuracy: 0.8438 - val_loss: 1.0877 - val_accuracy: 0.5625\n",
      "Epoch 50/150\n",
      "4/4 [==============================] - 0s 19ms/step - loss: 0.4893 - accuracy: 0.7812 - val_loss: 0.7671 - val_accuracy: 0.5312\n",
      "Epoch 51/150\n",
      "4/4 [==============================] - 0s 20ms/step - loss: 0.4171 - accuracy: 0.9062 - val_loss: 0.8869 - val_accuracy: 0.5000\n",
      "Epoch 52/150\n",
      "4/4 [==============================] - 0s 20ms/step - loss: 0.4065 - accuracy: 0.7812 - val_loss: 0.8247 - val_accuracy: 0.4375\n",
      "Epoch 53/150\n",
      "4/4 [==============================] - 0s 22ms/step - loss: 0.3963 - accuracy: 0.7500 - val_loss: 1.3636 - val_accuracy: 0.5625\n",
      "Epoch 54/150\n",
      "4/4 [==============================] - 0s 15ms/step - loss: 0.5399 - accuracy: 0.7188 - val_loss: 0.7696 - val_accuracy: 0.3438\n",
      "Epoch 55/150\n",
      "4/4 [==============================] - 0s 16ms/step - loss: 0.4162 - accuracy: 0.7812 - val_loss: 1.0634 - val_accuracy: 0.5312\n",
      "Epoch 56/150\n",
      "4/4 [==============================] - 0s 17ms/step - loss: 0.3958 - accuracy: 0.7188 - val_loss: 0.7530 - val_accuracy: 0.3750\n",
      "Epoch 57/150\n",
      "4/4 [==============================] - 0s 14ms/step - loss: 0.4345 - accuracy: 0.7188 - val_loss: 2.0446 - val_accuracy: 0.5625\n",
      "Epoch 58/150\n",
      "4/4 [==============================] - 0s 16ms/step - loss: 0.7515 - accuracy: 0.6875 - val_loss: 0.7395 - val_accuracy: 0.3750\n",
      "Epoch 59/150\n"
     ]
    },
    {
     "name": "stdout",
     "output_type": "stream",
     "text": [
      "4/4 [==============================] - 0s 15ms/step - loss: 0.3948 - accuracy: 0.8750 - val_loss: 0.7283 - val_accuracy: 0.4375\n",
      "Epoch 60/150\n",
      "4/4 [==============================] - 0s 19ms/step - loss: 0.4770 - accuracy: 0.7500 - val_loss: 1.0012 - val_accuracy: 0.4688\n",
      "Epoch 61/150\n",
      "4/4 [==============================] - 0s 14ms/step - loss: 0.3466 - accuracy: 0.8438 - val_loss: 0.9520 - val_accuracy: 0.5312\n",
      "Epoch 62/150\n",
      "4/4 [==============================] - 0s 18ms/step - loss: 0.3153 - accuracy: 0.8438 - val_loss: 1.0185 - val_accuracy: 0.5312\n",
      "Epoch 63/150\n",
      "4/4 [==============================] - 0s 21ms/step - loss: 0.2956 - accuracy: 0.9375 - val_loss: 1.7957 - val_accuracy: 0.5625\n",
      "Epoch 64/150\n",
      "4/4 [==============================] - 0s 14ms/step - loss: 0.6531 - accuracy: 0.7188 - val_loss: 0.9067 - val_accuracy: 0.5625\n",
      "Epoch 65/150\n",
      "4/4 [==============================] - 0s 14ms/step - loss: 0.2708 - accuracy: 1.0000 - val_loss: 0.8646 - val_accuracy: 0.4688\n",
      "Epoch 66/150\n",
      "4/4 [==============================] - 0s 14ms/step - loss: 0.2672 - accuracy: 0.8750 - val_loss: 1.4712 - val_accuracy: 0.5625\n",
      "Epoch 67/150\n",
      "4/4 [==============================] - 0s 15ms/step - loss: 0.3284 - accuracy: 0.7812 - val_loss: 0.7949 - val_accuracy: 0.5000\n",
      "Epoch 68/150\n",
      "4/4 [==============================] - 0s 15ms/step - loss: 0.2733 - accuracy: 0.8750 - val_loss: 1.0039 - val_accuracy: 0.5625\n",
      "Epoch 69/150\n",
      "4/4 [==============================] - 0s 15ms/step - loss: 0.2425 - accuracy: 0.8750 - val_loss: 1.0771 - val_accuracy: 0.5312\n",
      "Epoch 70/150\n",
      "4/4 [==============================] - 0s 16ms/step - loss: 0.2591 - accuracy: 0.9062 - val_loss: 0.8783 - val_accuracy: 0.4375\n",
      "Epoch 71/150\n",
      "4/4 [==============================] - 0s 13ms/step - loss: 0.4885 - accuracy: 0.7500 - val_loss: 0.8780 - val_accuracy: 0.5625\n",
      "Epoch 72/150\n",
      "4/4 [==============================] - 0s 14ms/step - loss: 0.2119 - accuracy: 0.9688 - val_loss: 1.0085 - val_accuracy: 0.5938\n",
      "Epoch 73/150\n",
      "4/4 [==============================] - 0s 15ms/step - loss: 0.1987 - accuracy: 1.0000 - val_loss: 0.9491 - val_accuracy: 0.5625\n",
      "Epoch 74/150\n",
      "4/4 [==============================] - 0s 14ms/step - loss: 0.1486 - accuracy: 1.0000 - val_loss: 0.7996 - val_accuracy: 0.4062\n",
      "Epoch 75/150\n",
      "4/4 [==============================] - 0s 15ms/step - loss: 0.1899 - accuracy: 0.9375 - val_loss: 2.9363 - val_accuracy: 0.5625\n",
      "Epoch 76/150\n",
      "4/4 [==============================] - 0s 17ms/step - loss: 0.6525 - accuracy: 0.8125 - val_loss: 0.6742 - val_accuracy: 0.5312\n",
      "Epoch 77/150\n",
      "4/4 [==============================] - 0s 16ms/step - loss: 0.1733 - accuracy: 1.0000 - val_loss: 1.0016 - val_accuracy: 0.4375\n",
      "Epoch 78/150\n",
      "4/4 [==============================] - 0s 15ms/step - loss: 0.3369 - accuracy: 0.8750 - val_loss: 2.1564 - val_accuracy: 0.5625\n",
      "Epoch 79/150\n",
      "4/4 [==============================] - 0s 15ms/step - loss: 0.5558 - accuracy: 0.8438 - val_loss: 0.7189 - val_accuracy: 0.6250\n",
      "Epoch 80/150\n",
      "4/4 [==============================] - 0s 14ms/step - loss: 0.1187 - accuracy: 1.0000 - val_loss: 0.8267 - val_accuracy: 0.7188\n",
      "Epoch 81/150\n",
      "4/4 [==============================] - 0s 13ms/step - loss: 0.0865 - accuracy: 1.0000 - val_loss: 1.7012 - val_accuracy: 0.5625\n",
      "Epoch 82/150\n",
      "4/4 [==============================] - 0s 13ms/step - loss: 0.9160 - accuracy: 0.6250 - val_loss: 2.0793 - val_accuracy: 0.5625\n",
      "Epoch 83/150\n",
      "4/4 [==============================] - 0s 14ms/step - loss: 0.4583 - accuracy: 0.8438 - val_loss: 0.8324 - val_accuracy: 0.7188\n",
      "Epoch 84/150\n",
      "4/4 [==============================] - 0s 13ms/step - loss: 0.1114 - accuracy: 1.0000 - val_loss: 0.8215 - val_accuracy: 0.6875\n",
      "Epoch 85/150\n",
      "4/4 [==============================] - 0s 15ms/step - loss: 0.0833 - accuracy: 1.0000 - val_loss: 0.6830 - val_accuracy: 0.6250\n",
      "Epoch 86/150\n",
      "4/4 [==============================] - 0s 14ms/step - loss: 0.1245 - accuracy: 1.0000 - val_loss: 0.6956 - val_accuracy: 0.5000\n",
      "Epoch 87/150\n",
      "4/4 [==============================] - 0s 15ms/step - loss: 0.1575 - accuracy: 0.9688 - val_loss: 1.1948 - val_accuracy: 0.5938\n",
      "Epoch 88/150\n",
      "4/4 [==============================] - 0s 14ms/step - loss: 0.0738 - accuracy: 0.9688 - val_loss: 0.8535 - val_accuracy: 0.6875\n",
      "Epoch 89/150\n",
      "4/4 [==============================] - 0s 19ms/step - loss: 0.0459 - accuracy: 1.0000 - val_loss: 0.8211 - val_accuracy: 0.7188\n",
      "Epoch 90/150\n",
      "4/4 [==============================] - 0s 19ms/step - loss: 0.0410 - accuracy: 1.0000 - val_loss: 1.1928 - val_accuracy: 0.5938\n",
      "Epoch 91/150\n",
      "4/4 [==============================] - 0s 15ms/step - loss: 0.0452 - accuracy: 1.0000 - val_loss: 0.8643 - val_accuracy: 0.7188\n",
      "Epoch 92/150\n",
      "4/4 [==============================] - 0s 14ms/step - loss: 0.0315 - accuracy: 1.0000 - val_loss: 0.9270 - val_accuracy: 0.7188\n",
      "Epoch 93/150\n",
      "4/4 [==============================] - 0s 16ms/step - loss: 0.0292 - accuracy: 1.0000 - val_loss: 0.8353 - val_accuracy: 0.7500\n",
      "Epoch 94/150\n",
      "4/4 [==============================] - 0s 14ms/step - loss: 0.0287 - accuracy: 1.0000 - val_loss: 0.7318 - val_accuracy: 0.5000\n",
      "Epoch 95/150\n",
      "4/4 [==============================] - 0s 14ms/step - loss: 0.0258 - accuracy: 1.0000 - val_loss: 0.8799 - val_accuracy: 0.7500\n",
      "Epoch 96/150\n",
      "4/4 [==============================] - 0s 15ms/step - loss: 0.0226 - accuracy: 1.0000 - val_loss: 0.8325 - val_accuracy: 0.7500\n",
      "Epoch 97/150\n",
      "4/4 [==============================] - 0s 15ms/step - loss: 0.0203 - accuracy: 1.0000 - val_loss: 0.9596 - val_accuracy: 0.7500\n",
      "Epoch 98/150\n",
      "4/4 [==============================] - 0s 13ms/step - loss: 0.0208 - accuracy: 1.0000 - val_loss: 0.9364 - val_accuracy: 0.7500\n",
      "Epoch 99/150\n",
      "4/4 [==============================] - 0s 15ms/step - loss: 0.0187 - accuracy: 1.0000 - val_loss: 0.8925 - val_accuracy: 0.7500\n",
      "Epoch 100/150\n",
      "4/4 [==============================] - 0s 15ms/step - loss: 0.0161 - accuracy: 1.0000 - val_loss: 0.7518 - val_accuracy: 0.5312\n",
      "Epoch 101/150\n",
      "4/4 [==============================] - 0s 21ms/step - loss: 0.0197 - accuracy: 1.0000 - val_loss: 0.7600 - val_accuracy: 0.5000\n",
      "Epoch 102/150\n",
      "4/4 [==============================] - 0s 17ms/step - loss: 0.0198 - accuracy: 1.0000 - val_loss: 0.8413 - val_accuracy: 0.6875\n",
      "Epoch 103/150\n",
      "4/4 [==============================] - 0s 16ms/step - loss: 0.0134 - accuracy: 1.0000 - val_loss: 0.9482 - val_accuracy: 0.7500\n",
      "Epoch 104/150\n",
      "4/4 [==============================] - 0s 15ms/step - loss: 0.0126 - accuracy: 1.0000 - val_loss: 0.9506 - val_accuracy: 0.7500\n",
      "Epoch 105/150\n",
      "4/4 [==============================] - 0s 17ms/step - loss: 0.0118 - accuracy: 1.0000 - val_loss: 0.8160 - val_accuracy: 0.5938\n",
      "Epoch 106/150\n",
      "4/4 [==============================] - 0s 16ms/step - loss: 0.0118 - accuracy: 1.0000 - val_loss: 0.9063 - val_accuracy: 0.7500\n",
      "Epoch 107/150\n",
      "4/4 [==============================] - 0s 15ms/step - loss: 0.0107 - accuracy: 1.0000 - val_loss: 0.9264 - val_accuracy: 0.7500\n",
      "Epoch 108/150\n",
      "4/4 [==============================] - 0s 15ms/step - loss: 0.0098 - accuracy: 1.0000 - val_loss: 0.8887 - val_accuracy: 0.7500\n",
      "Epoch 109/150\n",
      "4/4 [==============================] - 0s 15ms/step - loss: 0.0096 - accuracy: 1.0000 - val_loss: 0.9383 - val_accuracy: 0.7500\n",
      "Epoch 110/150\n",
      "4/4 [==============================] - 0s 15ms/step - loss: 0.0091 - accuracy: 1.0000 - val_loss: 0.9049 - val_accuracy: 0.7500\n",
      "Epoch 111/150\n",
      "4/4 [==============================] - 0s 15ms/step - loss: 0.0086 - accuracy: 1.0000 - val_loss: 0.9225 - val_accuracy: 0.7500\n",
      "Epoch 112/150\n",
      "4/4 [==============================] - 0s 15ms/step - loss: 0.0086 - accuracy: 1.0000 - val_loss: 0.8670 - val_accuracy: 0.6875\n",
      "Epoch 113/150\n",
      "4/4 [==============================] - 0s 15ms/step - loss: 0.0085 - accuracy: 1.0000 - val_loss: 0.9220 - val_accuracy: 0.7500\n",
      "Epoch 114/150\n",
      "4/4 [==============================] - 0s 16ms/step - loss: 0.0078 - accuracy: 1.0000 - val_loss: 0.9405 - val_accuracy: 0.7500\n",
      "Epoch 115/150\n",
      "4/4 [==============================] - 0s 17ms/step - loss: 0.0074 - accuracy: 1.0000 - val_loss: 0.9945 - val_accuracy: 0.7500\n",
      "Epoch 116/150\n",
      "4/4 [==============================] - 0s 18ms/step - loss: 0.0073 - accuracy: 1.0000 - val_loss: 0.9003 - val_accuracy: 0.7500\n",
      "Epoch 117/150\n"
     ]
    },
    {
     "name": "stdout",
     "output_type": "stream",
     "text": [
      "4/4 [==============================] - 0s 15ms/step - loss: 0.0069 - accuracy: 1.0000 - val_loss: 1.0210 - val_accuracy: 0.7812\n",
      "Epoch 118/150\n",
      "4/4 [==============================] - 0s 15ms/step - loss: 0.0066 - accuracy: 1.0000 - val_loss: 1.0336 - val_accuracy: 0.7812\n",
      "Epoch 119/150\n",
      "4/4 [==============================] - 0s 15ms/step - loss: 0.0064 - accuracy: 1.0000 - val_loss: 0.9107 - val_accuracy: 0.7500\n",
      "Epoch 120/150\n",
      "4/4 [==============================] - 0s 14ms/step - loss: 0.0062 - accuracy: 1.0000 - val_loss: 0.9213 - val_accuracy: 0.7500\n",
      "Epoch 121/150\n",
      "4/4 [==============================] - 0s 13ms/step - loss: 0.0059 - accuracy: 1.0000 - val_loss: 0.9846 - val_accuracy: 0.7500\n",
      "Epoch 122/150\n",
      "4/4 [==============================] - 0s 14ms/step - loss: 0.0055 - accuracy: 1.0000 - val_loss: 1.0643 - val_accuracy: 0.7812\n",
      "Epoch 123/150\n",
      "4/4 [==============================] - 0s 15ms/step - loss: 0.0058 - accuracy: 1.0000 - val_loss: 1.0750 - val_accuracy: 0.7812\n",
      "Epoch 124/150\n",
      "4/4 [==============================] - 0s 14ms/step - loss: 0.0055 - accuracy: 1.0000 - val_loss: 1.0371 - val_accuracy: 0.7500\n",
      "Epoch 125/150\n",
      "4/4 [==============================] - 0s 14ms/step - loss: 0.0050 - accuracy: 1.0000 - val_loss: 0.9706 - val_accuracy: 0.7500\n",
      "Epoch 126/150\n",
      "4/4 [==============================] - 0s 15ms/step - loss: 0.0049 - accuracy: 1.0000 - val_loss: 1.0328 - val_accuracy: 0.7500\n",
      "Epoch 127/150\n",
      "4/4 [==============================] - 0s 15ms/step - loss: 0.0048 - accuracy: 1.0000 - val_loss: 1.0460 - val_accuracy: 0.7500\n",
      "Epoch 128/150\n",
      "4/4 [==============================] - 0s 14ms/step - loss: 0.0046 - accuracy: 1.0000 - val_loss: 1.0345 - val_accuracy: 0.7500\n",
      "Epoch 129/150\n",
      "4/4 [==============================] - 0s 17ms/step - loss: 0.0045 - accuracy: 1.0000 - val_loss: 1.0083 - val_accuracy: 0.7500\n",
      "Epoch 130/150\n",
      "4/4 [==============================] - 0s 19ms/step - loss: 0.0043 - accuracy: 1.0000 - val_loss: 1.0102 - val_accuracy: 0.7500\n",
      "Epoch 131/150\n",
      "4/4 [==============================] - 0s 17ms/step - loss: 0.0042 - accuracy: 1.0000 - val_loss: 0.9902 - val_accuracy: 0.7500\n",
      "Epoch 132/150\n",
      "4/4 [==============================] - 0s 19ms/step - loss: 0.0042 - accuracy: 1.0000 - val_loss: 1.0126 - val_accuracy: 0.7500\n",
      "Epoch 133/150\n",
      "4/4 [==============================] - 0s 17ms/step - loss: 0.0041 - accuracy: 1.0000 - val_loss: 0.9931 - val_accuracy: 0.7500\n",
      "Epoch 134/150\n",
      "4/4 [==============================] - 0s 25ms/step - loss: 0.0040 - accuracy: 1.0000 - val_loss: 0.9720 - val_accuracy: 0.7500\n",
      "Epoch 135/150\n",
      "4/4 [==============================] - 0s 25ms/step - loss: 0.0040 - accuracy: 1.0000 - val_loss: 0.9745 - val_accuracy: 0.7500\n",
      "Epoch 136/150\n",
      "4/4 [==============================] - 0s 22ms/step - loss: 0.0039 - accuracy: 1.0000 - val_loss: 0.9806 - val_accuracy: 0.7500\n",
      "Epoch 137/150\n",
      "4/4 [==============================] - 0s 17ms/step - loss: 0.0038 - accuracy: 1.0000 - val_loss: 1.0299 - val_accuracy: 0.7500\n",
      "Epoch 138/150\n",
      "4/4 [==============================] - 0s 16ms/step - loss: 0.0036 - accuracy: 1.0000 - val_loss: 1.0720 - val_accuracy: 0.7500\n",
      "Epoch 139/150\n",
      "4/4 [==============================] - 0s 19ms/step - loss: 0.0035 - accuracy: 1.0000 - val_loss: 1.0394 - val_accuracy: 0.7500\n",
      "Epoch 140/150\n",
      "4/4 [==============================] - 0s 21ms/step - loss: 0.0035 - accuracy: 1.0000 - val_loss: 1.0839 - val_accuracy: 0.7812\n",
      "Epoch 141/150\n",
      "4/4 [==============================] - 0s 18ms/step - loss: 0.0034 - accuracy: 1.0000 - val_loss: 1.0879 - val_accuracy: 0.7812\n",
      "Epoch 142/150\n",
      "4/4 [==============================] - 0s 19ms/step - loss: 0.0033 - accuracy: 1.0000 - val_loss: 1.0933 - val_accuracy: 0.7812\n",
      "Epoch 143/150\n",
      "4/4 [==============================] - 0s 16ms/step - loss: 0.0032 - accuracy: 1.0000 - val_loss: 1.0462 - val_accuracy: 0.7500\n",
      "Epoch 144/150\n",
      "4/4 [==============================] - 0s 17ms/step - loss: 0.0031 - accuracy: 1.0000 - val_loss: 1.0675 - val_accuracy: 0.7500\n",
      "Epoch 145/150\n",
      "4/4 [==============================] - 0s 15ms/step - loss: 0.0031 - accuracy: 1.0000 - val_loss: 1.0641 - val_accuracy: 0.7500\n",
      "Epoch 146/150\n",
      "4/4 [==============================] - 0s 22ms/step - loss: 0.0030 - accuracy: 1.0000 - val_loss: 1.1119 - val_accuracy: 0.7812\n",
      "Epoch 147/150\n",
      "4/4 [==============================] - 0s 19ms/step - loss: 0.0030 - accuracy: 1.0000 - val_loss: 1.0813 - val_accuracy: 0.7500\n",
      "Epoch 148/150\n",
      "4/4 [==============================] - 0s 17ms/step - loss: 0.0029 - accuracy: 1.0000 - val_loss: 1.1287 - val_accuracy: 0.7812\n",
      "Epoch 149/150\n",
      "4/4 [==============================] - 0s 17ms/step - loss: 0.0029 - accuracy: 1.0000 - val_loss: 1.0846 - val_accuracy: 0.7500\n",
      "Epoch 150/150\n",
      "4/4 [==============================] - 0s 16ms/step - loss: 0.0028 - accuracy: 1.0000 - val_loss: 1.0586 - val_accuracy: 0.7500\n"
     ]
    }
   ],
   "source": [
    "model.compile(optimizer='sgd',\n",
    "              loss='binary_crossentropy',\n",
    "              metrics=['accuracy'])\n",
    "\n",
    "histoire = model.fit(train_img_nn,\n",
    "                    y_train_nn,\n",
    "                    epochs=150,\n",
    "                     batch_size=10,\n",
    "                     validation_data = (val_img_nn,y_val_nn))"
   ]
  },
  {
   "cell_type": "code",
   "execution_count": 23,
   "metadata": {},
   "outputs": [
    {
     "name": "stdout",
     "output_type": "stream",
     "text": [
      "1/1 [==============================] - 0s 3ms/step - loss: 1.0586 - accuracy: 0.7500\n"
     ]
    }
   ],
   "source": [
    "results_val = model.evaluate(val_img_nn,y_val_nn)"
   ]
  },
  {
   "cell_type": "code",
   "execution_count": 24,
   "metadata": {},
   "outputs": [
    {
     "data": {
      "text/plain": [
       "[1.0586316585540771, 0.75]"
      ]
     },
     "execution_count": 24,
     "metadata": {},
     "output_type": "execute_result"
    }
   ],
   "source": [
    "results_val"
   ]
  },
  {
   "cell_type": "code",
   "execution_count": 25,
   "metadata": {},
   "outputs": [
    {
     "name": "stdout",
     "output_type": "stream",
     "text": [
      "1/1 [==============================] - 0s 3ms/step - loss: 0.0027 - accuracy: 1.0000\n"
     ]
    },
    {
     "data": {
      "text/plain": [
       "[0.0027094795368611813, 1.0]"
      ]
     },
     "execution_count": 25,
     "metadata": {},
     "output_type": "execute_result"
    }
   ],
   "source": [
    "results_train = model.evaluate(train_img_nn,\n",
    "                    y_train_nn)\n",
    "results_train"
   ]
  },
  {
   "cell_type": "markdown",
   "metadata": {},
   "source": [
    "### Model Iterations"
   ]
  },
  {
   "cell_type": "markdown",
   "metadata": {},
   "source": [
    "#### CNN 1"
   ]
  },
  {
   "cell_type": "markdown",
   "metadata": {},
   "source": [
    "Description: Running with default parameters"
   ]
  },
  {
   "cell_type": "code",
   "execution_count": 26,
   "metadata": {},
   "outputs": [],
   "source": [
    "model1 = models.Sequential()\n",
    "model1.add(layers.Conv2D(filters = 32,\n",
    "                         kernel_size=(3,3),\n",
    "                         activation='relu',\n",
    "                         input_shape = (global_target_size[0],global_target_size[0], 3)\n",
    "                        ))\n",
    "model1.add(layers.MaxPooling2D(pool_size = (2, 2)))\n",
    "\n",
    "model1.add(layers.Conv2D(32, (4, 4), activation='relu'))\n",
    "model1.add(layers.MaxPooling2D((2, 2)))\n",
    "\n",
    "model1.add(layers.Conv2D(64, (3, 3), activation='relu'))\n",
    "model1.add(layers.MaxPooling2D((2, 2)))\n",
    "\n",
    "model1.add(layers.Flatten())\n",
    "model1.add(layers.Dense(64, activation='relu'))\n",
    "model1.add(layers.Dense(1, activation='sigmoid'))\n",
    "\n",
    "model1.compile(loss='binary_crossentropy',\n",
    "              optimizer = \"adam\",\n",
    "              metrics=['acc'])"
   ]
  },
  {
   "cell_type": "code",
   "execution_count": 27,
   "metadata": {},
   "outputs": [
    {
     "name": "stdout",
     "output_type": "stream",
     "text": [
      "Epoch 1/15\n",
      "1/1 [==============================] - 0s 343ms/step - loss: 0.6862 - acc: 0.6562 - val_loss: 1.3792 - val_acc: 0.5625\n",
      "Epoch 2/15\n",
      "1/1 [==============================] - 0s 162ms/step - loss: 1.0902 - acc: 0.6562 - val_loss: 0.7534 - val_acc: 0.5625\n",
      "Epoch 3/15\n",
      "1/1 [==============================] - 0s 164ms/step - loss: 0.6203 - acc: 0.6562 - val_loss: 0.6898 - val_acc: 0.5625\n",
      "Epoch 4/15\n",
      "1/1 [==============================] - 0s 152ms/step - loss: 0.6654 - acc: 0.9688 - val_loss: 0.6915 - val_acc: 0.6250\n",
      "Epoch 5/15\n",
      "1/1 [==============================] - 0s 158ms/step - loss: 0.6593 - acc: 0.9062 - val_loss: 0.7105 - val_acc: 0.5625\n",
      "Epoch 6/15\n",
      "1/1 [==============================] - 0s 160ms/step - loss: 0.6164 - acc: 0.6562 - val_loss: 0.7874 - val_acc: 0.5625\n",
      "Epoch 7/15\n",
      "1/1 [==============================] - 0s 185ms/step - loss: 0.6133 - acc: 0.6562 - val_loss: 0.8052 - val_acc: 0.5625\n",
      "Epoch 8/15\n",
      "1/1 [==============================] - 0s 160ms/step - loss: 0.6025 - acc: 0.6562 - val_loss: 0.7656 - val_acc: 0.5625\n",
      "Epoch 9/15\n",
      "1/1 [==============================] - 0s 159ms/step - loss: 0.5651 - acc: 0.6562 - val_loss: 0.7253 - val_acc: 0.5625\n",
      "Epoch 10/15\n",
      "1/1 [==============================] - 0s 159ms/step - loss: 0.5312 - acc: 0.6562 - val_loss: 0.7108 - val_acc: 0.5625\n",
      "Epoch 11/15\n",
      "1/1 [==============================] - 0s 164ms/step - loss: 0.5041 - acc: 0.7188 - val_loss: 0.7350 - val_acc: 0.5625\n",
      "Epoch 12/15\n",
      "1/1 [==============================] - 0s 177ms/step - loss: 0.4671 - acc: 0.7188 - val_loss: 0.7985 - val_acc: 0.5625\n",
      "Epoch 13/15\n",
      "1/1 [==============================] - 0s 157ms/step - loss: 0.4403 - acc: 0.7188 - val_loss: 0.7968 - val_acc: 0.5625\n",
      "Epoch 14/15\n",
      "1/1 [==============================] - 0s 158ms/step - loss: 0.4047 - acc: 0.7812 - val_loss: 0.7805 - val_acc: 0.5625\n",
      "Epoch 15/15\n",
      "1/1 [==============================] - 0s 151ms/step - loss: 0.3744 - acc: 0.9375 - val_loss: 0.8615 - val_acc: 0.5625\n"
     ]
    }
   ],
   "source": [
    "history1 = model1.fit(train_images,\n",
    "                    y_train,\n",
    "                    epochs=15,\n",
    "                    #batch_size = 5,\n",
    "                    use_multiprocessing=True,\n",
    "                    validation_data = (val_images,y_val)\n",
    "                   )"
   ]
  },
  {
   "cell_type": "code",
   "execution_count": 28,
   "metadata": {},
   "outputs": [
    {
     "name": "stdout",
     "output_type": "stream",
     "text": [
      "Model: \"sequential_1\"\n",
      "_________________________________________________________________\n",
      "Layer (type)                 Output Shape              Param #   \n",
      "=================================================================\n",
      "conv2d (Conv2D)              (None, 126, 126, 32)      896       \n",
      "_________________________________________________________________\n",
      "max_pooling2d (MaxPooling2D) (None, 63, 63, 32)        0         \n",
      "_________________________________________________________________\n",
      "conv2d_1 (Conv2D)            (None, 60, 60, 32)        16416     \n",
      "_________________________________________________________________\n",
      "max_pooling2d_1 (MaxPooling2 (None, 30, 30, 32)        0         \n",
      "_________________________________________________________________\n",
      "conv2d_2 (Conv2D)            (None, 28, 28, 64)        18496     \n",
      "_________________________________________________________________\n",
      "max_pooling2d_2 (MaxPooling2 (None, 14, 14, 64)        0         \n",
      "_________________________________________________________________\n",
      "flatten (Flatten)            (None, 12544)             0         \n",
      "_________________________________________________________________\n",
      "dense_4 (Dense)              (None, 64)                802880    \n",
      "_________________________________________________________________\n",
      "dense_5 (Dense)              (None, 1)                 65        \n",
      "=================================================================\n",
      "Total params: 838,753\n",
      "Trainable params: 838,753\n",
      "Non-trainable params: 0\n",
      "_________________________________________________________________\n"
     ]
    }
   ],
   "source": [
    "model1.summary()"
   ]
  },
  {
   "cell_type": "code",
   "execution_count": 29,
   "metadata": {},
   "outputs": [
    {
     "name": "stdout",
     "output_type": "stream",
     "text": [
      "1/1 [==============================] - 0s 3ms/step - loss: 0.3321 - acc: 0.9375\n"
     ]
    },
    {
     "data": {
      "text/plain": [
       "[0.3321288526058197, 0.9375]"
      ]
     },
     "execution_count": 29,
     "metadata": {},
     "output_type": "execute_result"
    }
   ],
   "source": [
    "results_train_1 = model1.evaluate(train_images,y_train)\n",
    "results_train_1"
   ]
  },
  {
   "cell_type": "code",
   "execution_count": 30,
   "metadata": {},
   "outputs": [
    {
     "name": "stdout",
     "output_type": "stream",
     "text": [
      "1/1 [==============================] - 0s 2ms/step - loss: 0.8615 - acc: 0.5625\n"
     ]
    },
    {
     "data": {
      "text/plain": [
       "[0.8615403771400452, 0.5625]"
      ]
     },
     "execution_count": 30,
     "metadata": {},
     "output_type": "execute_result"
    }
   ],
   "source": [
    "results_val_1 = model1.evaluate(val_images, y_val)\n",
    "results_val_1"
   ]
  },
  {
   "cell_type": "markdown",
   "metadata": {},
   "source": [
    "CNN 1 Train: loss: 4.6420e-05 - acc: 1.0000\n",
    "CNN 1 Validation: loss: 5.2256 - acc: 0.5000\n",
    "Highly overfit"
   ]
  },
  {
   "cell_type": "markdown",
   "metadata": {},
   "source": [
    "### CNN 2"
   ]
  },
  {
   "cell_type": "markdown",
   "metadata": {},
   "source": [
    "my goal with this next model is to reduce overfitting - I will attempt to do that by adding a dropout later"
   ]
  },
  {
   "cell_type": "code",
   "execution_count": 31,
   "metadata": {},
   "outputs": [],
   "source": [
    "model2 = models.Sequential()\n",
    "model2.add(layers.Conv2D(32, (3, 3), activation='relu',\n",
    "                         input_shape = (global_target_size[0],global_target_size[0], 3)\n",
    "                        ))\n",
    "model2.add(layers.MaxPooling2D((2, 2)))\n",
    "\n",
    "model2.add(layers.Conv2D(32, (4, 4), activation='relu'))\n",
    "model2.add(layers.MaxPooling2D((2, 2)))\n",
    "\n",
    "model2.add(layers.Conv2D(64, (3, 3), activation='relu'))\n",
    "model2.add(layers.MaxPooling2D((2, 2)))\n",
    "\n",
    "model2.add(layers.Flatten())\n",
    "model2.add(layers.Dense(64, activation='relu'))\n",
    "model2.add(layers.Dropout(0.5))\n",
    "model2.add(layers.Dense(1, activation='sigmoid'))\n",
    "\n",
    "model2.compile(loss='binary_crossentropy',\n",
    "              optimizer = \"adam\",\n",
    "              metrics=['acc'])"
   ]
  },
  {
   "cell_type": "code",
   "execution_count": 32,
   "metadata": {},
   "outputs": [
    {
     "name": "stdout",
     "output_type": "stream",
     "text": [
      "Epoch 1/15\n",
      "1/1 [==============================] - 0s 341ms/step - loss: 0.6935 - acc: 0.5312 - val_loss: 0.8193 - val_acc: 0.5625\n",
      "Epoch 2/15\n",
      "1/1 [==============================] - 0s 160ms/step - loss: 0.6648 - acc: 0.6562 - val_loss: 0.7124 - val_acc: 0.5625\n",
      "Epoch 3/15\n",
      "1/1 [==============================] - 0s 163ms/step - loss: 0.6386 - acc: 0.6250 - val_loss: 0.6994 - val_acc: 0.5625\n",
      "Epoch 4/15\n",
      "1/1 [==============================] - 0s 158ms/step - loss: 0.6345 - acc: 0.6875 - val_loss: 0.7189 - val_acc: 0.5625\n",
      "Epoch 5/15\n",
      "1/1 [==============================] - 0s 429ms/step - loss: 0.5662 - acc: 0.6875 - val_loss: 0.8110 - val_acc: 0.5625\n",
      "Epoch 6/15\n",
      "1/1 [==============================] - 0s 436ms/step - loss: 0.6014 - acc: 0.6562 - val_loss: 0.7567 - val_acc: 0.5625\n",
      "Epoch 7/15\n",
      "1/1 [==============================] - 0s 209ms/step - loss: 0.5860 - acc: 0.6562 - val_loss: 0.6965 - val_acc: 0.5625\n",
      "Epoch 8/15\n",
      "1/1 [==============================] - 0s 289ms/step - loss: 0.5178 - acc: 0.7188 - val_loss: 0.6972 - val_acc: 0.5625\n",
      "Epoch 9/15\n",
      "1/1 [==============================] - 0s 306ms/step - loss: 0.5124 - acc: 0.6562 - val_loss: 0.7665 - val_acc: 0.5625\n",
      "Epoch 10/15\n",
      "1/1 [==============================] - 0s 304ms/step - loss: 0.5036 - acc: 0.6562 - val_loss: 0.7147 - val_acc: 0.5625\n",
      "Epoch 11/15\n",
      "1/1 [==============================] - 0s 227ms/step - loss: 0.4245 - acc: 0.6875 - val_loss: 0.7003 - val_acc: 0.5625\n",
      "Epoch 12/15\n",
      "1/1 [==============================] - 0s 239ms/step - loss: 0.4072 - acc: 0.9062 - val_loss: 0.7336 - val_acc: 0.5312\n",
      "Epoch 13/15\n",
      "1/1 [==============================] - 0s 233ms/step - loss: 0.3571 - acc: 0.8438 - val_loss: 0.7346 - val_acc: 0.4688\n",
      "Epoch 14/15\n",
      "1/1 [==============================] - 0s 227ms/step - loss: 0.3176 - acc: 0.9375 - val_loss: 0.7816 - val_acc: 0.4688\n",
      "Epoch 15/15\n",
      "1/1 [==============================] - 0s 236ms/step - loss: 0.2170 - acc: 0.9688 - val_loss: 0.8583 - val_acc: 0.4375\n"
     ]
    }
   ],
   "source": [
    "history2 = model2.fit(train_images,\n",
    "                    y_train,\n",
    "                    epochs=15,\n",
    "                    #batch_size = 5,\n",
    "                    use_multiprocessing=True,\n",
    "                    validation_data = (val_images,y_val)\n",
    "                   )"
   ]
  },
  {
   "cell_type": "code",
   "execution_count": 33,
   "metadata": {},
   "outputs": [
    {
     "name": "stdout",
     "output_type": "stream",
     "text": [
      "1/1 [==============================] - 0s 4ms/step - loss: 0.1850 - acc: 1.0000\n"
     ]
    },
    {
     "data": {
      "text/plain": [
       "[0.1850075125694275, 1.0]"
      ]
     },
     "execution_count": 33,
     "metadata": {},
     "output_type": "execute_result"
    }
   ],
   "source": [
    "results_train_2 = model2.evaluate(train_images,y_train)\n",
    "results_train_2"
   ]
  },
  {
   "cell_type": "code",
   "execution_count": 34,
   "metadata": {},
   "outputs": [
    {
     "name": "stdout",
     "output_type": "stream",
     "text": [
      "1/1 [==============================] - 0s 2ms/step - loss: 0.8583 - acc: 0.4375\n"
     ]
    },
    {
     "data": {
      "text/plain": [
       "[0.858322024345398, 0.4375]"
      ]
     },
     "execution_count": 34,
     "metadata": {},
     "output_type": "execute_result"
    }
   ],
   "source": [
    "results_val_2 = model2.evaluate(val_images, y_val)\n",
    "results_val_2"
   ]
  },
  {
   "cell_type": "markdown",
   "metadata": {},
   "source": [
    "### CNN 3"
   ]
  },
  {
   "cell_type": "markdown",
   "metadata": {},
   "source": [
    "the last model reduced overfitting a little bit, but now enough as I would like, I am going to add another dropout layer to hopefully reduce the overfitting more "
   ]
  },
  {
   "cell_type": "code",
   "execution_count": 35,
   "metadata": {},
   "outputs": [],
   "source": [
    "model3 = models.Sequential()\n",
    "model3.add(layers.Conv2D(32, (3, 3), activation='relu',\n",
    "                         input_shape = (global_target_size[0],global_target_size[0], 3)\n",
    "                        ))\n",
    "model3.add(layers.MaxPooling2D((2, 2)))\n",
    "\n",
    "model3.add(layers.Conv2D(32, (4, 4), activation='relu'))\n",
    "model3.add(layers.MaxPooling2D((2, 2)))\n",
    "\n",
    "model3.add(layers.Conv2D(64, (3, 3), activation='relu'))\n",
    "model3.add(layers.MaxPooling2D((2, 2)))\n",
    "\n",
    "model3.add(layers.Flatten())\n",
    "model3.add(layers.Dense(64, activation='relu'))\n",
    "model3.add(layers.Dropout(0.5))\n",
    "model3.add(layers.Dense(64, activation='relu'))\n",
    "model3.add(layers.Dropout(0.5))\n",
    "model3.add(layers.Dense(1, activation='sigmoid'))\n",
    "\n",
    "model3.compile(loss='binary_crossentropy',\n",
    "              optimizer = \"adam\",\n",
    "              metrics=['acc'])"
   ]
  },
  {
   "cell_type": "code",
   "execution_count": 36,
   "metadata": {},
   "outputs": [
    {
     "name": "stdout",
     "output_type": "stream",
     "text": [
      "Epoch 1/15\n",
      "1/1 [==============================] - 1s 562ms/step - loss: 0.6733 - acc: 0.6250 - val_loss: 0.7441 - val_acc: 0.5625\n",
      "Epoch 2/15\n",
      "1/1 [==============================] - 0s 251ms/step - loss: 0.6263 - acc: 0.6250 - val_loss: 0.7403 - val_acc: 0.5625\n",
      "Epoch 3/15\n",
      "1/1 [==============================] - 0s 221ms/step - loss: 0.8132 - acc: 0.5625 - val_loss: 0.7038 - val_acc: 0.5625\n",
      "Epoch 4/15\n",
      "1/1 [==============================] - 0s 255ms/step - loss: 0.6328 - acc: 0.7188 - val_loss: 0.6979 - val_acc: 0.5625\n",
      "Epoch 5/15\n",
      "1/1 [==============================] - 0s 246ms/step - loss: 0.6293 - acc: 0.5938 - val_loss: 0.7030 - val_acc: 0.5625\n",
      "Epoch 6/15\n",
      "1/1 [==============================] - 0s 255ms/step - loss: 0.5901 - acc: 0.6562 - val_loss: 0.7246 - val_acc: 0.5625\n",
      "Epoch 7/15\n",
      "1/1 [==============================] - 0s 247ms/step - loss: 0.6361 - acc: 0.6562 - val_loss: 0.7095 - val_acc: 0.5625\n",
      "Epoch 8/15\n",
      "1/1 [==============================] - 0s 343ms/step - loss: 0.6006 - acc: 0.6562 - val_loss: 0.6980 - val_acc: 0.5625\n",
      "Epoch 9/15\n",
      "1/1 [==============================] - 0s 262ms/step - loss: 0.5848 - acc: 0.7188 - val_loss: 0.6976 - val_acc: 0.5625\n",
      "Epoch 10/15\n",
      "1/1 [==============================] - 0s 239ms/step - loss: 0.4878 - acc: 0.6562 - val_loss: 0.7124 - val_acc: 0.5625\n",
      "Epoch 11/15\n",
      "1/1 [==============================] - 0s 247ms/step - loss: 0.5636 - acc: 0.6562 - val_loss: 0.7042 - val_acc: 0.5625\n",
      "Epoch 12/15\n",
      "1/1 [==============================] - 0s 267ms/step - loss: 0.5257 - acc: 0.6875 - val_loss: 0.6893 - val_acc: 0.5625\n",
      "Epoch 13/15\n",
      "1/1 [==============================] - 0s 245ms/step - loss: 0.4972 - acc: 0.7188 - val_loss: 0.6988 - val_acc: 0.5625\n",
      "Epoch 14/15\n",
      "1/1 [==============================] - 0s 192ms/step - loss: 0.5235 - acc: 0.6562 - val_loss: 0.7197 - val_acc: 0.5625\n",
      "Epoch 15/15\n",
      "1/1 [==============================] - 0s 297ms/step - loss: 0.4144 - acc: 0.7188 - val_loss: 0.7715 - val_acc: 0.5625\n"
     ]
    }
   ],
   "source": [
    "history3 = model3.fit(train_images,\n",
    "                    y_train,\n",
    "                    epochs=15,\n",
    "                    #batch_size = 5,\n",
    "                    use_multiprocessing=True,\n",
    "                    validation_data = (val_images,y_val)\n",
    "                   )"
   ]
  },
  {
   "cell_type": "code",
   "execution_count": 37,
   "metadata": {},
   "outputs": [
    {
     "name": "stdout",
     "output_type": "stream",
     "text": [
      "1/1 [==============================] - 0s 4ms/step - loss: 0.4281 - acc: 0.6562\n"
     ]
    },
    {
     "data": {
      "text/plain": [
       "[0.428062379360199, 0.65625]"
      ]
     },
     "execution_count": 37,
     "metadata": {},
     "output_type": "execute_result"
    }
   ],
   "source": [
    "results_train_3 = model3.evaluate(train_images,y_train)\n",
    "results_train_3"
   ]
  },
  {
   "cell_type": "code",
   "execution_count": 38,
   "metadata": {},
   "outputs": [
    {
     "name": "stdout",
     "output_type": "stream",
     "text": [
      "1/1 [==============================] - 0s 3ms/step - loss: 0.7715 - acc: 0.5625\n"
     ]
    },
    {
     "data": {
      "text/plain": [
       "[0.771462082862854, 0.5625]"
      ]
     },
     "execution_count": 38,
     "metadata": {},
     "output_type": "execute_result"
    }
   ],
   "source": [
    "results_val_3 = model3.evaluate(val_images, y_val)\n",
    "results_val_3"
   ]
  },
  {
   "cell_type": "markdown",
   "metadata": {},
   "source": [
    "### CNN 4"
   ]
  },
  {
   "cell_type": "markdown",
   "metadata": {},
   "source": [
    "This is just for exploratory analysis - to see what does what "
   ]
  },
  {
   "cell_type": "code",
   "execution_count": 39,
   "metadata": {},
   "outputs": [],
   "source": [
    "# importing schocastic gradient descent and creating my own learning rate... using that as optimier\n",
    "#from keras.optimizers import SGD\n",
    "#opt = SGD(lr=0.1)"
   ]
  },
  {
   "cell_type": "code",
   "execution_count": 40,
   "metadata": {},
   "outputs": [],
   "source": [
    "import tensorflow as tf"
   ]
  },
  {
   "cell_type": "code",
   "execution_count": 47,
   "metadata": {},
   "outputs": [],
   "source": [
    "model4 = models.Sequential()\n",
    "model4.add(layers.Conv2D(filters = 32,\n",
    "                         kernel_size=(3,3),\n",
    "                         activation='relu',\n",
    "                         input_shape = (global_target_size[0],global_target_size[0], 3)\n",
    "                        ))\n",
    "model4.add(layers.MaxPooling2D(pool_size = (2, 2)))\n",
    "\n",
    "model4.add(layers.Conv2D(32, (4, 4), activation='relu'))\n",
    "model4.add(layers.MaxPooling2D((2, 2)))\n",
    "\n",
    "model4.add(layers.Conv2D(64, (3, 3), activation='relu'))\n",
    "model4.add(layers.MaxPooling2D((2, 2)))\n",
    "\n",
    "model4.add(layers.Conv2D(64, (3, 3), activation='relu'))\n",
    "model4.add(layers.MaxPooling2D((2, 2)))\n",
    "\n",
    "model4.add(layers.Flatten())\n",
    "model4.add(layers.Dense(64, activation='relu'))\n",
    "model4.add(layers.Dense(1, activation='sigmoid'))\n",
    "\n",
    "model4.compile(loss='binary_crossentropy',\n",
    "              optimizer = 'adam',\n",
    "              metrics=['acc'])"
   ]
  },
  {
   "cell_type": "code",
   "execution_count": 48,
   "metadata": {},
   "outputs": [
    {
     "name": "stdout",
     "output_type": "stream",
     "text": [
      "Epoch 1/30\n",
      "2/2 [==============================] - 1s 657ms/step - loss: 0.6804 - acc: 0.4688 - val_loss: 0.8092 - val_acc: 0.5625\n",
      "Epoch 2/30\n",
      "2/2 [==============================] - 1s 509ms/step - loss: 0.6944 - acc: 0.6562 - val_loss: 0.7096 - val_acc: 0.5625\n",
      "Epoch 3/30\n",
      "2/2 [==============================] - 1s 555ms/step - loss: 0.6259 - acc: 0.6562 - val_loss: 0.7286 - val_acc: 0.5625\n",
      "Epoch 4/30\n",
      "2/2 [==============================] - 1s 522ms/step - loss: 0.6115 - acc: 0.6562 - val_loss: 0.7325 - val_acc: 0.5625\n",
      "Epoch 5/30\n",
      "2/2 [==============================] - 1s 534ms/step - loss: 0.5803 - acc: 0.6562 - val_loss: 0.6959 - val_acc: 0.5625\n",
      "Epoch 6/30\n",
      "2/2 [==============================] - 1s 501ms/step - loss: 0.5521 - acc: 0.6562 - val_loss: 0.7087 - val_acc: 0.5625\n",
      "Epoch 7/30\n",
      "2/2 [==============================] - 1s 518ms/step - loss: 0.5217 - acc: 0.6562 - val_loss: 0.6891 - val_acc: 0.5625\n",
      "Epoch 8/30\n",
      "2/2 [==============================] - 1s 498ms/step - loss: 0.4507 - acc: 0.6562 - val_loss: 0.7321 - val_acc: 0.5312\n",
      "Epoch 9/30\n",
      "2/2 [==============================] - 1s 563ms/step - loss: 0.3989 - acc: 0.7812 - val_loss: 0.6744 - val_acc: 0.5312\n",
      "Epoch 10/30\n",
      "2/2 [==============================] - 1s 499ms/step - loss: 0.3073 - acc: 0.9688 - val_loss: 0.9464 - val_acc: 0.4375\n",
      "Epoch 11/30\n",
      "2/2 [==============================] - 1s 607ms/step - loss: 0.2255 - acc: 0.8750 - val_loss: 0.7421 - val_acc: 0.5625\n",
      "Epoch 12/30\n",
      "2/2 [==============================] - 1s 533ms/step - loss: 0.2666 - acc: 0.8125 - val_loss: 1.1216 - val_acc: 0.4375\n",
      "Epoch 13/30\n",
      "2/2 [==============================] - 1s 588ms/step - loss: 0.1877 - acc: 0.9375 - val_loss: 0.8830 - val_acc: 0.5000\n",
      "Epoch 14/30\n",
      "2/2 [==============================] - 1s 668ms/step - loss: 0.1277 - acc: 0.9375 - val_loss: 0.8331 - val_acc: 0.5625\n",
      "Epoch 15/30\n",
      "2/2 [==============================] - 2s 758ms/step - loss: 0.1559 - acc: 0.9688 - val_loss: 1.1094 - val_acc: 0.4375\n",
      "Epoch 16/30\n",
      "2/2 [==============================] - 1s 589ms/step - loss: 0.0405 - acc: 1.0000 - val_loss: 2.3544 - val_acc: 0.4375\n",
      "Epoch 17/30\n",
      "2/2 [==============================] - 1s 620ms/step - loss: 0.2172 - acc: 0.9062 - val_loss: 1.3176 - val_acc: 0.4688\n",
      "Epoch 18/30\n",
      "2/2 [==============================] - 1s 585ms/step - loss: 0.0590 - acc: 0.9688 - val_loss: 1.2218 - val_acc: 0.5000\n",
      "Epoch 19/30\n",
      "2/2 [==============================] - 1s 616ms/step - loss: 0.0199 - acc: 1.0000 - val_loss: 1.3096 - val_acc: 0.4688\n",
      "Epoch 20/30\n",
      "2/2 [==============================] - 1s 596ms/step - loss: 0.0184 - acc: 1.0000 - val_loss: 1.5472 - val_acc: 0.5000\n",
      "Epoch 21/30\n",
      "2/2 [==============================] - 1s 638ms/step - loss: 0.0162 - acc: 1.0000 - val_loss: 1.8281 - val_acc: 0.5000\n",
      "Epoch 22/30\n",
      "2/2 [==============================] - 1s 666ms/step - loss: 0.0120 - acc: 1.0000 - val_loss: 2.0914 - val_acc: 0.5312\n",
      "Epoch 23/30\n",
      "2/2 [==============================] - 1s 603ms/step - loss: 0.0073 - acc: 1.0000 - val_loss: 2.3030 - val_acc: 0.5000\n",
      "Epoch 24/30\n",
      "2/2 [==============================] - 2s 817ms/step - loss: 0.0043 - acc: 1.0000 - val_loss: 2.3891 - val_acc: 0.5000\n",
      "Epoch 25/30\n",
      "2/2 [==============================] - 2s 882ms/step - loss: 0.0010 - acc: 1.0000 - val_loss: 2.4722 - val_acc: 0.4375\n",
      "Epoch 26/30\n",
      "2/2 [==============================] - 1s 556ms/step - loss: 6.4439e-04 - acc: 1.0000 - val_loss: 2.5409 - val_acc: 0.4375\n",
      "Epoch 27/30\n",
      "2/2 [==============================] - 1s 492ms/step - loss: 4.4517e-04 - acc: 1.0000 - val_loss: 2.6164 - val_acc: 0.4375\n",
      "Epoch 28/30\n",
      "2/2 [==============================] - 1s 506ms/step - loss: 6.2748e-04 - acc: 1.0000 - val_loss: 2.6956 - val_acc: 0.3750\n",
      "Epoch 29/30\n",
      "2/2 [==============================] - 1s 448ms/step - loss: 9.0607e-04 - acc: 1.0000 - val_loss: 2.7730 - val_acc: 0.3750\n",
      "Epoch 30/30\n",
      "2/2 [==============================] - 1s 502ms/step - loss: 8.9936e-04 - acc: 1.0000 - val_loss: 2.8461 - val_acc: 0.4062\n"
     ]
    }
   ],
   "source": [
    "history4 = model4.fit(train_images,\n",
    "                    y_train,\n",
    "                    epochs=30,\n",
    "                    batch_size = 20,\n",
    "                    use_multiprocessing=True,\n",
    "                    validation_data = (val_images,y_val)\n",
    "                   )"
   ]
  },
  {
   "cell_type": "code",
   "execution_count": null,
   "metadata": {},
   "outputs": [],
   "source": [
    "model4.summary()"
   ]
  },
  {
   "cell_type": "code",
   "execution_count": 44,
   "metadata": {},
   "outputs": [
    {
     "name": "stdout",
     "output_type": "stream",
     "text": [
      "1/1 [==============================] - 0s 3ms/step - loss: 0.1047 - acc: 0.9688\n"
     ]
    },
    {
     "data": {
      "text/plain": [
       "[0.104654461145401, 0.96875]"
      ]
     },
     "execution_count": 44,
     "metadata": {},
     "output_type": "execute_result"
    }
   ],
   "source": [
    "results_train_4 = model4.evaluate(train_images,y_train)\n",
    "results_train_4"
   ]
  },
  {
   "cell_type": "code",
   "execution_count": 45,
   "metadata": {},
   "outputs": [
    {
     "name": "stdout",
     "output_type": "stream",
     "text": [
      "1/1 [==============================] - 0s 3ms/step - loss: 0.9253 - acc: 0.4688\n"
     ]
    },
    {
     "data": {
      "text/plain": [
       "[0.9252535104751587, 0.46875]"
      ]
     },
     "execution_count": 45,
     "metadata": {},
     "output_type": "execute_result"
    }
   ],
   "source": [
    "results_val_4 = model4.evaluate(val_images, y_val)\n",
    "results_val_4"
   ]
  },
  {
   "cell_type": "code",
   "execution_count": null,
   "metadata": {},
   "outputs": [],
   "source": []
  },
  {
   "cell_type": "code",
   "execution_count": null,
   "metadata": {},
   "outputs": [],
   "source": []
  }
 ],
 "metadata": {
  "kernelspec": {
   "display_name": "Python (learn-env)",
   "language": "python",
   "name": "learn-env"
  },
  "language_info": {
   "codemirror_mode": {
    "name": "ipython",
    "version": 3
   },
   "file_extension": ".py",
   "mimetype": "text/x-python",
   "name": "python",
   "nbconvert_exporter": "python",
   "pygments_lexer": "ipython3",
   "version": "3.8.5"
  }
 },
 "nbformat": 4,
 "nbformat_minor": 4
}
