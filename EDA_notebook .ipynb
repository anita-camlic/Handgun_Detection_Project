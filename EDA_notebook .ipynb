{
 "cells": [
  {
   "cell_type": "markdown",
   "metadata": {},
   "source": [
    "# EDA Notebook"
   ]
  },
  {
   "cell_type": "markdown",
   "metadata": {},
   "source": [
    "This notebook is used for exploratory data analysis"
   ]
  },
  {
   "cell_type": "code",
   "execution_count": 25,
   "metadata": {},
   "outputs": [],
   "source": [
    "#imports \n",
    "import os, shutil\n",
    "import pandas as pd\n",
    "from sklearn.metrics import accuracy_score, recall_score\n",
    "import time\n",
    "import matplotlib.pyplot as plt\n",
    "import scipy\n",
    "import numpy as np\n",
    "from PIL import Image\n",
    "from scipy import ndimage\n",
    "from keras.preprocessing.image import ImageDataGenerator, array_to_img, img_to_array, load_img\n",
    "from keras import models\n",
    "from keras import layers\n",
    "from tensorflow.keras import regularizers"
   ]
  },
  {
   "cell_type": "code",
   "execution_count": 2,
   "metadata": {},
   "outputs": [],
   "source": [
    "train_images_dir = 'C:/Users/User/Documents/Flatiron/Capstone/train_data/images'\n",
    "test_images_dir = 'C:/Users/User/Documents/Flatiron/Capstone/test_data/images'\n",
    "\n",
    "#train_images_dir_0 = 'C:/Users/User/Documents/Flatiron/Capstone/train_data/images/0'\n",
    "#train_images_dir_1 = 'C:/Users/User/Documents/Flatiron/Capstone/train_data/images/1'"
   ]
  },
  {
   "cell_type": "markdown",
   "metadata": {},
   "source": [
    "#### Prepping data for modeling"
   ]
  },
  {
   "cell_type": "markdown",
   "metadata": {},
   "source": [
    "#### Image Generator Object"
   ]
  },
  {
   "cell_type": "markdown",
   "metadata": {},
   "source": [
    "#### Training and Validation set creation"
   ]
  },
  {
   "cell_type": "code",
   "execution_count": 19,
   "metadata": {},
   "outputs": [],
   "source": [
    "global_target_size = (128,128)\n",
    "global_batch_size = 32"
   ]
  },
  {
   "cell_type": "code",
   "execution_count": 30,
   "metadata": {},
   "outputs": [
    {
     "name": "stdout",
     "output_type": "stream",
     "text": [
      "Found 3156 images belonging to 2 classes.\n"
     ]
    }
   ],
   "source": [
    "# Batch size here means how many \n",
    "#of the images do we want our model to be trained on\n",
    "train_val_generator = ImageDataGenerator(rescale=1./255,\n",
    "                                         validation_split = .10)\n",
    "train_data = train_val_generator.flow_from_directory(train_images_dir,  \n",
    "                                                     target_size = global_target_size,\n",
    "                                                     subset='training',\n",
    "                                                     batch_size=global_batch_size,\n",
    "                                                     class_mode='binary',\n",
    "                                                    shuffle = True,\n",
    "                                                    seed = 100)"
   ]
  },
  {
   "cell_type": "code",
   "execution_count": 31,
   "metadata": {},
   "outputs": [
    {
     "name": "stdout",
     "output_type": "stream",
     "text": [
      "Found 350 images belonging to 2 classes.\n"
     ]
    }
   ],
   "source": [
    "val_data = train_val_generator.flow_from_directory(train_images_dir,\n",
    "       subset = 'validation',  \n",
    "       target_size = global_target_size,\n",
    "       batch_size=global_batch_size,\n",
    "       class_mode='binary',\n",
    "       shuffle = True,\n",
    "       seed = 100)"
   ]
  },
  {
   "cell_type": "markdown",
   "metadata": {},
   "source": [
    "### Test Set Creation"
   ]
  },
  {
   "cell_type": "code",
   "execution_count": 6,
   "metadata": {},
   "outputs": [
    {
     "name": "stdout",
     "output_type": "stream",
     "text": [
      "Found 809 images belonging to 2 classes.\n"
     ]
    }
   ],
   "source": [
    "test_generator = ImageDataGenerator(rescale=1./255)\n",
    "test_data = test_generator.flow_from_directory(\n",
    "        test_images_dir,  \n",
    "        target_size = global_target_size,\n",
    "        batch_size=global_batch_size,\n",
    "        class_mode='binary',\n",
    "        shuffle= False)"
   ]
  },
  {
   "cell_type": "markdown",
   "metadata": {},
   "source": [
    "### Model Iterations"
   ]
  },
  {
   "cell_type": "markdown",
   "metadata": {},
   "source": [
    "###### Here I am creating a dictionary to store all of my scores"
   ]
  },
  {
   "cell_type": "code",
   "execution_count": 18,
   "metadata": {},
   "outputs": [],
   "source": [
    "score_dictionary = {}"
   ]
  },
  {
   "cell_type": "markdown",
   "metadata": {},
   "source": [
    "#### CNN 1"
   ]
  },
  {
   "cell_type": "markdown",
   "metadata": {},
   "source": [
    "Description: Running with default parameters"
   ]
  },
  {
   "cell_type": "code",
   "execution_count": 8,
   "metadata": {},
   "outputs": [],
   "source": [
    "model1 = models.Sequential()\n",
    "model1.add(layers.Conv2D(filters = 32,\n",
    "                         kernel_size=(3,3),\n",
    "                         activation='relu',\n",
    "                         input_shape = (global_target_size[0],global_target_size[0], 3)\n",
    "                        ))\n",
    "model1.add(layers.MaxPooling2D(pool_size = (2, 2)))\n",
    "\n",
    "model1.add(layers.Conv2D(32, (4, 4), activation='relu'))\n",
    "model1.add(layers.MaxPooling2D((2, 2)))\n",
    "\n",
    "model1.add(layers.Conv2D(64, (3, 3), activation='relu'))\n",
    "model1.add(layers.MaxPooling2D((2, 2)))\n",
    "\n",
    "model1.add(layers.Flatten())\n",
    "model1.add(layers.Dense(64, activation='relu'))\n",
    "model1.add(layers.Dense(1, activation='sigmoid'))\n",
    "\n",
    "model1.compile(loss='binary_crossentropy',\n",
    "              optimizer = \"adam\",\n",
    "              metrics=['acc'])"
   ]
  },
  {
   "cell_type": "code",
   "execution_count": 9,
   "metadata": {},
   "outputs": [
    {
     "name": "stdout",
     "output_type": "stream",
     "text": [
      "Epoch 1/15\n",
      "99/99 [==============================] - 129s 1s/step - loss: 0.5560 - acc: 0.7113 - val_loss: 0.5279 - val_acc: 0.7057\n",
      "Epoch 2/15\n",
      "99/99 [==============================] - 128s 1s/step - loss: 0.3950 - acc: 0.8156 - val_loss: 0.6924 - val_acc: 0.7143\n",
      "Epoch 3/15\n",
      "99/99 [==============================] - 127s 1s/step - loss: 0.3334 - acc: 0.8470 - val_loss: 0.4614 - val_acc: 0.7971\n",
      "Epoch 4/15\n",
      "99/99 [==============================] - 128s 1s/step - loss: 0.2680 - acc: 0.8866 - val_loss: 0.5118 - val_acc: 0.7800\n",
      "Epoch 5/15\n",
      "99/99 [==============================] - 125s 1s/step - loss: 0.2301 - acc: 0.8989 - val_loss: 0.4742 - val_acc: 0.7771\n",
      "Epoch 6/15\n",
      "99/99 [==============================] - 126s 1s/step - loss: 0.1762 - acc: 0.9259 - val_loss: 0.5504 - val_acc: 0.7771\n",
      "Epoch 7/15\n",
      "99/99 [==============================] - 126s 1s/step - loss: 0.1333 - acc: 0.9449 - val_loss: 0.6906 - val_acc: 0.7629\n",
      "Epoch 8/15\n",
      "99/99 [==============================] - 125s 1s/step - loss: 0.0932 - acc: 0.9632 - val_loss: 0.7540 - val_acc: 0.7429\n",
      "Epoch 9/15\n",
      "99/99 [==============================] - 125s 1s/step - loss: 0.0706 - acc: 0.9740 - val_loss: 0.7416 - val_acc: 0.8171\n",
      "Epoch 10/15\n",
      "99/99 [==============================] - 126s 1s/step - loss: 0.0400 - acc: 0.9886 - val_loss: 0.8385 - val_acc: 0.7914\n",
      "Epoch 11/15\n",
      "99/99 [==============================] - 126s 1s/step - loss: 0.0326 - acc: 0.9895 - val_loss: 1.1304 - val_acc: 0.7771\n",
      "Epoch 12/15\n",
      "99/99 [==============================] - 127s 1s/step - loss: 0.0401 - acc: 0.9883 - val_loss: 1.0204 - val_acc: 0.7600\n",
      "Epoch 13/15\n",
      "99/99 [==============================] - 127s 1s/step - loss: 0.0445 - acc: 0.9835 - val_loss: 1.3295 - val_acc: 0.7371\n",
      "Epoch 14/15\n",
      "99/99 [==============================] - 126s 1s/step - loss: 0.0384 - acc: 0.9892 - val_loss: 1.1556 - val_acc: 0.7600\n",
      "Epoch 15/15\n",
      "99/99 [==============================] - 125s 1s/step - loss: 0.0325 - acc: 0.9895 - val_loss: 1.0365 - val_acc: 0.7914\n"
     ]
    }
   ],
   "source": [
    "history1 = model1.fit(train_data,\n",
    "                    epochs=15,\n",
    "                    validation_data = val_data\n",
    "                   )"
   ]
  },
  {
   "cell_type": "code",
   "execution_count": 10,
   "metadata": {},
   "outputs": [
    {
     "name": "stdout",
     "output_type": "stream",
     "text": [
      "Model: \"sequential\"\n",
      "_________________________________________________________________\n",
      "Layer (type)                 Output Shape              Param #   \n",
      "=================================================================\n",
      "conv2d (Conv2D)              (None, 126, 126, 32)      896       \n",
      "_________________________________________________________________\n",
      "max_pooling2d (MaxPooling2D) (None, 63, 63, 32)        0         \n",
      "_________________________________________________________________\n",
      "conv2d_1 (Conv2D)            (None, 60, 60, 32)        16416     \n",
      "_________________________________________________________________\n",
      "max_pooling2d_1 (MaxPooling2 (None, 30, 30, 32)        0         \n",
      "_________________________________________________________________\n",
      "conv2d_2 (Conv2D)            (None, 28, 28, 64)        18496     \n",
      "_________________________________________________________________\n",
      "max_pooling2d_2 (MaxPooling2 (None, 14, 14, 64)        0         \n",
      "_________________________________________________________________\n",
      "flatten (Flatten)            (None, 12544)             0         \n",
      "_________________________________________________________________\n",
      "dense (Dense)                (None, 64)                802880    \n",
      "_________________________________________________________________\n",
      "dense_1 (Dense)              (None, 1)                 65        \n",
      "=================================================================\n",
      "Total params: 838,753\n",
      "Trainable params: 838,753\n",
      "Non-trainable params: 0\n",
      "_________________________________________________________________\n"
     ]
    }
   ],
   "source": [
    "model1.summary()"
   ]
  },
  {
   "cell_type": "code",
   "execution_count": 11,
   "metadata": {},
   "outputs": [
    {
     "name": "stdout",
     "output_type": "stream",
     "text": [
      "99/99 [==============================] - 82s 830ms/step - loss: 0.0239 - acc: 0.9911\n"
     ]
    },
    {
     "data": {
      "text/plain": [
       "[0.023903056979179382, 0.9911280274391174]"
      ]
     },
     "execution_count": 11,
     "metadata": {},
     "output_type": "execute_result"
    }
   ],
   "source": [
    "results_train_1 = model1.evaluate(train_data)\n",
    "results_train_1"
   ]
  },
  {
   "cell_type": "code",
   "execution_count": 12,
   "metadata": {},
   "outputs": [
    {
     "name": "stdout",
     "output_type": "stream",
     "text": [
      "11/11 [==============================] - 8s 739ms/step - loss: 1.0365 - acc: 0.7914\n"
     ]
    },
    {
     "data": {
      "text/plain": [
       "[1.036498785018921, 0.7914285659790039]"
      ]
     },
     "execution_count": 12,
     "metadata": {},
     "output_type": "execute_result"
    }
   ],
   "source": [
    "results_val_1 = model1.evaluate(val_data)\n",
    "results_val_1"
   ]
  },
  {
   "cell_type": "code",
   "execution_count": 13,
   "metadata": {},
   "outputs": [],
   "source": [
    "score_dictionary['model 1'] =  results_val_1"
   ]
  },
  {
   "cell_type": "code",
   "execution_count": null,
   "metadata": {},
   "outputs": [],
   "source": []
  },
  {
   "cell_type": "markdown",
   "metadata": {},
   "source": [
    "CNN 1 Train: loss: 4.6420e-05 - acc: 1.0000\n",
    "CNN 1 Validation: loss: 5.2256 - acc: 0.5000\n",
    "Highly overfit"
   ]
  },
  {
   "cell_type": "markdown",
   "metadata": {},
   "source": [
    "### CNN 2"
   ]
  },
  {
   "cell_type": "markdown",
   "metadata": {},
   "source": [
    "my goal with this next model is to reduce overfitting - I will attempt to do that by adding a dropout later"
   ]
  },
  {
   "cell_type": "code",
   "execution_count": 14,
   "metadata": {},
   "outputs": [],
   "source": [
    "model2 = models.Sequential()\n",
    "model2.add(layers.Conv2D(32, (3, 3), activation='relu',\n",
    "                         input_shape = (global_target_size[0],global_target_size[0], 3)\n",
    "                        ))\n",
    "model2.add(layers.MaxPooling2D((2, 2)))\n",
    "\n",
    "model2.add(layers.Conv2D(32, (4, 4), activation='relu'))\n",
    "model2.add(layers.MaxPooling2D((2, 2)))\n",
    "\n",
    "model2.add(layers.Conv2D(64, (3, 3), activation='relu'))\n",
    "model2.add(layers.MaxPooling2D((2, 2)))\n",
    "\n",
    "model2.add(layers.Flatten())\n",
    "model2.add(layers.Dense(64, activation='relu'))\n",
    "model2.add(layers.Dropout(0.5))\n",
    "model2.add(layers.Dense(1, activation='sigmoid'))\n",
    "\n",
    "model2.compile(loss='binary_crossentropy',\n",
    "              optimizer = \"adam\",\n",
    "              metrics=['acc'])"
   ]
  },
  {
   "cell_type": "code",
   "execution_count": 15,
   "metadata": {},
   "outputs": [
    {
     "name": "stdout",
     "output_type": "stream",
     "text": [
      "Epoch 1/15\n",
      "99/99 [==============================] - 126s 1s/step - loss: 0.5795 - acc: 0.6778 - val_loss: 0.5349 - val_acc: 0.7314\n",
      "Epoch 2/15\n",
      "99/99 [==============================] - 125s 1s/step - loss: 0.4549 - acc: 0.7817 - val_loss: 0.4550 - val_acc: 0.7629\n",
      "Epoch 3/15\n",
      "99/99 [==============================] - 125s 1s/step - loss: 0.3944 - acc: 0.8112 - val_loss: 0.4239 - val_acc: 0.8629\n",
      "Epoch 4/15\n",
      "99/99 [==============================] - 125s 1s/step - loss: 0.3348 - acc: 0.8492 - val_loss: 0.4538 - val_acc: 0.7571\n",
      "Epoch 5/15\n",
      "99/99 [==============================] - 127s 1s/step - loss: 0.2888 - acc: 0.8691 - val_loss: 0.4486 - val_acc: 0.8200\n",
      "Epoch 6/15\n",
      "99/99 [==============================] - 125s 1s/step - loss: 0.2462 - acc: 0.8939 - val_loss: 0.4167 - val_acc: 0.7971\n",
      "Epoch 7/15\n",
      "99/99 [==============================] - 126s 1s/step - loss: 0.2255 - acc: 0.9053 - val_loss: 0.5091 - val_acc: 0.7686\n",
      "Epoch 8/15\n",
      "99/99 [==============================] - 125s 1s/step - loss: 0.1836 - acc: 0.9243 - val_loss: 0.5924 - val_acc: 0.7200\n",
      "Epoch 9/15\n",
      "99/99 [==============================] - 126s 1s/step - loss: 0.1511 - acc: 0.9376 - val_loss: 0.6746 - val_acc: 0.7600\n",
      "Epoch 10/15\n",
      "99/99 [==============================] - 125s 1s/step - loss: 0.1329 - acc: 0.9436 - val_loss: 0.6281 - val_acc: 0.7371\n",
      "Epoch 11/15\n",
      "99/99 [==============================] - 126s 1s/step - loss: 0.1228 - acc: 0.9496 - val_loss: 0.6554 - val_acc: 0.7800\n",
      "Epoch 12/15\n",
      "99/99 [==============================] - 125s 1s/step - loss: 0.1120 - acc: 0.9560 - val_loss: 0.5577 - val_acc: 0.8114\n",
      "Epoch 13/15\n",
      "99/99 [==============================] - 125s 1s/step - loss: 0.0913 - acc: 0.9626 - val_loss: 0.7636 - val_acc: 0.7914\n",
      "Epoch 14/15\n",
      "99/99 [==============================] - 126s 1s/step - loss: 0.0670 - acc: 0.9718 - val_loss: 0.7541 - val_acc: 0.7943\n",
      "Epoch 15/15\n",
      "99/99 [==============================] - 125s 1s/step - loss: 0.0584 - acc: 0.9769 - val_loss: 0.8710 - val_acc: 0.7857\n"
     ]
    }
   ],
   "source": [
    "history2 = model2.fit(train_data,\n",
    "                    epochs=15,\n",
    "                    #batch_size = 5,\n",
    "                    validation_data = val_data\n",
    "                   )"
   ]
  },
  {
   "cell_type": "code",
   "execution_count": 16,
   "metadata": {},
   "outputs": [
    {
     "name": "stdout",
     "output_type": "stream",
     "text": [
      "99/99 [==============================] - 82s 827ms/step - loss: 0.0270 - acc: 0.9924\n"
     ]
    },
    {
     "data": {
      "text/plain": [
       "[0.027039606124162674, 0.9923954606056213]"
      ]
     },
     "execution_count": 16,
     "metadata": {},
     "output_type": "execute_result"
    }
   ],
   "source": [
    "results_train_2 = model2.evaluate(train_data)\n",
    "results_train_2"
   ]
  },
  {
   "cell_type": "code",
   "execution_count": 17,
   "metadata": {},
   "outputs": [
    {
     "name": "stdout",
     "output_type": "stream",
     "text": [
      "11/11 [==============================] - 8s 759ms/step - loss: 0.8710 - acc: 0.7857\n"
     ]
    },
    {
     "data": {
      "text/plain": [
       "[0.8709557056427002, 0.7857142686843872]"
      ]
     },
     "execution_count": 17,
     "metadata": {},
     "output_type": "execute_result"
    }
   ],
   "source": [
    "results_val_2 = model2.evaluate(val_data)\n",
    "results_val_2"
   ]
  },
  {
   "cell_type": "code",
   "execution_count": 18,
   "metadata": {},
   "outputs": [],
   "source": [
    "score_dictionary['model 2'] =  results_val_2"
   ]
  },
  {
   "cell_type": "markdown",
   "metadata": {},
   "source": [
    "### CNN 3"
   ]
  },
  {
   "cell_type": "markdown",
   "metadata": {},
   "source": [
    "the last model reduced overfitting a little bit, but now enough as I would like, I am going to add another dropout layer to hopefully reduce the overfitting more "
   ]
  },
  {
   "cell_type": "code",
   "execution_count": 19,
   "metadata": {},
   "outputs": [],
   "source": [
    "model3 = models.Sequential()\n",
    "model3.add(layers.Conv2D(32, (3, 3), activation='relu',\n",
    "                         input_shape = (global_target_size[0],global_target_size[0], 3)\n",
    "                        ))\n",
    "model3.add(layers.MaxPooling2D((2, 2)))\n",
    "\n",
    "model3.add(layers.Conv2D(32, (4, 4), activation='relu'))\n",
    "model3.add(layers.MaxPooling2D((2, 2)))\n",
    "\n",
    "model3.add(layers.Conv2D(64, (3, 3), activation='relu'))\n",
    "model3.add(layers.MaxPooling2D((2, 2)))\n",
    "\n",
    "model3.add(layers.Flatten())\n",
    "model3.add(layers.Dense(64, activation='relu'))\n",
    "model3.add(layers.Dropout(0.25))\n",
    "model3.add(layers.Dense(64, activation='relu'))\n",
    "model3.add(layers.Dropout(0.25))\n",
    "model3.add(layers.Dense(1, activation='sigmoid'))\n",
    "\n",
    "model3.compile(loss='binary_crossentropy',\n",
    "              optimizer = \"adam\",\n",
    "              metrics=['acc'])"
   ]
  },
  {
   "cell_type": "code",
   "execution_count": 20,
   "metadata": {},
   "outputs": [
    {
     "name": "stdout",
     "output_type": "stream",
     "text": [
      "Epoch 1/15\n",
      "99/99 [==============================] - 127s 1s/step - loss: 0.5581 - acc: 0.6984 - val_loss: 0.4833 - val_acc: 0.7486\n",
      "Epoch 2/15\n",
      "99/99 [==============================] - 125s 1s/step - loss: 0.4278 - acc: 0.7953 - val_loss: 0.4824 - val_acc: 0.7971\n",
      "Epoch 3/15\n",
      "99/99 [==============================] - 125s 1s/step - loss: 0.3559 - acc: 0.8460 - val_loss: 0.4767 - val_acc: 0.7857\n",
      "Epoch 4/15\n",
      "99/99 [==============================] - 126s 1s/step - loss: 0.2863 - acc: 0.8824 - val_loss: 0.5053 - val_acc: 0.7886\n",
      "Epoch 5/15\n",
      "99/99 [==============================] - 128s 1s/step - loss: 0.2219 - acc: 0.9116 - val_loss: 0.5100 - val_acc: 0.7571\n",
      "Epoch 6/15\n",
      "99/99 [==============================] - 126s 1s/step - loss: 0.1908 - acc: 0.9205 - val_loss: 0.5021 - val_acc: 0.7886\n",
      "Epoch 7/15\n",
      "99/99 [==============================] - 126s 1s/step - loss: 0.1443 - acc: 0.9395 - val_loss: 0.7088 - val_acc: 0.7514\n",
      "Epoch 8/15\n",
      "99/99 [==============================] - 126s 1s/step - loss: 0.1257 - acc: 0.9503 - val_loss: 0.7249 - val_acc: 0.7314\n",
      "Epoch 9/15\n",
      "99/99 [==============================] - 126s 1s/step - loss: 0.0956 - acc: 0.9658 - val_loss: 0.5881 - val_acc: 0.7971\n",
      "Epoch 10/15\n",
      "99/99 [==============================] - 127s 1s/step - loss: 0.0808 - acc: 0.9715 - val_loss: 0.9179 - val_acc: 0.7343\n",
      "Epoch 11/15\n",
      "99/99 [==============================] - 138s 1s/step - loss: 0.0797 - acc: 0.9715 - val_loss: 1.0161 - val_acc: 0.7171\n",
      "Epoch 12/15\n",
      "99/99 [==============================] - 145s 1s/step - loss: 0.0517 - acc: 0.9832 - val_loss: 1.1624 - val_acc: 0.7457\n",
      "Epoch 13/15\n",
      "99/99 [==============================] - 127s 1s/step - loss: 0.0675 - acc: 0.9728 - val_loss: 0.9139 - val_acc: 0.7114\n",
      "Epoch 14/15\n",
      "99/99 [==============================] - 126s 1s/step - loss: 0.0421 - acc: 0.9854 - val_loss: 1.2871 - val_acc: 0.7629\n",
      "Epoch 15/15\n",
      "99/99 [==============================] - 126s 1s/step - loss: 0.0338 - acc: 0.9873 - val_loss: 1.4456 - val_acc: 0.6971\n"
     ]
    }
   ],
   "source": [
    "history3 = model3.fit(train_data,\n",
    "                    epochs=15,\n",
    "                    #batch_size = 5,\n",
    "                    validation_data = val_data\n",
    "                   )"
   ]
  },
  {
   "cell_type": "code",
   "execution_count": 21,
   "metadata": {},
   "outputs": [
    {
     "name": "stdout",
     "output_type": "stream",
     "text": [
      "99/99 [==============================] - 82s 829ms/step - loss: 0.0205 - acc: 0.9943\n"
     ]
    },
    {
     "data": {
      "text/plain": [
       "[0.020531611517071724, 0.9942965507507324]"
      ]
     },
     "execution_count": 21,
     "metadata": {},
     "output_type": "execute_result"
    }
   ],
   "source": [
    "results_train_3 = model3.evaluate(train_data)\n",
    "results_train_3"
   ]
  },
  {
   "cell_type": "code",
   "execution_count": 22,
   "metadata": {},
   "outputs": [
    {
     "name": "stdout",
     "output_type": "stream",
     "text": [
      "11/11 [==============================] - 8s 758ms/step - loss: 1.4456 - acc: 0.6971\n"
     ]
    },
    {
     "data": {
      "text/plain": [
       "[1.4455512762069702, 0.6971428394317627]"
      ]
     },
     "execution_count": 22,
     "metadata": {},
     "output_type": "execute_result"
    }
   ],
   "source": [
    "results_val_3 = model3.evaluate(val_data)\n",
    "results_val_3"
   ]
  },
  {
   "cell_type": "code",
   "execution_count": 23,
   "metadata": {},
   "outputs": [],
   "source": [
    "score_dictionary['model 3'] =  results_val_3"
   ]
  },
  {
   "cell_type": "markdown",
   "metadata": {},
   "source": [
    "### CNN 4"
   ]
  },
  {
   "cell_type": "markdown",
   "metadata": {},
   "source": [
    "decreased the amount of dense layers and removed dropouts"
   ]
  },
  {
   "cell_type": "code",
   "execution_count": 26,
   "metadata": {},
   "outputs": [],
   "source": [
    "model4 = models.Sequential()\n",
    "model4.add(layers.Conv2D(filters = 32,\n",
    "                         kernel_size=(3,3),\n",
    "                         activation='relu',\n",
    "                         input_shape = (global_target_size[0],global_target_size[0], 3)\n",
    "                        ))\n",
    "model4.add(layers.MaxPooling2D(pool_size = (2, 2)))\n",
    "\n",
    "model4.add(layers.Conv2D(32, (4, 4), activation='relu'))\n",
    "model4.add(layers.MaxPooling2D((2, 2)))\n",
    "\n",
    "model4.add(layers.Conv2D(64, (3, 3), activation='relu'))\n",
    "model4.add(layers.MaxPooling2D((2, 2)))\n",
    "\n",
    "model4.add(layers.Conv2D(64, (3, 3), activation='relu'))\n",
    "model4.add(layers.MaxPooling2D((2, 2)))\n",
    "\n",
    "model4.add(layers.Flatten())\n",
    "model4.add(layers.Dense(64, activation='relu'))\n",
    "model4.add(layers.Dense(1, activation='sigmoid'))\n",
    "\n",
    "model4.compile(loss='binary_crossentropy',\n",
    "              optimizer = 'adam',\n",
    "              metrics=['acc'])"
   ]
  },
  {
   "cell_type": "code",
   "execution_count": 27,
   "metadata": {},
   "outputs": [
    {
     "name": "stdout",
     "output_type": "stream",
     "text": [
      "Epoch 1/15\n",
      "99/99 [==============================] - 128s 1s/step - loss: 0.5804 - acc: 0.6822 - val_loss: 0.4806 - val_acc: 0.7543\n",
      "Epoch 2/15\n",
      "99/99 [==============================] - 127s 1s/step - loss: 0.4580 - acc: 0.7852 - val_loss: 0.4494 - val_acc: 0.7714\n",
      "Epoch 3/15\n",
      "99/99 [==============================] - 126s 1s/step - loss: 0.3679 - acc: 0.8428 - val_loss: 0.3350 - val_acc: 0.8600\n",
      "Epoch 4/15\n",
      "99/99 [==============================] - 127s 1s/step - loss: 0.3387 - acc: 0.8517 - val_loss: 0.5627 - val_acc: 0.7400\n",
      "Epoch 5/15\n",
      "99/99 [==============================] - 126s 1s/step - loss: 0.2947 - acc: 0.8764 - val_loss: 0.4108 - val_acc: 0.8257\n",
      "Epoch 6/15\n",
      "99/99 [==============================] - 126s 1s/step - loss: 0.2767 - acc: 0.8793 - val_loss: 0.3660 - val_acc: 0.8486\n",
      "Epoch 7/15\n",
      "99/99 [==============================] - 127s 1s/step - loss: 0.2234 - acc: 0.9056 - val_loss: 0.5415 - val_acc: 0.7800\n",
      "Epoch 8/15\n",
      "99/99 [==============================] - 127s 1s/step - loss: 0.1746 - acc: 0.9268 - val_loss: 0.5410 - val_acc: 0.7943\n",
      "Epoch 9/15\n",
      "99/99 [==============================] - 126s 1s/step - loss: 0.1534 - acc: 0.9376 - val_loss: 0.7043 - val_acc: 0.6971\n",
      "Epoch 10/15\n",
      "99/99 [==============================] - 126s 1s/step - loss: 0.1197 - acc: 0.9525 - val_loss: 0.8446 - val_acc: 0.7057\n",
      "Epoch 11/15\n",
      "99/99 [==============================] - 127s 1s/step - loss: 0.0978 - acc: 0.9626 - val_loss: 0.7817 - val_acc: 0.7857\n",
      "Epoch 12/15\n",
      "99/99 [==============================] - 127s 1s/step - loss: 0.0702 - acc: 0.9756 - val_loss: 0.8990 - val_acc: 0.7486\n",
      "Epoch 13/15\n",
      "99/99 [==============================] - 128s 1s/step - loss: 0.0606 - acc: 0.9794 - val_loss: 0.9104 - val_acc: 0.7829\n",
      "Epoch 14/15\n",
      "99/99 [==============================] - 130s 1s/step - loss: 0.0460 - acc: 0.9800 - val_loss: 0.9437 - val_acc: 0.7257\n",
      "Epoch 15/15\n",
      "99/99 [==============================] - 126s 1s/step - loss: 0.0223 - acc: 0.9937 - val_loss: 1.1375 - val_acc: 0.7571\n"
     ]
    }
   ],
   "source": [
    "history4 = model4.fit(train_data,\n",
    "                    epochs=15,\n",
    "                    validation_data = val_data\n",
    "                   )"
   ]
  },
  {
   "cell_type": "code",
   "execution_count": 28,
   "metadata": {},
   "outputs": [
    {
     "name": "stdout",
     "output_type": "stream",
     "text": [
      "Model: \"sequential_3\"\n",
      "_________________________________________________________________\n",
      "Layer (type)                 Output Shape              Param #   \n",
      "=================================================================\n",
      "conv2d_9 (Conv2D)            (None, 126, 126, 32)      896       \n",
      "_________________________________________________________________\n",
      "max_pooling2d_9 (MaxPooling2 (None, 63, 63, 32)        0         \n",
      "_________________________________________________________________\n",
      "conv2d_10 (Conv2D)           (None, 60, 60, 32)        16416     \n",
      "_________________________________________________________________\n",
      "max_pooling2d_10 (MaxPooling (None, 30, 30, 32)        0         \n",
      "_________________________________________________________________\n",
      "conv2d_11 (Conv2D)           (None, 28, 28, 64)        18496     \n",
      "_________________________________________________________________\n",
      "max_pooling2d_11 (MaxPooling (None, 14, 14, 64)        0         \n",
      "_________________________________________________________________\n",
      "conv2d_12 (Conv2D)           (None, 12, 12, 64)        36928     \n",
      "_________________________________________________________________\n",
      "max_pooling2d_12 (MaxPooling (None, 6, 6, 64)          0         \n",
      "_________________________________________________________________\n",
      "flatten_3 (Flatten)          (None, 2304)              0         \n",
      "_________________________________________________________________\n",
      "dense_7 (Dense)              (None, 64)                147520    \n",
      "_________________________________________________________________\n",
      "dense_8 (Dense)              (None, 1)                 65        \n",
      "=================================================================\n",
      "Total params: 220,321\n",
      "Trainable params: 220,321\n",
      "Non-trainable params: 0\n",
      "_________________________________________________________________\n"
     ]
    }
   ],
   "source": [
    "model4.summary()"
   ]
  },
  {
   "cell_type": "code",
   "execution_count": 29,
   "metadata": {},
   "outputs": [
    {
     "name": "stdout",
     "output_type": "stream",
     "text": [
      "99/99 [==============================] - 83s 834ms/step - loss: 0.0188 - acc: 0.9933\n"
     ]
    },
    {
     "data": {
      "text/plain": [
       "[0.01875309832394123, 0.9933460354804993]"
      ]
     },
     "execution_count": 29,
     "metadata": {},
     "output_type": "execute_result"
    }
   ],
   "source": [
    "results_train_4 = model4.evaluate(train_data)\n",
    "results_train_4"
   ]
  },
  {
   "cell_type": "code",
   "execution_count": 30,
   "metadata": {},
   "outputs": [
    {
     "name": "stdout",
     "output_type": "stream",
     "text": [
      "11/11 [==============================] - 8s 754ms/step - loss: 1.1375 - acc: 0.7571\n"
     ]
    },
    {
     "data": {
      "text/plain": [
       "[1.13747239112854, 0.7571428418159485]"
      ]
     },
     "execution_count": 30,
     "metadata": {},
     "output_type": "execute_result"
    }
   ],
   "source": [
    "results_val_4 = model4.evaluate(val_data)\n",
    "results_val_4"
   ]
  },
  {
   "cell_type": "code",
   "execution_count": 31,
   "metadata": {},
   "outputs": [],
   "source": [
    "score_dictionary['model 4'] =  results_val_4"
   ]
  },
  {
   "cell_type": "markdown",
   "metadata": {},
   "source": [
    "### CNN 5"
   ]
  },
  {
   "cell_type": "markdown",
   "metadata": {},
   "source": [
    "###### For this CNN, I am trying something different. Since my model is severely overfitting, I looked up how to reduce that and all of the articles I read said to add more data. I don't have more data readily available, so I am going to use the ImageDataGenerator to create more augmented images in hopes that this will reduce overfitting - I also added in more dense laters and dropout layers"
   ]
  },
  {
   "cell_type": "code",
   "execution_count": 50,
   "metadata": {},
   "outputs": [
    {
     "name": "stdout",
     "output_type": "stream",
     "text": [
      "Found 2805 images belonging to 2 classes.\n"
     ]
    }
   ],
   "source": [
    "# Batch size here means how many \n",
    "#of the images do we want our model to be trained on\n",
    "\n",
    "# here is where I am experimenting with augmenting the data to yield reduced overfitting\n",
    "train_val_generator2 = ImageDataGenerator(rescale=1./255,\n",
    "                                          validation_split = .20,\n",
    "                                          width_shift_range=0.1,\n",
    "                                          height_shift_range=0.1,\n",
    "                                          #shear_range=0.01,\n",
    "                                          zoom_range=[0.9, 1.25],\n",
    "                                          horizontal_flip=True,\n",
    "                                          #brightness_range=[0.5, 1.5]\n",
    "                                         )\n",
    "\n",
    "train_data2 = train_val_generator2.flow_from_directory(train_images_dir,  \n",
    "                                                     target_size = global_target_size,\n",
    "                                                     subset='training',\n",
    "                                                     batch_size=global_batch_size,\n",
    "                                                     class_mode='binary',\n",
    "                                                       shuffle = True,\n",
    "                                                      seed = 100,)"
   ]
  },
  {
   "cell_type": "code",
   "execution_count": 51,
   "metadata": {},
   "outputs": [
    {
     "name": "stdout",
     "output_type": "stream",
     "text": [
      "Found 701 images belonging to 2 classes.\n"
     ]
    }
   ],
   "source": [
    "val_data2 = train_val_generator2.flow_from_directory(train_images_dir,\n",
    "       subset = 'validation',  \n",
    "       target_size = global_target_size,\n",
    "       batch_size=global_batch_size,\n",
    "       class_mode='binary',\n",
    "                                                    shuffle = True,\n",
    "                                                    seed = 100)"
   ]
  },
  {
   "cell_type": "code",
   "execution_count": 52,
   "metadata": {},
   "outputs": [],
   "source": [
    "model5 = models.Sequential()\n",
    "model5.add(layers.Conv2D(32, (3, 3), activation='relu',\n",
    "                         input_shape = (global_target_size[0],global_target_size[0], 3)\n",
    "                        ))\n",
    "model5.add(layers.MaxPooling2D((2, 2)))\n",
    "\n",
    "model5.add(layers.Conv2D(32, (4, 4), activation='relu'))\n",
    "model5.add(layers.MaxPooling2D((2, 2)))\n",
    "\n",
    "model5.add(layers.Conv2D(64, (3, 3), activation='relu'))\n",
    "model5.add(layers.MaxPooling2D((2, 2)))\n",
    "\n",
    "model5.add(layers.Flatten())\n",
    "model5.add(layers.Dense(64, activation='relu'))\n",
    "model5.add(layers.Dropout(0.25))\n",
    "model5.add(layers.Dense(64, activation='relu'))\n",
    "model5.add(layers.Dropout(0.5))\n",
    "model5.add(layers.Dense(1, activation='sigmoid'))\n",
    "\n",
    "model5.compile(loss='binary_crossentropy',\n",
    "              optimizer = \"adam\",\n",
    "              metrics=['acc'])"
   ]
  },
  {
   "cell_type": "code",
   "execution_count": 53,
   "metadata": {},
   "outputs": [
    {
     "name": "stdout",
     "output_type": "stream",
     "text": [
      "Epoch 1/15\n",
      "88/88 [==============================] - 136s 2s/step - loss: 0.6490 - acc: 0.6417 - val_loss: 0.6111 - val_acc: 0.6576\n",
      "Epoch 2/15\n",
      "88/88 [==============================] - 136s 2s/step - loss: 0.5991 - acc: 0.6549 - val_loss: 0.5393 - val_acc: 0.6576\n",
      "Epoch 3/15\n",
      "88/88 [==============================] - 136s 2s/step - loss: 0.5556 - acc: 0.6578 - val_loss: 0.5535 - val_acc: 0.6576\n",
      "Epoch 4/15\n",
      "88/88 [==============================] - 136s 2s/step - loss: 0.5202 - acc: 0.7091 - val_loss: 0.5242 - val_acc: 0.6947\n",
      "Epoch 5/15\n",
      "88/88 [==============================] - 136s 2s/step - loss: 0.5004 - acc: 0.7636 - val_loss: 0.4955 - val_acc: 0.7019\n",
      "Epoch 6/15\n",
      "88/88 [==============================] - 136s 2s/step - loss: 0.4819 - acc: 0.7850 - val_loss: 0.5228 - val_acc: 0.6733\n",
      "Epoch 7/15\n",
      "88/88 [==============================] - 135s 2s/step - loss: 0.4591 - acc: 0.7879 - val_loss: 0.5528 - val_acc: 0.5949\n",
      "Epoch 8/15\n",
      "88/88 [==============================] - 151s 2s/step - loss: 0.4164 - acc: 0.8125 - val_loss: 0.4684 - val_acc: 0.7290\n",
      "Epoch 9/15\n",
      "88/88 [==============================] - 149s 2s/step - loss: 0.4167 - acc: 0.8203 - val_loss: 0.5640 - val_acc: 0.5949\n",
      "Epoch 10/15\n",
      "88/88 [==============================] - 143s 2s/step - loss: 0.4225 - acc: 0.8046 - val_loss: 0.6163 - val_acc: 0.5678\n",
      "Epoch 11/15\n",
      "88/88 [==============================] - 144s 2s/step - loss: 0.3938 - acc: 0.8271 - val_loss: 0.5957 - val_acc: 0.5906\n",
      "Epoch 12/15\n",
      "88/88 [==============================] - 143s 2s/step - loss: 0.3667 - acc: 0.8442 - val_loss: 0.6101 - val_acc: 0.5949\n",
      "Epoch 13/15\n",
      "88/88 [==============================] - 143s 2s/step - loss: 0.3759 - acc: 0.8328 - val_loss: 0.5628 - val_acc: 0.6362\n",
      "Epoch 14/15\n",
      "88/88 [==============================] - 144s 2s/step - loss: 0.3538 - acc: 0.8474 - val_loss: 0.6237 - val_acc: 0.6476\n",
      "Epoch 15/15\n",
      "88/88 [==============================] - 139s 2s/step - loss: 0.3601 - acc: 0.8421 - val_loss: 0.8637 - val_acc: 0.5136\n"
     ]
    }
   ],
   "source": [
    "history5 = model5.fit(train_data2,\n",
    "                    epochs=15,\n",
    "                    validation_data = val_data2\n",
    "                   )"
   ]
  },
  {
   "cell_type": "code",
   "execution_count": 16,
   "metadata": {},
   "outputs": [
    {
     "name": "stdout",
     "output_type": "stream",
     "text": [
      "22/22 [==============================] - 20s 932ms/step - loss: 0.7453 - acc: 0.6790\n"
     ]
    },
    {
     "data": {
      "text/plain": [
       "[0.7453269362449646, 0.6790299415588379]"
      ]
     },
     "execution_count": 16,
     "metadata": {},
     "output_type": "execute_result"
    }
   ],
   "source": [
    "results_val_5 = model5.evaluate(val_data2)\n",
    "results_val_5"
   ]
  },
  {
   "cell_type": "code",
   "execution_count": 17,
   "metadata": {},
   "outputs": [
    {
     "ename": "NameError",
     "evalue": "name 'score_dictionary' is not defined",
     "output_type": "error",
     "traceback": [
      "\u001b[1;31m---------------------------------------------------------------------------\u001b[0m",
      "\u001b[1;31mNameError\u001b[0m                                 Traceback (most recent call last)",
      "\u001b[1;32m<ipython-input-17-7ab4d7b0f406>\u001b[0m in \u001b[0;36m<module>\u001b[1;34m\u001b[0m\n\u001b[1;32m----> 1\u001b[1;33m \u001b[0mscore_dictionary\u001b[0m\u001b[1;33m[\u001b[0m\u001b[1;34m'model 5'\u001b[0m\u001b[1;33m]\u001b[0m \u001b[1;33m=\u001b[0m  \u001b[0mresults_val_5\u001b[0m\u001b[1;33m\u001b[0m\u001b[1;33m\u001b[0m\u001b[0m\n\u001b[0m",
      "\u001b[1;31mNameError\u001b[0m: name 'score_dictionary' is not defined"
     ]
    }
   ],
   "source": [
    "score_dictionary['model 5'] =  results_val_5"
   ]
  },
  {
   "cell_type": "code",
   "execution_count": 40,
   "metadata": {},
   "outputs": [
    {
     "data": {
      "text/plain": [
       "{'model 1': [1.036498785018921, 0.7914285659790039],\n",
       " 'model 2': [0.8709557056427002, 0.7857142686843872],\n",
       " 'model 3': [1.4455512762069702, 0.6971428394317627],\n",
       " 'model 4': [1.13747239112854, 0.7571428418159485]}"
      ]
     },
     "execution_count": 40,
     "metadata": {},
     "output_type": "execute_result"
    }
   ],
   "source": [
    "score_dictionary"
   ]
  },
  {
   "cell_type": "markdown",
   "metadata": {},
   "source": [
    "#### CNN 6 \n",
    "Here I am creating a new CNN Architecture to reduce overfitting. I am decreasing the number of stacked layers ( CONV2d followed by a MaxPooling layer), then adding dense layers, kernel initializer, l2 regularization,  dropout and regularization"
   ]
  },
  {
   "cell_type": "code",
   "execution_count": 27,
   "metadata": {},
   "outputs": [],
   "source": [
    "model6 = models.Sequential()\n",
    "\n",
    "model6.add(layers.Conv2D(32, (3, 3), activation='relu',\n",
    "                         input_shape = (global_target_size[0],global_target_size[0], 3),\n",
    "                         kernel_regularizer=regularizers.l2(l=0.01),\n",
    "                         kernel_initializer='he_normal'\n",
    "                        ))\n",
    "model6.add(layers.MaxPooling2D((2, 2)))\n",
    "\n",
    "\n",
    "model6.add(layers.Conv2D(32, (2, 2), activation='relu', kernel_regularizer=regularizers.l2(l=0.01)))\n",
    "model6.add(layers.MaxPooling2D((2, 2)))\n",
    "\n",
    "model6.add(layers.Flatten())\n",
    "\n",
    "model6.add(layers.Dense(32, activation='relu',kernel_regularizer=regularizers.l2(l=0.01)))\n",
    "\n",
    "model6.add(layers.Dense(32, activation='relu'))\n",
    "\n",
    "model6.add(layers.Dropout(0.25))\n",
    "\n",
    "model6.add(layers.Dense(64, activation='relu',kernel_regularizer=regularizers.l2(l=0.01)))\n",
    "\n",
    "model6.add(layers.Dropout(0.5))\n",
    "\n",
    "model6.add(layers.Dense(64, activation='relu'))\n",
    "\n",
    "model6.add(layers.Dense(1, activation='sigmoid'))\n",
    "\n",
    "model6.compile(loss='binary_crossentropy',\n",
    "              optimizer = \"adam\",\n",
    "              metrics=['acc'])"
   ]
  },
  {
   "cell_type": "markdown",
   "metadata": {},
   "source": [
    "#### We are fitting it on the un-augmented data!! As opposed to the augmented data - I want to see if it is possible to reduce overfitting without augmenting the data"
   ]
  },
  {
   "cell_type": "code",
   "execution_count": 28,
   "metadata": {},
   "outputs": [
    {
     "name": "stdout",
     "output_type": "stream",
     "text": [
      "Epoch 1/15\n",
      "99/99 [==============================] - 151s 2s/step - loss: 1.8067 - acc: 0.6435 - val_loss: 1.4404 - val_acc: 0.6571\n",
      "Epoch 2/15\n",
      "99/99 [==============================] - 152s 2s/step - loss: 1.1992 - acc: 0.6866 - val_loss: 1.2677 - val_acc: 0.6600\n",
      "Epoch 3/15\n",
      "99/99 [==============================] - 141s 1s/step - loss: 0.9429 - acc: 0.7890 - val_loss: 1.0033 - val_acc: 0.7257\n",
      "Epoch 4/15\n",
      "99/99 [==============================] - 143s 1s/step - loss: 0.7649 - acc: 0.8441 - val_loss: 0.8803 - val_acc: 0.7829\n",
      "Epoch 5/15\n",
      "99/99 [==============================] - 155s 2s/step - loss: 0.6801 - acc: 0.8774 - val_loss: 1.0163 - val_acc: 0.6743\n",
      "Epoch 6/15\n",
      "99/99 [==============================] - 144s 1s/step - loss: 0.6207 - acc: 0.9018 - val_loss: 0.9127 - val_acc: 0.7029\n",
      "Epoch 7/15\n",
      "99/99 [==============================] - 138s 1s/step - loss: 0.5190 - acc: 0.9293 - val_loss: 1.0030 - val_acc: 0.7371\n",
      "Epoch 8/15\n",
      "99/99 [==============================] - 121s 1s/step - loss: 0.5134 - acc: 0.9262 - val_loss: 0.9933 - val_acc: 0.7143\n",
      "Epoch 9/15\n",
      "99/99 [==============================] - 107s 1s/step - loss: 0.4472 - acc: 0.9471 - val_loss: 0.8794 - val_acc: 0.7943\n",
      "Epoch 10/15\n",
      "99/99 [==============================] - 105s 1s/step - loss: 0.4389 - acc: 0.9446 - val_loss: 0.9916 - val_acc: 0.7029\n",
      "Epoch 11/15\n",
      "99/99 [==============================] - 108s 1s/step - loss: 0.4124 - acc: 0.9512 - val_loss: 0.9259 - val_acc: 0.7371\n",
      "Epoch 12/15\n",
      "99/99 [==============================] - 105s 1s/step - loss: 0.3865 - acc: 0.9544 - val_loss: 1.0035 - val_acc: 0.7229\n",
      "Epoch 13/15\n",
      "99/99 [==============================] - 106s 1s/step - loss: 0.3738 - acc: 0.9575 - val_loss: 1.1032 - val_acc: 0.6571\n",
      "Epoch 14/15\n",
      "99/99 [==============================] - 105s 1s/step - loss: 0.3135 - acc: 0.9721 - val_loss: 1.1689 - val_acc: 0.6943\n",
      "Epoch 15/15\n",
      "99/99 [==============================] - 107s 1s/step - loss: 0.3556 - acc: 0.9607 - val_loss: 1.0241 - val_acc: 0.6914\n"
     ]
    }
   ],
   "source": [
    "history6= model6.fit(train_data,\n",
    "                    epochs=15,\n",
    "                    validation_data = val_data\n",
    "                   )"
   ]
  },
  {
   "cell_type": "code",
   "execution_count": 32,
   "metadata": {},
   "outputs": [
    {
     "name": "stdout",
     "output_type": "stream",
     "text": [
      "99/99 [==============================] - 88s 885ms/step - loss: 0.3447 - acc: 0.9680\n"
     ]
    },
    {
     "data": {
      "text/plain": [
       "[0.34473633766174316, 0.9679974913597107]"
      ]
     },
     "execution_count": 32,
     "metadata": {},
     "output_type": "execute_result"
    }
   ],
   "source": [
    "results_train_6 = model6.evaluate(train_data)\n",
    "results_train_6"
   ]
  },
  {
   "cell_type": "code",
   "execution_count": 33,
   "metadata": {},
   "outputs": [
    {
     "name": "stdout",
     "output_type": "stream",
     "text": [
      "11/11 [==============================] - 9s 776ms/step - loss: 1.0241 - acc: 0.6914\n"
     ]
    },
    {
     "data": {
      "text/plain": [
       "[1.0240986347198486, 0.691428542137146]"
      ]
     },
     "execution_count": 33,
     "metadata": {},
     "output_type": "execute_result"
    }
   ],
   "source": [
    "results_val_6 = model6.evaluate(val_data)\n",
    "results_val_6"
   ]
  },
  {
   "cell_type": "code",
   "execution_count": 34,
   "metadata": {},
   "outputs": [],
   "source": [
    "score_dictionary['model 6'] =  results_val_6"
   ]
  },
  {
   "cell_type": "markdown",
   "metadata": {},
   "source": [
    "#### CNN 7 \n",
    "Reducing overfitting more by making the architecture more simple, i.e. removing layers"
   ]
  },
  {
   "cell_type": "code",
   "execution_count": 48,
   "metadata": {},
   "outputs": [],
   "source": [
    "model7 = models.Sequential()\n",
    "\n",
    "# first stack - CONV2D layer w 16 filters, (3x3) kernel size then Maxpooling with pool size (2x2)\n",
    "model7.add(layers.Conv2D(filters=16,\n",
    "                        kernel_size=(3, 3),\n",
    "                        activation='relu',\n",
    "                        input_shape=(global_target_size[0],global_target_size[0], 3)))\n",
    "model7.add(layers.MaxPooling2D((2, 2)))\n",
    "         \n",
    "# second stack - CONV2D layer w 32 filters, (3x3) kernel size then Maxpooling with pool size (2x2)\n",
    "           \n",
    "model7.add(layers.Conv2D(32, (3, 3), activation='relu'),kernel_regularizer=regularizers.l2(l=0.01))\n",
    "model7.add(layers.MaxPooling2D((2, 2)))\n",
    "           \n",
    "# now a flattening layer\n",
    "model7.add(layers.Flatten())\n",
    "           \n",
    "# dingular dense layer\n",
    "model7.add(layers.Dense(32, activation='relu'))\n",
    "model7.add(layers.Dense(1, activation='sigmoid'))\n",
    "\n",
    "model7.compile(optimizer='adam',\n",
    "              loss='binary_crossentropy',\n",
    "              metrics=['accuracy'])\n"
   ]
  },
  {
   "cell_type": "code",
   "execution_count": 49,
   "metadata": {},
   "outputs": [
    {
     "name": "stdout",
     "output_type": "stream",
     "text": [
      "Epoch 1/20\n",
      "88/88 [==============================] - 106s 1s/step - loss: 0.6875 - accuracy: 0.6353 - val_loss: 0.6152 - val_accuracy: 0.6576\n",
      "Epoch 2/20\n",
      "88/88 [==============================] - 123s 1s/step - loss: 0.5324 - accuracy: 0.6973 - val_loss: 0.6537 - val_accuracy: 0.5849\n",
      "Epoch 3/20\n",
      "88/88 [==============================] - 109s 1s/step - loss: 0.4310 - accuracy: 0.7936 - val_loss: 0.6851 - val_accuracy: 0.5977\n",
      "Epoch 4/20\n",
      "88/88 [==============================] - 103s 1s/step - loss: 0.3894 - accuracy: 0.8246 - val_loss: 0.5981 - val_accuracy: 0.6519\n",
      "Epoch 5/20\n",
      "88/88 [==============================] - 99s 1s/step - loss: 0.3306 - accuracy: 0.8510 - val_loss: 0.5835 - val_accuracy: 0.6819\n",
      "Epoch 6/20\n",
      "88/88 [==============================] - 103s 1s/step - loss: 0.2988 - accuracy: 0.8674 - val_loss: 0.5256 - val_accuracy: 0.7632\n",
      "Epoch 7/20\n",
      "88/88 [==============================] - 100s 1s/step - loss: 0.2646 - accuracy: 0.8952 - val_loss: 0.5834 - val_accuracy: 0.7275\n",
      "Epoch 8/20\n",
      "88/88 [==============================] - 103s 1s/step - loss: 0.2303 - accuracy: 0.9055 - val_loss: 0.5640 - val_accuracy: 0.7746\n",
      "Epoch 9/20\n",
      "88/88 [==============================] - 104s 1s/step - loss: 0.2207 - accuracy: 0.9109 - val_loss: 0.5688 - val_accuracy: 0.7618\n",
      "Epoch 10/20\n",
      "88/88 [==============================] - 103s 1s/step - loss: 0.1922 - accuracy: 0.9234 - val_loss: 0.7280 - val_accuracy: 0.7318\n",
      "Epoch 11/20\n",
      "88/88 [==============================] - 101s 1s/step - loss: 0.1815 - accuracy: 0.9276 - val_loss: 0.5542 - val_accuracy: 0.7803\n",
      "Epoch 12/20\n",
      "88/88 [==============================] - 100s 1s/step - loss: 0.1408 - accuracy: 0.9447 - val_loss: 0.7040 - val_accuracy: 0.7190\n",
      "Epoch 13/20\n",
      "88/88 [==============================] - 99s 1s/step - loss: 0.1385 - accuracy: 0.9433 - val_loss: 0.7385 - val_accuracy: 0.7118\n",
      "Epoch 14/20\n",
      "88/88 [==============================] - 101s 1s/step - loss: 0.1039 - accuracy: 0.9622 - val_loss: 0.7455 - val_accuracy: 0.7389\n",
      "Epoch 15/20\n",
      "88/88 [==============================] - 112s 1s/step - loss: 0.0898 - accuracy: 0.9693 - val_loss: 0.8719 - val_accuracy: 0.7175\n",
      "Epoch 16/20\n",
      "88/88 [==============================] - 113s 1s/step - loss: 0.0879 - accuracy: 0.9693 - val_loss: 0.8363 - val_accuracy: 0.7447\n",
      "Epoch 17/20\n",
      "88/88 [==============================] - 110s 1s/step - loss: 0.0631 - accuracy: 0.9822 - val_loss: 0.9386 - val_accuracy: 0.7290\n",
      "Epoch 18/20\n",
      "88/88 [==============================] - 111s 1s/step - loss: 0.0594 - accuracy: 0.9840 - val_loss: 1.0009 - val_accuracy: 0.7019\n",
      "Epoch 19/20\n",
      "88/88 [==============================] - 110s 1s/step - loss: 0.0532 - accuracy: 0.9825 - val_loss: 1.0279 - val_accuracy: 0.7161\n",
      "Epoch 20/20\n",
      "88/88 [==============================] - 106s 1s/step - loss: 0.0421 - accuracy: 0.9882 - val_loss: 0.9500 - val_accuracy: 0.7361\n"
     ]
    }
   ],
   "source": [
    "history7= model7.fit(train_data2,\n",
    "                    epochs=20,\n",
    "                    validation_data = val_data2\n",
    "                   )"
   ]
  },
  {
   "cell_type": "code",
   "execution_count": 54,
   "metadata": {},
   "outputs": [
    {
     "data": {
      "image/png": "[encoded data removed]",
      "text/plain": [
       "<Figure size 720x360 with 2 Axes>"
      ]
     },
     "metadata": {
      "needs_background": "light"
     },
     "output_type": "display_data"
    }
   ],
   "source": [
    "import seaborn as sns\n",
    "\n",
    "#training charts for binary model\n",
    "train_loss7 = history7.history['loss']\n",
    "train_acc7 = history7.history['accuracy']\n",
    "val_loss7= history7.history['val_loss']\n",
    "val_acc7= history7.history['val_accuracy']\n",
    "\n",
    "\n",
    "fig, (ax1, ax2) = plt.subplots(1, 2, figsize=(10, 5))\n",
    "sns.lineplot(x=history7.epoch, y=train_loss7, ax=ax1, label='training loss')\n",
    "sns.lineplot(x=history7.epoch, y=train_acc7, ax=ax2, label='training accuracy')\n",
    "\n",
    "sns.lineplot(x=history7.epoch, y=val_loss7, ax=ax1, label='validation loss')\n",
    "sns.lineplot(x=history7.epoch, y=val_acc7, ax=ax2, label='validation accuracy');"
   ]
  },
  {
   "cell_type": "markdown",
   "metadata": {},
   "source": [
    "### CNN 8"
   ]
  },
  {
   "cell_type": "markdown",
   "metadata": {},
   "source": [
    "Going back to model 2's architecture, tweaking it a bit, trying it on aggregated images"
   ]
  },
  {
   "cell_type": "code",
   "execution_count": 56,
   "metadata": {},
   "outputs": [],
   "source": [
    "model8 = models.Sequential()\n",
    "model8.add(layers.Conv2D(32, (3, 3), activation='relu',\n",
    "                         input_shape = (global_target_size[0],global_target_size[0], 3)\n",
    "                        ))\n",
    "model8.add(layers.MaxPooling2D((2, 2)))\n",
    "\n",
    "model8.add(layers.Conv2D(64, (4, 4), activation='relu'))\n",
    "model8.add(layers.MaxPooling2D((2, 2)))\n",
    "\n",
    "model8.add(layers.Conv2D(64, (3, 3), activation='relu'))\n",
    "model8.add(layers.MaxPooling2D((2, 2)))\n",
    "\n",
    "model8.add(layers.Flatten())\n",
    "model8.add(layers.Dropout(0.25))\n",
    "model8.add(layers.Dense(64, activation='relu'))\n",
    "model8.add(layers.Dropout(0.5))\n",
    "model8.add(layers.Dense(1, activation='sigmoid'))\n",
    "\n",
    "model8.compile(loss='binary_crossentropy',\n",
    "              optimizer = \"adam\",\n",
    "              metrics=['acc'])"
   ]
  },
  {
   "cell_type": "code",
   "execution_count": 57,
   "metadata": {},
   "outputs": [
    {
     "name": "stdout",
     "output_type": "stream",
     "text": [
      "Epoch 1/20\n",
      "88/88 [==============================] - 149s 2s/step - loss: 0.6172 - acc: 0.6535 - val_loss: 0.5865 - val_acc: 0.6576\n",
      "Epoch 2/20\n",
      "88/88 [==============================] - 148s 2s/step - loss: 0.5512 - acc: 0.6670 - val_loss: 0.5363 - val_acc: 0.6548\n",
      "Epoch 3/20\n",
      "88/88 [==============================] - 147s 2s/step - loss: 0.5251 - acc: 0.7194 - val_loss: 0.5447 - val_acc: 0.6662\n",
      "Epoch 4/20\n",
      "88/88 [==============================] - 148s 2s/step - loss: 0.4852 - acc: 0.7490 - val_loss: 0.6010 - val_acc: 0.5521\n",
      "Epoch 5/20\n",
      "88/88 [==============================] - 147s 2s/step - loss: 0.4323 - acc: 0.8100 - val_loss: 0.5255 - val_acc: 0.6662\n",
      "Epoch 6/20\n",
      "88/88 [==============================] - 148s 2s/step - loss: 0.4039 - acc: 0.8171 - val_loss: 0.5526 - val_acc: 0.6790\n",
      "Epoch 7/20\n",
      "88/88 [==============================] - 148s 2s/step - loss: 0.3911 - acc: 0.8332 - val_loss: 0.5997 - val_acc: 0.6134\n",
      "Epoch 8/20\n",
      "88/88 [==============================] - 148s 2s/step - loss: 0.3688 - acc: 0.8310 - val_loss: 0.6955 - val_acc: 0.5949\n",
      "Epoch 9/20\n",
      "88/88 [==============================] - 148s 2s/step - loss: 0.3729 - acc: 0.8392 - val_loss: 0.5308 - val_acc: 0.7147\n",
      "Epoch 10/20\n",
      "88/88 [==============================] - 147s 2s/step - loss: 0.3588 - acc: 0.8467 - val_loss: 0.4751 - val_acc: 0.7603\n",
      "Epoch 11/20\n",
      "88/88 [==============================] - 163s 2s/step - loss: 0.3748 - acc: 0.8321 - val_loss: 0.5168 - val_acc: 0.7190\n",
      "Epoch 12/20\n",
      "88/88 [==============================] - 162s 2s/step - loss: 0.3514 - acc: 0.8517 - val_loss: 0.5818 - val_acc: 0.6320\n",
      "Epoch 13/20\n",
      "88/88 [==============================] - 196s 2s/step - loss: 0.3422 - acc: 0.8446 - val_loss: 0.5627 - val_acc: 0.7275\n",
      "Epoch 14/20\n",
      "88/88 [==============================] - 196s 2s/step - loss: 0.3318 - acc: 0.8588 - val_loss: 0.5657 - val_acc: 0.6705\n",
      "Epoch 15/20\n",
      "88/88 [==============================] - 200s 2s/step - loss: 0.3410 - acc: 0.8499 - val_loss: 0.4479 - val_acc: 0.7689\n",
      "Epoch 16/20\n",
      "88/88 [==============================] - 191s 2s/step - loss: 0.3246 - acc: 0.8617 - val_loss: 0.5391 - val_acc: 0.6890\n",
      "Epoch 17/20\n",
      "88/88 [==============================] - 188s 2s/step - loss: 0.3042 - acc: 0.8652 - val_loss: 0.5191 - val_acc: 0.6762\n",
      "Epoch 18/20\n",
      "88/88 [==============================] - 192s 2s/step - loss: 0.3183 - acc: 0.8624 - val_loss: 0.6663 - val_acc: 0.6847\n",
      "Epoch 19/20\n",
      "88/88 [==============================] - 188s 2s/step - loss: 0.2987 - acc: 0.8717 - val_loss: 0.5891 - val_acc: 0.7190\n",
      "Epoch 20/20\n",
      "88/88 [==============================] - 187s 2s/step - loss: 0.3027 - acc: 0.8674 - val_loss: 0.4877 - val_acc: 0.7546\n"
     ]
    }
   ],
   "source": [
    "#training it on augmented data \n",
    "history8 = model8.fit(train_data2,\n",
    "                    epochs=20,\n",
    "                    validation_data = val_data2\n",
    "                   )"
   ]
  },
  {
   "cell_type": "code",
   "execution_count": null,
   "metadata": {},
   "outputs": [],
   "source": []
  }
 ],
 "metadata": {
  "kernelspec": {
   "display_name": "Python (learn-env)",
   "language": "python",
   "name": "learn-env"
  },
  "language_info": {
   "codemirror_mode": {
    "name": "ipython",
    "version": 3
   },
   "file_extension": ".py",
   "mimetype": "text/x-python",
   "name": "python",
   "nbconvert_exporter": "python",
   "pygments_lexer": "ipython3",
   "version": "3.8.5"
  }
 },
 "nbformat": 4,
 "nbformat_minor": 4
}
