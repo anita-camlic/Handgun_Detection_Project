{
 "cells": [
  {
   "cell_type": "markdown",
   "metadata": {},
   "source": [
    "# EDA Notebook"
   ]
  },
  {
   "cell_type": "markdown",
   "metadata": {},
   "source": [
    "This notebook is used for exploratory data analysis"
   ]
  },
  {
   "cell_type": "code",
   "execution_count": 1,
   "metadata": {},
   "outputs": [],
   "source": [
    "#imports \n",
    "import os, shutil\n",
    "import pandas as pd\n",
    "from sklearn.metrics import accuracy_score, recall_score\n",
    "import time\n",
    "import matplotlib.pyplot as plt\n",
    "import scipy\n",
    "import numpy as np\n",
    "from PIL import Image\n",
    "from scipy import ndimage\n",
    "from keras.preprocessing.image import ImageDataGenerator, array_to_img, img_to_array, load_img"
   ]
  },
  {
   "cell_type": "code",
   "execution_count": 2,
   "metadata": {},
   "outputs": [],
   "source": [
    "train_images_dir = 'C:/Users/User/Documents/Flatiron/Capstone/train_data/images'\n",
    "test_images_dir = 'C:/Users/User/Documents/Flatiron/Capstone/test_data/images'\n",
    "\n",
    "#train_images_dir_0 = 'C:/Users/User/Documents/Flatiron/Capstone/train_data/images/0'\n",
    "#train_images_dir_1 = 'C:/Users/User/Documents/Flatiron/Capstone/train_data/images/1'"
   ]
  },
  {
   "cell_type": "markdown",
   "metadata": {},
   "source": [
    "#### Prepping data for modeling"
   ]
  },
  {
   "cell_type": "markdown",
   "metadata": {},
   "source": [
    "#### Image Generator Object"
   ]
  },
  {
   "cell_type": "markdown",
   "metadata": {},
   "source": [
    "#### Training and Validation set creation"
   ]
  },
  {
   "cell_type": "code",
   "execution_count": 3,
   "metadata": {},
   "outputs": [],
   "source": [
    "global_target_size = (256,256)\n",
    "global_batch_size = 32"
   ]
  },
  {
   "cell_type": "code",
   "execution_count": 4,
   "metadata": {},
   "outputs": [
    {
     "name": "stdout",
     "output_type": "stream",
     "text": [
      "Found 2455 images belonging to 2 classes.\n"
     ]
    }
   ],
   "source": [
    "# Batch size here means how many \n",
    "#of the images do we want our model to be trained on\n",
    "train_val_generator = ImageDataGenerator(rescale=1./255,\n",
    "                                         validation_split = .30)\n",
    "train_data = train_val_generator.flow_from_directory(train_images_dir,  \n",
    "                                                     target_size = global_target_size,\n",
    "                                                     subset='training',\n",
    "                                                     batch_size=global_batch_size,\n",
    "                                                     class_mode='binary')"
   ]
  },
  {
   "cell_type": "code",
   "execution_count": 5,
   "metadata": {},
   "outputs": [
    {
     "name": "stdout",
     "output_type": "stream",
     "text": [
      "Found 1051 images belonging to 2 classes.\n"
     ]
    }
   ],
   "source": [
    "val_data = train_val_generator.flow_from_directory(train_images_dir,\n",
    "       subset = 'validation',  \n",
    "       target_size = global_target_size,\n",
    "       batch_size=global_batch_size,\n",
    "       class_mode='binary')"
   ]
  },
  {
   "cell_type": "code",
   "execution_count": 6,
   "metadata": {},
   "outputs": [],
   "source": [
    "train_images, train_labels = next(train_data)"
   ]
  },
  {
   "cell_type": "code",
   "execution_count": 7,
   "metadata": {},
   "outputs": [],
   "source": [
    "val_images, val_labels = next(val_data)"
   ]
  },
  {
   "cell_type": "code",
   "execution_count": 8,
   "metadata": {},
   "outputs": [
    {
     "data": {
      "text/plain": [
       "(32, 256, 256, 3)"
      ]
     },
     "execution_count": 8,
     "metadata": {},
     "output_type": "execute_result"
    }
   ],
   "source": [
    "train_images.shape"
   ]
  },
  {
   "cell_type": "code",
   "execution_count": 9,
   "metadata": {},
   "outputs": [
    {
     "data": {
      "text/plain": [
       "(32,)"
      ]
     },
     "execution_count": 9,
     "metadata": {},
     "output_type": "execute_result"
    }
   ],
   "source": [
    "train_labels.shape"
   ]
  },
  {
   "cell_type": "code",
   "execution_count": 10,
   "metadata": {},
   "outputs": [
    {
     "data": {
      "text/plain": [
       "(32, 256, 256, 3)"
      ]
     },
     "execution_count": 10,
     "metadata": {},
     "output_type": "execute_result"
    }
   ],
   "source": [
    "val_images.shape"
   ]
  },
  {
   "cell_type": "code",
   "execution_count": 11,
   "metadata": {},
   "outputs": [
    {
     "data": {
      "text/plain": [
       "(32,)"
      ]
     },
     "execution_count": 11,
     "metadata": {},
     "output_type": "execute_result"
    }
   ],
   "source": [
    "val_labels.shape"
   ]
  },
  {
   "cell_type": "code",
   "execution_count": 12,
   "metadata": {},
   "outputs": [],
   "source": [
    "# reshaping the y values to be modeled\n",
    "y_train = np.asarray(train_labels).astype('float32').reshape((-1,1))\n",
    "y_val = np.asarray(val_labels).astype('float32').reshape((-1,1))"
   ]
  },
  {
   "cell_type": "markdown",
   "metadata": {},
   "source": [
    "### Test Set Creation"
   ]
  },
  {
   "cell_type": "code",
   "execution_count": 13,
   "metadata": {},
   "outputs": [
    {
     "name": "stdout",
     "output_type": "stream",
     "text": [
      "Found 809 images belonging to 2 classes.\n"
     ]
    }
   ],
   "source": [
    "test_generator = ImageDataGenerator(rescale=1./255)\n",
    "test_data = test_generator.flow_from_directory(\n",
    "        test_images_dir,  \n",
    "        target_size = global_target_size,\n",
    "        batch_size=global_batch_size,\n",
    "        class_mode='binary',\n",
    "        shuffle= False)"
   ]
  },
  {
   "cell_type": "code",
   "execution_count": 14,
   "metadata": {},
   "outputs": [],
   "source": [
    "test_images, test_labels = next(test_data)"
   ]
  },
  {
   "cell_type": "code",
   "execution_count": 15,
   "metadata": {},
   "outputs": [],
   "source": [
    "y_test = np.asarray(test_labels).astype('float32').reshape((-1,1))\n"
   ]
  },
  {
   "cell_type": "markdown",
   "metadata": {},
   "source": [
    "#### Reshaping for normal neural network (flattening)"
   ]
  },
  {
   "cell_type": "code",
   "execution_count": 16,
   "metadata": {},
   "outputs": [],
   "source": [
    "train_img_nn = train_images.reshape(train_images.shape[0], -1)"
   ]
  },
  {
   "cell_type": "code",
   "execution_count": 17,
   "metadata": {},
   "outputs": [],
   "source": [
    "val_img_nn = val_images.reshape(val_images.shape[0], -1)"
   ]
  },
  {
   "cell_type": "code",
   "execution_count": 18,
   "metadata": {},
   "outputs": [],
   "source": [
    "y_train_nn = np.asarray(train_labels).astype('float32').reshape((-1,1))\n",
    "y_val_nn = np.asarray(val_labels).astype('float32').reshape((-1,1))\n"
   ]
  },
  {
   "cell_type": "code",
   "execution_count": 19,
   "metadata": {},
   "outputs": [
    {
     "name": "stdout",
     "output_type": "stream",
     "text": [
      "(32, 196608)\n",
      "(32, 1)\n",
      "(32, 196608)\n",
      "(32, 1)\n"
     ]
    }
   ],
   "source": [
    "print(train_img_nn.shape)\n",
    "print(y_train_nn.shape)\n",
    "print(val_img_nn.shape)\n",
    "print(y_val_nn.shape)"
   ]
  },
  {
   "cell_type": "code",
   "execution_count": 20,
   "metadata": {
    "scrolled": true
   },
   "outputs": [
    {
     "data": {
      "text/plain": [
       "(196608,)"
      ]
     },
     "execution_count": 20,
     "metadata": {},
     "output_type": "execute_result"
    }
   ],
   "source": [
    "GLOBAL_input_shape_baseline = (train_img_nn.shape[1],)\n",
    "GLOBAL_input_shape_baseline "
   ]
  },
  {
   "cell_type": "markdown",
   "metadata": {},
   "source": [
    "### Baseline"
   ]
  },
  {
   "cell_type": "code",
   "execution_count": 21,
   "metadata": {},
   "outputs": [],
   "source": [
    "# Build a baseline fully connected model\n",
    "from keras import models\n",
    "from keras import layers\n",
    "\n",
    "model = models.Sequential()\n",
    "model.add(layers.Dense(20, activation='relu', input_shape=GLOBAL_input_shape_baseline)) # 2 hidden layers\n",
    "model.add(layers.Dense(7, activation='relu'))\n",
    "model.add(layers.Dense(5, activation='relu'))\n",
    "model.add(layers.Dense(1, activation='sigmoid'))"
   ]
  },
  {
   "cell_type": "code",
   "execution_count": 22,
   "metadata": {},
   "outputs": [
    {
     "name": "stdout",
     "output_type": "stream",
     "text": [
      "Epoch 1/150\n",
      "4/4 [==============================] - 0s 124ms/step - loss: 0.7139 - accuracy: 0.5938 - val_loss: 0.6925 - val_accuracy: 0.6562\n",
      "Epoch 2/150\n",
      "4/4 [==============================] - 0s 28ms/step - loss: 0.6919 - accuracy: 0.7188 - val_loss: 0.6921 - val_accuracy: 0.6562\n",
      "Epoch 3/150\n",
      "4/4 [==============================] - 0s 33ms/step - loss: 0.6911 - accuracy: 0.7188 - val_loss: 0.6910 - val_accuracy: 0.6562\n",
      "Epoch 4/150\n",
      "4/4 [==============================] - 0s 64ms/step - loss: 0.6896 - accuracy: 0.7188 - val_loss: 0.6900 - val_accuracy: 0.6562\n",
      "Epoch 5/150\n",
      "4/4 [==============================] - 0s 49ms/step - loss: 0.6883 - accuracy: 0.7188 - val_loss: 0.6895 - val_accuracy: 0.6562\n",
      "Epoch 6/150\n",
      "4/4 [==============================] - 0s 48ms/step - loss: 0.6877 - accuracy: 0.7188 - val_loss: 0.6891 - val_accuracy: 0.6562\n",
      "Epoch 7/150\n",
      "4/4 [==============================] - 0s 45ms/step - loss: 0.6871 - accuracy: 0.7188 - val_loss: 0.6875 - val_accuracy: 0.6562\n",
      "Epoch 8/150\n",
      "4/4 [==============================] - 0s 36ms/step - loss: 0.6849 - accuracy: 0.7188 - val_loss: 0.6866 - val_accuracy: 0.6562\n",
      "Epoch 9/150\n",
      "4/4 [==============================] - 0s 32ms/step - loss: 0.6834 - accuracy: 0.7188 - val_loss: 0.6851 - val_accuracy: 0.6562\n",
      "Epoch 10/150\n",
      "4/4 [==============================] - 0s 46ms/step - loss: 0.6814 - accuracy: 0.7188 - val_loss: 0.6842 - val_accuracy: 0.6562\n",
      "Epoch 11/150\n",
      "4/4 [==============================] - 0s 39ms/step - loss: 0.6800 - accuracy: 0.7188 - val_loss: 0.6833 - val_accuracy: 0.6562\n",
      "Epoch 12/150\n",
      "4/4 [==============================] - 0s 33ms/step - loss: 0.6787 - accuracy: 0.7188 - val_loss: 0.6824 - val_accuracy: 0.6562\n",
      "Epoch 13/150\n",
      "4/4 [==============================] - ETA: 0s - loss: 0.6789 - accuracy: 0.70 - 0s 39ms/step - loss: 0.6774 - accuracy: 0.7188 - val_loss: 0.6810 - val_accuracy: 0.6562\n",
      "Epoch 14/150\n",
      "4/4 [==============================] - 0s 39ms/step - loss: 0.6753 - accuracy: 0.7188 - val_loss: 0.6796 - val_accuracy: 0.6562\n",
      "Epoch 15/150\n",
      "4/4 [==============================] - 0s 29ms/step - loss: 0.6735 - accuracy: 0.7188 - val_loss: 0.6788 - val_accuracy: 0.6562\n",
      "Epoch 16/150\n",
      "4/4 [==============================] - 0s 29ms/step - loss: 0.6723 - accuracy: 0.7188 - val_loss: 0.6775 - val_accuracy: 0.6562\n",
      "Epoch 17/150\n",
      "4/4 [==============================] - 0s 28ms/step - loss: 0.6704 - accuracy: 0.7188 - val_loss: 0.6763 - val_accuracy: 0.6562\n",
      "Epoch 18/150\n",
      "4/4 [==============================] - 0s 32ms/step - loss: 0.6685 - accuracy: 0.7188 - val_loss: 0.6755 - val_accuracy: 0.6562\n",
      "Epoch 19/150\n",
      "4/4 [==============================] - 0s 34ms/step - loss: 0.6674 - accuracy: 0.7188 - val_loss: 0.6748 - val_accuracy: 0.6562\n",
      "Epoch 20/150\n",
      "4/4 [==============================] - 0s 53ms/step - loss: 0.6663 - accuracy: 0.7188 - val_loss: 0.6741 - val_accuracy: 0.6562\n",
      "Epoch 21/150\n",
      "4/4 [==============================] - 0s 41ms/step - loss: 0.6652 - accuracy: 0.7188 - val_loss: 0.6730 - val_accuracy: 0.6562\n",
      "Epoch 22/150\n",
      "4/4 [==============================] - 0s 28ms/step - loss: 0.6637 - accuracy: 0.7188 - val_loss: 0.6723 - val_accuracy: 0.6562\n",
      "Epoch 23/150\n",
      "4/4 [==============================] - 0s 23ms/step - loss: 0.6625 - accuracy: 0.7188 - val_loss: 0.6717 - val_accuracy: 0.6562\n",
      "Epoch 24/150\n",
      "4/4 [==============================] - 0s 27ms/step - loss: 0.6615 - accuracy: 0.7188 - val_loss: 0.6706 - val_accuracy: 0.6562\n",
      "Epoch 25/150\n",
      "4/4 [==============================] - 0s 38ms/step - loss: 0.6598 - accuracy: 0.7188 - val_loss: 0.6695 - val_accuracy: 0.6562\n",
      "Epoch 26/150\n",
      "4/4 [==============================] - 0s 35ms/step - loss: 0.6582 - accuracy: 0.7188 - val_loss: 0.6685 - val_accuracy: 0.6562\n",
      "Epoch 27/150\n",
      "4/4 [==============================] - 0s 28ms/step - loss: 0.6566 - accuracy: 0.7188 - val_loss: 0.6675 - val_accuracy: 0.6562\n",
      "Epoch 28/150\n",
      "4/4 [==============================] - 0s 27ms/step - loss: 0.6551 - accuracy: 0.7188 - val_loss: 0.6670 - val_accuracy: 0.6562\n",
      "Epoch 29/150\n",
      "4/4 [==============================] - 0s 35ms/step - loss: 0.6543 - accuracy: 0.7188 - val_loss: 0.6664 - val_accuracy: 0.6562\n",
      "Epoch 30/150\n",
      "4/4 [==============================] - 0s 49ms/step - loss: 0.6534 - accuracy: 0.7188 - val_loss: 0.6655 - val_accuracy: 0.6562\n",
      "Epoch 31/150\n",
      "4/4 [==============================] - 0s 45ms/step - loss: 0.6521 - accuracy: 0.7188 - val_loss: 0.6646 - val_accuracy: 0.6562\n",
      "Epoch 32/150\n",
      "4/4 [==============================] - 0s 38ms/step - loss: 0.6504 - accuracy: 0.7188 - val_loss: 0.6637 - val_accuracy: 0.6562\n",
      "Epoch 33/150\n",
      "4/4 [==============================] - 0s 72ms/step - loss: 0.6490 - accuracy: 0.7188 - val_loss: 0.6629 - val_accuracy: 0.6562\n",
      "Epoch 34/150\n",
      "4/4 [==============================] - 0s 54ms/step - loss: 0.6477 - accuracy: 0.7188 - val_loss: 0.6624 - val_accuracy: 0.6562\n",
      "Epoch 35/150\n",
      "4/4 [==============================] - 0s 31ms/step - loss: 0.6470 - accuracy: 0.7188 - val_loss: 0.6624 - val_accuracy: 0.6562\n",
      "Epoch 36/150\n",
      "4/4 [==============================] - 0s 30ms/step - loss: 0.6468 - accuracy: 0.7188 - val_loss: 0.6616 - val_accuracy: 0.6562\n",
      "Epoch 37/150\n",
      "4/4 [==============================] - 0s 30ms/step - loss: 0.6459 - accuracy: 0.7188 - val_loss: 0.6608 - val_accuracy: 0.6562\n",
      "Epoch 38/150\n",
      "4/4 [==============================] - 0s 30ms/step - loss: 0.6443 - accuracy: 0.7188 - val_loss: 0.6604 - val_accuracy: 0.6562\n",
      "Epoch 39/150\n",
      "4/4 [==============================] - 0s 31ms/step - loss: 0.6435 - accuracy: 0.7188 - val_loss: 0.6597 - val_accuracy: 0.6562\n",
      "Epoch 40/150\n",
      "4/4 [==============================] - 0s 30ms/step - loss: 0.6424 - accuracy: 0.7188 - val_loss: 0.6589 - val_accuracy: 0.6562\n",
      "Epoch 41/150\n",
      "4/4 [==============================] - 0s 28ms/step - loss: 0.6410 - accuracy: 0.7188 - val_loss: 0.6582 - val_accuracy: 0.6562\n",
      "Epoch 42/150\n",
      "4/4 [==============================] - 0s 27ms/step - loss: 0.6399 - accuracy: 0.7188 - val_loss: 0.6576 - val_accuracy: 0.6562\n",
      "Epoch 43/150\n",
      "4/4 [==============================] - 0s 29ms/step - loss: 0.6387 - accuracy: 0.7188 - val_loss: 0.6572 - val_accuracy: 0.6562\n",
      "Epoch 44/150\n",
      "4/4 [==============================] - 0s 29ms/step - loss: 0.6381 - accuracy: 0.7188 - val_loss: 0.6566 - val_accuracy: 0.6562\n",
      "Epoch 45/150\n",
      "4/4 [==============================] - 0s 27ms/step - loss: 0.6370 - accuracy: 0.7188 - val_loss: 0.6560 - val_accuracy: 0.6562\n",
      "Epoch 46/150\n",
      "4/4 [==============================] - 0s 38ms/step - loss: 0.6359 - accuracy: 0.7188 - val_loss: 0.6557 - val_accuracy: 0.6562\n",
      "Epoch 47/150\n",
      "4/4 [==============================] - 0s 36ms/step - loss: 0.6354 - accuracy: 0.7188 - val_loss: 0.6551 - val_accuracy: 0.6562\n",
      "Epoch 48/150\n",
      "4/4 [==============================] - 0s 29ms/step - loss: 0.6343 - accuracy: 0.7188 - val_loss: 0.6545 - val_accuracy: 0.6562\n",
      "Epoch 49/150\n",
      "4/4 [==============================] - 0s 33ms/step - loss: 0.6333 - accuracy: 0.7188 - val_loss: 0.6543 - val_accuracy: 0.6562\n",
      "Epoch 50/150\n",
      "4/4 [==============================] - 0s 31ms/step - loss: 0.6327 - accuracy: 0.7188 - val_loss: 0.6537 - val_accuracy: 0.6562\n",
      "Epoch 51/150\n",
      "4/4 [==============================] - 0s 29ms/step - loss: 0.6317 - accuracy: 0.7188 - val_loss: 0.6532 - val_accuracy: 0.6562\n",
      "Epoch 52/150\n",
      "4/4 [==============================] - 0s 30ms/step - loss: 0.6308 - accuracy: 0.7188 - val_loss: 0.6533 - val_accuracy: 0.6562\n",
      "Epoch 53/150\n",
      "4/4 [==============================] - 0s 41ms/step - loss: 0.6309 - accuracy: 0.7188 - val_loss: 0.6528 - val_accuracy: 0.6562\n",
      "Epoch 54/150\n",
      "4/4 [==============================] - 0s 56ms/step - loss: 0.6299 - accuracy: 0.7188 - val_loss: 0.6525 - val_accuracy: 0.6562\n",
      "Epoch 55/150\n",
      "4/4 [==============================] - 0s 41ms/step - loss: 0.6294 - accuracy: 0.7188 - val_loss: 0.6521 - val_accuracy: 0.6562\n",
      "Epoch 56/150\n",
      "4/4 [==============================] - 0s 42ms/step - loss: 0.6285 - accuracy: 0.7188 - val_loss: 0.6516 - val_accuracy: 0.6562\n",
      "Epoch 57/150\n",
      "4/4 [==============================] - 0s 39ms/step - loss: 0.6278 - accuracy: 0.7188 - val_loss: 0.6512 - val_accuracy: 0.6562\n",
      "Epoch 58/150\n",
      "4/4 [==============================] - 0s 44ms/step - loss: 0.6268 - accuracy: 0.7188 - val_loss: 0.6510 - val_accuracy: 0.6562\n"
     ]
    },
    {
     "name": "stdout",
     "output_type": "stream",
     "text": [
      "Epoch 59/150\n",
      "4/4 [==============================] - 0s 38ms/step - loss: 0.6264 - accuracy: 0.7188 - val_loss: 0.6506 - val_accuracy: 0.6562\n",
      "Epoch 60/150\n",
      "4/4 [==============================] - 0s 35ms/step - loss: 0.6256 - accuracy: 0.7188 - val_loss: 0.6502 - val_accuracy: 0.6562\n",
      "Epoch 61/150\n",
      "4/4 [==============================] - 0s 28ms/step - loss: 0.6247 - accuracy: 0.7188 - val_loss: 0.6498 - val_accuracy: 0.6562\n",
      "Epoch 62/150\n",
      "4/4 [==============================] - 0s 28ms/step - loss: 0.6239 - accuracy: 0.7188 - val_loss: 0.6494 - val_accuracy: 0.6562\n",
      "Epoch 63/150\n",
      "4/4 [==============================] - 0s 31ms/step - loss: 0.6231 - accuracy: 0.7188 - val_loss: 0.6493 - val_accuracy: 0.6562\n",
      "Epoch 64/150\n",
      "4/4 [==============================] - 0s 26ms/step - loss: 0.6227 - accuracy: 0.7188 - val_loss: 0.6489 - val_accuracy: 0.6562\n",
      "Epoch 65/150\n",
      "4/4 [==============================] - 0s 29ms/step - loss: 0.6219 - accuracy: 0.7188 - val_loss: 0.6486 - val_accuracy: 0.6562\n",
      "Epoch 66/150\n",
      "4/4 [==============================] - 0s 24ms/step - loss: 0.6212 - accuracy: 0.7188 - val_loss: 0.6484 - val_accuracy: 0.6562\n",
      "Epoch 67/150\n",
      "4/4 [==============================] - 0s 25ms/step - loss: 0.6209 - accuracy: 0.7188 - val_loss: 0.6483 - val_accuracy: 0.6562\n",
      "Epoch 68/150\n",
      "4/4 [==============================] - 0s 24ms/step - loss: 0.6207 - accuracy: 0.7188 - val_loss: 0.6482 - val_accuracy: 0.6562\n",
      "Epoch 69/150\n",
      "4/4 [==============================] - 0s 23ms/step - loss: 0.6204 - accuracy: 0.7188 - val_loss: 0.6483 - val_accuracy: 0.6562\n",
      "Epoch 70/150\n",
      "4/4 [==============================] - 0s 22ms/step - loss: 0.6206 - accuracy: 0.7188 - val_loss: 0.6481 - val_accuracy: 0.6562\n",
      "Epoch 71/150\n",
      "4/4 [==============================] - 0s 21ms/step - loss: 0.6202 - accuracy: 0.7188 - val_loss: 0.6478 - val_accuracy: 0.6562\n",
      "Epoch 72/150\n",
      "4/4 [==============================] - 0s 23ms/step - loss: 0.6194 - accuracy: 0.7188 - val_loss: 0.6475 - val_accuracy: 0.6562\n",
      "Epoch 73/150\n",
      "4/4 [==============================] - 0s 21ms/step - loss: 0.6188 - accuracy: 0.7188 - val_loss: 0.6474 - val_accuracy: 0.6562\n",
      "Epoch 74/150\n",
      "4/4 [==============================] - 0s 24ms/step - loss: 0.6185 - accuracy: 0.7188 - val_loss: 0.6473 - val_accuracy: 0.6562\n",
      "Epoch 75/150\n",
      "4/4 [==============================] - 0s 24ms/step - loss: 0.6182 - accuracy: 0.7188 - val_loss: 0.6471 - val_accuracy: 0.6562\n",
      "Epoch 76/150\n",
      "4/4 [==============================] - 0s 23ms/step - loss: 0.6176 - accuracy: 0.7188 - val_loss: 0.6470 - val_accuracy: 0.6562\n",
      "Epoch 77/150\n",
      "4/4 [==============================] - 0s 25ms/step - loss: 0.6174 - accuracy: 0.7188 - val_loss: 0.6467 - val_accuracy: 0.6562\n",
      "Epoch 78/150\n",
      "4/4 [==============================] - 0s 28ms/step - loss: 0.6168 - accuracy: 0.7188 - val_loss: 0.6466 - val_accuracy: 0.6562\n",
      "Epoch 79/150\n",
      "4/4 [==============================] - 0s 27ms/step - loss: 0.6165 - accuracy: 0.7188 - val_loss: 0.6465 - val_accuracy: 0.6562\n",
      "Epoch 80/150\n",
      "4/4 [==============================] - 0s 21ms/step - loss: 0.6164 - accuracy: 0.7188 - val_loss: 0.6465 - val_accuracy: 0.6562\n",
      "Epoch 81/150\n",
      "4/4 [==============================] - 0s 22ms/step - loss: 0.6161 - accuracy: 0.7188 - val_loss: 0.6464 - val_accuracy: 0.6562\n",
      "Epoch 82/150\n",
      "4/4 [==============================] - 0s 21ms/step - loss: 0.6158 - accuracy: 0.7188 - val_loss: 0.6462 - val_accuracy: 0.6562\n",
      "Epoch 83/150\n",
      "4/4 [==============================] - 0s 22ms/step - loss: 0.6152 - accuracy: 0.7188 - val_loss: 0.6459 - val_accuracy: 0.6562\n",
      "Epoch 84/150\n",
      "4/4 [==============================] - 0s 25ms/step - loss: 0.6146 - accuracy: 0.7188 - val_loss: 0.6457 - val_accuracy: 0.6562\n",
      "Epoch 85/150\n",
      "4/4 [==============================] - 0s 25ms/step - loss: 0.6141 - accuracy: 0.7188 - val_loss: 0.6458 - val_accuracy: 0.6562\n",
      "Epoch 86/150\n",
      "4/4 [==============================] - 0s 38ms/step - loss: 0.6142 - accuracy: 0.7188 - val_loss: 0.6457 - val_accuracy: 0.6562\n",
      "Epoch 87/150\n",
      "4/4 [==============================] - 0s 28ms/step - loss: 0.6141 - accuracy: 0.7188 - val_loss: 0.6457 - val_accuracy: 0.6562\n",
      "Epoch 88/150\n",
      "4/4 [==============================] - 0s 26ms/step - loss: 0.6140 - accuracy: 0.7188 - val_loss: 0.6456 - val_accuracy: 0.6562\n",
      "Epoch 89/150\n",
      "4/4 [==============================] - 0s 21ms/step - loss: 0.6137 - accuracy: 0.7188 - val_loss: 0.6454 - val_accuracy: 0.6562\n",
      "Epoch 90/150\n",
      "4/4 [==============================] - 0s 22ms/step - loss: 0.6131 - accuracy: 0.7188 - val_loss: 0.6454 - val_accuracy: 0.6562\n",
      "Epoch 91/150\n",
      "4/4 [==============================] - 0s 21ms/step - loss: 0.6130 - accuracy: 0.7188 - val_loss: 0.6452 - val_accuracy: 0.6562\n",
      "Epoch 92/150\n",
      "4/4 [==============================] - 0s 22ms/step - loss: 0.6124 - accuracy: 0.7188 - val_loss: 0.6451 - val_accuracy: 0.6562\n",
      "Epoch 93/150\n",
      "4/4 [==============================] - 0s 25ms/step - loss: 0.6122 - accuracy: 0.7188 - val_loss: 0.6450 - val_accuracy: 0.6562\n",
      "Epoch 94/150\n",
      "4/4 [==============================] - 0s 25ms/step - loss: 0.6117 - accuracy: 0.7188 - val_loss: 0.6449 - val_accuracy: 0.6562\n",
      "Epoch 95/150\n",
      "4/4 [==============================] - 0s 26ms/step - loss: 0.6115 - accuracy: 0.7188 - val_loss: 0.6448 - val_accuracy: 0.6562\n",
      "Epoch 96/150\n",
      "4/4 [==============================] - 0s 25ms/step - loss: 0.6111 - accuracy: 0.7188 - val_loss: 0.6447 - val_accuracy: 0.6562\n",
      "Epoch 97/150\n",
      "4/4 [==============================] - 0s 24ms/step - loss: 0.6105 - accuracy: 0.7188 - val_loss: 0.6445 - val_accuracy: 0.6562\n",
      "Epoch 98/150\n",
      "4/4 [==============================] - 0s 22ms/step - loss: 0.6100 - accuracy: 0.7188 - val_loss: 0.6444 - val_accuracy: 0.6562\n",
      "Epoch 99/150\n",
      "4/4 [==============================] - 0s 24ms/step - loss: 0.6097 - accuracy: 0.7188 - val_loss: 0.6445 - val_accuracy: 0.6562\n",
      "Epoch 100/150\n",
      "4/4 [==============================] - 0s 22ms/step - loss: 0.6099 - accuracy: 0.7188 - val_loss: 0.6443 - val_accuracy: 0.6562\n",
      "Epoch 101/150\n",
      "4/4 [==============================] - 0s 25ms/step - loss: 0.6094 - accuracy: 0.7188 - val_loss: 0.6443 - val_accuracy: 0.6562\n",
      "Epoch 102/150\n",
      "4/4 [==============================] - 0s 21ms/step - loss: 0.6093 - accuracy: 0.7188 - val_loss: 0.6442 - val_accuracy: 0.6562\n",
      "Epoch 103/150\n",
      "4/4 [==============================] - 0s 26ms/step - loss: 0.6089 - accuracy: 0.7188 - val_loss: 0.6441 - val_accuracy: 0.6562\n",
      "Epoch 104/150\n",
      "4/4 [==============================] - 0s 21ms/step - loss: 0.6084 - accuracy: 0.7188 - val_loss: 0.6442 - val_accuracy: 0.6562\n",
      "Epoch 105/150\n",
      "4/4 [==============================] - 0s 21ms/step - loss: 0.6086 - accuracy: 0.7188 - val_loss: 0.6441 - val_accuracy: 0.6562\n",
      "Epoch 106/150\n",
      "4/4 [==============================] - 0s 21ms/step - loss: 0.6084 - accuracy: 0.7188 - val_loss: 0.6440 - val_accuracy: 0.6562\n",
      "Epoch 107/150\n",
      "4/4 [==============================] - 0s 24ms/step - loss: 0.6080 - accuracy: 0.7188 - val_loss: 0.6440 - val_accuracy: 0.6562\n",
      "Epoch 108/150\n",
      "4/4 [==============================] - 0s 22ms/step - loss: 0.6080 - accuracy: 0.7188 - val_loss: 0.6439 - val_accuracy: 0.6562\n",
      "Epoch 109/150\n",
      "4/4 [==============================] - 0s 24ms/step - loss: 0.6074 - accuracy: 0.7188 - val_loss: 0.6439 - val_accuracy: 0.6562\n",
      "Epoch 110/150\n",
      "4/4 [==============================] - 0s 25ms/step - loss: 0.6070 - accuracy: 0.7188 - val_loss: 0.6438 - val_accuracy: 0.6562\n",
      "Epoch 111/150\n",
      "4/4 [==============================] - 0s 24ms/step - loss: 0.6067 - accuracy: 0.7188 - val_loss: 0.6437 - val_accuracy: 0.6562\n",
      "Epoch 112/150\n",
      "4/4 [==============================] - 0s 26ms/step - loss: 0.6064 - accuracy: 0.7188 - val_loss: 0.6437 - val_accuracy: 0.6562\n",
      "Epoch 113/150\n",
      "4/4 [==============================] - 0s 24ms/step - loss: 0.6062 - accuracy: 0.7188 - val_loss: 0.6437 - val_accuracy: 0.6562\n",
      "Epoch 114/150\n",
      "4/4 [==============================] - 0s 24ms/step - loss: 0.6062 - accuracy: 0.7188 - val_loss: 0.6437 - val_accuracy: 0.6562\n",
      "Epoch 115/150\n",
      "4/4 [==============================] - 0s 22ms/step - loss: 0.6061 - accuracy: 0.7188 - val_loss: 0.6437 - val_accuracy: 0.6562\n",
      "Epoch 116/150\n",
      "4/4 [==============================] - 0s 26ms/step - loss: 0.6062 - accuracy: 0.7188 - val_loss: 0.6437 - val_accuracy: 0.6562\n"
     ]
    },
    {
     "name": "stdout",
     "output_type": "stream",
     "text": [
      "Epoch 117/150\n",
      "4/4 [==============================] - 0s 25ms/step - loss: 0.6061 - accuracy: 0.7188 - val_loss: 0.6437 - val_accuracy: 0.6562\n",
      "Epoch 118/150\n",
      "4/4 [==============================] - 0s 21ms/step - loss: 0.6059 - accuracy: 0.7188 - val_loss: 0.6436 - val_accuracy: 0.6562\n",
      "Epoch 119/150\n",
      "4/4 [==============================] - 0s 23ms/step - loss: 0.6055 - accuracy: 0.7188 - val_loss: 0.6436 - val_accuracy: 0.6562\n",
      "Epoch 120/150\n",
      "4/4 [==============================] - 0s 23ms/step - loss: 0.6053 - accuracy: 0.7188 - val_loss: 0.6436 - val_accuracy: 0.6562\n",
      "Epoch 121/150\n",
      "4/4 [==============================] - 0s 22ms/step - loss: 0.6050 - accuracy: 0.7188 - val_loss: 0.6436 - val_accuracy: 0.6562\n",
      "Epoch 122/150\n",
      "4/4 [==============================] - 0s 24ms/step - loss: 0.6047 - accuracy: 0.7188 - val_loss: 0.6436 - val_accuracy: 0.6562\n",
      "Epoch 123/150\n",
      "4/4 [==============================] - 0s 23ms/step - loss: 0.6046 - accuracy: 0.7188 - val_loss: 0.6435 - val_accuracy: 0.6562\n",
      "Epoch 124/150\n",
      "4/4 [==============================] - 0s 24ms/step - loss: 0.6044 - accuracy: 0.7188 - val_loss: 0.6435 - val_accuracy: 0.6562\n",
      "Epoch 125/150\n",
      "4/4 [==============================] - 0s 32ms/step - loss: 0.6040 - accuracy: 0.7188 - val_loss: 0.6435 - val_accuracy: 0.6562\n",
      "Epoch 126/150\n",
      "4/4 [==============================] - 0s 25ms/step - loss: 0.6037 - accuracy: 0.7188 - val_loss: 0.6435 - val_accuracy: 0.6562\n",
      "Epoch 127/150\n",
      "4/4 [==============================] - 0s 23ms/step - loss: 0.6033 - accuracy: 0.7188 - val_loss: 0.6435 - val_accuracy: 0.6562\n",
      "Epoch 128/150\n",
      "4/4 [==============================] - 0s 23ms/step - loss: 0.6030 - accuracy: 0.7188 - val_loss: 0.6435 - val_accuracy: 0.6562\n",
      "Epoch 129/150\n",
      "4/4 [==============================] - 0s 26ms/step - loss: 0.6030 - accuracy: 0.7188 - val_loss: 0.6435 - val_accuracy: 0.6562\n",
      "Epoch 130/150\n",
      "4/4 [==============================] - 0s 26ms/step - loss: 0.6027 - accuracy: 0.7188 - val_loss: 0.6435 - val_accuracy: 0.6562\n",
      "Epoch 131/150\n",
      "4/4 [==============================] - 0s 21ms/step - loss: 0.6027 - accuracy: 0.7188 - val_loss: 0.6435 - val_accuracy: 0.6562\n",
      "Epoch 132/150\n",
      "4/4 [==============================] - 0s 22ms/step - loss: 0.6024 - accuracy: 0.7188 - val_loss: 0.6435 - val_accuracy: 0.6562\n",
      "Epoch 133/150\n",
      "4/4 [==============================] - 0s 26ms/step - loss: 0.6024 - accuracy: 0.7188 - val_loss: 0.6435 - val_accuracy: 0.6562\n",
      "Epoch 134/150\n",
      "4/4 [==============================] - 0s 22ms/step - loss: 0.6025 - accuracy: 0.7188 - val_loss: 0.6435 - val_accuracy: 0.6562\n",
      "Epoch 135/150\n",
      "4/4 [==============================] - 0s 21ms/step - loss: 0.6025 - accuracy: 0.7188 - val_loss: 0.6435 - val_accuracy: 0.6562\n",
      "Epoch 136/150\n",
      "4/4 [==============================] - 0s 27ms/step - loss: 0.6022 - accuracy: 0.7188 - val_loss: 0.6435 - val_accuracy: 0.6562\n",
      "Epoch 137/150\n",
      "4/4 [==============================] - 0s 25ms/step - loss: 0.6022 - accuracy: 0.7188 - val_loss: 0.6435 - val_accuracy: 0.6562\n",
      "Epoch 138/150\n",
      "4/4 [==============================] - 0s 26ms/step - loss: 0.6019 - accuracy: 0.7188 - val_loss: 0.6436 - val_accuracy: 0.6562\n",
      "Epoch 139/150\n",
      "4/4 [==============================] - 0s 24ms/step - loss: 0.6017 - accuracy: 0.7188 - val_loss: 0.6436 - val_accuracy: 0.6562\n",
      "Epoch 140/150\n",
      "4/4 [==============================] - 0s 21ms/step - loss: 0.6013 - accuracy: 0.7188 - val_loss: 0.6436 - val_accuracy: 0.6562\n",
      "Epoch 141/150\n",
      "4/4 [==============================] - 0s 20ms/step - loss: 0.6012 - accuracy: 0.7188 - val_loss: 0.6437 - val_accuracy: 0.6562\n",
      "Epoch 142/150\n",
      "4/4 [==============================] - 0s 20ms/step - loss: 0.6011 - accuracy: 0.7188 - val_loss: 0.6437 - val_accuracy: 0.6562\n",
      "Epoch 143/150\n",
      "4/4 [==============================] - 0s 21ms/step - loss: 0.6006 - accuracy: 0.7188 - val_loss: 0.6437 - val_accuracy: 0.6562\n",
      "Epoch 144/150\n",
      "4/4 [==============================] - 0s 21ms/step - loss: 0.6007 - accuracy: 0.7188 - val_loss: 0.6437 - val_accuracy: 0.6562\n",
      "Epoch 145/150\n",
      "4/4 [==============================] - 0s 24ms/step - loss: 0.6008 - accuracy: 0.7188 - val_loss: 0.6437 - val_accuracy: 0.6562\n",
      "Epoch 146/150\n",
      "4/4 [==============================] - 0s 26ms/step - loss: 0.6009 - accuracy: 0.7188 - val_loss: 0.6437 - val_accuracy: 0.6562\n",
      "Epoch 147/150\n",
      "4/4 [==============================] - 0s 24ms/step - loss: 0.6006 - accuracy: 0.7188 - val_loss: 0.6437 - val_accuracy: 0.6562\n",
      "Epoch 148/150\n",
      "4/4 [==============================] - 0s 25ms/step - loss: 0.6004 - accuracy: 0.7188 - val_loss: 0.6438 - val_accuracy: 0.6562\n",
      "Epoch 149/150\n",
      "4/4 [==============================] - 0s 25ms/step - loss: 0.6003 - accuracy: 0.7188 - val_loss: 0.6438 - val_accuracy: 0.6562\n",
      "Epoch 150/150\n",
      "4/4 [==============================] - 0s 22ms/step - loss: 0.6002 - accuracy: 0.7188 - val_loss: 0.6438 - val_accuracy: 0.6562\n"
     ]
    }
   ],
   "source": [
    "model.compile(optimizer='sgd',\n",
    "              loss='binary_crossentropy',\n",
    "              metrics=['accuracy'])\n",
    "\n",
    "histoire = model.fit(train_img_nn,\n",
    "                    y_train_nn,\n",
    "                    epochs=150,\n",
    "                     batch_size=10,\n",
    "                     validation_data = (val_img_nn,y_val_nn))"
   ]
  },
  {
   "cell_type": "code",
   "execution_count": 23,
   "metadata": {},
   "outputs": [
    {
     "name": "stdout",
     "output_type": "stream",
     "text": [
      "1/1 [==============================] - 0s 2ms/step - loss: 0.6438 - accuracy: 0.6562\n"
     ]
    }
   ],
   "source": [
    "results_val = model.evaluate(val_img_nn,y_val_nn)"
   ]
  },
  {
   "cell_type": "code",
   "execution_count": 24,
   "metadata": {},
   "outputs": [
    {
     "data": {
      "text/plain": [
       "[0.6438037157058716, 0.65625]"
      ]
     },
     "execution_count": 24,
     "metadata": {},
     "output_type": "execute_result"
    }
   ],
   "source": [
    "results_val"
   ]
  },
  {
   "cell_type": "code",
   "execution_count": 25,
   "metadata": {},
   "outputs": [
    {
     "name": "stdout",
     "output_type": "stream",
     "text": [
      "1/1 [==============================] - 0s 1ms/step - loss: 0.6001 - accuracy: 0.7188\n"
     ]
    },
    {
     "data": {
      "text/plain": [
       "[0.6000922322273254, 0.71875]"
      ]
     },
     "execution_count": 25,
     "metadata": {},
     "output_type": "execute_result"
    }
   ],
   "source": [
    "results_train = model.evaluate(train_img_nn,\n",
    "                    y_train_nn)\n",
    "results_train"
   ]
  },
  {
   "cell_type": "markdown",
   "metadata": {},
   "source": [
    "### Model Iterations"
   ]
  },
  {
   "cell_type": "markdown",
   "metadata": {},
   "source": [
    "#### CNN 1"
   ]
  },
  {
   "cell_type": "markdown",
   "metadata": {},
   "source": [
    "Description: Running with default parameters"
   ]
  },
  {
   "cell_type": "code",
   "execution_count": 26,
   "metadata": {},
   "outputs": [],
   "source": [
    "model1 = models.Sequential()\n",
    "model1.add(layers.Conv2D(32, (3, 3), activation='relu',\n",
    "                        ))\n",
    "model1.add(layers.MaxPooling2D((2, 2)))\n",
    "\n",
    "model1.add(layers.Conv2D(32, (4, 4), activation='relu'))\n",
    "model1.add(layers.MaxPooling2D((2, 2)))\n",
    "\n",
    "model1.add(layers.Conv2D(64, (3, 3), activation='relu'))\n",
    "model1.add(layers.MaxPooling2D((2, 2)))\n",
    "\n",
    "model1.add(layers.Flatten())\n",
    "model1.add(layers.Dense(64, activation='relu'))\n",
    "model1.add(layers.Dense(1, activation='sigmoid'))\n",
    "\n",
    "model1.compile(loss='binary_crossentropy',\n",
    "              optimizer = \"adam\",\n",
    "              metrics=['acc'])"
   ]
  },
  {
   "cell_type": "code",
   "execution_count": 27,
   "metadata": {},
   "outputs": [
    {
     "name": "stdout",
     "output_type": "stream",
     "text": [
      "Epoch 1/20\n",
      "1/1 [==============================] - 1s 837ms/step - loss: 0.6769 - acc: 0.7188 - val_loss: 4.1843 - val_acc: 0.6562\n",
      "Epoch 2/20\n",
      "1/1 [==============================] - 1s 648ms/step - loss: 3.1800 - acc: 0.7188 - val_loss: 1.4394 - val_acc: 0.6562\n",
      "Epoch 3/20\n",
      "1/1 [==============================] - 1s 1s/step - loss: 1.0634 - acc: 0.7188 - val_loss: 0.6652 - val_acc: 0.6562\n",
      "Epoch 4/20\n",
      "1/1 [==============================] - 1s 786ms/step - loss: 0.5737 - acc: 0.7188 - val_loss: 0.6733 - val_acc: 0.6562\n",
      "Epoch 5/20\n",
      "1/1 [==============================] - 1s 646ms/step - loss: 0.6233 - acc: 0.7188 - val_loss: 0.6468 - val_acc: 0.6562\n",
      "Epoch 6/20\n",
      "1/1 [==============================] - 1s 640ms/step - loss: 0.5285 - acc: 0.7188 - val_loss: 0.9006 - val_acc: 0.6562\n",
      "Epoch 7/20\n",
      "1/1 [==============================] - 1s 642ms/step - loss: 0.6300 - acc: 0.7188 - val_loss: 0.8032 - val_acc: 0.6562\n",
      "Epoch 8/20\n",
      "1/1 [==============================] - 1s 610ms/step - loss: 0.5441 - acc: 0.7188 - val_loss: 0.6661 - val_acc: 0.6562\n",
      "Epoch 9/20\n",
      "1/1 [==============================] - 1s 691ms/step - loss: 0.4462 - acc: 0.7500 - val_loss: 0.6315 - val_acc: 0.6562\n",
      "Epoch 10/20\n",
      "1/1 [==============================] - 1s 753ms/step - loss: 0.4348 - acc: 0.9062 - val_loss: 0.6244 - val_acc: 0.6562\n",
      "Epoch 11/20\n",
      "1/1 [==============================] - 1s 685ms/step - loss: 0.3936 - acc: 0.9062 - val_loss: 0.6734 - val_acc: 0.6562\n",
      "Epoch 12/20\n",
      "1/1 [==============================] - 1s 874ms/step - loss: 0.3631 - acc: 0.7500 - val_loss: 0.7090 - val_acc: 0.6562\n",
      "Epoch 13/20\n",
      "1/1 [==============================] - 1s 673ms/step - loss: 0.3464 - acc: 0.7500 - val_loss: 0.6379 - val_acc: 0.6562\n",
      "Epoch 14/20\n",
      "1/1 [==============================] - 1s 690ms/step - loss: 0.2976 - acc: 0.9062 - val_loss: 0.6125 - val_acc: 0.6562\n",
      "Epoch 15/20\n",
      "1/1 [==============================] - 1s 712ms/step - loss: 0.2752 - acc: 0.9688 - val_loss: 0.6255 - val_acc: 0.6562\n",
      "Epoch 16/20\n",
      "1/1 [==============================] - 1s 675ms/step - loss: 0.2367 - acc: 0.9688 - val_loss: 0.7221 - val_acc: 0.6562\n",
      "Epoch 17/20\n",
      "1/1 [==============================] - 1s 676ms/step - loss: 0.1989 - acc: 0.9375 - val_loss: 0.8773 - val_acc: 0.6562\n",
      "Epoch 18/20\n",
      "1/1 [==============================] - 1s 943ms/step - loss: 0.1701 - acc: 0.9375 - val_loss: 0.7901 - val_acc: 0.6875\n",
      "Epoch 19/20\n",
      "1/1 [==============================] - 1s 632ms/step - loss: 0.1257 - acc: 0.9688 - val_loss: 0.7169 - val_acc: 0.6562\n",
      "Epoch 20/20\n",
      "1/1 [==============================] - 1s 608ms/step - loss: 0.0987 - acc: 1.0000 - val_loss: 0.7926 - val_acc: 0.6562\n"
     ]
    }
   ],
   "source": [
    "history1 = model1.fit(train_images,\n",
    "                    y_train,\n",
    "                    epochs=20,\n",
    "                    #batch_size = 5,\n",
    "                    use_multiprocessing=True,\n",
    "                    validation_data = (val_images,y_val)\n",
    "                   )"
   ]
  },
  {
   "cell_type": "code",
   "execution_count": 28,
   "metadata": {},
   "outputs": [
    {
     "name": "stdout",
     "output_type": "stream",
     "text": [
      "Model: \"sequential_1\"\n",
      "_________________________________________________________________\n",
      "Layer (type)                 Output Shape              Param #   \n",
      "=================================================================\n",
      "conv2d (Conv2D)              (32, 254, 254, 32)        896       \n",
      "_________________________________________________________________\n",
      "max_pooling2d (MaxPooling2D) (32, 127, 127, 32)        0         \n",
      "_________________________________________________________________\n",
      "conv2d_1 (Conv2D)            (32, 124, 124, 32)        16416     \n",
      "_________________________________________________________________\n",
      "max_pooling2d_1 (MaxPooling2 (32, 62, 62, 32)          0         \n",
      "_________________________________________________________________\n",
      "conv2d_2 (Conv2D)            (32, 60, 60, 64)          18496     \n",
      "_________________________________________________________________\n",
      "max_pooling2d_2 (MaxPooling2 (32, 30, 30, 64)          0         \n",
      "_________________________________________________________________\n",
      "flatten (Flatten)            (32, 57600)               0         \n",
      "_________________________________________________________________\n",
      "dense_4 (Dense)              (32, 64)                  3686464   \n",
      "_________________________________________________________________\n",
      "dense_5 (Dense)              (32, 1)                   65        \n",
      "=================================================================\n",
      "Total params: 3,722,337\n",
      "Trainable params: 3,722,337\n",
      "Non-trainable params: 0\n",
      "_________________________________________________________________\n"
     ]
    }
   ],
   "source": [
    "model1.summary()"
   ]
  },
  {
   "cell_type": "code",
   "execution_count": 29,
   "metadata": {},
   "outputs": [
    {
     "name": "stdout",
     "output_type": "stream",
     "text": [
      "1/1 [==============================] - 0s 3ms/step - loss: 0.0666 - acc: 1.0000\n"
     ]
    },
    {
     "data": {
      "text/plain": [
       "[0.06661596894264221, 1.0]"
      ]
     },
     "execution_count": 29,
     "metadata": {},
     "output_type": "execute_result"
    }
   ],
   "source": [
    "results_train_1 = model1.evaluate(train_images,y_train)\n",
    "results_train_1"
   ]
  },
  {
   "cell_type": "code",
   "execution_count": 30,
   "metadata": {},
   "outputs": [
    {
     "name": "stdout",
     "output_type": "stream",
     "text": [
      "1/1 [==============================] - 0s 3ms/step - loss: 0.7926 - acc: 0.6562\n"
     ]
    },
    {
     "data": {
      "text/plain": [
       "[0.7925608158111572, 0.65625]"
      ]
     },
     "execution_count": 30,
     "metadata": {},
     "output_type": "execute_result"
    }
   ],
   "source": [
    "results_val_1 = model1.evaluate(val_images, y_val)\n",
    "results_val_1"
   ]
  },
  {
   "cell_type": "markdown",
   "metadata": {},
   "source": [
    "CNN 1 Train: loss: 4.6420e-05 - acc: 1.0000\n",
    "CNN 1 Validation: loss: 5.2256 - acc: 0.5000\n",
    "Highly overfit"
   ]
  },
  {
   "cell_type": "markdown",
   "metadata": {},
   "source": [
    "### CNN 2"
   ]
  },
  {
   "cell_type": "markdown",
   "metadata": {},
   "source": [
    "my goal with this next model is to reduce overfitting - I will attempt to do that by adding a dropout later"
   ]
  },
  {
   "cell_type": "code",
   "execution_count": 31,
   "metadata": {},
   "outputs": [],
   "source": [
    "model2 = models.Sequential()\n",
    "model2.add(layers.Conv2D(32, (3, 3), activation='relu',\n",
    "                        ))\n",
    "model2.add(layers.MaxPooling2D((2, 2)))\n",
    "\n",
    "model2.add(layers.Conv2D(32, (4, 4), activation='relu'))\n",
    "model2.add(layers.MaxPooling2D((2, 2)))\n",
    "\n",
    "model2.add(layers.Conv2D(64, (3, 3), activation='relu'))\n",
    "model2.add(layers.MaxPooling2D((2, 2)))\n",
    "\n",
    "model2.add(layers.Flatten())\n",
    "model2.add(layers.Dense(64, activation='relu'))\n",
    "model2.add(layers.Dropout(0.5))\n",
    "model2.add(layers.Dense(1, activation='sigmoid'))\n",
    "\n",
    "model2.compile(loss='binary_crossentropy',\n",
    "              optimizer = \"adam\",\n",
    "              metrics=['acc'])"
   ]
  },
  {
   "cell_type": "code",
   "execution_count": 32,
   "metadata": {},
   "outputs": [
    {
     "name": "stdout",
     "output_type": "stream",
     "text": [
      "Epoch 1/30\n",
      "1/1 [==============================] - 1s 866ms/step - loss: 0.6935 - acc: 0.5000 - val_loss: 2.4514 - val_acc: 0.6562\n",
      "Epoch 2/30\n",
      "1/1 [==============================] - 1s 662ms/step - loss: 1.8496 - acc: 0.7188 - val_loss: 0.9716 - val_acc: 0.6562\n",
      "Epoch 3/30\n",
      "1/1 [==============================] - 1s 646ms/step - loss: 0.8291 - acc: 0.7188 - val_loss: 0.6603 - val_acc: 0.6562\n",
      "Epoch 4/30\n",
      "1/1 [==============================] - 1s 638ms/step - loss: 0.6248 - acc: 0.7188 - val_loss: 0.6724 - val_acc: 0.7500\n",
      "Epoch 5/30\n",
      "1/1 [==============================] - 1s 766ms/step - loss: 0.6319 - acc: 0.5000 - val_loss: 0.6651 - val_acc: 0.6562\n",
      "Epoch 6/30\n",
      "1/1 [==============================] - 1s 605ms/step - loss: 0.5173 - acc: 0.7500 - val_loss: 0.7098 - val_acc: 0.6562\n",
      "Epoch 7/30\n",
      "1/1 [==============================] - 1s 609ms/step - loss: 0.6066 - acc: 0.7188 - val_loss: 0.6553 - val_acc: 0.6562\n",
      "Epoch 8/30\n",
      "1/1 [==============================] - 1s 621ms/step - loss: 0.5335 - acc: 0.7188 - val_loss: 0.6303 - val_acc: 0.6562\n",
      "Epoch 9/30\n",
      "1/1 [==============================] - 1s 642ms/step - loss: 0.5322 - acc: 0.7188 - val_loss: 0.6061 - val_acc: 0.6562\n",
      "Epoch 10/30\n",
      "1/1 [==============================] - 1s 655ms/step - loss: 0.4657 - acc: 0.7188 - val_loss: 0.6273 - val_acc: 0.6562\n",
      "Epoch 11/30\n",
      "1/1 [==============================] - 1s 612ms/step - loss: 0.4475 - acc: 0.7188 - val_loss: 0.5833 - val_acc: 0.6562\n",
      "Epoch 12/30\n",
      "1/1 [==============================] - 1s 672ms/step - loss: 0.3617 - acc: 0.8750 - val_loss: 0.5749 - val_acc: 0.6562\n",
      "Epoch 13/30\n",
      "1/1 [==============================] - 1s 644ms/step - loss: 0.3272 - acc: 0.9062 - val_loss: 0.5850 - val_acc: 0.6562\n",
      "Epoch 14/30\n",
      "1/1 [==============================] - 1s 642ms/step - loss: 0.3318 - acc: 0.8438 - val_loss: 0.6520 - val_acc: 0.6562\n",
      "Epoch 15/30\n",
      "1/1 [==============================] - 1s 649ms/step - loss: 0.3247 - acc: 0.8125 - val_loss: 0.6101 - val_acc: 0.6562\n",
      "Epoch 16/30\n",
      "1/1 [==============================] - 1s 630ms/step - loss: 0.2464 - acc: 0.9375 - val_loss: 0.6000 - val_acc: 0.6562\n",
      "Epoch 17/30\n",
      "1/1 [==============================] - 1s 613ms/step - loss: 0.2545 - acc: 0.9062 - val_loss: 0.5881 - val_acc: 0.6875\n",
      "Epoch 18/30\n",
      "1/1 [==============================] - 1s 689ms/step - loss: 0.2004 - acc: 0.9688 - val_loss: 0.6557 - val_acc: 0.6562\n",
      "Epoch 19/30\n",
      "1/1 [==============================] - 1s 633ms/step - loss: 0.2636 - acc: 0.8750 - val_loss: 0.5831 - val_acc: 0.6875\n",
      "Epoch 20/30\n",
      "1/1 [==============================] - 1s 620ms/step - loss: 0.1485 - acc: 0.9688 - val_loss: 0.5952 - val_acc: 0.6562\n",
      "Epoch 21/30\n",
      "1/1 [==============================] - 1s 614ms/step - loss: 0.1604 - acc: 0.9375 - val_loss: 0.6765 - val_acc: 0.6562\n",
      "Epoch 22/30\n",
      "1/1 [==============================] - 1s 670ms/step - loss: 0.1102 - acc: 0.9688 - val_loss: 0.9419 - val_acc: 0.6562\n",
      "Epoch 23/30\n",
      "1/1 [==============================] - 1s 664ms/step - loss: 0.1105 - acc: 0.9375 - val_loss: 0.8716 - val_acc: 0.6562\n",
      "Epoch 24/30\n",
      "1/1 [==============================] - 1s 638ms/step - loss: 0.0592 - acc: 0.9688 - val_loss: 0.7759 - val_acc: 0.6250\n",
      "Epoch 25/30\n",
      "1/1 [==============================] - 1s 629ms/step - loss: 0.0681 - acc: 0.9688 - val_loss: 0.7005 - val_acc: 0.5938\n",
      "Epoch 26/30\n",
      "1/1 [==============================] - 1s 643ms/step - loss: 0.0870 - acc: 0.9688 - val_loss: 0.7515 - val_acc: 0.6250\n",
      "Epoch 27/30\n",
      "1/1 [==============================] - 1s 636ms/step - loss: 0.0520 - acc: 1.0000 - val_loss: 0.9510 - val_acc: 0.6562\n",
      "Epoch 28/30\n",
      "1/1 [==============================] - 1s 628ms/step - loss: 0.0715 - acc: 1.0000 - val_loss: 1.0910 - val_acc: 0.6562\n",
      "Epoch 29/30\n",
      "1/1 [==============================] - 1s 653ms/step - loss: 0.0257 - acc: 1.0000 - val_loss: 1.1251 - val_acc: 0.6562\n",
      "Epoch 30/30\n",
      "1/1 [==============================] - 1s 619ms/step - loss: 0.0157 - acc: 1.0000 - val_loss: 1.2076 - val_acc: 0.6562\n"
     ]
    }
   ],
   "source": [
    "history2 = model2.fit(train_images,\n",
    "                    y_train,\n",
    "                    epochs=30,\n",
    "                    #batch_size = 5,\n",
    "                    use_multiprocessing=True,\n",
    "                    validation_data = (val_images,y_val)\n",
    "                   )"
   ]
  },
  {
   "cell_type": "code",
   "execution_count": 33,
   "metadata": {},
   "outputs": [
    {
     "name": "stdout",
     "output_type": "stream",
     "text": [
      "1/1 [==============================] - 0s 3ms/step - loss: 0.0130 - acc: 1.0000\n"
     ]
    },
    {
     "data": {
      "text/plain": [
       "[0.013007339090108871, 1.0]"
      ]
     },
     "execution_count": 33,
     "metadata": {},
     "output_type": "execute_result"
    }
   ],
   "source": [
    "results_train_2 = model2.evaluate(train_images,y_train)\n",
    "results_train_2"
   ]
  },
  {
   "cell_type": "code",
   "execution_count": 34,
   "metadata": {},
   "outputs": [
    {
     "name": "stdout",
     "output_type": "stream",
     "text": [
      "1/1 [==============================] - 0s 3ms/step - loss: 1.2076 - acc: 0.6562\n"
     ]
    },
    {
     "data": {
      "text/plain": [
       "[1.2075775861740112, 0.65625]"
      ]
     },
     "execution_count": 34,
     "metadata": {},
     "output_type": "execute_result"
    }
   ],
   "source": [
    "results_val_2 = model2.evaluate(val_images, y_val)\n",
    "results_val_2"
   ]
  },
  {
   "cell_type": "markdown",
   "metadata": {},
   "source": [
    "### CNN 3"
   ]
  },
  {
   "cell_type": "markdown",
   "metadata": {},
   "source": [
    "the last model reduced overfitting a little bit, but now enough as I would like, I am going to add another dropout layer to hopefully reduce the overfitting more "
   ]
  },
  {
   "cell_type": "code",
   "execution_count": 35,
   "metadata": {},
   "outputs": [],
   "source": [
    "model3 = models.Sequential()\n",
    "model3.add(layers.Conv2D(32, (3, 3), activation='relu',\n",
    "                        ))\n",
    "model3.add(layers.MaxPooling2D((2, 2)))\n",
    "\n",
    "model3.add(layers.Conv2D(32, (4, 4), activation='relu'))\n",
    "model3.add(layers.MaxPooling2D((2, 2)))\n",
    "\n",
    "model3.add(layers.Conv2D(64, (3, 3), activation='relu'))\n",
    "model3.add(layers.MaxPooling2D((2, 2)))\n",
    "\n",
    "model3.add(layers.Flatten())\n",
    "model3.add(layers.Dense(64, activation='relu'))\n",
    "model3.add(layers.Dropout(0.5))\n",
    "model3.add(layers.Dense(64, activation='relu'))\n",
    "model3.add(layers.Dropout(0.5))\n",
    "model3.add(layers.Dense(1, activation='sigmoid'))\n",
    "\n",
    "model3.compile(loss='binary_crossentropy',\n",
    "              optimizer = \"adam\",\n",
    "              metrics=['acc'])"
   ]
  },
  {
   "cell_type": "code",
   "execution_count": 36,
   "metadata": {},
   "outputs": [
    {
     "name": "stdout",
     "output_type": "stream",
     "text": [
      "Epoch 1/30\n",
      "1/1 [==============================] - 1s 795ms/step - loss: 0.6879 - acc: 0.5000 - val_loss: 1.0569 - val_acc: 0.6562\n",
      "Epoch 2/30\n",
      "1/1 [==============================] - 1s 610ms/step - loss: 0.9153 - acc: 0.7188 - val_loss: 0.6738 - val_acc: 0.6562\n",
      "Epoch 3/30\n",
      "1/1 [==============================] - 1s 622ms/step - loss: 0.7969 - acc: 0.4688 - val_loss: 0.6801 - val_acc: 0.6562\n",
      "Epoch 4/30\n",
      "1/1 [==============================] - 1s 632ms/step - loss: 0.6861 - acc: 0.5312 - val_loss: 0.6673 - val_acc: 0.6562\n",
      "Epoch 5/30\n",
      "1/1 [==============================] - 1s 616ms/step - loss: 0.7299 - acc: 0.5000 - val_loss: 0.6550 - val_acc: 0.6562\n",
      "Epoch 6/30\n",
      "1/1 [==============================] - 1s 634ms/step - loss: 0.6399 - acc: 0.6250 - val_loss: 0.6575 - val_acc: 0.6562\n",
      "Epoch 7/30\n",
      "1/1 [==============================] - 1s 632ms/step - loss: 0.5494 - acc: 0.7188 - val_loss: 0.7055 - val_acc: 0.6562\n",
      "Epoch 8/30\n",
      "1/1 [==============================] - 1s 782ms/step - loss: 0.5986 - acc: 0.7812 - val_loss: 0.6612 - val_acc: 0.6562\n",
      "Epoch 9/30\n",
      "1/1 [==============================] - 1s 644ms/step - loss: 0.5121 - acc: 0.7188 - val_loss: 0.6158 - val_acc: 0.6562\n",
      "Epoch 10/30\n",
      "1/1 [==============================] - 1s 616ms/step - loss: 0.5301 - acc: 0.7188 - val_loss: 0.6076 - val_acc: 0.6562\n",
      "Epoch 11/30\n",
      "1/1 [==============================] - 1s 658ms/step - loss: 0.5420 - acc: 0.5938 - val_loss: 0.6053 - val_acc: 0.6562\n",
      "Epoch 12/30\n",
      "1/1 [==============================] - 1s 648ms/step - loss: 0.4472 - acc: 0.7812 - val_loss: 0.6438 - val_acc: 0.6562\n",
      "Epoch 13/30\n",
      "1/1 [==============================] - 1s 651ms/step - loss: 0.4240 - acc: 0.7188 - val_loss: 0.7533 - val_acc: 0.6562\n",
      "Epoch 14/30\n",
      "1/1 [==============================] - 1s 650ms/step - loss: 0.4651 - acc: 0.7500 - val_loss: 0.6703 - val_acc: 0.6562\n",
      "Epoch 15/30\n",
      "1/1 [==============================] - 1s 641ms/step - loss: 0.3765 - acc: 0.8125 - val_loss: 0.6159 - val_acc: 0.6562\n",
      "Epoch 16/30\n",
      "1/1 [==============================] - 1s 678ms/step - loss: 0.4464 - acc: 0.8438 - val_loss: 0.6161 - val_acc: 0.6562\n",
      "Epoch 17/30\n",
      "1/1 [==============================] - 1s 661ms/step - loss: 0.3324 - acc: 0.9062 - val_loss: 0.6566 - val_acc: 0.6562\n",
      "Epoch 18/30\n",
      "1/1 [==============================] - 1s 670ms/step - loss: 0.3027 - acc: 0.8750 - val_loss: 0.7399 - val_acc: 0.6562\n",
      "Epoch 19/30\n",
      "1/1 [==============================] - 1s 619ms/step - loss: 0.3529 - acc: 0.8750 - val_loss: 0.7938 - val_acc: 0.6562\n",
      "Epoch 20/30\n",
      "1/1 [==============================] - 1s 617ms/step - loss: 0.2385 - acc: 0.9688 - val_loss: 0.9801 - val_acc: 0.6562\n",
      "Epoch 21/30\n",
      "1/1 [==============================] - 1s 626ms/step - loss: 0.1594 - acc: 0.9688 - val_loss: 1.2584 - val_acc: 0.6562\n",
      "Epoch 22/30\n",
      "1/1 [==============================] - 1s 644ms/step - loss: 0.2520 - acc: 0.9062 - val_loss: 1.1283 - val_acc: 0.6562\n",
      "Epoch 23/30\n",
      "1/1 [==============================] - 1s 651ms/step - loss: 0.1740 - acc: 0.8750 - val_loss: 1.0712 - val_acc: 0.6562\n",
      "Epoch 24/30\n",
      "1/1 [==============================] - 1s 618ms/step - loss: 0.1217 - acc: 1.0000 - val_loss: 1.1543 - val_acc: 0.6562\n",
      "Epoch 25/30\n",
      "1/1 [==============================] - 1s 611ms/step - loss: 0.1067 - acc: 1.0000 - val_loss: 1.3901 - val_acc: 0.6562\n",
      "Epoch 26/30\n",
      "1/1 [==============================] - 1s 635ms/step - loss: 0.3553 - acc: 0.8438 - val_loss: 1.1532 - val_acc: 0.6562\n",
      "Epoch 27/30\n",
      "1/1 [==============================] - 1s 616ms/step - loss: 0.1653 - acc: 0.9062 - val_loss: 1.1242 - val_acc: 0.5938\n",
      "Epoch 28/30\n",
      "1/1 [==============================] - 1s 635ms/step - loss: 0.0956 - acc: 1.0000 - val_loss: 1.2086 - val_acc: 0.6250\n",
      "Epoch 29/30\n",
      "1/1 [==============================] - 1s 630ms/step - loss: 0.1746 - acc: 0.9062 - val_loss: 1.2957 - val_acc: 0.6562\n",
      "Epoch 30/30\n",
      "1/1 [==============================] - 1s 618ms/step - loss: 0.1071 - acc: 0.9375 - val_loss: 1.3755 - val_acc: 0.6562\n"
     ]
    }
   ],
   "source": [
    "history3 = model3.fit(train_images,\n",
    "                    y_train,\n",
    "                    epochs=30,\n",
    "                    #batch_size = 5,\n",
    "                    use_multiprocessing=True,\n",
    "                    validation_data = (val_images,y_val)\n",
    "                   )"
   ]
  },
  {
   "cell_type": "code",
   "execution_count": 37,
   "metadata": {},
   "outputs": [
    {
     "name": "stdout",
     "output_type": "stream",
     "text": [
      "1/1 [==============================] - 0s 3ms/step - loss: 0.0282 - acc: 1.0000\n"
     ]
    },
    {
     "data": {
      "text/plain": [
       "[0.028192654252052307, 1.0]"
      ]
     },
     "execution_count": 37,
     "metadata": {},
     "output_type": "execute_result"
    }
   ],
   "source": [
    "results_train_3 = model3.evaluate(train_images,y_train)\n",
    "results_train_3"
   ]
  },
  {
   "cell_type": "code",
   "execution_count": 38,
   "metadata": {},
   "outputs": [
    {
     "name": "stdout",
     "output_type": "stream",
     "text": [
      "1/1 [==============================] - 0s 2ms/step - loss: 1.3755 - acc: 0.6562\n"
     ]
    },
    {
     "data": {
      "text/plain": [
       "[1.3754671812057495, 0.65625]"
      ]
     },
     "execution_count": 38,
     "metadata": {},
     "output_type": "execute_result"
    }
   ],
   "source": [
    "results_val_3 = model3.evaluate(val_images, y_val)\n",
    "results_val_3"
   ]
  },
  {
   "cell_type": "code",
   "execution_count": null,
   "metadata": {},
   "outputs": [],
   "source": []
  }
 ],
 "metadata": {
  "kernelspec": {
   "display_name": "Python (learn-env)",
   "language": "python",
   "name": "learn-env"
  },
  "language_info": {
   "codemirror_mode": {
    "name": "ipython",
    "version": 3
   },
   "file_extension": ".py",
   "mimetype": "text/x-python",
   "name": "python",
   "nbconvert_exporter": "python",
   "pygments_lexer": "ipython3",
   "version": "3.8.5"
  }
 },
 "nbformat": 4,
 "nbformat_minor": 4
}
