{
 "cells": [
  {
   "cell_type": "markdown",
   "metadata": {},
   "source": [
    "# EDA Notebook"
   ]
  },
  {
   "cell_type": "markdown",
   "metadata": {},
   "source": [
    "This notebook is used for exploratory data analysis"
   ]
  },
  {
   "cell_type": "code",
   "execution_count": 1,
   "metadata": {},
   "outputs": [],
   "source": [
    "#imports \n",
    "import os, shutil\n",
    "import pandas as pd\n",
    "from sklearn.metrics import accuracy_score, recall_score\n",
    "import time\n",
    "import matplotlib.pyplot as plt\n",
    "import scipy\n",
    "import numpy as np\n",
    "from PIL import Image\n",
    "from scipy import ndimage\n",
    "from keras.preprocessing.image import ImageDataGenerator, array_to_img, img_to_array, load_img"
   ]
  },
  {
   "cell_type": "code",
   "execution_count": 2,
   "metadata": {},
   "outputs": [],
   "source": [
    "train_images_dir = 'C:/Users/User/Documents/Flatiron/Capstone/train_data/images'\n",
    "train_images_dir_0 = 'C:/Users/User/Documents/Flatiron/Capstone/train_data/images/0'\n",
    "train_images_dir_1 = 'C:/Users/User/Documents/Flatiron/Capstone/train_data/images/1'"
   ]
  },
  {
   "cell_type": "code",
   "execution_count": 3,
   "metadata": {},
   "outputs": [],
   "source": [
    "train_images_list_0 = [file for file in os.listdir(train_images_dir_0)\n",
    "                     if (file.endswith('.jpg') or\n",
    "                         file.endswith('.JPG') or\n",
    "                         file.endswith('.jpeg'))]"
   ]
  },
  {
   "cell_type": "code",
   "execution_count": 4,
   "metadata": {},
   "outputs": [],
   "source": [
    "train_images_list_1 = [file for file in  os.listdir(train_images_dir_1)\n",
    "                     if (file.endswith('.jpg') or\n",
    "                         file.endswith('.JPG') or\n",
    "                         file.endswith('.jpeg'))]"
   ]
  },
  {
   "cell_type": "code",
   "execution_count": 5,
   "metadata": {},
   "outputs": [],
   "source": [
    "train_images_list = train_images_list_0.copy()\n",
    "train_images_list.extend(train_images_list_1)"
   ]
  },
  {
   "cell_type": "code",
   "execution_count": 6,
   "metadata": {},
   "outputs": [
    {
     "name": "stdout",
     "output_type": "stream",
     "text": [
      "['billete_0001.jpg', 'billete_0002.jpg', 'billete_0003.jpg', 'billete_0004.jpg', 'billete_0005.jpg', 'billete_0006.jpg', 'billete_0007.jpg', 'billete_0008.jpg', 'billete_0010.jpg', 'billete_0011.jpg', 'billete_0012.jpg', 'billete_0013.jpg', 'billete_0014.jpg', 'billete_0015.jpg', 'billete_0016.jpg', 'billete_0017.jpg', 'billete_0020.jpg', 'billete_0021.jpg', 'billete_0022.jpg', 'billete_0023.jpg', 'billete_0024.jpg', 'billete_0025.jpg', 'billete_0026.jpg', 'billete_0027.jpg', 'billete_0031.jpg', 'billete_0032.jpg', 'billete_0033.jpg', 'billete_0034.jpg', 'billete_0035.jpg', 'billete_0036.jpg', 'billete_0037.jpg', 'billete_0038.jpg', 'billete_0043.jpg', 'billete_0044.jpg', 'billete_0045.jpg', 'billete_0046.jpg', 'billete_0047.jpg', 'billete_0048.jpg', 'billete_0050.jpg', 'billete_0052.jpg', 'billete_0053.jpg', 'billete_0055.jpg', 'billete_0056.jpg', 'billete_0057.jpg', 'billete_0058.jpg', 'billete_0059.jpg', 'billete_0060.jpg', 'billete_0061.jpg', 'billete_0063.jpg', 'billete_0064.jpg', 'billete_0065.jpg', 'billete_0066.jpg', 'billete_0067.jpg', 'billete_0069.jpg', 'billete_0071.jpg', 'billete_0073.jpg', 'billete_0076.jpg', 'billete_0078.jpg', 'billete_0080.jpg', 'billete_0085.jpg', 'billete_0086.jpg', 'billete_0090.jpg', 'billete_0091.jpg', 'billete_0092.jpg', 'billete_0094.jpg', 'billete_0096.jpg', 'billete_0097.jpg', 'billete_0098.jpg', 'billete_0099.jpg', 'billete_0100.jpg', 'billete_0120.jpg', 'billete_0121.jpg', 'billete_0125.jpg', 'billete_0127.jpg', 'billete_0130.jpg', 'billete_0131.jpg', 'billete_0132.jpg', 'billete_0133.jpg', 'billete_0135.jpg', 'billete_0136.jpg', 'billete_0137.jpg', 'billete_0139.jpg', 'billete_0140.jpg', 'billete_0146.jpg', 'billete_0148.jpg', 'billete_0150.jpg', 'billete_0159.JPG', 'billete_0160.JPG', 'billete_0161.JPG', 'billete_0163.JPG', 'billete_0164.JPG', 'billete_0165.JPG', 'billete_0166.JPG', 'billete_0168.JPG', 'billete_0174.JPG', 'billete_0175.JPG', 'billete_0177.JPG', 'billete_0178.JPG', 'billete_0180.JPG', 'billete_0181.JPG', 'billete_0183.JPG', 'billete_0184.JPG', 'billete_0185.JPG', 'billete_0188.jpg', 'billete_0189.jpg', 'billete_0190.jpg', 'billete_0193.jpg', 'billete_0194.jpg', 'billete_0198.jpg', 'billete_0199.jpg', 'billete_0201.jpg', 'billete_0202.jpg', 'billete_0205.jpg', 'billete_0206.jpg', 'billete_0207.jpg', 'billete_0208.jpg', 'billete_2011.jpg', 'billete_2012.jpg', 'billete_2013.jpg', 'billete_2014.jpg', 'billete_2015.jpg', 'billete_2016.jpg', 'billete_2017.jpg', 'billete_2018.jpg', 'billete_2019.jpg', 'billete_2020.jpg', 'billete_2021.jpg', 'billete_2022.jpg', 'billete_2023.jpg', 'billete_2024.jpg', 'billete_2025.jpg', 'billete_2026.jpg', 'billete_2027.jpg', 'billete_2028.jpg', 'billete_2029.jpg', 'billete_2030.jpg', 'billete_2031.jpg', 'billete_2032.jpg', 'billete_2033.jpg', 'billete_2034.jpg', 'billete_2035.jpg', 'billete_2036.jpg', 'billete_2037.jpg', 'billete_2038.jpg', 'billete_2039.jpg', 'billete_2040.jpg', 'billete_2041.jpg', 'billete_2042.jpg', 'billete_2043.jpg', 'billete_2044.jpg', 'billete_2045.jpg', 'billete_2046.jpg', 'billete_2047.jpg', 'billete_2048.jpg', 'billete_2049.jpg', 'billete_2050.jpg', 'billete_2051.jpg', 'billete_2052.jpg', 'billete_2053.jpg', 'billete_2054.jpg', 'billete_2055.jpg', 'billete_2056.JPG', 'billete_2057.jpg', 'billete_2058.jpg', 'billete_2059.jpg', 'billete_2060.jpg', 'billete_2061.jpg', 'billete_2062.jpg', 'billete_2063.jpg', 'billete_2064.jpg', 'billete_2065.jpg', 'billete_2066.jpg', 'billete_2067.jpg', 'billete_2068.jpg', 'billete_2069.jpg', 'billete_2070.jpg', 'billete_2071.jpg', 'billete_2072.jpeg', 'billete_2073.jpg', 'billete_2074.jpg', 'billete_2075.jpg', 'billete_2076.jpg', 'billete_2077.jpg', 'billete_2078.jpg', 'billete_2079.jpg', 'billete_2080.jpg', 'billete_2081.jpg', 'billete_2082.jpg', 'billete_2083.jpg', 'billete_2084.jpg', 'billete_2085.jpg', 'billete_2086.jpg', 'billete_2088.jpg', 'billete_2089.jpg', 'billete_2090.jpg', 'billete_2091.jpg', 'billete_2092.jpg', 'billete_2093.jpg', 'billete_2094.jpg', 'billete_2095.jpg', 'billete_2096.jpg', 'billete_2097.jpg', 'billete_2098.jpg', 'billete_2099.jpg', 'billete_2100.jpg', 'billete_2101.jpg', 'billete_2102.jpg', 'billete_2103.jpg', 'billete_2104.jpg', 'billete_2105.jpg', 'billete_2106.jpg', 'billete_2107.jpg', 'billete_2108.jpg', 'billete_2109.jpg', 'billete_2110.jpg', 'billete_2111.jpg', 'billete_2112.JPG', 'billete_2113.JPG', 'billete_2114.jpg', 'billete_2115.jpg', 'billete_2116.jpg', 'billete_2117.jpg', 'billete_2118.jpg', 'billete_2119.jpg', 'billete_2120.jpg', 'billete_2121.jpg', 'billete_2122.jpg', 'billete_2123.jpg', 'billete_2124.jpg', 'billete_2126.jpg', 'billete_2127.jpg', 'billete_2128.jpg', 'billete_2129.jpg', 'billete_2130.jpg', 'billete_2131.jpg', 'billete_2132.jpg', 'billete_2134.jpg', 'billete_2135.jpg', 'billete_2136.jpg', 'billete_2137.jpg', 'billete_2138.jpg', 'billete_2139.jpg', 'billete_2140.jpg', 'billete_2141.jpg', 'billete_2142.jpg', 'billete_2143.jpg', 'billete_2144.jpg', 'billete_2145.jpg', 'billete_2146.jpg', 'billete_2147.jpg', 'billete_2148.jpg', 'billete_2149.jpg', 'billete_2150.jpg', 'billete_2151.jpg', 'billete_2152.jpg', 'billete_2153.jpg', 'billete_2154.jpg', 'billete_2155.jpg', 'billete_2156.jpg', 'billete_2157.jpg', 'billete_2158.jpg', 'billete_2159.jpg', 'billete_2160.jpg', 'billete_2161.jpg', 'billete_2162.jpg', 'billete_2163.jpg', 'billete_2164.jpg', 'billete_2165.jpg', 'billete_2166.jpg', 'billete_2167.jpeg', 'billete_2168.jpg', 'billete_2169.jpg', 'billete_2170.jpg', 'billete_2171.jpg', 'billete_2172.jpg', 'billete_2173.jpg', 'billete_2174.jpg', 'billete_2175.jpg', 'billete_2176.jpg', 'billete_2177.jpg', 'billete_2178.jpg', 'billete_2179.jpg', 'billete_2180.jpg', 'billete_2181.jpg', 'billete_2182.jpg', 'billete_2183.jpg', 'billete_2184.jpg', 'billete_2185.jpg', 'billete_2187.jpg', 'billete_2188.jpg', 'billete_2189.jpg', 'billete_2240.jpg', 'billete_2241.jpg', 'billete_2242.jpg', 'billete_2243.jpg', 'billete_2244.jpg', 'billete_2245.jpg', 'billete_2246.jpg', 'billete_2247.jpg', 'billete_2248.jpg', 'billete_2249.jpg', 'billete_2250.jpg', 'billete_2251.jpg', 'billete_2252.jpg', 'billete_2253.jpg', 'billete_2254.jpg', 'billete_2255.jpg', 'billete_2256.jpg', 'billete_2257.jpg', 'billete_2258.jpg', 'billete_2259.jpg', 'billete_2260.jpg', 'billete_2261.jpg', 'billete_2262.jpg', 'billete_2263.jpg', 'billete_2264.jpg', 'billete_2265.jpg', 'billete_2266.jpg', 'billete_2267.jpg', 'billete_2268.jpg', 'billete_2269.jpg', 'billete_2270.jpg', 'billete_2271.jpg', 'billete_2272.jpg', 'billete_2273.jpg', 'billete_2274.jpg', 'billete_2275.jpg', 'billete_2276.jpg', 'billete_2277.jpg', 'billete_2278.jpg', 'billete_2279.jpg', 'billete_2280.jpg', 'billete_2281.jpg', 'billete_2282.jpg', 'billete_2283.jpg', 'billete_2284.jpg', 'billete_2285.jpg', 'billete_2286.jpg', 'billete_2287.jpg', 'billete_2288.jpg', 'billete_2289.jpg', 'billete_2290.jpg', 'billete_2291.jpg', 'billete_2292.jpg', 'billete_2293.jpg', 'billete_2294.jpg', 'billete_2295.jpg', 'billete_2296.jpg', 'billete_2297.jpg', 'billete_2298.jpg', 'billete_2299.jpg', 'billete_2300.jpg', 'billete_2301.jpg', 'billete_2302.jpg', 'billete_2303.jpg', 'billete_2304.jpg', 'billete_2305.jpg', 'billete_2306.jpg', 'billete_2307.jpg', 'billete_2308.jpg', 'billete_2309.jpg', 'billete_2310.jpg', 'billete_2311.jpg', 'billete_2312.jpg', 'billete_2313.jpg', 'billete_2314.jpg', 'billete_2315.jpg', 'billete_2316.jpg', 'billete_2317.jpg', 'billete_2318.jpg', 'billete_2319.jpg', 'billete_2320.jpg', 'billete_2321.jpg', 'billete_2322.jpg', 'billete_2323.jpg', 'billete_2324.jpg', 'billete_2325.jpg', 'billete_2326.jpg', 'billete_2327.jpg', 'billete_2328.jpg', 'billete_2329.jpg', 'billete_2330.jpg', 'billete_2331.jpg', 'billete_2332.jpg', 'billete_2333.jpg', 'billete_2334.jpg', 'billete_2335.jpg', 'billete_2336.jpg', 'billete_2337.jpg', 'billete_2338.jpg', 'billete_2339.jpg', 'billete_2340.jpg', 'billete_2341.jpg', 'billete_2342.jpg', 'billete_2343.jpg', 'billete_2344.jpg', 'billete_2345.jpg', 'billete_2346.jpg', 'billete_2347.jpg', 'billete_2348.jpg', 'billete_2362.jpg', 'billete_2363.jpg', 'billete_2364.jpg', 'billete_2365.jpg', 'billete_2366.jpg', 'billete_2367.jpg', 'billete_2368.jpg', 'billete_2369.jpg', 'billete_2370.jpg', 'billete_2371.jpg', 'billete_2380.jpg', 'billete_2381.jpg', 'billete_2382.jpg', 'billete_2383.jpg', 'billete_2384.jpg', 'billete_2385.jpg', 'billete_2386.jpg', 'billete_2387.jpg', 'billete_2388.jpg', 'billete_2389.jpg', 'billete_2390.jpg', 'billete_2391.jpg', 'billete_2392.jpg', 'billete_2393.jpg', 'billete_2394.jpg', 'monedero_1001.jpg', 'monedero_1002.jpg', 'monedero_1003.jpg', 'monedero_1004.jpg', 'monedero_1005.jpg', 'monedero_1006.jpg', 'monedero_1007.jpg', 'monedero_1008.jpg', 'monedero_1009.jpg', 'monedero_1010.jpg', 'monedero_1011.jpg', 'monedero_1012.jpg', 'monedero_1013.jpg', 'monedero_1014.jpg', 'monedero_1015.jpg', 'monedero_1016.jpg', 'monedero_1017.jpg', 'monedero_1018.jpg', 'monedero_1019.jpg', 'monedero_1020.jpg', 'monedero_1021.jpg', 'monedero_1022.jpg', 'monedero_1023.jpg', 'monedero_1024.jpg', 'monedero_1025.jpg', 'monedero_1026.jpg', 'monedero_1027.jpg', 'monedero_1028.jpg', 'monedero_1029.jpg', 'monedero_1030.jpg', 'monedero_1031.jpg', 'monedero_1032.jpg', 'monedero_1034.jpg', 'monedero_1035.jpg', 'monedero_1036.jpg', 'monedero_1037.jpg', 'monedero_1038.jpg', 'monedero_1039.jpg', 'monedero_1040.jpg', 'monedero_1041.jpg', 'monedero_1042.jpg', 'monedero_1043.jpg', 'monedero_1044.jpg', 'monedero_1045.jpg', 'monedero_1046.jpg', 'monedero_1048.jpg', 'monedero_1049.jpg', 'monedero_1050.jpg', 'monedero_1051.jpg', 'monedero_1052.jpg', 'monedero_1053.jpg', 'monedero_1055.jpg', 'monedero_1056.jpg', 'monedero_1058.jpg', 'monedero_1060.jpg', 'monedero_1061.jpg', 'monedero_1062.jpg', 'monedero_1065.jpg', 'monedero_1066.jpg', 'monedero_1067.jpg', 'monedero_1068.jpg', 'monedero_1069.jpg', 'monedero_1070.jpg', 'monedero_1071.jpg', 'monedero_1072.jpg', 'monedero_1073.jpg', 'monedero_1074.jpg', 'monedero_1075.jpg', 'monedero_1076.jpg', 'monedero_1077.jpg', 'monedero_1078.jpg', 'monedero_1081.jpg', 'monedero_1082.jpg', 'monedero_1084.jpg', 'monedero_1085.jpg', 'monedero_1087.jpg', 'monedero_1088.jpg', 'monedero_1089.jpg', 'monedero_1092.jpg', 'monedero_1093.jpg', 'monedero_1097.jpg', 'monedero_1098.jpg', 'monedero_1099.jpg', 'monedero_1100.jpg', 'monedero_1101.jpg', 'monedero_1103.jpg', 'monedero_1104.jpg', 'monedero_1105.jpg', 'monedero_1106.jpg', 'monedero_1107.jpg', 'monedero_1108.jpg', 'monedero_1109.jpg', 'monedero_1110.jpg', 'monedero_1111.jpg', 'monedero_1112.jpg', 'monedero_1113.jpg', 'monedero_1114.jpg', 'monedero_1115.jpg', 'monedero_1116.jpg', 'monedero_1117.jpg', 'monedero_1118.jpg', 'monedero_1119.jpg', 'monedero_1120.jpg', 'monedero_1121.jpg', 'monedero_1122.jpg', 'monedero_1123.jpg', 'monedero_1124.jpg', 'monedero_1125.jpg', 'monedero_1162.jpg', 'monedero_1168.jpg', 'monedero_1170.jpg', 'monedero_1171.jpg', 'monedero_1175.jpg', 'monedero_1176.jpg', 'monedero_1177.jpg', 'monedero_1179.jpg', 'monedero_1183.jpg', 'monedero_1196.JPG', 'monedero_1198.JPG', 'monedero_1199.JPG', 'monedero_1200.JPG', 'monedero_1201.JPG', 'monedero_1203.JPG', 'monedero_1204.JPG', 'monedero_1205.JPG', 'monedero_1207.JPG', 'monedero_1208.JPG', 'monedero_1209.JPG', 'monedero_1210.JPG', 'monedero_1211.JPG', 'monedero_1212.JPG', 'monedero_1213.JPG', 'monedero_1214.JPG', 'monedero_1215.JPG', 'monedero_1216.JPG', 'monedero_1218.JPG', 'monedero_1219.JPG', 'monedero_1220.JPG', 'monedero_1221.JPG', 'monedero_1222.JPG', 'monedero_1223.JPG', 'monedero_1224.JPG', 'monedero_1225.JPG', 'monedero_1226.JPG', 'monedero_1227.JPG', 'monedero_1228.JPG', 'monedero_1229.JPG', 'monedero_1231.JPG', 'monedero_1232.JPG', 'monedero_1234.jpg', 'monedero_1289.jpg', 'monedero_1291.jpg', 'monedero_1292.jpg', 'monedero_1295.jpg', 'monedero_1298.jpg', 'monedero_1309.jpg', 'monedero_1310.jpg', 'monedero_1311.jpg', 'monedero_1312.jpg', 'monedero_1320.jpg', 'monedero_1321.jpg', 'monedero_1322.jpg', 'monedero_1323.jpg', 'monedero_1324.jpg', 'monedero_1325.jpg', 'monedero_1326.jpg', 'monedero_1327.jpg', 'monedero_1328.jpg', 'monedero_1329.jpg', 'monedero_1330.jpg', 'monedero_1331.jpg', 'monedero_1332.jpg', 'monedero_1333.jpg', 'monedero_1334.jpg', 'monedero_1335.jpg', 'monedero_1336.jpg', 'monedero_1337.jpg', 'monedero_1338.jpg', 'monedero_1339.jpg', 'monedero_1340.jpg', 'monedero_1341.jpg', 'monedero_1342.jpg', 'monedero_1343.jpg', 'monedero_1344.jpg', 'monedero_1345.jpg', 'monedero_1346.jpg', 'monedero_1347.jpg', 'monedero_1348.jpg', 'monedero_1349.jpg', 'monedero_1350.jpg', 'monedero_1351.jpg', 'monedero_1352.jpg', 'monedero_1353.jpg', 'monedero_1354.jpg', 'monedero_1355.jpg', 'monedero_1356.jpg', 'monedero_1357.jpg', 'monedero_1358.jpg', 'monedero_1359.jpg', 'monedero_1360.jpeg', 'monedero_1361.jpeg', 'monedero_1362.jpg', 'monedero_1363.jpg', 'monedero_1364.jpg', 'monedero_1365.jpeg', 'monedero_1366.jpg', 'monedero_1367.jpg', 'monedero_1368.jpg', 'monedero_1369.jpg', 'monedero_1370.jpg', 'monedero_1371.jpeg', 'monedero_1372.jpg', 'monedero_1373.jpg', 'monedero_1374.jpg', 'monedero_1375.jpg', 'monedero_1376.jpg', 'monedero_1377.jpg', 'monedero_1378.jpg', 'monedero_1379.jpg', 'monedero_1380.jpg', 'monedero_1381.jpg', 'monedero_1382.jpg', 'monedero_1383.jpg', 'monedero_1384.jpg', 'monedero_1386.jpg', 'monedero_1387.jpg', 'monedero_1388.jpg', 'monedero_1389.jpg', 'monedero_1390.jpg', 'monedero_1391.jpg', 'monedero_1392.jpg', 'monedero_1393.jpg', 'monedero_1394.jpg', 'monedero_1395.jpg', 'monedero_1396.jpg', 'monedero_1397.jpg', 'monedero_1398.jpg', 'monedero_1399.jpg', 'monedero_1400.jpg', 'monedero_1401.jpg', 'monedero_1402.jpg', 'monedero_1403.jpg', 'monedero_1404.jpg', 'monedero_1405.jpg', 'monedero_1406.jpg', 'monedero_1407.jpg', 'monedero_1408.jpeg', 'monedero_1409.jpg', 'monedero_1410.jpg', 'monedero_1411.jpg', 'monedero_1412.jpg', 'monedero_1413.jpg', 'monedero_1414.jpeg', 'monedero_1417.jpg', 'monedero_1418.jpg', 'monedero_1419.jpg', 'monedero_1420.jpg', 'monedero_1421.jpg', 'monedero_1422.jpg', 'monedero_1423.jpg', 'monedero_1424.jpg', 'monedero_1425.jpg', 'monedero_1426.jpg', 'monedero_1427.jpg', 'monedero_1428.jpg', 'monedero_1429.jpg', 'monedero_1430.jpg', 'monedero_1431.jpg', 'monedero_1432.jpg', 'monedero_1433.jpg', 'monedero_1434.jpg', 'monedero_1435.jpg', 'monedero_1436.jpg', 'monedero_1437.jpg', 'monedero_1438.jpg', 'monedero_1439.jpg', 'monedero_1440.jpg', 'monedero_1441.jpg', 'monedero_1442.jpg', 'monedero_1443.jpg', 'monedero_1444.jpg', 'monedero_1445.jpg', 'monedero_1446.jpg', 'monedero_1447.jpg', 'monedero_1448.jpg', 'monedero_1449.jpg', 'monedero_1450.jpg', 'monedero_1451.jpg', 'monedero_1452.jpeg', 'monedero_1453.JPG', 'monedero_1454.JPG', 'monedero_1455.jpg', 'monedero_1456.jpg', 'monedero_1457.jpg', 'monedero_1458.jpg', 'monedero_1459.jpg', 'monedero_1460.jpg', 'monedero_1461.jpg', 'monedero_1462.JPG', 'monedero_1463.jpg', 'monedero_1464.jpg', 'monedero_1465.jpg', 'monedero_1466.jpg', 'monedero_1468.jpg', 'monedero_1469.jpg', 'monedero_1470.jpg', 'monedero_1471.jpg', 'monedero_1472.jpg', 'monedero_1473.jpg', 'monedero_1474.jpg', 'monedero_1475.jpg', 'monedero_1476.jpg', 'monedero_1477.jpg', 'monedero_1478.jpg', 'monedero_1479.jpg', 'monedero_1480.jpg', 'monedero_1481.jpg', 'monedero_1482.jpg', 'monedero_1483.jpg', 'monedero_1484.jpg', 'monedero_1485.jpg', 'monedero_1486.jpg', 'monedero_1487.jpg', 'monedero_1488.jpg', 'monedero_1489.jpg', 'monedero_1490.jpg', 'monedero_1491.jpg', 'monedero_1492.jpg', 'monedero_1493.jpg', 'monedero_1494.jpg', 'monedero_1495.jpg', 'monedero_1496.jpg', 'monedero_1497.jpg', 'monedero_1498.jpg', 'monedero_1499.jpg', 'monedero_1570.jpg', 'monedero_1572.jpg', 'monedero_1574.jpg', 'monedero_1576.jpg', 'monedero_1578.jpg', 'monedero_1580.jpg', 'monedero_1582.jpg', 'monedero_1584.jpg', 'monedero_1586.jpg', 'monedero_1588.jpg', 'monedero_1589.jpg', 'monedero_1590.jpg', 'monedero_1591.jpg', 'monedero_1592.jpg', 'monedero_1593.jpg', 'monedero_1594.jpg', 'monedero_1595.jpg', 'monedero_1596.jpg', 'monedero_1597.jpg', 'monedero_1598.jpg', 'monedero_1599.jpg', 'monedero_1600.jpg', 'monedero_1601.jpg', 'monedero_1602.jpg', 'monedero_1603.jpg', 'monedero_1604.jpg', 'monedero_1605.jpg', 'monedero_1606.jpg', 'monedero_1607.jpg', 'monedero_1608.jpg', 'monedero_1609.jpg', 'monedero_1610.jpg', 'monedero_1611.jpg', 'monedero_1612.jpg', 'monedero_1613.jpg', 'monedero_1614.jpg', 'monedero_1615.jpg', 'monedero_1616.jpg', 'monedero_1617.jpg', 'monedero_1618.jpg', 'monedero_1619.jpg', 'monedero_1620.jpg', 'monedero_1621.jpg', 'monedero_1622.jpg', 'monedero_1623.jpg', 'monedero_1624.jpg', 'monedero_1625.jpg', 'monedero_1626.jpg', 'monedero_1627.jpg', 'monedero_1628.jpg', 'monedero_1629.jpg', 'monedero_1630.jpg', 'monedero_1631.jpg', 'monedero_1632.jpg', 'monedero_1633.jpg', 'monedero_1634.jpg', 'monedero_1635.jpg', 'monedero_1636.jpg', 'monedero_1637.jpg', 'monedero_1638.jpg', 'monedero_1639.jpg', 'monedero_1640.jpg', 'monedero_1641.jpg', 'monedero_1642.jpg', 'monedero_1643.jpg', 'monedero_1644.jpg', 'monedero_1645.jpg', 'monedero_1646.jpg', 'monedero_1647.jpg', 'monedero_1648.jpg', 'monedero_1649.jpg', 'monedero_1650.jpg', 'monedero_1651.jpg', 'monedero_1652.jpg', 'monedero_1653.jpg', 'monedero_1654.jpg', 'monedero_1655.jpg', 'monedero_1656.jpg', 'monedero_1657.jpg', 'monedero_1660.jpg', 'monedero_1661.jpg', 'monedero_1662.jpg', 'monedero_1663.jpg', 'monedero_1664.jpg', 'monedero_1665.jpg', 'monedero_1666.jpg', 'monedero_1667.jpg', 'monedero_1668.jpg', 'monedero_1669.jpg', 'monedero_1670.jpg', 'monedero_1671.jpg', 'monedero_1672.jpg', 'monedero_1673.jpg', 'monedero_1674.jpg', 'monedero_1675.jpg', 'monedero_1676.jpg', 'monedero_1677.jpg', 'monedero_1678.jpg', 'monedero_1679.jpg', 'monedero_1680.jpg', 'monedero_1681.jpg', 'monedero_1682.jpg', 'monedero_1683.jpg', 'monedero_1684.jpg', 'monedero_1685.jpg', 'monedero_1686.jpg', 'monedero_1687.jpg', 'monedero_1688.jpg', 'monedero_1689.jpg', 'monedero_1690.jpg', 'monedero_1691.jpg', 'monedero_1692.jpg', 'monedero_1693.jpg', 'monedero_1694.jpg', 'monedero_1695.jpg', 'monedero_1696.jpg', 'monedero_1697.jpg', 'monedero_1698.jpg', 'monedero_1699.jpg', 'monedero_1700.jpg', 'monedero_1701.jpg', 'monedero_1702.jpg', 'monedero_1703.jpg', 'monedero_1704.jpg', 'monedero_1705.jpg', 'monedero_1706.jpg', 'monedero_1707.jpg', 'monedero_1708.jpg', 'monedero_1709.jpg', 'monedero_1710.jpg', 'monedero_1711.jpg', 'monedero_1712.jpg', 'monedero_1713.jpg', 'monedero_1714.jpg', 'monedero_1715.jpg', 'monedero_1716.jpg', 'monedero_1717.jpg', 'monedero_1718.jpg', 'monedero_1719.jpg', 'monedero_1720.jpg', 'monedero_1722.jpg', 'monedero_1723.jpg', 'monedero_1725.jpg', 'monedero_1726.jpg', 'monedero_1727.jpg', 'monedero_1728.jpg', 'monedero_1729.jpg', 'monedero_1730.jpg', 'monedero_1731.jpg', 'monedero_1732.jpg', 'monedero_1733.jpg', 'monedero_1734.jpg', 'monedero_1735.jpg', 'monedero_1736.jpg', 'monedero_1738.jpg', 'monedero_1739.jpg', 'monedero_1740.jpg', 'monedero_1741.jpg', 'monedero_1742.jpg', 'monedero_1743.jpg', 'monedero_1744.jpg', 'monedero_1745.jpg', 'monedero_1746.jpg', 'monedero_1747.jpg', 'monedero_1748.jpg', 'monedero_1749.jpg', 'monedero_1750.jpg', 'monedero_1751.jpg', 'monedero_1752.jpg', 'monedero_1753.jpg', 'monedero_1754.jpg', 'monedero_1755.jpg', 'monedero_1756.jpg', 'monedero_1757.jpg', 'monedero_1758.jpg', 'monedero_1759.jpg', 'monedero_1760.jpg', 'monedero_1761.jpg', 'monedero_1762.jpg', 'monedero_1763.jpg', 'monedero_1764.jpg', 'monedero_1765.jpg', 'monedero_1766.jpg', 'monedero_1767.jpg', 'monedero_1768.jpg', 'monedero_1769.jpg', 'monedero_1770.jpg', 'monedero_1771.jpg', 'monedero_1772.jpg', 'monedero_1773.jpg', 'monedero_1774.jpg', 'monedero_1775.jpg', 'monedero_1776.jpg', 'monedero_1777.jpg', 'monedero_1778.JPG', 'smartphone_0001.jpg', 'smartphone_0002.jpg', 'smartphone_0003.jpg', 'smartphone_0004.jpg', 'smartphone_0005.jpg', 'smartphone_0006.jpg', 'smartphone_0007.jpg', 'smartphone_0008.jpg', 'smartphone_0009.jpg', 'smartphone_0010.jpg', 'smartphone_0011.jpg', 'smartphone_0012.jpg', 'smartphone_0013.jpg', 'smartphone_0014.jpg', 'smartphone_0015.jpg', 'smartphone_0016.jpg', 'smartphone_0017.jpg', 'smartphone_0019.jpg', 'smartphone_0020.jpg', 'smartphone_0021.jpg', 'smartphone_0022.jpg', 'smartphone_0023.jpg', 'smartphone_0024.jpg', 'smartphone_0025.jpg', 'smartphone_0026.jpg', 'smartphone_0027.jpg', 'smartphone_0028.jpg', 'smartphone_0029.jpg', 'smartphone_0030.jpg', 'smartphone_0031.jpg', 'smartphone_0032.jpg', 'smartphone_0033.jpg', 'smartphone_0034.jpg', 'smartphone_0035.jpg', 'smartphone_0036.jpg', 'smartphone_0037.jpg', 'smartphone_0038.jpg', 'smartphone_0039.jpg', 'smartphone_0040.jpg', 'smartphone_0041.jpg', 'smartphone_0042.jpg', 'smartphone_0043.jpg', 'smartphone_0045.jpg', 'smartphone_0046.jpg', 'smartphone_0047.jpg', 'smartphone_0048.jpg', 'smartphone_0049.jpg', 'smartphone_0053.jpg', 'smartphone_0054.jpg', 'smartphone_0055.jpg', 'smartphone_0056.jpg', 'smartphone_0057.jpg', 'smartphone_0058.jpg', 'smartphone_0059.jpg', 'smartphone_0060.jpg', 'smartphone_0061.jpg', 'smartphone_0063.jpg', 'smartphone_0064.jpg', 'smartphone_0065.jpg', 'smartphone_0066.jpg', 'smartphone_0068.jpg', 'smartphone_0069.jpg', 'smartphone_0071.jpg', 'smartphone_0072.jpg', 'smartphone_0073.jpg', 'smartphone_0074.jpg', 'smartphone_0075.jpg', 'smartphone_0077.jpg', 'smartphone_0078.jpg', 'smartphone_0079.jpg', 'smartphone_0080.jpg', 'smartphone_0081.jpg', 'smartphone_0084.jpg', 'smartphone_0085.jpg', 'smartphone_0087.jpg', 'smartphone_0088.jpg', 'smartphone_0089.jpg', 'smartphone_0090.jpg', 'smartphone_0091.jpg', 'smartphone_0092.jpg', 'smartphone_0094.jpg', 'smartphone_0095.jpg', 'smartphone_0096.jpg', 'smartphone_0097.jpg', 'smartphone_0098.jpg', 'smartphone_0099.jpg', 'smartphone_0100.jpg', 'smartphone_0101.jpg', 'smartphone_0102.jpg', 'smartphone_0103.jpg', 'smartphone_0104.jpg', 'smartphone_0105.jpg', 'smartphone_0106.jpg', 'smartphone_0108.jpg', 'smartphone_0110.jpg', 'smartphone_0113.jpg', 'smartphone_0114.jpg', 'smartphone_0115.jpg', 'smartphone_0116.jpg', 'smartphone_0117.jpg', 'smartphone_0118.jpg', 'smartphone_0119.jpg', 'smartphone_0120.jpg', 'smartphone_0121.jpg', 'smartphone_0122.jpg', 'smartphone_0123.jpg', 'smartphone_0124.jpg', 'smartphone_0125.jpg', 'smartphone_0126.jpg', 'smartphone_0128.jpg', 'smartphone_0129.jpg', 'smartphone_0130.jpg', 'smartphone_0131.jpg', 'smartphone_0132.jpg', 'smartphone_0133.jpg', 'smartphone_0134.jpg', 'smartphone_0135.jpg', 'smartphone_0136.jpg', 'smartphone_0137.jpg', 'smartphone_0138.jpg', 'smartphone_0139.jpg', 'smartphone_0140.jpg', 'smartphone_0141.jpg', 'smartphone_0142.jpg', 'smartphone_0143.jpg', 'smartphone_0144.jpg', 'smartphone_0145.jpg', 'smartphone_0146.jpg', 'smartphone_0148.jpg', 'smartphone_0149.jpg', 'smartphone_0150.jpg', 'smartphone_0151.jpg', 'smartphone_0153.jpg', 'smartphone_0154.jpg', 'smartphone_0155.jpg', 'smartphone_0156.jpg', 'smartphone_0157.jpg', 'smartphone_0158.jpg', 'smartphone_0159.jpg', 'smartphone_0160.jpg', 'smartphone_0161.jpg', 'smartphone_0162.jpg', 'smartphone_0164.jpg', 'smartphone_0165.jpg', 'smartphone_0166.jpg', 'smartphone_0167.jpg', 'smartphone_0168.jpg', 'smartphone_0170.jpg', 'smartphone_0172.jpg', 'smartphone_0173.jpg', 'smartphone_0174.jpg', 'smartphone_0175.jpg', 'smartphone_0176.jpg', 'smartphone_0177.jpg', 'smartphone_0178.jpg', 'smartphone_0179.jpg', 'smartphone_0180.jpg', 'smartphone_0181.jpg', 'smartphone_0182.jpg', 'smartphone_0183.jpg', 'smartphone_0184.jpg', 'smartphone_0185.jpg', 'smartphone_0186.jpg', 'smartphone_0188.jpg', 'smartphone_0189.jpg', 'smartphone_0190.jpg', 'smartphone_0191.jpg', 'smartphone_0192.jpg', 'smartphone_0193.jpg', 'smartphone_0194.jpg', 'smartphone_0195.jpg', 'smartphone_0196.jpg', 'smartphone_0197.jpg', 'smartphone_0198.jpg', 'smartphone_0199.jpg', 'smartphone_0201.jpg', 'smartphone_0203.jpg', 'smartphone_0204.jpg', 'smartphone_0205.jpg', 'smartphone_0206.jpg', 'smartphone_0207.jpg', 'smartphone_0208.jpg', 'smartphone_0209.jpg', 'smartphone_0210.jpg', 'smartphone_0211.jpg', 'smartphone_0212.jpg', 'smartphone_0213.jpg', 'smartphone_0214.jpg', 'smartphone_0215.jpg', 'smartphone_0216.jpg', 'smartphone_0217.jpg', 'smartphone_0218.jpg', 'smartphone_0219.jpg', 'smartphone_0220.jpg', 'smartphone_0221.jpg', 'smartphone_0222.jpg', 'smartphone_0224.jpg', 'smartphone_0225.jpg', 'smartphone_0226.jpg', 'smartphone_0227.jpg', 'smartphone_0228.jpg', 'smartphone_0229.jpg', 'smartphone_0230.jpg', 'smartphone_0231.jpg', 'smartphone_0232.jpg', 'smartphone_0233.jpg', 'smartphone_0234.jpg', 'smartphone_0235.jpg', 'smartphone_0236.jpg', 'smartphone_0238.jpg', 'smartphone_0239.jpg', 'smartphone_0240.jpg', 'smartphone_0242.jpg', 'smartphone_0243.jpg', 'smartphone_0244.jpg', 'smartphone_0245.jpg', 'smartphone_0246.jpg', 'smartphone_0247.jpg', 'smartphone_0248.jpg', 'smartphone_0249.jpg', 'smartphone_0250.jpg', 'smartphone_0251.jpg', 'smartphone_0252.jpg', 'smartphone_0253.jpg', 'smartphone_0254.jpg', 'smartphone_0255.jpg', 'smartphone_0256.jpg', 'smartphone_0257.jpg', 'smartphone_0258.jpg', 'smartphone_0259.jpg', 'smartphone_0260.jpg', 'smartphone_0262.jpg', 'smartphone_0263.jpg', 'smartphone_0264.jpg', 'smartphone_0265.jpg', 'smartphone_0266.jpg', 'smartphone_0267.jpg', 'smartphone_0273.jpg', 'smartphone_0274.jpg', 'smartphone_0275.jpg', 'smartphone_0276.jpg', 'smartphone_0278.jpg', 'smartphone_0279.jpg', 'smartphone_0280.jpg', 'smartphone_0281.jpg', 'smartphone_0282.jpg', 'smartphone_0283.jpg', 'smartphone_0285.jpg', 'smartphone_0286.jpg', 'smartphone_0287.jpg', 'smartphone_0288.jpg', 'smartphone_0289.jpg', 'smartphone_0290.jpg', 'smartphone_0291.jpg', 'smartphone_0293.jpg', 'smartphone_0294.jpg', 'smartphone_0295.jpg', 'smartphone_0296.jpg', 'smartphone_0297.jpg', 'smartphone_0299.jpg', 'smartphone_0301.jpg', 'smartphone_0302.jpg', 'smartphone_0303.jpg', 'smartphone_0304.jpg', 'smartphone_0306.jpg', 'smartphone_0307.jpg', 'smartphone_0308.jpg', 'smartphone_0309.jpg', 'smartphone_0310.jpg', 'smartphone_0311.jpg', 'smartphone_0312.jpg', 'smartphone_0313.jpg', 'smartphone_0314.jpg', 'smartphone_0315.jpg', 'smartphone_0316.jpg', 'smartphone_0317.jpg', 'smartphone_0318.jpg', 'smartphone_0319.jpg', 'smartphone_0320.jpg', 'smartphone_0321.jpg', 'smartphone_0322.jpg', 'smartphone_0323.jpg', 'smartphone_0324.jpg', 'smartphone_0325.jpg', 'smartphone_0326.jpg', 'smartphone_0327.jpg', 'smartphone_0328.jpg', 'smartphone_0329.jpg', 'smartphone_0331.jpg', 'smartphone_0333.jpg', 'smartphone_0334.jpg', 'smartphone_0335.jpg', 'smartphone_0337.jpg', 'smartphone_0339.jpg', 'smartphone_0340.jpg', 'smartphone_0341.jpg', 'smartphone_0342.jpg', 'smartphone_0343.jpg', 'smartphone_0344.jpg', 'smartphone_0345.jpg', 'smartphone_0346.jpg', 'smartphone_0348.jpg', 'smartphone_0350.jpg', 'smartphone_0351.jpg', 'smartphone_0353.jpg', 'smartphone_0354.jpg', 'smartphone_0356.jpg', 'smartphone_0357.jpg', 'smartphone_0358.jpg', 'smartphone_0360.jpg', 'smartphone_0361.jpg', 'smartphone_0362.jpg', 'smartphone_0363.jpg', 'smartphone_0364.jpg', 'smartphone_0366.jpg', 'smartphone_0367.jpg', 'smartphone_0368.jpg', 'smartphone_0369.jpg', 'smartphone_0370.jpg', 'smartphone_0371.jpg', 'smartphone_0373.jpg', 'smartphone_0374.jpg', 'smartphone_0375.jpg', 'smartphone_0376.jpg', 'smartphone_0377.jpg', 'smartphone_0378.jpg', 'smartphone_0380.jpg', 'smartphone_0381.jpg', 'smartphone_0382.jpg', 'smartphone_0383.jpg', 'smartphone_0384.jpg', 'smartphone_0385.jpg', 'smartphone_0386.jpg', 'smartphone_0387.jpg', 'smartphone_0388.jpg', 'smartphone_0389.jpg', 'smartphone_0390.jpg', 'smartphone_0391.jpg', 'smartphone_0392.jpg', 'smartphone_0394.jpg', 'smartphone_0395.jpg', 'smartphone_0396.jpg', 'smartphone_0398.jpg', 'smartphone_0399.jpg', 'smartphone_0400.jpg', 'smartphone_0401.jpg', 'smartphone_0402.jpg', 'smartphone_0403.jpg', 'smartphone_0405.jpg', 'smartphone_0406.jpg', 'smartphone_0407.jpg', 'smartphone_0408.jpg', 'smartphone_0409.jpg', 'smartphone_0411.jpg', 'smartphone_0412.jpg', 'smartphone_0413.jpg', 'smartphone_0414.jpg', 'smartphone_0415.jpg', 'smartphone_0416.jpg', 'smartphone_0418.jpg', 'smartphone_0419.jpg', 'smartphone_0422.jpg', 'smartphone_0423.jpg', 'smartphone_0424.jpg', 'smartphone_0425.jpg', 'smartphone_0426.jpg', 'smartphone_0427.jpg', 'smartphone_0428.jpg', 'smartphone_0429.jpg', 'smartphone_0430.jpg', 'smartphone_0431.jpg', 'smartphone_0433.jpg', 'smartphone_0434.jpg', 'smartphone_0435.jpg', 'smartphone_0436.jpg', 'smartphone_0438.jpg', 'smartphone_0439.jpg', 'smartphone_0441.jpg', 'smartphone_0442.jpg', 'smartphone_0443.jpg', 'smartphone_0444.jpg', 'smartphone_0445.jpg', 'smartphone_0446.jpg', 'smartphone_0448.jpg', 'smartphone_0449.jpg', 'smartphone_0452.jpg', 'smartphone_0453.jpg', 'smartphone_0454.jpg', 'smartphone_0458.jpg', 'smartphone_0459.jpg', 'smartphone_0460.jpg', 'smartphone_0461.jpg', 'smartphone_0463.jpg', 'smartphone_0464.jpg', 'smartphone_0465.jpg', 'smartphone_0466.jpg', 'smartphone_0467.jpg', 'smartphone_0468.jpg', 'smartphone_0470.jpg', 'smartphone_0471.jpg', 'smartphone_0474.jpg', 'smartphone_0476.jpg', 'smartphone_0478.jpg', 'smartphone_0479.jpg', 'smartphone_0480.jpg', 'smartphone_0483.jpg', 'smartphone_0485.jpg', 'smartphone_0486.jpg', 'smartphone_0487.jpg', 'smartphone_0488.jpg', 'smartphone_0489.jpg', 'smartphone_0490.jpg', 'smartphone_0491.jpg', 'smartphone_0492.jpg', 'smartphone_0493.jpg', 'smartphone_0495.jpg', 'smartphone_0496.jpg', 'smartphone_0497.jpg', 'smartphone_0498.jpg', 'smartphone_0499.jpg', 'smartphone_0500.jpg', 'smartphone_0501.jpg', 'smartphone_0502.jpg', 'smartphone_0503.jpg', 'smartphone_0504.jpg', 'smartphone_0505.jpg', 'smartphone_0506.jpg', 'smartphone_0507.jpg', 'smartphone_0508.jpg', 'smartphone_0523.jpg', 'smartphone_0527.jpg', 'smartphone_0529.jpg', 'smartphone_0532.jpg', 'smartphone_0534.jpg', 'smartphone_0538.jpg', 'smartphone_0541.jpg', 'smartphone_0542.jpg', 'smartphone_0545.jpg', 'smartphone_0548.jpg', 'smartphone_0551.jpg', 'smartphone_0557.jpg', 'smartphone_0560.jpg', 'smartphone_0563.jpg', 'smartphone_0565.jpg', 'smartphone_0569.jpg', 'smartphone_0581.jpg', 'smartphone_0584.jpg', 'smartphone_0589.jpg', 'smartphone_0590.jpg', 'smartphone_0594.jpg', 'smartphone_0613.jpg', 'smartphone_0618.jpg', 'smartphone_0619.jpg', 'smartphone_0635.jpg', 'smartphone_0636.jpg', 'smartphone_0644.jpg', 'smartphone_0648.jpg', 'smartphone_0654.jpg', 'smartphone_0657.jpg', 'smartphone_0660.jpg', 'smartphone_0661.jpg', 'smartphone_0662.jpg', 'smartphone_0663.jpg', 'smartphone_0666.jpg', 'smartphone_0667.jpg', 'smartphone_0668.jpg', 'smartphone_0674.jpg', 'smartphone_0677.jpg', 'smartphone_0679.jpg', 'smartphone_0680.jpg', 'smartphone_0681.jpg', 'smartphone_0682.jpg', 'smartphone_0687.jpg', 'smartphone_0691.jpg', 'smartphone_0697.jpg', 'smartphone_0700.jpg', 'smartphone_0705.jpg', 'smartphone_0708.jpg', 'smartphone_0709.jpg', 'smartphone_0721.jpg', 'smartphone_0722.jpg', 'smartphone_0724.jpg', 'smartphone_0734.jpg', 'smartphone_0736.jpg', 'smartphone_0741.jpg', 'smartphone_0742.jpg', 'smartphone_0744.jpg', 'smartphone_0747.jpg', 'smartphone_0748.jpg', 'smartphone_0754.jpg', 'smartphone_0755.jpg', 'smartphone_0757.jpg', 'smartphone_0763.jpg', 'smartphone_0770.jpg', 'smartphone_0773.jpg', 'smartphone_0774.jpg', 'smartphone_0775.jpg', 'smartphone_0776.jpg', 'smartphone_0777.jpg', 'smartphone_0786.jpg', 'smartphone_0794.jpg', 'smartphone_0796.jpg', 'smartphone_0797.jpg', 'smartphone_0799.jpg', 'smartphone_0818.JPG', 'smartphone_0819.JPG', 'smartphone_0822.JPG', 'smartphone_0824.JPG', 'smartphone_0826.JPG', 'smartphone_0827.JPG', 'smartphone_0829.JPG', 'smartphone_0831.JPG', 'smartphone_0832.JPG', 'smartphone_0833.JPG', 'smartphone_0834.JPG', 'smartphone_0835.JPG', 'smartphone_0836.JPG', 'smartphone_0837.JPG', 'smartphone_0838.JPG', 'smartphone_0839.JPG', 'smartphone_0851.JPG', 'smartphone_0855.JPG', 'smartphone_0856.JPG', 'smartphone_0858.JPG', 'smartphone_0859.JPG', 'smartphone_0860.JPG', 'smartphone_0862.JPG', 'smartphone_0863.JPG', 'smartphone_0916.jpg', 'smartphone_1066.jpg', 'smartphone_1072.jpg', 'smartphone_1073.jpg', 'smartphone_1074.jpg', 'smartphone_1075.jpg', 'smartphone_1076.jpg', 'smartphone_1077.jpg', 'smartphone_1078.jpg', 'smartphone_1079.jpg', 'smartphone_1080.jpg', 'smartphone_1081.jpg', 'smartphone_1082.jpg', 'smartphone_1083.jpg', 'smartphone_1084.jpg', 'smartphone_1085.jpg', 'smartphone_1086.jpg', 'smartphone_1087.jpg', 'smartphone_1088.jpg', 'smartphone_1089.jpg', 'smartphone_1090.jpg', 'smartphone_1091.jpg', 'smartphone_1092.jpg', 'smartphone_1093.jpg', 'smartphone_1094.jpg', 'smartphone_1095.jpg', 'smartphone_1096.jpg', 'smartphone_1097.jpg', 'smartphone_1098.jpg', 'smartphone_1100.jpg', 'smartphone_1101.jpg', 'smartphone_1102.jpg', 'smartphone_1103.jpg', 'smartphone_1104.jpg', 'smartphone_1105.jpg', 'smartphone_1106.jpg', 'smartphone_1107.jpg', 'smartphone_1108.jpg', 'smartphone_1109.jpg', 'smartphone_1110.jpg', 'smartphone_1111.jpg', 'smartphone_1112.jpg', 'smartphone_1113.jpg', 'smartphone_1114.jpg', 'smartphone_1116.jpg', 'smartphone_1117.jpg', 'smartphone_9016.jpg', 'tarjeta_2001.jpg', 'tarjeta_2002.jpg', 'tarjeta_2003.jpg', 'tarjeta_2004.jpg', 'tarjeta_2005.jpg', 'tarjeta_2006.jpg', 'tarjeta_2007.jpg', 'tarjeta_2008.jpg', 'tarjeta_2009.jpg', 'tarjeta_2011.jpg', 'tarjeta_2012.jpg', 'tarjeta_2013.jpg', 'tarjeta_2015.jpg', 'tarjeta_2016.jpg', 'tarjeta_2017.jpg', 'tarjeta_2018.jpg', 'tarjeta_2019.jpg', 'tarjeta_2020.jpg', 'tarjeta_2021.jpg', 'tarjeta_2022.jpg', 'tarjeta_2023.jpg', 'tarjeta_2025.jpg', 'tarjeta_2027.jpg', 'tarjeta_2028.jpg', 'tarjeta_2031.jpg', 'tarjeta_2032.jpg', 'tarjeta_2033.jpg', 'tarjeta_2034.jpg', 'tarjeta_2035.jpg', 'tarjeta_2036.jpg', 'tarjeta_2037.jpg', 'tarjeta_2038.jpg', 'tarjeta_2039.jpg', 'tarjeta_2040.jpg', 'tarjeta_2043.jpg', 'tarjeta_2044.jpg', 'tarjeta_2046.jpg', 'tarjeta_2047.jpg', 'tarjeta_2049.jpg', 'tarjeta_2050.jpg', 'tarjeta_2051.jpg', 'tarjeta_2052.jpg', 'tarjeta_2053.jpg', 'tarjeta_2054.jpg', 'tarjeta_2056.jpg', 'tarjeta_2059.jpg', 'tarjeta_2061.jpg', 'tarjeta_2063.jpg', 'tarjeta_2065.jpg', 'tarjeta_2067.jpg', 'tarjeta_2068.jpg', 'tarjeta_2069.jpg', 'tarjeta_2072.jpg', 'tarjeta_2076.jpg', 'tarjeta_2077.jpg', 'tarjeta_2079.jpg', 'tarjeta_2081.jpg', 'tarjeta_2083.jpg', 'tarjeta_2095.jpg', 'tarjeta_2096.jpg', 'tarjeta_2102.jpg', 'tarjeta_2107.jpg', 'tarjeta_2109.jpg', 'tarjeta_2112.jpg', 'tarjeta_2116.jpg', 'tarjeta_2119.jpg', 'tarjeta_2124.jpg', 'tarjeta_2126.jpg', 'tarjeta_2129.jpg', 'tarjeta_2193.JPG', 'tarjeta_2204.JPG', 'tarjeta_2209.JPG', 'tarjeta_2217.JPG', 'tarjeta_2220.JPG', 'tarjeta_2260.jpg', 'tarjeta_2261.jpg', 'tarjeta_2262.jpg', 'tarjeta_2263.jpg', 'tarjeta_2264.jpg', 'tarjeta_2265.jpg', 'tarjeta_2266.jpg', 'tarjeta_2267.jpg', 'tarjeta_2268.jpg', 'tarjeta_2269.jpg', 'tarjeta_2270.jpg', 'tarjeta_2271.jpg', 'tarjeta_2272.jpg', 'tarjeta_2273.jpg', 'tarjeta_2274.jpg', 'tarjeta_2275.jpg', 'tarjeta_2276.jpg', 'tarjeta_2277.jpg', 'tarjeta_2278.jpg', 'tarjeta_2279.jpg', 'tarjeta_2280.jpg', 'tarjeta_2281.jpg', 'tarjeta_2282.jpg', 'tarjeta_2283.jpg', 'tarjeta_2284.jpg', 'tarjeta_2285.jpg', 'tarjeta_2286.jpg', 'tarjeta_2287.jpg', 'tarjeta_2288.jpg', 'tarjeta_2289.jpg', 'tarjeta_2291.jpg', 'tarjeta_2292.jpg', 'tarjeta_2293.jpg', 'tarjeta_2294.jpg', 'tarjeta_2295.jpg', 'tarjeta_2296.jpg', 'tarjeta_2299.jpg', 'tarjeta_2300.jpg', 'tarjeta_2301.jpeg', 'tarjeta_2302.jpeg', 'tarjeta_2303.jpeg', 'tarjeta_2304.jpeg', 'tarjeta_2305.jpeg', 'tarjeta_2306.jpeg', 'tarjeta_2307.jpeg', 'tarjeta_2308.jpeg', 'tarjeta_2309.jpg', 'tarjeta_2310.jpg', 'tarjeta_2311.jpg', 'tarjeta_2312.jpg', 'tarjeta_2313.jpg', 'tarjeta_2314.jpeg', 'tarjeta_2315.jpg', 'tarjeta_2316.jpg', 'tarjeta_2317.jpg', 'tarjeta_2318.jpg', 'tarjeta_2319.jpg', 'tarjeta_2320.jpg', 'tarjeta_2321.jpg', 'tarjeta_2322.jpg', 'tarjeta_2323.jpg', 'tarjeta_2324.jpg', 'tarjeta_2325.jpg', 'tarjeta_2326.jpg', 'tarjeta_2327.jpg', 'tarjeta_2330.jpg', 'tarjeta_2331.jpg', 'tarjeta_2335.jpg', 'tarjeta_2336.jpg', 'tarjeta_2337.JPG', 'tarjeta_2338.jpg', 'tarjeta_2339.jpeg', 'tarjeta_2340.jpg', 'tarjeta_2341.jpg', 'tarjeta_2342.jpg', 'tarjeta_2343.jpg', 'tarjeta_2344.jpg', 'tarjeta_2345.jpg', 'tarjeta_2347.jpg', 'tarjeta_2348.jpg', 'tarjeta_2349.jpg', 'tarjeta_2350.jpg', 'tarjeta_2351.jpg', 'tarjeta_2352.jpg', 'tarjeta_2354.jpg', 'tarjeta_2355.jpg', 'tarjeta_2356.jpg', 'tarjeta_2357.jpg', 'tarjeta_2358.jpg', 'tarjeta_2359.jpg', 'tarjeta_2389.jpg', 'tarjeta_2394.jpg', 'tarjeta_2396.jpg', 'tarjeta_2398.jpg', 'tarjeta_2400.jpg', 'tarjeta_2404.jpg', 'tarjeta_2406.jpg', 'tarjeta_2420.jpg', 'tarjeta_2422.jpg', 'tarjeta_2424.jpg', 'tarjeta_2429.jpg', 'tarjeta_2430.jpg', 'tarjeta_2431.jpg', 'tarjeta_2435.jpg', 'tarjeta_2436.jpg', 'tarjeta_2437.jpg', 'tarjeta_2440.jpg', 'tarjeta_2444.jpg', 'tarjeta_2445.jpg', 'tarjeta_2446.jpg', 'tarjeta_2447.jpg', 'tarjeta_2448.jpg', 'tarjeta_2449.jpg', 'tarjeta_2452.jpg', 'tarjeta_2453.jpg', 'tarjeta_2457.jpg', 'tarjeta_2461.jpg', 'tarjeta_2465.jpg', 'tarjeta_2466.jpg', 'tarjeta_2467.jpg', 'tarjeta_2468.jpg', 'tarjeta_2469.jpg', 'tarjeta_2471.jpg', 'tarjeta_2475.jpg', 'tarjeta_2478.jpg', 'tarjeta_2482.jpg', 'tarjeta_2486.jpg', 'tarjeta_2492.jpg', 'tarjeta_2493.jpg', 'tarjeta_2494.jpg', 'tarjeta_2495.jpg', 'tarjeta_2497.jpg', 'tarjeta_2498.jpg', 'tarjeta_2499.jpg', 'tarjeta_2500.jpg', 'tarjeta_2516.jpg', 'tarjeta_2517.jpg', 'tarjeta_2518.jpg', 'tarjeta_2523.jpg', 'tarjeta_2525.jpg', 'tarjeta_2526.jpg', 'tarjeta_2527.jpg', 'tarjeta_2528.jpg', 'tarjeta_2532.jpg', 'tarjeta_2534.jpg', 'tarjeta_2535.jpg', 'tarjeta_2536.jpg', 'tarjeta_2538.jpg', 'ABbframe00154.jpg', 'ABbframe00160.jpg', 'ABbframe00166.jpg', 'ABbframe00169.jpg', 'ABbframe00190.jpg', 'ABbframe00235.jpg', 'ABbframe00265.jpg', 'ABbframe00271.jpg', 'ABbframe00274.jpg', 'ABbframe00277.jpg', 'ABbframe00280.jpg', 'ABbframe00283.jpg', 'ABbframe00286.jpg', 'ABbframe00292.jpg', 'ABbframe00295.jpg', 'ABbframe00298.jpg', 'ABbframe00301.jpg', 'ABbframe00304.jpg', 'ABbframe00313.jpg', 'ABbframe00316.jpg', 'ABbframe00319.jpg', 'ABbframe00328.jpg', 'ABbframe00346.jpg', 'ABbframe00349.jpg', 'ABbframe00370.jpg', 'ABbframe00421.jpg', 'ABbframe00430.jpg', 'ABbframe00457.jpg', 'ABmframe00127.jpg', 'ABmframe00133.jpg', 'ABmframe00142.jpg', 'ABmframe00157.jpg', 'ABmframe00163.jpg', 'ABmframe00172.jpg', 'ABmframe00211.jpg', 'ABmframe00226.jpg', 'ABmframe00271.jpg', 'ABmframe00277.jpg', 'ABmframe00289.jpg', 'ABmframe00301.jpg', 'ABmframe00313.jpg', 'ABmframe00322.jpg', 'ABmframe00412.jpg', 'ABsframe00001.jpg', 'ABsframe00004.jpg', 'ABsframe00019.jpg', 'ABsframe00064.jpg', 'ABsframe00067.jpg', 'ABsframe00094.jpg', 'ABsframe00100.jpg', 'ABsframe00133.jpg', 'ABsframe00151.jpg', 'ABsframe00184.jpg', 'ABsframe00190.jpg', 'ABsframe00214.jpg', 'ABsframe00223.jpg', 'ABsframe00241.jpg', 'ABsframe00256.jpg', 'DefenseAndSurvive02.jpg', 'DefenseAndSurvive04.jpg', 'DefenseAndSurvive05.jpg', 'DefenseAndSurvive07.jpg', 'DefenseAndSurvive09.jpg', 'DefenseAndSurvive10.jpg', 'DefenseAndSurvive11.jpg', 'DefenseKnifeAttack0002.jpg', 'DefenseKnifeAttack0027.jpg', 'DefenseKnifeAttack0030.jpg', 'DefenseKnifeAttack0051.jpg', 'DefenseKnifeAttack0052.jpg', 'DefenseKnifeAttack0053.jpg', 'DefenseKnifeAttack0059.jpg', 'DefenseKnifeAttack0071.jpg', 'DefenseKnifeAttack0091.jpg', 'DefenseKnifeAttack0093.jpg', 'DefenseKnifeAttack0095.jpg', 'DefenseKnifeAttack0098.jpg', 'DefenseKnifeAttack0122.jpg', 'DefenseKnifeAttack0132.jpg', 'DefenseKnifeAttack0135.jpg', 'DefenseKnifeAttack0142.jpg', 'DefenseKnifeAttack0161.jpg', 'DefenseKnifeAttack0166.jpg', 'DefenseKnifeAttack0167.jpg', 'DefenseKnifeAttack0173.jpg', 'DefenseKnifeAttack0177.jpg', 'DefenseKnifeAttack0187.jpg', 'DefenseKnifeAttack0198.jpg', 'DefenseKnifeAttack0202.jpg', 'DefenseKnifeAttack0209.jpg', 'DefenseKnifeAttack0216.jpg', 'DefenseKnifeAttack0219.jpg', 'DefenseKnifeAttack0221.jpg', 'DefenseKnifeAttack0225.jpg', 'DefenseKnifeAttack0239.jpg', 'DefenseKnifeAttack0300.jpg', 'DefenseKnifeAttack0335.jpg', 'DefenseKnifeAttack0337.jpg', 'DefenseKnifeAttack0338.jpg', 'DefenseKnifeAttack0342.jpg', 'DefenseKnifeAttack0344.jpg', 'DefenseKnifeAttack0359.jpg', 'DefenseKnifeAttack0362.jpg', 'DefenseKnifeAttack0364.jpg', 'DefenseKnifeAttack0366.jpg', 'DefenseKnifeAttack0373.jpg', 'DefenseKnifeAttack0377.jpg', 'DefenseKnifeAttack0393.jpg', 'DefenseKnifeAttack0401.jpg', 'DefenseKnifeAttack0419.jpg', 'DefenseKnifeAttack0423.jpg', 'DefenseKnifeAttack0426.jpg', 'DefenseKnifeAttack0428.jpg', 'DefenseKnifeAttack0452.jpg', 'DefenseKnifeAttack0456.jpg', 'DefenseKnifeAttack0475.jpg', 'DefenseKnifeAttack0496.jpg', 'DefenseKnifeAttack0500.jpg', 'DefenseKnifeAttack0501.jpg', 'DefenseKnifeAttack0502.jpg', 'DefenseKnifeAttack0509.jpg', 'DefenseKnifeAttack0511.jpg', 'DefenseKnifeAttack0517.jpg', 'DefenseKnifeAttack0563.jpg', 'DefenseKnifeAttack0567.jpg', 'DefenseKnifeAttack0666.jpg', 'DefenseKnifeAttack0667.jpg', 'DefenseKnifeAttack0668.jpg', 'DefenseKnifeAttack0681.jpg', 'DefenseKnifeAttack0700.jpg', 'DefenseKnifeAttack0705.jpg', 'DefenseKnifeAttack0731.jpg', 'DefenseKnifeAttack0756.jpg', 'DefenseKnifeAttack0762.jpg', 'DefenseKnifeAttack0779.jpg', 'DefenseKnifeAttack0782.jpg', 'DefenseKnifeAttack0792.jpg', 'DefenseKnifeAttack0795.jpg', 'DefenseKnifeAttack0809.jpg', 'DefenseKnifeAttack0824.jpg', 'DefenseKnifeAttack0838.jpg', 'DefenseKnifeAttack0842.jpg', 'DefenseKnifeAttack0864.jpg', 'DefenseKnifeAttack0886.jpg', 'DefenseKnifeAttack0898.jpg', 'DefenseKnifeAttack0912.jpg', 'DefenseKnifeAttack0940.jpg', 'DefenseKnifeAttack0942.jpg', 'DefenseKnifeAttack0984.jpg', 'DefenseKnifeAttack0986.jpg', 'DefenseKnifeAttack1007.jpg', 'DefenseKnifeAttack1008.jpg', 'DefenseKnifeAttack1071.jpg', 'DefenseKnifeAttack1102.jpg', 'DefenseKnifeAttack1113.jpg', 'DefenseKnifeAttack1123.jpg', 'DefenseKnifeAttack1190.jpg', 'DefenseKnifeAttack1213.jpg', 'DefenseKnifeAttack1217.jpg', 'DefenseKnifeAttack1222.jpg', 'DefenseKnifeAttack1246.jpg', 'DefenseKnifeAttack1290.jpg', 'DefenseKnifeAttack1310.jpg', 'DefenseKnifeAttack1312.jpg', 'DefenseKnifeAttack1315.jpg', 'DefenseKnifeAttack1318.jpg', 'DefenseKnifeAttack1322.jpg', 'DefenseKnifeAttack1327.jpg', 'DefenseKnifeAttack1420.jpg', 'DefenseKnifeAttack1422.jpg', 'DefenseKnifeAttack1427.jpg', 'DSC_0001.jpg', 'DSC_00031.jpg', 'DSC_0005.jpg', 'DSC_0007.jpg', 'DSC_00071.jpg', 'DSC_0008.jpg', 'DSC_00091.jpg', 'DSC_0012.jpg', 'DSC_0013.jpg', 'DSC_0016.jpg', 'DSC_00211.jpg', 'DSC_00221.jpg', 'DSC_0024.jpg', 'DSC_0030.jpg', 'DSC_0032.jpg', 'DSC_00341.jpg', 'DSC_0035.jpg', 'DSC_00371.jpg', 'DSC_0041.jpg', 'DSC_00411.jpg', 'DSC_0048.jpg', 'DSC_00481.jpg', 'DSC_00491.jpg', 'DSC_0050.jpg', 'DSC_00511.jpg', 'DSC_00551.jpg', 'DSC_00571.jpg', 'DSC_00601.jpg', 'DSC_0061.jpg', 'DSC_0062.jpg', 'HBbframe00121.jpg', 'HBbframe00139.jpg', 'HBbframe00166.jpg', 'HBbframe00169.jpg', 'HBbframe00175.jpg', 'HBbframe00193.jpg', 'HBbframe00205.jpg', 'HBbframe00226.jpg', 'HBbframe00241.jpg', 'HBbframe00244.jpg', 'HBbframe00253.jpg', 'HBbframe00268.jpg', 'HBbframe00295.jpg', 'HBbframe00301.jpg', 'HBbframe00307.jpg', 'HBbframe00328.jpg', 'HBbframe00346.jpg', 'HBbframe00373.jpg', 'HBbframe00379.jpg', 'HBbframe00406.jpg', 'HBbframe00448.jpg', 'HBmframe00121.jpg', 'HBmframe00139.jpg', 'HBmframe00145.jpg', 'HBmframe00157.jpg', 'HBmframe00175.jpg', 'HBmframe00190.jpg', 'HBmframe00196.jpg', 'HBmframe00205.jpg', 'HBmframe00226.jpg', 'HBmframe00241.jpg', 'HBmframe00268.jpg', 'HBmframe00280.jpg', 'HBmframe00286.jpg', 'HBmframe00301.jpg', 'HBmframe00322.jpg', 'HBmframe00355.jpg', 'HBmframe00361.jpg', 'HBmframe00370.jpg', 'HBsframe00091.jpg', 'HBsframe00097.jpg', 'HBsframe00100.jpg', 'HBsframe00127.jpg', 'HBsframe00133.jpg', 'HBsframe00151.jpg', 'HBsframe00163.jpg', 'HBsframe00175.jpg', 'HBsframe00199.jpg', 'HBsframe00217.jpg', 'HBsframe00226.jpg', 'HBsframe00247.jpg', 'HBsframe00268.jpg', 'HBsframe00364.jpg', 'HBsframe00367.jpg', 'HBsframe00373.jpg', 'HBsframe00391.jpg', 'HBsframe00418.jpg', 'HBsframe00436.jpg', 'HBsframe00448.jpg', 'KnifeDefenseKrav020.jpg', 'KnifeDefenseKrav022.jpg', 'KnifeDefenseKrav026.jpg', 'KnifeDefenseKrav030.jpg', 'KnifeDefenseKrav042.jpg', 'KnifeDefenseKrav047.jpg', 'KnifeDefenseKrav048.jpg', 'KnifeDefenseKrav054.jpg', 'KnifeDefenseKrav057.jpg', 'KnifeDefenseKrav060.jpg', 'KnifeDefenseKrav062.jpg', 'KnifeDefenseKrav184.jpg', 'KnifeDefenseKrav188.jpg', 'KnifeDefenseKrav228.jpg', 'KnifeDefenseKrav249.jpg', 'knifeDefenseTechnique011.jpg', 'knifeDefenseTechnique013.jpg', 'knifeDefenseTechnique018.jpg', 'knifeDefenseTechnique068.jpg', 'knifeDefenseTechnique069.jpg', 'knifeDefenseTechnique073.jpg', 'knifeDefenseTechnique076.jpg', 'knifeDefenseTechnique108.jpg', 'knifeDefenseTechnique109.jpg', 'knifeDefenseTechnique111.jpg', 'knife_1.jpg', 'knife_10.jpg', 'knife_100.jpg', 'knife_1001.jpg', 'knife_1003.jpg', 'knife_1006.jpg', 'knife_1008.jpg', 'knife_101.jpg', 'knife_1014.jpg', 'knife_1015.jpg', 'knife_1017.jpg', 'knife_1018.jpg', 'knife_1020.jpg', 'knife_1021.jpg', 'knife_1022.jpg', 'knife_1023.jpg', 'knife_1024.jpg', 'knife_1025.jpg', 'knife_1026.jpg', 'knife_1027.jpg', 'knife_1028.jpg', 'knife_1029.jpg', 'knife_1031.jpg', 'knife_1032.jpg', 'knife_1033.jpg', 'knife_1034.jpg', 'knife_1035.jpg', 'knife_1036.jpg', 'knife_1038.jpg', 'knife_1039.jpg', 'knife_104.jpg', 'knife_1040.jpg', 'knife_1042.jpg', 'knife_1044.jpg', 'knife_1046.jpg', 'knife_1047.jpg', 'knife_1048.jpg', 'knife_1049.jpg', 'knife_105.jpg', 'knife_1050.jpg', 'knife_1052.jpg', 'knife_1053.jpg', 'knife_1055.jpg', 'knife_1056.jpg', 'knife_1057.jpg', 'knife_1058.jpg', 'knife_1059.jpg', 'knife_106.jpg', 'knife_1061.jpg', 'knife_1062.jpg', 'knife_1064.jpg', 'knife_1065.jpg', 'knife_1066.jpg', 'knife_1068.jpg', 'knife_1069.jpg', 'knife_107.jpg', 'knife_1070.jpg', 'knife_1071.jpg', 'knife_1072.jpg', 'knife_1074.jpg', 'knife_1075.jpg', 'knife_1076.jpg', 'knife_1077.jpg', 'knife_1078.jpg', 'knife_1079.jpg', 'knife_108.jpg', 'knife_1080.jpg', 'knife_1081.jpg', 'knife_1082.jpg', 'knife_1083.jpg', 'knife_1086.jpg', 'knife_1089.jpg', 'knife_109.jpg', 'knife_1090.jpg', 'knife_1091.jpg', 'knife_1094.jpg', 'knife_1095.jpg', 'knife_1096.jpg', 'knife_1097.jpg', 'knife_1099.jpg', 'knife_11.jpg', 'knife_1100.jpg', 'knife_1103.jpg', 'knife_1104.jpg', 'knife_1105.jpg', 'knife_1106.jpg', 'knife_1107.jpg', 'knife_1108.jpg', 'knife_1109.jpg', 'knife_1110.jpg', 'knife_1111.jpg', 'knife_1112.jpg', 'knife_1113.jpg', 'knife_1114.jpg', 'knife_1115.jpg', 'knife_1118.jpg', 'knife_1119.jpg', 'knife_112.jpg', 'knife_1120.jpg', 'knife_1121.jpg', 'knife_1123.jpg', 'knife_1124.jpg', 'knife_1125.jpg', 'knife_1126.jpg', 'knife_1128.jpg', 'knife_1129.jpg', 'knife_1130.jpg', 'knife_1131.jpg', 'knife_1132.jpg', 'knife_1133.jpg', 'knife_1134.jpg', 'knife_1135.jpg', 'knife_1138.jpg', 'knife_1139.jpg', 'knife_114.jpg', 'knife_1140.jpg', 'knife_1141.jpg', 'knife_1142.jpg', 'knife_1143.jpg', 'knife_1145.jpg', 'knife_1146.jpg', 'knife_1147.jpg', 'knife_1148.jpg', 'knife_1149.jpg', 'knife_1150.jpg', 'knife_1151.jpg', 'knife_1152.jpg', 'knife_1154.jpg', 'knife_1155.jpg', 'knife_1156.jpg', 'knife_1158.jpg', 'knife_1159.jpg', 'knife_116.jpg', 'knife_1160.jpg', 'knife_1161.jpg', 'knife_1162.jpg', 'knife_1163.jpg', 'knife_1165.jpg', 'knife_1167.jpg', 'knife_1169.jpg', 'knife_117.jpg', 'knife_1170.jpg', 'knife_1172.jpg', 'knife_1174.jpg', 'knife_1175.jpg', 'knife_1176.jpg', 'knife_1177.jpg', 'knife_1178.jpg', 'knife_1179.jpg', 'knife_118.jpg', 'knife_1180.jpg', 'knife_1181.jpg', 'knife_1182.jpg', 'knife_1183.jpg', 'knife_1184.jpg', 'knife_1185.jpg', 'knife_1187.jpg', 'knife_1188.jpg', 'knife_1189.jpg', 'knife_119.jpg', 'knife_1191.jpg', 'knife_1192.jpg', 'knife_1193.jpg', 'knife_1194.jpg', 'knife_1195.jpg', 'knife_1196.jpg', 'knife_1197.jpg', 'knife_1198.jpg', 'knife_1199.jpg', 'knife_12.jpg', 'knife_120.jpg', 'knife_1200.jpg', 'knife_1201.jpg', 'knife_1202.jpg', 'knife_1203.jpg', 'knife_1204.jpg', 'knife_1205.jpg', 'knife_1206.jpg', 'knife_1207.jpg', 'knife_1208.jpg', 'knife_121.jpg', 'knife_1210.jpg', 'knife_1211.jpg', 'knife_1213.jpg', 'knife_1216.jpg', 'knife_1217.jpg', 'knife_1219.jpg', 'knife_122.jpg', 'knife_1220.jpg', 'knife_1221.jpg', 'knife_1222.jpg', 'knife_1223.jpg', 'knife_1224.jpg', 'knife_1225.jpg', 'knife_1226.jpg', 'knife_1227.jpg', 'knife_1228.jpg', 'knife_1229.jpg', 'knife_1230.jpg', 'knife_1231.jpg', 'knife_1232.jpg', 'knife_1233.jpg', 'knife_1234.jpg', 'knife_1235.jpg', 'knife_1238.jpg', 'knife_124.jpg', 'knife_1240.jpg', 'knife_1241.jpg', 'knife_1243.jpg', 'knife_1244.jpg', 'knife_1245.jpg', 'knife_1246.jpg', 'knife_1247.jpg', 'knife_1248.jpg', 'knife_1249.jpg', 'knife_125.jpg', 'knife_1250.jpg', 'knife_1251.jpg', 'knife_1252.jpg', 'knife_1254.jpg', 'knife_1255.jpg', 'knife_1256.jpg', 'knife_1257.jpg', 'knife_1259.jpg', 'knife_126.jpg', 'knife_1260.jpg', 'knife_1262.jpg', 'knife_1263.jpg', 'knife_1264.jpg', 'knife_1265.jpg', 'knife_1266.jpg', 'knife_1267.jpg', 'knife_1269.jpg', 'knife_127.jpg', 'knife_1271.jpg', 'knife_1273.jpg', 'knife_1274.jpg', 'knife_1275.jpg', 'knife_1276.jpg', 'knife_1277.jpg', 'knife_1278.jpg', 'knife_1279.jpg', 'knife_128.jpg', 'knife_1280.jpg', 'knife_1281.jpg', 'knife_1282.jpg', 'knife_1283.jpg', 'knife_1284.jpg', 'knife_1285.jpg', 'knife_129.jpg', 'knife_1290.jpg', 'knife_1291.jpg', 'knife_1292.jpg', 'knife_1294.jpg', 'knife_1295.jpg', 'knife_1296.jpg', 'knife_1299.jpg', 'knife_1300.jpg', 'knife_1301.jpg', 'knife_1302.jpg', 'knife_1303.jpg', 'knife_1304.jpg', 'knife_1305.jpg', 'knife_1306.jpg', 'knife_1307.jpg', 'knife_1309.jpg', 'knife_131.jpg', 'knife_1310.jpg', 'knife_1311.jpg', 'knife_1312.jpg', 'knife_1313.jpg', 'knife_1316.jpg', 'knife_1317.jpg', 'knife_1319.jpg', 'knife_1320.jpg', 'knife_1321.jpg', 'knife_1322.jpg', 'knife_1324.jpg', 'knife_1325.jpg', 'knife_1326.jpg', 'knife_1327.jpg', 'knife_1328.jpg', 'knife_1329.jpg', 'knife_133.jpg', 'knife_1330.jpg', 'knife_1331.jpg', 'knife_1334.jpg', 'knife_1335.jpg', 'knife_1336.jpg', 'knife_1337.jpg', 'knife_1338.jpg', 'knife_1339.jpg', 'knife_134.jpg', 'knife_1340.jpg', 'knife_1342.jpg', 'knife_1343.jpg', 'knife_1344.jpg', 'knife_1346.jpg', 'knife_1347.jpg', 'knife_1348.jpg', 'knife_1349.jpg', 'knife_1350.jpg', 'knife_136.jpg', 'knife_137.jpg', 'knife_14.jpg', 'knife_140.jpg', 'knife_141.jpg', 'knife_142.jpg', 'knife_143.jpg', 'knife_144.jpg', 'knife_146.jpg', 'knife_147.jpg', 'knife_148.jpg', 'knife_149.jpg', 'knife_15.jpg', 'knife_151.jpg', 'knife_152.jpg', 'knife_153.jpg', 'knife_154.jpg', 'knife_155.jpg', 'knife_156.jpg', 'knife_157.jpg', 'knife_158.jpg', 'knife_159.jpg', 'knife_162.jpg', 'knife_164.jpg', 'knife_165.jpg', 'knife_166.jpg', 'knife_168.jpg', 'knife_169.jpg', 'knife_17.jpg', 'knife_170.jpg', 'knife_171.jpg', 'knife_172.jpg', 'knife_174.jpg', 'knife_175.jpg', 'knife_176.jpg', 'knife_177.jpg', 'knife_178.jpg', 'knife_179.jpg', 'knife_18.jpg', 'knife_180.jpg', 'knife_181.jpg', 'knife_183.jpg', 'knife_184.jpg', 'knife_186.jpg', 'knife_187.jpg', 'knife_188.jpg', 'knife_189.jpg', 'knife_19.jpg', 'knife_190.jpg', 'knife_191.jpg', 'knife_192.jpg', 'knife_197.jpg', 'knife_198.jpg', 'knife_199.jpg', 'knife_2.jpg', 'knife_20.jpg', 'knife_200.jpg', 'knife_201.jpg', 'knife_202.jpg', 'knife_203.jpg', 'knife_204.jpg', 'knife_205.jpg', 'knife_206.jpg', 'knife_207.jpg', 'knife_208.jpg', 'knife_209.jpg', 'knife_21.jpg', 'knife_210.jpg', 'knife_211.jpg', 'knife_212.jpg', 'knife_213.jpg', 'knife_214.jpg', 'knife_215.jpg', 'knife_216.jpg', 'knife_217.jpg', 'knife_218.jpg', 'knife_219.jpg', 'knife_22.jpg', 'knife_220.jpg', 'knife_222.jpg', 'knife_223.jpg', 'knife_224.jpg', 'knife_225.jpg', 'knife_226.jpg', 'knife_228.jpg', 'knife_229.jpg', 'knife_23.jpg', 'knife_230.jpg', 'knife_232.jpg', 'knife_233.jpg', 'knife_234.jpg', 'knife_237.jpg', 'knife_238.jpg', 'knife_239.jpg', 'knife_24.jpg', 'knife_240.jpg', 'knife_241.jpg', 'knife_242.jpg', 'knife_243.jpg', 'knife_244.jpg', 'knife_245.jpg', 'knife_246.jpg', 'knife_248.jpg', 'knife_249.jpg', 'knife_250.jpg', 'knife_251.jpg', 'knife_253.jpg', 'knife_255.jpg', 'knife_258.jpg', 'knife_260.jpg', 'knife_261.jpg', 'knife_262.jpg', 'knife_263.jpg', 'knife_264.jpg', 'knife_265.jpg', 'knife_266.jpg', 'knife_267.jpg', 'knife_269.jpg', 'knife_270.jpg', 'knife_273.jpg', 'knife_274.jpg', 'knife_275.jpg', 'knife_276.jpg', 'knife_277.jpg', 'knife_278.jpg', 'knife_279.jpg', 'knife_28.jpg', 'knife_281.jpg', 'knife_283.jpg', 'knife_284.jpg', 'knife_285.jpg', 'knife_286.jpg', 'knife_287.jpg', 'knife_289.jpg', 'knife_291.jpg', 'knife_292.jpg', 'knife_293.jpg', 'knife_295.jpg', 'knife_296.jpg', 'knife_297.jpg', 'knife_299.jpg', 'knife_3.jpg', 'knife_30.jpg', 'knife_300.jpg', 'knife_301.jpg', 'knife_302.jpg', 'knife_303.jpg', 'knife_304.jpg', 'knife_305.jpg', 'knife_306.jpg', 'knife_307.jpg', 'knife_308.jpg', 'knife_31.jpg', 'knife_310.jpg', 'knife_311.jpg', 'knife_313.jpg', 'knife_314.jpg', 'knife_315.jpg', 'knife_316.jpg', 'knife_317.jpg', 'knife_320.jpg', 'knife_321.jpg', 'knife_322.jpg', 'knife_323.jpg', 'knife_324.jpg', 'knife_325.jpg', 'knife_327.jpg', 'knife_328.jpg', 'knife_330.jpg', 'knife_331.jpg', 'knife_332.jpg', 'knife_333.jpg', 'knife_334.jpg', 'knife_335.jpg', 'knife_336.jpg', 'knife_338.jpg', 'knife_340.jpg', 'knife_341.jpg', 'knife_342.jpg', 'knife_343.jpg', 'knife_344.jpg', 'knife_345.jpg', 'knife_346.jpg', 'knife_347.jpg', 'knife_348.jpg', 'knife_350.jpg', 'knife_351.jpg', 'knife_352.jpg', 'knife_353.jpg', 'knife_354.jpg', 'knife_356.jpg', 'knife_357.jpg', 'knife_36.jpg', 'knife_360.jpg', 'knife_362.jpg', 'knife_363.jpg', 'knife_364.jpg', 'knife_365.jpg', 'knife_366.jpg', 'knife_367.jpg', 'knife_369.jpg', 'knife_37.jpg', 'knife_370.jpg', 'knife_371.jpg', 'knife_372.jpg', 'knife_373.jpg', 'knife_374.jpg', 'knife_376.jpg', 'knife_377.jpg', 'knife_378.jpg', 'knife_379.jpg', 'knife_38.jpg', 'knife_380.jpg', 'knife_381.jpg', 'knife_382.jpg', 'knife_383.jpg', 'knife_384.jpg', 'knife_385.jpg', 'knife_386.jpg', 'knife_389.jpg', 'knife_39.jpg', 'knife_391.jpg', 'knife_392.jpg', 'knife_394.jpg', 'knife_395.jpg', 'knife_396.jpg', 'knife_398.jpg', 'knife_399.jpg', 'knife_4.jpg', 'knife_40.jpg', 'knife_400.jpg', 'knife_401.jpg', 'knife_403.jpg', 'knife_405.jpg', 'knife_406.jpg', 'knife_407.jpg', 'knife_409.jpg', 'knife_41.jpg', 'knife_411.jpg', 'knife_413.jpg', 'knife_414.jpg', 'knife_415.jpg', 'knife_417.jpg', 'knife_418.jpg', 'knife_419.jpg', 'knife_42.jpg', 'knife_420.jpg', 'knife_421.jpg', 'knife_422.jpg', 'knife_426.jpg', 'knife_427.jpg', 'knife_428.jpg', 'knife_429.jpg', 'knife_43.jpg', 'knife_431.jpg', 'knife_432.jpg', 'knife_434.jpg', 'knife_435.jpg', 'knife_436.jpg', 'knife_439.jpg', 'knife_44.jpg', 'knife_440.jpg', 'knife_441.jpg', 'knife_443.jpg', 'knife_444.jpg', 'knife_445.jpg', 'knife_446.jpg', 'knife_447.jpg', 'knife_448.jpg', 'knife_449.jpg', 'knife_45.jpg', 'knife_450.jpg', 'knife_451.jpg', 'knife_452.jpg', 'knife_453.jpg', 'knife_454.jpg', 'knife_455.jpg', 'knife_456.jpg', 'knife_457.jpg', 'knife_458.jpg', 'knife_459.jpg', 'knife_46.jpg', 'knife_460.jpg', 'knife_461.jpg', 'knife_462.jpg', 'knife_463.jpg', 'knife_464.jpg', 'knife_465.jpg', 'knife_467.jpg', 'knife_468.jpg', 'knife_469.jpg', 'knife_47.jpg', 'knife_470.jpg', 'knife_471.jpg', 'knife_472.jpg', 'knife_473.jpg', 'knife_474.jpg', 'knife_475.jpg', 'knife_476.jpg', 'knife_477.jpg', 'knife_478.jpg', 'knife_479.jpg', 'knife_48.jpg', 'knife_481.jpg', 'knife_483.jpg', 'knife_484.jpg', 'knife_485.jpg', 'knife_486.jpg', 'knife_488.jpg', 'knife_489.jpg', 'knife_49.jpg', 'knife_490.jpg', 'knife_491.jpg', 'knife_492.jpg', 'knife_493.jpg', 'knife_494.jpg', 'knife_495.jpg', 'knife_496.jpg', 'knife_497.jpg', 'knife_498.jpg', 'knife_499.jpg', 'knife_5.jpg', 'knife_50.jpg', 'knife_500.jpg', 'knife_501.jpg', 'knife_503.jpg', 'knife_504.jpg', 'knife_505.jpg', 'knife_506.jpg', 'knife_508.jpg', 'knife_509.jpg', 'knife_51.jpg', 'knife_511.jpg', 'knife_512.jpg', 'knife_513.jpg', 'knife_514.jpg', 'knife_515.jpg', 'knife_516.jpg', 'knife_517.jpg', 'knife_518.jpg', 'knife_519.jpg', 'knife_52.jpg', 'knife_520.jpg', 'knife_521.jpg', 'knife_522.jpg', 'knife_523.jpg', 'knife_525.jpg', 'knife_526.jpg', 'knife_527.jpg', 'knife_528.jpg', 'knife_53.jpg', 'knife_530.jpg', 'knife_531.jpg', 'knife_532.jpg', 'knife_533.jpg', 'knife_534.jpg', 'knife_535.jpg', 'knife_536.jpg', 'knife_537.jpg', 'knife_54.jpg', 'knife_540.jpg', 'knife_542.jpg', 'knife_543.jpg', 'knife_544.jpg', 'knife_545.jpg', 'knife_546.jpg', 'knife_548.jpg', 'knife_55.jpg', 'knife_550.jpg', 'knife_552.jpg', 'knife_553.jpg', 'knife_554.jpg', 'knife_555.jpg', 'knife_557.jpg', 'knife_558.jpg', 'knife_559.jpg', 'knife_56.jpg', 'knife_560.jpg', 'knife_561.jpg', 'knife_562.jpg', 'knife_563.jpg', 'knife_567.jpg', 'knife_568.jpg', 'knife_569.jpg', 'knife_57.jpg', 'knife_570.jpg', 'knife_572.jpg', 'knife_575.jpg', 'knife_577.jpg', 'knife_578.jpg', 'knife_579.jpg', 'knife_58.jpg', 'knife_580.jpg', 'knife_582.jpg', 'knife_583.jpg', 'knife_584.jpg', 'knife_585.jpg', 'knife_586.jpg', 'knife_587.jpg', 'knife_588.jpg', 'knife_589.jpg', 'knife_59.jpg', 'knife_590.jpg', 'knife_591.jpg', 'knife_593.jpg', 'knife_594.jpg', 'knife_595.jpg', 'knife_596.jpg', 'knife_597.jpg', 'knife_598.jpg', 'knife_599.jpg', 'knife_6.jpg', 'knife_60.jpg', 'knife_601.jpg', 'knife_602.jpg', 'knife_603.jpg', 'knife_605.jpg', 'knife_606.jpg', 'knife_607.jpg', 'knife_608.jpg', 'knife_609.jpg', 'knife_610.jpg', 'knife_613.jpg', 'knife_614.jpg', 'knife_616.jpg', 'knife_619.jpg', 'knife_62.jpg', 'knife_620.jpg', 'knife_622.jpg', 'knife_624.jpg', 'knife_625.jpg', 'knife_626.jpg', 'knife_627.jpg', 'knife_628.jpg', 'knife_629.jpg', 'knife_630.jpg', 'knife_631.jpg', 'knife_632.jpg', 'knife_633.jpg', 'knife_635.jpg', 'knife_637.jpg', 'knife_639.jpg', 'knife_641.jpg', 'knife_643.jpg', 'knife_644.jpg', 'knife_645.jpg', 'knife_646.jpg', 'knife_648.jpg', 'knife_650.jpg', 'knife_651.jpg', 'knife_652.jpg', 'knife_653.jpg', 'knife_654.jpg', 'knife_655.jpg', 'knife_656.jpg', 'knife_657.jpg', 'knife_66.jpg', 'knife_660.jpg', 'knife_661.jpg', 'knife_662.jpg', 'knife_663.jpg', 'knife_665.jpg', 'knife_666.jpg', 'knife_668.jpg', 'knife_671.jpg', 'knife_672.jpg', 'knife_673.jpg', 'knife_674.jpg', 'knife_675.jpg', 'knife_676.jpg', 'knife_678.jpg', 'knife_679.jpg', 'knife_68.jpg', 'knife_681.jpg', 'knife_684.jpg', 'knife_686.jpg', 'knife_687.jpg', 'knife_689.jpg', 'knife_69.jpg', 'knife_691.jpg', 'knife_692.jpg', 'knife_696.jpg', 'knife_7.jpg', 'knife_70.jpg', 'knife_702.jpg', 'knife_703.jpg', 'knife_705.jpg', 'knife_707.jpg', 'knife_708.jpg', 'knife_709.jpg', 'knife_71.jpg', 'knife_711.jpg', 'knife_714.jpg', 'knife_715.jpg', 'knife_716.jpg', 'knife_717.jpg', 'knife_72.jpg', 'knife_723.jpg', 'knife_724.jpg', 'knife_725.jpg', 'knife_727.jpg', 'knife_729.jpg', 'knife_73.jpg', 'knife_730.jpg', 'knife_732.jpg', 'knife_733.jpg', 'knife_737.jpg', 'knife_739.jpg', 'knife_740.jpg', 'knife_745.jpg', 'knife_747.jpg', 'knife_748.jpg', 'knife_749.jpg', 'knife_75.jpg', 'knife_750.jpg', 'knife_752.jpg', 'knife_756.jpg', 'knife_758.jpg', 'knife_759.jpg', 'knife_76.jpg', 'knife_760.jpg', 'knife_762.jpg', 'knife_77.jpg', 'knife_770.jpg', 'knife_771.jpg', 'knife_772.jpg', 'knife_775.jpg', 'knife_777.jpg', 'knife_778.jpg', 'knife_782.jpg', 'knife_786.jpg', 'knife_79.jpg', 'knife_796.jpg', 'knife_80.jpg', 'knife_802.jpg', 'knife_804.jpg', 'knife_805.jpg', 'knife_806.jpg', 'knife_807.jpg', 'knife_81.jpg', 'knife_810.jpg', 'knife_811.jpg', 'knife_814.jpg', 'knife_815.jpg', 'knife_816.jpg', 'knife_817.jpg', 'knife_819.jpg', 'knife_82.jpg', 'knife_821.jpg', 'knife_823.jpg', 'knife_824.jpg', 'knife_826.jpg', 'knife_827.jpg', 'knife_829.jpg', 'knife_83.jpg', 'knife_831.jpg', 'knife_832.jpg', 'knife_833.jpg', 'knife_834.jpg', 'knife_835.jpg', 'knife_836.jpg', 'knife_837.jpg', 'knife_838.jpg', 'knife_839.jpg', 'knife_84.jpg', 'knife_840.jpg', 'knife_841.jpg', 'knife_842.jpg', 'knife_843.jpg', 'knife_844.jpg', 'knife_845.jpg', 'knife_846.jpg', 'knife_847.jpg', 'knife_848.jpg', 'knife_849.jpg', 'knife_85.jpg', 'knife_850.jpg', 'knife_851.jpg', 'knife_852.jpg', 'knife_854.jpg', 'knife_855.jpg', 'knife_858.jpg', 'knife_859.jpg', 'knife_860.jpg', 'knife_861.jpg', 'knife_862.jpg', 'knife_864.jpg', 'knife_865.jpg', 'knife_866.jpg', 'knife_868.jpg', 'knife_87.jpg', 'knife_871.jpg', 'knife_872.jpg', 'knife_873.jpg', 'knife_874.jpg', 'knife_876.jpg', 'knife_878.jpg', 'knife_880.jpg', 'knife_881.jpg', 'knife_882.jpg', 'knife_883.jpg', 'knife_884.jpg', 'knife_885.jpg', 'knife_887.jpg', 'knife_89.jpg', 'knife_890.jpg', 'knife_891.jpg', 'knife_892.jpg', 'knife_895.jpg', 'knife_896.jpg', 'knife_897.jpg', 'knife_898.jpg', 'knife_899.jpg', 'knife_90.jpg', 'knife_900.jpg', 'knife_901.jpg', 'knife_902.jpg', 'knife_903.jpg', 'knife_904.jpg', 'knife_909.jpg', 'knife_910.jpg', 'knife_911.jpg', 'knife_912.jpg', 'knife_913.jpg', 'knife_914.jpg', 'knife_916.jpg', 'knife_917.jpg', 'knife_918.jpg', 'knife_92.jpg', 'knife_920.jpg', 'knife_921.jpg', 'knife_922.jpg', 'knife_923.jpg', 'knife_926.jpg', 'knife_927.jpg', 'knife_928.jpg', 'knife_929.jpg', 'knife_93.jpg', 'knife_932.jpg', 'knife_933.jpg', 'knife_934.jpg', 'knife_935.jpg', 'knife_936.jpg', 'knife_939.jpg', 'knife_94.jpg', 'knife_940.jpg', 'knife_942.jpg', 'knife_943.jpg', 'knife_944.jpg', 'knife_945.jpg', 'knife_948.jpg', 'knife_949.jpg', 'knife_95.jpg', 'knife_950.jpg', 'knife_951.jpg', 'knife_952.jpg', 'knife_953.jpg', 'knife_954.jpg', 'knife_955.jpg', 'knife_956.jpg', 'knife_957.jpg', 'knife_958.jpg', 'knife_96.jpg', 'knife_961.jpg', 'knife_963.jpg', 'knife_965.jpg', 'knife_966.jpg', 'knife_969.jpg', 'knife_97.jpg', 'knife_970.jpg', 'knife_971.jpg', 'knife_974.jpg', 'knife_975.jpg', 'knife_976.jpg', 'knife_978.jpg', 'knife_979.jpg', 'knife_98.jpg', 'knife_980.jpg', 'knife_981.jpg', 'knife_982.jpg', 'knife_983.jpg', 'knife_984.jpg', 'knife_985.jpg', 'knife_986.jpg', 'knife_988.jpg', 'knife_989.jpg', 'knife_990.jpg', 'knife_991.jpg', 'knife_992.jpg', 'knife_994.jpg', 'knife_998.jpg', 'KravMagaKnifeDefenseTechniques038.jpg', 'KravMagaKnifeDefenseTechniques042.jpg', 'KravMagaKnifeDefenseTechniques044.jpg', 'KravMagaKnifeDefenseTechniques045.jpg', 'KravMagaKnifeDefenseTechniques046.jpg', 'KravMagaKnifeDefenseTechniques048.jpg', 'KravMagaKnifeDefenseTechniques049.jpg', 'KravMagaKnifeDefenseTechniques051.jpg', 'KravMagaKnifeDefenseTechniques052.jpg', 'KravMagaKnifeDefenseTechniques054.jpg', 'KravMagaKnifeDefenseTechniques055.jpg', 'KravMagaKnifeDefenseTechniques056.jpg', 'KravMagaKnifeDefenseTechniques060.jpg', 'KravMagaKnifeDefenseTechniques063.jpg', 'KravMagaKnifeDefenseTechniques064.jpg', 'KravMagaKnifeDefenseTechniques066.jpg', 'KravMagaKnifeDefenseTechniques067.jpg', 'KravMagaKnifeDefenseTechniques068.jpg', 'KravMagaKnifeDefenseTechniques070.jpg', 'KravMagaKnifeDefenseTechniques072.jpg', 'KravMagaKnifeDefenseTechniques073.jpg', 'KravMagaKnifeDefenseTechniques075.jpg', 'KravMagaKnifeDefenseTechniques081.jpg', 'KravMagaKnifeDefenseTechniques082.jpg', 'KravMagaKnifeDefenseTechniques084.jpg', 'KravMagaKnifeDefenseTechniques086.jpg', 'KravMagaKnifeDefenseTechniques088.jpg', 'KravMagaKnifeDefenseTechniques091.jpg', 'KravMagaKnifeDefenseTechniques092.jpg', 'KravMagaKnifeDefenseTechniques098.jpg', 'KravMagaKnifeDefenseTechniques101.jpg', 'KravMagaKnifeDefenseTechniques104.jpg', 'KravMagaKnifeDefenseTechniques106.jpg', 'KravMagaKnifeDefenseTechniques107.jpg', 'KravMagaKnifeDefenseTechniques109.jpg', 'KravMagaKnifeDefenseTechniques110.jpg', 'KravMagaKnifeDefenseTechniques112.jpg', 'KravMagaKnifeDefenseTechniques114.jpg', 'KravMagaKnifeDefenseTechniques115.jpg', 'KravMagaKnifeDefenseTechniques118.jpg', 'KravMagaKnifeDefenseTechniques121.jpg', 'KravMagaKnifeDefenseTechniques123.jpg', 'KravMagaKnifeDefenseTechniques124.jpg', 'KravMagaKnifeDefenseTechniques126.jpg', 'KravMagaKnifeDefenseTechniques133.jpg', 'KravMagaKnifeDefenseTechniques134.jpg', 'KravMagaKnifeDefenseTechniques147.jpg', 'KravMagaKnifeDefenseTechniques149.jpg', 'KravMagaKnifeDefenseTechniques157.jpg', 'KravMagaKnifeDefenseTechniques159.jpg', 'KravMagaKnifeDefenseTechniques161.jpg', 'KravMagaKnifeDefenseTechniques162.jpg', 'KravMagaKnifeDefenseTechniques163.jpg', 'KravMagaKnifeDefenseTechniques166.jpg', 'KravMagaKnifeDefenseTechniques167.jpg', 'KravMagaKnifeDefenseTechniques169.jpg', 'KravMagaKnifeDefenseTechniques170.jpg', 'KravMagaKnifeDefenseTechniques172.jpg', 'KravMagaKnifeDefenseTechniques173.jpg', 'KravMagaKnifeDefenseTechniques175.jpg', 'KravMagaKnifeDefenseTechniques176.jpg', 'KravMagaKnifeDefenseTechniques177.jpg', 'KravMagaKnifeDefenseTechniques179.jpg', 'KravMagaKnifeDefenseTechniques181.jpg', 'KravMagaKnifeDefenseTechniques182.jpg', 'KravMagaKnifeDefenseTechniques186.jpg', 'KravMagaKnifeDefenseTechniques189.jpg', 'KravMagaKnifeDefenseTechniques190.jpg', 'KravMagaKnifeDefenseTechniques192.jpg', 'KravMagaKnifeDefenseTechniques193.jpg', 'KravMagaKnifeDefenseTechniques197.jpg', 'KravMagaKnifeDefenseTechniques201.jpg', 'KravMagaKnifeDefenseTechniques204.jpg', 'KravMagaKnifeDefenseTechniques205.jpg', 'KravMagaKnifeDefenseTechniques207.jpg', 'KravMagaKnifeDefenseTechniques209.jpg', 'KravMagaKnifeDefenseTechniques211.jpg', 'KravMagaKnifeDefenseTechniques215.jpg', 'KravMagaKnifeDefenseTechniques217.jpg', 'KravMagaKnifeDefenseTechniques220.jpg', 'KravMagaKnifeDefenseTechniques224.jpg', 'KravMagaKnifeDefenseTechniques225.jpg', 'KravMagaKnifeDefenseTechniques228.jpg', 'KravMagaKnifeDefenseTechniques231.jpg', 'KravMagaKnifeDefenseTechniques232.jpg', 'KravMagaKnifeDefenseTechniques234.jpg', 'KravMagaKnifeDefenseTechniques237.jpg', 'KravMagaKnifeDefenseTechniques240.jpg', 'KravMagaKnifeDefenseTechniques243.jpg', 'KravMagaKnifeDefenseTechniques244.jpg', 'KravMagaKnifeDefenseTechniques245.jpg', 'KravMagaKnifeDefenseTechniques246.jpg', 'KravMagaKnifeDefenseTechniques261.jpg', 'KravMagaKnifeDefenseTechniques262.jpg', 'KravMagaKnifeDefenseTechniques267.jpg', 'KravMagaKnifeDefenseTechniques269.jpg', 'KravMagaKnifeDefenseTechniques278.jpg', 'KravMagaKnifeDefenseTechniques286.jpg', 'KravMagaKnifeDefenseTechniques290.jpg', 'KravMagaKnifeDefenseTechniques292.jpg', 'KravMagaKnifeDefenseTechniques294.jpg', 'KravMagaKnifeDefenseTechniques295.jpg', 'KravMagaKnifeDefenseTechniques316.jpg', 'KravMagaKnifeDefenseTechniques377.jpg', 'KravMagaKnifeDefenseTechniques380.jpg', 'KravMagaKnifeDefenseTechniques398.jpg', 'KravMagaKnifeDefenseTechniques453.jpg', 'KravMagaKnifeDefenseTechniques474.jpg', 'KravMagaKnifeDefenseTechniques476.jpg', 'KravMagaKnifeDefenseTechniques585.jpg', 'KravMagaKnifeDefenseTechniques587.jpg', 'KravMagaKnifeDefenseTechniques590.jpg', 'KravMagaKnifeDefenseTechniques594.jpg', 'KravMagaKnifeDefenseTechniques624.jpg', 'KravMagaKnifeDefenseTechniques626.jpg', 'KravMagaKnifeDefenseTechniques628.jpg', 'KravMagaKnifeDefenseTechniques630.jpg', 'KravMagaKnifeDefenseTechniques655.jpg', 'KravMagaKnifeDefenseTechniques660.jpg', 'KravMagaKnifeDefenseTechniques670.jpg', 'KravMagaKnifeDefenseTechniques676.jpg', 'KravMagaKnifeDefenseTechniques695.jpg', 'KravMagaKnifeDefenseTechniques697.jpg', 'KravMagaKnifeDefenseTechniques699.jpg', 'KravMagaKnifeDefenseTechniques700.jpg', 'KravMagaKnifeDefenseTechniques703.jpg', 'KravMagaKnifeDefenseTechniques704.jpg', 'KravMagaKnifeDefenseTechniques706.jpg', 'KravMagaKnifeDefenseTechniques709.jpg', 'KravMagaKnifeDefenseTechniques713.jpg', 'KravMagaKnifeDefenseTechniques715.jpg', 'KravMagaKnifeDefenseTechniques719.jpg', 'KravMagaKnifeDefenseTechniques721.jpg', 'KravMagaKnifeDefenseTechniques730.jpg', 'KravMagaKnifeDefenseTechniques731.jpg', 'KravMagaKnifeDefenseTechniques743.jpg', 'KravMagaKnifeDefenseTechniques746.jpg', 'KravMagaKnifeDefenseTechniques752.jpg', 'KravMagaKnifeDefenseTechniques759.jpg', 'KravMagaKnifeDefenseTechniques762.jpg', 'KravMagaKnifeDefenseTechniques765.jpg', 'KravMagaKnifeDefenseTechniques768.jpg', 'KravMagaKnifeDefenseTechniques773.jpg', 'KravMagaKnifeDefenseTechniques775.jpg', 'KravMagaKnifeDefenseTechniques780.jpg', 'KravMagaKnifeDefenseTechniques795.jpg', 'KravMagaTraining000.jpg', 'KravMagaTraining051.jpg', 'KravMagaTraining076.jpg', 'KravMagaTraining094.jpg', 'KravMagaTraining115.jpg', 'KravMagaTraining119.jpg', 'KravMagaTraining139.jpg', 'KravMagaTraining156.jpg', 'KravMagaTraining167.jpg', 'KravMagaTraining20041.jpg', 'KravMagaTraining20043.jpg', 'KravMagaTraining20046.jpg', 'KravMagaTraining20072.jpg', 'KravMagaTraining20098.jpg', 'KravMagaTraining20102.jpg', 'KravMagaTraining20107.jpg', 'KravMagaTraining20143.jpg', 'KravMagaTraining20147.jpg', 'KravMagaTraining20179.jpg', 'KravMagaTraining20180.jpg', 'KravMagaTraining20301.jpg', 'KravMagaTraining20314.jpg', 'KravMagaTraining20340.jpg', 'KravMagaTraining20342.jpg', 'KravMagaTraining20343.jpg', 'KravMagaTraining20344.jpg', 'KravMagaTraining20348.jpg', 'KravMagaTraining20357.jpg', 'KravMagaTraining20389.jpg', 'KravMagaTraining20390.jpg', 'KravMagaTraining20399.jpg', 'KravMagaTraining20404.jpg', 'KravMagaTraining20406.jpg', 'KravMagaTraining20407.jpg', 'KravMagaTraining20410.jpg', 'KravMagaTraining20582.jpg', 'KravMagaTraining20583.jpg', 'KravMagaTraining20585.jpg', 'KravMagaTraining20586.jpg', 'KravMagaTraining20595.jpg', 'KravMagaTraining20598.jpg', 'KravMagaTraining20602.jpg', 'KravMagaTraining20609.jpg', 'KravMagaTraining20611.jpg', 'KravMagaTraining20615.jpg', 'KravMagaTraining20622.jpg', 'KravMagaTraining20623.jpg', 'KravMagaTraining20626.jpg', 'KravMagaTraining20627.jpg', 'KravMagaTraining20703.jpg', 'KravMagaTraining20775.jpg', 'KravMagaTraining20796.jpg', 'KravMagaTraining20798.jpg', 'KravMagaTraining20802.jpg', 'KravMagaTraining20809.jpg', 'KravMagaTraining20825.jpg', 'KravMagaTraining20827.jpg', 'KravMagaTraining20833.jpg', 'KravMagaTraining20835.jpg', 'KravMagaTraining20846.jpg', 'KravMagaTraining20863.jpg', 'KravMagaTraining20921.jpg', 'KravMagaTraining20924.jpg', 'KravMagaTraining20967.jpg', 'KravMagaTraining20997.jpg', 'KravMagaTraining21024.jpg', 'KravMagaTraining21025.jpg', 'KravMagaTraining21026.jpg', 'KravMagaTraining21027.jpg', 'KravMagaTraining21028.jpg', 'KravMagaTraining21029.jpg', 'KravMagaTraining21066.jpg', 'KravMagaTraining21074.jpg', 'KravMagaTraining21079.jpg', 'KravMagaTraining21094.jpg', 'KravMagaTraining21102.jpg', 'KravMagaTraining21110.jpg', 'KravMagaTraining21138.jpg', 'KravMagaTraining21139.jpg', 'KravMagaTraining21141.jpg', 'KravMagaTraining21185.jpg', 'KravMagaTraining21222.jpg', 'KravMagaTraining21225.jpg', 'KravMagaTraining21226.jpg', 'KravMagaTraining21302.jpg', 'KravMagaTraining21304.jpg', 'KravMagaTraining21306.jpg', 'KravMagaTraining21309.jpg', 'KravMagaTraining21315.jpg', 'KravMagaTraining21316.jpg', 'KravMagaTraining21319.jpg', 'KravMagaTraining21322.jpg', 'KravMagaTraining21333.jpg', 'KravMagaTraining21334.jpg', 'KravMagaTraining215.jpg', 'KravMagaTraining216.jpg', 'KravMagaTraining244.jpg', 'KravMagaTraining253.jpg', 'KravMagaTraining255.jpg', 'KravMagaTraining258.jpg', 'KravMagaTraining260.jpg', 'KravMagaTraining267.jpg', 'KravMagaTraining273.jpg', 'KravMagaTraining320.jpg', 'KravMagaTraining324.jpg', 'KravMagaTraining331.jpg', 'KravMagaTraining340.jpg', 'KravMagaTraining341.jpg', 'KravMagaTraining342.jpg', 'KravMagaTraining344.jpg', 'KravMagaTraining355.jpg', 'KravMagaTraining366.jpg', 'KravMagaTraining367.jpg', 'KravMagaTraining371.jpg', 'KravMagaTraining376.jpg', 'KravMagaTraining379.jpg', 'KravMagaTraining4036.jpg', 'KravMagaTraining4043.jpg', 'KravMagaTraining4052.jpg', 'KravMagaTraining4081.jpg', 'KravMagaTraining4117.jpg', 'KravMagaTraining4118.jpg', 'KravMagaTraining4127.jpg', 'KravMagaTraining417.jpg', 'KravMagaTraining4189.jpg', 'KravMagaTraining4278.jpg', 'KravMagaTraining4331.jpg', 'KravMagaTraining4341.jpg', 'KravMagaTraining4401.jpg', 'KravMagaTraining4408.jpg', 'KravMagaTraining4424.jpg', 'KravMagaTraining4442.jpg', 'KravMagaTraining4443.jpg', 'KravMagaTraining4610.jpg', 'KravMagaTraining4611.jpg', 'KravMagaTraining4612.jpg', 'KravMagaTraining4613.jpg', 'KravMagaTraining4614.jpg', 'KravMagaTraining4617.jpg', 'KravMagaTraining4618.jpg', 'KravMagaTraining4628.jpg', 'KravMagaTraining464.jpg', 'KravMagaTraining4643.jpg', 'KravMagaTraining4652.jpg', 'KravMagaTraining474.jpg', 'KravMagaTraining493.jpg', 'KravMagaTraining497.jpg', 'KravMagaTraining500.jpg', 'KravMagaTraining531.jpg', 'KravMagaTraining548.jpg', 'KravMagaTraining550.jpg', 'KravMagaTraining561.jpg', 'KravMagaTraining566.jpg', 'KravMagaTraining572.jpg', 'KravMagaTraining575.jpg', 'KravMagaTraining580.jpg', 'KravMagaTraining590.jpg', 'KravMagaTraining613.jpg', 'KravMagaTraining617.jpg', 'KravMagaTraining619.jpg', 'KravMagaTraining620.jpg', 'KravMagaTraining624.jpg', 'KravMagaTraining626.jpg', 'KravMagaTraining634.jpg', 'KravMagaTraining636.jpg', 'KravMagaTraining637.jpg', 'KravMagaTraining641.jpg', 'KravMagaTraining657.jpg', 'KravMagaTraining658.jpg', 'KravMagaTraining659.jpg', 'KravMagaTraining661.jpg', 'KravMagaTraining682.jpg', 'KravMagaTraining688.jpg', 'KravMagaTraining690.jpg', 'KravMagaTraining691.jpg', 'KravMagaTraining705.jpg', 'KravMagaTraining711.jpg', 'KravMagaTraining713.jpg', 'KravMagaTraining716.jpg', 'KravMagaTraining718.jpg', 'KravMagaTraining725.jpg', 'KravMagaTraining726.jpg', 'KravMagaTraining727.jpg', 'KravMagaTraining728.jpg', 'KravMagaTraining729.jpg', 'KravMagaTraining734.jpg', 'KravMagaTraining735.jpg', 'KravMagaTraining741.jpg', 'KravMagaTraining747.jpg', 'KravMagaTraining748.jpg', 'KravMagaTraining749.jpg', 'KravMagaTraining750.jpg', 'KravMagaTraining751.jpg', 'KravMagaTraining752.jpg', 'KravMagaTraining753.jpg', 'KravMagaTraining754.jpg', 'KravMagaTraining777.jpg', 'KravMagaTraining784.jpg', 'KravMagaTraining790.jpg', 'LBbframe00118.jpg', 'LBbframe00130.jpg', 'LBbframe00145.jpg', 'LBbframe00160.jpg', 'LBbframe00163.jpg', 'LBbframe00166.jpg', 'LBbframe00178.jpg', 'LBbframe00238.jpg', 'LBbframe00244.jpg', 'LBbframe00256.jpg', 'LBbframe00262.jpg', 'LBbframe00271.jpg', 'LBbframe00280.jpg', 'LBbframe00301.jpg', 'LBbframe00313.jpg', 'LBbframe00319.jpg', 'LBbframe00331.jpg', 'LBbframe00361.jpg', 'LBbframe00370.jpg', 'LBbframe00382.jpg', 'LBbframe00403.jpg', 'LBbframe00421.jpg', 'LBbframe00427.jpg', 'LBbframe00439.jpg', 'LBmframe00121.jpg', 'LBmframe00133.jpg', 'LBmframe00139.jpg', 'LBmframe00145.jpg', 'LBmframe00151.jpg', 'LBmframe00178.jpg', 'LBmframe00181.jpg', 'LBmframe00187.jpg', 'LBmframe00202.jpg', 'LBmframe00220.jpg', 'LBmframe00238.jpg', 'LBmframe00253.jpg', 'LBmframe00265.jpg', 'LBmframe00271.jpg', 'LBmframe00289.jpg', 'LBmframe00310.jpg', 'LBmframe00319.jpg', 'LBmframe00349.jpg', 'LBmframe00355.jpg', 'LBmframe00373.jpg', 'LBmframe00385.jpg', 'LBmframe00418.jpg', 'LBsframe00160.jpg', 'LBsframe00172.jpg', 'LBsframe00199.jpg', 'LBsframe00205.jpg', 'LBsframe00220.jpg', 'LBsframe00262.jpg', 'LBsframe00292.jpg', 'LBsframe00301.jpg', 'LBsframe00328.jpg', 'LBsframe00343.jpg', 'LBsframe00382.jpg', 'LBsframe00421.jpg', 'LBsframe00445.jpg', 'LBsframe00451.jpg', 'LBsframe00475.jpg', 'LBsframe00481.jpg', 'LBsframe00499.jpg', 'MBbframe00124.jpg', 'MBbframe00145.jpg', 'MBbframe00154.jpg', 'MBbframe00160.jpg', 'MBbframe00166.jpg', 'MBbframe00178.jpg', 'MBbframe00229.jpg', 'MBbframe00238.jpg', 'MBbframe00250.jpg', 'MBbframe00265.jpg', 'MBbframe00271.jpg', 'MBbframe00277.jpg', 'MBbframe00280.jpg', 'MBbframe00289.jpg', 'MBbframe00298.jpg', 'MBbframe00304.jpg', 'MBbframe00313.jpg', 'MBbframe00337.jpg', 'MBbframe00364.jpg', 'MBbframe00397.jpg', 'MBbframe00403.jpg', 'MBbframe00415.jpg', 'MBmframe00100.jpg', 'MBmframe00106.jpg', 'MBmframe00118.jpg', 'MBmframe00145.jpg', 'MBmframe00154.jpg', 'MBmframe00157.jpg', 'MBmframe00175.jpg', 'MBmframe00187.jpg', 'MBmframe00196.jpg', 'MBmframe00229.jpg', 'MBmframe00265.jpg', 'MBmframe00271.jpg', 'MBmframe00277.jpg', 'MBmframe00286.jpg', 'MBmframe00307.jpg', 'MBmframe00319.jpg', 'MBmframe00343.jpg', 'MBmframe00349.jpg', 'MBmframe00373.jpg', 'MBmframe00391.jpg', 'MBmframe00406.jpg', 'MBsframe00163.jpg', 'MBsframe00199.jpg', 'MBsframe00250.jpg', 'MBsframe00271.jpg', 'MBsframe00286.jpg', 'MBsframe00343.jpg', 'MBsframe00349.jpg', 'MBsframe00418.jpg', 'MBsframe00424.jpg', 'MBsframe00457.jpg', 'MBsframe00484.jpg', 'MBsframe00496.jpg', 'MBsframe00508.jpg', 'MBsframe00520.jpg', 'online1.jpg', 'online2.jpg', 'online3.jpg', 'online4.jpg', 'pistol_0001.jpg', 'pistol_0002.jpg', 'pistol_0004.jpg', 'pistol_0005.jpg', 'pistol_0006.jpg', 'pistol_0007.jpg', 'pistol_0008.jpg', 'pistol_0009.jpg', 'pistol_0010.jpg', 'pistol_0011.jpg', 'pistol_0015.jpg', 'pistol_0017.jpg', 'pistol_0023.jpg', 'pistol_0024.jpg', 'pistol_0026.jpg', 'pistol_0027.jpg', 'pistol_0028.jpg', 'pistol_0031.jpg', 'pistol_0033.jpg', 'pistol_0041.jpg', 'pistol_0042.jpg', 'pistol_0043.jpg', 'pistol_0044.jpg', 'pistol_0047.jpg', 'pistol_0048.jpg', 'pistol_0050.jpg', 'pistol_0051.jpg', 'pistol_0057.jpg', 'pistol_0059.jpg', 'pistol_0060.jpg', 'pistol_0061.jpg', 'pistol_0063.jpg', 'pistol_0064.jpg', 'pistol_0065.jpg', 'pistol_0066.jpg', 'pistol_0071.jpg', 'pistol_0073.jpg', 'pistol_0075.jpg', 'pistol_0076.jpg', 'pistol_0078.jpg', 'pistol_0082.jpg', 'pistol_0085.jpg', 'pistol_0087.jpg', 'pistol_0090.jpg', 'pistol_0095.jpg', 'pistol_0096.jpg', 'pistol_0097.jpg', 'pistol_0102.jpg', 'pistol_0105.jpg', 'pistol_0106.jpg', 'pistol_0108.jpg', 'pistol_0109.jpg', 'pistol_0113.jpg', 'pistol_0118.jpg', 'pistol_0119.jpg', 'pistol_0124.jpg', 'pistol_0129.jpg', 'pistol_0130.jpg', 'pistol_0131.jpg', 'pistol_0132.jpg', 'pistol_0134.jpg', 'pistol_0136.jpg', 'pistol_0139.jpg', 'pistol_0143.jpg', 'pistol_0144.jpg', 'pistol_0145.jpg', 'pistol_0146.jpg', 'pistol_0147.jpg', 'pistol_0148.jpg', 'pistol_0149.jpg', 'pistol_0154.jpg', 'pistol_0155.jpg', 'pistol_0157.jpg', 'pistol_0160.jpg', 'pistol_0163.jpg', 'pistol_0164.jpg', 'pistol_0166.jpg', 'pistol_0167.jpg', 'pistol_0168.jpg', 'pistol_0169.jpg', 'pistol_0170.jpg', 'pistol_0171.jpg', 'pistol_0173.jpg', 'pistol_0176.jpg', 'pistol_0178.jpg', 'pistol_0179.jpg', 'pistol_0180.jpg', 'pistol_0181.jpg', 'pistol_0183.jpg', 'pistol_0186.jpg', 'pistol_0187.jpg', 'pistol_0188.jpg', 'pistol_0190.jpg', 'pistol_0191.jpg', 'pistol_0192.jpg', 'pistol_0197.jpg', 'pistol_0199.jpg', 'pistol_0201.jpg', 'pistol_0202.jpg', 'pistol_0203.jpg', 'pistol_0207.jpg', 'pistol_0208.jpg', 'pistol_0209.jpg', 'pistol_0211.jpg', 'pistol_0213.jpg', 'pistol_0214.jpg', 'pistol_0216.jpg', 'pistol_0217.jpg', 'pistol_0222.jpg', 'pistol_0223.jpg', 'pistol_0224.jpg', 'pistol_0225.jpg', 'pistol_0228.jpg', 'pistol_0229.jpg', 'pistol_0234.jpg', 'pistol_0235.jpg', 'pistol_0236.jpg', 'pistol_0237.jpg', 'pistol_0238.jpg', 'pistol_0239.jpg', 'pistol_0240.jpg', 'pistol_0242.jpg', 'pistol_0245.jpg', 'pistol_0252.jpg', 'pistol_0254.jpg', 'pistol_0255.jpg', 'pistol_0257.jpg', 'pistol_0262.jpg', 'pistol_0263.jpg', 'pistol_0265.jpg', 'pistol_0267.jpg', 'pistol_0269.jpg', 'pistol_0270.jpg', 'pistol_0271.jpg', 'pistol_0272.jpg', 'pistol_0275.jpg', 'pistol_0277.jpg', 'pistol_0282.jpg', 'pistol_0283.jpg', 'pistol_0284.jpg', 'pistol_0285.jpg', 'pistol_0286.jpg', 'pistol_0287.jpg', 'pistol_0288.jpg', 'pistol_0290.jpg', 'pistol_0291.jpg', 'pistol_0293.jpg', 'pistol_0294.jpg', 'pistol_0300.jpg', 'pistol_0301.jpg', 'pistol_0305.jpg', 'pistol_0306.jpg', 'pistol_0307.jpg', 'pistol_0309.jpg', 'pistol_0313.jpg', 'pistol_0317.jpg', 'pistol_0322.jpg', 'pistol_0323.jpg', 'pistol_0326.jpg', 'pistol_0327.jpg', 'pistol_0328.jpg', 'pistol_0329.jpg', 'pistol_0330.jpg', 'pistol_0333.jpg', 'pistol_0334.jpg', 'pistol_0342.jpg', 'pistol_0345.jpg', 'pistol_0347.jpg', 'pistol_0349.jpg', 'pistol_0351.jpg', 'pistol_0353.jpg', 'pistol_0355.jpg', 'pistol_0356.jpg', 'pistol_0359.jpg', 'pistol_0360.jpg', 'pistol_0361.jpg', 'pistol_0362.jpg', 'pistol_0363.jpg', 'pistol_0365.jpg', 'pistol_0367.jpg', 'pistol_0373.jpg', 'pistol_0378.jpg', 'pistol_0382.jpg', 'pistol_0383.jpg', 'pistol_0384.jpg', 'pistol_0385.jpg', 'pistol_0386.jpg', 'pistol_0387.jpg', 'pistol_0388.jpg', 'pistol_0390.jpg', 'pistol_0391.jpg', 'pistol_0396.jpg', 'pistol_0397.jpg', 'pistol_0398.jpg', 'pistol_0399.jpg', 'pistol_0400.jpg', 'pistol_0401.jpg', 'pistol_0402.jpg', 'pistol_0403.jpg', 'pistol_0404.jpg', 'pistol_0405.jpg', 'pistol_0406.jpg', 'pistol_0408.jpg', 'pistol_0410.jpg', 'pistol_0411.jpg', 'pistol_0412.jpg', 'pistol_0413.jpg', 'pistol_0414.jpg', 'pistol_0415.jpg', 'pistol_0418.jpg', 'pistol_0422.jpg', 'pistol_0426.jpg', 'pistol_0433.jpg', 'pistol_0435.jpg', 'pistol_0436.jpg', 'pistol_0438.jpg', 'pistol_0440.jpg', 'pistol_0441.jpg', 'pistol_0445.jpg', 'pistol_0446.jpg', 'pistol_0448.jpg', 'pistol_0451.jpg', 'pistol_0452.jpg', 'pistol_0453.jpg', 'pistol_0454.jpg', 'pistol_0455.jpg', 'pistol_0456.jpg', 'pistol_0458.jpg', 'pistol_0459.jpg', 'pistol_0460.jpg', 'pistol_0465.jpg', 'pistol_0470.jpg', 'pistol_0477.jpg', 'pistol_0481.jpg', 'pistol_0482.jpg', 'pistol_0484.jpg', 'pistol_0485.jpg', 'pistol_0486.jpg', 'pistol_0490.jpg', 'pistol_0492.jpg', 'pistol_0495.jpg', 'pistol_0497.jpg', 'pistol_0498.jpg', 'pistol_0500.jpg', 'pistol_0501.jpg', 'pistol_0502.jpg', 'pistol_0506.jpg', 'pistol_0508.jpg', 'pistol_0515.jpg', 'pistol_0516.jpg', 'pistol_0519.jpg', 'pistol_0522.jpg', 'pistol_0523.jpg', 'pistol_0524.jpg', 'pistol_0525.jpg', 'pistol_0526.jpg', 'pistol_0527.jpg', 'pistol_0528.jpg', 'pistol_0529.jpg', 'pistol_0531.jpg', 'pistol_0539.jpg', 'pistol_0546.jpg', 'pistol_0552.jpg', 'pistol_0554.jpg', 'pistol_0555.jpg', 'pistol_0556.jpg', 'pistol_0558.jpg', 'pistol_0560.jpg', 'pistol_0562.jpg', 'pistol_0563.jpg', 'pistol_0564.jpg', 'pistol_0567.jpg', 'pistol_0569.jpg', 'pistol_0572.jpg', 'pistol_0574.jpg', 'pistol_0576.jpg', 'pistol_0577.jpg', 'pistol_0578.jpg', 'pistol_0579.jpg', 'pistol_0583.jpg', 'pistol_0585.jpg', 'pistol_0586.jpg', 'pistol_0587.jpg', 'pistol_0590.jpg', 'pistol_0592.jpg', 'pistol_0593.jpg', 'pistol_0598.jpg', 'pistol_0599.jpg', 'pistol_0600.jpg', 'pistol_0603.jpg', 'pistol_0606.jpg', 'pistol_0608.jpg', 'pistol_0609.jpg', 'pistol_0610.jpg', 'pistol_0612.jpg', 'pistol_0613.jpg', 'pistol_0614.jpg', 'pistol_0617.jpg', 'pistol_0619.jpg', 'pistol_0620.jpg', 'pistol_0621.jpg', 'pistol_0622.jpg', 'pistol_0623.jpg', 'pistol_0624.jpg', 'pistol_0625.jpg', 'pistol_0626.jpg', 'pistol_0627.jpg', 'pistol_0629.jpg', 'pistol_0630.jpg', 'pistol_0631.jpg', 'pistol_0632.jpg', 'pistol_0633.jpg', 'pistol_0635.jpg', 'pistol_0638.jpg', 'pistol_0639.jpg', 'pistol_0640.jpg', 'pistol_0644.jpg', 'pistol_0647.jpg', 'pistol_0648.jpg', 'pistol_0651.jpg', 'pistol_0655.jpg', 'pistol_0656.jpg', 'pistol_0662.jpg', 'pistol_0664.jpg', 'pistol_0665.jpg', 'pistol_0668.jpg', 'pistol_0669.jpg', 'pistol_0670.jpg', 'pistol_0671.jpg', 'pistol_0674.jpg', 'pistol_0675.jpg', 'pistol_0679.jpg', 'pistol_0681.jpg', 'pistol_0682.jpg', 'pistol_0683.jpg', 'pistol_0684.jpg', 'pistol_0686.jpg', 'pistol_0690.jpg', 'pistol_0691.jpg', 'pistol_0693.jpg', 'pistol_0696.jpg', 'pistol_0699.jpg', 'pistol_0701.jpg', 'pistol_0704.jpg', 'pistol_0705.jpg', 'pistol_0706.jpg', 'pistol_0707.jpg', 'pistol_0713.jpg', 'pistol_0715.jpg', 'pistol_0716.jpg', 'pistol_0723.jpg', 'pistol_0724.jpg', 'pistol_0725.jpg', 'pistol_0726.jpg', 'pistol_0728.jpg', 'pistol_0730.jpg', 'pistol_0731.jpg', 'pistol_0732.jpg', 'pistol_0735.jpg', 'pistol_0738.jpg', 'pistol_0742.jpg', 'pistol_0743.jpg', 'pistol_0744.jpg', 'pistol_0748.jpg', 'pistol_0749.jpg', 'pistol_0750.jpg', 'pistol_0753.jpg', 'pistol_0754.jpg', 'pistol_0755.jpg', 'pistol_0758.jpg', 'pistol_0760.jpg', 'pistol_0761.jpg', 'pistol_0762.jpg', 'pistol_0763.jpg', 'pistol_0818.jpg', 'pistol_0836.jpg', 'pistol_0837.jpg', 'pistol_0838.jpg', 'pistol_0842.jpg', 'pistol_0844.jpg', 'pistol_0845.jpg', 'pistol_0846.jpg', 'pistol_0857.jpg', 'pistol_0860.jpg', 'pistol_0871.jpg', 'pistol_0884.jpg', 'pistol_0890.jpg', 'pistol_0896.jpg', 'pistol_0898.jpg', 'pistol_0913.jpg', 'pistol_0921.jpg', 'pistol_0949.jpg', 'pistol_0952.jpg', 'pistol_0962.jpg', 'pistol_0976.jpg', 'pistol_0983.jpg', 'pistol_0996.jpg', 'pistol_1003.jpg', 'pistol_1037.jpg', 'pistol_1038.jpg', 'pistol_1051.jpg', 'pistol_1052.jpg', 'pistol_1053.jpg', 'pistol_1054.jpg', 'pistol_1057.jpg', 'pistol_1060.jpg', 'pistol_1061.jpg', 'pistol_1066.jpg', 'pistol_1067.jpg', 'pistol_1069.jpg', 'pistol_1072.jpg', 'pistol_1087.jpg', 'pistol_1089.jpg', 'pistol_1093.jpg', 'pistol_1094.jpg', 'pistol_1095.jpg', 'pistol_1097.jpg', 'pistol_1100.jpg', 'pistol_1101.jpg', 'pistol_1105.jpg', 'pistol_1106.jpg', 'pistol_1107.jpg', 'pistol_1111.jpg', 'pistol_1112.jpg', 'pistol_1117.jpg', 'pistol_1118.jpg', 'pistol_1119.jpg', 'pistol_1120.jpg', 'pistol_1128.jpg', 'pistol_1129.jpg', 'pistol_1131.jpg', 'pistol_1132.jpg', 'pistol_1138.jpg', 'pistol_1146.jpg', 'pistol_1148.jpg', 'pistol_1149.jpg', 'pistol_1150.jpg', 'pistol_1159.jpg', 'pistol_1161.jpg', 'pistol_1162.jpg', 'pistol_1171.jpg', 'pistol_1181.jpg', 'pistol_1186.jpg', 'pistol_1188.jpg', 'pistol_1189.jpg', 'pistol_1190.jpg', 'pistol_1191.jpg', 'pistol_1195.jpg', 'pistol_1196.jpg', 'pistol_1197.jpg', 'pistol_1198.jpg', 'pistol_1199.jpg', 'pistol_1206.jpg', 'pistol_1208.jpg', 'pistol_1209.jpg', 'pistol_1213.jpg', 'pistol_1216.jpg', 'pistol_1218.jpg', 'pistol_1219.jpg', 'pistol_1222.jpg', 'pistol_1224.jpg', 'pistol_1232.jpg', 'pistol_1233.jpg', 'pistol_1235.jpg', 'pistol_1236.jpg', 'pistol_1237.jpg', 'pistol_1238.jpg', 'pistol_1239.jpg', 'pistol_1240.jpg', 'pistol_1241.jpg', 'pistol_1242.jpg', 'pistol_1243.jpg', 'pistol_1244.jpg', 'pistol_1245.jpg', 'pistol_1247.jpg', 'pistol_1249.jpg', 'pistol_1251.jpg', 'pistol_1254.jpg', 'pistol_1255.jpg', 'pistol_1257.jpg', 'pistol_1263.jpg', 'pistol_1264.jpg', 'pistol_1274.jpg', 'pistol_1277.jpg', 'pistol_1278.jpg', 'pistol_1294.jpg', 'pistol_1298.jpg', 'pistol_1299.jpg', 'pistol_1300.jpg', 'pistol_1301.jpg', 'pistol_1302.jpg', 'pistol_1303.jpg', 'pistol_1304.jpg', 'pistol_1305.jpg', 'pistol_1306.jpg', 'pistol_1307.jpg', 'pistol_1308.jpg', 'pistol_1309.jpg', 'pistol_1311.jpg', 'pistol_1324.jpg', 'pistol_1329.jpg', 'pistol_1330.jpg', 'pistol_1333.jpg', 'pistol_1335.jpg', 'pistol_1337.jpg', 'pistol_1340.jpg', 'pistol_1341.jpg', 'pistol_1344.jpg', 'pistol_1346.jpg', 'pistol_1347.jpg', 'pistol_1350.jpg', 'pistol_1352.jpg', 'pistol_1353.jpg', 'pistol_1354.jpg', 'pistol_1358.jpg', 'pistol_1359.jpg', 'pistol_1361.jpg', 'pistol_1363.jpg', 'pistol_1364.jpg', 'pistol_1368.jpg', 'pistol_1376.jpg', 'pistol_1378.jpg', 'pistol_1379.jpg', 'pistol_1381.jpg', 'pistol_1382.jpg', 'pistol_1386.jpg', 'pistol_1392.jpg', 'pistol_1399.jpg', 'pistol_1400.jpg', 'pistol_1401.jpg', 'pistol_1402.jpg', 'pistol_1403.jpg', 'pistol_1404.jpg', 'pistol_1405.jpg', 'pistol_1407.jpg', 'pistol_1422.jpg', 'pistol_1423.jpg', 'pistol_1424.jpg', 'pistol_1425.jpg', 'pistol_1427.jpg', 'pistol_1428.jpg', 'pistol_1431.jpg', 'pistol_1432.jpg', 'pistol_1441.jpg', 'pistol_1450.jpg', 'pistol_1451.jpg', 'pistol_1453.jpg', 'pistol_1464.jpg', 'pistol_1465.jpg', 'pistol_1466.jpg', 'pistol_1472.jpg', 'pistol_1473.jpg', 'pistol_1475.jpg', 'pistol_1476.jpg', 'pistol_1477.jpg', 'pistol_1479.jpg', 'pistol_1480.jpg', 'pistol_1482.jpg', 'pistol_1487.jpg', 'pistol_1488.jpg', 'pistol_1490.jpg', 'pistol_1491.jpg', 'pistol_1492.jpg', 'pistol_1493.jpg', 'pistol_1494.jpg', 'pistol_1495.jpg', 'pistol_1496.jpg', 'pistol_1497.jpg', 'pistol_1498.jpg', 'pistol_1499.jpg', 'pistol_1500.jpg', 'pistol_1502.jpg', 'pistol_1503.jpg', 'pistol_1515.jpg', 'pistol_1516.jpg', 'pistol_1519.jpg', 'pistol_1521.jpg', 'pistol_1522.jpg', 'pistol_1523.jpg', 'pistol_1524.jpg', 'pistol_1525.jpg', 'pistol_1530.jpg', 'pistol_1531.jpg', 'pistol_1532.jpg', 'pistol_1534.jpg', 'pistol_1540.jpg', 'pistol_1541.jpg', 'pistol_1542.jpg', 'pistol_1545.jpg', 'pistol_1546.jpg', 'pistol_1555.jpg', 'pistol_1556.jpg', 'pistol_1557.jpg', 'pistol_1558.jpg', 'pistol_1559.jpg', 'pistol_1567.jpg', 'pistol_1569.jpg', 'pistol_1570.jpg', 'pistol_1572.jpg', 'pistol_1573.jpg', 'pistol_1574.jpg', 'pistol_1575.jpg', 'pistol_1577.jpg', 'pistol_1590.jpg', 'pistol_1591.jpg', 'pistol_1596.jpg', 'pistol_1603.jpg', 'pistol_1604.jpg', 'pistol_1608.jpg', 'pistol_1612.jpg', 'pistol_1615.jpg', 'pistol_1616.jpg', 'pistol_1621.jpg', 'pistol_1632.jpg', 'pistol_1633.jpg', 'pistol_1634.jpg', 'pistol_1636.jpg', 'pistol_1637.jpg', 'pistol_1638.jpg', 'pistol_1639.jpg', 'pistol_1640.jpg', 'pistol_1642.jpg', 'pistol_1643.jpg', 'pistol_1644.jpg', 'pistol_1645.jpg', 'pistol_1646.jpg', 'pistol_1647.jpg', 'pistol_1648.jpg', 'pistol_1649.jpg', 'pistol_1651.jpg', 'pistol_1653.jpg', 'pistol_1654.jpg', 'pistol_1658.jpg', 'pistol_1662.jpg', 'pistol_1667.jpg', 'pistol_1668.jpg', 'pistol_1670.jpg', 'pistol_1673.jpg', 'pistol_1675.jpg', 'pistol_1687.jpg', 'pistol_1688.jpg', 'pistol_1692.jpg', 'pistol_1693.jpg', 'pistol_1694.jpg', 'pistol_1695.jpg', 'pistol_1696.jpg', 'pistol_1697.jpg', 'pistol_1700.jpg', 'pistol_1701.jpg', 'pistol_1702.jpg', 'pistol_1703.jpg', 'pistol_1710.jpg', 'pistol_1711.jpg', 'pistol_1712.jpg', 'pistol_1717.jpg', 'pistol_1718.jpg', 'pistol_1721.jpg', 'pistol_1722.jpg', 'pistol_1725.jpg', 'pistol_1726.jpg', 'pistol_1730.jpg', 'pistol_1731.jpg', 'pistol_1735.jpg', 'pistol_1737.jpg', 'pistol_1738.jpg', 'pistol_1744.jpg', 'pistol_1749.jpg', 'pistol_1750.jpg', 'pistol_1752.jpg', 'pistol_1753.jpg', 'pistol_1754.jpg', 'pistol_1755.jpg', 'pistol_1756.jpg', 'pistol_1763.jpg', 'pistol_1764.jpg', 'pistol_1765.jpg', 'pistol_1766.jpg', 'pistol_1767.jpg', 'pistol_1768.jpg', 'pistol_1769.jpg', 'pistol_1771.jpg', 'pistol_1773.jpg', 'pistol_1774.jpg', 'pistol_1775.jpg', 'pistol_1776.jpg', 'pistol_1777.jpg', 'pistol_1779.jpg', 'pistol_1781.jpg', 'pistol_1782.jpg', 'pistol_1783.jpg', 'pistol_1789.jpg', 'pistol_1793.jpg', 'pistol_1796.jpg', 'pistol_1797.jpg', 'pistol_1798.jpg', 'pistol_1808.jpg', 'pistol_1811.jpg', 'pistol_1812.jpg', 'pistol_1820.jpg', 'pistol_1821.jpg', 'pistol_1822.jpg', 'pistol_1823.jpg', 'pistol_1824.jpg', 'pistol_1830.jpg', 'pistol_1838.jpg', 'pistol_1849.jpg', 'pistol_1860.jpg', 'pistol_1862.jpg', 'pistol_1863.jpg', 'pistol_1864.jpg', 'pistol_1870.jpg', 'pistol_1872.jpg', 'pistol_1873.jpg', 'pistol_1875.jpg', 'pistol_1879.jpg', 'pistol_1880.jpg', 'pistol_1881.jpg', 'pistol_1883.jpg', 'pistol_1884.jpg', 'pistol_1885.jpg', 'pistol_1890.jpg', 'pistol_1894.jpg', 'pistol_1897.jpg', 'pistol_1898.jpg', 'pistol_1901.jpg', 'pistol_1914.jpg', 'pistol_1915.jpg', 'pistol_1918.jpg', 'pistol_1926.jpg', 'pistol_1927.jpg', 'pistol_1928.jpg', 'pistol_1930.jpg', 'pistol_1931.jpg', 'pistol_1939.jpg', 'pistol_1941.jpg', 'pistol_1942.jpg', 'pistol_1943.jpg', 'pistol_1944.jpg', 'pistol_1945.jpg', 'pistol_1949.jpg', 'pistol_1950.jpg', 'pistol_1955.jpg', 'pistol_1964.jpg', 'pistol_1966.jpg', 'pistol_1969.jpg', 'pistol_1972.jpg', 'pistol_1974.jpg', 'pistol_1975.jpg', 'pistol_1986.jpg', 'pistol_1987.jpg', 'pistol_1990.jpg', 'pistol_1994.jpg', 'pistol_2000.jpg', 'pistol_2011.jpg', 'pistol_2012.jpg', 'pistol_2013.jpg', 'pistol_2015.jpg', 'pistol_2021.jpg', 'pistol_2025.jpg', 'pistol_2033.jpg', 'pistol_2036.jpg', 'pistol_2037.jpg', 'pistol_2045.jpg', 'pistol_2046.jpg', 'pistol_2050.jpg', 'pistol_2051.jpg', 'pistol_2052.jpg', 'pistol_2054.jpg', 'pistol_2056.jpg', 'pistol_2061.jpg', 'pistol_2062.jpg', 'pistol_2066.jpg', 'pistol_2067.jpg', 'pistol_2068.jpg', 'pistol_2069.jpg', 'pistol_2071.jpg', 'pistol_2076.jpg', 'pistol_2079.jpg', 'pistol_2084.jpg', 'pistol_2085.jpg', 'pistol_2086.jpg', 'pistol_2087.jpg', 'pistol_2088.jpg', 'pistol_2089.jpg', 'pistol_2091.jpg', 'pistol_2095.jpg', 'pistol_2096.jpg', 'pistol_2097.jpg', 'pistol_2098.jpg', 'pistol_2099.jpg', 'pistol_2100.jpg', 'pistol_2101.jpg', 'pistol_2104.jpg', 'pistol_2105.jpg', 'pistol_2106.jpg', 'pistol_2107.jpg', 'pistol_2108.jpg', 'pistol_2112.jpg', 'pistol_2114.jpg', 'pistol_2115.jpg', 'pistol_2116.jpg', 'pistol_2119.jpg', 'pistol_2123.jpg', 'pistol_2124.jpg', 'pistol_2126.jpg', 'pistol_2130.jpg', 'pistol_2138.jpg', 'pistol_2140.jpg', 'pistol_2141.jpg', 'pistol_2144.jpg', 'pistol_2145.jpg', 'pistol_2152.jpg', 'pistol_2154.jpg', 'pistol_2156.jpg', 'pistol_2159.jpg', 'pistol_2162.jpg', 'pistol_2164.jpg', 'pistol_2166.jpg', 'pistol_2167.jpg', 'pistol_2168.jpg', 'pistol_2169.jpg', 'pistol_2170.jpg', 'pistol_2171.jpg', 'pistol_2172.jpg', 'pistol_2173.jpg', 'pistol_2174.jpg', 'pistol_2175.jpg', 'pistol_2176.jpg', 'pistol_2177.jpg', 'pistol_2178.jpg', 'pistol_2179.jpg', 'pistol_2180.jpg', 'pistol_2181.jpg', 'pistol_2182.jpg', 'pistol_2183.jpg', 'pistol_2186.jpg', 'pistol_2187.jpg', 'pistol_2188.jpg', 'pistol_2189.jpg', 'pistol_2192.jpg', 'pistol_2193.jpg', 'pistol_2194.jpg', 'pistol_2195.jpg', 'pistol_2196.jpg', 'pistol_2197.jpg', 'pistol_2198.jpg', 'pistol_2199.jpg', 'pistol_2205.jpg', 'pistol_2209.jpg', 'pistol_2218.jpg', 'pistol_2219.jpg', 'pistol_2220.jpg', 'pistol_2221.jpg', 'pistol_2223.jpg', 'pistol_2226.jpg', 'pistol_2227.jpg', 'pistol_2229.jpg', 'pistol_2230.jpg', 'pistol_2231.jpg', 'pistol_2235.jpg', 'pistol_2236.jpg', 'pistol_2238.jpg', 'pistol_2249.jpg', 'pistol_2252.jpg', 'pistol_2254.jpg', 'pistol_2255.jpg', 'pistol_2257.jpg', 'pistol_2259.jpg', 'pistol_2260.jpg', 'pistol_2261.jpg', 'pistol_2262.jpg', 'pistol_2264.jpg', 'pistol_2265.jpg', 'pistol_2266.jpg', 'pistol_2267.jpg', 'pistol_2268.jpg', 'pistol_2269.jpg', 'pistol_2270.jpg', 'pistol_2271.jpg', 'pistol_2272.jpg', 'pistol_2273.jpg', 'pistol_2274.jpg', 'pistol_2276.jpg', 'pistol_2277.jpg', 'pistol_2278.jpg', 'pistol_2279.jpg', 'pistol_2280.jpg', 'pistol_2283.jpg', 'pistol_2284.jpg', 'pistol_2285.jpg', 'pistol_2286.jpg', 'pistol_2287.jpg', 'pistol_2288.jpg', 'pistol_2289.jpg', 'pistol_2290.jpg', 'pistol_2291.jpg', 'pistol_2292.jpg', 'pistol_2293.jpg', 'pistol_2294.jpg', 'pistol_2295.jpg', 'pistol_2296.jpg', 'pistol_2297.jpg', 'pistol_2298.jpg', 'pistol_2301.jpg', 'pistol_2304.jpg', 'pistol_2306.jpg', 'pistol_2307.jpg', 'pistol_2308.jpg', 'pistol_2309.jpg', 'pistol_2310.jpg', 'pistol_2311.jpg', 'pistol_2312.jpg', 'pistol_2313.jpg', 'pistol_2314.jpg', 'pistol_2316.jpg', 'pistol_2317.jpg', 'pistol_2318.jpg', 'pistol_2319.jpg', 'pistol_2320.jpg', 'pistol_2321.jpg', 'pistol_2322.jpg', 'pistol_2323.jpg', 'pistol_2324.jpg', 'pistol_2325.jpg', 'pistol_2326.jpg', 'pistol_2327.jpg', 'pistol_2328.jpg', 'pistol_2329.jpg', 'pistol_2330.jpg', 'pistol_2332.jpg', 'pistol_2333.jpg', 'pistol_2334.jpg', 'pistol_2335.jpg', 'pistol_2336.jpg', 'pistol_2337.jpg', 'pistol_2339.jpg', 'pistol_2340.jpg', 'pistol_2341.jpg', 'pistol_2342.jpg', 'pistol_2343.jpg', 'pistol_2344.jpg', 'pistol_2347.jpg', 'pistol_2348.jpg', 'pistol_2349.jpg', 'pistol_2350.jpg', 'pistol_2351.jpg', 'pistol_2352.jpg', 'pistol_2353.jpg', 'pistol_2354.jpg', 'pistol_2355.jpg', 'pistol_2356.jpg', 'pistol_2359.jpg', 'pistol_2360.jpg', 'pistol_2361.jpg', 'pistol_2388.jpg', 'pistol_2389.jpg', 'pistol_2391.jpg', 'pistol_2392.jpg', 'pistol_2395.jpg', 'pistol_2396.jpg', 'pistol_2398.jpg', 'pistol_2402.jpg', 'pistol_2404.jpg', 'pistol_2408.jpg', 'pistol_2409.jpg', 'pistol_2410.jpg', 'pistol_2412.jpg', 'pistol_2413.jpg', 'pistol_2417.jpg', 'pistol_2418.jpg', 'pistol_2419.jpg', 'pistol_2420.jpg', 'pistol_2422.jpg', 'pistol_2423.jpg', 'pistol_2424.jpg', 'pistol_2425.jpg', 'pistol_2426.jpg', 'pistol_2428.jpg', 'pistol_2429.jpg', 'pistol_2430.jpg', 'pistol_2431.jpg', 'pistol_2432.jpg', 'pistol_2433.jpg', 'pistol_2434.jpg', 'pistol_2435.jpg', 'pistol_2436.jpg', 'pistol_2437.jpg', 'pistol_2438.jpg', 'pistol_2439.jpg', 'pistol_2441.jpg', 'pistol_2442.jpg', 'pistol_2445.jpg', 'pistol_2447.jpg', 'pistol_2448.jpg', 'pistol_2449.jpg', 'pistol_2450.jpg', 'pistol_2451.jpg', 'pistol_2452.jpg', 'pistol_2453.jpg', 'pistol_2454.jpg', 'pistol_2455.jpg', 'pistol_2456.jpg', 'pistol_2457.jpg', 'pistol_2458.jpg', 'pistol_2459.jpg', 'pistol_2460.jpg', 'pistol_2461.jpg', 'pistol_2462.jpg', 'pistol_2463.jpg', 'pistol_2464.jpg', 'pistol_2465.jpg', 'pistol_2466.jpg', 'pistol_2467.jpg', 'pistol_2468.jpg', 'pistol_2469.jpg', 'pistol_2470.jpg', 'pistol_2471.jpg', 'pistol_2472.jpg', 'pistol_2473.jpg', 'pistol_2474.jpg', 'pistol_2475.jpg', 'pistol_2476.jpg', 'pistol_2477.jpg', 'pistol_2478.jpg', 'pistol_2479.jpg', 'pistol_2480.jpg', 'pistol_2481.jpg', 'pistol_2482.jpg', 'pistol_2488.jpg', 'pistol_2489.jpg', 'pistol_2490.jpg', 'pistol_2495.jpg', 'pistol_2503.jpg', 'pistol_2510.jpg', 'pistol_2511.jpg', 'pistol_2512.jpg', 'pistol_2513.jpg', 'pistol_2514.jpg', 'pistol_2522.jpg', 'pistol_2523.jpg', 'pistol_2524.jpg', 'pistol_2539.jpg', 'pistol_2540.jpg', 'pistol_2541.jpg', 'pistol_2546.jpg', 'pistol_2549.jpg', 'pistol_2550.jpg', 'pistol_2551.jpg', 'pistol_2552.jpg', 'pistol_2553.jpg', 'pistol_2554.jpg', 'pistol_2555.jpg', 'pistol_2557.jpg', 'pistol_2558.jpg', 'pistol_2559.jpg', 'pistol_2560.jpg', 'pistol_2561.jpg', 'pistol_2562.jpg', 'pistol_2563.jpg', 'pistol_2564.jpg', 'pistol_2568.jpg', 'pistol_2571.jpg', 'pistol_2572.jpg', 'pistol_2573.jpg', 'pistol_2582.jpg', 'pistol_2583.jpg', 'pistol_2596.jpg', 'pistol_2603.jpg', 'pistol_2604.jpg', 'pistol_2609.jpg', 'pistol_2610.jpg', 'pistol_2611.jpg', 'pistol_2619.jpg', 'pistol_2620.jpg', 'pistol_2622.jpg', 'pistol_2631.jpg', 'pistol_2634.jpg', 'pistol_2635.jpg', 'pistol_2640.jpg', 'pistol_2642.jpg', 'pistol_2644.jpg', 'pistol_2645.jpg', 'pistol_2650.jpg', 'pistol_2651.jpg', 'pistol_2652.jpg', 'pistol_2653.jpg', 'pistol_2654.jpg', 'pistol_2655.jpg', 'pistol_2656.jpg', 'pistol_2657.jpg', 'pistol_2658.jpg', 'pistol_2659.jpg', 'pistol_2661.jpg', 'pistol_2662.jpg', 'pistol_2663.jpg', 'pistol_2664.jpg', 'pistol_2665.jpg', 'pistol_2666.jpg', 'pistol_2667.jpg', 'pistol_2668.jpg', 'pistol_2669.jpg', 'pistol_2670.jpg', 'pistol_2671.jpg', 'pistol_2672.jpg', 'pistol_2673.jpg', 'pistol_2674.jpg', 'pistol_2679.jpg', 'pistol_2680.jpg', 'pistol_2689.jpg', 'pistol_2724.jpg', 'pistol_2744.jpg', 'pistol_2745.jpg', 'pistol_2746.jpg', 'pistol_2747.jpg', 'pistol_2750.jpg', 'pistol_2755.jpg', 'pistol_2756.jpg', 'pistol_2758.jpg', 'pistol_2760.jpg', 'pistol_2761.jpg', 'pistol_2762.jpg', 'pistol_2763.jpg', 'pistol_2764.jpg', 'pistol_2766.jpg', 'pistol_2767.jpg', 'pistol_2768.jpg', 'pistol_2769.jpg', 'pistol_2770.jpg', 'pistol_2771.jpg', 'pistol_2772.jpg', 'pistol_2775.jpg', 'pistol_2776.jpg', 'pistol_2777.jpg', 'pistol_2778.jpg', 'pistol_2780.jpg', 'pistol_2784.jpg', 'pistol_2785.jpg', 'pistol_2790.jpg', 'pistol_2795.jpg', 'pistol_2798.jpg', 'pistol_2799.jpg', 'pistol_2802.jpg', 'pistol_2806.jpg', 'pistol_2814.jpg', 'pistol_2819.jpg', 'pistol_2824.jpg', 'pistol_2825.jpg', 'pistol_2827.jpg', 'pistol_2828.jpg', 'pistol_2831.jpg', 'pistol_2834.jpg', 'pistol_2836.jpg', 'pistol_2839.jpg', 'pistol_2840.jpg', 'pistol_2844.jpg', 'pistol_2845.jpg', 'pistol_2847.jpg', 'pistol_2848.jpg', 'pistol_2849.jpg', 'pistol_2850.jpg', 'pistol_2854.jpg', 'pistol_2855.jpg', 'pistol_2856.jpg', 'pistol_2857.jpg', 'pistol_2859.jpg', 'pistol_2863.jpg', 'pistol_2865.jpg', 'pistol_2866.jpg', 'pistol_2872.jpg', 'pistol_2873.jpg', 'pistol_2875.jpg', 'pistol_2881.jpg', 'pistol_2882.jpg', 'pistol_2884.jpg', 'pistol_2888.jpg', 'pistol_2889.jpg', 'pistol_2890.jpg', 'pistol_2891.jpg', 'pistol_2894.jpg', 'pistol_2895.jpg', 'pistol_2901.jpg', 'pistol_2918.jpg', 'pistol_2925.jpg', 'pistol_2928.jpg', 'pistol_2929.jpg', 'pistol_2932.jpg', 'pistol_2933.jpg', 'pistol_2941.jpg', 'pistol_2944.jpg', 'pistol_2948.jpg', 'pistol_2957.jpg', 'pistol_2958.jpg', 'pistol_2959.jpg', 'pistol_2960.jpg', 'pistol_2973.jpg', 'pistol_2978.jpg', 'pistol_2982.jpg', 'pistol_2983.jpg', 'pistol_2986.jpg', 'pistol_2999.jpg', 'pistol_4001.JPG', 'pistol_4003.JPG', 'pistol_4004.JPG', 'pistol_4005.JPG', 'pistol_4006.JPG', 'pistol_4007.JPG', 'pistol_4008.JPG', 'pistol_4009.JPG', 'pistol_4010.JPG', 'pistol_4011.JPG', 'pistol_4012.JPG', 'pistol_4018.JPG', 'pistol_4019.JPG', 'pistol_4020.JPG', 'pistol_4024.JPG', 'pistol_4026.JPG', 'pistol_4027.JPG', 'pistol_4028.JPG', 'pistol_4029.JPG', 'pistol_4030.JPG', 'pistol_4031.JPG', 'pistol_4034.JPG', 'pistol_4035.JPG', 'pistol_4036.JPG', 'pistol_4037.JPG', 'pistol_4038.JPG', 'pistol_4039.JPG', 'pistol_4040.JPG', 'pistol_4041.JPG', 'pistol_4043.JPG', 'pistol_4044.JPG', 'pistol_4045.JPG', 'pistol_4046.JPG', 'pistol_4048.JPG', 'pistol_4049.JPG', 'pistol_4052.JPG', 'pistol_4054.JPG', 'pistol_4055.JPG', 'pistol_4056.JPG', 'pistol_4057.JPG', 'pistol_4058.JPG', 'pistol_4059.JPG', 'pistol_4060.JPG', 'pistol_4062.JPG', 'pistol_4063.JPG', 'pistol_4065.JPG', 'pistol_4066.JPG', 'pistol_4067.JPG', 'pistol_4068.JPG', 'pistol_4069.JPG', 'pistol_4071.JPG', 'pistol_4072.JPG', 'pistol_4073.JPG', 'pistol_4074.JPG', 'pistol_4075.JPG', 'pistol_4076.JPG', 'pistol_4077.JPG', 'pistol_4080.JPG', 'pistol_4083.JPG', 'pistol_4084.JPG', 'pistol_4085.JPG', 'pistol_4086.JPG', 'pistol_4087.JPG', 'pistol_4089.JPG', 'pistol_4091.JPG', 'pistol_4092.JPG', 'pistol_4093.JPG', 'pistol_4094.JPG', 'pistol_4106.jpg', 'pistol_5001.jpg', 'pistol_5002.jpg', 'pistol_5004.jpg', 'pistol_5005.jpg', 'pistol_5007.jpg', 'pistol_5008.jpg', 'pistol_5010.jpg', 'pistol_5014.jpg', 'pistol_5015.jpg', 'pistol_5016.jpg', 'pistol_5017.jpg', 'pistol_5018.jpg', 'pistol_5019.jpg', 'pistol_5021.jpg', 'pistol_5022.jpg', 'pistol_5023.jpg', 'pistol_5024.jpg', 'pistol_5025.jpg', 'pistol_5026.jpg', 'pistol_5028.jpg', 'pistol_5029.jpg', 'pistol_5030.jpg', 'pistol_5031.jpg', 'pistol_5032.jpg', 'pistol_5033.jpg', 'pistol_5035.jpg', 'pistol_5036.jpg', 'pistol_5037.jpg', 'pistol_5038.jpg', 'pistol_5039.jpg', 'pistol_5040.jpg', 'pistol_5042.jpg', 'pistol_5043.jpg', 'pistol_5044.jpg', 'pistol_5045.jpg', 'pistol_5046.jpg', 'pistol_5047.jpg', 'pistol_5049.jpg', 'pistol_5050.jpg', 'pistol_5051.jpg', 'pistol_5052.jpg', 'pistol_5053.jpg', 'pistol_5054.jpg', 'pistol_5056.jpg', 'pistol_5057.jpg', 'pistol_5058.jpg', 'pistol_5059.jpg', 'pistol_5060.jpg', 'pistol_5061.jpg', 'pistol_5063.jpg', 'pistol_5064.jpg', 'pistol_5065.jpg', 'pistol_5066.jpg', 'pistol_5067.jpg', 'pistol_5068.jpg', 'pistol_5070.jpg', 'pistol_5071.jpg', 'pistol_5072.jpg', 'pistol_5073.jpg', 'pistol_5074.jpg', 'pistol_5075.jpg', 'pistol_5077.jpg', 'pistol_5078.jpg', 'pistol_5079.jpg', 'pistol_5080.jpg', 'pistol_5081.jpg', 'pistol_5082.jpg', 'pistol_5084.jpg', 'pistol_5085.jpg', 'pistol_5086.jpg', 'pistol_5087.jpg', 'pistol_5088.jpg', 'pistol_5089.jpg', 'pistol_5090.jpg', 'pistol_5091.jpg', 'pistol_5092.jpg', 'pistol_5093.jpg', 'pistol_5094.jpg', 'pistol_5095.jpg', 'pistol_5096.jpg', 'pistol_5097.jpg', 'pistol_5098.jpg', 'pistol_5099.jpg', 'pistol_5100.jpg', 'pistol_5101.jpg', 'pistol_5102.jpg', 'pistol_5103.jpg', 'pistol_5104.jpg', 'pistol_5105.jpg', 'pistol_5106.jpg', 'pistol_5107.jpg', 'pistol_5108.jpg', 'pistol_5109.jpg', 'pistol_5110.jpg', 'pistol_5111.jpg', 'pistol_5112.jpg', 'pistol_5113.jpg', 'pistol_5114.jpg', 'pistol_5115.jpg', 'pistol_5116.jpg', 'pistol_5117.jpg', 'pistol_5118.jpg', 'pistol_5119.jpg', 'pistol_5120.jpg', 'pistol_5121.jpg', 'pistol_5122.jpg', 'pistol_5123.jpg', 'pistol_5124.jpg', 'pistol_5125.jpg', 'pistol_5126.jpg', 'pistol_5127.jpg', 'pistol_5128.jpg', 'pistol_5129.jpg', 'pistol_5130.jpg', 'pistol_5131.jpg', 'pistol_5132.jpg', 'pistol_5133.jpg', 'pistol_5134.jpg', 'pistol_5135.jpg', 'pistol_5136.jpg', 'pistol_5137.jpg', 'pistol_5138.jpg', 'pistol_5139.jpg', 'pistol_5140.jpg', 'pistol_5141.jpg', 'pistol_5142.jpg', 'pistol_5143.jpg', 'pistol_5144.jpg', 'pistol_5145.jpg', 'pistol_5146.jpg', 'pistol_5147.jpg', 'pistol_5148.jpg', 'pistol_5149.jpg', 'pistol_5150.jpg', 'pistol_5151.jpg', 'pistol_5152.jpg', 'pistol_5160.jpg', 'pistol_5161.jpg', 'pistol_5162.jpg', 'pistol_5163.jpg', 'pistol_5164.jpg', 'pistol_5165.jpg', 'pistol_5166.jpg', 'pistol_5167.jpg', 'pistol_5168.jpg', 'pistol_5169.jpg', 'pistol_5170.jpg', 'pistol_5171.jpg', 'pistol_5172.jpg', 'pistol_5173.jpg', 'pistol_5174.jpg', 'pistol_5175.jpg', 'pistol_5176.jpg', 'pistol_5177.jpg', 'pistol_5179.jpg', 'pistol_5180.jpg', 'RealityKnifeAttacks0170.jpg', 'RealityKnifeAttacks0174.jpg', 'RealityKnifeAttacks0176.jpg', 'RealityKnifeAttacks0178.jpg', 'RealityKnifeAttacks0180.jpg', 'RealityKnifeAttacks0182.jpg', 'RealityKnifeAttacks0592.jpg', 'RealityKnifeAttacks0593.jpg', 'RealityKnifeAttacks0650.jpg', 'RealityKnifeAttacks0652.jpg', 'RusoClases003.jpg', 'RusoClases154.jpg', 'RusoClases179.jpg', 'RusoClases200.jpg', 'RusoClases263.jpg', 'RusoClases264.jpg', 'RusoClases306.jpg', 'RusoClases308.jpg', 'RusoClases309.jpg', 'RusoClases310.jpg', 'RusoClases312.jpg', 'RusoClases314.jpg', 'RusoClases315.jpg', 'RusoClases333.jpg', 'RusoClases336.jpg', 'RusoClases338.jpg', 'RusoClases339.jpg', 'RusoClases362.jpg', 'RusoClases393.jpg', 'RusoClases396.jpg', 'RusoClases404.jpg', 'RusoClases415.jpg', 'RusoClases416.jpg', 'RusoClases434.jpg', 'RusoClases461.jpg', 'RusoClases643.jpg', 'RusoClases647.jpg', 'RusoClases648.jpg', 'RusoClases793.jpg', 'RusoClases794.jpg', 'RusoClases795.jpg', 'sharpenKnife000.jpg', 'sharpenKnife002.jpg', 'sharpenKnife004.jpg', 'sharpenKnife006.jpg', 'sharpenKnife027.jpg', 'sharpenKnife030.jpg', 'sharpenKnife035.jpg', 'sharpenKnife043.jpg', 'sharpenKnife046.jpg', 'sharpenKnife048.jpg', 'sharpenKnife057.jpg', 'sharpenKnife091.jpg', 'sharpenKnife096.jpg', 'sharpenKnife099.jpg', 'sharpenKnife100.jpg', 'sharpenKnife101.jpg', 'sharpenKnife102.jpg', 'sharpenKnife109.jpg', 'sharpenKnife110.jpg', 'sharpenKnife111.jpg', 'sharpenKnife129.jpg', 'sharpenKnife159.jpg', 'sharpenKnife161.jpg', 'sharpenKnife180.jpg', 'sharpenKnife182.jpg', 'sharpenKnife193.jpg', 'sharpenKnife200.jpg', 'sharpenKnife211.jpg', 'sharpenKnife227.jpg', 'sharpenKnife248.jpg', 'sharpenKnife254.jpg', 'sharpenKnife261.jpg', 'sharpenKnife272.jpg', 'sharpenKnife297.jpg', 'sharpenKnife300.jpg', 'sharpenKnife301.jpg', 'sharpenKnife303.jpg']\n"
     ]
    }
   ],
   "source": [
    "print(train_images_list)"
   ]
  },
  {
   "cell_type": "code",
   "execution_count": 7,
   "metadata": {},
   "outputs": [
    {
     "name": "stdout",
     "output_type": "stream",
     "text": [
      "There are 5002 train images\n"
     ]
    }
   ],
   "source": [
    "print('There are', len(train_images_list), 'train images')"
   ]
  },
  {
   "cell_type": "code",
   "execution_count": 8,
   "metadata": {},
   "outputs": [
    {
     "name": "stdout",
     "output_type": "stream",
     "text": [
      "There are 1752 images in the training set of class 0\n",
      "There are 3250 images in the training set of class 1\n"
     ]
    }
   ],
   "source": [
    "print('There are ' + str(len(train_images_list_0)) + ' images in the training set of class 0')\n",
    "print('There are ' + str(len(train_images_list_1)) + ' images in the training set of class 1')\n"
   ]
  },
  {
   "cell_type": "markdown",
   "metadata": {},
   "source": [
    "#### Image Generator Object"
   ]
  },
  {
   "cell_type": "code",
   "execution_count": 9,
   "metadata": {},
   "outputs": [],
   "source": [
    "datagen = ImageDataGenerator()"
   ]
  },
  {
   "cell_type": "markdown",
   "metadata": {},
   "source": [
    "### Playing with images"
   ]
  },
  {
   "cell_type": "code",
   "execution_count": 15,
   "metadata": {},
   "outputs": [],
   "source": [
    "image_test = load_img('C:/Users/User/Documents/Flatiron/Capstone/train_data/images/1/knife_1179.jpg').convert('RGB')"
   ]
  },
  {
   "cell_type": "code",
   "execution_count": 16,
   "metadata": {},
   "outputs": [
    {
     "data": {
      "text/plain": [
       "<bound method Image.getpixel of <PIL.Image.Image image mode=RGB size=1280x720 at 0x1CE39198F10>>"
      ]
     },
     "execution_count": 16,
     "metadata": {},
     "output_type": "execute_result"
    }
   ],
   "source": [
    "image_test.getpixel"
   ]
  },
  {
   "cell_type": "code",
   "execution_count": 17,
   "metadata": {},
   "outputs": [],
   "source": [
    "image_test_array = img_to_array(image_test)"
   ]
  },
  {
   "cell_type": "code",
   "execution_count": 18,
   "metadata": {},
   "outputs": [
    {
     "data": {
      "text/plain": [
       "(720, 1280, 3)"
      ]
     },
     "execution_count": 18,
     "metadata": {},
     "output_type": "execute_result"
    }
   ],
   "source": [
    "image_test_array.shape"
   ]
  },
  {
   "cell_type": "code",
   "execution_count": 20,
   "metadata": {},
   "outputs": [
    {
     "data": {
      "text/plain": [
       "(1, 720, 1280, 3)"
      ]
     },
     "execution_count": 20,
     "metadata": {},
     "output_type": "execute_result"
    }
   ],
   "source": [
    "image_test_array = image_test_array.reshape((1,) + image_test_array.shape)\n",
    "image_test_array.shape"
   ]
  },
  {
   "cell_type": "markdown",
   "metadata": {},
   "source": [
    "#### Prepping data for modeling"
   ]
  },
  {
   "cell_type": "code",
   "execution_count": 27,
   "metadata": {},
   "outputs": [
    {
     "name": "stdout",
     "output_type": "stream",
     "text": [
      "Found 5002 images belonging to 2 classes.\n"
     ]
    }
   ],
   "source": [
    "train_generator = ImageDataGenerator(rescale=1./255).flow_from_directory(\n",
    "        train_images_dir,batch_size=5002)"
   ]
  },
  {
   "cell_type": "code",
   "execution_count": 28,
   "metadata": {},
   "outputs": [],
   "source": [
    "train_images, train_labels = next(train_generator)"
   ]
  },
  {
   "cell_type": "code",
   "execution_count": 29,
   "metadata": {},
   "outputs": [
    {
     "data": {
      "text/plain": [
       "(5002, 256, 256, 3)"
      ]
     },
     "execution_count": 29,
     "metadata": {},
     "output_type": "execute_result"
    }
   ],
   "source": [
    "train_images.shape"
   ]
  },
  {
   "cell_type": "code",
   "execution_count": 31,
   "metadata": {},
   "outputs": [],
   "source": [
    "# Explore dataset\n",
    "m_train = train_images.shape[0]\n",
    "num_px = train_images.shape[1]"
   ]
  },
  {
   "cell_type": "code",
   "execution_count": 32,
   "metadata": {},
   "outputs": [
    {
     "name": "stdout",
     "output_type": "stream",
     "text": [
      "Number of training samples: 5002\n",
      "train_images shape: (5002, 256, 256, 3)\n",
      "train_labels shape: (5002, 2)\n"
     ]
    }
   ],
   "source": [
    "print (\"Number of training samples: \" + str(m_train))\n",
    "print (\"train_images shape: \" + str(train_images.shape))\n",
    "print (\"train_labels shape: \" + str(train_labels.shape))"
   ]
  },
  {
   "cell_type": "markdown",
   "metadata": {},
   "source": [
    "#### Reshaping for normal neural network (flattening)"
   ]
  },
  {
   "cell_type": "code",
   "execution_count": 33,
   "metadata": {},
   "outputs": [],
   "source": [
    "train_img_nn = train_images.reshape(train_images.shape[0], -1)"
   ]
  },
  {
   "cell_type": "code",
   "execution_count": 34,
   "metadata": {},
   "outputs": [
    {
     "name": "stdout",
     "output_type": "stream",
     "text": [
      "(5002, 196608)\n"
     ]
    }
   ],
   "source": [
    "print(train_img_nn.shape)\n"
   ]
  },
  {
   "cell_type": "code",
   "execution_count": 37,
   "metadata": {},
   "outputs": [
    {
     "data": {
      "text/plain": [
       "(5002, 1)"
      ]
     },
     "execution_count": 37,
     "metadata": {},
     "output_type": "execute_result"
    }
   ],
   "source": [
    "train_y = np.reshape(train_labels[:,0], (5002,1))\n",
    "train_y.shape"
   ]
  },
  {
   "cell_type": "code",
   "execution_count": 38,
   "metadata": {},
   "outputs": [],
   "source": [
    "# attempting to create a validation set using train test split\n",
    "from sklearn.model_selection import train_test_split"
   ]
  },
  {
   "cell_type": "code",
   "execution_count": 40,
   "metadata": {},
   "outputs": [],
   "source": [
    "X_train, X_val, y_train, y_val = train_test_split(train_img_nn, train_y, test_size=0.4)"
   ]
  },
  {
   "cell_type": "code",
   "execution_count": 41,
   "metadata": {},
   "outputs": [
    {
     "name": "stdout",
     "output_type": "stream",
     "text": [
      "(3001, 196608)\n",
      "(2001, 196608)\n",
      "(3001, 1)\n",
      "(2001, 1)\n"
     ]
    }
   ],
   "source": [
    "print(X_train.shape)\n",
    "print(X_val.shape)\n",
    "print(y_train.shape)\n",
    "print(y_val.shape)"
   ]
  },
  {
   "cell_type": "code",
   "execution_count": 46,
   "metadata": {},
   "outputs": [
    {
     "name": "stdout",
     "output_type": "stream",
     "text": [
      "(3001, 196608)\n",
      "(2001, 196608)\n",
      "(3001, 1)\n",
      "(2001, 1)\n"
     ]
    }
   ],
   "source": [
    "#train_images.reshape(train_images.shape[0], -1)\n",
    "X_train_baseline = X_train.reshape(X_train.shape[0], -1)\n",
    "X_val_baseline = X_val.reshape(X_val.shape[0], -1)\n",
    "y_train_baseline = y_train.reshape(y_train.shape[0],-1)\n",
    "y_val_baseline = y_val.reshape(y_val.shape[0],-1)\n",
    "print(X_train_baseline.shape)\n",
    "print(X_val_baseline.shape)\n",
    "print(y_train_baseline.shape)\n",
    "print(y_val_baseline.shape)"
   ]
  },
  {
   "cell_type": "markdown",
   "metadata": {},
   "source": [
    "### Baseline"
   ]
  },
  {
   "cell_type": "code",
   "execution_count": 47,
   "metadata": {},
   "outputs": [],
   "source": [
    "# Build a baseline fully connected model\n",
    "from keras import models\n",
    "from keras import layers\n",
    "\n",
    "model = models.Sequential()\n",
    "model.add(layers.Dense(20, activation='relu', input_shape=(196608,))) # 2 hidden layers\n",
    "model.add(layers.Dense(7, activation='relu'))\n",
    "model.add(layers.Dense(5, activation='relu'))\n",
    "model.add(layers.Dense(1, activation='sigmoid'))"
   ]
  },
  {
   "cell_type": "code",
   "execution_count": 48,
   "metadata": {},
   "outputs": [
    {
     "name": "stdout",
     "output_type": "stream",
     "text": [
      "Epoch 1/75\n",
      "94/94 [==============================] - 7s 70ms/step - loss: 0.7370 - accuracy: 0.6108 - val_loss: 0.6796 - val_accuracy: 0.6532\n",
      "Epoch 2/75\n",
      "94/94 [==============================] - 7s 70ms/step - loss: 0.6741 - accuracy: 0.6475 - val_loss: 0.6675 - val_accuracy: 0.6532\n",
      "Epoch 3/75\n",
      "94/94 [==============================] - 7s 71ms/step - loss: 0.6649 - accuracy: 0.6475 - val_loss: 0.6599 - val_accuracy: 0.6532\n",
      "Epoch 4/75\n",
      "94/94 [==============================] - 6s 69ms/step - loss: 0.6591 - accuracy: 0.6475 - val_loss: 0.6549 - val_accuracy: 0.6532\n",
      "Epoch 5/75\n",
      "94/94 [==============================] - 6s 69ms/step - loss: 0.6554 - accuracy: 0.6475 - val_loss: 0.6517 - val_accuracy: 0.6532\n",
      "Epoch 6/75\n",
      "94/94 [==============================] - 7s 77ms/step - loss: 0.6531 - accuracy: 0.6475 - val_loss: 0.6497 - val_accuracy: 0.6532\n",
      "Epoch 7/75\n",
      "94/94 [==============================] - 8s 81ms/step - loss: 0.6516 - accuracy: 0.6475 - val_loss: 0.6484 - val_accuracy: 0.6532\n",
      "Epoch 8/75\n",
      "94/94 [==============================] - 7s 76ms/step - loss: 0.6507 - accuracy: 0.6475 - val_loss: 0.6475 - val_accuracy: 0.6532\n",
      "Epoch 9/75\n",
      "94/94 [==============================] - 7s 74ms/step - loss: 0.6502 - accuracy: 0.6475 - val_loss: 0.6469 - val_accuracy: 0.6532\n",
      "Epoch 10/75\n",
      "94/94 [==============================] - 8s 82ms/step - loss: 0.6498 - accuracy: 0.6475 - val_loss: 0.6465 - val_accuracy: 0.6532\n",
      "Epoch 11/75\n",
      "94/94 [==============================] - 10s 101ms/step - loss: 0.6495 - accuracy: 0.6475 - val_loss: 0.6462 - val_accuracy: 0.6532\n",
      "Epoch 12/75\n",
      "94/94 [==============================] - 8s 84ms/step - loss: 0.6494 - accuracy: 0.6475 - val_loss: 0.6460 - val_accuracy: 0.6532\n",
      "Epoch 13/75\n",
      "94/94 [==============================] - 7s 70ms/step - loss: 0.6493 - accuracy: 0.6475 - val_loss: 0.6459 - val_accuracy: 0.6532\n",
      "Epoch 14/75\n",
      "94/94 [==============================] - 6s 66ms/step - loss: 0.6492 - accuracy: 0.6475 - val_loss: 0.6458 - val_accuracy: 0.6532\n",
      "Epoch 15/75\n",
      "94/94 [==============================] - 6s 68ms/step - loss: 0.6491 - accuracy: 0.6475 - val_loss: 0.6457 - val_accuracy: 0.6532\n",
      "Epoch 16/75\n",
      "94/94 [==============================] - 7s 76ms/step - loss: 0.6491 - accuracy: 0.6475 - val_loss: 0.6457 - val_accuracy: 0.6532\n",
      "Epoch 17/75\n",
      "94/94 [==============================] - 7s 73ms/step - loss: 0.6491 - accuracy: 0.6475 - val_loss: 0.6457 - val_accuracy: 0.6532\n",
      "Epoch 18/75\n",
      "94/94 [==============================] - 7s 75ms/step - loss: 0.6491 - accuracy: 0.6475 - val_loss: 0.6456 - val_accuracy: 0.6532\n",
      "Epoch 19/75\n",
      "94/94 [==============================] - 7s 72ms/step - loss: 0.6491 - accuracy: 0.6475 - val_loss: 0.6456 - val_accuracy: 0.6532\n",
      "Epoch 20/75\n",
      "94/94 [==============================] - 7s 73ms/step - loss: 0.6491 - accuracy: 0.6475 - val_loss: 0.6456 - val_accuracy: 0.6532\n",
      "Epoch 21/75\n",
      "94/94 [==============================] - 7s 73ms/step - loss: 0.6490 - accuracy: 0.6475 - val_loss: 0.6456 - val_accuracy: 0.6532\n",
      "Epoch 22/75\n",
      "94/94 [==============================] - 7s 70ms/step - loss: 0.6491 - accuracy: 0.6475 - val_loss: 0.6456 - val_accuracy: 0.6532\n",
      "Epoch 23/75\n",
      "94/94 [==============================] - 6s 69ms/step - loss: 0.6490 - accuracy: 0.6475 - val_loss: 0.6455 - val_accuracy: 0.6532\n",
      "Epoch 24/75\n",
      "94/94 [==============================] - 7s 70ms/step - loss: 0.6490 - accuracy: 0.6475 - val_loss: 0.6456 - val_accuracy: 0.6532\n",
      "Epoch 25/75\n",
      "94/94 [==============================] - 7s 71ms/step - loss: 0.6491 - accuracy: 0.6475 - val_loss: 0.6456 - val_accuracy: 0.6532\n",
      "Epoch 26/75\n",
      "94/94 [==============================] - 7s 70ms/step - loss: 0.6490 - accuracy: 0.6475 - val_loss: 0.6456 - val_accuracy: 0.6532\n",
      "Epoch 27/75\n",
      "94/94 [==============================] - 7s 72ms/step - loss: 0.6491 - accuracy: 0.6475 - val_loss: 0.6456 - val_accuracy: 0.6532\n",
      "Epoch 28/75\n",
      "94/94 [==============================] - 7s 75ms/step - loss: 0.6490 - accuracy: 0.6475 - val_loss: 0.6455 - val_accuracy: 0.6532\n",
      "Epoch 29/75\n",
      "94/94 [==============================] - 7s 74ms/step - loss: 0.6490 - accuracy: 0.6475 - val_loss: 0.6455 - val_accuracy: 0.6532\n",
      "Epoch 30/75\n",
      "94/94 [==============================] - 7s 72ms/step - loss: 0.6490 - accuracy: 0.6475 - val_loss: 0.6455 - val_accuracy: 0.6532\n",
      "Epoch 31/75\n",
      "94/94 [==============================] - 7s 75ms/step - loss: 0.6490 - accuracy: 0.6475 - val_loss: 0.6455 - val_accuracy: 0.6532\n",
      "Epoch 32/75\n",
      "94/94 [==============================] - 7s 79ms/step - loss: 0.6491 - accuracy: 0.6475 - val_loss: 0.6455 - val_accuracy: 0.6532\n",
      "Epoch 33/75\n",
      "94/94 [==============================] - 7s 80ms/step - loss: 0.6491 - accuracy: 0.6475 - val_loss: 0.6455 - val_accuracy: 0.6532\n",
      "Epoch 34/75\n",
      "94/94 [==============================] - 7s 76ms/step - loss: 0.6490 - accuracy: 0.6475 - val_loss: 0.6455 - val_accuracy: 0.6532\n",
      "Epoch 35/75\n",
      "94/94 [==============================] - 7s 76ms/step - loss: 0.6490 - accuracy: 0.6475 - val_loss: 0.6455 - val_accuracy: 0.6532\n",
      "Epoch 36/75\n",
      "94/94 [==============================] - 7s 71ms/step - loss: 0.6490 - accuracy: 0.6475 - val_loss: 0.6455 - val_accuracy: 0.6532\n",
      "Epoch 37/75\n",
      "94/94 [==============================] - 7s 70ms/step - loss: 0.6490 - accuracy: 0.6475 - val_loss: 0.6455 - val_accuracy: 0.6532\n",
      "Epoch 38/75\n",
      "94/94 [==============================] - 6s 67ms/step - loss: 0.6491 - accuracy: 0.6475 - val_loss: 0.6455 - val_accuracy: 0.6532\n",
      "Epoch 39/75\n",
      "94/94 [==============================] - 6s 67ms/step - loss: 0.6490 - accuracy: 0.6475 - val_loss: 0.6455 - val_accuracy: 0.653297 - accura\n",
      "Epoch 40/75\n",
      "94/94 [==============================] - 6s 67ms/step - loss: 0.6490 - accuracy: 0.6475 - val_loss: 0.6455 - val_accuracy: 0.6532\n",
      "Epoch 41/75\n",
      "94/94 [==============================] - 6s 66ms/step - loss: 0.6490 - accuracy: 0.6475 - val_loss: 0.6455 - val_accuracy: 0.6532\n",
      "Epoch 42/75\n",
      "94/94 [==============================] - 6s 67ms/step - loss: 0.6491 - accuracy: 0.6475 - val_loss: 0.6455 - val_accuracy: 0.6532\n",
      "Epoch 43/75\n",
      "94/94 [==============================] - 6s 67ms/step - loss: 0.6490 - accuracy: 0.6475 - val_loss: 0.6455 - val_accuracy: 0.6532\n",
      "Epoch 44/75\n",
      "94/94 [==============================] - 6s 67ms/step - loss: 0.6490 - accuracy: 0.6475 - val_loss: 0.6455 - val_accuracy: 0.6532\n",
      "Epoch 45/75\n",
      "94/94 [==============================] - 6s 66ms/step - loss: 0.6490 - accuracy: 0.6475 - val_loss: 0.6455 - val_accuracy: 0.6532\n",
      "Epoch 46/75\n",
      "94/94 [==============================] - 6s 67ms/step - loss: 0.6490 - accuracy: 0.6475 - val_loss: 0.6455 - val_accuracy: 0.6532\n",
      "Epoch 47/75\n",
      "94/94 [==============================] - 6s 67ms/step - loss: 0.6490 - accuracy: 0.6475 - val_loss: 0.6455 - val_accuracy: 0.6532\n",
      "Epoch 48/75\n",
      "94/94 [==============================] - 6s 66ms/step - loss: 0.6490 - accuracy: 0.6475 - val_loss: 0.6455 - val_accuracy: 0.6532\n",
      "Epoch 49/75\n",
      "94/94 [==============================] - 6s 67ms/step - loss: 0.6490 - accuracy: 0.6475 - val_loss: 0.6455 - val_accuracy: 0.6532\n",
      "Epoch 50/75\n",
      "94/94 [==============================] - 6s 67ms/step - loss: 0.6490 - accuracy: 0.6475 - val_loss: 0.6455 - val_accuracy: 0.6532\n",
      "Epoch 51/75\n",
      "94/94 [==============================] - 6s 69ms/step - loss: 0.6490 - accuracy: 0.6475 - val_loss: 0.6455 - val_accuracy: 0.6532\n",
      "Epoch 52/75\n",
      "94/94 [==============================] - 6s 67ms/step - loss: 0.6490 - accuracy: 0.6475 - val_loss: 0.6455 - val_accuracy: 0.6532\n",
      "Epoch 53/75\n",
      "94/94 [==============================] - 6s 67ms/step - loss: 0.6490 - accuracy: 0.6475 - val_loss: 0.6455 - val_accuracy: 0.6532\n",
      "Epoch 54/75\n",
      "94/94 [==============================] - 6s 68ms/step - loss: 0.6490 - accuracy: 0.6475 - val_loss: 0.6455 - val_accuracy: 0.6532\n",
      "Epoch 55/75\n",
      "94/94 [==============================] - 7s 71ms/step - loss: 0.6491 - accuracy: 0.6475 - val_loss: 0.6455 - val_accuracy: 0.6532\n",
      "Epoch 56/75\n",
      "94/94 [==============================] - 7s 73ms/step - loss: 0.6490 - accuracy: 0.6475 - val_loss: 0.6455 - val_accuracy: 0.6532\n",
      "Epoch 57/75\n",
      "94/94 [==============================] - 7s 72ms/step - loss: 0.6490 - accuracy: 0.6475 - val_loss: 0.6455 - val_accuracy: 0.6532\n",
      "Epoch 58/75\n"
     ]
    },
    {
     "name": "stdout",
     "output_type": "stream",
     "text": [
      "94/94 [==============================] - 6s 66ms/step - loss: 0.6490 - accuracy: 0.6475 - val_loss: 0.6455 - val_accuracy: 0.6532\n",
      "Epoch 59/75\n",
      "94/94 [==============================] - 6s 66ms/step - loss: 0.6491 - accuracy: 0.6475 - val_loss: 0.6455 - val_accuracy: 0.6532\n",
      "Epoch 60/75\n",
      "94/94 [==============================] - 6s 66ms/step - loss: 0.6490 - accuracy: 0.6475 - val_loss: 0.6455 - val_accuracy: 0.6532\n",
      "Epoch 61/75\n",
      "94/94 [==============================] - 6s 66ms/step - loss: 0.6490 - accuracy: 0.6475 - val_loss: 0.6455 - val_accuracy: 0.6532\n",
      "Epoch 62/75\n",
      "94/94 [==============================] - 6s 67ms/step - loss: 0.6490 - accuracy: 0.6475 - val_loss: 0.6455 - val_accuracy: 0.6532\n",
      "Epoch 63/75\n",
      "94/94 [==============================] - 6s 65ms/step - loss: 0.6491 - accuracy: 0.6475 - val_loss: 0.6455 - val_accuracy: 0.6532\n",
      "Epoch 64/75\n",
      "94/94 [==============================] - 6s 66ms/step - loss: 0.6490 - accuracy: 0.6475 - val_loss: 0.6455 - val_accuracy: 0.6532\n",
      "Epoch 65/75\n",
      "94/94 [==============================] - 6s 66ms/step - loss: 0.6490 - accuracy: 0.6475 - val_loss: 0.6455 - val_accuracy: 0.6532\n",
      "Epoch 66/75\n",
      "94/94 [==============================] - 6s 65ms/step - loss: 0.6490 - accuracy: 0.6475 - val_loss: 0.6455 - val_accuracy: 0.6532\n",
      "Epoch 67/75\n",
      "94/94 [==============================] - 6s 67ms/step - loss: 0.6490 - accuracy: 0.6475 - val_loss: 0.6455 - val_accuracy: 0.6532\n",
      "Epoch 68/75\n",
      "94/94 [==============================] - 6s 66ms/step - loss: 0.6490 - accuracy: 0.6475 - val_loss: 0.6455 - val_accuracy: 0.6532\n",
      "Epoch 69/75\n",
      "94/94 [==============================] - 6s 69ms/step - loss: 0.6490 - accuracy: 0.6475 - val_loss: 0.6455 - val_accuracy: 0.6532\n",
      "Epoch 70/75\n",
      "94/94 [==============================] - 6s 65ms/step - loss: 0.6490 - accuracy: 0.6475 - val_loss: 0.6455 - val_accuracy: 0.6532\n",
      "Epoch 71/75\n",
      "94/94 [==============================] - 6s 66ms/step - loss: 0.6490 - accuracy: 0.6475 - val_loss: 0.6455 - val_accuracy: 0.6532\n",
      "Epoch 72/75\n",
      "94/94 [==============================] - 6s 66ms/step - loss: 0.6490 - accuracy: 0.6475 - val_loss: 0.6455 - val_accuracy: 0.6532\n",
      "Epoch 73/75\n",
      "94/94 [==============================] - 6s 66ms/step - loss: 0.6490 - accuracy: 0.6475 - val_loss: 0.6455 - val_accuracy: 0.6532\n",
      "Epoch 74/75\n",
      "94/94 [==============================] - 6s 66ms/step - loss: 0.6490 - accuracy: 0.6475 - val_loss: 0.6455 - val_accuracy: 0.6532\n",
      "Epoch 75/75\n",
      "94/94 [==============================] - 6s 65ms/step - loss: 0.6490 - accuracy: 0.6475 - val_loss: 0.6455 - val_accuracy: 0.6532\n"
     ]
    }
   ],
   "source": [
    "model.compile(optimizer='sgd',\n",
    "              loss='binary_crossentropy',\n",
    "              metrics=['accuracy'])\n",
    "\n",
    "histoire = model.fit(X_train_baseline,\n",
    "                    y_train_baseline,\n",
    "                    epochs=75,\n",
    "                    batch_size=32,\n",
    "                     validation_data = (X_val_baseline,y_val_baseline))"
   ]
  },
  {
   "cell_type": "code",
   "execution_count": 49,
   "metadata": {},
   "outputs": [
    {
     "name": "stdout",
     "output_type": "stream",
     "text": [
      "94/94 [==============================] - 2s 16ms/step - loss: 0.6490 - accuracy: 0.6475\n"
     ]
    }
   ],
   "source": [
    "results_train = model.evaluate(X_train_baseline, y_train_baseline)"
   ]
  },
  {
   "cell_type": "code",
   "execution_count": 50,
   "metadata": {},
   "outputs": [
    {
     "data": {
      "text/plain": [
       "[0.6490103602409363, 0.647450864315033]"
      ]
     },
     "execution_count": 50,
     "metadata": {},
     "output_type": "execute_result"
    }
   ],
   "source": [
    "results_train"
   ]
  },
  {
   "cell_type": "markdown",
   "metadata": {},
   "source": [
    "## reshaping for CNN"
   ]
  },
  {
   "cell_type": "code",
   "execution_count": 51,
   "metadata": {},
   "outputs": [],
   "source": [
    "X_train_cnn, X_val_cnn, y_train_cnn, y_val_cnn = train_test_split(train_images, train_labels, test_size=0.4)"
   ]
  },
  {
   "cell_type": "code",
   "execution_count": 52,
   "metadata": {},
   "outputs": [
    {
     "name": "stdout",
     "output_type": "stream",
     "text": [
      "(3001, 256, 256, 3)\n",
      "(3001, 2)\n"
     ]
    }
   ],
   "source": [
    "print(X_train_cnn.shape)\n",
    "print(y_train_cnn.shape)"
   ]
  },
  {
   "cell_type": "code",
   "execution_count": 53,
   "metadata": {},
   "outputs": [
    {
     "data": {
      "text/plain": [
       "array([[0., 1.],\n",
       "       [0., 1.],\n",
       "       [1., 0.],\n",
       "       ...,\n",
       "       [1., 0.],\n",
       "       [0., 1.],\n",
       "       [0., 1.]], dtype=float32)"
      ]
     },
     "execution_count": 53,
     "metadata": {},
     "output_type": "execute_result"
    }
   ],
   "source": [
    "y_train_cnn"
   ]
  },
  {
   "cell_type": "code",
   "execution_count": 54,
   "metadata": {},
   "outputs": [],
   "source": [
    "y_val_cnn = np.reshape(y_val_cnn[:,0], (len(y_val_cnn),1))\n",
    "y_train_cnn = np.reshape(y_train_cnn[:,0], (len(y_train_cnn),1))"
   ]
  },
  {
   "cell_type": "code",
   "execution_count": 55,
   "metadata": {},
   "outputs": [
    {
     "name": "stdout",
     "output_type": "stream",
     "text": [
      "(3001, 256, 256, 3)\n",
      "(3001, 1)\n"
     ]
    }
   ],
   "source": [
    "print(X_train_cnn.shape)\n",
    "print(y_train_cnn.shape)"
   ]
  },
  {
   "cell_type": "code",
   "execution_count": 59,
   "metadata": {},
   "outputs": [],
   "source": [
    "model = models.Sequential()\n",
    "model.add(layers.Conv2D(32, (3, 3), activation='relu',\n",
    "                        ))\n",
    "model.add(layers.MaxPooling2D((2, 2)))\n",
    "\n",
    "model.add(layers.Conv2D(32, (4, 4), activation='relu'))\n",
    "model.add(layers.MaxPooling2D((2, 2)))\n",
    "\n",
    "model.add(layers.Conv2D(64, (3, 3), activation='relu'))\n",
    "model.add(layers.MaxPooling2D((2, 2)))\n",
    "\n",
    "model.add(layers.Flatten())\n",
    "model.add(layers.Dense(64, activation='relu'))\n",
    "model.add(layers.Dense(1, activation='sigmoid'))\n",
    "\n",
    "model.compile(loss='binary_crossentropy',\n",
    "              optimizer=\"sgd\",\n",
    "              metrics=['acc'])"
   ]
  },
  {
   "cell_type": "code",
   "execution_count": 62,
   "metadata": {},
   "outputs": [
    {
     "name": "stdout",
     "output_type": "stream",
     "text": [
      "Epoch 1/10\n",
      "94/94 [==============================] - 429s 5s/step - loss: 0.5710 - acc: 0.6878 - val_loss: 0.6164 - val_acc: 0.6542\n",
      "Epoch 2/10\n",
      "94/94 [==============================] - 345s 4s/step - loss: 0.5464 - acc: 0.6968 - val_loss: 0.5650 - val_acc: 0.6897\n",
      "Epoch 3/10\n",
      "94/94 [==============================] - 311s 3s/step - loss: 0.5132 - acc: 0.7364 - val_loss: 0.5631 - val_acc: 0.6892\n",
      "Epoch 4/10\n",
      "94/94 [==============================] - 387s 4s/step - loss: 0.4962 - acc: 0.7454 - val_loss: 0.5069 - val_acc: 0.7416\n",
      "Epoch 5/10\n",
      "94/94 [==============================] - 402s 4s/step - loss: 0.4626 - acc: 0.7791 - val_loss: 0.4723 - val_acc: 0.7621\n",
      "Epoch 6/10\n",
      "94/94 [==============================] - 357s 4s/step - loss: 0.4353 - acc: 0.7941 - val_loss: 0.4458 - val_acc: 0.7841\n",
      "Epoch 7/10\n",
      "94/94 [==============================] - 349s 4s/step - loss: 0.4134 - acc: 0.8027 - val_loss: 0.4277 - val_acc: 0.7951\n",
      "Epoch 8/10\n",
      "94/94 [==============================] - 330s 4s/step - loss: 0.3774 - acc: 0.8274 - val_loss: 0.4240 - val_acc: 0.7946\n",
      "Epoch 9/10\n",
      "94/94 [==============================] - 362s 4s/step - loss: 0.3528 - acc: 0.8401 - val_loss: 0.4110 - val_acc: 0.8046\n",
      "Epoch 10/10\n",
      "94/94 [==============================] - 347s 4s/step - loss: 0.3307 - acc: 0.8524 - val_loss: 0.5167 - val_acc: 0.7601\n"
     ]
    }
   ],
   "source": [
    "history = model.fit(X_train_cnn,\n",
    "                    y_train_cnn,\n",
    "                    epochs=10,\n",
    "                    use_multiprocessing=True,\n",
    "                    validation_data = (X_val_cnn,y_val_cnn)\n",
    "                   )"
   ]
  },
  {
   "cell_type": "code",
   "execution_count": 63,
   "metadata": {},
   "outputs": [
    {
     "name": "stdout",
     "output_type": "stream",
     "text": [
      "63/63 [==============================] - 43s 682ms/step - loss: 0.5167 - acc: 0.7601\n"
     ]
    }
   ],
   "source": [
    "results_val = model.evaluate(X_val_cnn, y_val_cnn)"
   ]
  },
  {
   "cell_type": "code",
   "execution_count": 64,
   "metadata": {},
   "outputs": [
    {
     "data": {
      "text/plain": [
       "[0.5166699290275574, 0.7601199150085449]"
      ]
     },
     "execution_count": 64,
     "metadata": {},
     "output_type": "execute_result"
    }
   ],
   "source": [
    "results_val"
   ]
  },
  {
   "cell_type": "markdown",
   "metadata": {},
   "source": [
    "### Test set creation"
   ]
  },
  {
   "cell_type": "code",
   "execution_count": 65,
   "metadata": {},
   "outputs": [],
   "source": [
    "images_test_dir = 'C:/Users/User/Documents/Flatiron/Capstone/Test_data'\n"
   ]
  },
  {
   "cell_type": "code",
   "execution_count": 66,
   "metadata": {},
   "outputs": [
    {
     "name": "stdout",
     "output_type": "stream",
     "text": [
      "Found 857 images belonging to 2 classes.\n"
     ]
    }
   ],
   "source": [
    "test_generator = ImageDataGenerator(rescale=1./255).flow_from_directory(\n",
    "        images_test_dir,\n",
    "    target_size=(640, 360),\n",
    "batch_size=32)"
   ]
  },
  {
   "cell_type": "code",
   "execution_count": 67,
   "metadata": {},
   "outputs": [],
   "source": [
    "test_images, test_labels = next(test_generator)"
   ]
  },
  {
   "cell_type": "code",
   "execution_count": 68,
   "metadata": {},
   "outputs": [],
   "source": [
    "test_img = test_images.reshape(test_images.shape[0], -1)"
   ]
  },
  {
   "cell_type": "code",
   "execution_count": 69,
   "metadata": {},
   "outputs": [],
   "source": [
    "test_y = np.reshape(test_labels[:,0], (32,1))\n",
    "#test_y"
   ]
  },
  {
   "cell_type": "code",
   "execution_count": null,
   "metadata": {},
   "outputs": [],
   "source": []
  },
  {
   "cell_type": "code",
   "execution_count": null,
   "metadata": {},
   "outputs": [],
   "source": []
  },
  {
   "cell_type": "code",
   "execution_count": null,
   "metadata": {},
   "outputs": [],
   "source": []
  }
 ],
 "metadata": {
  "kernelspec": {
   "display_name": "Python (learn-env)",
   "language": "python",
   "name": "learn-env"
  },
  "language_info": {
   "codemirror_mode": {
    "name": "ipython",
    "version": 3
   },
   "file_extension": ".py",
   "mimetype": "text/x-python",
   "name": "python",
   "nbconvert_exporter": "python",
   "pygments_lexer": "ipython3",
   "version": "3.8.5"
  }
 },
 "nbformat": 4,
 "nbformat_minor": 4
}
